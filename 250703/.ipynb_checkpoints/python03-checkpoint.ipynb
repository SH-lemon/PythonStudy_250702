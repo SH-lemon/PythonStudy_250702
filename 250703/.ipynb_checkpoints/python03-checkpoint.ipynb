{
 "cells": [
  {
   "cell_type": "markdown",
   "id": "e49e3dc2-9502-4206-81dc-81db4aa551ef",
   "metadata": {},
   "source": [
    "#### 함수(function)\n",
    "\n",
    "- 함수는 선언 & 호출 개념\n",
    "- 인자값 혹은 인수\n",
    "- 함수를 선언하는 단계에서는 매개변수를 지정한다고 하고, 실제로 함수를 호출하는 단계에서는 이미 지정해놓은 매개변수의 공간에 입력할 값을 인자값 혹은 인수라고 부름\n",
    "- 매개변수를 지정했다면 반드시 인자값을 넣어야 한다.\n",
    "- 매개변수와 인자값의 개수는 반드시 일치해야한다.\n",
    "  ```\n",
    "  def 함수이름(인자값/인수) :\n",
    "      실행문\n",
    "      return 반환하고자 하는 값 입력\n",
    "  ```"
   ]
  },
  {
   "cell_type": "code",
   "execution_count": 5,
   "id": "8f192a22-08fc-4d33-846f-08b8239683c9",
   "metadata": {},
   "outputs": [],
   "source": [
    "def func1() :\n",
    "    print(\"Hello\")\n",
    "    print(\"Hello\")\n",
    "    print(\"Hello\")\n",
    "    print(\"Hello\")"
   ]
  },
  {
   "cell_type": "code",
   "execution_count": 6,
   "id": "2b076da0-45f2-4f01-af0c-075a1b172d9c",
   "metadata": {},
   "outputs": [
    {
     "name": "stdout",
     "output_type": "stream",
     "text": [
      "Hello\n",
      "Hello\n",
      "Hello\n",
      "Hello\n"
     ]
    }
   ],
   "source": [
    "func1()"
   ]
  },
  {
   "cell_type": "code",
   "execution_count": 17,
   "id": "c0f89fa0-3593-4a54-9fa1-738c22ae62e6",
   "metadata": {},
   "outputs": [],
   "source": [
    "def func2(parameter01, parameter02) :\n",
    "    print(f\"Hello, {parameter01}, {parameter02}\")\n",
    "    return f\"Hello, {parameter01}, {parameter02}\""
   ]
  },
  {
   "cell_type": "code",
   "execution_count": 18,
   "id": "bdca0a6d-2eb8-41d9-9e57-fe0540c1c720",
   "metadata": {},
   "outputs": [
    {
     "name": "stdout",
     "output_type": "stream",
     "text": [
      "Hello, Jay, Mira\n"
     ]
    },
    {
     "data": {
      "text/plain": [
       "'Hello, Jay, Mira'"
      ]
     },
     "execution_count": 18,
     "metadata": {},
     "output_type": "execute_result"
    }
   ],
   "source": [
    "func2(\"Jay\", \"Mira\")"
   ]
  },
  {
   "cell_type": "code",
   "execution_count": 16,
   "id": "28e820b3-9c05-40cc-ab68-92a63ef63479",
   "metadata": {},
   "outputs": [
    {
     "name": "stdout",
     "output_type": "stream",
     "text": [
      "Hello, Python, World\n"
     ]
    },
    {
     "data": {
      "text/plain": [
       "'Hello, Python, World'"
      ]
     },
     "execution_count": 16,
     "metadata": {},
     "output_type": "execute_result"
    }
   ],
   "source": [
    "result = func2(\"Python\",\"World\")\n",
    "result"
   ]
  },
  {
   "cell_type": "code",
   "execution_count": 29,
   "id": "8eaad70e-0f19-4fa9-b08d-a53f89b5d52f",
   "metadata": {},
   "outputs": [],
   "source": [
    "def sum(a,b) :\n",
    "    c=1\n",
    "    result02 = a+b\n",
    "    return(result02)\n",
    "a=1 #전역변수 = global"
   ]
  },
  {
   "cell_type": "code",
   "execution_count": 24,
   "id": "9d16bedf-9667-458e-b331-473b91fb4928",
   "metadata": {},
   "outputs": [
    {
     "data": {
      "text/plain": [
       "3"
      ]
     },
     "execution_count": 24,
     "metadata": {},
     "output_type": "execute_result"
    }
   ],
   "source": [
    "sum(1,2)"
   ]
  },
  {
   "cell_type": "code",
   "execution_count": 30,
   "id": "c5a56906-b7fa-4b3e-be9b-e1be9bf15dad",
   "metadata": {},
   "outputs": [
    {
     "name": "stdout",
     "output_type": "stream",
     "text": [
      "1\n",
      "2\n",
      "3\n"
     ]
    }
   ],
   "source": [
    "for item in [1,2,3]:\n",
    "    print(item) #item => 블록변수block"
   ]
  },
  {
   "cell_type": "code",
   "execution_count": 33,
   "id": "edca935f-4cdc-4f51-b1d3-675deff4aa10",
   "metadata": {},
   "outputs": [],
   "source": [
    "def func7(a):\n",
    "    result07 = a,a+1\n",
    "    return result07"
   ]
  },
  {
   "cell_type": "code",
   "execution_count": 34,
   "id": "1e83aa17-68fa-429e-938c-712521b34638",
   "metadata": {},
   "outputs": [
    {
     "name": "stdout",
     "output_type": "stream",
     "text": [
      "(4, 5)\n",
      "<class 'tuple'>\n"
     ]
    }
   ],
   "source": [
    "result07 = func7(4)\n",
    "print(result07)\n",
    "print(type(result07))"
   ]
  },
  {
   "cell_type": "code",
   "execution_count": 35,
   "id": "b15bdcb0-0244-4e40-951b-45cd86b3249e",
   "metadata": {},
   "outputs": [
    {
     "name": "stdout",
     "output_type": "stream",
     "text": [
      "<class 'str'>\n",
      "<class 'int'>\n",
      "<class 'bool'>\n",
      "<class 'list'>\n"
     ]
    }
   ],
   "source": [
    "print(type(\"str\"))\n",
    "print(type(1))\n",
    "print(type(True))\n",
    "print(type([1,2,3]))"
   ]
  },
  {
   "cell_type": "code",
   "execution_count": 52,
   "id": "15760ba2-3822-4743-86de-b389c94792a2",
   "metadata": {},
   "outputs": [],
   "source": [
    "def id_check(id):\n",
    "    if id == \"admin\":\n",
    "        print(\"invalid id : admin\")\n",
    "        return\n",
    "    print(\"valid id : \",id)"
   ]
  },
  {
   "cell_type": "code",
   "execution_count": 50,
   "id": "9650b88d-d81f-4776-8920-70fbefa841ab",
   "metadata": {},
   "outputs": [
    {
     "name": "stdout",
     "output_type": "stream",
     "text": [
      "valid id :  Jay\n"
     ]
    }
   ],
   "source": [
    "id_check(\"Jay\")"
   ]
  }
 ],
 "metadata": {
  "kernelspec": {
   "display_name": "Python [conda env:base] *",
   "language": "python",
   "name": "conda-base-py"
  },
  "language_info": {
   "codemirror_mode": {
    "name": "ipython",
    "version": 3
   },
   "file_extension": ".py",
   "mimetype": "text/x-python",
   "name": "python",
   "nbconvert_exporter": "python",
   "pygments_lexer": "ipython3",
   "version": "3.13.5"
  }
 },
 "nbformat": 4,
 "nbformat_minor": 5
}
