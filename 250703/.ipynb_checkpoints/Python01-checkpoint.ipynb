{
 "cells": [
  {
   "cell_type": "markdown",
   "id": "66f0d480-2a82-4989-9d30-0852c0954fd9",
   "metadata": {},
   "source": [
    "- 사용자로부터 점수를 입력받은 후 등급을 출력하세요.\n",
    "  - (A: 100 ~ 81, B: 80 ~ 61, C: 60 ~ 0)"
   ]
  },
  {
   "cell_type": "code",
   "execution_count": 5,
   "id": "f1d03168-b4da-4921-ac6f-dcedba2fcc8c",
   "metadata": {},
   "outputs": [
    {
     "name": "stdin",
     "output_type": "stream",
     "text": [
      "점수는? 2\n"
     ]
    },
    {
     "name": "stdout",
     "output_type": "stream",
     "text": [
      "C\n"
     ]
    }
   ],
   "source": [
    "score = int(input(\"점수는?\"))\n",
    "if score >=81 and score <=100:\n",
    "    print(\"A\")\n",
    "elif score >=61 and score<=80:\n",
    "    print(\"B\")\n",
    "elif score <=60 and score >= 0:\n",
    "    print(\"C\")"
   ]
  },
  {
   "cell_type": "markdown",
   "id": "a115d6ce-9d1f-40a0-9adf-19966d6b397d",
   "metadata": {},
   "source": [
    "- 사용자로부터 주민등록번호를 입력받아서 출생연도만 확인 후 출력해주세요."
   ]
  },
  {
   "cell_type": "code",
   "execution_count": 15,
   "id": "97973f5a-744e-4732-8a2f-0444d0ec86d8",
   "metadata": {},
   "outputs": [
    {
     "name": "stdin",
     "output_type": "stream",
     "text": [
      "주민등록번호가 무엇인가요? 321532153\n"
     ]
    },
    {
     "name": "stdout",
     "output_type": "stream",
     "text": [
      "32 년생입니다!\n"
     ]
    }
   ],
   "source": [
    "num = str(input(\"주민등록번호가 무엇인가요?\"))\n",
    "print(num[0:2],\"년생입니다!\")"
   ]
  },
  {
   "cell_type": "code",
   "execution_count": 20,
   "id": "0efa28b6-6eb4-48fa-928e-65d87f4b1a3e",
   "metadata": {},
   "outputs": [
    {
     "name": "stdin",
     "output_type": "stream",
     "text": [
      "주민등록번호입력 3215243153421\n"
     ]
    },
    {
     "name": "stdout",
     "output_type": "stream",
     "text": [
      "32년생\n"
     ]
    }
   ],
   "source": [
    "data = input(\"주민등록번호입력\")\n",
    "age = data.split(\"-\")\n",
    "print (f\"{age[0][0:2]}년생\")"
   ]
  },
  {
   "cell_type": "markdown",
   "id": "46b5a9b5-23d3-4098-ad6e-912fd1a8cebe",
   "metadata": {},
   "source": [
    "- 사용자로부터 주민등록번호를 입력받아서 성별을 \"남성\" 또는 \"여성\"으로 출력해주세요.\n",
    "- 주민등록번호 뒷자리 첫번째 숫자가 1=>남성 // 2=>여성"
   ]
  },
  {
   "cell_type": "code",
   "execution_count": 32,
   "id": "1752744c-7ae3-4117-aef2-bd9a51ad8cbc",
   "metadata": {},
   "outputs": [
    {
     "name": "stdin",
     "output_type": "stream",
     "text": [
      "주민등록번호 입력 990101 - 1234567\n"
     ]
    },
    {
     "name": "stdout",
     "output_type": "stream",
     "text": [
      "여성입니다\n"
     ]
    }
   ],
   "source": [
    "num0 = input(\"주민등록번호 입력\")\n",
    "num01 = num0.split(\"-\")[1][0]\n",
    "if num01 == \"1\" :\n",
    "    print(\"남성입니다\")\n",
    "else:\n",
    "    print(\"여성입니다\")"
   ]
  },
  {
   "cell_type": "code",
   "execution_count": 21,
   "id": "4f8a9783-12fe-496a-8cc2-40a52235387c",
   "metadata": {},
   "outputs": [
    {
     "name": "stdout",
     "output_type": "stream",
     "text": [
      "a man goes into the room\n"
     ]
    }
   ],
   "source": [
    "mystr = \"a man goes into the room...\"\n",
    "\n",
    "result = mystr.strip(\".\")\n",
    "print(result)"
   ]
  },
  {
   "cell_type": "code",
   "execution_count": 36,
   "id": "a53aabb9-0b67-4954-9b91-a1ae399a2075",
   "metadata": {},
   "outputs": [
    {
     "data": {
      "text/plain": [
       "'000770'"
      ]
     },
     "execution_count": 36,
     "metadata": {},
     "output_type": "execute_result"
    }
   ],
   "source": [
    "code = \"\\t000770\\n\"\n",
    "code.strip()\n",
    "\n",
    "# stip() : 문자열 앞, 뒤 상관없이 공백이라고 판단되는 문자열(*공백, 개행, 탭 등등)을 모두 제거하는 역할을 하는 매서드 함수"
   ]
  },
  {
   "cell_type": "code",
   "execution_count": 41,
   "id": "4a254436-cbef-4fa2-a850-9784ba00af2e",
   "metadata": {},
   "outputs": [
    {
     "name": "stdout",
     "output_type": "stream",
     "text": [
      "3\n",
      "0\n"
     ]
    }
   ],
   "source": [
    "python_desc = \"Installing Python is generally easy, and nowadays many Linux and UNIX distributions include a recent Python. Even some Windows computers (notably those from HP) now come with Python already installed.\"\n",
    "print(python_desc.count(\"Python\"))\n",
    "print(python_desc.count(\"python\"))"
   ]
  },
  {
   "cell_type": "markdown",
   "id": "774801c8-e713-4653-bbfa-1445f6c564e5",
   "metadata": {},
   "source": [
    "- 사용자로부터 note라는 문자열을 받았다고 가정하세요. 그리고 해당 문자열 안에 n이 들어가있는지 확인 후 n이 들어가있으면 숫자 0을 출력하고, 만약 그렇지 않다면 1을 출력하세요."
   ]
  },
  {
   "cell_type": "code",
   "execution_count": 46,
   "id": "25a48316-b796-43ed-b03c-a9667a2248e7",
   "metadata": {},
   "outputs": [
    {
     "name": "stdin",
     "output_type": "stream",
     "text": [
      " note\n"
     ]
    },
    {
     "name": "stdout",
     "output_type": "stream",
     "text": [
      "0\n"
     ]
    }
   ],
   "source": [
    "note = input(\"\")\n",
    "\n",
    "var = note.find(\"n\")\n",
    "\n",
    "if var == 0 :\n",
    "    print(0)\n",
    "else:\n",
    "    print(-1)\n",
    "# 일반적으로 프로그래밍언어는 true, false값을 가진다.\n",
    "# truethy, falsy => 참인듯한 값, 거짓인듯한 값\n",
    "# 0, null, undefined => falsy\n",
    "# 파이썬 => 0 => truethy, -1 => falsy"
   ]
  },
  {
   "cell_type": "markdown",
   "id": "c08600f2-15c7-4202-852b-f48993e9511b",
   "metadata": {},
   "source": [
    "- 사용자로부터 주민번호를 입력받은 후 출생지를 확인, 출력해주세요\n",
    "- 뒤 8자리 중 2~3번째 숫자가 출생지\"00~08: 서울, 09~12: 부산\""
   ]
  },
  {
   "cell_type": "code",
   "execution_count": 49,
   "id": "998d5d8f-ca84-4fa6-9fc4-944de8456a2c",
   "metadata": {},
   "outputs": [
    {
     "name": "stdin",
     "output_type": "stream",
     "text": [
      " 990101-111234\n"
     ]
    },
    {
     "name": "stdout",
     "output_type": "stream",
     "text": [
      "부산\n"
     ]
    }
   ],
   "source": [
    "num1 = input(\"\")\n",
    "num2 = int(num1.split(\"-\")[1][1:3])\n",
    "if num2 >= 0 and num2<=8:\n",
    "    print(\"서울\")\n",
    "elif num2 >=9 and num2<=12:\n",
    "    print(\"부산\")"
   ]
  }
 ],
 "metadata": {
  "kernelspec": {
   "display_name": "Python [conda env:base] *",
   "language": "python",
   "name": "conda-base-py"
  },
  "language_info": {
   "codemirror_mode": {
    "name": "ipython",
    "version": 3
   },
   "file_extension": ".py",
   "mimetype": "text/x-python",
   "name": "python",
   "nbconvert_exporter": "python",
   "pygments_lexer": "ipython3",
   "version": "3.13.5"
  }
 },
 "nbformat": 4,
 "nbformat_minor": 5
}
