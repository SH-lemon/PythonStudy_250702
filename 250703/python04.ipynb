{
 "cells": [
  {
   "cell_type": "markdown",
   "id": "e7d42ee8-6d82-430b-aeea-021f52e1c168",
   "metadata": {},
   "source": [
    "#### 자료구조 형태\n",
    "- 숫자, 문자, 불리언\n",
    "- 리스트(list)\n",
    "- 튜플(Tuple)\n",
    "  - 리스트와 달리 튜플은 소괄호 형태를 띄고 있다.\n",
    "  - 튜플은 최초 생성 후 값을 삭제, 추가할 수 없다.\n",
    "  - 단, 튜플 간 병합기능 혹은 튜플 자체의 복제 등은 가능함\n",
    "  - 튜플은 리스트처럼 이터러블한 객체 속성을 가지고 있음 => 반복문을 사용할 수 있음 & 튜플 내부 아이템들은 각각 저마다의 고유한 인덱스값을 가지고 있다는 의미이기도 함.\n",
    "  - 함수의 반환값으로 찾아온 값을 활용해서 일반 변수 안에 값을 넣을 때, 구조분해할당의 형식으로 값을 전달할 수 있음\n",
    "  - 튜플을 수정, 편집, 삭제를 하고 싶다면 리스트로 바꿔주세요=> list(튜플자료형) => 리스트가 됨"
   ]
  },
  {
   "cell_type": "code",
   "execution_count": 3,
   "id": "33bcfae2-7fa4-4aad-a5dd-4cff2a122f57",
   "metadata": {},
   "outputs": [
    {
     "name": "stdout",
     "output_type": "stream",
     "text": [
      "<class 'list'>\n",
      "<class 'tuple'>\n"
     ]
    }
   ],
   "source": [
    "listItems = []\n",
    "tupleItems = (1,2,3)\n",
    "\n",
    "print(type(listItems))\n",
    "print(type(tupleItems))"
   ]
  },
  {
   "cell_type": "code",
   "execution_count": 4,
   "id": "d491ddf2-4d90-4e78-a30e-6a43122dee1d",
   "metadata": {},
   "outputs": [
    {
     "name": "stdout",
     "output_type": "stream",
     "text": [
      "1\n",
      "2\n",
      "3\n"
     ]
    }
   ],
   "source": [
    "for item in tupleItems:\n",
    "    print(item)"
   ]
  },
  {
   "cell_type": "code",
   "execution_count": 9,
   "id": "5a10df6e-f240-4c66-b576-332a6342d884",
   "metadata": {},
   "outputs": [
    {
     "name": "stdout",
     "output_type": "stream",
     "text": [
      "(1, 2, 3, 4)\n",
      "(1, 2, 1, 2, 1, 2)\n"
     ]
    }
   ],
   "source": [
    "# del tupleItems[1]\n",
    "# tupleItems.appen(4)\n",
    "# tupleItems[4] = 4\n",
    "\n",
    "tuple01 = (1,2)\n",
    "tuple02 = (3,4)\n",
    "print(tuple01+tuple02)\n",
    "print(tuple01*3)"
   ]
  },
  {
   "cell_type": "code",
   "execution_count": 16,
   "id": "ff425aeb-cdc6-47ea-b567-e518b25eb8c1",
   "metadata": {},
   "outputs": [],
   "source": [
    "x=1\n",
    "y=2"
   ]
  },
  {
   "cell_type": "code",
   "execution_count": 17,
   "id": "bf607bf2-0ffb-4f98-99c5-1b42a2d4801b",
   "metadata": {},
   "outputs": [],
   "source": [
    "# temp =x\n",
    "# x=y\n",
    "# y=temp"
   ]
  },
  {
   "cell_type": "code",
   "execution_count": 18,
   "id": "38ad1bd9-53ba-4406-9dd1-63a08e978218",
   "metadata": {},
   "outputs": [],
   "source": [
    "x,y=y,x"
   ]
  },
  {
   "cell_type": "code",
   "execution_count": 21,
   "id": "e3db1866-1a67-4405-b46a-8579a8e8b129",
   "metadata": {},
   "outputs": [
    {
     "data": {
      "text/plain": [
       "2"
      ]
     },
     "execution_count": 21,
     "metadata": {},
     "output_type": "execute_result"
    }
   ],
   "source": [
    "x"
   ]
  },
  {
   "cell_type": "code",
   "execution_count": 23,
   "id": "5176689b-95aa-43a3-a580-f3a67e9332c1",
   "metadata": {},
   "outputs": [],
   "source": [
    "def quot_and_rem(x,y) :\n",
    "    quot = x//y\n",
    "    rem = x%y\n",
    "    return quot,rem"
   ]
  },
  {
   "cell_type": "code",
   "execution_count": 26,
   "id": "08b61b93-105e-4c1a-8a59-678c33740ea0",
   "metadata": {},
   "outputs": [],
   "source": [
    "(quot01,rem01) = quot_and_rem(10,3)"
   ]
  },
  {
   "cell_type": "code",
   "execution_count": 28,
   "id": "a17733cc-cf69-4c5c-8abb-8f1adfc4ae1f",
   "metadata": {},
   "outputs": [
    {
     "data": {
      "text/plain": [
       "3"
      ]
     },
     "execution_count": 28,
     "metadata": {},
     "output_type": "execute_result"
    }
   ],
   "source": [
    "quot01"
   ]
  },
  {
   "cell_type": "code",
   "execution_count": 30,
   "id": "32507489-074f-4a0f-9f7d-d8261d701b15",
   "metadata": {},
   "outputs": [
    {
     "data": {
      "text/plain": [
       "1"
      ]
     },
     "execution_count": 30,
     "metadata": {},
     "output_type": "execute_result"
    }
   ],
   "source": [
    "rem01"
   ]
  },
  {
   "cell_type": "code",
   "execution_count": 32,
   "id": "f308c15b-7713-4912-86c9-82f464e34440",
   "metadata": {},
   "outputs": [
    {
     "data": {
      "text/plain": [
       "tuple"
      ]
     },
     "execution_count": 32,
     "metadata": {},
     "output_type": "execute_result"
    }
   ],
   "source": [
    "datal = (1,2,3)\n",
    "type(datal)"
   ]
  },
  {
   "cell_type": "code",
   "execution_count": 33,
   "id": "4ae6ac6b-0f11-44ad-a1c0-45da61f1b438",
   "metadata": {},
   "outputs": [
    {
     "data": {
      "text/plain": [
       "[1, 2, 3]"
      ]
     },
     "execution_count": 33,
     "metadata": {},
     "output_type": "execute_result"
    }
   ],
   "source": [
    "list(datal)"
   ]
  }
 ],
 "metadata": {
  "kernelspec": {
   "display_name": "Python [conda env:base] *",
   "language": "python",
   "name": "conda-base-py"
  },
  "language_info": {
   "codemirror_mode": {
    "name": "ipython",
    "version": 3
   },
   "file_extension": ".py",
   "mimetype": "text/x-python",
   "name": "python",
   "nbconvert_exporter": "python",
   "pygments_lexer": "ipython3",
   "version": "3.13.5"
  }
 },
 "nbformat": 4,
 "nbformat_minor": 5
}
