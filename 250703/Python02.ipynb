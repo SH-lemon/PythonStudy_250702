{
 "cells": [
  {
   "cell_type": "markdown",
   "id": "a20b7e18-9097-4a04-acdb-2dad12642364",
   "metadata": {},
   "source": [
    "#### 반복문\n",
    "\n",
    "```\n",
    "for 변수 in (리스트ㅣㅣ문자열 => 이터러블한 객체속성을 가지고 있는 자료구조)\n",
    "    실행문\n",
    "while 조건:\n",
    "    실행문\n",
    "```"
   ]
  },
  {
   "cell_type": "code",
   "execution_count": 1,
   "id": "efbaa6d9-06ce-4061-8fcf-b4ef96811a2e",
   "metadata": {},
   "outputs": [
    {
     "name": "stdout",
     "output_type": "stream",
     "text": [
      "python\n",
      "TS\n",
      "Node\n"
     ]
    }
   ],
   "source": [
    "lan = [\"python\", \"TS\", \"Node\"]\n",
    "\n",
    "for item in lan:\n",
    "    print(item)"
   ]
  },
  {
   "cell_type": "code",
   "execution_count": 3,
   "id": "aa71768b-8c99-450b-946b-4ccf2311391b",
   "metadata": {},
   "outputs": [
    {
     "name": "stdout",
     "output_type": "stream",
     "text": [
      "python\n",
      "TS\n",
      "Node\n"
     ]
    }
   ],
   "source": [
    "for item in [\"python\", \"TS\", \"Node\"]:\n",
    "    print(item)"
   ]
  },
  {
   "cell_type": "code",
   "execution_count": 11,
   "id": "379deadd-c75c-4b0f-8013-2a7b82f8ead6",
   "metadata": {},
   "outputs": [
    {
     "name": "stdin",
     "output_type": "stream",
     "text": [
      "최애 음식은? 햄버거\n",
      "최애 음식은? 피자\n",
      "최애 음식은? 칰치킨\n"
     ]
    }
   ],
   "source": [
    "for num in range(1,4):\n",
    "    input(\"최애 음식은?\")"
   ]
  },
  {
   "cell_type": "code",
   "execution_count": 12,
   "id": "982b47b2-5089-4ca6-bfc4-3b9a37036ae5",
   "metadata": {},
   "outputs": [
    {
     "data": {
      "text/plain": [
       "range(0, 3)"
      ]
     },
     "execution_count": 12,
     "metadata": {},
     "output_type": "execute_result"
    }
   ],
   "source": [
    "range(3)"
   ]
  },
  {
   "cell_type": "code",
   "execution_count": 13,
   "id": "2640e035-3d00-4690-9217-db5ecbd5dd7e",
   "metadata": {},
   "outputs": [
    {
     "name": "stdout",
     "output_type": "stream",
     "text": [
      "list1\n",
      "list2\n",
      "list3\n"
     ]
    }
   ],
   "source": [
    "data_list = [\"list1\",\"list2\",\"list3\"]\n",
    "for index in data_list:\n",
    "    print (index)"
   ]
  },
  {
   "cell_type": "code",
   "execution_count": 20,
   "id": "d18977fc-626d-4d2c-a776-d2425f39d3ff",
   "metadata": {},
   "outputs": [
    {
     "data": {
      "text/plain": [
       "-55"
      ]
     },
     "execution_count": 20,
     "metadata": {},
     "output_type": "execute_result"
    }
   ],
   "source": [
    "sum = 0 #전역변수\n",
    "\n",
    "for index in range(1,11):\n",
    "   # sum = sum+index\n",
    "    #복합대입연산자\n",
    "    # sum+=index\n",
    "    sum -=index\n",
    "\n",
    "sum"
   ]
  },
  {
   "cell_type": "markdown",
   "id": "0f159b5f-9729-421b-9eaa-b3d93c299828",
   "metadata": {},
   "source": [
    "- 1부터 10까지의 숫자에 대해 모두 더한 값을 출력하는 프로그램을 for문을 활용해서 작성해주세요."
   ]
  }
 ],
 "metadata": {
  "kernelspec": {
   "display_name": "Python [conda env:base] *",
   "language": "python",
   "name": "conda-base-py"
  },
  "language_info": {
   "codemirror_mode": {
    "name": "ipython",
    "version": 3
   },
   "file_extension": ".py",
   "mimetype": "text/x-python",
   "name": "python",
   "nbconvert_exporter": "python",
   "pygments_lexer": "ipython3",
   "version": "3.13.5"
  }
 },
 "nbformat": 4,
 "nbformat_minor": 5
}
