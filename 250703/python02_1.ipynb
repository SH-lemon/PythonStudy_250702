{
 "cells": [
  {
   "cell_type": "markdown",
   "id": "07311e44-d81a-414c-bbb1-d786266365c2",
   "metadata": {},
   "source": [
    "- 1~10까지의 숫자에 대해 모두 더한 값을 출력하는 프로그램을 for문을 활용해서 작성해주세요\n",
    "- 사용자로부터 2~9사이의 숫자를 입력받은 후 해당 숫자에 대한 구구단을 출력해주세요"
   ]
  },
  {
   "cell_type": "code",
   "execution_count": 6,
   "id": "e5860559-a86c-4c8c-9900-ececb986df0c",
   "metadata": {},
   "outputs": [
    {
     "data": {
      "text/plain": [
       "55"
      ]
     },
     "execution_count": 6,
     "metadata": {},
     "output_type": "execute_result"
    }
   ],
   "source": [
    "sum = 0\n",
    "for index in range(1,11):\n",
    "    sum = sum + index\n",
    "\n",
    "sum"
   ]
  },
  {
   "cell_type": "code",
   "execution_count": 9,
   "id": "d508cf82-48a0-4657-b951-5fd20e01d0fa",
   "metadata": {},
   "outputs": [
    {
     "name": "stdin",
     "output_type": "stream",
     "text": [
      "구구단을 위한 숫자를 입력해주세요 5\n"
     ]
    },
    {
     "name": "stdout",
     "output_type": "stream",
     "text": [
      "5x1=5\n",
      "5x2=10\n",
      "5x3=15\n",
      "5x4=20\n",
      "5x5=25\n",
      "5x6=30\n",
      "5x7=35\n",
      "5x8=40\n",
      "5x9=45\n"
     ]
    }
   ],
   "source": [
    "num = int(input(\"구구단을 위한 숫자를 입력해주세요\"))\n",
    "if num >= 2 and num <= 9:\n",
    "    for m in range (1,10):\n",
    "        print(f\"{num}x{m}={num*m}\")\n",
    "else: \n",
    "    print(\"2~9 사이의 숫자만 입력해주세요!\")"
   ]
  },
  {
   "cell_type": "markdown",
   "id": "a0bb1834-47ac-40da-905c-60a79c75b353",
   "metadata": {},
   "source": [
    "- name = \"[Dave], [David], [Andy], [Juliet]\"\n",
    "- 위 name이라는 변수 안에 담긴 값을 다음처럼 화면에 출력해주세요\n",
    "  ```\n",
    "  Dave\n",
    "  David\n",
    "  Andy\n",
    "  Juliet\n",
    "  ```"
   ]
  },
  {
   "cell_type": "code",
   "execution_count": 39,
   "id": "59ed284f-b1a5-4948-92e1-e7ce62d14f10",
   "metadata": {},
   "outputs": [
    {
     "name": "stdout",
     "output_type": "stream",
     "text": [
      "Dave\n",
      "David\n",
      "Andy\n",
      "Juliet\n"
     ]
    }
   ],
   "source": [
    "name = \"[Dave],[David],[Andy],[Juliet]\"\n",
    "\n",
    "name01 = name.split(\",\")\n",
    "for str_name in name01 :\n",
    "    print(str_name[1:][:-1])"
   ]
  },
  {
   "cell_type": "markdown",
   "id": "c2eb9c3a-1f6b-4346-9c3c-56ff96e8e5f7",
   "metadata": {},
   "source": [
    "- 1부터 30까지의 숫자 중 3의 배수만 출력해주세요 (*while문 활용)"
   ]
  },
  {
   "cell_type": "code",
   "execution_count": 46,
   "id": "92c9461b-473d-4f08-bbe0-c80e6175ebe1",
   "metadata": {},
   "outputs": [
    {
     "name": "stdout",
     "output_type": "stream",
     "text": [
      "3\n",
      "6\n",
      "9\n",
      "12\n",
      "15\n",
      "18\n",
      "21\n",
      "24\n",
      "27\n",
      "30\n"
     ]
    }
   ],
   "source": [
    "    #1부터 30까지의 숫자를 반복문을 활용해서 생성 및 찾아오기\n",
    "#생성 및 찾아온 숫자 중에서 3의 배수를 찾는다 => 3으로 나누었을 때, 나머지의 값이 0 => %\n",
    "num = 0\n",
    "\n",
    "while num<=30:\n",
    "        num +=1\n",
    "        if num%3 == 0:\n",
    "            print(num)"
   ]
  },
  {
   "cell_type": "markdown",
   "id": "f8b9d5da-8c93-4180-aa2c-475f63d83595",
   "metadata": {},
   "source": [
    "- 1부터 30까지의 숫자 중 3의 배수만 출력해주세요 (*for문 사용)"
   ]
  },
  {
   "cell_type": "code",
   "execution_count": 50,
   "id": "44e36755-c4e3-4c08-923e-b1dca4a8a5ec",
   "metadata": {},
   "outputs": [
    {
     "name": "stdout",
     "output_type": "stream",
     "text": [
      "3\n",
      "6\n",
      "9\n",
      "12\n",
      "15\n",
      "18\n",
      "21\n",
      "24\n",
      "27\n",
      "30\n"
     ]
    }
   ],
   "source": [
    "for data in range(1,31):\n",
    "    if data % 3 == 0:\n",
    "        print(data)"
   ]
  },
  {
   "cell_type": "markdown",
   "id": "ee36cbe5-b835-40f7-bcf9-2db694f78ba4",
   "metadata": {},
   "source": [
    "- 다음 리스트 자료구조에서 음수값은 삭제하고, 양수값만 가지고 있는 새로운 리스트 변수로 만들어서 출력해주세요.\n",
    "- num_list[0, -11, 31, 22, -11, 33, -44, -55]"
   ]
  },
  {
   "cell_type": "code",
   "execution_count": 68,
   "id": "1f39edea-5aaf-46a7-9af2-5ebda562324e",
   "metadata": {},
   "outputs": [
    {
     "data": {
      "text/plain": [
       "[0, 31, 22, 33]"
      ]
     },
     "execution_count": 68,
     "metadata": {},
     "output_type": "execute_result"
    }
   ],
   "source": [
    "num_list = [0,-11,31,22,-11,33,-44,-55]\n",
    "listA = list()\n",
    "\n",
    "for num in num_list:\n",
    "   if num >= 0 :\n",
    "       listA.append(num)\n",
    "\n",
    "listA"
   ]
  },
  {
   "cell_type": "markdown",
   "id": "b25bc5c3-24c3-494f-914b-588044637b57",
   "metadata": {},
   "source": [
    "- 아래 리스트에 있는 데이터들의 길이를 출력해주세요. (단, 1줄에 1개씩 구분해서 출력)\n",
    "- list_data = [\"Java\",\"C++\",\"Python\",\"Node\"]\n",
    "\n",
    "```\n",
    "4\n",
    "3\n",
    "6\n",
    "4\n",
    "```"
   ]
  },
  {
   "cell_type": "code",
   "execution_count": 73,
   "id": "cfc653db-813b-47b8-b294-9fbeb72d8f6c",
   "metadata": {},
   "outputs": [
    {
     "name": "stdout",
     "output_type": "stream",
     "text": [
      "4\n",
      "3\n",
      "6\n",
      "4\n"
     ]
    }
   ],
   "source": [
    "list_data = [\"Java\",\"C++\",\"Python\",\"Node\"]\n",
    "\n",
    "for index in list_data:\n",
    "    print(len(index))"
   ]
  },
  {
   "cell_type": "markdown",
   "id": "195b379c-2596-4432-9671-523a235a18f5",
   "metadata": {},
   "source": [
    "- filelist = [\"exercise01.docx\",\"exercise02.docx\",\"exercise03.docx\",\"exercise04.docx\"]\n",
    "```\n",
    "exercise01\n",
    "exercise02\n",
    "```"
   ]
  },
  {
   "cell_type": "code",
   "execution_count": 74,
   "id": "19e42db0-876c-4f09-a808-1d811b287830",
   "metadata": {},
   "outputs": [
    {
     "name": "stdout",
     "output_type": "stream",
     "text": [
      "exercise01\n",
      "exercise02\n",
      "exercise03\n",
      "exercise04\n"
     ]
    }
   ],
   "source": [
    "filelist = [\"exercise01.docx\",\"exercise02.docx\",\"exercise03.docx\",\"exercise04.docx\"]\n",
    "\n",
    "for index in filelist:\n",
    "    print(index[:-5])"
   ]
  },
  {
   "cell_type": "code",
   "execution_count": 77,
   "id": "988a3d57-a419-4143-94e1-cb0ca785068f",
   "metadata": {},
   "outputs": [
    {
     "name": "stdout",
     "output_type": "stream",
     "text": [
      "exercise03\n"
     ]
    }
   ],
   "source": [
    "filelist = [\"exercise01.docx\",\"exercise02.csv\",\"exercise03.txt\",\"exercise04.hwp\"]\n",
    "# 확장자가 \"txt\"인 값만 출력\n",
    "\n",
    "for filename in filelist:\n",
    "    if filename.split(\".\")[1] == \"txt\" :\n",
    "        print(filename.split(\".\")[0])"
   ]
  }
 ],
 "metadata": {
  "kernelspec": {
   "display_name": "Python [conda env:base] *",
   "language": "python",
   "name": "conda-base-py"
  },
  "language_info": {
   "codemirror_mode": {
    "name": "ipython",
    "version": 3
   },
   "file_extension": ".py",
   "mimetype": "text/x-python",
   "name": "python",
   "nbconvert_exporter": "python",
   "pygments_lexer": "ipython3",
   "version": "3.13.5"
  }
 },
 "nbformat": 4,
 "nbformat_minor": 5
}
