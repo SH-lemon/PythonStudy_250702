{
 "cells": [
  {
   "cell_type": "code",
   "execution_count": 2,
   "id": "6498a821-5df3-43d5-9191-af4578095974",
   "metadata": {},
   "outputs": [
    {
     "name": "stdout",
     "output_type": "stream",
     "text": [
      "Defaulting to user installation because normal site-packages is not writeable\n",
      "Requirement already satisfied: openpyxl in c:\\programdata\\anaconda3\\lib\\site-packages (3.1.5)\n",
      "Requirement already satisfied: et-xmlfile in c:\\programdata\\anaconda3\\lib\\site-packages (from openpyxl) (1.1.0)\n",
      "Note: you may need to restart the kernel to use updated packages.\n"
     ]
    }
   ],
   "source": [
    "pip install openpyxl"
   ]
  },
  {
   "cell_type": "code",
   "execution_count": 30,
   "id": "5916f55f-969d-4173-bf24-e5dd235ff5f3",
   "metadata": {},
   "outputs": [],
   "source": [
    "import openpyxl\n",
    "\n",
    "excel_file = openpyxl.Workbook()\n",
    "# Workbook() 프로토타입 객체를 실행시켜 하나의 엑셀파일 생성\n",
    "\n",
    "excel_sheet = excel_file.active\n",
    "# 엑셀파일 내부에는 기본적으로 sheet 1개가 존재 -> 해당 시트를 선택(*active)\n",
    "\n",
    "excel_sheet.append([\"data1\",\"data2\",\"data3\"])\n",
    "# 선택한 엑셀시트 내부에 데이터 추가 및 삽입\n",
    "\n",
    "excel_file.save(\"tmp\")\n",
    "#엑셀파일 저장하기\n",
    "\n",
    "excel_file.close()\n",
    "#엑셀파일 종료하기"
   ]
  },
  {
   "cell_type": "code",
   "execution_count": 28,
   "id": "2deb8435-4544-4346-809f-1ebade97695d",
   "metadata": {},
   "outputs": [],
   "source": [
    "# 1. data 크롤링 파트\n",
    "import requests\n",
    "from bs4 import BeautifulSoup\n",
    "\n",
    "url = \"https://davelee-fun.github.io/\"\n",
    "product_lists = list()\n",
    "\n",
    "for page_num in range(10) :\n",
    "    if page_num == 0 :\n",
    "        res = requests.get(\"https://davelee-fun.github.io/\")\n",
    "    else: \n",
    "        res = requests.get(f\"{url}page{page_num +1}\")\n",
    "    soup = BeautifulSoup(res.content, \"html.parser\")\n",
    "    datas = soup.select(\"div.card\")\n",
    "\n",
    "    for data in datas :\n",
    "        product_name = data.select_one(\"div.card-body > h4.card-text\")\n",
    "        product_date = data.select_one(\"div.card-footer span.post-date\")\n",
    "        product_info = [product_name.get_text().strip(),product_date.get_text().strip()]\n",
    "        product_lists.append(product_info)"
   ]
  },
  {
   "cell_type": "code",
   "execution_count": 32,
   "id": "f6895372-cdda-4cfe-bbbb-ddf99eb7b73a",
   "metadata": {},
   "outputs": [],
   "source": [
    "# 2. 엑셀 시트 저장용 함수 생성하기\n",
    "\n",
    "import openpyxl\n",
    "\n",
    "def write_excel_template(filename, sheetname, listdata) :\n",
    "    excel_file = openpyxl.Workbook()\n",
    "    excel_sheet = excel_file.active\n",
    "    excel_sheet.column_dimensions[\"A\"].width=100\n",
    "\n",
    "    if sheetname != \"\" :\n",
    "        excel_sheet.title = sheetname\n",
    "\n",
    "    for item in listdata :\n",
    "        excel_sheet.append(item)\n",
    "        \n",
    "    excel_file.save(filename)\n",
    "    excel_file.close()"
   ]
  },
  {
   "cell_type": "code",
   "execution_count": 33,
   "id": "fb880c75-3560-45eb-ab95-e01ba87d8ab3",
   "metadata": {},
   "outputs": [],
   "source": [
    "#### 3. 엑셀시트 저장용 함수 호출하기\n",
    "write_excel_template(\"tmp.xlsx\", \"상품정보\", product_lists)"
   ]
  },
  {
   "cell_type": "code",
   "execution_count": null,
   "id": "d2dc43ea-afb3-4233-91e9-64f24bffe2f4",
   "metadata": {},
   "outputs": [],
   "source": []
  }
 ],
 "metadata": {
  "kernelspec": {
   "display_name": "Python [conda env:base] *",
   "language": "python",
   "name": "conda-base-py"
  },
  "language_info": {
   "codemirror_mode": {
    "name": "ipython",
    "version": 3
   },
   "file_extension": ".py",
   "mimetype": "text/x-python",
   "name": "python",
   "nbconvert_exporter": "python",
   "pygments_lexer": "ipython3",
   "version": "3.13.5"
  }
 },
 "nbformat": 4,
 "nbformat_minor": 5
}
