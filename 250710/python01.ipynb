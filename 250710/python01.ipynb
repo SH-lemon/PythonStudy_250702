{
 "cells": [
  {
   "cell_type": "code",
   "execution_count": 9,
   "id": "e186eff6-de6e-42d7-8c05-f92c206bf91a",
   "metadata": {},
   "outputs": [
    {
     "name": "stdout",
     "output_type": "stream",
     "text": [
      "\n",
      "(왕초보) - 클래스 소개\n",
      "\n",
      "\n",
      "(왕초보) - 블로그 개발 필요한 준비물 준비하기\n",
      "\n",
      "\n",
      "(왕초보) - Github pages 설정해서 블로그 첫 페이지 만들어보기\n",
      "\n",
      "\n",
      "(왕초보) - 초간단 페이지 만들어보기\n",
      "\n",
      "\n",
      "(왕초보) - 이쁘게 테마 적용해보기\n",
      "\n",
      "\n",
      "(왕초보) - 마크다운 기초 이해하고, 실제 나만의 블로그 페이지\n",
      "          만들기\n",
      "\n",
      "\n",
      "(왕초보) - 다양한 마크다운 기법 익혀보며, 나만의 블로그 페이지\n",
      "          꾸며보기\n",
      "\n",
      "\n",
      "(초급) - 강사가 실제 사용하는 자동 프로그램 소개 [2]\n",
      "\n",
      "\n",
      "(초급) - 필요한 프로그램 설치 시연 [5]\n",
      "\n",
      "\n",
      "(초급) - 데이터를 엑셀 파일로 만들기 [9]\n",
      "\n",
      "\n",
      "(초급) -     엑셀 파일 이쁘게! 이쁘게! [8]\n",
      "\n",
      "\n",
      "(초급) -     나대신 주기적으로 파이썬 프로그램\n",
      "          실행하기 [7]\n",
      "\n",
      "\n",
      "(초급) - 파이썬으로 슬랙(slack) 메신저에 글쓰기 [40]\n",
      "\n",
      "\n",
      "(초급) - 웹사이트 변경사항 주기적으로 체크해서, 메신저로 알람주기\n",
      "          [12]\n",
      "\n",
      "\n",
      "(초급) - 네이버 API 사용해서, 블로그에 글쓰기 [42]\n",
      "\n",
      "\n",
      "(중급) - 자동으로 쿠팡파트너스 API 로 가져온 상품 정보, 네이버\n",
      "          블로그/트위터에 홍보하기 [412]\n",
      "\n"
     ]
    }
   ],
   "source": [
    "import requests\n",
    "from bs4 import BeautifulSoup\n",
    "\n",
    "res= requests.get(\"https://crawlingtest.netlify.app/\")\n",
    "soup=BeautifulSoup(res.content,\"html.parser\")\n",
    "\n",
    "titles = soup.find_all(\"li\", class_=\"course\")\n",
    "\n",
    "for title in titles :\n",
    "    print(title.get_text())"
   ]
  },
  {
   "cell_type": "code",
   "execution_count": 32,
   "id": "1cedd170-a4c5-49e5-a1b9-3fd8f874c7b9",
   "metadata": {},
   "outputs": [
    {
     "name": "stdout",
     "output_type": "stream",
     "text": [
      "\n",
      "(왕초보) - 클래스 소개\n",
      "\n",
      "\n",
      "(왕초보) - 블로그 개발 필요한 준비물 준비하기\n",
      "\n",
      "\n",
      "(왕초보) - Github pages 설정해서 블로그 첫 페이지 만들어보기\n",
      "\n",
      "\n",
      "(왕초보) - 초간단 페이지 만들어보기\n",
      "\n",
      "\n",
      "(왕초보) - 이쁘게 테마 적용해보기\n",
      "\n",
      "\n",
      "(왕초보) - 마크다운 기초 이해하고, 실제 나만의 블로그 페이지\n",
      "          만들기\n",
      "\n",
      "\n",
      "(왕초보) - 다양한 마크다운 기법 익혀보며, 나만의 블로그 페이지\n",
      "          꾸며보기\n",
      "\n"
     ]
    }
   ],
   "source": [
    "import requests\n",
    "from bs4 import BeautifulSoup\n",
    "\n",
    "res= requests.get(\"https://crawlingtest.netlify.app/\")\n",
    "soup=BeautifulSoup(res.content,\"html.parser\")\n",
    "\n",
    "# hobbies=soup.find_all(\"ul\",\"id\"==\"hobby_course_list\")\n",
    "# for hobby in hobbies :\n",
    "#     print(hobby.get_text())\n",
    "\n",
    "section = soup.find(\"ul\",id==\"hobby_course_list\")\n",
    "titles = section.find_all(\"li\",\"course\")\n",
    "# 크롤링으로 가져온 것도 객체 취급\n",
    "\n",
    "for title in titles :\n",
    "    print(title.get_text())"
   ]
  },
  {
   "cell_type": "markdown",
   "id": "2f82a394-a619-4f47-9f17-fa54e008f384",
   "metadata": {},
   "source": [
    "#### 파이썬 크롤링 미션\n",
    "- https://crawlingtest.netlify.app/ 해당 사이트에서 course라는 클래스값을 가지고 있는 li태그 내부 텍스트를 출력하세요. 단, 왕초보 혹은 초급, -와 같은 부가적인 설명은 제외하고 실제 해당 과정의 설명 문항만 크롤링해오세요."
   ]
  },
  {
   "cell_type": "code",
   "execution_count": 82,
   "id": "f7fc50da-976e-40c7-ad8a-71cd7f5b4787",
   "metadata": {
    "scrolled": true
   },
   "outputs": [
    {
     "name": "stdout",
     "output_type": "stream",
     "text": [
      "1 클래스소개\n",
      "2 블로그개발필요한준비물준비하기\n",
      "3 Githubpages설정해서블로그첫페이지만들어보기\n",
      "4 초간단페이지만들어보기\n",
      "5 이쁘게테마적용해보기\n",
      "6 마크다운기초이해하고,실제나만의블로그페이지만들기\n",
      "7 다양한마크다운기법익혀보며,나만의블로그페이지꾸며보기\n",
      "8 강사가실제사용하는자동프로그램소개\n",
      "9 필요한프로그램설치시연\n",
      "10 데이터를엑셀파일로만들기\n",
      "11 엑셀파일이쁘게!이쁘게!\n",
      "12 나대신주기적으로파이썬프로그램실행하기\n",
      "13 파이썬으로슬랙(slack)메신저에글쓰기\n",
      "14 웹사이트변경사항주기적으로체크해서,메신저로알람주기\n",
      "15 네이버API사용해서,블로그에글쓰기\n",
      "16 자동으로쿠팡파트너스API로가져온상품정보,네이버블로그/트위터에홍보하기\n"
     ]
    }
   ],
   "source": [
    "import requests\n",
    "from bs4 import BeautifulSoup\n",
    "\n",
    "res= requests.get(\"https://crawlingtest.netlify.app/\")\n",
    "soup=BeautifulSoup(res.content,\"html.parser\")\n",
    "\n",
    "# enumerate: 어떤 형태의 자료든 숫자로 카운트함\n",
    "\n",
    "data=soup.find_all(\"li\", \"course\")\n",
    "for index, mydata in enumerate(data) :\n",
    "    print(index+1, mydata.get_text().split(\"-\")[1].replace(\"\\n\",\" \").replace(\" \",\"\").strip().split(\"[\")[0])"
   ]
  }
 ],
 "metadata": {
  "kernelspec": {
   "display_name": "Python [conda env:base] *",
   "language": "python",
   "name": "conda-base-py"
  },
  "language_info": {
   "codemirror_mode": {
    "name": "ipython",
    "version": 3
   },
   "file_extension": ".py",
   "mimetype": "text/x-python",
   "name": "python",
   "nbconvert_exporter": "python",
   "pygments_lexer": "ipython3",
   "version": "3.13.5"
  }
 },
 "nbformat": 4,
 "nbformat_minor": 5
}
