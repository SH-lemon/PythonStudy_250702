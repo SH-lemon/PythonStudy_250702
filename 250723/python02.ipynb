{
 "cells": [
  {
   "cell_type": "code",
   "execution_count": 7,
   "id": "67e26c41-d385-46d9-8de2-1e794a118955",
   "metadata": {},
   "outputs": [
    {
     "name": "stdout",
     "output_type": "stream",
     "text": [
      "Teddy의 선물 블로그\n"
     ]
    }
   ],
   "source": [
    "from selenium import webdriver\n",
    "from selenium.webdriver.chrome.service import Service\n",
    "from selenium.webdriver.common.by import By\n",
    "from selenium.webdriver.chrome.options import Options\n",
    "from webdriver_manager.chrome import ChromeDriverManager\n",
    "from selenium.webdriver.common.keys import Keys\n",
    "import time\n",
    "import pyautogui\n",
    "\n",
    "\n",
    "\n",
    "\n",
    "service = Service(\"C:\\\\Users\\\\user\\\\Downloads\\\\chromedriver\\\\chromedriver.exe\")\n",
    "options = Options()\n",
    "options.add_argument(\"--disable-gpu\")\n",
    "options.add_argument(\"--start-maximized\")\n",
    "options.add_argument(\"headless\")\n",
    "options.add_argument(\"window-size=1920x1080\")\n",
    "# options.add_argument(\"Mozilla/5.0 (Windows NT 10.0; Win64; x64) AppleWebKit/537.36 (KHTML, like Gecko) Chrome/138.0.0.0 Safari/537.36\")\n",
    "# f12 console에 window.navigator.userAgent를 치면 정보를 볼 수 있다. 복붙\n",
    "options.add_argument(\"lang=ko_KR\")\n",
    "\n",
    "driver = webdriver.Chrome(service = service, options = options)\n",
    "\n",
    "driver.get(\"https://davelee-fun.github.io/\")\n",
    "\n",
    "screen_width, screen_height = pyautogui.size()\n",
    "driver.set_window_size(screen_width,screen_height)\n",
    "element = driver.find_element(By.TAG_NAME, \"h1\")\n",
    "\n",
    "print(element.text)\n",
    "\n",
    "time.sleep(3)\n",
    "\n",
    "driver.quit()"
   ]
  },
  {
   "cell_type": "markdown",
   "id": "39638b36-748b-4aa6-8ae0-21f8aef4e87d",
   "metadata": {},
   "source": [
    "#### 다음 웹 사이트에 접속해서 selenium을 활용해 크롤링해오세요.\n",
    "- https://crawlingtest.netlify.app/\n",
    "- 부모요소의 id = dev_course_list이고 class = course인 데이터만 출력"
   ]
  },
  {
   "cell_type": "code",
   "execution_count": 11,
   "id": "d96ee19d-aa6b-48e2-840a-a23c46a39b30",
   "metadata": {},
   "outputs": [
    {
     "name": "stdout",
     "output_type": "stream",
     "text": [
      "(초급) - 강사가 실제 사용하는 자동 프로그램 소개 [2]\n",
      "(초급) - 필요한 프로그램 설치 시연 [5]\n",
      "(초급) - 데이터를 엑셀 파일로 만들기 [9]\n",
      "(초급) -     엑셀 파일 이쁘게! 이쁘게! [8]\n",
      "(초급) -     나대신 주기적으로 파이썬 프로그램 실행하기 [7]\n",
      "(초급) - 파이썬으로 슬랙(slack) 메신저에 글쓰기 [40]\n",
      "(초급) - 웹사이트 변경사항 주기적으로 체크해서, 메신저로 알람주기 [12]\n",
      "(초급) - 네이버 API 사용해서, 블로그에 글쓰기 [42]\n",
      "(중급) - 자동으로 쿠팡파트너스 API 로 가져온 상품 정보, 네이버 블로그/트위터에 홍보하기 [412]\n"
     ]
    }
   ],
   "source": [
    "from selenium import webdriver\n",
    "from selenium.webdriver.chrome.service import Service\n",
    "from selenium.webdriver.common.by import By\n",
    "from selenium.webdriver.chrome.options import Options\n",
    "from webdriver_manager.chrome import ChromeDriverManager\n",
    "from selenium.webdriver.common.keys import Keys\n",
    "import time\n",
    "\n",
    "\n",
    "\n",
    "\n",
    "service = Service(\"C:\\\\Users\\\\user\\\\Downloads\\\\chromedriver\\\\chromedriver.exe\")\n",
    "options = Options()\n",
    "options.add_argument(\"--disable-gpu\")\n",
    "options.add_argument(\"--start-maximized\")\n",
    "\n",
    "driver = webdriver.Chrome(service = service, options = options)\n",
    "driver.get(\"https://crawlingtest.netlify.app/\")\n",
    "\n",
    "elements = driver.find_elements(By.CSS_SELECTOR, \"ul#dev_course_list > li.course\")\n",
    "for element in elements :\n",
    "    print(element.text)\n",
    "\n",
    "time.sleep(1)\n",
    "driver.quit()"
   ]
  },
  {
   "cell_type": "markdown",
   "id": "dd2da648-b546-43f2-aec2-bd21f25a1f7b",
   "metadata": {},
   "source": [
    "#### 커리큘럼 일정표 안에 있는 데이터를 모두 수집해 오세요."
   ]
  },
  {
   "cell_type": "code",
   "execution_count": 14,
   "id": "9bab0e53-39bb-4073-b55e-0c1a8ea85292",
   "metadata": {},
   "outputs": [
    {
     "name": "stdout",
     "output_type": "stream",
     "text": [
      "일정 커리큘럼 타이틀 난이도\n",
      "5.1 ~ 6.15 나만의 엣지있는 블로그 사이트 만들기 (취미로 익히는 IT) 초급\n",
      "6.16 ~ 7.31 파이썬과 데이터과학 첫걸음 (IT 기본기 익히기) 중급\n"
     ]
    }
   ],
   "source": [
    "from selenium import webdriver\n",
    "from selenium.webdriver.chrome.service import Service\n",
    "from selenium.webdriver.common.by import By\n",
    "from selenium.webdriver.chrome.options import Options\n",
    "from webdriver_manager.chrome import ChromeDriverManager\n",
    "from selenium.webdriver.common.keys import Keys\n",
    "import time\n",
    "\n",
    "service = Service(\"C:\\\\Users\\\\user\\\\Downloads\\\\chromedriver\\\\chromedriver.exe\")\n",
    "options = Options()\n",
    "options.add_argument(\"--disable-gpu\")\n",
    "options.add_argument(\"--start-maximized\")\n",
    "\n",
    "driver = webdriver.Chrome(service = service, options = options)\n",
    "driver.get(\"https://crawlingtest.netlify.app/\")\n",
    "\n",
    "elements = driver.find_elements(By.CSS_SELECTOR, \"tbody tr\")\n",
    "for element in elements :\n",
    "    print(element.text)\n",
    "time.sleep(1)\n",
    "driver.quit()"
   ]
  },
  {
   "cell_type": "markdown",
   "id": "be2f8a8e-cd0c-441a-b554-9a4779441098",
   "metadata": {},
   "source": [
    "#### 아래 데이터만 추출해오세요.\n",
    "- (중급) - 자동으로 쿠팡파트너스 API 로 가져온 상품 정보, 네이버 블로그/트위터에 홍보하기 [412]"
   ]
  },
  {
   "cell_type": "code",
   "execution_count": 18,
   "id": "366bbee7-95ce-4cdb-99ee-299fda38b700",
   "metadata": {},
   "outputs": [
    {
     "name": "stdout",
     "output_type": "stream",
     "text": [
      "(중급) - 자동으로 쿠팡파트너스 API 로 가져온 상품 정보, 네이버 블로그/트위터에 홍보하기 [412]\n"
     ]
    }
   ],
   "source": [
    "from selenium import webdriver\n",
    "from selenium.webdriver.chrome.service import Service\n",
    "from selenium.webdriver.common.by import By\n",
    "from selenium.webdriver.chrome.options import Options\n",
    "from webdriver_manager.chrome import ChromeDriverManager\n",
    "from selenium.webdriver.common.keys import Keys\n",
    "import time\n",
    "\n",
    "service = Service(\"C:\\\\Users\\\\user\\\\Downloads\\\\chromedriver\\\\chromedriver.exe\")\n",
    "options = Options()\n",
    "options.add_argument(\"--disable-gpu\")\n",
    "options.add_argument(\"--start-maximized\")\n",
    "\n",
    "driver = webdriver.Chrome(service = service, options = options)\n",
    "driver.get(\"https://crawlingtest.netlify.app/\")\n",
    "\n",
    "elements = driver.find_elements(By.CSS_SELECTOR, \"ul#dev_course_list > li.course\")\n",
    "\n",
    "print(elements[-1].text)\n",
    "\n",
    "time.sleep(1)\n",
    "driver.quit()"
   ]
  },
  {
   "cell_type": "markdown",
   "id": "ffa1be7d-4dbc-4108-9c90-80aed8386bba",
   "metadata": {},
   "source": [
    "#### 아래 사이트에서 class값이 news인 값을 추출해오세요.\n",
    "- https://divjason.github.io/sellenium-test/"
   ]
  },
  {
   "cell_type": "code",
   "execution_count": 21,
   "id": "68bec9e9-72c0-4dc1-b22b-b0c4765c25f4",
   "metadata": {},
   "outputs": [
    {
     "name": "stdout",
     "output_type": "stream",
     "text": [
      "뉴스: 머신러닝 강좌가 나왔어요~~~\n"
     ]
    }
   ],
   "source": [
    "from selenium import webdriver\n",
    "from selenium.webdriver.chrome.service import Service\n",
    "from selenium.webdriver.common.by import By\n",
    "from selenium.webdriver.chrome.options import Options\n",
    "from webdriver_manager.chrome import ChromeDriverManager\n",
    "from selenium.webdriver.common.keys import Keys\n",
    "import time\n",
    "\n",
    "service = Service(\"C:\\\\Users\\\\user\\\\Downloads\\\\chromedriver\\\\chromedriver.exe\")\n",
    "options = Options()\n",
    "options.add_argument(\"--disable-gpu\")\n",
    "options.add_argument(\"--start-maximized\")\n",
    "\n",
    "driver = webdriver.Chrome(service = service, options = options)\n",
    "driver.get(\"https://divjason.github.io/sellenium-test/\")\n",
    "\n",
    "element = driver.find_element(By.CSS_SELECTOR, \"span.news\")\n",
    "print(element.text)\n",
    "\n",
    "time.sleep(1)\n",
    "driver.quit()"
   ]
  },
  {
   "cell_type": "markdown",
   "id": "ae440a3f-063f-4fc8-a695-335e80dd4554",
   "metadata": {},
   "source": [
    "#### input 태그 요소에 아이디 error@error.com / 비밀번호 1234 입력 후 로그인 버튼을 자동으로 누르도록 해주세요."
   ]
  },
  {
   "cell_type": "code",
   "execution_count": 28,
   "id": "db8ee7f6-faf8-48fc-aa62-d32633cb39a4",
   "metadata": {},
   "outputs": [],
   "source": [
    "from selenium import webdriver\n",
    "from selenium.webdriver.chrome.service import Service\n",
    "from selenium.webdriver.common.by import By\n",
    "from selenium.webdriver.chrome.options import Options\n",
    "from webdriver_manager.chrome import ChromeDriverManager\n",
    "from selenium.webdriver.common.keys import Keys\n",
    "import time\n",
    "\n",
    "service = Service(\"C:\\\\Users\\\\user\\\\Downloads\\\\chromedriver\\\\chromedriver.exe\")\n",
    "options = Options()\n",
    "options.add_argument(\"--disable-gpu\")\n",
    "options.add_argument(\"--start-maximized\")\n",
    "\n",
    "options.add_argument(\"--user-agent=Mozilla/5.0 (Windows NT 10.0; Win64; x64) AppleWebKit/537.36 (KHTML, like Gecko) Chrome/138.0.0.0 Safari/537.36\")\n",
    "\n",
    "driver = webdriver.Chrome(service = service, options = options)\n",
    "driver.get(\"https://divjason.github.io/sellenium-test/\")\n",
    "\n",
    "ID = driver.find_element(By.CSS_SELECTOR, \"input#username\")\n",
    "PW = driver.find_element(By.CSS_SELECTOR, \"input#password\")\n",
    "ID.clear()\n",
    "PW.clear()\n",
    "ID.send_keys(\"error@error.com\")\n",
    "PW.send_keys(\"1234\")\n",
    "\n",
    "time.sleep(5)\n",
    "\n",
    "LogIn = driver.find_element(By.CSS_SELECTOR, 'input[type=\"submit\"][value=\"로그인\"]')\n",
    "LogIn.send_keys(Keys.RETURN)\n",
    "\n",
    "\n",
    "time.sleep(5)\n",
    "driver.quit()"
   ]
  },
  {
   "cell_type": "markdown",
   "id": "2d469c11-21dc-404d-af14-fe4fef685a2e",
   "metadata": {},
   "source": [
    "- 클릭 이후 이동한 페이지에서 message라는 클래스 속성값을 가지고 잇는 요소의 텍스트 정보 출력\n",
    "- 로그아웃 후 다시 message 출력"
   ]
  },
  {
   "cell_type": "code",
   "execution_count": 36,
   "id": "297cdb74-94ff-4fbd-a968-6b7cecb87abe",
   "metadata": {},
   "outputs": [
    {
     "name": "stdout",
     "output_type": "stream",
     "text": [
      "실제 사이트는 https://megaitlab.com/ 입니다\n",
      "본 페이지는 로그인된 페이지입니다!\n",
      "뉴스: 머신러닝 강좌가 나왔어요~~~\n"
     ]
    }
   ],
   "source": [
    "from selenium import webdriver\n",
    "from selenium.webdriver.chrome.service import Service\n",
    "from selenium.webdriver.common.by import By\n",
    "from selenium.webdriver.chrome.options import Options\n",
    "from webdriver_manager.chrome import ChromeDriverManager\n",
    "from selenium.webdriver.common.keys import Keys\n",
    "import time\n",
    "\n",
    "service = Service(\"C:\\\\Users\\\\user\\\\Downloads\\\\chromedriver\\\\chromedriver.exe\")\n",
    "options = Options()\n",
    "options.add_argument(\"--disable-gpu\")\n",
    "options.add_argument(\"--start-maximized\")\n",
    "\n",
    "options.add_argument(\"--user-agent=Mozilla/5.0 (Windows NT 10.0; Win64; x64) AppleWebKit/537.36 (KHTML, like Gecko) Chrome/138.0.0.0 Safari/537.36\")\n",
    "\n",
    "driver = webdriver.Chrome(service = service, options = options)\n",
    "driver.get(\"https://divjason.github.io/sellenium-test/\")\n",
    "\n",
    "ID = driver.find_element(By.CSS_SELECTOR, \"input#username\")\n",
    "PW = driver.find_element(By.CSS_SELECTOR, \"input#password\")\n",
    "ID.clear()\n",
    "PW.clear()\n",
    "ID.send_keys(\"errorr@error.com\")\n",
    "PW.send_keys(\"1234r\")\n",
    "\n",
    "time.sleep(5)\n",
    "\n",
    "LogIn = driver.find_element(By.CSS_SELECTOR, 'input[type=\"submit\"][value=\"로그인\"]')\n",
    "LogIn.send_keys(Keys.RETURN)\n",
    "\n",
    "message = driver.find_element(By.CSS_SELECTOR, \"div.message\")\n",
    "print(message.text)\n",
    "# 클릭 이후 이동한 페이지에서 message라는 클래스 속성값을 가지고 잇는 요소의 텍스트 정보 출력\n",
    "\n",
    "time.sleep(5)\n",
    "driver.quit()"
   ]
  }
 ],
 "metadata": {
  "kernelspec": {
   "display_name": "Python [conda env:base] *",
   "language": "python",
   "name": "conda-base-py"
  },
  "language_info": {
   "codemirror_mode": {
    "name": "ipython",
    "version": 3
   },
   "file_extension": ".py",
   "mimetype": "text/x-python",
   "name": "python",
   "nbconvert_exporter": "python",
   "pygments_lexer": "ipython3",
   "version": "3.13.5"
  }
 },
 "nbformat": 4,
 "nbformat_minor": 5
}
