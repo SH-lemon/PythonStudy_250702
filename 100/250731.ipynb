{
 "cells": [
  {
   "cell_type": "code",
   "execution_count": 4,
   "id": "96b2ced6-8714-4244-b92d-4da739136639",
   "metadata": {},
   "outputs": [
    {
     "name": "stdout",
     "output_type": "stream",
     "text": [
      "마케팅(영어: marketing)은 시장 경제(영어: exchange relationship) 또는 수요를 관리하는 경영학의 한 분야이다. 소비자를 대상으로 고객을 창조하고 유지 · 관리함으로써 고정고객으로 만드는 모든 활동 즉, 고객과 관련된 모든 활동을 의미한다. 마케팅은 광고, 영업 등을 포함하며 창의성을 내포하는 산업이자 소비자가 가질 수 있는 미래의 요구와 욕구를 예측하는 일로 한정되었으나 21세기 이후에는 어떤 '잠재적인 욕구'를 자극하여 표면상으로 이끌어 내는 행위나 동기로 용어의 적용 범위가 확대되고, 시장에서 벗어나 일상의 행위에서도 마케팅이라는 용어가 등장하게 되었다.\n",
      "마케팅은 판매행위를 어떻게 구성하고 전달할 것인지에 대한 모든 일련의 행위를 포함하며, 또한 상대방이 자신에 대해 가지고 있는 잠재욕구를 자극하여 필요로 하게끔 만드는 행위와, 상품과 용역을 생산자로부터 소비자에게 원활히 이전하기 위한 비즈니스 활동을 포함한다. 즉, 생산자와 소비자의 희망을 결합해서 능률적인 공급을 하는 것이 마케팅이다. 그것을 위한 활동으로 시장조사, 상품화 계획, 판매촉진, 선전 · 광고, 디지털 마케팅(digital marketing) 등이 있다.\n"
     ]
    }
   ],
   "source": [
    "import requests\n",
    "from bs4 import BeautifulSoup\n",
    "\n",
    "url = \"https://ko.wikipedia.org/wiki/%EB%A7%88%EC%BC%80%ED%8C%85\"\n",
    "\n",
    "res = requests.get(url)\n",
    "soup = BeautifulSoup(res.text, \"html.parser\")\n",
    "\n",
    "paragraph = soup.select(\"div.mw-content-ltr.mw-parser-output > p\")\n",
    "\n",
    "for p in paragraph[:2] :\n",
    "    print(p.get_text().strip())"
   ]
  }
 ],
 "metadata": {
  "kernelspec": {
   "display_name": "Python [conda env:base] *",
   "language": "python",
   "name": "conda-base-py"
  },
  "language_info": {
   "codemirror_mode": {
    "name": "ipython",
    "version": 3
   },
   "file_extension": ".py",
   "mimetype": "text/x-python",
   "name": "python",
   "nbconvert_exporter": "python",
   "pygments_lexer": "ipython3",
   "version": "3.13.5"
  }
 },
 "nbformat": 4,
 "nbformat_minor": 5
}
