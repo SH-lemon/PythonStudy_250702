{
 "cells": [
  {
   "cell_type": "markdown",
   "id": "75b6406b-8371-4e4f-a1d9-966e5c85ac0d",
   "metadata": {},
   "source": [
    "```\n",
    "문제 4.\n",
    "인터파크 티켓 예매 페이지에서 인기 공연 데이터를 수집하고 공연 카테고리별 소비 분석\n",
    "https://nol.interpark.com/ticket\n",
    "1) 공연명, 날짜, 장소, 가격\n",
    "2) MySQL 저장\n",
    "3) SQL로 분석해야 하는 내용\n",
    "장르별 평균 가격과 최저·최고 가격\n",
    "0일 이내 시작하는 공연 중 가격 상위 5개\n",
    "공연 장소별 등록된 공연 수 순위\n",
    "```"
   ]
  },
  {
   "cell_type": "code",
   "execution_count": null,
   "id": "0e32af9c-30a0-4231-8dc1-d4d10e44bb06",
   "metadata": {},
   "outputs": [],
   "source": [
    "# 공연명, 날짜, 장소, 가격(min || max) +장르"
   ]
  },
  {
   "cell_type": "code",
   "execution_count": 7,
   "id": "b6b56dd6-89b1-4a06-8cd5-787f780449c7",
   "metadata": {},
   "outputs": [
    {
     "data": {
      "text/html": [
       "<div>\n",
       "<style scoped>\n",
       "    .dataframe tbody tr th:only-of-type {\n",
       "        vertical-align: middle;\n",
       "    }\n",
       "\n",
       "    .dataframe tbody tr th {\n",
       "        vertical-align: top;\n",
       "    }\n",
       "\n",
       "    .dataframe thead th {\n",
       "        text-align: right;\n",
       "    }\n",
       "</style>\n",
       "<table border=\"1\" class=\"dataframe\">\n",
       "  <thead>\n",
       "    <tr style=\"text-align: right;\">\n",
       "      <th></th>\n",
       "    </tr>\n",
       "  </thead>\n",
       "  <tbody>\n",
       "  </tbody>\n",
       "</table>\n",
       "</div>"
      ],
      "text/plain": [
       "Empty DataFrame\n",
       "Columns: []\n",
       "Index: []"
      ]
     },
     "execution_count": 7,
     "metadata": {},
     "output_type": "execute_result"
    }
   ],
   "source": [
    "from selenium import webdriver\n",
    "from selenium.webdriver.chrome.service import Service\n",
    "from selenium.webdriver.chrome.options import Options\n",
    "from selenium.webdriver.common.by import By\n",
    "from webdriver_manager.chrome import ChromeDriverManager\n",
    "import pandas as pd\n",
    "import time\n",
    "\n",
    "options = Options()\n",
    "options.add_argument(\"--start-maximized\")\n",
    "options.add_argument(\"window-size=1920x1080\")\n",
    "options.add_argument(\"lang=ko_KR\")\n",
    "\n",
    "service = Service(ChromeDriverManager().install())\n",
    "\n",
    "driver = webdriver.Chrome(service = service, options = options)\n",
    "\n",
    "driver.get(\"https://nol.interpark.com/ticket\")\n",
    "time.sleep(3)\n",
    "\n",
    "driver.execute_script(\"window.scrollTo(0, document.body.scrollHeight);\")\n",
    "time.sleep(2)\n",
    "\n",
    "tablelist = []\n",
    "\n",
    "# 뮤지컬\n",
    "Musical_lists = driver.find_elements(By.CSS_SELECTOR, \"div.ranking_info__DR7GO\")\n",
    "for ML in Musical_lists :\n",
    "    ML.click() # 링크로 들어가는 부분이 구현되지 않음 (a href='javascript:;'라고 되어있는데 이쪽에 링크가 있을지도 모르겠습니다.. 우선 다른 href링크는 찾지 못했습니다)\n",
    "    time.sleep(3)\n",
    "    MusicalTitle = driver.find_element(By.CSS_SELECTOR, \"h2.prdTitle\").text.strip()\n",
    "    MusicalDate = driver.find_element(By.CSS_SELECTOR, \"ul.info p.infoText\")\n",
    "    minMusicalDate = MusicalDate.strip(\" \").split(\"~\")[0]\n",
    "    maxMusicalDate = MusicalDate.strip(\" \").split(\"~\")[1]\n",
    "    MusicalPlace = driver.find_element(By.CSS_SELECTOR, \"ul.info div.infoDesc a.infoBtn\").text.strip()\n",
    "    Price = driver.find_elements(By.CSS_SELECTOR, \"div.prdPriceDetail strong\")\n",
    "    minMusicalPrice = Price[0].text.strip()\n",
    "    maxMusicalPrice = Price[-1].text.strip()\n",
    "    tablelist.append({\"title\":MusicalTitle,\"beginning_date\":minMusicalDate,\"last_date\":maxMusicalDate,\"minprice\":minMusicalPrice,\"maxprice\":maxMusicalPrice,\"Genre\":\"Musical\"})\n",
    "\n",
    "df = pd.DataFrame(tablelist)\n",
    "driver.quit()\n",
    "df"
   ]
  }
 ],
 "metadata": {
  "kernelspec": {
   "display_name": "Python [conda env:base] *",
   "language": "python",
   "name": "conda-base-py"
  },
  "language_info": {
   "codemirror_mode": {
    "name": "ipython",
    "version": 3
   },
   "file_extension": ".py",
   "mimetype": "text/x-python",
   "name": "python",
   "nbconvert_exporter": "python",
   "pygments_lexer": "ipython3",
   "version": "3.13.5"
  }
 },
 "nbformat": 4,
 "nbformat_minor": 5
}
