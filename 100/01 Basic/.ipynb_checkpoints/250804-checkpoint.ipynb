{
 "cells": [
  {
   "cell_type": "markdown",
   "id": "9072bd7f-de7c-4e55-886f-5a68cedbbdb5",
   "metadata": {},
   "source": [
    "1. 네이버 지식백과에서 '콘텐츠 마케팅' 항목의 본문 요약을 추출하세요.\n",
    "2. 한국관광공사 '추천 여행지' 페이지에서 지역별 여행지명을 수집하세요.\n",
    "3. 브런치 홈페이지에서 인기 글 제목을 수집하세요.\n",
    "4. 교보문고 경제 분야 주간 베스트셀러 도서 제목 수집하세요.\n",
    "5. 멜론 차트 1~10위 노래 제목과 가수를 수집하세요."
   ]
  },
  {
   "cell_type": "code",
   "execution_count": 14,
   "id": "8a68396e-aafc-4f12-b557-625eff990b05",
   "metadata": {},
   "outputs": [
    {
     "name": "stdout",
     "output_type": "stream",
     "text": [
      "콘텐츠산업은 21세기 창조경제를 견인할 핵심 성장 동력으로 각광받고 있고, 디지털 미디어의 다원화로 산업이 성장하고 있지만, 동시에 콘텐츠 사업자간 경쟁은 더욱 치열해지고 있다. 콘텐츠 기업은 사업 분야와 역량에 따라 제작, 유통, 단말 등 강점을 갖는 사업 영역이 있다. 성장과 경쟁의 압박 속에서 이익의 창출이 어려워질수록 각 산업의 핵심가치에 기반한 전략이 빛을 발하게 되는데, 콘텐츠산업의 중심에는 소비자, 즉 고객이 존재한다. 고객과 직접 대면하며, 고객과의 관계 속에서 미래성장의 가능성을 발견하는 콘텐츠사업자들의 핵심적인 10대 전략을 분석하고, 콘텐츠산업의 미래성장 가능성을 진단한다.\n",
      "\n",
      "콘텐츠산업은 21세기 창조경제를 견인할 핵심 성장 동력으로 각광받고 있고, 디지털 미디어의 다원화로 산업이 성장하고 있지만, 동시에 콘텐츠 사업자간 경쟁은 더욱 치열해지고 있다. 콘텐츠 기업은 사업 분야와 역량에 따라 제작, 유통, 단말 등 강점을 갖는 사업 영역이 있다. 성장과 경쟁의 압박 속에서 이익의 창출이 어려워질수록 각 산업의 핵심가치에 기반한 전략이 빛을 발하게 되는데, 콘텐츠산업의 중심에는 소비자, 즉 고객이 존재한다. 고객과 직접 대면하며, 고객과의 관계 속에서 미래성장의 가능성을 발견하는 콘텐츠사업자들의 핵심적인 10대 전략을 분석하고, 콘텐츠산업의 미래성장 가능성을 진단한다.\n"
     ]
    }
   ],
   "source": [
    "from selenium import webdriver\n",
    "from selenium.webdriver.chrome.service import Service\n",
    "from selenium.webdriver.common.by import By\n",
    "from selenium.webdriver.chrome.options import Options\n",
    "from webdriver_manager.chrome import ChromeDriverManager\n",
    "import time\n",
    "\n",
    "service = Service(\"C:\\\\Users\\\\user\\\\Downloads\\\\chromedriver\\\\chromedriver.exe\")\n",
    "\n",
    "options = Options()\n",
    "options.add_argument(\"--disable-gpu\")\n",
    "options.add_argument(\"--start-maximized\")\n",
    "options.add_argument(\"--user-agent=Mozilla/5.0 (Windows NT 10.0; Win64; x64) AppleWebKit/537.36 (KHTML, like Gecko) Chrome/138.0.0.0 Safari/537.36\")\n",
    "\n",
    "\n",
    "driver = webdriver.Chrome(service=service, options=options)\n",
    "driver.get(\"https://terms.naver.com/entry.naver?docId=2275742&cid=42266&categoryId=51204\")\n",
    "time.sleep(3)\n",
    "\n",
    "elements = driver.find_elements(By.ID, \"size_ct\")\n",
    "\n",
    "\n",
    "print(elements[0].text)\n",
    "\n",
    "time.sleep(3)\n",
    "driver.quit()"
   ]
  },
  {
   "cell_type": "code",
   "execution_count": 20,
   "id": "68784406-4111-4e72-8171-9b6f93287a5f",
   "metadata": {},
   "outputs": [
    {
     "ename": "ElementNotInteractableException",
     "evalue": "Message: element not interactable\n  (Session info: chrome=138.0.7204.184); For documentation on this error, please visit: https://www.selenium.dev/documentation/webdriver/troubleshooting/errors#elementnotinteractableexception\nStacktrace:\n\tGetHandleVerifier [0x0x7ff6abdde935+77845]\n\tGetHandleVerifier [0x0x7ff6abdde990+77936]\n\t(No symbol) [0x0x7ff6abb99b0c]\n\t(No symbol) [0x0x7ff6abbf1ba4]\n\t(No symbol) [0x0x7ff6abbe36c8]\n\t(No symbol) [0x0x7ff6abc188ca]\n\t(No symbol) [0x0x7ff6abbe2f76]\n\t(No symbol) [0x0x7ff6abc18ae0]\n\t(No symbol) [0x0x7ff6abc40b07]\n\t(No symbol) [0x0x7ff6abc186a3]\n\t(No symbol) [0x0x7ff6abbe1791]\n\t(No symbol) [0x0x7ff6abbe2523]\n\tGetHandleVerifier [0x0x7ff6ac0b684d+3059501]\n\tGetHandleVerifier [0x0x7ff6ac0b0c0d+3035885]\n\tGetHandleVerifier [0x0x7ff6ac0d0400+3164896]\n\tGetHandleVerifier [0x0x7ff6abdf8c3e+185118]\n\tGetHandleVerifier [0x0x7ff6abe0054f+216111]\n\tGetHandleVerifier [0x0x7ff6abde72e4+113092]\n\tGetHandleVerifier [0x0x7ff6abde7499+113529]\n\tGetHandleVerifier [0x0x7ff6abdce298+10616]\n\tBaseThreadInitThunk [0x0x7ffd8ddc7374+20]\n\tRtlUserThreadStart [0x0x7ffd8e4bcc91+33]\n",
     "output_type": "error",
     "traceback": [
      "\u001b[1;31m---------------------------------------------------------------------------\u001b[0m",
      "\u001b[1;31mElementNotInteractableException\u001b[0m           Traceback (most recent call last)",
      "Cell \u001b[1;32mIn[20], line 34\u001b[0m\n\u001b[0;32m     32\u001b[0m     \u001b[38;5;28;01mfor\u001b[39;00m element \u001b[38;5;129;01min\u001b[39;00m elements :\n\u001b[0;32m     33\u001b[0m         \u001b[38;5;28mprint\u001b[39m(element\u001b[38;5;241m.\u001b[39mtext\u001b[38;5;241m.\u001b[39mstrip())\n\u001b[1;32m---> 34\u001b[0m     More\u001b[38;5;241m.\u001b[39mclick()\n\u001b[0;32m     36\u001b[0m driver\u001b[38;5;241m.\u001b[39mquit()\n",
      "File \u001b[1;32m~\\AppData\\Roaming\\Python\\Python313\\site-packages\\selenium\\webdriver\\remote\\webelement.py:120\u001b[0m, in \u001b[0;36mWebElement.click\u001b[1;34m(self)\u001b[0m\n\u001b[0;32m    112\u001b[0m \u001b[38;5;28;01mdef\u001b[39;00m\u001b[38;5;250m \u001b[39m\u001b[38;5;21mclick\u001b[39m(\u001b[38;5;28mself\u001b[39m) \u001b[38;5;241m-\u001b[39m\u001b[38;5;241m>\u001b[39m \u001b[38;5;28;01mNone\u001b[39;00m:\n\u001b[0;32m    113\u001b[0m \u001b[38;5;250m    \u001b[39m\u001b[38;5;124;03m\"\"\"Clicks the element.\u001b[39;00m\n\u001b[0;32m    114\u001b[0m \n\u001b[0;32m    115\u001b[0m \u001b[38;5;124;03m    Example:\u001b[39;00m\n\u001b[1;32m   (...)\u001b[0m\n\u001b[0;32m    118\u001b[0m \u001b[38;5;124;03m    >>> element.click()\u001b[39;00m\n\u001b[0;32m    119\u001b[0m \u001b[38;5;124;03m    \"\"\"\u001b[39;00m\n\u001b[1;32m--> 120\u001b[0m     \u001b[38;5;28mself\u001b[39m\u001b[38;5;241m.\u001b[39m_execute(Command\u001b[38;5;241m.\u001b[39mCLICK_ELEMENT)\n",
      "File \u001b[1;32m~\\AppData\\Roaming\\Python\\Python313\\site-packages\\selenium\\webdriver\\remote\\webelement.py:573\u001b[0m, in \u001b[0;36mWebElement._execute\u001b[1;34m(self, command, params)\u001b[0m\n\u001b[0;32m    571\u001b[0m     params \u001b[38;5;241m=\u001b[39m {}\n\u001b[0;32m    572\u001b[0m params[\u001b[38;5;124m\"\u001b[39m\u001b[38;5;124mid\u001b[39m\u001b[38;5;124m\"\u001b[39m] \u001b[38;5;241m=\u001b[39m \u001b[38;5;28mself\u001b[39m\u001b[38;5;241m.\u001b[39m_id\n\u001b[1;32m--> 573\u001b[0m \u001b[38;5;28;01mreturn\u001b[39;00m \u001b[38;5;28mself\u001b[39m\u001b[38;5;241m.\u001b[39m_parent\u001b[38;5;241m.\u001b[39mexecute(command, params)\n",
      "File \u001b[1;32m~\\AppData\\Roaming\\Python\\Python313\\site-packages\\selenium\\webdriver\\remote\\webdriver.py:454\u001b[0m, in \u001b[0;36mWebDriver.execute\u001b[1;34m(self, driver_command, params)\u001b[0m\n\u001b[0;32m    451\u001b[0m response \u001b[38;5;241m=\u001b[39m cast(RemoteConnection, \u001b[38;5;28mself\u001b[39m\u001b[38;5;241m.\u001b[39mcommand_executor)\u001b[38;5;241m.\u001b[39mexecute(driver_command, params)\n\u001b[0;32m    453\u001b[0m \u001b[38;5;28;01mif\u001b[39;00m response:\n\u001b[1;32m--> 454\u001b[0m     \u001b[38;5;28mself\u001b[39m\u001b[38;5;241m.\u001b[39merror_handler\u001b[38;5;241m.\u001b[39mcheck_response(response)\n\u001b[0;32m    455\u001b[0m     response[\u001b[38;5;124m\"\u001b[39m\u001b[38;5;124mvalue\u001b[39m\u001b[38;5;124m\"\u001b[39m] \u001b[38;5;241m=\u001b[39m \u001b[38;5;28mself\u001b[39m\u001b[38;5;241m.\u001b[39m_unwrap_value(response\u001b[38;5;241m.\u001b[39mget(\u001b[38;5;124m\"\u001b[39m\u001b[38;5;124mvalue\u001b[39m\u001b[38;5;124m\"\u001b[39m, \u001b[38;5;28;01mNone\u001b[39;00m))\n\u001b[0;32m    456\u001b[0m     \u001b[38;5;28;01mreturn\u001b[39;00m response\n",
      "File \u001b[1;32m~\\AppData\\Roaming\\Python\\Python313\\site-packages\\selenium\\webdriver\\remote\\errorhandler.py:232\u001b[0m, in \u001b[0;36mErrorHandler.check_response\u001b[1;34m(self, response)\u001b[0m\n\u001b[0;32m    230\u001b[0m         alert_text \u001b[38;5;241m=\u001b[39m value[\u001b[38;5;124m\"\u001b[39m\u001b[38;5;124malert\u001b[39m\u001b[38;5;124m\"\u001b[39m]\u001b[38;5;241m.\u001b[39mget(\u001b[38;5;124m\"\u001b[39m\u001b[38;5;124mtext\u001b[39m\u001b[38;5;124m\"\u001b[39m)\n\u001b[0;32m    231\u001b[0m     \u001b[38;5;28;01mraise\u001b[39;00m exception_class(message, screen, stacktrace, alert_text)  \u001b[38;5;66;03m# type: ignore[call-arg]  # mypy is not smart enough here\u001b[39;00m\n\u001b[1;32m--> 232\u001b[0m \u001b[38;5;28;01mraise\u001b[39;00m exception_class(message, screen, stacktrace)\n",
      "\u001b[1;31mElementNotInteractableException\u001b[0m: Message: element not interactable\n  (Session info: chrome=138.0.7204.184); For documentation on this error, please visit: https://www.selenium.dev/documentation/webdriver/troubleshooting/errors#elementnotinteractableexception\nStacktrace:\n\tGetHandleVerifier [0x0x7ff6abdde935+77845]\n\tGetHandleVerifier [0x0x7ff6abdde990+77936]\n\t(No symbol) [0x0x7ff6abb99b0c]\n\t(No symbol) [0x0x7ff6abbf1ba4]\n\t(No symbol) [0x0x7ff6abbe36c8]\n\t(No symbol) [0x0x7ff6abc188ca]\n\t(No symbol) [0x0x7ff6abbe2f76]\n\t(No symbol) [0x0x7ff6abc18ae0]\n\t(No symbol) [0x0x7ff6abc40b07]\n\t(No symbol) [0x0x7ff6abc186a3]\n\t(No symbol) [0x0x7ff6abbe1791]\n\t(No symbol) [0x0x7ff6abbe2523]\n\tGetHandleVerifier [0x0x7ff6ac0b684d+3059501]\n\tGetHandleVerifier [0x0x7ff6ac0b0c0d+3035885]\n\tGetHandleVerifier [0x0x7ff6ac0d0400+3164896]\n\tGetHandleVerifier [0x0x7ff6abdf8c3e+185118]\n\tGetHandleVerifier [0x0x7ff6abe0054f+216111]\n\tGetHandleVerifier [0x0x7ff6abde72e4+113092]\n\tGetHandleVerifier [0x0x7ff6abde7499+113529]\n\tGetHandleVerifier [0x0x7ff6abdce298+10616]\n\tBaseThreadInitThunk [0x0x7ffd8ddc7374+20]\n\tRtlUserThreadStart [0x0x7ffd8e4bcc91+33]\n"
     ]
    }
   ],
   "source": [
    "from selenium import webdriver\n",
    "from selenium.webdriver.chrome.service import Service\n",
    "from selenium.webdriver.common.by import By\n",
    "from selenium.webdriver.chrome.options import Options\n",
    "from webdriver_manager.chrome import ChromeDriverManager\n",
    "from selenium.webdriver.common.keys import Keys\n",
    "import time\n",
    "\n",
    "service = Service(\"C:\\\\Users\\\\user\\\\Downloads\\\\chromedriver\\\\chromedriver.exe\")\n",
    "\n",
    "options = Options()\n",
    "options.add_argument(\"--disable-gpu\")\n",
    "options.add_argument(\"--start-maximized\")\n",
    "options.add_argument(\"--user-agent=Mozilla/5.0 (Windows NT 10.0; Win64; x64) AppleWebKit/537.36 (KHTML, like Gecko) Chrome/138.0.0.0 Safari/537.36\")\n",
    "\n",
    "prefs = {\n",
    "    \"credentials_enable_service\": False,\n",
    "    \"profile.password_manager_enabled\": False\n",
    "}\n",
    "\n",
    "driver = webdriver.Chrome(service=service, options=options)\n",
    "driver.get(\"https://korean.visitkorea.or.kr/main/area_list.do?type=Place\")\n",
    "time.sleep(3)\n",
    "\n",
    "# 스크롤 내리기 -> 크롤링 -> 버튼 누르기\n",
    "driver.execute_script(\"window.scrollTo(0,document.body.scrollHeight)\")\n",
    "More = driver.find_element(By.XPATH, \"//button[@type='button' and text()='더보기']\")\n",
    "\n",
    "for _ in range(5) :\n",
    "    driver.execute_script(\"window.scrollTo(0,document.body.scrollHeight)\")\n",
    "    elements = driver.find_elements(By.XPATH, \"ul[@id='contentList']//li//a//span\")\n",
    "    for element in elements :\n",
    "        print(element.text.strip())\n",
    "    More.click()\n",
    "# '더보기' 버튼이 클릭되지 않는 문제를 해결하지 못했습니다. 다음 시간까지 꼭 알아보고 해결해보겠습니다 T.T\n",
    "driver.quit()"
   ]
  }
 ],
 "metadata": {
  "kernelspec": {
   "display_name": "Python [conda env:base] *",
   "language": "python",
   "name": "conda-base-py"
  },
  "language_info": {
   "codemirror_mode": {
    "name": "ipython",
    "version": 3
   },
   "file_extension": ".py",
   "mimetype": "text/x-python",
   "name": "python",
   "nbconvert_exporter": "python",
   "pygments_lexer": "ipython3",
   "version": "3.13.5"
  }
 },
 "nbformat": 4,
 "nbformat_minor": 5
}
