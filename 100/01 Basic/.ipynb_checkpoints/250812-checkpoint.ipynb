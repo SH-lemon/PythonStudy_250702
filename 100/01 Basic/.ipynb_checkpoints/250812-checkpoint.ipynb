{
 "cells": [
  {
   "cell_type": "markdown",
   "id": "25c9065c-1a0a-4103-8ddf-c392b301e243",
   "metadata": {},
   "source": [
    "```\n",
    "본인이 현재 사용중인 통신사 사이트 로그인 후 최근 요금명세서 주요항목을 수집하세요.\n",
    "교보문고에 로그인하여 주문 배송조회 페이지의 도서명을 수집하세요.\n",
    "ChatGPT 로그인 후 히스토리에서 최근 5개 질문을 수집하세요.\n",
    "Github 로그인 후 내 레포지토리 리스트를 수집하세요.\n",
    "슬랙에 로그인 후 특정 채널의 최근 메시지 50개를 수집하세요.\n",
    "```"
   ]
  },
  {
   "cell_type": "code",
   "execution_count": 1,
   "id": "9df1d84d-1206-4be6-a21f-971f421db562",
   "metadata": {},
   "outputs": [
    {
     "name": "stdout",
     "output_type": "stream",
     "text": [
      "수동으로 인증 시작!\n",
      "쿠키 저장 완료\n"
     ]
    }
   ],
   "source": [
    "# 1. 통신사 사이트 로그인 => 쿠키 저장\n",
    "\n",
    "from selenium import webdriver\n",
    "from selenium.webdriver.chrome.service import Service\n",
    "from selenium.webdriver.chrome.options import Options\n",
    "from webdriver_manager.chrome import ChromeDriverManager\n",
    "import pickle\n",
    "import time\n",
    "\n",
    "options = Options()\n",
    "options.add_argument(\"--start-maximized\")\n",
    "options.add_argument(\"window-size=1920x1080\")\n",
    "options.add_argument(\"lang=ko_KR\")\n",
    "\n",
    "service = Service(ChromeDriverManager().install())\n",
    "\n",
    "driver = webdriver.Chrome(service = service, options = options)\n",
    "\n",
    "driver.get(\"https://www.tworld.co.kr/web/home\")\n",
    "time.sleep(3)\n",
    "print(\"수동으로 인증 시작!\")\n",
    "time.sleep(30)\n",
    "\n",
    "with open(\"skt_cookies.pkl\", \"wb\") as f :\n",
    "    pickle.dump(driver.get_cookies(), f)\n",
    "\n",
    "print(\"쿠키 저장 완료\")\n",
    "driver.quit()"
   ]
  },
  {
   "cell_type": "code",
   "execution_count": 11,
   "id": "13e80660-5c2c-4797-997f-fdb5e32547fa",
   "metadata": {},
   "outputs": [
    {
     "name": "stdout",
     "output_type": "stream",
     "text": [
      "월정액(휴대폰)\n",
      "89,000원\n",
      "전화번호 안심로그인\n",
      "1,100원\n",
      "TALL케어+3 파손80 *\n",
      "3,440원\n",
      "V컬러링\n",
      "3,300원\n",
      "TALL케어+3 플러스서비스\n",
      "1,760원\n"
     ]
    }
   ],
   "source": [
    "# SKT 로그인 => 최근 요금명세서 주요 항목 수집\n",
    "\n",
    "from selenium import webdriver\n",
    "from selenium.webdriver.chrome.service import Service\n",
    "from selenium.webdriver.chrome.options import Options\n",
    "from selenium.webdriver.common.by import By\n",
    "from webdriver_manager.chrome import ChromeDriverManager\n",
    "import pickle\n",
    "import pandas as pd\n",
    "import time\n",
    "\n",
    "options = Options()\n",
    "options.add_argument(\"--start-maximized\")\n",
    "options.add_argument(\"window-size=1920x1080\")\n",
    "options.add_argument(\"lang=ko_KR\")\n",
    "\n",
    "service = Service(ChromeDriverManager().install())\n",
    "\n",
    "driver = webdriver.Chrome(service = service, options = options)\n",
    "\n",
    "driver.get(\"https://www.tworld.co.kr/web/home\")\n",
    "\n",
    "with open(\"skt_cookies.pkl\", \"rb\") as f :\n",
    "    cookies = pickle.load(f)\n",
    "for cookie in cookies :\n",
    "    driver.add_cookie(cookie)\n",
    "\n",
    "driver.refresh()\n",
    "time.sleep(5)\n",
    "\n",
    "pay_button = driver.find_element(By.CSS_SELECTOR, \"div.my-column__item a.button.data\")\n",
    "pay_button.click()\n",
    "time.sleep(5)\n",
    "\n",
    "category = driver.find_element(By.XPATH, \"//a[@id='commonToggle_button_5']\")\n",
    "category.click()\n",
    "time.sleep(3)\n",
    "\n",
    "driver.execute_script(\"window.scrollTo(0, document.body.scrollHeight);\")\n",
    "time.sleep(2)\n",
    "\n",
    "elements = driver.find_elements(By.XPATH, \"//div[@id='paid-amt-month-bill-intgr']//div[@class='newChargeTable']//li\")\n",
    "\n",
    "for e in elements :\n",
    "    print(e.text.strip())\n",
    "driver.quit()"
   ]
  },
  {
   "cell_type": "code",
   "execution_count": 12,
   "id": "dbd9747d-10f0-4eec-acfc-caa65d04d499",
   "metadata": {},
   "outputs": [
    {
     "name": "stdout",
     "output_type": "stream",
     "text": [
      "수동으로 인증 시작!\n"
     ]
    },
    {
     "ename": "InvalidSessionIdException",
     "evalue": "Message: invalid session id: session deleted as the browser has closed the connection\nfrom disconnected: not connected to DevTools\n  (Session info: chrome=138.0.7204.185); For documentation on this error, please visit: https://www.selenium.dev/documentation/webdriver/troubleshooting/errors#invalidsessionidexception\nStacktrace:\n\tGetHandleVerifier [0x0x2bba83+63395]\n\tGetHandleVerifier [0x0x2bbac4+63460]\n\t(No symbol) [0x0x102113]\n\t(No symbol) [0x0xf1b20]\n\t(No symbol) [0x0x10f922]\n\t(No symbol) [0x0x175c9c]\n\t(No symbol) [0x0x190099]\n\t(No symbol) [0x0x16f1a6]\n\t(No symbol) [0x0x13e7b2]\n\t(No symbol) [0x0x13f654]\n\tGetHandleVerifier [0x0x538883+2672035]\n\tGetHandleVerifier [0x0x533cba+2652634]\n\tGetHandleVerifier [0x0x2e2bca+223466]\n\tGetHandleVerifier [0x0x2d2cb8+158168]\n\tGetHandleVerifier [0x0x2d978d+185517]\n\tGetHandleVerifier [0x0x2c3b78+96408]\n\tGetHandleVerifier [0x0x2c3d02+96802]\n\tGetHandleVerifier [0x0x2ae90a+9770]\n\tBaseThreadInitThunk [0x0x75e5fcc9+25]\n\tRtlGetAppContainerNamedObjectPath [0x0x77ca82ae+286]\n\tRtlGetAppContainerNamedObjectPath [0x0x77ca827e+238]\n\t(No symbol) [0x0]\n",
     "output_type": "error",
     "traceback": [
      "\u001b[1;31m---------------------------------------------------------------------------\u001b[0m",
      "\u001b[1;31mInvalidSessionIdException\u001b[0m                 Traceback (most recent call last)",
      "Cell \u001b[1;32mIn[12], line 25\u001b[0m\n\u001b[0;32m     22\u001b[0m time\u001b[38;5;241m.\u001b[39msleep(\u001b[38;5;241m30\u001b[39m)\n\u001b[0;32m     24\u001b[0m \u001b[38;5;28;01mwith\u001b[39;00m \u001b[38;5;28mopen\u001b[39m(\u001b[38;5;124m\"\u001b[39m\u001b[38;5;124mkyobobook_cookies.pkl\u001b[39m\u001b[38;5;124m\"\u001b[39m, \u001b[38;5;124m\"\u001b[39m\u001b[38;5;124mwb\u001b[39m\u001b[38;5;124m\"\u001b[39m) \u001b[38;5;28;01mas\u001b[39;00m f :\n\u001b[1;32m---> 25\u001b[0m     pickle\u001b[38;5;241m.\u001b[39mdump(driver\u001b[38;5;241m.\u001b[39mget_cookies(), f)\n\u001b[0;32m     27\u001b[0m \u001b[38;5;28mprint\u001b[39m(\u001b[38;5;124m\"\u001b[39m\u001b[38;5;124m쿠키 저장 완료\u001b[39m\u001b[38;5;124m\"\u001b[39m)\n\u001b[0;32m     28\u001b[0m driver\u001b[38;5;241m.\u001b[39mquit()\n",
      "File \u001b[1;32m~\\AppData\\Roaming\\Python\\Python313\\site-packages\\selenium\\webdriver\\remote\\webdriver.py:739\u001b[0m, in \u001b[0;36mWebDriver.get_cookies\u001b[1;34m(self)\u001b[0m\n\u001b[0;32m    727\u001b[0m \u001b[38;5;28;01mdef\u001b[39;00m\u001b[38;5;250m \u001b[39m\u001b[38;5;21mget_cookies\u001b[39m(\u001b[38;5;28mself\u001b[39m) \u001b[38;5;241m-\u001b[39m\u001b[38;5;241m>\u001b[39m \u001b[38;5;28mlist\u001b[39m[\u001b[38;5;28mdict\u001b[39m]:\n\u001b[0;32m    728\u001b[0m \u001b[38;5;250m    \u001b[39m\u001b[38;5;124;03m\"\"\"Returns a set of dictionaries, corresponding to cookies visible in\u001b[39;00m\n\u001b[0;32m    729\u001b[0m \u001b[38;5;124;03m    the current session.\u001b[39;00m\n\u001b[0;32m    730\u001b[0m \n\u001b[1;32m   (...)\u001b[0m\n\u001b[0;32m    737\u001b[0m \u001b[38;5;124;03m    >>> cookies = driver.get_cookies()\u001b[39;00m\n\u001b[0;32m    738\u001b[0m \u001b[38;5;124;03m    \"\"\"\u001b[39;00m\n\u001b[1;32m--> 739\u001b[0m     \u001b[38;5;28;01mreturn\u001b[39;00m \u001b[38;5;28mself\u001b[39m\u001b[38;5;241m.\u001b[39mexecute(Command\u001b[38;5;241m.\u001b[39mGET_ALL_COOKIES)[\u001b[38;5;124m\"\u001b[39m\u001b[38;5;124mvalue\u001b[39m\u001b[38;5;124m\"\u001b[39m]\n",
      "File \u001b[1;32m~\\AppData\\Roaming\\Python\\Python313\\site-packages\\selenium\\webdriver\\remote\\webdriver.py:454\u001b[0m, in \u001b[0;36mWebDriver.execute\u001b[1;34m(self, driver_command, params)\u001b[0m\n\u001b[0;32m    451\u001b[0m response \u001b[38;5;241m=\u001b[39m cast(RemoteConnection, \u001b[38;5;28mself\u001b[39m\u001b[38;5;241m.\u001b[39mcommand_executor)\u001b[38;5;241m.\u001b[39mexecute(driver_command, params)\n\u001b[0;32m    453\u001b[0m \u001b[38;5;28;01mif\u001b[39;00m response:\n\u001b[1;32m--> 454\u001b[0m     \u001b[38;5;28mself\u001b[39m\u001b[38;5;241m.\u001b[39merror_handler\u001b[38;5;241m.\u001b[39mcheck_response(response)\n\u001b[0;32m    455\u001b[0m     response[\u001b[38;5;124m\"\u001b[39m\u001b[38;5;124mvalue\u001b[39m\u001b[38;5;124m\"\u001b[39m] \u001b[38;5;241m=\u001b[39m \u001b[38;5;28mself\u001b[39m\u001b[38;5;241m.\u001b[39m_unwrap_value(response\u001b[38;5;241m.\u001b[39mget(\u001b[38;5;124m\"\u001b[39m\u001b[38;5;124mvalue\u001b[39m\u001b[38;5;124m\"\u001b[39m, \u001b[38;5;28;01mNone\u001b[39;00m))\n\u001b[0;32m    456\u001b[0m     \u001b[38;5;28;01mreturn\u001b[39;00m response\n",
      "File \u001b[1;32m~\\AppData\\Roaming\\Python\\Python313\\site-packages\\selenium\\webdriver\\remote\\errorhandler.py:232\u001b[0m, in \u001b[0;36mErrorHandler.check_response\u001b[1;34m(self, response)\u001b[0m\n\u001b[0;32m    230\u001b[0m         alert_text \u001b[38;5;241m=\u001b[39m value[\u001b[38;5;124m\"\u001b[39m\u001b[38;5;124malert\u001b[39m\u001b[38;5;124m\"\u001b[39m]\u001b[38;5;241m.\u001b[39mget(\u001b[38;5;124m\"\u001b[39m\u001b[38;5;124mtext\u001b[39m\u001b[38;5;124m\"\u001b[39m)\n\u001b[0;32m    231\u001b[0m     \u001b[38;5;28;01mraise\u001b[39;00m exception_class(message, screen, stacktrace, alert_text)  \u001b[38;5;66;03m# type: ignore[call-arg]  # mypy is not smart enough here\u001b[39;00m\n\u001b[1;32m--> 232\u001b[0m \u001b[38;5;28;01mraise\u001b[39;00m exception_class(message, screen, stacktrace)\n",
      "\u001b[1;31mInvalidSessionIdException\u001b[0m: Message: invalid session id: session deleted as the browser has closed the connection\nfrom disconnected: not connected to DevTools\n  (Session info: chrome=138.0.7204.185); For documentation on this error, please visit: https://www.selenium.dev/documentation/webdriver/troubleshooting/errors#invalidsessionidexception\nStacktrace:\n\tGetHandleVerifier [0x0x2bba83+63395]\n\tGetHandleVerifier [0x0x2bbac4+63460]\n\t(No symbol) [0x0x102113]\n\t(No symbol) [0x0xf1b20]\n\t(No symbol) [0x0x10f922]\n\t(No symbol) [0x0x175c9c]\n\t(No symbol) [0x0x190099]\n\t(No symbol) [0x0x16f1a6]\n\t(No symbol) [0x0x13e7b2]\n\t(No symbol) [0x0x13f654]\n\tGetHandleVerifier [0x0x538883+2672035]\n\tGetHandleVerifier [0x0x533cba+2652634]\n\tGetHandleVerifier [0x0x2e2bca+223466]\n\tGetHandleVerifier [0x0x2d2cb8+158168]\n\tGetHandleVerifier [0x0x2d978d+185517]\n\tGetHandleVerifier [0x0x2c3b78+96408]\n\tGetHandleVerifier [0x0x2c3d02+96802]\n\tGetHandleVerifier [0x0x2ae90a+9770]\n\tBaseThreadInitThunk [0x0x75e5fcc9+25]\n\tRtlGetAppContainerNamedObjectPath [0x0x77ca82ae+286]\n\tRtlGetAppContainerNamedObjectPath [0x0x77ca827e+238]\n\t(No symbol) [0x0]\n"
     ]
    }
   ],
   "source": [
    "# 교보문고 로그인 -> 쿠키 수집\n",
    "\n",
    "from selenium import webdriver\n",
    "from selenium.webdriver.chrome.service import Service\n",
    "from selenium.webdriver.chrome.options import Options\n",
    "from webdriver_manager.chrome import ChromeDriverManager\n",
    "import pickle\n",
    "import time\n",
    "\n",
    "options = Options()\n",
    "options.add_argument(\"--start-maximized\")\n",
    "options.add_argument(\"window-size=1920x1080\")\n",
    "options.add_argument(\"lang=ko_KR\")\n",
    "\n",
    "service = Service(ChromeDriverManager().install())\n",
    "\n",
    "driver = webdriver.Chrome(service = service, options = options)\n",
    "\n",
    "driver.get(\"https://www.kyobobook.co.kr/\")\n",
    "time.sleep(3)\n",
    "print(\"수동으로 인증 시작!\")\n",
    "time.sleep(30)\n",
    "\n",
    "with open(\"kyobobook_cookies.pkl\", \"wb\") as f :\n",
    "    pickle.dump(driver.get_cookies(), f)\n",
    "\n",
    "print(\"쿠키 저장 완료\")\n",
    "driver.quit()\n",
    "\n",
    "# 교보문고 보안 정책에 따라 개발자 도구 사용이 차단되었습니다. 개발자 도구를 종료 후 이용해주세요.\n",
    "# 로그인 링크로 갈 수가 없네요..ㅠㅠ"
   ]
  },
  {
   "cell_type": "code",
   "execution_count": 13,
   "id": "932f5d0f-dc3d-4a90-bd8d-21b00a21310d",
   "metadata": {},
   "outputs": [
    {
     "name": "stdout",
     "output_type": "stream",
     "text": [
      "수동으로 인증 시작!\n",
      "쿠키 저장 완료\n"
     ]
    }
   ],
   "source": [
    "# github log-in\n",
    "\n",
    "from selenium import webdriver\n",
    "from selenium.webdriver.chrome.service import Service\n",
    "from selenium.webdriver.chrome.options import Options\n",
    "from webdriver_manager.chrome import ChromeDriverManager\n",
    "import pickle\n",
    "import time\n",
    "\n",
    "options = Options()\n",
    "options.add_argument(\"--start-maximized\")\n",
    "options.add_argument(\"window-size=1920x1080\")\n",
    "options.add_argument(\"lang=ko_KR\")\n",
    "\n",
    "service = Service(ChromeDriverManager().install())\n",
    "\n",
    "driver = webdriver.Chrome(service = service, options = options)\n",
    "\n",
    "driver.get(\"https://github.com/\")\n",
    "time.sleep(3)\n",
    "print(\"수동으로 인증 시작!\")\n",
    "time.sleep(30)\n",
    "\n",
    "with open(\"github_cookies.pkl\", \"wb\") as f :\n",
    "    pickle.dump(driver.get_cookies(), f)\n",
    "\n",
    "print(\"쿠키 저장 완료\")\n",
    "driver.quit()\n",
    "\n",
    "# 브라우저 또는 앱이 안전하지 않을 수 있습니다. 자세히 알아보기\n",
    "# 다른 브라우저를 사용해 보세요. 이미 지원되는 브라우저를 사용 중이라면 로그인을 다시 시도해 보시기 바랍니다.\n",
    "\n",
    "# 아무래도 구글 계정으로 로그인 하는 것이 막힌 것 같습니다."
   ]
  }
 ],
 "metadata": {
  "kernelspec": {
   "display_name": "Python [conda env:base] *",
   "language": "python",
   "name": "conda-base-py"
  },
  "language_info": {
   "codemirror_mode": {
    "name": "ipython",
    "version": 3
   },
   "file_extension": ".py",
   "mimetype": "text/x-python",
   "name": "python",
   "nbconvert_exporter": "python",
   "pygments_lexer": "ipython3",
   "version": "3.13.5"
  }
 },
 "nbformat": 4,
 "nbformat_minor": 5
}
