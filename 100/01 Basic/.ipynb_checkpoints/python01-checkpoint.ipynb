{
 "cells": [
  {
   "cell_type": "markdown",
   "id": "55ca5c26-73f9-4a04-a92e-f45e972039d6",
   "metadata": {},
   "source": [
    "### 1. 네이버 뉴스에서 '디지털 마케팅' 키워드로 검색한 뉴스 제목 10개를 수집하세요."
   ]
  },
  {
   "cell_type": "code",
   "execution_count": 8,
   "id": "b78601cc-c25f-4cda-a09c-e17bdbc77e41",
   "metadata": {},
   "outputs": [
    {
     "name": "stdout",
     "output_type": "stream",
     "text": [
      "1. 한컴위드, 다날과 차세대 디지털 금융 서비스 시장 공동 공략\n",
      "2. JT저축은행-한국폴리텍대학, 디지털 역량 강화 위한 챗GPT 교육\n",
      "3. 조선대, 인도네시아 에어랑가대학 대상 치과기술 마케팅 연수 개최\n",
      "4. SOOP, 2Q 영업익 300억·9.9%↓…'마케팅·인건비' 상승 영향\n",
      "5. 롯데·신라免, 타겟 마케팅으로 부진 속 돌파구 찾는다\n",
      "6. 국민체육진흥공단, '전국 대학생 스포츠 마케팅 경진 대회' 개최\n",
      "7. 진화하는 은행 캐릭터 마케팅…신한은행 \"금융 여정 동행 경험 심는다\"\n",
      "8. 다날·한컴위드, 스테이블코인 전자금융 사업 본격화 …\"시장 최적화 디...\n",
      "9. [Biz-inside,China] 쑥쑥 크는 中 전자상거래, AI로 무장하다…상담·마케...\n",
      "10. 정읍시, 지황 농산물 가공식품 온라인 마케팅 강화교육 수료\n"
     ]
    }
   ],
   "source": [
    "import requests\n",
    "from bs4 import BeautifulSoup\n",
    "\n",
    "query = \"디지털 마케팅\"\n",
    "url = f\"https://search.naver.com/search.naver?where=news&query={query}\"\n",
    "\n",
    "# 콘솔 창에 들어가서 window.navigator.userAgent 입력\n",
    "headers = {\n",
    "    \"User-Agent\": \"Mozilla/5.0 (Windows NT 10.0; Win64; x64) AppleWebKit/537.36 (KHTML, like Gecko) Chrome/138.0.0.0 Safari/537.36\"\n",
    "}\n",
    "\n",
    "res = requests.get(url, headers=headers)\n",
    "soup = BeautifulSoup(res.text, \"html.parser\")\n",
    "\n",
    "titles = soup.select(\"a.ox1N67gcMkHhMh7hbfHi.VZxw34rcBHTWHgERxv0b\")\n",
    "for i, title in enumerate(titles[:10], 1) :\n",
    "    print(f\"{i}. {title.text.strip()}\")"
   ]
  },
  {
   "cell_type": "markdown",
   "id": "2ece68e1-bc56-455e-a309-ce8ef75d1a35",
   "metadata": {},
   "source": [
    "### 2. Daum 뉴스에서 IT 섹션의 기사 제목과 링크를 수집하세요."
   ]
  },
  {
   "cell_type": "code",
   "execution_count": 25,
   "id": "ff1cf3e9-6e4a-42c2-8e9e-1a801ea65d7a",
   "metadata": {},
   "outputs": [
    {
     "name": "stdout",
     "output_type": "stream",
     "text": [
      "1. 역대 최대 매출 네이버·역성장한 카카오 … 엇갈린 2분기 실적 전망\n",
      "https://v.daum.net/v/20250730140747462\n",
      "2. 마이데이터 생태계 확산 나선 개보위, '기업 지원부터 플랫폼 구축까지'\n",
      "https://v.daum.net/v/20250730120202563\n",
      "3. “2026 AI 에이전트 도입 실전 매뉴얼 세미나” 9월 3일 개최\n",
      "https://v.daum.net/v/20250730110903151\n",
      "4. 블록체인서 AI까지…'K-캐릭터'로 세계 무대 사로잡는 한국 공대생\n",
      "https://v.daum.net/v/20250730102346771\n",
      "5. [단독]삼성전자 수원사업장 직원 주머니서 스마트폰 발화...응급조치\n",
      "https://v.daum.net/v/20250730092504561\n",
      "6. 데이터센터의 심장을 식혀라! 'Next Smart Cooling 2025' 웨비나 8월 21일 개최\n",
      "https://v.daum.net/v/20250730090946843\n",
      "7. AI 업무혁신 솔루션 한자리에...'2025 스마트 워크 & 컨택센터 엑스포' 8월 20일 코엑스에서 개최\n",
      "https://v.daum.net/v/20250730090605669\n",
      "8. 삼성·애플, 31일 나란히 실적 발표...모바일 성적 대비 주목\n",
      "https://v.daum.net/v/20250730075604575\n",
      "9. 인재 떠나고 마케팅까지 \"눈치 없어\"…잘나가던 애플 '발칵'\n",
      "https://v.daum.net/v/20250730063150293\n"
     ]
    }
   ],
   "source": [
    "import requests\n",
    "from bs4 import BeautifulSoup\n",
    "\n",
    "url = \"https://news.daum.net/it-tech\"\n",
    "\n",
    "headers = {\n",
    "    \"User-Agent\" : \"Mozilla/5.0 (Windows NT 10.0; Win64; x64) AppleWebKit/537.36 (KHTML, like Gecko) Chrome/138.0.0.0 Safari/537.36\"\n",
    "}\n",
    "\n",
    "res = requests.get(url, headers = headers)\n",
    "res.encoding = \"UTF-8\"\n",
    "soup = BeautifulSoup(res.text, \"html.parser\")\n",
    "\n",
    "titles = soup.select(\"strong.tit_txt\")\n",
    "links = soup.select(\"a.item_newsheadline2\")\n",
    "\n",
    "# for i, t in enumerate(titles[:10],1):\n",
    "#     print(f\"{i}. {t.get_text().strip()}\")\n",
    "# for i, l in enumerate(links[:10],1) :\n",
    "#     href = l.get(\"href\")\n",
    "#     print(f\"{i}. {href.strip()}\")\n",
    "i = 0\n",
    "for one, two in zip(titles[:9], links[:9]) :\n",
    "    i = i +1\n",
    "    print(f\"{i}. {one.get_text().strip()}\\n{two.get(\"href\").strip()}\")"
   ]
  },
  {
   "cell_type": "code",
   "execution_count": 28,
   "id": "be1272ea-13b3-4f2f-a65c-7464857318d3",
   "metadata": {},
   "outputs": [
    {
     "name": "stdout",
     "output_type": "stream",
     "text": [
      "1. AI 핵심인재 키운다… 과기부, 생성형 AI·신진연구자 양성할 6개 기관 선정 [이데일리 김현아 기자]AI 산업 현장과 호흡을 맞추는 ‘산학협력형 인재 양성’이 본격화된다. 과학기술정보통신부(장관 배경훈)는 30일 ‘생성형 AI 선도인재양성’ 및 ‘AI 최고급 신진연구자 지원’ 사업의 신규 수행기관 6곳을 선정하고, 2025년 추경 예산을 통해 본격적인 AI 인재 양성에 착수한다고 밝혔다. 이번 사업은 AI 기술력뿐만 아니라 실제 이데일리 2분 전 - https://v.daum.net/v/20250730141403739\n",
      "2. 수천만 개 사내문서도 '뚝딱'…日서 난리 난 AI가 국내산? 한국경제 4분 전 - https://v.daum.net/v/20250730141204652\n",
      "3. 하반기 줄잇는 신작게임에 'MMORPG' 부활…\"사활 걸었다\" 머니투데이 5분 전 - https://v.daum.net/v/20250730141146624\n",
      "4. 뜨거운 감자 '게임 질병코드'… 문체-복지, 엇갈린 답변에 대립각 재점화 전자신문 5분 전 - https://v.daum.net/v/20250730141104596\n",
      "5. AI로 디지털 자신감 키운다…과학동아AiR 수업에서 몰입 효과 확인 동아사이언스 8분 전 - https://v.daum.net/v/20250730140804479\n",
      "6. 네이처 “中 인재 유치 정책, 연구 능력 높였지만 내부 균열도 심화” 조선비즈 13분 전 - https://v.daum.net/v/20250730140257231\n",
      "7. 폭염·열대야에도 생체 시계 고장 없는 이유…[달콤한 사이언스] 서울신문 14분 전 - https://v.daum.net/v/20250730140204159\n",
      "8. [人사이트] 전명준 KT 데이터서비스담당 “디도스 공격 대형화 추세…클린존으로 기업 보안관될 것” 전자신문 23분 전 - https://v.daum.net/v/20250730135300778\n",
      "9. 냅킨에 적은 아이디어가 5년 뒤 논문으로…\"수학연구의 시작은 대화\" 동아사이언스 29분 전 - https://v.daum.net/v/20250730134747596\n"
     ]
    }
   ],
   "source": [
    "import requests\n",
    "from bs4 import BeautifulSoup\n",
    "\n",
    "url = \"https://news.daum.net/tech\"\n",
    "\n",
    "headers = {\n",
    "    \"User-Agent\" : \"Mozilla/5.0 (Windows NT 10.0; Win64; x64) AppleWebKit/537.36 (KHTML, like Gecko) Chrome/138.0.0.0 Safari/537.36\"\n",
    "}\n",
    "\n",
    "res = requests.get(url, headers = headers)\n",
    "res.encoding = \"UTF-8\"\n",
    "# 인코딩 방식이 다르면 글자가 깨질 수 있음\n",
    "soup = BeautifulSoup(res.text, \"html.parser\")\n",
    "\n",
    "articles = soup.select(\"ul.list_newsheadline2 li a.item_newsheadline2\")\n",
    "for i, article in enumerate(articles, 1) :\n",
    "    title = article.text.strip()\n",
    "    link = article[\"href\"] # href 값을 가져옴\n",
    "    print(f\"{i}. {title} - {link}\")"
   ]
  },
  {
   "cell_type": "markdown",
   "id": "f1f3e8a9-39a1-41e3-9960-27905f6d4ac4",
   "metadata": {},
   "source": [
    "### 3. yes24의 경제 베스트셀러 1~10위 도서 제목과 저자를 수집하세요."
   ]
  },
  {
   "cell_type": "code",
   "execution_count": 47,
   "id": "b5197e40-9f1c-4f28-91e4-265a6b799cdd",
   "metadata": {},
   "outputs": [
    {
     "name": "stdout",
     "output_type": "stream",
     "text": [
      "1위: 듀얼 브레인 - 이선 몰릭 저/신동숙 역\n",
      "2위: 이웃집 백만장자 (리미티드 에디션) - 토머스 J. 스탠리, 윌리엄 D. 댄코 저/홍정희 역\n",
      "3위: 세계 경제 지각 변동 - 박종훈 저\n",
      "4위: 이게 되네? 제미나이 노트북LM 미친 활용법 51제 - 오힘찬 저\n",
      "5위: 더 그레이트 비트코인 - 오태민 저\n",
      "6위: 박태웅의 AI 강의 2025 - 박태웅 저\n",
      "7위: AI 에이전트 트렌드&활용백과 - 김덕진, 김아람 저\n",
      "8위: 트럼프 시대의 지정학과 비트코인 - 오태민 저\n",
      "9위: 달러는 왜 비트코인을 싫어하는가 - 사이페딘 아모스 저/위대선 역\n",
      "10위: 왜 그들만 부자가 되는가 - 필립 바구스, 안드레아스 마르크바르트 저/배진아 역\n",
      "11위: 미치도록 보고 싶었던 돈의 얼굴 - EBS 돈의 얼굴 제작진, 조현영 저/최상엽 감수\n",
      "12위: 빅 사이클 - 레이 달리오 저/조용빈 역\n",
      "13위: 자본주의 - EBS 〈자본주의〉제작팀, 정지은, 고희정 저/EBS MEDIA 기획\n",
      "14위: 결핍은 우리를 어떻게 변화시키는가 - 센딜 멀레이너선, 엘다 샤퍼 저/이경식 역\n",
      "15위: 생각에 관한 생각 - 대니얼 카너먼 저/이창신 역\n",
      "16위: 환율의 대전환 - 오건영 저\n",
      "17위: 경제기사 궁금증 300문 300답 - 곽해선 저\n",
      "18위: 모든 돈의 미래 비트코인 - 홍익희 저\n",
      "19위: 아들아, 미국주식 이렇게 하지 마라 - 이주택 저\n",
      "20위: 비트코인의 시대 - 김창익 저\n",
      "21위: AI 전쟁 2.0 - 하정우, 한상기 저\n",
      "22위: 넛지: 파이널 에디션 - 리처드 탈러, 캐스 선스타인 저/이경식 역/최정규 감수\n",
      "23위: 부자의 기술 - 박승영, 김수연 저\n",
      "24위: 부의 추월차선 (10주년 스페셜 에디션) - 엠제이 드마코 저/신소영 역\n"
     ]
    }
   ],
   "source": [
    "import requests\n",
    "from bs4 import BeautifulSoup\n",
    "\n",
    "url = \"https://www.yes24.com/product/category/bestseller?pageNumber=1&pageSize=24&categoryNumber=001001025007\"\n",
    "\n",
    "headers = {\n",
    "    \"User-Agent\" : \"Mozilla/5.0 (Windows NT 10.0; Win64; x64) AppleWebKit/537.36 (KHTML, like Gecko) Chrome/138.0.0.0 Safari/537.36\"\n",
    "}\n",
    "\n",
    "res = requests.get(url, headers = headers)\n",
    "res.encoding = \"UTF-8\"\n",
    "soup = BeautifulSoup(res.text, \"html.parser\")\n",
    "\n",
    "titles = soup.select(\"ul#yesBestList a.gd_name\")\n",
    "authors = soup.select(\"ul#yesBestList span.authPub.info_auth\")\n",
    "\n",
    "i=0\n",
    "for t, a in zip(titles,authors) :\n",
    "    i = i+1\n",
    "    print(f\"{i}위: {t.get_text().strip()} - {a.get_text().strip()}\")"
   ]
  },
  {
   "cell_type": "code",
   "execution_count": 58,
   "id": "18e88435-511a-446f-993e-c0696de5891a",
   "metadata": {},
   "outputs": [
    {
     "name": "stdout",
     "output_type": "stream",
     "text": [
      "1. 듀얼 브레인 - 이선 몰릭저/신동숙역\n",
      "2. 이웃집 백만장자 (리미티드 에디션) - 토머스 J. 스탠리,윌리엄 D. 댄코저/홍정희역\n",
      "3. 세계 경제 지각 변동 - 박종훈저\n",
      "4. 이게 되네? 제미나이 노트북LM 미친 활용법 51제 - 오힘찬저\n",
      "5. 더 그레이트 비트코인 - 오태민저\n",
      "6. 박태웅의 AI 강의 2025 - 박태웅저\n",
      "7. AI 에이전트 트렌드&활용백과 - 김덕진,김아람저\n",
      "8. 트럼프 시대의 지정학과 비트코인 - 오태민저\n",
      "9. 달러는 왜 비트코인을 싫어하는가 - 사이페딘 아모스저/위대선역\n",
      "10. 왜 그들만 부자가 되는가 - 필립 바구스,안드레아스 마르크바르트저/배진아역\n"
     ]
    }
   ],
   "source": [
    "import requests\n",
    "from bs4 import BeautifulSoup\n",
    "\n",
    "url = \"https://www.yes24.com/product/category/bestseller?pageNumber=1&pageSize=24&categoryNumber=001001025007\"\n",
    "\n",
    "headers = {\n",
    "    \"User-Agent\" : \"Mozilla/5.0 (Windows NT 10.0; Win64; x64) AppleWebKit/537.36 (KHTML, like Gecko) Chrome/138.0.0.0 Safari/537.36\"\n",
    "}\n",
    "\n",
    "res = requests.get(url, headers=headers)\n",
    "res.encoding = \"UTF-8\"\n",
    "soup = BeautifulSoup(res.text, \"html.parser\")\n",
    "\n",
    "books = soup.select(\"ul#yesBestList > li\")\n",
    "\n",
    "for i, book in enumerate(books[:10], 1):\n",
    "    title_tag = book.select(\"div.info_row.info_name a.gd_name\")\n",
    "    author_tag = book.select(\"span.authPub.info_auth\")\n",
    "    # 이미 찾은 값에서 다시 select할 수 있다\n",
    "    \n",
    "    if title_tag and author_tag:\n",
    "        title = title_tag[0].get_text(strip=True)\n",
    "        author = author_tag[0].get_text(strip=True)\n",
    "        print(f\"{i}. {title} - {author}\")"
   ]
  },
  {
   "cell_type": "markdown",
   "id": "cf9eb932-e556-431a-869a-4dda644fbad1",
   "metadata": {},
   "source": [
    "### 4. 기상청 날씨 페이지에서 오늘의 전국 날씨 요약을 추출하세요."
   ]
  },
  {
   "cell_type": "code",
   "execution_count": 74,
   "id": "ebff4975-738e-45c2-8739-e04232767355",
   "metadata": {},
   "outputs": [
    {
     "name": "stdout",
     "output_type": "stream",
     "text": [
      "오늘의 전국 날씨 요약 :\n",
      "□  (종합) 당분간 무더위와 열대야 주의, 전남해안과 경남남해안, 제주도해안 너울 유의\n"
     ]
    }
   ],
   "source": [
    "import requests\n",
    "from bs4 import BeautifulSoup\n",
    "\n",
    "url = \"https://testweather.kma.go.kr/w/weather/forecast/short-term.do\"\n",
    "\n",
    "headers = {\n",
    "    \"User-Agent\" : \"Mozilla/5.0 (Windows NT 10.0; Win64; x64) AppleWebKit/537.36 (KHTML, like Gecko) Chrome/138.0.0.0 Safari/537.36\"\n",
    "}\n",
    "\n",
    "res = requests.get(url, headers=headers)\n",
    "res.encoding = \"UTF-8\"\n",
    "soup = BeautifulSoup(res.text, \"html.parser\")\n",
    "\n",
    "weather = soup.select_one(\"div.cmp-view-content > p.summary > span.depth_1\")\n",
    "\n",
    "if weather :\n",
    "    print(\"오늘의 전국 날씨 요약 :\")\n",
    "    print(weather.text.strip())\n",
    "else:\n",
    "    print(\"날씨 요약 정보를 찾을 수 없습니다.\")"
   ]
  },
  {
   "cell_type": "markdown",
   "id": "7f4f3a70-1c67-4efe-a897-6e555798039e",
   "metadata": {},
   "source": [
    "### 5. 잡코리아 '데이터분석가' 직무 공고 제목 20개를 수집하세요."
   ]
  },
  {
   "cell_type": "code",
   "execution_count": 78,
   "id": "41a8525e-b577-438c-89b6-082894b19066",
   "metadata": {},
   "outputs": [
    {
     "name": "stdout",
     "output_type": "stream",
     "text": [
      "1. 데이터 분석가 (경력)\n",
      "2. 데이터 분석가\n",
      "3. [CVS] 데이터 분석가(Business Analyst)\n",
      "4. [쿡앱스] 게임 데이터 분석가 모집\n",
      "5. [기어세컨드] 데이터 분석가 채용\n",
      "6. 데이터 애널리스트 / 데이터분석 전문가 / 통계 전문가 / Data Analyst (통\n",
      "7. Data Analyst (데이터 분석가)\n",
      "8. [CVS] 데이터 분석가 1년 인턴 (Business Analyst Intern)\n",
      "9. [인텔리전스랩스그룹] 데이터 분석가 (인게임 로그 및 비즈니스 인사이트 분석)\n",
      "10. 공공데이터 품질 관리와 진단, 데이터 분석가\n",
      "11. 데이터 분석가(신입/경력)\n",
      "12. [다우키움 계열사] 데이터 분석가 (경력)\n",
      "13. [통계팀] 데이터 분석가 모집\n",
      "14. [커머스플랫폼팀] 데이터 분석 전문가 (Senior Data Analyst) 모집\n",
      "15. [디저트39] 데이터 분석가(Data Analyst)/데이터 분석 엔지니어 팀장급\n",
      "16. 데이터분석가 구인\n",
      "17. [어니컴(주)] 데이터분석가 신입/경력 모집\n",
      "18. [(중급이상/ 경력직)] 빅데이터 전문가를 모십니다\n",
      "19. 데이터분석가 채용(경력)\n",
      "20. [리비바이오] 데이터분석가\n"
     ]
    }
   ],
   "source": [
    "import requests\n",
    "from bs4 import BeautifulSoup\n",
    "\n",
    "url = \"https://www.jobkorea.co.kr/Search/?stext=%EB%8D%B0%EC%9D%B4%ED%84%B0%20%EB%B6%84%EC%84%9D%EA%B0%80\"\n",
    "\n",
    "headers = {\n",
    "    \"User-Agent\" : \"Mozilla/5.0 (Windows NT 10.0; Win64; x64) AppleWebKit/537.36 (KHTML, like Gecko) Chrome/138.0.0.0 Safari/537.36\"\n",
    "}\n",
    "\n",
    "res = requests.get(url, headers=headers)\n",
    "res.encoding = \"UTF-8\"\n",
    "soup = BeautifulSoup(res.text, \"html.parser\")\n",
    "\n",
    "titles = soup.select(\"div.Tabs_content__1cw1bssl span.Typography_variant_size18__344nw25.Typography_weight_medium__344nw2c.Typography_color_gray800__344nw2l\")\n",
    "for i, t in enumerate(titles[:21]) :\n",
    "    print(f\"{i+1}. {t.get_text().strip()}\")"
   ]
  },
  {
   "cell_type": "markdown",
   "id": "8b018a30-09a1-4d4d-b2fb-b970274d1bc1",
   "metadata": {},
   "source": [
    "### 6. 잡코리아에서 '데이터 분석가' 직무 공고 제목을 수집하세요.\n",
    "- 셀레니움 코드로 크롤링\n",
    "- 6개 페이지 > 서울지역 > 경력 1~3년차만 크롤링\n",
    "- 엑셀로 출력(*해당 공고 타이틀과 지원할 수 있는 url 링크)"
   ]
  },
  {
   "cell_type": "code",
   "execution_count": 86,
   "id": "53cd9572-572f-4421-a339-ba370400b1cb",
   "metadata": {},
   "outputs": [],
   "source": [
    "# 오답. 안 나옴\n",
    "from selenium import webdriver\n",
    "from selenium.webdriver.chrome.service import Service\n",
    "from selenium.webdriver.chrome.options import Options\n",
    "from selenium.webdriver.common.by import By\n",
    "from webdriver_manager.chrome import ChromeDriverManager\n",
    "import openpyxl\n",
    "import time\n",
    "\n",
    "options = Options()\n",
    "options.add_argument(\"--start-maximized\")\n",
    "options.add_argument(\"lang=ko_KR\")\n",
    "\n",
    "service = Service(ChromeDriverManager().install())\n",
    "\n",
    "driver = webdriver.Chrome(service = service, options = options)\n",
    "\n",
    "pn = 1\n",
    "\n",
    "driver.get(f\"https://www.jobkorea.co.kr/Search?stext=데이터+분석가&Page_No={pn}&local=I000&tabType=recruit&careerType=2&careerMin=1&careerMax=3\")\n",
    "\n",
    "time.sleep(3)\n",
    "for pn in range(6) :\n",
    "    driver.execute_script(\"window.scrollTo(0, document.body.scrollHeight);\")\n",
    "    titles = driver.find_elements(By.XPATH, \"//span[@class='Flex_display_flex__i0l0hl2.Flex_gap_space4__i0l0hly.Flex_align_center__i0l0hl8']\")\n",
    "    for t in titles :\n",
    "        print(t.get_text().strip())\n",
    "    pn = pn+1\n",
    "    driver.get(f\"https://www.jobkorea.co.kr/Search?stext=데이터+분석가&Page_No={pn}&local=I000&tabType=recruit&careerType=2&careerMin=1&careerMax=3\")\n",
    "driver.quit()"
   ]
  },
  {
   "cell_type": "code",
   "execution_count": 87,
   "id": "9c3aeebf-48c3-40fa-9125-9238f6cd0150",
   "metadata": {},
   "outputs": [
    {
     "name": "stdout",
     "output_type": "stream",
     "text": [
      "Defaulting to user installation because normal site-packages is not writeable\n",
      "Requirement already satisfied: pandas in c:\\programdata\\anaconda3\\lib\\site-packages (2.2.3)\n",
      "Requirement already satisfied: numpy>=1.26.0 in c:\\programdata\\anaconda3\\lib\\site-packages (from pandas) (2.1.3)\n",
      "Requirement already satisfied: python-dateutil>=2.8.2 in c:\\programdata\\anaconda3\\lib\\site-packages (from pandas) (2.9.0.post0)\n",
      "Requirement already satisfied: pytz>=2020.1 in c:\\programdata\\anaconda3\\lib\\site-packages (from pandas) (2024.1)\n",
      "Requirement already satisfied: tzdata>=2022.7 in c:\\programdata\\anaconda3\\lib\\site-packages (from pandas) (2025.2)\n",
      "Requirement already satisfied: six>=1.5 in c:\\programdata\\anaconda3\\lib\\site-packages (from python-dateutil>=2.8.2->pandas) (1.17.0)\n",
      "Note: you may need to restart the kernel to use updated packages.\n"
     ]
    }
   ],
   "source": [
    "pip install pandas"
   ]
  },
  {
   "cell_type": "code",
   "execution_count": 92,
   "id": "46b47d3d-7514-4c58-a731-0aaf49fb0efb",
   "metadata": {},
   "outputs": [
    {
     "name": "stdout",
     "output_type": "stream",
     "text": [
      "엑셀 저장 완료\n"
     ]
    }
   ],
   "source": [
    "from selenium import webdriver\n",
    "from selenium.webdriver.chrome.service import Service\n",
    "from selenium.webdriver.chrome.options import Options\n",
    "from webdriver_manager.chrome import ChromeDriverManager\n",
    "from selenium.webdriver.common.by import By\n",
    "import time\n",
    "import urllib.parse\n",
    "import pandas as pd\n",
    "\n",
    "service = Service(ChromeDriverManager().install())\n",
    "\n",
    "options = Options()\n",
    "options.add_argument(\"--headless\")\n",
    "options.add_argument(\"--window-size=1920x1080\")\n",
    "options.add_argument(\"--start-maximized\")\n",
    "options.add_argument(\"--user-agent=Mozilla/5.0 (Windows NT 10.0; Win64; x64) AppleWebKit/537.36 (KHTML, like Gecko) Chrome/138.0.0.0 Safari/537.36\")\n",
    "options.add_argument(\"--lang=ko_KR\")\n",
    "# 셀레니움 세팅\n",
    "\n",
    "driver = webdriver.Chrome(service=service, options=options)\n",
    "\n",
    "query = \"데이터 분석가\"\n",
    "encoded_query = urllib.parse.quote(query) # 인코딩\n",
    "\n",
    "max_pages = 6\n",
    "\n",
    "results = []\n",
    "\n",
    "for page in range(1, max_pages +1) :\n",
    "    url = f\"https://www.jobkorea.co.kr/Search/?stext={encoded_query}&careerType=1&tabType=recruit&Page_No={page}\"\n",
    "    driver.get(url) # url 변화\n",
    "    time.sleep(2)\n",
    "\n",
    "    job_posts = driver.find_elements(By.CSS_SELECTOR, \"div.styles_mb_space8__dk46ts1p\")\n",
    "    for post in job_posts :\n",
    "        try: \n",
    "            title_elem = post.find_element(By.CSS_SELECTOR, \"a.sn28bt0\")\n",
    "            title = title_elem.text.strip()\n",
    "            link = title_elem.get_attribute(\"href\") # 하이퍼링크 속성 불러오기\n",
    "            results.append({\n",
    "                \"제목\" : title,\n",
    "                \"지원링크\" : link\n",
    "            })\n",
    "        except:\n",
    "            continue\n",
    "driver.quit()\n",
    "\n",
    "df = pd.DataFrame(results) # pandas는 바로 엑셀 출력 가능\n",
    "df.to_excel(\"잡코리아_데이터분석가_서울_신입_3페이지.xlsx\", index = False)\n",
    "print(\"엑셀 저장 완료\")"
   ]
  },
  {
   "cell_type": "code",
   "execution_count": null,
   "id": "5e0cbf90-925b-43ad-b33d-0c036f50fb81",
   "metadata": {},
   "outputs": [],
   "source": []
  }
 ],
 "metadata": {
  "kernelspec": {
   "display_name": "Python [conda env:base] *",
   "language": "python",
   "name": "conda-base-py"
  },
  "language_info": {
   "codemirror_mode": {
    "name": "ipython",
    "version": 3
   },
   "file_extension": ".py",
   "mimetype": "text/x-python",
   "name": "python",
   "nbconvert_exporter": "python",
   "pygments_lexer": "ipython3",
   "version": "3.13.5"
  }
 },
 "nbformat": 4,
 "nbformat_minor": 5
}
