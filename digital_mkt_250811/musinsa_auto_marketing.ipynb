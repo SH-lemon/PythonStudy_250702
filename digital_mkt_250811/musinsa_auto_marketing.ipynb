{
 "cells": [
  {
   "cell_type": "code",
   "execution_count": 2,
   "id": "8d4dd07b-ccdd-461f-9245-bf3836bc3fa6",
   "metadata": {},
   "outputs": [
    {
     "name": "stdout",
     "output_type": "stream",
     "text": [
      "목표 키워드 : 이자반\n",
      "검색 완료. 현재 페이지 타이틀 : 이자반 | 무신사 추천 상품\n"
     ]
    },
    {
     "data": {
      "text/html": [
       "<div>\n",
       "<style scoped>\n",
       "    .dataframe tbody tr th:only-of-type {\n",
       "        vertical-align: middle;\n",
       "    }\n",
       "\n",
       "    .dataframe tbody tr th {\n",
       "        vertical-align: top;\n",
       "    }\n",
       "\n",
       "    .dataframe thead th {\n",
       "        text-align: right;\n",
       "    }\n",
       "</style>\n",
       "<table border=\"1\" class=\"dataframe\">\n",
       "  <thead>\n",
       "    <tr style=\"text-align: right;\">\n",
       "      <th></th>\n",
       "      <th>상품명</th>\n",
       "      <th>URL</th>\n",
       "      <th>리뷰수</th>\n",
       "    </tr>\n",
       "  </thead>\n",
       "  <tbody>\n",
       "    <tr>\n",
       "      <th>0</th>\n",
       "      <td>이자반X탄산 링거 티셔츠 스카이 블루 (맨)</td>\n",
       "      <td>https://www.musinsa.com/products/5255001</td>\n",
       "      <td>12</td>\n",
       "    </tr>\n",
       "    <tr>\n",
       "      <th>1</th>\n",
       "      <td>이자반X탄산 고등어 티셔츠 화이트 (맨)</td>\n",
       "      <td>https://www.musinsa.com/products/5254998</td>\n",
       "      <td>7</td>\n",
       "    </tr>\n",
       "    <tr>\n",
       "      <th>2</th>\n",
       "      <td>이자반X탄산 링거 티셔츠 스카이 블루 (우먼)</td>\n",
       "      <td>https://www.musinsa.com/products/5254991</td>\n",
       "      <td>5</td>\n",
       "    </tr>\n",
       "    <tr>\n",
       "      <th>3</th>\n",
       "      <td>이자반X탄산 링거 티셔츠 와인 (맨)</td>\n",
       "      <td>https://www.musinsa.com/products/5255003</td>\n",
       "      <td>5</td>\n",
       "    </tr>\n",
       "    <tr>\n",
       "      <th>4</th>\n",
       "      <td>이자반X탄산 고등어 티셔츠 화이트 (우먼)</td>\n",
       "      <td>https://www.musinsa.com/products/5254988</td>\n",
       "      <td>4</td>\n",
       "    </tr>\n",
       "  </tbody>\n",
       "</table>\n",
       "</div>"
      ],
      "text/plain": [
       "                         상품명                                       URL  리뷰수\n",
       "0   이자반X탄산 링거 티셔츠 스카이 블루 (맨)  https://www.musinsa.com/products/5255001   12\n",
       "1     이자반X탄산 고등어 티셔츠 화이트 (맨)  https://www.musinsa.com/products/5254998    7\n",
       "2  이자반X탄산 링거 티셔츠 스카이 블루 (우먼)  https://www.musinsa.com/products/5254991    5\n",
       "3       이자반X탄산 링거 티셔츠 와인 (맨)  https://www.musinsa.com/products/5255003    5\n",
       "4    이자반X탄산 고등어 티셔츠 화이트 (우먼)  https://www.musinsa.com/products/5254988    4"
      ]
     },
     "execution_count": 2,
     "metadata": {},
     "output_type": "execute_result"
    }
   ],
   "source": [
    "from selenium import webdriver\n",
    "from selenium.webdriver.chrome.service import Service\n",
    "from selenium.webdriver.chrome.options import Options\n",
    "from selenium.webdriver.common.by import By\n",
    "from selenium.webdriver.common.keys import Keys\n",
    "from webdriver_manager.chrome import ChromeDriverManager\n",
    "import pandas as pd\n",
    "import time\n",
    "import re\n",
    "\n",
    "service = Service(ChromeDriverManager().install())\n",
    "options = Options()\n",
    "# options.add_argument('--headless')\n",
    "# options.add_argument('--disable-gpu')\n",
    "options.add_argument('--disable-dev-shm-usage')\n",
    "options.add_argument('--window-size=1920x1080')\n",
    "options.add_argument('--start-maximized')\n",
    "options.add_argument('--user-agent=Mozilla/5.0 (Windows NT 10.0; Win64; x64) AppleWebKit/537.36 (KHTML, like Gecko) Chrome/138.0.0.0 Safari/537.')\n",
    "options.add_argument('--lang=ko_KR')\n",
    "\n",
    "driver = webdriver.Chrome(service = service, options = options)\n",
    "\n",
    "driver.get(\"https://www.musinsa.com/main/musinsa/recommend?gf=A\")\n",
    "time.sleep(3)\n",
    "\n",
    "search_button = driver.find_element(By.CLASS_NAME, \"sc-dzagxs-2\")\n",
    "search_button.click()\n",
    "time.sleep(2)\n",
    "\n",
    "popular_keywords = driver.find_elements(By.CSS_SELECTOR, \".search-home-popular-wrap .sc-1xzm8bl-1\")\n",
    "target_keyword = popular_keywords[1].text\n",
    "print(\"목표 키워드 :\", target_keyword)\n",
    "\n",
    "search_input = driver.find_element(By.CLASS_NAME, \"search-home-search-bar-keyword\")\n",
    "search_input.clear()\n",
    "search_input.send_keys(target_keyword)\n",
    "time.sleep(1)\n",
    "\n",
    "search_input.send_keys(Keys.RETURN)\n",
    "time.sleep(5)\n",
    "\n",
    "print(\"검색 완료. 현재 페이지 타이틀 :\", driver.title)\n",
    "\n",
    "scroll_pause = 2\n",
    "\n",
    "for _ in range(10) :\n",
    "    driver.execute_script(\"window.scrollTo(0, document.body.scrollHeight);\")\n",
    "    time.sleep(scroll_pause)\n",
    "\n",
    "products = driver.find_elements(By.CSS_SELECTOR, \"div.sc-d36st-1.elXjMR\")[:100]\n",
    "products_data = []\n",
    "\n",
    "for product in products :\n",
    "    try:\n",
    "        name = product.find_element(By.CSS_SELECTOR, \"div.sc-cMuefe.jIlLeV a.gtm-select-item span\").text.strip()\n",
    "        url = product.find_element(By.CSS_SELECTOR, \"div.sc-cMuefe.jIlLeV a.gtm-select-item\").get_attribute(\"href\")\n",
    "        review_info = product.find_elements(By.CSS_SELECTOR, \"span.text-etc_11px_reg.text-yellow.font-pretendard\")[1].text\n",
    "        # print(name,url,review_info)\n",
    "        review_count = int(re.sub(r\"[^\\d]\",\"\", review_info)) if review_info else 0\n",
    "        products_data.append({\"상품명\":name,\"URL\":url,\"리뷰수\":review_count})\n",
    "    except:\n",
    "        continue\n",
    "\n",
    "df = pd.DataFrame(products_data)\n",
    "df_top30 = df.sort_values(by=\"리뷰수\", ascending=False).head(30).reset_index(drop=True)\n",
    "\n",
    "driver.quit()\n",
    "df_top30.head()"
   ]
  },
  {
   "cell_type": "code",
   "execution_count": 3,
   "id": "5b7c8d7e-c808-40f8-90f4-9d2ef004a020",
   "metadata": {},
   "outputs": [
    {
     "name": "stdout",
     "output_type": "stream",
     "text": [
      "저장 완료\n"
     ]
    }
   ],
   "source": [
    "from openpyxl import Workbook\n",
    "\n",
    "driver = webdriver.Chrome(service=service, options=options)\n",
    "all_reviews = []\n",
    "\n",
    "for idx, row in df_top30.iterrows() :\n",
    "    driver.get(row['URL'])\n",
    "    time.sleep(2)\n",
    "\n",
    "    try:\n",
    "        review_tab = driver.find_element(By.XPATH, \"//button[@data-button-id='prd_review_tab']\")\n",
    "        review_tab.click()\n",
    "        time.sleep(2)\n",
    "\n",
    "        for _ in range(3) :\n",
    "            driver.execute_script(\"window.scrollTo(0, document.body.scrollHeight);\")\n",
    "            time.sleep(1.5)\n",
    "\n",
    "        review_elements = driver.find_elements(By.CSS_SELECTOR, \".text-body_13px_reg.text-black.font-pretendard\")\n",
    "        for review in review_elements[:10] :\n",
    "            text = review.text.strip()\n",
    "            if text :\n",
    "                all_reviews.append({\n",
    "                    \"상품명\":row[\"상품명\"],\n",
    "                    \"리뷰\":text\n",
    "                })\n",
    "    \n",
    "    except Exception as e :\n",
    "        print(\"리뷰 수집 실패: \",e)\n",
    "        continue\n",
    "driver.quit()\n",
    "\n",
    "wb = Workbook()\n",
    "ws = wb.active\n",
    "ws.title = \"무신사 리뷰\"\n",
    "\n",
    "ws.append([\"상품명\", \"리뷰\"])\n",
    "\n",
    "for r in all_reviews :\n",
    "    ws.append([r[\"상품명\"],r[\"리뷰\"]])\n",
    "\n",
    "wb.save(\"musinsa_top30_reviews.xlsx\")\n",
    "print(\"저장 완료\")"
   ]
  },
  {
   "cell_type": "code",
   "execution_count": 20,
   "id": "ae8d3ac1-ef61-440e-bc3d-63ab138e22ca",
   "metadata": {},
   "outputs": [
    {
     "name": "stdout",
     "output_type": "stream",
     "text": [
      "Defaulting to user installation because normal site-packages is not writeable\n",
      "Collecting pymysql\n",
      "  Downloading PyMySQL-1.1.1-py3-none-any.whl.metadata (4.4 kB)\n",
      "Downloading PyMySQL-1.1.1-py3-none-any.whl (44 kB)\n",
      "Installing collected packages: pymysql\n",
      "Successfully installed pymysql-1.1.1\n",
      "Note: you may need to restart the kernel to use updated packages.\n"
     ]
    }
   ],
   "source": [
    "pip install pymysql"
   ]
  },
  {
   "cell_type": "code",
   "execution_count": 1,
   "id": "0a7b9238-88e3-4de2-909e-84f626816608",
   "metadata": {},
   "outputs": [
    {
     "name": "stdout",
     "output_type": "stream",
     "text": [
      "Defaulting to user installation because normal site-packages is not writeable\n",
      "Requirement already satisfied: sqlalchemy in c:\\programdata\\anaconda3\\lib\\site-packages (2.0.39)\n",
      "Requirement already satisfied: greenlet!=0.4.17 in c:\\programdata\\anaconda3\\lib\\site-packages (from sqlalchemy) (3.1.1)\n",
      "Requirement already satisfied: typing-extensions>=4.6.0 in c:\\users\\user\\appdata\\roaming\\python\\python313\\site-packages (from sqlalchemy) (4.14.1)\n",
      "Note: you may need to restart the kernel to use updated packages.\n"
     ]
    }
   ],
   "source": [
    "pip install sqlalchemy"
   ]
  },
  {
   "cell_type": "code",
   "execution_count": 4,
   "id": "ca0f418d-939f-476e-8616-b352da1befd1",
   "metadata": {},
   "outputs": [
    {
     "name": "stdout",
     "output_type": "stream",
     "text": [
      "데이터가 MySQL [musinsa_db_v4]의 테이블 [reviews]에 성공적으로 저장되었습니다.\n"
     ]
    }
   ],
   "source": [
    "import pymysql\n",
    "import pandas as pd\n",
    "from sqlalchemy import create_engine\n",
    "from urllib.parse import quote_plus\n",
    "\n",
    "EXCEL_PATH = \"musinsa_top30_reviews.xlsx\"\n",
    "DB_NAME = \"musinsa_db_v4\"\n",
    "TABLE_NAME = \"reviews\"\n",
    "USER = \"root\"\n",
    "PASSWORD = \"tlgus01937\"\n",
    "HOST = \"localhost\"\n",
    "PORT = 3306\n",
    "\n",
    "df = pd.read_excel(EXCEL_PATH)\n",
    "\n",
    "conn = pymysql.connect(host = HOST, user = USER, password = PASSWORD, port = PORT)\n",
    "cursor = conn.cursor()\n",
    "cursor.execute(\n",
    "    f\"CREATE DATABASE IF NOT EXISTS {DB_NAME} CHARACTER SET utf8mb4 COLLATE utf8mb4_unicode_ci;\"\n",
    ")\n",
    "conn.close()\n",
    "\n",
    "engine_str = f\"mysql+pymysql://{USER}:{PASSWORD}@{HOST}:{PORT}/{DB_NAME}?charset=utf8mb4\"\n",
    "engine = create_engine(engine_str)\n",
    "\n",
    "df.to_sql(name=TABLE_NAME, con=engine, if_exists=\"replace\", index=False)\n",
    "print(f\"데이터가 MySQL [{DB_NAME}]의 테이블 [{TABLE_NAME}]에 성공적으로 저장되었습니다.\")"
   ]
  },
  {
   "cell_type": "code",
   "execution_count": 9,
   "id": "f4fd7190-dd98-40f5-836d-032b593588b8",
   "metadata": {},
   "outputs": [
    {
     "name": "stdout",
     "output_type": "stream",
     "text": [
      "✅ MySQL 연결 성공\n",
      "mysql+pymysql://root:Whysolonely04@@127.0.0.1:3306/musinsa_db?charset=utf8mb4\n"
     ]
    }
   ],
   "source": [
    "import pymysql\n",
    "\n",
    "try:\n",
    "    conn = pymysql.connect(\n",
    "        host=\"127.0.0.1\",\n",
    "        user=\"root\",\n",
    "        password=\"Whysolonely04@\",\n",
    "        database=\"musinsa_db\",\n",
    "        port=3306\n",
    "    )\n",
    "    print(\"✅ MySQL 연결 성공\")\n",
    "    conn.close()\n",
    "except Exception as e:\n",
    "    print(\"❌ MySQL 연결 실패:\", e)\n",
    "print(engine_str)"
   ]
  },
  {
   "cell_type": "code",
   "execution_count": 5,
   "id": "50018ca1-fd09-47e8-8128-15744a29c66e",
   "metadata": {},
   "outputs": [
    {
     "name": "stdout",
     "output_type": "stream",
     "text": [
      "Defaulting to user installation because normal site-packages is not writeableNote: you may need to restart the kernel to use updated packages.\n",
      "\n",
      "Collecting gspread\n",
      "  Downloading gspread-6.2.1-py3-none-any.whl.metadata (11 kB)\n",
      "Collecting google-auth>=1.12.0 (from gspread)\n",
      "  Downloading google_auth-2.40.3-py2.py3-none-any.whl.metadata (6.2 kB)\n",
      "Collecting google-auth-oauthlib>=0.4.1 (from gspread)\n",
      "  Downloading google_auth_oauthlib-1.2.2-py3-none-any.whl.metadata (2.7 kB)\n",
      "Requirement already satisfied: cachetools<6.0,>=2.0.0 in c:\\programdata\\anaconda3\\lib\\site-packages (from google-auth>=1.12.0->gspread) (5.5.1)\n",
      "Requirement already satisfied: pyasn1-modules>=0.2.1 in c:\\programdata\\anaconda3\\lib\\site-packages (from google-auth>=1.12.0->gspread) (0.2.8)\n",
      "Collecting rsa<5,>=3.1.4 (from google-auth>=1.12.0->gspread)\n",
      "  Downloading rsa-4.9.1-py3-none-any.whl.metadata (5.6 kB)\n",
      "Requirement already satisfied: pyasn1>=0.1.3 in c:\\programdata\\anaconda3\\lib\\site-packages (from rsa<5,>=3.1.4->google-auth>=1.12.0->gspread) (0.4.8)\n",
      "Collecting requests-oauthlib>=0.7.0 (from google-auth-oauthlib>=0.4.1->gspread)\n",
      "  Downloading requests_oauthlib-2.0.0-py2.py3-none-any.whl.metadata (11 kB)\n",
      "Collecting oauthlib>=3.0.0 (from requests-oauthlib>=0.7.0->google-auth-oauthlib>=0.4.1->gspread)\n",
      "  Downloading oauthlib-3.3.1-py3-none-any.whl.metadata (7.9 kB)\n",
      "Requirement already satisfied: requests>=2.0.0 in c:\\programdata\\anaconda3\\lib\\site-packages (from requests-oauthlib>=0.7.0->google-auth-oauthlib>=0.4.1->gspread) (2.32.3)\n",
      "Requirement already satisfied: charset-normalizer<4,>=2 in c:\\programdata\\anaconda3\\lib\\site-packages (from requests>=2.0.0->requests-oauthlib>=0.7.0->google-auth-oauthlib>=0.4.1->gspread) (3.3.2)\n",
      "Requirement already satisfied: idna<4,>=2.5 in c:\\programdata\\anaconda3\\lib\\site-packages (from requests>=2.0.0->requests-oauthlib>=0.7.0->google-auth-oauthlib>=0.4.1->gspread) (3.7)\n",
      "Requirement already satisfied: urllib3<3,>=1.21.1 in c:\\users\\user\\appdata\\roaming\\python\\python313\\site-packages (from requests>=2.0.0->requests-oauthlib>=0.7.0->google-auth-oauthlib>=0.4.1->gspread) (2.5.0)\n",
      "Requirement already satisfied: certifi>=2017.4.17 in c:\\programdata\\anaconda3\\lib\\site-packages (from requests>=2.0.0->requests-oauthlib>=0.7.0->google-auth-oauthlib>=0.4.1->gspread) (2025.6.15)\n",
      "Downloading gspread-6.2.1-py3-none-any.whl (59 kB)\n",
      "Downloading google_auth-2.40.3-py2.py3-none-any.whl (216 kB)\n",
      "Downloading rsa-4.9.1-py3-none-any.whl (34 kB)\n",
      "Downloading google_auth_oauthlib-1.2.2-py3-none-any.whl (19 kB)\n",
      "Downloading requests_oauthlib-2.0.0-py2.py3-none-any.whl (24 kB)\n",
      "Downloading oauthlib-3.3.1-py3-none-any.whl (160 kB)\n",
      "Installing collected packages: rsa, oauthlib, requests-oauthlib, google-auth, google-auth-oauthlib, gspread\n",
      "\n",
      "   ---------------------------------------- 0/6 [rsa]\n",
      "   ---------------------------------------- 0/6 [rsa]\n",
      "   ------ --------------------------------- 1/6 [oauthlib]\n",
      "   ------ --------------------------------- 1/6 [oauthlib]\n",
      "   ------ --------------------------------- 1/6 [oauthlib]\n",
      "   ------ --------------------------------- 1/6 [oauthlib]\n",
      "   ------ --------------------------------- 1/6 [oauthlib]\n",
      "   -------------------- ------------------- 3/6 [google-auth]\n",
      "   -------------------- ------------------- 3/6 [google-auth]\n",
      "   -------------------- ------------------- 3/6 [google-auth]\n",
      "   -------------------- ------------------- 3/6 [google-auth]\n",
      "   -------------------- ------------------- 3/6 [google-auth]\n",
      "   -------------------------- ------------- 4/6 [google-auth-oauthlib]\n",
      "   ---------------------------------------- 6/6 [gspread]\n",
      "\n",
      "Successfully installed google-auth-2.40.3 google-auth-oauthlib-1.2.2 gspread-6.2.1 oauthlib-3.3.1 requests-oauthlib-2.0.0 rsa-4.9.1\n"
     ]
    },
    {
     "name": "stderr",
     "output_type": "stream",
     "text": [
      "  WARNING: The scripts pyrsa-decrypt.exe, pyrsa-encrypt.exe, pyrsa-keygen.exe, pyrsa-priv2pub.exe, pyrsa-sign.exe and pyrsa-verify.exe are installed in 'C:\\Users\\user\\AppData\\Roaming\\Python\\Python313\\Scripts' which is not on PATH.\n",
      "  Consider adding this directory to PATH or, if you prefer to suppress this warning, use --no-warn-script-location.\n",
      "  WARNING: The script google-oauthlib-tool.exe is installed in 'C:\\Users\\user\\AppData\\Roaming\\Python\\Python313\\Scripts' which is not on PATH.\n",
      "  Consider adding this directory to PATH or, if you prefer to suppress this warning, use --no-warn-script-location.\n"
     ]
    }
   ],
   "source": [
    "pip install gspread"
   ]
  },
  {
   "cell_type": "code",
   "execution_count": 6,
   "id": "a63f62cd-a3fc-428d-b517-a12cbc63bf0a",
   "metadata": {},
   "outputs": [
    {
     "name": "stdout",
     "output_type": "stream",
     "text": [
      "Defaulting to user installation because normal site-packages is not writeable\n",
      "Collecting oauth2client\n",
      "  Downloading oauth2client-4.1.3-py2.py3-none-any.whl.metadata (1.2 kB)\n",
      "Collecting httplib2>=0.9.1 (from oauth2client)\n",
      "  Downloading httplib2-0.22.0-py3-none-any.whl.metadata (2.6 kB)\n",
      "Requirement already satisfied: pyasn1>=0.1.7 in c:\\programdata\\anaconda3\\lib\\site-packages (from oauth2client) (0.4.8)\n",
      "Requirement already satisfied: pyasn1-modules>=0.0.5 in c:\\programdata\\anaconda3\\lib\\site-packages (from oauth2client) (0.2.8)\n",
      "Requirement already satisfied: rsa>=3.1.4 in c:\\users\\user\\appdata\\roaming\\python\\python313\\site-packages (from oauth2client) (4.9.1)\n",
      "Requirement already satisfied: six>=1.6.1 in c:\\programdata\\anaconda3\\lib\\site-packages (from oauth2client) (1.17.0)\n",
      "Requirement already satisfied: pyparsing!=3.0.0,!=3.0.1,!=3.0.2,!=3.0.3,<4,>=2.4.2 in c:\\programdata\\anaconda3\\lib\\site-packages (from httplib2>=0.9.1->oauth2client) (3.2.0)\n",
      "Downloading oauth2client-4.1.3-py2.py3-none-any.whl (98 kB)\n",
      "Downloading httplib2-0.22.0-py3-none-any.whl (96 kB)\n",
      "Installing collected packages: httplib2, oauth2client\n",
      "\n",
      "   -------------------- ------------------- 1/2 [oauth2client]\n",
      "   -------------------- ------------------- 1/2 [oauth2client]\n",
      "   ---------------------------------------- 2/2 [oauth2client]\n",
      "\n",
      "Successfully installed httplib2-0.22.0 oauth2client-4.1.3\n",
      "Note: you may need to restart the kernel to use updated packages.\n"
     ]
    }
   ],
   "source": [
    "pip install oauth2client"
   ]
  },
  {
   "cell_type": "code",
   "execution_count": 5,
   "id": "9d19a131-8b1c-48a3-ab98-6a758cc1d5a4",
   "metadata": {},
   "outputs": [
    {
     "name": "stdout",
     "output_type": "stream",
     "text": [
      "😴구글 스프레드시트에 원본 + 키워드 분석자료 업데이트 완료\n"
     ]
    }
   ],
   "source": [
    "from konlpy.tag import Okt\n",
    "from oauth2client.service_account import ServiceAccountCredentials\n",
    "import gspread\n",
    "import pandas as pd\n",
    "\n",
    "df = pd.read_excel(\"musinsa_top30_reviews.xlsx\")\n",
    "\n",
    "okt = Okt()\n",
    "df[\"리뷰_키워드\"] = df[\"리뷰\"].apply(lambda x: \", \".join(okt.nouns(str(x))))\n",
    "scope = [\"https://spreadsheets.google.com/feeds\", \"https://www.googleapis.com/auth/drive\"]\n",
    "creds = ServiceAccountCredentials.from_json_keyfile_name(\"deep-ethos-468703-n8-1bfd424a02c2.json\", scope)\n",
    "client = gspread.authorize(creds)\n",
    "\n",
    "\n",
    "spreadsheet = client.open(\"무신사 리뷰 분석_v1\")\n",
    "sheet1 = spreadsheet.sheet1\n",
    "sheet1.update([df.columns.values.tolist()] + df.values.tolist())\n",
    "\n",
    "try :\n",
    "    spreadsheet.add_worksheet(title=\"키워드 분석\", rows=\"1000\", cols = \"20\")\n",
    "except: \n",
    "    pass\n",
    "\n",
    "sheet2 = spreadsheet.worksheet(\"키워드 분석\")\n",
    "sheet2.clear()\n",
    "sheet2.update([[\"상품명\",\"리뷰\",\"리뷰_키워드\"]]+df[[\"상품명\",\"리뷰\",\"리뷰_키워드\"]].values.tolist())\n",
    "print(\"😴구글 스프레드시트에 원본 + 키워드 분석자료 업데이트 완료\")"
   ]
  }
 ],
 "metadata": {
  "kernelspec": {
   "display_name": "Python [conda env:base] *",
   "language": "python",
   "name": "conda-base-py"
  },
  "language_info": {
   "codemirror_mode": {
    "name": "ipython",
    "version": 3
   },
   "file_extension": ".py",
   "mimetype": "text/x-python",
   "name": "python",
   "nbconvert_exporter": "python",
   "pygments_lexer": "ipython3",
   "version": "3.13.5"
  }
 },
 "nbformat": 4,
 "nbformat_minor": 5
}
