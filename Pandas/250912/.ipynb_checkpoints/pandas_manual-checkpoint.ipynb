{
 "cells": [
  {
   "cell_type": "markdown",
   "id": "ebddde4e-2925-4a4d-b144-488a96cf84b8",
   "metadata": {},
   "source": [
    "#### 1. pandas\n",
    "- pandas는 파이썬에서 사용할 수 있는 라이브러리 (VS 프레임워크)\n",
    "- 행과 열로 구성되어있는 테이블 형태의 데이터를 다룰 때 효과적으로 관리해줄 수 있는 라이브러리\n",
    "- 왜 pandas?\n",
    "- 1) 가장 오랜 기간 테이블 형태의 데이터를 다룰 때 사용 -> 검증 // 버그 거의 수정 & 안정됨\n",
    "  2) 현업에서 가장 많이 사용\n",
    "  3) 압도적인 기능 => plotly 데이터 시각화 라이브러리와 호환성 => 웬만한 전처리 & 데이터 시각화\n",
    "- pandas를 통해서 실행하고자 하는 기본 기능 위주로 문법 기초 학습\n",
    "- 학습한 결과를 토대로 => 2가지 실습 (*코로나 확진자 데이터를 전처리 & 시각화 실습 // 이커머스 쇼핑몰 데이터 전처리 & 시각화)\n",
    "\n",
    "- raw data : raw => 원본 데이터 기준 전처리\n",
    "- EDA : 탐색적 데이터 분석 => Exploratory Data Analysis\n",
    "- 1) 해당 데이터의 출처\n",
    "  2) 데이터량\n",
    "  3) 각 feature의 상관관계"
   ]
  },
  {
   "cell_type": "markdown",
   "id": "91a1fd4a-256d-434c-961f-f6446ca37975",
   "metadata": {},
   "source": [
    "#### 2. pandas를 학습할 때 중요한 개념\n",
    "- Series : 1차원 데이터 => 1개의 필드명 + 컬럼 한 줄\n",
    "- Dataframe : 2차원 데이터 => 행과 열로 구성된 테이블형 데이터\n",
    "- 0, 1, 2 => 인덱스 (*좌측 기준)\n",
    "- 미국, 한국, 중국... => 필드명 / 값 (*상단 기준)\n",
    "- 2.1, 2.2, 2.3 ... => 각각의 필드명에 속해있는 요소들의 집합 => 컬럼\n",
    "- 2.1, 2.2, 2.3, 10, 13, 15 => values\n",
    "\n",
    "- CRUD(*Create / Read / Update / Delete)\n",
    "- pandas 데이터 타입\n",
    "- 1) int64 : 정수\n",
    "  2) float64 : 실수\n",
    "  3) bool : 논리형\n",
    "  4) object : 문자열, 1개의 시리즈 안에 복수의 데이터 타입이 혼용되었을 때\n",
    "  5) datetime64 : 날짜 / 시간 타입"
   ]
  },
  {
   "cell_type": "markdown",
   "id": "f4905fde-d5b1-4d7e-b251-83d3c8847d10",
   "metadata": {},
   "source": [
    "#### 3. pandas > dataframe 개념 정의\n",
    "- 행과 열로 구성되어있는 테이블형 데이터 = 2차원 데이터\n",
    "- 시리즈 = 1차원 데이터 => 필드명 : [1, 2, 3]\n",
    "- 세로 방향의 1차원 데이터 확인, 분석\n",
    "- 가로 방향의 1차원 데이터 확인, 분석"
   ]
  },
  {
   "cell_type": "markdown",
   "id": "f9ab5eb4-cb18-45c4-aace-1dc4cf52e037",
   "metadata": {},
   "source": [
    "#### 4. 탐색적 데이터 분석 과정을 통해 데이터 전처리\n",
    "- EDA : Exploratory Data Analysis\n",
    "- 개념 및 이론 : 데이터 분석을 위해서 raw data를 다양한 각도에서 관찰하고, 해당 데이터를 이해하는 과정\n",
    "- 하지만, 데이터의 인사이트를 도출하거나 이해하는 정답은 존재할 수 없다.\n",
    "- 그러나, 수많은 데이터 분석가들이 데이터를 읽으면서 내린 공통적인 결론 및 의견들을 조합해서 하나의 이론 => EDA\n",
    "- 1. 데이터의 출처와 주제에 대한 이해\n",
    "  2. 데이터의 크기 확인\n",
    "  3. 데이터 구성요소(feature)의 속성(특징) 확인\n",
    "\n",
    "- 가설 & 검증 => 가설 & 검증\n",
    "- 상관계수 : 각 속성간 상관 관계를 확인할 수 있도록 만들어진 수학적 공식\n",
    "- 피어슨 상관계수 : 1에 가까울수록 상관관계가 높다 / 0에 가까울수록 상관관계가 없다 / -1 : 음의 선형 상관관계\n",
    "\n",
    "- pandas => EDA 개념을 기준으로 데이터 분석\n",
    "- plotly => pandas와 함께 사용하면 시너지 효과가 날 수 있는 시각화 기능 라이브러리\n",
    "- matplotly => "
   ]
  }
 ],
 "metadata": {
  "kernelspec": {
   "display_name": "Python [conda env:base] *",
   "language": "python",
   "name": "conda-base-py"
  },
  "language_info": {
   "codemirror_mode": {
    "name": "ipython",
    "version": 3
   },
   "file_extension": ".py",
   "mimetype": "text/x-python",
   "name": "python",
   "nbconvert_exporter": "python",
   "pygments_lexer": "ipython3",
   "version": "3.13.5"
  }
 },
 "nbformat": 4,
 "nbformat_minor": 5
}
