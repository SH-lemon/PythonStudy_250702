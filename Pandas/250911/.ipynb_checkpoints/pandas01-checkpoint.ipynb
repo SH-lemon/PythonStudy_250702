{
 "cells": [
  {
   "cell_type": "code",
   "execution_count": null,
   "id": "0618aaed-191c-4d8b-93c4-cdd59f19c4b4",
   "metadata": {},
   "outputs": [],
   "source": [
    "# pandas 라이브러리 : 전처리 & 기본그래프 시각화, 최적화\n",
    "# 파이썬에서 문서 (*파일) 처리하는 기본/기초 지식 학습\n",
    "# 특정 파일 오픈 -> 파일 읽기 || 파일 쓰기 -> 파일 닫기\n",
    "\n",
    "# 파일 처리 내장함수 -> open(실행하고자 하는 파일 경로, 파일 처리 모드 옵션, 인코딩 옵션)\n",
    "# 파일 처리 모드 옵션 -> r(ead) / w(rite) : 쓰기 -> 기존파일에 어떤 값을 쓰기 위한 목적 / a(dd) -> 새로운 데이터 추가\n",
    "# 인코딩 옵션 -> 웹을 통해서 주고 받는 문서 파일 -> 영어 -> 한글 +특수문자+이모지\n",
    "# 우리의 언어로 작성한 문자열 -> 인코딩 -> 컴퓨터 -> 디코딩 -> 우리의 언어로 다시 확인\n",
    "# utf-8-sig\n",
    "\n",
    "# 파일 포맷 : 데이터 분야에서 가장 빈번하게 많이 사용하는 포맷\n",
    "# csv = 엑셀 = 행 & 열, json = 프론트 & 백엔드, xml = 크롤링, api\n",
    "# csv = comma-seperated values = 실제 데이터 취급 시 정말 많이 볼 수 있는 데이터 포맷"
   ]
  }
 ],
 "metadata": {
  "kernelspec": {
   "display_name": "Python [conda env:base] *",
   "language": "python",
   "name": "conda-base-py"
  },
  "language_info": {
   "codemirror_mode": {
    "name": "ipython",
    "version": 3
   },
   "file_extension": ".py",
   "mimetype": "text/x-python",
   "name": "python",
   "nbconvert_exporter": "python",
   "pygments_lexer": "ipython3",
   "version": "3.13.5"
  }
 },
 "nbformat": 4,
 "nbformat_minor": 5
}
