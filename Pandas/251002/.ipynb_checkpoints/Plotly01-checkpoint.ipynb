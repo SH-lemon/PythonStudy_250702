{
 "cells": [
  {
   "cell_type": "code",
   "execution_count": null,
   "id": "151950a9-860c-4f62-b1c6-1cabe85aaac5",
   "metadata": {},
   "outputs": [],
   "source": [
    "# 보다 세부적으로 EDA를 활용해서 데이터를 확인 및 검증하기 위한 방법론\n",
    "# feature = column 상관관계 분석\n",
    "# 데.사 & 데.한 => 데이터 내 feature 간 상관관계를 누가 더 세부적이고 심도있게 밝혀내는가\n",
    "# heatmap 그래프\n",
    "# scatter 그래프\n",
    "\n",
    "# 상관관계를 체크 및 확인하기 위해서 상관계수\n",
    "# 상관계수는 1에 수렴할수록 상관관계가 높다."
   ]
  }
 ],
 "metadata": {
  "kernelspec": {
   "display_name": "Python [conda env:base] *",
   "language": "python",
   "name": "conda-base-py"
  },
  "language_info": {
   "codemirror_mode": {
    "name": "ipython",
    "version": 3
   },
   "file_extension": ".py",
   "mimetype": "text/x-python",
   "name": "python",
   "nbconvert_exporter": "python",
   "pygments_lexer": "ipython3",
   "version": "3.13.5"
  }
 },
 "nbformat": 4,
 "nbformat_minor": 5
}
