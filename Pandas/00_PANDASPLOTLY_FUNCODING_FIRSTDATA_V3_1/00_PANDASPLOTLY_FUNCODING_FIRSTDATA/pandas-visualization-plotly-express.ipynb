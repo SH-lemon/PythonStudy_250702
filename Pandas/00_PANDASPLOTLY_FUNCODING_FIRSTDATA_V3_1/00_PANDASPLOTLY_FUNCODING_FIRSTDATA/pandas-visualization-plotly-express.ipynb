{
 "cells": [
  {
   "cell_type": "markdown",
   "metadata": {},
   "source": [
    "<div class=\"alert alert-block\" style=\"border: 2px solid #1976D2;background-color:#E3F2FD;padding:5px;font-size:0.9em;\">\n",
    "본 자료는 저작권법 제25조 2항에 의해 보호를 받습니다. 본 자료를 외부에 공개하지 말아주세요.<br>\n",
    "본 강의만 잘 정리하면, 데이터 분석과 데이터 과학(머신러닝, 인공지능) 모두 가능합니다!<br>\n",
    "<b><a href=\"https://school.fun-coding.org/\">잔재미코딩</a> 에서 본 강의 기반 최적화된 로드맵도 확인하실 수 있습니다</b></div>"
   ]
  },
  {
   "cell_type": "markdown",
   "metadata": {},
   "source": [
    "### pandas 라이브러리와 탐색적 데이터 분석 과정 익히기"
   ]
  },
  {
   "cell_type": "markdown",
   "metadata": {
    "jp-MarkdownHeadingCollapsed": true
   },
   "source": [
    "### 1. EDA를 위한 데이터 시각화\n",
    "- 데이터 분석을 위해 시각화가 필수임\n",
    "- 주요 시각화 라이브러리\n",
    "  - matplotlib, seaborn, plotly\n",
    "  \n",
    "> 엑셀에서 그래프를 그려보셨다면 느끼셨을 수도 있습니다. <br>\n",
    "> 그래프를 조작하는 인터페이스는 직관적으로 익히기가 쉽지 않습니다. <br>\n",
    "> 주요 시각화 라이브러리도 <b>다양한 그래프의 각각의 세부적인 부분을 조작하는 것에</b> <br> \n",
    "> <b>익숙해지는 것은 매우 시간이 오래걸림</b>"
   ]
  },
  {
   "cell_type": "markdown",
   "metadata": {},
   "source": [
    "### 가장 최신 기술로, 손쉽게 시각화 익히기\n",
    "- matplotlib 은 오래된 전통적인 라이브러리\n",
    "  - 이 한계를 보완하기 위해 seaborn 라이브러리가 출현\n",
    "  - 오래된 라이브러리로 인터페이스가 복잡함\n",
    "- 최신 시각화 라이브러리: plotly\n",
    "  - 최신 IT 환경에 맞추어 웹 기반 시각화 그래프를 제공함\n",
    "  - 확대/축소 등 상호작용이 가능한 인터렉티브 기능을 제공함\n",
    "  - 모던하고 깔끔한 그래프 디자인을 제공하며, 다양한 차트 지원"
   ]
  },
  {
   "cell_type": "markdown",
   "metadata": {},
   "source": [
    "### 2. 다양한 Plotly 인터페이스 (코드 작성 방법)\n",
    "\n",
    "> Plotly 는 다양한 인터페이스(API?) 를 제공하며, 다양한 목적에 보다 부합한 기능을 제공합니다\n",
    "\n",
    "**1. Plotly Express (px)**  \n",
    "- **특징:**  \n",
    "  - 몇 줄의 코드로 빠르게 시각화를 생성  \n",
    "  - Pandas DataFrame과 자연스럽게 연동  \n",
    "- **장점:**  \n",
    "  - 코드가 짧고 직관적임  \n",
    "  - 탐색적 데이터 분석(EDA)에 적합  \n",
    "  - 축, 범례, 색상 등을 자동으로 처리  \n",
    "- **단점:**  \n",
    "  - 세밀한 레이아웃 수정이나 복잡한 커스터마이징에는 한계가 있음\n",
    "\n",
    "**2. Graph Objects (go)**  \n",
    "- **특징:**  \n",
    "  - 데이터(Trace)와 레이아웃을 직접 구성하는 저수준 API  \n",
    "  - 모든 시각적 요소를 세밀하게 제어 가능  \n",
    "- **장점:**  \n",
    "  - 높은 유연성으로 복잡한 맞춤형 그래프 제작 가능  \n",
    "  - 축, 레이블, 애니메이션 등 모든 요소를 직접 설정  \n",
    "- **단점:**  \n",
    "  - 코드가 길어지고 복잡해짐  \n",
    "  - 처음 배우기에는 진입 장벽이 있음\n",
    "\n",
    "\n",
    "---\n",
    "\n",
    "**인터페이스 선택 가이드**  \n",
    "- **빠르고 간단한 시각화:** → Plotly Express  \n",
    "- **세밀한 커스터마이징이 필요한 경우:** → Graph Objects  \n",
    "- 이 외에 **특수한 차트(분포도, 덴드로그램 등)** 을 위한 Figure Factory 등 다양한 기능을 제공함\n",
    "\n",
    "\n",
    "<div class=\"alert alert-block\" style=\"border: 1px solid #FFB300;background-color:#F9FBE7;\">\n",
    "<font size=\"3em\" style=\"font-weight:bold;color:#3f8dbf;\">데이터 분석시, 가볍게 데이터 확인시는 Plotly Express, 디테일하게 시각화할 시에는 Plotly Graph Objects를 사용하는 것이 좋음</font></div>\n"
   ]
  },
  {
   "cell_type": "markdown",
   "metadata": {},
   "source": [
    "### 2.1. 관련 라이브러리 설치\n",
    "- 아나콘다에 이미 관련 라이브러리가 설치되어 있음\n",
    "- 필요시 !pip install plotly 로 plotly 가 설치되어 있으면 됨"
   ]
  },
  {
   "cell_type": "markdown",
   "metadata": {
    "jp-MarkdownHeadingCollapsed": true
   },
   "source": [
    "### 2.2. Plotly Express 기본 코드 패턴\n",
    "\n",
    "```python\n",
    "import plotly.express as px\n",
    "\n",
    "fig = px.그래프종류(\n",
    "    데이터프레임,\n",
    "    x='x축열이름',\n",
    "    y='y축열이름',\n",
    "    title='그래프제목'\n",
    ")\n",
    "\n",
    "fig.show() # 그래프를 화면에 표시하는 명령\n",
    "```"
   ]
  },
  {
   "cell_type": "markdown",
   "metadata": {},
   "source": [
    "### 2.3. 주요 그래프 종류와 코드 패턴\n",
    "각 그래프 유형별 기본 패턴은 다음과 같습니다\n",
    "\n",
    "**산점도(scatter)**\n",
    "```python\n",
    "fig = px.scatter(df, x='x열', y='y열', color='색상기준열')\n",
    "```\n",
    "\n",
    "**선 그래프(line)**\n",
    "```python\n",
    "fig = px.line(df, x='x열', y='y열')\n",
    "```\n",
    "\n",
    "**막대 그래프(bar)**\n",
    "```python\n",
    "fig = px.bar(df, x='범주열', y='값열')\n",
    "```\n",
    "\n",
    "**히스토그램(histogram)**\n",
    "```python\n",
    "fig = px.histogram(df, x='데이터열', nbins=구간수)\n",
    "```\n",
    "\n",
    "**상자 그림(box)**\n",
    "```python\n",
    "fig = px.box(df, y=['비교할열들'])\n",
    "```\n"
   ]
  },
  {
   "cell_type": "markdown",
   "metadata": {},
   "source": [
    "### 2.4. 쉽게 익혀보는 Plotly Express 기반 그래프 작성법"
   ]
  },
  {
   "cell_type": "markdown",
   "metadata": {},
   "source": [
    "#### 2.4.1. 산점도 (Scatter Plot)\n",
    "- 두 변수의 관계를 점으로 표시하고, 추가로 범주에 따라 색상을 지정합니다."
   ]
  },
  {
   "cell_type": "code",
   "execution_count": null,
   "metadata": {},
   "outputs": [],
   "source": [
    "import plotly.express as px\n",
    "import pandas as pd\n",
    "import numpy as np\n",
    "\n",
    "# DataFrame 생성: x열, y열은 0~1의 랜덤값, 색상기준열은 A, B, C 중 랜덤 선택\n",
    "df = pd.DataFrame({\n",
    "    'x열': np.random.rand(100),\n",
    "    'y열': np.random.rand(100),\n",
    "    '색상기준열': np.random.choice(['A', 'B', 'C'], 100)\n",
    "})\n",
    "\n",
    "# 산점도 그리기\n",
    "fig = px.scatter(df, x='x열', y='y열', color='색상기준열', title='산점도 예제')\n",
    "fig.show()"
   ]
  },
  {
   "cell_type": "markdown",
   "metadata": {},
   "source": [
    "#### 주요 산점도 활용\n",
    "- 산점도(scatter plot)는 주로 두 변수 간의 관계를 시각적으로 파악하기 위해 그립니다. 구체적으로는 다음과 같은 경우에 사용됩니다:\n",
    "  - **관계 분석:** 두 변수 사이에 선형 또는 비선형 관계가 있는지, 상관관계가 존재하는지를 확인할 때.\n",
    "  - **패턴 및 경향성 파악:** 데이터 포인트들이 특정 패턴이나 경향성을 보이는지, 예를 들어 증가하는 경향이나 군집화되는지 등을 시각적으로 분석할 때.\n",
    "  - **이상치(Outlier) 탐지:** 데이터 중에서 다른 값들과 동떨어진 이상치를 식별할 때.\n",
    "  - **탐색적 데이터 분석(EDA):** 데이터의 분포와 변수 간의 상호작용을 초기 분석 단계에서 파악하기 위해 사용.\n",
    "\n",
    "> 즉, 산점도는 데이터의 전반적인 분포와 변수 간의 관계를 쉽게 파악할 수 있도록 도와주기 때문에, 데이터 분석, 통계학, 회귀 분석 등 다양한 분야에서 널리 활용됩니다."
   ]
  },
  {
   "cell_type": "markdown",
   "metadata": {},
   "source": [
    "#### `np.random.rand(100)` 함수\n",
    "- `np.random.rand(100)`는 0과 1 사이의 균등 분포에서 랜덤한 숫자 100개를 생성합니다.\n",
    "  - **입력값:**  \n",
    "    - 숫자 `100`은 생성할 숫자의 개수를 의미하며, 결과는 1차원 배열(벡터)로 나타납니다.\n",
    "  - **출력값:**  \n",
    "    - 0 이상 1 미만의 실수로 구성된 1차원 배열을 반환합니다."
   ]
  },
  {
   "cell_type": "code",
   "execution_count": null,
   "metadata": {},
   "outputs": [],
   "source": [
    "np.random.rand(100)"
   ]
  },
  {
   "cell_type": "markdown",
   "metadata": {},
   "source": [
    "#### `np.random.choice` 함수\n",
    "- 주어진 배열이나 리스트에서 **무작위로 원소를 선택**하는 함수입니다. \n",
    "- 예를 들어, `np.random.choice(['A', 'B', 'C'], 100)` 코드는 다음과 같은 의미를 가집니다\n",
    "  - **`['A', 'B', 'C']`:** 선택 대상이 되는 리스트입니다.\n",
    "  - **`100`:** 리스트에서 원소를 **100번 무작위로 선택**하여 결과를 반환합니다.\n",
    "  - 결과적으로, 이 코드는 `'A'`, `'B'`, `'C'` 중 하나를 100번 선택하여 길이가 100인 배열(또는 시퀀스)을 만듭니다.\n",
    "  - 이때 **중복 선택이 허용**되므로, 동일한 원소가 여러 번 선택될 수 있습니다."
   ]
  },
  {
   "cell_type": "code",
   "execution_count": null,
   "metadata": {},
   "outputs": [],
   "source": [
    "np.random.choice(['A', 'B', 'C'], 100) "
   ]
  },
  {
   "cell_type": "markdown",
   "metadata": {},
   "source": [
    "#### 코드 이해\n",
    "\n",
    "```python\n",
    "import plotly.express as px\n",
    "import pandas as pd\n",
    "import numpy as np\n",
    "\n",
    "# DataFrame 생성: x열, y열은 0~1의 랜덤값, 색상기준열은 A, B, C 중 랜덤 선택\n",
    "df = pd.DataFrame({\n",
    "    'x열': np.random.rand(100),\n",
    "    'y열': np.random.rand(100),\n",
    "    '색상기준열': np.random.choice(['A', 'B', 'C'], 100)\n",
    "})\n",
    "\n",
    "# 산점도 그리기\n",
    "fig = px.scatter(df, x='x열', y='y열', color='색상기준열', title='산점도 예제')\n",
    "fig.show()\n",
    "```\n",
    "\n",
    "- **데이터 정의:**\n",
    "  - `x = [0.1, 0.2]` → 각 데이터 포인트의 x 좌표\n",
    "  - `y = [0.3, 0.5]` → 각 데이터 포인트의 y 좌표\n",
    "  - `색상기준열 = ['A', 'B']` → 각 데이터 포인트에 할당된 범주(색상 기준)\n",
    "\n",
    "- **매핑 설명:**\n",
    "  - 첫 번째 데이터 포인트:\n",
    "    - x 좌표: 0.1, y 좌표: 0.3\n",
    "    - 범주: 'A'\n",
    "    - 결과: (0.1, 0.3) 위치에 'A'에 해당하는 색상으로 표시됨\n",
    "  - 두 번째 데이터 포인트:\n",
    "    - x 좌표: 0.2, y 좌표: 0.5\n",
    "    - 범주: 'B'\n",
    "    - 결과: (0.2, 0.5) 위치에 'B'에 해당하는 색상으로 표시됨\n",
    "\n",
    "- **시각화 목적:**\n",
    "  - 산점도를 통해 각 데이터 포인트의 위치와 범주(색상)를 쉽게 파악할 수 있음"
   ]
  },
  {
   "cell_type": "markdown",
   "metadata": {},
   "source": [
    "#### 2.4.2. 선 그래프 (Line Plot)\n",
    "- 순서에 따른 값의 변화를 선으로 연결하여 보여줍니다."
   ]
  },
  {
   "cell_type": "code",
   "execution_count": null,
   "metadata": {},
   "outputs": [],
   "source": [
    "import plotly.express as px\n",
    "import pandas as pd\n",
    "import numpy as np\n",
    "\n",
    "# DataFrame 생성: x열은 0부터 49까지, y열은 랜덤값\n",
    "df = pd.DataFrame({\n",
    "    'x열': np.arange(50),\n",
    "    'y열': np.random.rand(50)\n",
    "})\n",
    "\n",
    "# 선 그래프 그리기\n",
    "fig = px.line(df, x='x열', y='y열', title='선 그래프 예제')\n",
    "fig.show()"
   ]
  },
  {
   "cell_type": "markdown",
   "metadata": {},
   "source": [
    "#### `np.arange(50)` 관련 문법\n",
    "- `np.arange(50)`는 0부터 시작하여 50보다 작은 정수들의 1차원 배열을 생성합니다.\n",
    "- `50`은 배열의 **종료값**을 의미하며, 시작값은 기본적으로 0이고 50은 포함되지 않습니다.\n",
    "- 출력으로 `[0, 1, 2, ..., 49]` 형태의 배열을 반환합니다.\n",
    "- **확장 사용법:**  \n",
    "  - `np.arange(start, stop, step)` 형식으로 시작값, 종료값, 그리고 증가 간격을 지정할 수 있습니다.  \n",
    "    예: `np.arange(10, 50, 2)` → 10부터 48까지 2씩 증가하는 배열 생성\n",
    "- 배열 인덱스 생성, 반복문을 위한 시퀀스 생성, 데이터 시뮬레이션 등에서 자주 활용됩니다."
   ]
  },
  {
   "cell_type": "markdown",
   "metadata": {},
   "source": [
    "#### 2.4.3. 막대 그래프 (Bar Chart)\n",
    "- 범주별 데이터를 막대의 높이로 비교하여 나타냅니다."
   ]
  },
  {
   "cell_type": "code",
   "execution_count": null,
   "metadata": {},
   "outputs": [],
   "source": [
    "import plotly.express as px\n",
    "import pandas as pd\n",
    "\n",
    "# DataFrame 생성: 범주열과 값열로 구성\n",
    "df = pd.DataFrame({\n",
    "    '범주열': ['A', 'B', 'C', 'D'],\n",
    "    '값열': [23, 17, 35, 29]\n",
    "})\n",
    "\n",
    "# 막대 그래프 그리기\n",
    "fig = px.bar(df, x='범주열', y='값열', title='막대 그래프 예제')\n",
    "fig.show()"
   ]
  },
  {
   "cell_type": "markdown",
   "metadata": {},
   "source": [
    "#### 2.4.4. 히스토그램 (Histogram)\n",
    "- 연속형 데이터의 분포를 구간별 막대로 나타냅니다."
   ]
  },
  {
   "cell_type": "code",
   "execution_count": null,
   "metadata": {},
   "outputs": [],
   "source": [
    "import plotly.express as px\n",
    "import pandas as pd\n",
    "import numpy as np\n",
    "\n",
    "# DataFrame 생성: 'Data' 열에 0과 1 사이의 랜덤 숫자 500개 생성\n",
    "df = pd.DataFrame({\n",
    "    'Data': np.random.rand(500)\n",
    "})\n",
    "\n",
    "# 히스토그램 그리기 (30개의 구간)\n",
    "fig = px.histogram(df, x='Data', nbins=30, title='Simple Histogram Example')\n",
    "fig.show()"
   ]
  },
  {
   "cell_type": "markdown",
   "metadata": {},
   "source": [
    "#### 2.4.5. 상자 그림 (Box Plot)\n",
    "- 여러 열의 데이터 분포, 중앙값, 사분위수 및 이상치를 한눈에 비교할 수 있습니다.\n",
    "\n",
    "<center>\n",
    "<img src=\"https://www.fun-coding.org/00_Images/boxplot.jpg\" width=350>\n",
    "</center>"
   ]
  },
  {
   "cell_type": "markdown",
   "metadata": {},
   "source": [
    "#### 참고: 이상치 특잇값 계산\n",
    "- **1. 사분위수 계산:**  \n",
    "  - **Q1:** 데이터의 하위 25% 값  \n",
    "  - **Q3:** 데이터의 상위 25% 값\n",
    "- **2. IQR(Interquartile Range, 사분위 범위) 계산:**  \n",
    "  - **IQR = Q3 - Q1**\n",
    "- **3. 이상치 판별 범위 설정:**  \n",
    "  - **하한:** Q1 - 1.5 × IQR  \n",
    "  - **상한:** Q3 + 1.5 × IQR\n",
    "- **4. 이상치 판별:**  \n",
    "  - 하한보다 작은 값이나 상한보다 큰 값은 이상치로 간주됩니다."
   ]
  },
  {
   "cell_type": "code",
   "execution_count": null,
   "metadata": {},
   "outputs": [],
   "source": [
    "import plotly.express as px\n",
    "import pandas as pd\n",
    "import numpy as np\n",
    "\n",
    "# DataFrame 생성: 비교할열1과 비교할열2에 대해 100개의 랜덤값 생성\n",
    "df = pd.DataFrame(np.random.rand(100, 2), columns=['비교할열1', '비교할열2'])\n",
    "\n",
    "# 상자 그림 그리기\n",
    "fig = px.box(df, y=['비교할열1', '비교할열2'], title='상자 그림 예제')\n",
    "fig.show()"
   ]
  },
  {
   "cell_type": "markdown",
   "metadata": {},
   "source": [
    "#### `np.random.rand(100, 2)` 사용법\n",
    "- `np.random.rand(100, 2)`는 0과 1 사이의 랜덤한 실수를 가지는 2차원 배열을 생성합니다.\n",
    "- **입력값:**  \n",
    "  - `100`: 배열의 행(row) 수  \n",
    "  - `2`: 배열의 열(column) 수\n",
    "- **출력:**  \n",
    "  - (100, 2) 모양의 배열 (즉, 2차원 배열), 각 원소는 0 이상 1 미만의 랜덤한 실수"
   ]
  },
  {
   "cell_type": "code",
   "execution_count": null,
   "metadata": {},
   "outputs": [],
   "source": [
    "np.random.rand(100, 2)"
   ]
  },
  {
   "cell_type": "markdown",
   "metadata": {},
   "source": [
    "### 3. 그래프 세부 요소 변경\n",
    "\n",
    "Plotly Express로 만든 그래프는 기본 모양에서  \n",
    "- **fig.update_layout()**: 전체 레이아웃(제목, 범례, 여백 등)을 수정  \n",
    "- **fig.update_xaxes()**: x축의 속성(제목, 글꼴, 눈금 등)을 수정  \n",
    "- **fig.update_yaxes()**: y축의 속성(제목, 글꼴, 눈금 등)을 수정  \n",
    "\n",
    "를 사용하여 쉽게 커스터마이징할 수 있습니다."
   ]
  },
  {
   "cell_type": "markdown",
   "metadata": {},
   "source": [
    "#### 3.1. 그래프 제목 (Title) 변경\n",
    "- **fig.update_layout()** 메서드는 레이아웃 전체(제목, 범례, 여백 등)를 업데이트하는 함수입니다.\n",
    "- 그래프의 제목을 원하는 텍스트로 변경하고, 글꼴 크기와 색상을 설정합니다.\n",
    "- 제목의 위치는 x 속성으로 조정할 수 있으며, 0~1 사이의 값을 사용합니다.\n",
    "- 예를 들어, x=0.5는 제목을 중앙에 위치시킵니다."
   ]
  },
  {
   "cell_type": "code",
   "execution_count": null,
   "metadata": {
    "scrolled": true
   },
   "outputs": [],
   "source": [
    "import plotly.express as px\n",
    "import pandas as pd\n",
    "import numpy as np\n",
    "\n",
    "# 간단한 산점도 예제 DataFrame 생성\n",
    "df = pd.DataFrame({\n",
    "    'x열': np.random.rand(100),\n",
    "    'y열': np.random.rand(100)\n",
    "})\n",
    "\n",
    "# 기본 산점도 생성 (제목은 기본값으로 설정)\n",
    "fig = px.scatter(df, x='x열', y='y열', title='기본 산점도')\n",
    "\n",
    "# 그래프 제목 업데이트:\n",
    "# - text: 제목 텍스트를 설정합니다.\n",
    "# - font: 제목의 글꼴 속성으로, size(글꼴 크기)와 color(글꼴 색상)를 지정합니다.\n",
    "# - x: 제목의 가로 위치 (0: 왼쪽, 1: 오른쪽), 0.5로 설정하면 중앙에 위치합니다.\n",
    "fig.update_layout(\n",
    "    title={\n",
    "        'text': \"새로운 그래프 제목\",  \n",
    "        'font': {'size': 24, 'color': 'darkblue'},  \n",
    "        'x': 0.5  # 제목을 그래프 중앙에 위치\n",
    "    }\n",
    ")\n",
    "fig.show()"
   ]
  },
  {
   "cell_type": "markdown",
   "metadata": {},
   "source": [
    "#### 3.2. 범례 (Legend) 변경\n",
    "- 범례의 위치와 스타일을 조정하여, 그래프 영역 바깥에 배치할 수 있습니다.  \n",
    "  - `x`: 범례의 가로 위치 (예: 1.02는 그래프 오른쪽 바깥).  \n",
    "  - `y`: 범례의 세로 위치 (0~1 사이, 1은 위쪽).  \n",
    "  - `xanchor`: 범례의 x축 기준 위치 (`'left'`, `'center'`, `'right'` 중 선택).  \n",
    "  - `yanchor`: 범례의 y축 기준 위치 (`'top'`, `'middle'`, `'bottom'` 중 선택).   \n",
    "  - `bordercolor`와 `borderwidth`: 범례 테두리 색상과 두께를 설정합니다.\n",
    "- 참고: **x**와 **y** 와 **xanchor**와 **yanchor**\n",
    "  - **x**와 **y**\n",
    "    - **역할:** 범례 상자가 배치될 **좌표 값**을 지정합니다.  \n",
    "    - **예:** `x=1.02`이면 그래프 오른쪽 바깥쪽, `y=1`이면 그래프 상단에 해당하는 위치를 나타냅니다.\n",
    "  - **xanchor**와 **yanchor**:  \n",
    "    - **역할:** 지정된 좌표값을 기준으로 범례 상자의 어느 부분을 정렬할지를 결정합니다.  \n",
    "    - **xanchor 가능한 값:** `\"left\"`, `\"center\"`, `\"right\"`  \n",
    "      - 예: `xanchor=\"left\"`이면 x 좌표가 범례 상자의 **왼쪽 끝**에 맞춰집니다.  \n",
    "    - **yanchor 가능한 값:** `\"top\"`, `\"middle\"`, `\"bottom\"`  \n",
    "      - 예: `yanchor=\"top\"`이면 y 좌표가 범례 상자의 **위쪽 끝**에 맞춰집니다.\n",
    "  - 예\n",
    "    - `x=1.02, xanchor=\"left\", y=1, yanchor=\"top\"` → 범례 상자의 왼쪽 위 모서리가 그래프 오른쪽 바깥 상단에 위치\n",
    "    - `x=1.02, xanchor=\"right\", y=1, yanchor=\"top\"` → 범례 상자의 오른쪽 위 모서리가 같은 좌표에 위치하여 범례 전체가 왼쪽으로 이동"
   ]
  },
  {
   "cell_type": "code",
   "execution_count": null,
   "metadata": {},
   "outputs": [],
   "source": [
    "import plotly.express as px\n",
    "import pandas as pd\n",
    "import numpy as np\n",
    "\n",
    "# 범주형 데이터를 포함한 산점도 예제 DataFrame 생성\n",
    "df = pd.DataFrame({\n",
    "    'x열': np.random.rand(100),\n",
    "    'y열': np.random.rand(100),\n",
    "    '범주': np.random.choice(['A', 'B', 'C'], 100)\n",
    "})\n",
    "\n",
    "# 기본 산점도 생성\n",
    "fig = px.scatter(df, x='x열', y='y열', color='범주', title='범례 위치 예제')\n",
    "\n",
    "# 범례 업데이트:\n",
    "# - x: 범례 위치의 가로 좌표. 예: 1.02는 그래프 오른쪽 바깥쪽.\n",
    "# - y: 범례 위치의 세로 좌표. 예: 1은 그래프 상단.\n",
    "# - xanchor: 지정한 x 좌표에서 범례 상자의 어느 부분을 기준으로 할지 결정.\n",
    "#     \"left\" → 범례 상자의 왼쪽 끝이 x 좌표에 맞춰짐.\n",
    "#     \"center\" → 범례 상자의 중앙이 x 좌표에 맞춰짐.\n",
    "#     \"right\" → 범례 상자의 오른쪽 끝이 x 좌표에 맞춰짐.\n",
    "# - yanchor: 지정한 y 좌표에서 범례 상자의 어느 부분을 기준으로 할지 결정.\n",
    "#     \"top\" → 범례 상자의 위쪽 끝이 y 좌표에 맞춰짐.\n",
    "#     \"middle\" → 범례 상자의 중앙이 y 좌표에 맞춰짐.\n",
    "#     \"bottom\" → 범례 상자의 아래쪽 끝이 y 좌표에 맞춰짐.\n",
    "# - bordercolor, borderwidth: 범례 테두리 색상과 두께 설정.\n",
    "fig.update_layout(\n",
    "    legend=dict(\n",
    "        title=\"범례 제목\",\n",
    "        x=1.02,         # 범례의 x 좌표를 1.02로 설정 (그래프 오른쪽 바깥쪽)\n",
    "        y=1,            # 범례의 y 좌표를 1로 설정 (그래프 상단)\n",
    "        xanchor=\"left\", # x 좌표를 기준으로 범례 상자의 왼쪽 끝을 맞춤\n",
    "        yanchor=\"top\",  # y 좌표를 기준으로 범례 상자의 위쪽 끝을 맞춤\n",
    "        bordercolor=\"black\",\n",
    "        borderwidth=1\n",
    "    )\n",
    ")\n",
    "fig.show()"
   ]
  },
  {
   "cell_type": "markdown",
   "metadata": {},
   "source": [
    "#### 3.3. x축 (X-Axis) 설정 변경\n",
    "- **fig.update_xaxes()** 메서드를 사용하면 x축의 여러 속성(제목, 글꼴, 눈금 각도 등)을 쉽게 업데이트할 수 있습니다.  \n",
    "  - **title_text:** x축의 제목을 지정합니다.  \n",
    "  - **title_font:** 제목의 글꼴 속성(크기, 색상 등)을 설정합니다.  \n",
    "  - **tickangle:** 눈금(틱) 라벨의 각도를 설정합니다 (예: 45도).  \n",
    "  - **dtick:** x축에 눈금이 표시되는 간격을 지정합니다. 예를 들어, `dtick=5`는 x축의 눈금이 5 단위 간격으로 표시됨을 의미합니다.\n"
   ]
  },
  {
   "cell_type": "code",
   "execution_count": null,
   "metadata": {},
   "outputs": [],
   "source": [
    "import plotly.express as px\n",
    "import pandas as pd\n",
    "import numpy as np\n",
    "\n",
    "# 선 그래프 예제 DataFrame 생성: '시간'은 0부터 49까지의 정수, '값'은 0~1 사이의 랜덤 값\n",
    "df = pd.DataFrame({\n",
    "  '시간': np.arange(50),\n",
    "  '값': np.random.rand(50)\n",
    "})\n",
    "\n",
    "fig = px.line(df, x='시간', y='값', title='x축 설정 예제')\n",
    "\n",
    "# x축 업데이트:\n",
    "# - title_text: x축 제목을 \"시간 (초)\"로 설정\n",
    "# - title_font: 제목의 글꼴 크기를 18, 색상을 보라색으로 지정\n",
    "# - tickangle: x축 눈금 라벨을 45도 기울여 표시\n",
    "# - dtick: x축 눈금 간격을 5 단위로 표시 (예: 0, 5, 10, ...)\n",
    "fig.update_xaxes(\n",
    "  title_text=\"시간 (초)\",\n",
    "  title_font=dict(size=18, color='purple'),\n",
    "  tickangle=45,\n",
    "  dtick=1\n",
    ")\n",
    "fig.show()"
   ]
  },
  {
   "cell_type": "markdown",
   "metadata": {},
   "source": [
    "#### 3.4. y축 (Y-Axis) 설정 변경\n",
    "- **fig.update_yaxes()** 메서드를 사용하면 y축의 여러 속성(제목, 글꼴, 눈금 라벨 등)을 쉽게 업데이트할 수 있습니다.  \n",
    "  - **title_text:** y축 제목을 지정합니다.  \n",
    "  - **title_font:** 제목의 글꼴 속성(크기, 색상 등)을 설정합니다.  \n",
    "  - **tickfont:** y축 눈금 라벨의 글꼴 속성(크기, 색상 등)을 지정합니다.  \n",
    "  - **dtick:** y축 눈금이 표시되는 간격을 지정합니다. 예를 들어, `dtick=0.2`로 설정하면 y축 눈금이 0.2 단위 간격으로 표시됩니다.\n"
   ]
  },
  {
   "cell_type": "code",
   "execution_count": null,
   "metadata": {},
   "outputs": [],
   "source": [
    "import plotly.express as px\n",
    "import pandas as pd\n",
    "import numpy as np\n",
    "\n",
    "# 선 그래프 예제 DataFrame 생성\n",
    "df = pd.DataFrame({\n",
    "  '시간': np.arange(50),\n",
    "  '값': np.random.rand(50)\n",
    "})\n",
    "\n",
    "fig = px.line(df, x='시간', y='값', title='y축 설정 예제')\n",
    "\n",
    "# y축 업데이트:\n",
    "# - title_text: y축 제목을 \"값\"으로 설정\n",
    "# - title_font: y축 제목의 글꼴 크기를 18, 색상을 녹색으로 지정\n",
    "# - tickfont: y축 눈금 라벨의 글꼴 크기를 12로 설정\n",
    "# - dtick: y축 눈금 간격을 0.1 단위로 표시 (예: 0, 0.1, 0.2, ...)\n",
    "fig.update_yaxes(\n",
    "  title_text=\"값\",\n",
    "  title_font=dict(size=18, color='green'),\n",
    "  tickfont=dict(size=12),\n",
    "  dtick=0.1\n",
    ")\n",
    "fig.show()\n"
   ]
  },
  {
   "cell_type": "markdown",
   "metadata": {},
   "source": [
    "### 다른 시각화 그래프는 한단계 더 깊게 익히는 데이터 탐색 이론과 함께 보여드립니다.\n",
    "\n",
    "> 모든 그래프를 단지 그리는 방법만 소개해서는 지루해짐"
   ]
  },
  {
   "cell_type": "markdown",
   "metadata": {},
   "source": [
    "<div class=\"alert alert-block\" style=\"border: 2px solid #1976D2;background-color:#E3F2FD;padding:5px;font-size:0.9em;\">\n",
    "본 자료는 저작권법 제25조 2항에 의해 보호를 받습니다. 본 자료를 외부에 공개하지 말아주세요.<br>\n",
    "본 강의만 잘 정리하면, 데이터 분석과 데이터 과학(머신러닝, 인공지능) 모두 가능합니다!<br>\n",
    "<b><a href=\"https://school.fun-coding.org/\">잔재미코딩</a> 에서 본 강의 기반 최적화된 로드맵도 확인하실 수 있습니다</b></div>"
   ]
  }
 ],
 "metadata": {
  "kernelspec": {
   "display_name": "Python 3 (ipykernel)",
   "language": "python",
   "name": "python3"
  },
  "language_info": {
   "codemirror_mode": {
    "name": "ipython",
    "version": 3
   },
   "file_extension": ".py",
   "mimetype": "text/x-python",
   "name": "python",
   "nbconvert_exporter": "python",
   "pygments_lexer": "ipython3",
   "version": "3.12.7"
  }
 },
 "nbformat": 4,
 "nbformat_minor": 4
}
