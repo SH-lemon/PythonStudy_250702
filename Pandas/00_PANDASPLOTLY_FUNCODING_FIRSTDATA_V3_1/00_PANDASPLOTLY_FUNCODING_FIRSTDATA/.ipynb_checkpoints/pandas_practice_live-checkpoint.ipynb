{
 "cells": [
  {
   "cell_type": "markdown",
   "metadata": {},
   "source": [
    "<div class=\"alert alert-block\" style=\"border: 2px solid #1976D2;background-color:#E3F2FD;padding:5px;font-size:0.9em;\">\n",
    "본 자료는 저작권법 제25조 2항에 의해 보호를 받습니다. 본 자료를 외부에 공개하지 말아주세요.<br>\n",
    "본 강의만 잘 정리하면, 데이터 분석과 데이터 과학(머신러닝, 인공지능) 모두 가능합니다!<br>\n",
    "<b><a href=\"https://school.fun-coding.org/\">잔재미코딩</a> 에서 본 강의 기반 최적화된 로드맵도 확인하실 수 있습니다</b></div>"
   ]
  },
  {
   "cell_type": "markdown",
   "metadata": {},
   "source": [
    "### 연습문제와 추가 문법으로 정리하는 pandas"
   ]
  },
  {
   "cell_type": "markdown",
   "metadata": {},
   "source": [
    "<div class=\"alert alert-block\" style=\"border: 1px solid #FFB300;background-color:#F9FBE7;\">\n",
    "<font size=\"2em\" style=\"font-weight:bold;color:#3f8dbf;\">1. 00_data/olist_customers_dataset.csv 파일 pandas dataframe 으로 읽어오기 (데이터프레임 변수 이름은 doc 로 하기로 함)</font><br>\n",
    "</div>    "
   ]
  },
  {
   "cell_type": "code",
   "execution_count": null,
   "metadata": {},
   "outputs": [],
   "source": [
    "import pandas as pd\n",
    "\n",
    "doc = pd.read_csv('00_data/olist_customers_dataset.csv', encoding='utf-8-sig')\n",
    "doc.head()"
   ]
  },
  {
   "cell_type": "markdown",
   "metadata": {},
   "source": [
    "<div class=\"alert alert-block\" style=\"border: 1px solid #FFB300;background-color:#F9FBE7;\">\n",
    "<font size=\"2em\" style=\"font-weight:bold;color:#3f8dbf;\">2. 처음 5개 열 확인하기</font><br>\n",
    "</div>    "
   ]
  },
  {
   "cell_type": "code",
   "execution_count": null,
   "metadata": {},
   "outputs": [],
   "source": []
  },
  {
   "cell_type": "markdown",
   "metadata": {},
   "source": [
    "<div class=\"alert alert-block\" style=\"border: 1px solid #FFB300;background-color:#F9FBE7;\">\n",
    "<font size=\"2em\" style=\"font-weight:bold;color:#3f8dbf;\">3. 전체 record 수(행 수) 확인하기</font><br>\n",
    "</div>    "
   ]
  },
  {
   "cell_type": "code",
   "execution_count": null,
   "metadata": {},
   "outputs": [],
   "source": []
  },
  {
   "cell_type": "markdown",
   "metadata": {},
   "source": [
    "<div class=\"alert alert-block\" style=\"border: 1px solid #FFB300;background-color:#F9FBE7;\">\n",
    "<font size=\"2em\" style=\"font-weight:bold;color:#3f8dbf;\">4. 전체 열의 수 확인하기</font><br>\n",
    "</div>    "
   ]
  },
  {
   "cell_type": "code",
   "execution_count": null,
   "metadata": {},
   "outputs": [],
   "source": []
  },
  {
   "cell_type": "markdown",
   "metadata": {},
   "source": [
    "<div class=\"alert alert-block\" style=\"border: 1px solid #FFB300;background-color:#F9FBE7;\">\n",
    "<font size=\"2em\" style=\"font-weight:bold;color:#3f8dbf;\">5. 열의 이름 리스트로 가져오기</font><br>\n",
    "</div>    "
   ]
  },
  {
   "cell_type": "code",
   "execution_count": null,
   "metadata": {},
   "outputs": [],
   "source": []
  },
  {
   "cell_type": "markdown",
   "metadata": {},
   "source": [
    "<div class=\"alert alert-block\" style=\"border: 1px solid #FFB300;background-color:#F9FBE7;\">\n",
    "<font size=\"2em\" style=\"font-weight:bold;color:#3f8dbf;\">6. 인덱스 확인하기</font><br>\n",
    "</div>    "
   ]
  },
  {
   "cell_type": "code",
   "execution_count": null,
   "metadata": {},
   "outputs": [],
   "source": []
  },
  {
   "cell_type": "markdown",
   "metadata": {},
   "source": [
    "<div class=\"alert alert-block\" style=\"border: 1px solid #FFB300;background-color:#F9FBE7;\">\n",
    "<font size=\"2em\" style=\"font-weight:bold;color:#3f8dbf;\">7. 다섯 숫자 요약(5 number summary) 확인하기 </font><br>\n",
    "</div>    "
   ]
  },
  {
   "cell_type": "code",
   "execution_count": null,
   "metadata": {},
   "outputs": [],
   "source": []
  },
  {
   "cell_type": "markdown",
   "metadata": {},
   "source": [
    "### 추가 문법 pandas.DataFrame.copy\n",
    "- 데이터프레임 중 일부를 선택 후, 조작하면 해당 데이터프레임도 변경\n",
    "- copy() 를 통해, 복사본을 만들어서 조작하여, 원본 데이터프레임은 보존 가능"
   ]
  },
  {
   "cell_type": "markdown",
   "metadata": {},
   "source": [
    "<div class=\"alert alert-block\" style=\"border: 1px solid #FFB300;background-color:#F9FBE7;\">\n",
    "<font size=\"2em\" style=\"font-weight:bold;color:#3f8dbf;\">8. customer_zip_code_prefix, customer_city, customer_state 컬럼만 가져오기 (데이터프레임 변수 이름은 doc2로 하기로 함)</font><br>\n",
    "</div>    "
   ]
  },
  {
   "cell_type": "code",
   "execution_count": null,
   "metadata": {},
   "outputs": [],
   "source": []
  },
  {
   "cell_type": "markdown",
   "metadata": {},
   "source": [
    "<div class=\"alert alert-block\" style=\"border: 1px solid #FFB300;background-color:#F9FBE7;\">\n",
    "<font size=\"2em\" style=\"font-weight:bold;color:#3f8dbf;\">9. customer_city 가 sao paulo 인 레코드(행)만 가져오기 (데이터프레임 변수 이름은 doc3 으로 하기로 함)</font><br>\n",
    "    - 레코드(행) 수 확인도 해보기\n",
    "</div>    "
   ]
  },
  {
   "cell_type": "code",
   "execution_count": null,
   "metadata": {},
   "outputs": [],
   "source": []
  },
  {
   "cell_type": "markdown",
   "metadata": {},
   "source": [
    "<div class=\"alert alert-block\" style=\"border: 1px solid #FFB300;background-color:#F9FBE7;\">\n",
    "<font size=\"2em\" style=\"font-weight:bold;color:#3f8dbf;\">10. customer_city 기준으로 행의 갯수를 확인해보세요 </font><br>\n",
    "    - doc2에 value_counts() 를 써보세요 (value_counts() 는 Series 에만 적용 가능합니다.) <br>    \n",
    "</div>"
   ]
  },
  {
   "cell_type": "code",
   "execution_count": null,
   "metadata": {},
   "outputs": [],
   "source": []
  },
  {
   "cell_type": "markdown",
   "metadata": {},
   "source": [
    "<div class=\"alert alert-block\" style=\"border: 1px solid #FFB300;background-color:#F9FBE7;\">\n",
    "<font size=\"2em\" style=\"font-weight:bold;color:#3f8dbf;\">11. doc 데이터프레임에서 customer_city 기준으로 행의 갯수를 확인해보세요 </font><br>\n",
    "    1. groupby 를 써서 customer_city 를 기준으로 행의 갯수를 count 하세요 (새로운 데이터프레임 변수 이름은 doc4로 하기로 함)<br>\n",
    "    2. doc4를 통해 customer_city 수도 확인해보세요 (데이터프레임 레코드(행) 수를 확인해보면 됩니다.)<br>\n",
    "</div>"
   ]
  },
  {
   "cell_type": "code",
   "execution_count": null,
   "metadata": {},
   "outputs": [],
   "source": []
  },
  {
   "cell_type": "markdown",
   "metadata": {},
   "source": [
    "### 추가 문법 이해 (정렬, sort_values(), sort_index())\n",
    "1. groupby(기준컬럼) 계산시, 기준컬럼은 인덱스로 설정이 되고, 해당 컬럼값을 기반으로 자동 정렬됨\n",
    "2. 데이터프레임.sort_values(by=컬럼명, ascending=False) \n",
    "   - ascending=True: 오름차순 (디폴트)\n",
    "   - ascending=False: 내림차순\n",
    "3. 시리즈.sort_values(ascending=True)\n",
    "4. 데이터프레임/시리즈.sort_index(ascending=True): 인덱스 기준 정렬"
   ]
  },
  {
   "cell_type": "markdown",
   "metadata": {},
   "source": [
    "<div class=\"alert alert-block\" style=\"border: 1px solid #FFB300;background-color:#F9FBE7;\">\n",
    "<font size=\"2em\" style=\"font-weight:bold;color:#3f8dbf;\">12. doc4에서 가장 레코드(행)의 수가 많은 customer_city 를 확인해보세요</font><br>\n",
    "    1. doc4의 customer_id 를 기준으로 정렬하고, 가장 상단의 한 행만 출력하기<br>\n",
    "</div>"
   ]
  },
  {
   "cell_type": "code",
   "execution_count": null,
   "metadata": {},
   "outputs": [],
   "source": []
  },
  {
   "cell_type": "markdown",
   "metadata": {},
   "source": [
    "<div class=\"alert alert-block\" style=\"border: 1px solid #FFB300;background-color:#F9FBE7;\">\n",
    "<font size=\"2em\" style=\"font-weight:bold;color:#3f8dbf;\">13. doc 에서 customer_city 를 인덱스로 만들고, 알파벳 순으로 인덱스를 정렬해보세요</font><br>\n",
    "</div>"
   ]
  },
  {
   "cell_type": "code",
   "execution_count": null,
   "metadata": {},
   "outputs": [],
   "source": []
  },
  {
   "cell_type": "markdown",
   "metadata": {},
   "source": [
    "<div class=\"alert alert-block\" style=\"border: 1px solid #FFB300;background-color:#F9FBE7;\">\n",
    "<font size=\"2em\" style=\"font-weight:bold;color:#3f8dbf;\">14.  doc2에서 customer_state 기준으로 행의 갯수를 확인해보세요</font><br>\n",
    "   - doc2에 value_counts() 를 써보세요 (value_counts() 는 Series 에만 적용 가능합니다.) <br>    \n",
    "</div>   "
   ]
  },
  {
   "cell_type": "code",
   "execution_count": null,
   "metadata": {},
   "outputs": [],
   "source": []
  },
  {
   "cell_type": "markdown",
   "metadata": {},
   "source": [
    "<div class=\"alert alert-block\" style=\"border: 1px solid #FFB300;background-color:#F9FBE7;\">\n",
    "<font size=\"2em\" style=\"font-weight:bold;color:#3f8dbf;\">15. doc2에서 customer_state 갯수를 확인해보세요</font><br>\n",
    "</div>   "
   ]
  },
  {
   "cell_type": "code",
   "execution_count": null,
   "metadata": {},
   "outputs": [],
   "source": []
  },
  {
   "cell_type": "markdown",
   "metadata": {},
   "source": [
    "<div class=\"alert alert-block\" style=\"border: 1px solid #FFB300;background-color:#F9FBE7;\">\n",
    "<font size=\"2em\" style=\"font-weight:bold;color:#3f8dbf;\">16. doc4에서 customer_city 갯수가 1000개 이상인 customer_city 갯수만 확인해보세요</font><br>\n",
    "202402 추가사항: 이상은 >= 이고, 초과는 > 입니다. 영상에서 > 으로 이상을 설명하는 실수가 있을 수 있어서 명시적으로 기재합니다.\n",
    "</div>   "
   ]
  },
  {
   "cell_type": "code",
   "execution_count": null,
   "metadata": {},
   "outputs": [],
   "source": [
    "import pandas as pd\n",
    "\n",
    "doc = pd.read_csv('00_data/olist_customers_dataset.csv', encoding='utf-8-sig')\n",
    "doc4 = doc.groupby('customer_city').count()\n",
    "doc4.head()"
   ]
  },
  {
   "cell_type": "code",
   "execution_count": null,
   "metadata": {},
   "outputs": [],
   "source": []
  },
  {
   "cell_type": "markdown",
   "metadata": {},
   "source": [
    "<div class=\"alert alert-block\" style=\"border: 1px solid #FFB300;background-color:#F9FBE7;\">\n",
    "<font size=\"2em\" style=\"font-weight:bold;color:#3f8dbf;\">17. doc4에서 customer_city 갯수가 1000개 이상인 customer_city 이름을 확인해보세요</font><br>\n",
    "202402 추가사항: 이상은 >= 이고, 초과는 > 입니다. 영상에서 > 으로 이상을 설명하는 실수가 있을 수 있어서 명시적으로 기재합니다.    \n",
    "</div> "
   ]
  },
  {
   "cell_type": "code",
   "execution_count": null,
   "metadata": {},
   "outputs": [],
   "source": []
  },
  {
   "cell_type": "markdown",
   "metadata": {},
   "source": [
    "<div class=\"alert alert-block\" style=\"border: 1px solid #FFB300;background-color:#F9FBE7;\">\n",
    "<font size=\"2em\" style=\"font-weight:bold;color:#3f8dbf;\">18. doc에서 결측치가 각 컬럼에 있는지 확인해보세요</font><br>\n",
    "</div> "
   ]
  },
  {
   "cell_type": "code",
   "execution_count": null,
   "metadata": {},
   "outputs": [],
   "source": []
  },
  {
   "cell_type": "markdown",
   "metadata": {},
   "source": [
    "### 추가 문법 이해 (to_list())\n",
    "1. 시리즈.to_list()\n",
    "   - 컬럼값을 리스트 타입으로 리턴"
   ]
  },
  {
   "cell_type": "markdown",
   "metadata": {},
   "source": [
    "<div class=\"alert alert-block\" style=\"border: 1px solid #FFB300;background-color:#F9FBE7;\">\n",
    "<font size=\"2em\" style=\"font-weight:bold;color:#3f8dbf;\">19. doc에서 중복된 customer_city 를 가진 행을 삭제한 후, customer_city 이름만 가져와보세요</font><br>\n",
    "</div> "
   ]
  },
  {
   "cell_type": "code",
   "execution_count": null,
   "metadata": {},
   "outputs": [],
   "source": []
  },
  {
   "cell_type": "markdown",
   "metadata": {},
   "source": [
    "### 추가 문법 이해 (pivot_table)"
   ]
  },
  {
   "cell_type": "markdown",
   "metadata": {},
   "source": [
    "- pivot_table(데이터프레임, values=None, index=None, aggfunc='mean', fill_value=None, margins=False, margins_name='All')\n",
    "  - values: 분석할 열 이름 리스트\n",
    "  - index: 인덱스로 들어갈 키 열\n",
    "  - aggfunc: 계산 방법, 간단히 {분석할열이름:계산방법} 으로 사전 형식으로 작성\n",
    "    - 주요 계산 방법: sum(합), mean(평균), median(중앙값), std(표준편차)\n",
    "  - fill_value: 결측치 대체 값\n",
    "  - margins: 모든 데이터의 총 분석 결과를 추가함 (예, 총 합)\n",
    "  - margins_name: 모든 데이터의 총 분석 결과의 이름"
   ]
  },
  {
   "cell_type": "code",
   "execution_count": null,
   "metadata": {},
   "outputs": [],
   "source": [
    "import pandas as pd\n",
    "\n",
    "doc_covid = pd.read_csv('COVID-19-master/csse_covid_19_data/csse_covid_19_daily_reports/04-01-2020.csv', encoding='utf-8-sig')\n",
    "doc_covid.head()"
   ]
  },
  {
   "cell_type": "markdown",
   "metadata": {},
   "source": [
    "<div class=\"alert alert-block\" style=\"border: 1px solid #FFB300;background-color:#F9FBE7;\">\n",
    "<font size=\"2em\" style=\"font-weight:bold;color:#3f8dbf;\">20. doc_covid 에서 중복된 Country_Region 각각에 대해 Confirmed 를 모두 더한 값을 컬럼으로 갖는 데이터프레임을 피봇테이블로 만드세요</font><br>\n",
    "- 결측치는 0으로 만드세요\n",
    "</div> "
   ]
  },
  {
   "cell_type": "code",
   "execution_count": null,
   "metadata": {},
   "outputs": [],
   "source": [
    "doc_covid2 = pd.pivot_table(doc_covid, \n",
    "                            index=['Country_Region'], \n",
    "                            values=['Confirmed'],\n",
    "                            aggfunc={'Confirmed': 'median'}, \n",
    "                            fill_value=0,\n",
    "                            margins=True,\n",
    "                            margins_name='Total'\n",
    "                           )\n",
    "doc_covid2.head()"
   ]
  },
  {
   "cell_type": "markdown",
   "metadata": {},
   "source": [
    "<div class=\"alert alert-block\" style=\"border: 1px solid #FFB300;background-color:#F9FBE7;\">\n",
    "<font size=\"2em\" style=\"font-weight:bold;color:#3f8dbf;\">21. doc_covid 에서 중복된 Country_Region 각각에 대해 Confirmed 를 모두 더한 값을 컬럼으로 갖는 데이터프레임을 피봇테이블로 만들고, 총 값을 'Total' 을 인덱스 값으로 하는 record 로 추가하세요</font><br>\n",
    "- 결측치는 0으로 만드세요\n",
    "</div> "
   ]
  },
  {
   "cell_type": "code",
   "execution_count": null,
   "metadata": {},
   "outputs": [],
   "source": [
    "doc_covid2 = pd.pivot_table(doc_covid, \n",
    "                            index=['Country_Region'], \n",
    "                            values=['Confirmed'],\n",
    "                            aggfunc={'Confirmed': 'median'}, \n",
    "                            fill_value=0,\n",
    "                            margins=True,\n",
    "                            margins_name='Total'\n",
    "                           )\n",
    "doc_covid2"
   ]
  },
  {
   "cell_type": "markdown",
   "metadata": {},
   "source": [
    "<div class=\"alert alert-block\" style=\"border: 2px solid #1976D2;background-color:#E3F2FD;padding:5px;font-size:0.9em;\">\n",
    "본 자료는 저작권법 제25조 2항에 의해 보호를 받습니다. 본 자료를 외부에 공개하지 말아주세요.<br>\n",
    "본 강의만 잘 정리하면, 데이터 분석과 데이터 과학(머신러닝, 인공지능) 모두 가능합니다!<br>\n",
    "<b><a href=\"https://school.fun-coding.org/\">잔재미코딩</a> 에서 본 강의 기반 최적화된 로드맵도 확인하실 수 있습니다</b></div>"
   ]
  }
 ],
 "metadata": {
  "kernelspec": {
   "display_name": "Python 3 (ipykernel)",
   "language": "python",
   "name": "python3"
  },
  "language_info": {
   "codemirror_mode": {
    "name": "ipython",
    "version": 3
   },
   "file_extension": ".py",
   "mimetype": "text/x-python",
   "name": "python",
   "nbconvert_exporter": "python",
   "pygments_lexer": "ipython3",
   "version": "3.12.7"
  }
 },
 "nbformat": 4,
 "nbformat_minor": 4
}
