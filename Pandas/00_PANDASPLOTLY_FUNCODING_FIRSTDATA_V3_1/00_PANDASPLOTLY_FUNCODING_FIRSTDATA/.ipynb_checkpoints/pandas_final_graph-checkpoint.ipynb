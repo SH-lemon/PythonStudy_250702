{
 "cells": [
  {
   "cell_type": "markdown",
   "metadata": {},
   "source": [
    "<div class=\"alert alert-block\" style=\"border: 2px solid #1976D2;background-color:#E3F2FD;padding:5px;font-size:0.9em;\">\n",
    "본 자료는 저작권법 제25조 2항에 의해 보호를 받습니다. 본 자료를 외부에 공개하지 말아주세요.<br>\n",
    "본 강의만 잘 정리하면, 데이터 분석과 데이터 과학(머신러닝, 인공지능) 모두 가능합니다!<br>\n",
    "<mb><a href=\"https://school.fun-coding.org/\">잔재미코딩</a> 에서 본 강의 기반 최적화된 로드맵도 확인하실 수 있습니다</b></div>"
   ]
  },
  {
   "cell_type": "markdown",
   "metadata": {},
   "source": [
    "## 코로나 국가별 확진자 수 추이 분석/시각화"
   ]
  },
  {
   "cell_type": "markdown",
   "metadata": {},
   "source": [
    "### 날짜별 확진자수 최종 데이터프레임 읽기 (df_confirmed)"
   ]
  },
  {
   "cell_type": "code",
   "execution_count": null,
   "metadata": {},
   "outputs": [],
   "source": [
    "import pandas as pd\n",
    "df_confirmed = pd.read_csv(\"COVID-19-master/final_df.csv\")\n",
    "df_confirmed.head()"
   ]
  },
  {
   "cell_type": "code",
   "execution_count": null,
   "metadata": {},
   "outputs": [],
   "source": [
    "df_confirmed.shape"
   ]
  },
  {
   "cell_type": "markdown",
   "metadata": {},
   "source": [
    "### 국가명과 iso2 매칭 테이블 읽기 (country_info)\n",
    "- 국기 이미지를 가져오기가 쉽지 않음 (1년에 한번씩 변경하였음)\n",
    "  - 두글자의 ISO 국가 코드 기반(예: KR), 다음 이미지가 현재 가능함 (이후 또 변경시, 본 주피터 노트북에 업데이트 예정)\n",
    "  - 예: https://public.flourish.studio/country-flags/svg/kr.svg\n",
    "\n",
    "#### 이슈\n",
    "  - csv 파일에서 다음 데이터값은 데이터프레임으로 읽어들일 때, 자동으로 결측치로 변환됨\n",
    "    - ‘’, ‘#N/A’, ‘#N/A N/A’, ‘#NA’, ‘-1.#IND’, ‘-1.#QNAN’, ‘-NaN’, ‘-nan’, ‘1.#IND’, ‘1.#QNAN’, ‘<NA>’, ‘N/A’, ‘NA’, ‘NULL’, ‘NaN’, ‘n/a’, ‘nan’, ‘null’\n",
    "    - Namibia 국가의 iso2 값이 NA 이므로 결측치 변환을 막기 위해 다음과 같은 옵션 설정 필요\n",
    "      - keep_default_na=False : 위 데이터값을 자동으로 결측치로 변환하지 않고, na_values로 지정한 데이터만 결측치로 변환\n",
    "      - na_values='' : 결측치로 변환할 값을 지정"
   ]
  },
  {
   "cell_type": "code",
   "execution_count": null,
   "metadata": {},
   "outputs": [],
   "source": [
    "country_info = pd.read_csv(\"COVID-19-master/csse_covid_19_data/UID_ISO_FIPS_LookUp_Table.csv\", encoding='utf-8-sig', keep_default_na=False, na_values='')\n",
    "country_info.head()"
   ]
  },
  {
   "cell_type": "code",
   "execution_count": null,
   "metadata": {},
   "outputs": [],
   "source": [
    "country_info[country_info['Country_Region'] == 'Namibia']"
   ]
  },
  {
   "cell_type": "code",
   "execution_count": null,
   "metadata": {},
   "outputs": [],
   "source": [
    "country_info = country_info[['iso2', 'Country_Region']]\n",
    "country_info.head()"
   ]
  },
  {
   "cell_type": "markdown",
   "metadata": {},
   "source": [
    "- 중복 행 제거"
   ]
  },
  {
   "cell_type": "code",
   "execution_count": null,
   "metadata": {},
   "outputs": [],
   "source": [
    "country_info.shape"
   ]
  },
  {
   "cell_type": "code",
   "execution_count": null,
   "metadata": {},
   "outputs": [],
   "source": [
    "country_info = country_info.drop_duplicates(subset='Country_Region', keep='last')\n",
    "country_info.shape"
   ]
  },
  {
   "cell_type": "markdown",
   "metadata": {},
   "source": [
    "### 날짜별 국가별 확진자수와 국가별 iso2 값 병합"
   ]
  },
  {
   "cell_type": "code",
   "execution_count": null,
   "metadata": {},
   "outputs": [],
   "source": [
    "doc_final_country = pd.merge(df_confirmed, country_info, how='left', on='Country_Region')\n",
    "doc_final_country.head()"
   ]
  },
  {
   "cell_type": "code",
   "execution_count": null,
   "metadata": {},
   "outputs": [],
   "source": [
    "doc_final_country.shape"
   ]
  },
  {
   "cell_type": "markdown",
   "metadata": {},
   "source": [
    "#### 없는 데이터(NaN) 확인하기"
   ]
  },
  {
   "cell_type": "code",
   "execution_count": null,
   "metadata": {},
   "outputs": [],
   "source": [
    "doc_final_country.isnull().sum()"
   ]
  },
  {
   "cell_type": "markdown",
   "metadata": {},
   "source": [
    "### 특정 컬럼에 없는 데이터(NaN)가 있는 경우, 해당 행들만 보여주기\n",
    "- 특정 컬럼 조건에 맞는 행들만 추출 가능\n",
    "  - dataframe[dataframe[컬럼명] 조건]"
   ]
  },
  {
   "cell_type": "code",
   "execution_count": null,
   "metadata": {},
   "outputs": [],
   "source": [
    "doc_final_country[doc_final_country['iso2'].isnull()]"
   ]
  },
  {
   "cell_type": "code",
   "execution_count": null,
   "metadata": {},
   "outputs": [],
   "source": [
    "doc_final_country[doc_final_country['iso2'].isnull()]['Country_Region']"
   ]
  },
  {
   "cell_type": "markdown",
   "metadata": {},
   "source": [
    "| 번호 | 항목                    | 설명                           |\n",
    "|------|-------------------------|--------------------------------|\n",
    "| 5    | Antarctica              | 국가가 아닌 남극 대륙            |\n",
    "| 45   | Cruise Ship             | 국가가 아닌 유람선 관련 데이터   |\n",
    "| 50   | Diamond Princess        | 국가가 아닌 유람선 (유명 크루즈 선박)|\n",
    "| 108  | MS Zaandam              | 국가가 아닌 유람선 (크루즈 선박)   |\n",
    "| 136  | Others                  | 국가 외 기타 항목               |\n",
    "| 170  | Summer Olympics 2020    | 국가가 아닌 이벤트 (올림픽 대회)  |\n",
    "| 197  | Winter Olympics 2022    | 국가가 아닌 이벤트 (올림픽 대회)  |\n"
   ]
  },
  {
   "cell_type": "markdown",
   "metadata": {
    "jp-MarkdownHeadingCollapsed": true
   },
   "source": [
    "#### 참고: 복합 조건은 \n",
    "- dataframe[(조건1) & (조건2)] : 조건1과 조건2 모두 만족 (and 조건)\n",
    "- dataframe[(조건1) | (조건2)] : 조건1 또는 조건2 만족 (or 조건)\n",
    "- 조건에 괄호를 넣는 것이 오동작을 방지하기 위해 좋음\n",
    "\n",
    "```\n",
    "nan_rows = doc_final_country[(doc_final_country['iso2'].isnull()) & (doc_final_country['4/01/2020'] == 0)]\n",
    "nan_rows.head()\n",
    "```"
   ]
  },
  {
   "cell_type": "markdown",
   "metadata": {},
   "source": [
    "### 특정 컬럼에 없는 데이터 삭제하기"
   ]
  },
  {
   "cell_type": "code",
   "execution_count": null,
   "metadata": {},
   "outputs": [],
   "source": [
    "doc_final_country = doc_final_country.dropna(subset=['iso2'])"
   ]
  },
  {
   "cell_type": "code",
   "execution_count": null,
   "metadata": {},
   "outputs": [],
   "source": [
    "doc_final_country[doc_final_country['iso2'].isnull()]"
   ]
  },
  {
   "cell_type": "markdown",
   "metadata": {},
   "source": [
    "### 국기 링크를 기존 컬럼 기반해서 만들어, 데이터프레임에 붙이기\n",
    "- 국기 이미지를 가져오기가 쉽지 않음 (1년에 한번씩 변경하였음)\n",
    "  - 두글자의 ISO 국가 코드 기반(예: KR), 다음 이미지가 현재 가능함 (이후 또 변경시, 본 주피터 노트북에 업데이트 예정)\n",
    "  - 예: https://public.flourish.studio/country-flags/svg/kr.svg"
   ]
  },
  {
   "cell_type": "markdown",
   "metadata": {},
   "source": [
    "- 국기 링크 만들기"
   ]
  },
  {
   "cell_type": "code",
   "execution_count": null,
   "metadata": {},
   "outputs": [],
   "source": [
    "iso2= 'AD'\n",
    "flag_link = 'https://public.flourish.studio/country-flags/svg/' + iso2.lower() + '.svg'\n",
    "flag_link"
   ]
  },
  {
   "cell_type": "markdown",
   "metadata": {},
   "source": [
    "#### 참고: 데이터프레임에 신규 컬럼 추가하기\n",
    "- 데이터 프레임에 신규 컬럼 추가하기\n",
    "  - 데이터프레임[신규컬럼] = pd.Series(data=데이터)\n",
    "    - 데이터는 행에 맞게, [0, 1, 2] 와 같은 형태로 넣을 수 있음\n",
    "- 기존 데이터프레임 컬럼 값을 기반으로 신규 컬럼 추가하기\n",
    "  - apply() 함수를 사용"
   ]
  },
  {
   "cell_type": "code",
   "execution_count": null,
   "metadata": {
    "scrolled": true
   },
   "outputs": [],
   "source": [
    "def create_flag_link(column):\n",
    "    flag_link = 'https://public.flourish.studio/country-flags/svg/' + column.lower() + '.svg'\n",
    "    print(flag_link)\n",
    "    return flag_link\n",
    "\n",
    "doc_final_country['iso2'] = doc_final_country['iso2'].apply(create_flag_link)"
   ]
  },
  {
   "cell_type": "markdown",
   "metadata": {},
   "source": [
    "### 데이터프레임 컬럼 조정하기"
   ]
  },
  {
   "cell_type": "code",
   "execution_count": null,
   "metadata": {},
   "outputs": [],
   "source": [
    "doc_final_country.head()"
   ]
  },
  {
   "cell_type": "markdown",
   "metadata": {},
   "source": [
    "#### 1. 데이터프레임에서 필요한 컬럼만 선택하기\n",
    "- 데이터프레임.columns.tolist() : 컬럼명을 리스트로 변환\n",
    "\n",
    "<img src=\"https://davelee-fun.github.io/fixeddata/covid_data_format.png\">"
   ]
  },
  {
   "cell_type": "code",
   "execution_count": null,
   "metadata": {
    "scrolled": true
   },
   "outputs": [],
   "source": [
    "cols = doc_final_country.columns.tolist()\n",
    "cols.remove('iso2')\n",
    "cols.insert(1, 'iso2')\n",
    "cols"
   ]
  },
  {
   "cell_type": "markdown",
   "metadata": {},
   "source": [
    "#### 내가 정한 조건대로 정렬하기\n",
    "- **`sorted(..., key=lambda x: pd.to_datetime(x, format='%m/%d/%Y'))`**:  \n",
    "  - `sorted` 함수는 리스트를 정렬하여 새 리스트를 반환합니다.\n",
    "  - **`key=lambda x: ...`**:  \n",
    "    - 각 요소 `x`에 대해 정렬 기준을 지정합니다.\n",
    "    - `x`는 날짜 형식의 문자열일 것으로 가정됩니다.\n",
    "  - **`pd.to_datetime(x, format='%m/%d/%Y')`**:  \n",
    "    - `x`를 지정된 날짜 포맷(`월/일/연도`)에 따라 datetime 객체로 변환합니다.\n",
    "    - 변환된 datetime 객체를 기준으로 정렬되므로, 날짜 순서대로 정렬됩니다."
   ]
  },
  {
   "cell_type": "code",
   "execution_count": null,
   "metadata": {
    "scrolled": true
   },
   "outputs": [],
   "source": [
    "sorted(cols[2:], key=lambda x: pd.to_datetime(x, format='%m/%d/%Y'))"
   ]
  },
  {
   "cell_type": "markdown",
   "metadata": {},
   "source": [
    "#### 참고: 오름차순 정렬과 내림차순 정렬\n",
    "- **오름차순 정렬 (낮은 순)**  \n",
    "  기본적으로 `sorted` 함수는 오름차순 정렬(가장 작은 값부터 큰 값 순)을 수행합니다. 날짜의 경우, 이는 **이른 날짜부터 늦은 날짜** 순으로 정렬됨을 의미합니다.\n",
    "  \n",
    "  예시:\n",
    "  ```python\n",
    "  # 이른 날짜(낮은 값) -> 늦은 날짜(높은 값) 순\n",
    "  sorted_list = sorted(cols[2:], key=lambda x: pd.to_datetime(x, format='%m/%d/%Y'))\n",
    "  ```\n",
    "\n",
    "- **내림차순 정렬 (높은 순)**  \n",
    "  내림차순 정렬(큰 값부터 작은 값 순)을 원한다면, `sorted` 함수의 `reverse` 매개변수를 `True`로 설정하면 됩니다. 날짜의 경우, 이는 **늦은 날짜부터 이른 날짜** 순으로 정렬됨을 의미합니다.\n",
    "  \n",
    "  예시:\n",
    "  ```python\n",
    "  # 늦은 날짜(높은 값) -> 이른 날짜(낮은 값) 순\n",
    "  sorted_list_desc = sorted(cols[2:], key=lambda x: pd.to_datetime(x, format='%m/%d/%Y'), reverse=True)\n",
    "  ```\n",
    "\n",
    "이처럼 `reverse` 매개변수를 통해 날짜 정렬의 순서를 쉽게 조절할 수 있습니다.  \n",
    "- `reverse=False` 또는 생략 시: 오름차순 (낮은 순)  \n",
    "- `reverse=True` 시: 내림차순 (높은 순)"
   ]
  },
  {
   "cell_type": "markdown",
   "metadata": {},
   "source": [
    "#### 리스트 합치기\n",
    "- 리스트타입 + 리스트타입 으로 리스트를 합칠 수 있음 "
   ]
  },
  {
   "cell_type": "code",
   "execution_count": null,
   "metadata": {
    "scrolled": true
   },
   "outputs": [],
   "source": [
    "cols = cols[:2] + sorted(cols[2:], key=lambda x: pd.to_datetime(x, format='%m/%d/%Y'))\n",
    "cols"
   ]
  },
  {
   "cell_type": "markdown",
   "metadata": {},
   "source": [
    "#### 데이터프레임 컬럼 위치 변경"
   ]
  },
  {
   "cell_type": "code",
   "execution_count": null,
   "metadata": {},
   "outputs": [],
   "source": [
    "doc_final_country = doc_final_country[cols]"
   ]
  },
  {
   "cell_type": "code",
   "execution_count": null,
   "metadata": {
    "scrolled": true
   },
   "outputs": [],
   "source": [
    "doc_final_country.head()"
   ]
  },
  {
   "cell_type": "markdown",
   "metadata": {},
   "source": [
    "#### 컬럼명 변경"
   ]
  },
  {
   "cell_type": "code",
   "execution_count": null,
   "metadata": {},
   "outputs": [],
   "source": [
    "cols[1] = 'Country_Flag'"
   ]
  },
  {
   "cell_type": "code",
   "execution_count": null,
   "metadata": {
    "scrolled": true
   },
   "outputs": [],
   "source": [
    "doc_final_country.columns = cols\n",
    "doc_final_country.head()"
   ]
  },
  {
   "cell_type": "markdown",
   "metadata": {},
   "source": [
    "### 최종 가공 완료 파일 저장"
   ]
  },
  {
   "cell_type": "code",
   "execution_count": null,
   "metadata": {},
   "outputs": [],
   "source": [
    "doc_final_country.to_csv(\"COVID-19-master/final_covid_data_for_graph.csv\")"
   ]
  },
  {
   "cell_type": "markdown",
   "metadata": {},
   "source": [
    "### 그래프 만들기\n",
    "- https://app.flourish.studio/ 로그인\n",
    "- New visualization 선택 -> Bar Chart Race 선택 -> 데이터 수정 (파일 업로드)\n",
    "- 최종 그래프 예: https://public.flourish.studio/visualisation/17998107/"
   ]
  },
  {
   "cell_type": "markdown",
   "metadata": {},
   "source": [
    "<div class=\"alert alert-block\" style=\"border: 2px solid #1976D2;background-color:#E3F2FD;padding:5px;font-size:0.9em;\">\n",
    "본 자료는 저작권법 제25조 2항에 의해 보호를 받습니다. 본 자료를 외부에 공개하지 말아주세요.<br>\n",
    "본 강의만 잘 정리하면, 데이터 분석과 데이터 과학(머신러닝, 인공지능) 모두 가능합니다!<br>\n",
    "<b><a href=\"https://school.fun-coding.org/\">잔재미코딩</a> 에서 본 강의 기반 최적화된 로드맵도 확인하실 수 있습니다</b></div>"
   ]
  }
 ],
 "metadata": {
  "kernelspec": {
   "display_name": "Python 3 (ipykernel)",
   "language": "python",
   "name": "python3"
  },
  "language_info": {
   "codemirror_mode": {
    "name": "ipython",
    "version": 3
   },
   "file_extension": ".py",
   "mimetype": "text/x-python",
   "name": "python",
   "nbconvert_exporter": "python",
   "pygments_lexer": "ipython3",
   "version": "3.12.7"
  }
 },
 "nbformat": 4,
 "nbformat_minor": 4
}
