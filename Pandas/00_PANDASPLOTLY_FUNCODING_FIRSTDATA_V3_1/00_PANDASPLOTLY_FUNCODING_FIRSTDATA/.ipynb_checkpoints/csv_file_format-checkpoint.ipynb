{
 "cells": [
  {
   "cell_type": "markdown",
   "metadata": {},
   "source": [
    "<div class=\"alert alert-block\" style=\"border: 2px solid #1976D2;background-color:#E3F2FD;padding:5px;font-size:0.9em;\">\n",
    "본 자료는 저작권법 제25조 2항에 의해 보호를 받습니다. 본 자료를 외부에 공개하지 말아주세요.<br>\n",
    "본 강의만 잘 정리하면, 데이터 분석과 데이터 과학(머신러닝, 인공지능) 모두 가능합니다!<br>\n",
    "<b><a href=\"https://school.fun-coding.org/\">잔재미코딩</a> 에서 본 강의 기반 최적화된 로드맵도 확인하실 수 있습니다</b></div>"
   ]
  },
  {
   "cell_type": "markdown",
   "metadata": {},
   "source": [
    "<div class=\"alert alert-block\" style=\"border: 2px solid #1976D2;background-color:#E3F2FD;padding:5px;font-size:0.9em;\">\n",
    "제 유투브 채널로 본 강의를 포함한 데이터 전과정 로드맵과 관련 커리어를 이해할 수 있는 영상도 참고로 확인해보시면<br> \n",
    "학습하시는데 큰 그림을 이해하실 수 있으실꺼예요. (괜찮으시면 구독과 좋아요도 부탁드립니다. ㅎ)<br>\n",
    "<b>- 데이터, AI 커리어와 데이터 전과정 학습 방법 완벽 가이드: <a href=\"https://youtu.be/vsoAyh4D-zw\">https://youtu.be/vsoAyh4D-zw</a>\n",
    "</div>"
   ]
  },
  {
   "cell_type": "markdown",
   "metadata": {},
   "source": [
    "## 2. 다양한 데이터 포멧 이해하기: CSV"
   ]
  },
  {
   "cell_type": "markdown",
   "metadata": {},
   "source": [
    "- 주요 데이터 포멧\n",
    "  - csv, xml, json\n",
    "  - 참고: 공공데이터포털"
   ]
  },
  {
   "cell_type": "markdown",
   "metadata": {},
   "source": [
    "### 2.1 파일 읽기 (Plain Text)\n",
    "- 파일디스크립터변수 = open(파일이름, 파일열기모드)\n",
    "\n",
    "```\n",
    "data_file = open('00_data/USvideos.csv', 'r', encoding='utf-8-sig')\n",
    "```\n",
    "    \n",
    "- 파일 디스크립터 (file descriptor) 변수: 오픈한 파일 객체를 가리키고 있는 변수\n",
    "- 파일 이름 명시시, open 함수 실행 위치와 파일 이름이 저장된 위치를 파일 절대 경로 또는 상대 경로로 정확히 명시해야 함\n",
    "- 파일 열기 모드\n",
    "\n",
    "| 파일열기모드 | 설명                                                                 |\n",
    "|:------------:|:----------------------------------------------------------------------|\n",
    "|       r      | 읽기 모드: 파일을 읽기만 할 때 사용함                                |\n",
    "|       w      | 쓰기 모드: 파일에 데이터를 쓸 때 사용함 (기존 파일 데이터는 삭제됨)  |\n",
    "|       a      | 추가 모드: 파일의 기존 데이터 끝에서부터 데이터를 추가할 때 사용함   |\n",
    "\n",
    "- encoding\n",
    "  - open(파일이름, 파일열기모드, encoding='utf-8-sig') 와 같이 끝에 encoding 구문 추가 가능 (옵션)\n",
    "  - 파일 오픈시, 해당 파일의 인코딩 방식을 명시해주는 것임"
   ]
  },
  {
   "cell_type": "markdown",
   "metadata": {
    "collapsed": true,
    "jupyter": {
     "outputs_hidden": true
    }
   },
   "source": [
    "### 2.2. csv 파일 읽기\n",
    "\n",
    "* CSV(Comma-Separated Values): 스프레드시트 데이터를 저장할 때 가장 널리 쓰이는 파일 형식\n",
    "* 엑셀등 여러 응용프로그램에서도 지원\n",
    "* CSV 형식 (각 열은 콤마로 구분, 각 행은 줄바꿈 문자로 구분)\n",
    "<pre>\n",
    "  dave, david\n",
    "  apple, 2\n",
    "  korea, japan, chian\n",
    "</pre>\n",
    "\n",
    "* 파이썬에서 CSV 파일로 저장/읽기 방법\n",
    "  - csv 라이브러리 사용"
   ]
  },
  {
   "cell_type": "markdown",
   "metadata": {},
   "source": [
    "### csv 라이브러리\n",
    "- 아나콘다에서 기본 포함"
   ]
  },
  {
   "cell_type": "code",
   "execution_count": null,
   "metadata": {},
   "outputs": [],
   "source": [
    "import csv"
   ]
  },
  {
   "cell_type": "markdown",
   "metadata": {},
   "source": [
    "### csv.reader(오픈한 파일 디스크립터, delimiter=',')\n",
    "- open 함수를 통해 오픈한 파일 디스크립터\n",
    "- delimiter=데이터구분자: csv 파일 내에 데이터 구분자를 명시할 수 있음 (옵션)\n",
    "\n",
    "    ```\n",
    "    data_file = open('00_data/USvideos.csv', 'r', encoding='utf-8-sig')\n",
    "    data_lines = csv.reader(data_file, delimiter=',')\n",
    "    ```"
   ]
  },
  {
   "cell_type": "markdown",
   "metadata": {},
   "source": [
    "### 데이터 읽기\n",
    "- 각 라인별 데이터를 읽기 위해, for 문을 사용하면 됨\n",
    "    ```\n",
    "    data_lines = csv.reader(data_file, delimiter=',')\n",
    "    for data_line in data_lines:\n",
    "        print (data_line)\n",
    "    ```\n"
   ]
  },
  {
   "cell_type": "markdown",
   "metadata": {},
   "source": [
    "### 파일 닫기 (close)\n",
    "- 오픈한 파일은 반드시 닫아야 함, 닫지 않으면 파일이 오픈된 채로 남아있을 수 있음\n",
    "\n",
    "```\n",
    "data_file = open('00_data/USvideos.csv', 'r', encoding='utf-8-sig')\n",
    "data_lines = csv.reader(data_file, delimiter=',')\n",
    "for data_line in data_lines:\n",
    "    print (data_line)\n",
    "data_file.close()\n",
    "```"
   ]
  },
  {
   "cell_type": "markdown",
   "metadata": {},
   "source": [
    "### 예 (한줄만 출력해봄)"
   ]
  },
  {
   "cell_type": "code",
   "execution_count": null,
   "metadata": {},
   "outputs": [],
   "source": [
    "import csv\n",
    "\n",
    "data_file = open('00_data/USvideos.csv', 'r', encoding='utf-8-sig')\n",
    "data_lines = csv.reader(data_file, delimiter=',')\n",
    "for data_line in data_lines:\n",
    "    print (data_line[0])\n",
    "    break\n",
    "    \n",
    "data_file.close()"
   ]
  },
  {
   "cell_type": "markdown",
   "metadata": {},
   "source": [
    "### csv 파일 읽기 다른 기법\n",
    "\n",
    "- with 문법을 사용해서, 파일 데이터를 읽은 후, with 내부 구문 실행 완료 후, 자동으로 파일을 닫을 수 있음"
   ]
  },
  {
   "cell_type": "code",
   "execution_count": null,
   "metadata": {},
   "outputs": [],
   "source": [
    "import csv\n",
    "with open('00_data/USvideos.csv', 'r', encoding='utf-8-sig') as reader_csv:\n",
    "    reader = csv.reader(reader_csv, delimiter=',')\n",
    "    \n",
    "    for row in reader:\n",
    "        print (row)\n",
    "        break\n"
   ]
  },
  {
   "cell_type": "markdown",
   "metadata": {},
   "source": [
    "### 2.3 csv 파일 쓰기\n",
    "- open 시 'w' 로 옵션을 설정\n",
    "  - open() 함수에 newline='' 를 넣어주는 이유는 윈도우의 경우에만 csv 모듈에서 데이타를 쓸 때 각 라인 뒤에 빈 라인이 추가되는 문제가 있기 때문\n",
    "  - 이를 없애기 위해 (파이썬 3 에서) 파일을 open 할 때 newline='' 와 같은 옵션을 지정\n",
    "\n",
    "```\n",
    "data_file = open('00_data/data.csv', 'w', encoding='utf-8-sig', newline='')\n",
    "```\n",
    "- csv.reader 대신, csv.writer 함수 사용\n",
    "\n",
    "```\n",
    "data_write = csv.writer(data_file, delimiter=',')\n",
    "```\n",
    "- writerow 함수에 리스트 형식으로 데이터를 넣으면, 한 라인씩 파일에 추가 됨\n",
    "- 파일 close 는 파일 읽기와 동일함"
   ]
  },
  {
   "cell_type": "code",
   "execution_count": null,
   "metadata": {},
   "outputs": [],
   "source": [
    "import csv\n",
    "data_file = open('00_data/tmp_csv.csv', 'w', encoding='utf-8-sig', newline='')\n",
    "data_write = csv.writer(data_file, delimiter=',')\n",
    "data_write.writerow(['1', '2', '3'])\n",
    "data_file.close()"
   ]
  },
  {
   "cell_type": "markdown",
   "metadata": {},
   "source": [
    "### csv 파일 쓰기 다른 기법 (with)\n",
    "\n",
    "- with 문법을 사용해서, with 내부 구문 실행 완료 후, 자동으로 파일을 닫을 수 있음"
   ]
  },
  {
   "cell_type": "code",
   "execution_count": null,
   "metadata": {},
   "outputs": [],
   "source": [
    "import csv\n",
    "with open('00_data/tmp_csv.csv', 'w', encoding='utf-8-sig', newline='') as writer_csv:\n",
    "    writer = csv.writer(writer_csv, delimiter=',')\n",
    "    writer.writerow(['love']*3 + ['banana'])   # ['love', 'love', 'love', 'banana'] 와 동일 \n",
    "    writer.writerow(['apple', 2])   # 문자열 외에도 다양한 타입 데이터 쓰기 가능\n",
    "    writer.writerow(['Spam', 'Lovely Spam', 'Wonderful Spam']) "
   ]
  },
  {
   "cell_type": "markdown",
   "metadata": {},
   "source": [
    "### csv 파일 쓰기 다른 기법 (사전 타입으로 파일 쓰기)\n",
    "- csv.writer 함수 대신에, csv.DictWriter 함수 사용\n",
    "- field 이름 선언 후, 데이터 넣기"
   ]
  },
  {
   "cell_type": "code",
   "execution_count": null,
   "metadata": {},
   "outputs": [],
   "source": [
    "import csv\n",
    "\n",
    "with open('00_data/tmp_csv.csv', 'w', encoding='utf-8-sig', newline='') as writer_csv:\n",
    "    field_name_list =['First Name', 'Last Name']  # 필드명 정의\n",
    "    writer = csv.DictWriter(writer_csv, fieldnames=field_name_list)  # 필드명을 미리 선언할 수 있음\n",
    "    writer.writeheader()  # 보통 csv 파일 상단에는 필드명을 넣기 때문에, 선언된 필드명을 writerheader() 함수로 넣을 수 있음\n",
    "    writer.writerow({'First Name': 'Dave', 'Last Name': 'Lee'})  # 각 데이터는 사전 타입으로 저장 가능\n",
    "    writer.writerow({'First Name': 'David', 'Last Name': 'Kim'})\n",
    "    writer.writerow({'First Name': 'Robin', 'Last Name': 'Park'})"
   ]
  },
  {
   "cell_type": "markdown",
   "metadata": {},
   "source": [
    "- 사전 타입으로 읽기 가능"
   ]
  },
  {
   "cell_type": "code",
   "execution_count": null,
   "metadata": {},
   "outputs": [],
   "source": [
    "import csv\n",
    "\n",
    "with open('00_data/tmp_csv.csv', 'r', encoding='utf-8-sig') as reader_csv:\n",
    "    reader = csv.DictReader(reader_csv)\n",
    "    for row in reader:\n",
    "        print(row['First Name'], row['Last Name'])"
   ]
  },
  {
   "cell_type": "markdown",
   "metadata": {},
   "source": [
    "### 2.4 pandas 라이브러리로 csv 파일 읽기\n",
    "- csv 파일을 pandas dataframe 으로 읽기 위해 read_csv() 함수를 사용함\n",
    "- csv 구분자는 quotechar=구분자 옵션을 넣어서 구분자가 다른 경우도 읽기 가능\n",
    "\n",
    "```\n",
    "doc = pd.read_csv(\"USvideos.csv\", encoding='utf-8-sig', quotechar=',')\n",
    "```\n",
    "\n",
    "- 에러 나는 데이터는 항상 있을 수 있음, 해당 데이터는 생략하는 것이 일반적임\n",
    "  - on_bad_lines 옵션 : 잘못된 행을 만났을 때 수행할 작업을 지정<br>\n",
    "    - 'error' : 잘못된 행을 만나면 에러 발생하고 중단<br>\n",
    "    - 'warn' : 잘못된 행을 만나면 경고를 표시하고 해당 행을 건너뜀<br>\n",
    "    - 'skip' : 잘못된 행을 만나면 에러나 경고를 표시하지 않고 건너뜀<br>\n",
    "    - 옵션 미사용 시 기본 동작: 만약 on_bad_lines 옵션을 명시적으로 지정하지 않는다면, 기본값은 'error' 입니다. 즉, CSV 파일을 읽는 도중 잘못된 행을 만나면 에러를 발생시키고 전체 읽기 작업을 중단하게 됩니다.\n",
    "      \n",
    "```\n",
    "doc = pd.read_csv(\"USvideos.csv\", encoding='utf-8-sig', on_bad_lines='skip')\n",
    "```"
   ]
  },
  {
   "cell_type": "code",
   "execution_count": null,
   "metadata": {},
   "outputs": [],
   "source": [
    "import pandas as pd\n",
    "doc = pd.read_csv(\"00_data/USvideos.csv\", encoding='utf-8-sig', on_bad_lines='skip')\n",
    "doc"
   ]
  },
  {
   "cell_type": "markdown",
   "metadata": {},
   "source": [
    "- 헤더 제거하고 읽기 (header=None 옵션 추가)\n",
    "\n",
    "```\n",
    "doc = pd.read_csv(\"USvideos.csv\", encoding='utf-8-sig', error_bad_lines=False, header=None)\n",
    "```"
   ]
  },
  {
   "cell_type": "code",
   "execution_count": null,
   "metadata": {
    "scrolled": true
   },
   "outputs": [],
   "source": [
    "import pandas as pd\n",
    "doc = pd.read_csv(\"00_data/USvideos.csv\", encoding='utf-8-sig', on_bad_lines='skip', header=None)\n",
    "doc"
   ]
  },
  {
   "cell_type": "markdown",
   "metadata": {},
   "source": [
    "### 2.5 pandas 라이브러리로 csv 파일 쓰기\n",
    "- pandas dataframe 데이터를 csv 파일로 저장하기 위해, to_csv() 함수 사용\n",
    "    ```\n",
    "    doc.to_csv(\"00_data/students_default.csv\")\n",
    "    doc = pd.to_csv(\"00_data/students_default.csv\", encoding='utf-8-sig')\n",
    "    ```\n",
    "\n",
    "- encoding 옵션 사용 가능\n",
    "    ```\n",
    "    doc.to_csv(\"00_data/students_default.csv\", encoding='utf-8-sig')\n",
    "    ```\n",
    "\n",
    "- sep 옵션으로 csv 구분자 변경 가능 (디폴트는 콤마)\n",
    "    ```\n",
    "    doc.to_csv(\"00_data/students_default_change_sep.csv\", encoding='utf-8-sig', sep='|')\n",
    "    ```\n",
    "\n",
    "- na_rep 옵션으로 데이터가 없는 항목에 대해 특정값을 넣을 수 있음 (디폴트는 아무런 값도 들어가지 않음)\n",
    "    ```\n",
    "    doc.to_csv(\"00_data/students_default_change_sep.csv\", encoding='utf-8-sig', na_rep='없음')\n",
    "    ```\n",
    "\n",
    "- index=False 옵션으로 앞의 번호(인덱스) 없이 csv 파일로 작성할 수 있음 (디폴트는 인덱스도 저장됨)\n",
    "    ```\n",
    "    doc.to_csv(\"00_data/students_default_without_index.csv\", encoding='utf-8-sig', index=False)\n",
    "    ```\n",
    "\n",
    "- header=False 옵션으로 위의 번호(헤더) 없이 csv 파일로 작성할 수 있음 (디폴트는 헤더도 저장됨)\n",
    "    ```\n",
    "    doc.to_csv(\"00_data/students_default_without_header.csv\", encoding='utf-8-sig', header=False)\n",
    "    ```\n",
    "\n",
    "- header=False 옵션으로 위의 번호(헤더) 없이 csv 파일로 작성할 수 있음 (디폴트는 헤더도 저장됨)\n",
    "    ```\n",
    "    doc.to_csv(\"00_data/students_default_without_index_header.csv\", encoding='utf-8-sig', index=False, header=False)\n",
    "    ```"
   ]
  },
  {
   "cell_type": "code",
   "execution_count": null,
   "metadata": {},
   "outputs": [],
   "source": [
    "import pandas as pd\n",
    "doc = pd.read_csv(\"00_data/students.csv\", encoding='utf-8-sig', on_bad_lines='skip', header=None)\n",
    "doc.to_csv(\"00_data/students_default_change_sep.csv\", encoding='utf-8-sig', sep='|')\n",
    "doc.to_csv(\"00_data/students_default_change_none.csv\", encoding='utf-8-sig', na_rep='없음')\n",
    "doc.to_csv(\"00_data/students_default_without_index.csv\", encoding='utf-8-sig', index=False)\n",
    "doc.to_csv(\"00_data/students_default_without_header.csv\", encoding='utf-8-sig', header=False)\n",
    "doc.to_csv(\"00_data/students_default_without_index_header.csv\", encoding='utf-8-sig', index=False, header=False)"
   ]
  },
  {
   "cell_type": "markdown",
   "metadata": {},
   "source": [
    "<div class=\"alert alert-block\" style=\"border: 2px solid #1976D2;background-color:#E3F2FD;padding:5px;font-size:0.9em;\">\n",
    "본 자료는 저작권법 제25조 2항에 의해 보호를 받습니다. 본 자료를 외부에 공개하지 말아주세요.<br>\n",
    "본 강의만 잘 정리하면, 데이터 분석과 데이터 과학(머신러닝, 인공지능) 모두 가능합니다!<br>\n",
    "<b><a href=\"https://school.fun-coding.org/\">잔재미코딩</a> 에서 본 강의 기반 최적화된 로드맵도 확인하실 수 있습니다</b></div>"
   ]
  }
 ],
 "metadata": {
  "kernelspec": {
   "display_name": "Python 3 (ipykernel)",
   "language": "python",
   "name": "python3"
  },
  "language_info": {
   "codemirror_mode": {
    "name": "ipython",
    "version": 3
   },
   "file_extension": ".py",
   "mimetype": "text/x-python",
   "name": "python",
   "nbconvert_exporter": "python",
   "pygments_lexer": "ipython3",
   "version": "3.12.7"
  },
  "nbTranslate": {
   "displayLangs": [
    "*"
   ],
   "hotkey": "alt-t",
   "langInMainMenu": true,
   "sourceLang": "en",
   "targetLang": "fr",
   "useGoogleTranslate": true
  }
 },
 "nbformat": 4,
 "nbformat_minor": 4
}
