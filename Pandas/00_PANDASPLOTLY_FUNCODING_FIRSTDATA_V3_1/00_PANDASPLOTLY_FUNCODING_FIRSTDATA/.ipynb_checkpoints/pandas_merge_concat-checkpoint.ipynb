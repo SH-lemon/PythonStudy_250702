{
 "cells": [
  {
   "cell_type": "markdown",
   "metadata": {},
   "source": [
    "<div class=\"alert alert-block\" style=\"border: 2px solid #1976D2;background-color:#E3F2FD;padding:5px;font-size:0.9em;\">\n",
    "본 자료는 저작권법 제25조 2항에 의해 보호를 받습니다. 본 자료를 외부에 공개하지 말아주세요.<br>\n",
    "본 강의만 잘 정리하면, 데이터 분석과 데이터 과학(머신러닝, 인공지능) 모두 가능합니다!<br>\n",
    "<b><a href=\"https://school.fun-coding.org/\">잔재미코딩</a> 에서 본 강의 기반 최적화된 로드맵도 확인하실 수 있습니다</b></div>"
   ]
  },
  {
   "cell_type": "markdown",
   "metadata": {},
   "source": [
    "## pandas 라이브러리로 데이터프레임 합치기"
   ]
  },
  {
   "cell_type": "markdown",
   "metadata": {},
   "source": [
    "### 1. 두 데이터프레임 연결하기"
   ]
  },
  {
   "cell_type": "code",
   "execution_count": null,
   "metadata": {},
   "outputs": [],
   "source": [
    "import pandas as pd"
   ]
  },
  {
   "cell_type": "markdown",
   "metadata": {},
   "source": [
    "<div class=\"alert alert-block\" style=\"border: 1px solid #FFB300;background-color:#F9FBE7;\">\n",
    "<font size=\"3em\" style=\"font-weight:bold;color:#3f8dbf;\">초간단 데이터프레임 만들어보기</font><br>\n",
    "    \n",
    "- 다음과 같은 형태의 두 개의 데이터프레임을 만들어보세요\n",
    "    <img src=\"https://www.fun-coding.org/00_Images/df_merge_practice.jpg\" />\n",
    "</div>"
   ]
  },
  {
   "cell_type": "code",
   "execution_count": null,
   "metadata": {},
   "outputs": [],
   "source": [
    "df1 = pd.DataFrame({\n",
    "    'id': [1, 2, 3],\n",
    "    'customer_id': [1, 2, 3],\n",
    "    'customer_name': ['Robert', 'Peter', 'Dave']\n",
    "}, columns=['id', 'customer_id', 'customer_name'])\n",
    "df1"
   ]
  },
  {
   "cell_type": "code",
   "execution_count": null,
   "metadata": {},
   "outputs": [],
   "source": [
    "df2 = pd.DataFrame({\n",
    "    'id': [1, 2, 4],\n",
    "    'order_id': [100, 200, 300],\n",
    "    'order_date': ['2021-01-21', '2021-02-03', '2020-10-01']\n",
    "}, columns=['id', 'order_id', 'order_date'])\n",
    "df2"
   ]
  },
  {
   "cell_type": "markdown",
   "metadata": {},
   "source": [
    "#### concat(): 두 데이터프레임을 연결해서 하나의 데이터프레임으로 만들 수 있음\n",
    "- 두 데이터프레임을 위/아래 또는 왼쪽/오른쪽으로 연결하기만 함\n",
    "- pd.concat([데이터프레임1, 데이터프레임2])"
   ]
  },
  {
   "cell_type": "code",
   "execution_count": null,
   "metadata": {},
   "outputs": [],
   "source": [
    "pd.concat([df1, df2])"
   ]
  },
  {
   "cell_type": "markdown",
   "metadata": {},
   "source": [
    "#### axis: 0 이면(디폴트) 위에서 아래로 합치고, 1 이면 왼쪽과 오른쪽으로 합침"
   ]
  },
  {
   "cell_type": "code",
   "execution_count": null,
   "metadata": {
    "scrolled": true
   },
   "outputs": [],
   "source": [
    "doc = pd.concat([df1, df2], axis=1)\n",
    "doc.head()"
   ]
  },
  {
   "cell_type": "markdown",
   "metadata": {},
   "source": [
    "### 2. 두 데이터프레임 합치기(병합하기)"
   ]
  },
  {
   "cell_type": "markdown",
   "metadata": {},
   "source": [
    "- df1과 df2\n",
    "<img src=\"https://www.fun-coding.org/00_Images/df_merge_practice.jpg\" />"
   ]
  },
  {
   "cell_type": "markdown",
   "metadata": {},
   "source": [
    "#### merge(): 두 데이터프레임을 합치기\n",
    "- merge(데이터프레임1, 데이터프레임2) : 두 데이터프레임에 동일한 이름을 가진 컬럼을 기준으로 두 데이터프레임을 합침"
   ]
  },
  {
   "cell_type": "code",
   "execution_count": null,
   "metadata": {},
   "outputs": [],
   "source": [
    "pd.merge(df1, df2)"
   ]
  },
  {
   "cell_type": "markdown",
   "metadata": {},
   "source": [
    "- merge(데이터프레임1, 데이터프레임2, on=기준컬럼명) : 기준 컬럼을 명시할 수도 있음"
   ]
  },
  {
   "cell_type": "code",
   "execution_count": null,
   "metadata": {},
   "outputs": [],
   "source": [
    "pd.merge(df1, df2, on='id')"
   ]
  },
  {
   "cell_type": "code",
   "execution_count": null,
   "metadata": {},
   "outputs": [],
   "source": []
  },
  {
   "cell_type": "markdown",
   "metadata": {},
   "source": [
    "#### merge() 를 통해 어떻게 두 데이터프레임을 결함시킬 것인가에 대해 보다 상세한 기능을 제공함\n",
    "- merge(데이터프레임1, 데이터프레임2, how=결합방법) \n",
    "- 결합방법\n",
    "  1. inner : 내부 조인 - SQL의 INNER JOIN 과 동일\n",
    "  2. outer : 완전 외부 조인 - SQL의 OUTER JOIN 과 동일\n",
    "  3. left : 왼쪽 우선 외부 조인 - SQL의 LEFT OUTER JOIN 과 동일\n",
    "  4. right : 오른쪽 우선 외부 조인 - SQL의 RIGHT OUTER JOIN 과 동일"
   ]
  },
  {
   "cell_type": "markdown",
   "metadata": {},
   "source": [
    "#### 참고: merge() 함수는 SQL의 JOIN 기능과 동일함\n",
    "- SQL JOIN: 두 개 이상의 테이블로부터 필요한 데이터를 연결해 하나의 포괄적인 구조로 결합시키는 연산"
   ]
  },
  {
   "cell_type": "markdown",
   "metadata": {},
   "source": [
    "#### 1. inner : 내부 조인 - SQL의 INNER JOIN 과 동일 (디폴트)\n",
    "- 동작 방식\n",
    "  1. on의 컬럼값이 두 데이터프레임에서 동일한 행 찾기\n",
    "  2. 각 동일한 행의 컬럼/컬럼값만 가져오기\n",
    "  \n",
    "  <img src=\"https://www.fun-coding.org/00_Images/merge_inner.jpg\" />"
   ]
  },
  {
   "cell_type": "code",
   "execution_count": null,
   "metadata": {},
   "outputs": [],
   "source": [
    "### 사전 선언\n",
    "import pandas as pd\n",
    "df1 = pd.DataFrame({\n",
    "    'id': [1, 2, 3],\n",
    "    'customer_id': [1, 2, 3],\n",
    "    'customer_name': ['Robert', 'Peter', 'Dave']\n",
    "}, columns=['id', 'customer_id', 'customer_name'])\n",
    "df2 = pd.DataFrame({\n",
    "    'id': [1, 2, 4],\n",
    "    'order_id': [100, 200, 300],\n",
    "    'order_date': ['2021-01-21', '2021-02-03', '2020-10-01']\n",
    "}, columns=['id', 'order_id', 'order_date'])"
   ]
  },
  {
   "cell_type": "code",
   "execution_count": null,
   "metadata": {},
   "outputs": [],
   "source": [
    "pd.merge(df1, df2, on='id') # inner 방식이 디폴트이므로 별도로 써주지 않아도 됨"
   ]
  },
  {
   "cell_type": "code",
   "execution_count": null,
   "metadata": {
    "scrolled": true
   },
   "outputs": [],
   "source": [
    "pd.merge(df1, df2, on='id', how='inner') # 명시적으로 써주기 위해 how 옵션을 써줄 수도 있음"
   ]
  },
  {
   "cell_type": "markdown",
   "metadata": {},
   "source": [
    "#### 2. outer : 완전 외부 조인 - SQL의 OUTER JOIN 과 동일\n",
    "- 동작 방식\n",
    "  1. on의 컬럼값이 두 데이터프레임에서 동일한 행 찾기\n",
    "  2. 각 동일한 행의 컬럼/컬럼값 가져와 붙이기\n",
    "  3. 각 데이터프레임에서 on의 컬럼값이 다른 나머지 행을 찾기\n",
    "  4. 각 나머지 행의 컬럼/컬럼값을 가져와 별도 행으로 붙이기\n",
    "     - 두 데이터프레임 각각에만 있는 컬럼이어서, 컬럼값이 없을 경우 데이터 없음(NaN)으로 표기하기\n",
    "     \n",
    "  <img src=\"https://www.fun-coding.org/00_Images/merge_outer.jpg\" />     "
   ]
  },
  {
   "cell_type": "code",
   "execution_count": null,
   "metadata": {},
   "outputs": [],
   "source": [
    "### 사전 선언\n",
    "import pandas as pd\n",
    "df1 = pd.DataFrame({\n",
    "    'id': [1, 2, 3],\n",
    "    'customer_id': [1, 2, 3],\n",
    "    'customer_name': ['Robert', 'Peter', 'Dave']\n",
    "}, columns=['id', 'customer_id', 'customer_name'])\n",
    "df2 = pd.DataFrame({\n",
    "    'id': [1, 2, 4],\n",
    "    'order_id': [100, 200, 300],\n",
    "    'order_date': ['2021-01-21', '2021-02-03', '2020-10-01']\n",
    "}, columns=['id', 'order_id', 'order_date'])"
   ]
  },
  {
   "cell_type": "code",
   "execution_count": null,
   "metadata": {},
   "outputs": [],
   "source": [
    "pd.merge(df1, df2, on='id', how='outer')"
   ]
  },
  {
   "cell_type": "markdown",
   "metadata": {},
   "source": [
    "#### 3. left : 왼쪽 우선 외부 조인 - SQL의 LEFT OUTER JOIN 과 동일\n",
    "- 동작 방식\n",
    "  1. 왼쪽 데이터프레임의 행을 모두 가져오기\n",
    "  2. 왼쪽 데이터프레임의 행에 있는 on의 컬럼값이 동일한 오른쪽 데이터프레임의 행만 컬럼과 함께 가져와 붙이기\n",
    "  3. 오른쪽 데이터프레임에 없는 on의 컬럼값을 가진 왼쪽 데이터프레임의 오른쪽 데이터프레임 컬럼들에는 데이터 없음(NaN)으로 표기하기\n",
    "     \n",
    "  <img src=\"https://www.fun-coding.org/00_Images/merge_left_outer.jpg\" />     "
   ]
  },
  {
   "cell_type": "code",
   "execution_count": null,
   "metadata": {},
   "outputs": [],
   "source": [
    "### 사전 선언\n",
    "import pandas as pd\n",
    "df1 = pd.DataFrame({\n",
    "    'id': [1, 2, 3],\n",
    "    'customer_id': [1, 2, 3],\n",
    "    'customer_name': ['Robert', 'Peter', 'Dave']\n",
    "}, columns=['id', 'customer_id', 'customer_name'])\n",
    "df2 = pd.DataFrame({\n",
    "    'id': [1, 2, 4],\n",
    "    'order_id': [100, 200, 300],\n",
    "    'order_date': ['2021-01-21', '2021-02-03', '2020-10-01']\n",
    "}, columns=['id', 'order_id', 'order_date'])"
   ]
  },
  {
   "cell_type": "code",
   "execution_count": null,
   "metadata": {},
   "outputs": [],
   "source": [
    "pd.merge(df1, df2, on='id', how='left')"
   ]
  },
  {
   "cell_type": "markdown",
   "metadata": {},
   "source": [
    "#### 4. right : 오른쪽 우선 외부 조인 - SQL의 RIGHT OUTER JOIN 과 동일\n",
    "- 동작 방식\n",
    "  1. 오른쪽 데이터프레임의 행을 모두 가져오기\n",
    "  2. 오른쪽 데이터프레임의 행에 있는 on의 컬럼값이 동일한 왼쪽 데이터프레임의 행만 컬럼과 함께 가져와 붙이기\n",
    "  3. 왼쪽 데이터프레임에 없는 on의 컬럼값을 가진 오른쪽 데이터프레임의 왼쪽 데이터프레임 컬럼들에는 데이터 없음(NaN)으로 표기하기\n",
    "     \n",
    "  <img src=\"https://www.fun-coding.org/00_Images/merge_right_outer.jpg\" />     "
   ]
  },
  {
   "cell_type": "code",
   "execution_count": null,
   "metadata": {},
   "outputs": [],
   "source": [
    "### 사전 선언\n",
    "import pandas as pd\n",
    "df1 = pd.DataFrame({\n",
    "    'id': [1, 2, 3],\n",
    "    'customer_id': [1, 2, 3],\n",
    "    'customer_name': ['Robert', 'Peter', 'Dave']\n",
    "}, columns=['id', 'customer_id', 'customer_name'])\n",
    "df2 = pd.DataFrame({\n",
    "    'id': [1, 2, 4],\n",
    "    'order_id': [100, 200, 300],\n",
    "    'order_date': ['2021-01-21', '2021-02-03', '2020-10-01']\n",
    "}, columns=['id', 'order_id', 'order_date'])"
   ]
  },
  {
   "cell_type": "code",
   "execution_count": null,
   "metadata": {},
   "outputs": [],
   "source": [
    "pd.merge(df1, df2, on='id', how='right')"
   ]
  },
  {
   "cell_type": "markdown",
   "metadata": {},
   "source": [
    "#### 컬럼이 아닌 인덱스를 기준 컬럼으로 사용하기\n",
    "- merge(데이터프레임1, 데이터프레임2, left_index=True, right_index=True) : 기준 컬럼을 명시할 수도 있음"
   ]
  },
  {
   "cell_type": "markdown",
   "metadata": {},
   "source": [
    "<div class=\"alert alert-block\" style=\"border: 1px solid #FFB300;background-color:#F9FBE7;\">\n",
    "<font size=\"3em\" style=\"font-weight:bold;color:#3f8dbf;\">데이터프레임 조작하기 연습</font><br>\n",
    "    \n",
    "- 위 두 데이터프레임의 인덱스를 id 컬럼으로 만드세요\n",
    "</div>"
   ]
  },
  {
   "cell_type": "code",
   "execution_count": null,
   "metadata": {},
   "outputs": [],
   "source": [
    "### 사전 선언\n",
    "import pandas as pd\n",
    "df1 = pd.DataFrame({\n",
    "    'id': [1, 2, 3],\n",
    "    'customer_id': [1, 2, 3],\n",
    "    'customer_name': ['Robert', 'Peter', 'Dave']\n",
    "}, columns=['id', 'customer_id', 'customer_name'])\n",
    "df2 = pd.DataFrame({\n",
    "    'id': [1, 2, 4],\n",
    "    'order_id': [100, 200, 300],\n",
    "    'order_date': ['2021-01-21', '2021-02-03', '2020-10-01']\n",
    "}, columns=['id', 'order_id', 'order_date'])"
   ]
  },
  {
   "cell_type": "code",
   "execution_count": null,
   "metadata": {},
   "outputs": [],
   "source": [
    "df1 = df1.set_index('id')\n",
    "df1"
   ]
  },
  {
   "cell_type": "code",
   "execution_count": null,
   "metadata": {},
   "outputs": [],
   "source": [
    "df2 = df2.set_index('id')\n",
    "df2"
   ]
  },
  {
   "cell_type": "markdown",
   "metadata": {},
   "source": [
    "<div class=\"alert alert-block\" style=\"border: 1px solid #FFB300;background-color:#F9FBE7;\">\n",
    "<font size=\"3em\" style=\"font-weight:bold;color:#3f8dbf;\">데이터프레임 조작하기 연습</font><br>\n",
    "    \n",
    "- 위 두 데이터프레임을 인덱스를 기준으로 합치세요 (inner join을 사용하세요)\n",
    "</div>"
   ]
  },
  {
   "cell_type": "code",
   "execution_count": null,
   "metadata": {},
   "outputs": [],
   "source": [
    "### 사전 선언\n",
    "import pandas as pd\n",
    "df1 = pd.DataFrame({\n",
    "    'id': [1, 2, 3],\n",
    "    'customer_id': [1, 2, 3],\n",
    "    'customer_name': ['Robert', 'Peter', 'Dave']\n",
    "}, columns=['id', 'customer_id', 'customer_name'])\n",
    "df1 = df1.set_index('id') \n",
    "df2 = pd.DataFrame({\n",
    "    'id': [1, 2, 4],\n",
    "    'order_id': [100, 200, 300],\n",
    "    'order_date': ['2021-01-21', '2021-02-03', '2020-10-01']\n",
    "}, columns=['id', 'order_id', 'order_date'])\n",
    "df2 = df2.set_index('id')"
   ]
  },
  {
   "cell_type": "code",
   "execution_count": null,
   "metadata": {},
   "outputs": [],
   "source": [
    "pd.merge(df1, df2, left_index=True, right_index=True)"
   ]
  },
  {
   "cell_type": "markdown",
   "metadata": {},
   "source": [
    "<div class=\"alert alert-block\" style=\"border: 1px solid #FFB300;background-color:#F9FBE7;\">\n",
    "<font size=\"3em\" style=\"font-weight:bold;color:#3f8dbf;\">데이터프레임 조작하기 연습</font><br>\n",
    "    \n",
    "- 위 두 데이터프레임을 인덱스를 기준으로 합치세요 (outer join을 사용하세요)\n",
    "</div>"
   ]
  },
  {
   "cell_type": "code",
   "execution_count": null,
   "metadata": {},
   "outputs": [],
   "source": [
    "### 사전 선언\n",
    "import pandas as pd\n",
    "df1 = pd.DataFrame({\n",
    "    'id': [1, 2, 3],\n",
    "    'customer_id': [1, 2, 3],\n",
    "    'customer_name': ['Robert', 'Peter', 'Dave']\n",
    "}, columns=['id', 'customer_id', 'customer_name'])\n",
    "df1 = df1.set_index('id')\n",
    "df2 = pd.DataFrame({\n",
    "    'id': [1, 2, 4],\n",
    "    'order_id': [100, 200, 300],\n",
    "    'order_date': ['2021-01-21', '2021-02-03', '2020-10-01']\n",
    "}, columns=['id', 'order_id', 'order_date'])\n",
    "df2 = df2.set_index('id')"
   ]
  },
  {
   "cell_type": "code",
   "execution_count": null,
   "metadata": {
    "scrolled": true
   },
   "outputs": [],
   "source": [
    "pd.merge(df1, df2, how='outer', left_index=True, right_index=True)"
   ]
  },
  {
   "cell_type": "markdown",
   "metadata": {},
   "source": [
    "<div class=\"alert alert-block\" style=\"border: 2px solid #1976D2;background-color:#E3F2FD;padding:5px;font-size:0.9em;\">\n",
    "본 자료는 저작권법 제25조 2항에 의해 보호를 받습니다. 본 자료를 외부에 공개하지 말아주세요.<br>\n",
    "본 강의만 잘 정리하면, 데이터 분석과 데이터 과학(머신러닝, 인공지능) 모두 가능합니다!<br>\n",
    "<b><a href=\"https://school.fun-coding.org/\">잔재미코딩</a> 에서 본 강의 기반 최적화된 로드맵도 확인하실 수 있습니다</b></div>"
   ]
  }
 ],
 "metadata": {
  "kernelspec": {
   "display_name": "Python 3 (ipykernel)",
   "language": "python",
   "name": "python3"
  },
  "language_info": {
   "codemirror_mode": {
    "name": "ipython",
    "version": 3
   },
   "file_extension": ".py",
   "mimetype": "text/x-python",
   "name": "python",
   "nbconvert_exporter": "python",
   "pygments_lexer": "ipython3",
   "version": "3.12.7"
  }
 },
 "nbformat": 4,
 "nbformat_minor": 4
}
