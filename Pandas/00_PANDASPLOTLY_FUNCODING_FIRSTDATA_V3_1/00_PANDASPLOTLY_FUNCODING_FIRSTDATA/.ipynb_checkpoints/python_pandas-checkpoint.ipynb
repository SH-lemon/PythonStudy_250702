{
 "cells": [
  {
   "cell_type": "code",
   "execution_count": 1,
   "id": "261cc966-e399-41e1-8325-39e14db0da46",
   "metadata": {},
   "outputs": [],
   "source": [
    "data_file = open(\"00_data/text_data.txt\", \"r\", encoding=\"utf-8-sig\")\n",
    "data_file.close()"
   ]
  },
  {
   "cell_type": "code",
   "execution_count": 4,
   "id": "038d82f2-b981-4d92-8c99-992d4a5eaef7",
   "metadata": {},
   "outputs": [
    {
     "name": "stdout",
     "output_type": "stream",
     "text": [
      "['안녕하세요. Dave Lee 입니다.\\n', '본 예제는 Plain Text 파일 예제입니다.\\n', '감사합니다.']\n"
     ]
    }
   ],
   "source": [
    "with open(\"00_data/text_data.txt\", \"r\", encoding=\"utf-8-sig\") as data_file :\n",
    "    data_lines = data_file.readlines()\n",
    "    print(data_lines)"
   ]
  },
  {
   "cell_type": "code",
   "execution_count": 6,
   "id": "0c01eed4-a9f6-4081-b015-821204c6ea93",
   "metadata": {},
   "outputs": [
    {
     "name": "stdout",
     "output_type": "stream",
     "text": [
      "['안녕하세요. Dave Lee 입니다.\\n', '본 예제는 Plain Text 파일 예제입니다.\\n', '감사합니다.']\n"
     ]
    }
   ],
   "source": [
    "data_file = open(\"00_data/text_data.txt\", \"r\", encoding=\"utf-8-sig\")\n",
    "data_lines = data_file.readlines()\n",
    "print(data_lines)"
   ]
  },
  {
   "cell_type": "code",
   "execution_count": 7,
   "id": "34f32223-a100-44fe-acad-764ca254c00b",
   "metadata": {},
   "outputs": [
    {
     "name": "stdout",
     "output_type": "stream",
     "text": [
      "안녕하세요. Dave Lee 입니다.\n",
      "\n",
      "본 예제는 Plain Text 파일 예제입니다.\n",
      "\n",
      "감사합니다.\n"
     ]
    }
   ],
   "source": [
    "for data_line in data_lines :\n",
    "    print(data_line)\n",
    "data_file.close()"
   ]
  },
  {
   "cell_type": "code",
   "execution_count": 21,
   "id": "fa11bd3b-a824-482e-a766-f279dfcf9742",
   "metadata": {},
   "outputs": [
    {
     "name": "stdout",
     "output_type": "stream",
     "text": [
      "안녕하세요. Dave Lee 입니다.\n",
      "\n"
     ]
    }
   ],
   "source": [
    "data_file = open(\"00_data/text_data.txt\", \"r\", encoding=\"utf-8-sig\")\n",
    "data_lines = data_file.readline()\n",
    "print(data_lines)"
   ]
  },
  {
   "cell_type": "code",
   "execution_count": 22,
   "id": "9c2e48bb-e62b-43ae-a3d0-a311613df45e",
   "metadata": {},
   "outputs": [
    {
     "name": "stdout",
     "output_type": "stream",
     "text": [
      "본 예제는 Plain Text 파일 예제입니다.\n",
      "\n"
     ]
    }
   ],
   "source": [
    "data_lines = data_file.readline()\n",
    "print(data_lines)"
   ]
  },
  {
   "cell_type": "code",
   "execution_count": 23,
   "id": "d1290353-c9e5-4a90-8122-71de91aaad39",
   "metadata": {},
   "outputs": [
    {
     "name": "stdout",
     "output_type": "stream",
     "text": [
      "안녕하세요. Dave Lee 입니다.\n",
      "본 예제는 Plain Text 파일 예제입니다.\n",
      "감사합니다.\n"
     ]
    }
   ],
   "source": [
    "data_file = open(\"00_data/text_data.txt\", \"r\", encoding=\"utf-8-sig\")\n",
    "data_lines = data_file.read()\n",
    "print(data_lines)"
   ]
  },
  {
   "cell_type": "code",
   "execution_count": 27,
   "id": "25ff1660-3560-48f1-bdd9-fdf956601f8e",
   "metadata": {},
   "outputs": [],
   "source": [
    "data_file = open(\"00_data/text_data_write.txt\", \"w\", encoding=\"utf-8-sig\")\n",
    "data_file.write(\"안녕하세요!\")\n",
    "data_file.write(\"David입니다.\")\n",
    "data_file.close()"
   ]
  },
  {
   "cell_type": "code",
   "execution_count": 29,
   "id": "b2d22319-f692-4490-b22a-165593c2ee77",
   "metadata": {},
   "outputs": [],
   "source": [
    "data_file = open(\"00_data/text_data_write.txt\", \"w\", encoding=\"utf-8-sig\")\n",
    "data_file.write(\"안녕하세요!\\n\")\n",
    "data_file.write(\"David입니다.\\n\")\n",
    "data_file.close()"
   ]
  },
  {
   "cell_type": "code",
   "execution_count": 30,
   "id": "8a629879-0f33-4cf4-9c5f-9ba736262fdf",
   "metadata": {},
   "outputs": [],
   "source": [
    "data_file = open(\"00_data/text_data_write.txt\", \"a\", encoding=\"utf-8-sig\")\n",
    "data_file.write(\"본 파일은 임시파일입니다.\")\n",
    "data_file.close()"
   ]
  },
  {
   "cell_type": "code",
   "execution_count": 31,
   "id": "f12afc70-2eee-408d-9dc9-2403f4255892",
   "metadata": {},
   "outputs": [
    {
     "name": "stdout",
     "output_type": "stream",
     "text": [
      "Defaulting to user installation because normal site-packages is not writeable\n",
      "Note: you may need to restart the kernel to use updated packages.\n"
     ]
    },
    {
     "name": "stderr",
     "output_type": "stream",
     "text": [
      "ERROR: Could not find a version that satisfies the requirement csv (from versions: none)\n",
      "ERROR: No matching distribution found for csv\n"
     ]
    }
   ],
   "source": [
    "pip install csv"
   ]
  },
  {
   "cell_type": "code",
   "execution_count": 33,
   "id": "415cc32f-5bea-4f33-9ee8-ae33c5c238dd",
   "metadata": {},
   "outputs": [
    {
     "name": "stdout",
     "output_type": "stream",
     "text": [
      "['video_id', 'title', 'channel_title', 'category_id', 'tags', 'views', 'likes', 'dislikes', 'comment_total', 'thumbnail_link', 'date']\n",
      "['XpVt6Z1Gjjo', '1 YEAR OF VLOGGING -- HOW LOGAN PAUL CHANGED YOUTUBE FOREVER!', 'Logan Paul Vlogs', '24', 'logan paul vlog|logan paul|logan|paul|olympics|logan paul youtube|vlog|daily|comedy|hollywood|parrot|maverick|bird|maverick clothes|diamond play button|logan paul diamond play button|10M subscribers|logan paul 1 year vlogging|1 year vlog|dwarf mamba play button|logan paul history|youtube history|10M|10M plaque|youtube button|diamond button|logang|logang 4 life', '4394029', '320053', '5931', '46245', 'https://i.ytimg.com/vi/XpVt6Z1Gjjo/default.jpg', '13.09']\n",
      "['K4wEI5zhHB0', 'iPhone X — Introducing iPhone X — Apple', 'Apple', '28', 'Apple|iPhone 10|iPhone Ten|iPhone|Portrait Lighting|A11 Bionic|augmented reality|emoji|animoji|Face ID|Apple Pay|camera|smartphone', '7860119', '185853', '26679', '0', 'https://i.ytimg.com/vi/K4wEI5zhHB0/default.jpg', '13.09']\n",
      "['cLdxuaxaQwc', 'My Response', 'PewDiePie', '22', '[none]', '5845909', '576597', '39774', '170708', 'https://i.ytimg.com/vi/cLdxuaxaQwc/default.jpg', '13.09']\n",
      "['WYYvHb03Eog', 'Apple iPhone X first look', 'The Verge', '28', 'apple iphone x hands on|Apple iPhone X|iPhone X|apple iphone x first look|iPhone X first look|apple iphone x event 2017|apple iphone x event|iPhone X price|iPhone X specs|iPhone X design|iPhone X camera|iPhone X home button|iPhone X wireless charging|iPhone X waterproof|iPhone X release date|iphone 2017|apple|iphone|ios 11|the verge|verge', '2642103', '24975', '4542', '12829', 'https://i.ytimg.com/vi/WYYvHb03Eog/default.jpg', '13.09']\n",
      "['sjlHnJvXdQs', 'iPhone X (parody)', 'jacksfilms', '23', 'jacksfilms|parody|parodies|iphone|iphone x|iphone 8|apple|emoji', '1168130', '96666', '568', '6666', 'https://i.ytimg.com/vi/sjlHnJvXdQs/default.jpg', '13.09']\n",
      "['cMKX2tE5Luk', 'The Disaster Artist | Official Trailer HD | A24', 'A24', '1', 'a24|a24 films|a24 trailers|independent films|trailer|HD|official|movie|film|a24 movies|oscar winner|academy award winner|The Disaster Artist|room|james franco|greg sestero|tom bissell|dave franco|seth rogen|seth rogan|room trailer|The Disaster Artist trailer|The Disaster Artist film|disaster|artist|the room|the room movie|Tommy Wiseau|cult classic|the room behind the scenes|Juliette Danielle|oh hi mark|the worst film ever made|comedy|biographical', '1311445', '34507', '544', '3040', 'https://i.ytimg.com/vi/cMKX2tE5Luk/default.jpg', '13.09']\n",
      "['8wNr-NQImFg', 'The Check In: HUD, Ben Carson and Hurricanes', 'Late Night with Seth Meyers', '23', 'Late night|Seth Meyers|check in|hud|Ben Carson|NBC|NBC TV|television|funny|talk show|comedy|humor|stand-up|parody|snl seth meyers|host|promo|seth|meyers|weekend update|news satire|satire|surgeon|neurosurgeon|Housing Secretary|Elizabeth Warren|Gifted Hands|Housing & Urban Development|ProPublica|HLN|Hurricane Harvey|Texas|EPA', '666169', '9985', '297', '1071', 'https://i.ytimg.com/vi/8wNr-NQImFg/default.jpg', '13.09']\n",
      "['_HTXMhKWqnA', 'iPhone X Impressions & Hands On!', 'Marques Brownlee', '28', 'iPhone X|iphone x|iphone 10|iPhone X impressions|hands on|iphone 8|iphone 8 plus|iphone 8 impressions|iPhone X hands on|new iphone|iphone unboxing|iphone x unboxing|iphone x announcement|the iphone x|iphone x vs|iPhone X vs iPhone 8|iPhone 8 vs|MKBHD|iphone x features|iphone x keynote|face id|face unlock|super retina display', '1728614', '74062', '2180', '15297', 'https://i.ytimg.com/vi/_HTXMhKWqnA/default.jpg', '13.09']\n",
      "['_ANP3HR1jsM', 'ATTACKED BY A POLICE DOG!!', 'RomanAtwoodVlogs', '22', 'Roman Atwood|Roman|Atwood|roman atwood vlogs|family vlogs|roman vlogs|youtube pranks|atwood vlogs|noah atwood|kane atwood|brittney|roman soldiers|kid-friendly|kid friendly|family-friendly|family friendly|family fun|Vlogs2017|vlog|vlogs|vlogger|vlogging|day|daily|Everyday|Smile more|Roman atwoods|House|Home|Kids|Noah|Kane|donkey|Empire|flash|Husky|Dog|Girlfriend|Britt|police|dog|K9|cops|fireman|fire truck', '1338533', '69687', '678', '5643', 'https://i.ytimg.com/vi/_ANP3HR1jsM/default.jpg', '13.09']\n"
     ]
    }
   ],
   "source": [
    "import csv\n",
    "data_file = open(\"00_data/USvideos.csv\", \"r\", encoding=\"utf-8-sig\")\n",
    "data_lines = csv.reader(data_file, delimiter=\",\")\n",
    "\n",
    "for i, data_line in enumerate(data_lines) :\n",
    "    print(data_line)\n",
    "    if i == 9 :\n",
    "        break\n",
    "\n",
    "data_file.close()"
   ]
  },
  {
   "cell_type": "code",
   "execution_count": 37,
   "id": "c9492ce0-63e5-4142-9e27-472650ca5b76",
   "metadata": {},
   "outputs": [],
   "source": [
    "import csv\n",
    "data_file = open(\"00_data/tmp_csv.csv\", \"w\", encoding=\"utf-8-sig\")\n",
    "data_write = csv.writer(data_file, delimiter=\",\")\n",
    "data_write.writerow([\"1\",\"2\",\"3\"])\n",
    "data_file.close()"
   ]
  },
  {
   "cell_type": "code",
   "execution_count": 42,
   "id": "20bcbe1b-2b8b-42f8-a589-6e7f66ddde89",
   "metadata": {},
   "outputs": [],
   "source": [
    "import csv\n",
    "with open(\"00_data/tmp_csv.csv\", \"w\", encoding=\"utf-8-sig\", newline=\"\") as data_file :\n",
    "    data_write = csv.writer(data_file, delimiter=\",\")\n",
    "    data_write.writerow([\"love\"]*3 + [\"banana\"])\n",
    "    data_write.writerow([\"apple\", 2])\n",
    "    data_write.writerow([\"Spam\", \"Lovely Spam\", \"Wonderful Spam\"])"
   ]
  }
 ],
 "metadata": {
  "kernelspec": {
   "display_name": "Python [conda env:base] *",
   "language": "python",
   "name": "conda-base-py"
  },
  "language_info": {
   "codemirror_mode": {
    "name": "ipython",
    "version": 3
   },
   "file_extension": ".py",
   "mimetype": "text/x-python",
   "name": "python",
   "nbconvert_exporter": "python",
   "pygments_lexer": "ipython3",
   "version": "3.13.5"
  }
 },
 "nbformat": 4,
 "nbformat_minor": 5
}
