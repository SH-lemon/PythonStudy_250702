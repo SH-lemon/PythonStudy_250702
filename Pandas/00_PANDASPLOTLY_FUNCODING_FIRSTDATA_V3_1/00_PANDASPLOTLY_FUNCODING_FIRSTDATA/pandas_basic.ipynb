{
 "cells": [
  {
   "cell_type": "markdown",
   "metadata": {},
   "source": [
    "<div class=\"alert alert-block\" style=\"border: 2px solid #1976D2;background-color:#E3F2FD;padding:5px;font-size:0.9em;\">\n",
    "본 자료는 저작권법 제25조 2항에 의해 보호를 받습니다. 본 자료를 외부에 공개하지 말아주세요.<br>\n",
    "본 강의만 잘 정리하면, 데이터 분석과 데이터 과학(머신러닝, 인공지능) 모두 가능합니다!<br>\n",
    "<b><a href=\"https://school.fun-coding.org/\">잔재미코딩</a> 에서 본 강의 기반 최적화된 로드맵도 확인하실 수 있습니다</b></div>"
   ]
  },
  {
   "cell_type": "markdown",
   "metadata": {},
   "source": [
    "<div class=\"alert alert-block\" style=\"border: 2px solid #1976D2;background-color:#E3F2FD;padding:5px;font-size:0.9em;\">\n",
    "제 유투브 채널로 본 강의를 포함한 데이터 전과정 로드맵과 관련 커리어를 이해할 수 있는 영상도 참고로 확인해보시면<br> \n",
    "학습하시는데 큰 그림을 이해하실 수 있으실꺼예요. (괜찮으시면 구독과 좋아요도 부탁드립니다. ㅎ)<br>\n",
    "<b>- 데이터, AI 커리어와 데이터 전과정 학습 방법 완벽 가이드: <a href=\"https://youtu.be/vsoAyh4D-zw\">https://youtu.be/vsoAyh4D-zw</a>\n",
    "</div>"
   ]
  },
  {
   "cell_type": "markdown",
   "metadata": {},
   "source": [
    "## pandas 라이브러리 다루기"
   ]
  },
  {
   "cell_type": "markdown",
   "metadata": {},
   "source": [
    "### 1. pandas 라이브러리란?\n",
    "- 테이블형 데이터를 다룰 수 있는 다양한 기능을 가진 라이브러리\n",
    "  - 파이썬 데이터 분석을 위해 기본적으로 사용하는 라이브러리임\n",
    "- raw data를 데이터 분석 전과정을 위해 사용할 수 있도록 변환하는 데이터 전처리에도 많이 사용됨\n",
    "  - raw data: 아직 데이터 분석을 위해 정제되지 않은 기본 데이터를 의미함\n",
    "    - 보통 데이터 분석 목적에 맞지 않은 불필요한 데이터가 있거나, 데이터가 없는 열들이 포함됨"
   ]
  },
  {
   "cell_type": "markdown",
   "metadata": {},
   "source": [
    "### 진행 방법\n",
    "- pandas 라이브러리 기능이 너무 많고 다양한 기능이 있기 때문에, 문법만 익혀서는 와닿지가 않음\n",
    "- pandas 라이브러리의 기본적인 기능만 익힌 후,\n",
    "- 추가 문법은 가볍게 탐색적 데이터 분석 (EDA) 개념을 익히고, 실제 예제를 통해 관련 문법을 익힘\n",
    "  - 데이터 분석 예제까지 계속 사용하며 반복적으로, 그리고 다양한 문법 이해 및 활용\n",
    "  - 전처리 예제는 전처리만 집중, 데이터 분석/시각화는 하지 않음\n",
    "  - 데이터 분석 예제는 전처리부터 데이터 분석/시각화(여기에 집중)\n",
    "    \n",
    "> 전처리 예제와 데이터 분석 예제를 실습하고 나면, pandas 와 최신 시각화 라이브러리를 바로 활용할 수 있도록!"
   ]
  },
  {
   "cell_type": "markdown",
   "metadata": {},
   "source": [
    "### pandas 라이브러리 임포트\n",
    "- 보통 pd 로 많이 사용함"
   ]
  },
  {
   "cell_type": "code",
   "execution_count": null,
   "metadata": {},
   "outputs": [],
   "source": [
    "import pandas as pd # 라이브러리 임포트 (보통 이와 같이 사용함, 이후에는 pd.팬더스함수 형태로 팬더스 라이브러리 함수를 호출함)"
   ]
  },
  {
   "cell_type": "markdown",
   "metadata": {},
   "source": [
    "### 2. 시리즈(Series) 이해하기\n",
    "- 데이터를 다루기 위해 데이터 프레임(Dataframe)과 시리즈(Series) 제공\n",
    "- 시리즈(Series)는 1차원 데이터이고, 데이터프레임(Dataframe)이 테이블형(2차원) 데이터임"
   ]
  },
  {
   "cell_type": "markdown",
   "metadata": {},
   "source": [
    "### Series 생성 (CRUD - Create)"
   ]
  },
  {
   "cell_type": "code",
   "execution_count": null,
   "metadata": {},
   "outputs": [],
   "source": [
    "seriesdata = pd.Series([70, 60, 90])\n",
    "seriesdata"
   ]
  },
  {
   "cell_type": "markdown",
   "metadata": {},
   "source": [
    "- index는 행의 레이블을 의미함\n",
    "- index를 지정하지 않으면 0부터 시작하는 인덱스 자동 생성\n",
    "- 지정할 경우에는 지정된 index로 사용"
   ]
  },
  {
   "cell_type": "code",
   "execution_count": null,
   "metadata": {
    "scrolled": true
   },
   "outputs": [],
   "source": [
    "seriesdata = pd.Series([70, 60, 90], index=['국어', '영어', '수학'])\n",
    "seriesdata"
   ]
  },
  {
   "cell_type": "markdown",
   "metadata": {},
   "source": [
    "### Series 데이터 읽고 수정하기 (CRUD - Read & Update)"
   ]
  },
  {
   "cell_type": "markdown",
   "metadata": {},
   "source": [
    "- Series 인덱스 수정"
   ]
  },
  {
   "cell_type": "code",
   "execution_count": null,
   "metadata": {
    "scrolled": true
   },
   "outputs": [],
   "source": [
    "seriesdata.index"
   ]
  },
  {
   "cell_type": "code",
   "execution_count": null,
   "metadata": {},
   "outputs": [],
   "source": [
    "seriesdata.index = ['미술', '음악', '체육']"
   ]
  },
  {
   "cell_type": "code",
   "execution_count": null,
   "metadata": {},
   "outputs": [],
   "source": [
    "seriesdata"
   ]
  },
  {
   "cell_type": "code",
   "execution_count": null,
   "metadata": {},
   "outputs": [],
   "source": [
    "seriesdata.values # seriesdata.values = [] 형태로는 직접 수정이 안됨"
   ]
  },
  {
   "cell_type": "markdown",
   "metadata": {},
   "source": [
    "- 특정 데이터 지정 가능 (출력, 수정등 데이터 처리 가능)"
   ]
  },
  {
   "cell_type": "code",
   "execution_count": null,
   "metadata": {},
   "outputs": [],
   "source": [
    "print (seriesdata['미술'], seriesdata.iloc[0])"
   ]
  },
  {
   "cell_type": "code",
   "execution_count": null,
   "metadata": {},
   "outputs": [],
   "source": [
    "seriesdata['미술'] = 80\n",
    "print (seriesdata['미술'], seriesdata.iloc[0])"
   ]
  },
  {
   "cell_type": "markdown",
   "metadata": {},
   "source": [
    "### Series 데이터 삭제하기 (CRUD - Delete)"
   ]
  },
  {
   "cell_type": "code",
   "execution_count": null,
   "metadata": {},
   "outputs": [],
   "source": [
    "seriesdata"
   ]
  },
  {
   "cell_type": "code",
   "execution_count": null,
   "metadata": {},
   "outputs": [],
   "source": [
    "del seriesdata['미술']"
   ]
  },
  {
   "cell_type": "code",
   "execution_count": null,
   "metadata": {},
   "outputs": [],
   "source": [
    "seriesdata"
   ]
  },
  {
   "cell_type": "markdown",
   "metadata": {},
   "source": [
    "### 3. pandas 데이터 타입\n",
    "- pandas 데이터 타입은 파이썬과 다름\n",
    "  - dtype 으로 불리우며, 주요 데이터 타입은 다음과 같음\n",
    "    - object 는 파이썬의 str 또는 혼용 데이터 타입 (문자열)\n",
    "    - int64 는 파이썬의 int (정수)\n",
    "    - float64 는 파이썬의 float (부동소숫점)\n",
    "    - bool 는 파이썬의 bool (True 또는 False 값을 가지는 boolean)\n",
    "    - 이외에 datetime64 (날짜/시간), timedelta[ns] (두 datatime64 간의 차) 도 활용됨\n",
    "\n",
    "> 가끔 data type 때문에 에러가 나는 경우가 있으므로, 데이터 타입에 대한 이해 및 데이터 타입 변경 기능을 알아둬야 함"
   ]
  },
  {
   "cell_type": "code",
   "execution_count": null,
   "metadata": {},
   "outputs": [],
   "source": [
    "seriesdata = pd.Series(['dave', 'alex', 'amir'])\n",
    "seriesdata"
   ]
  },
  {
   "cell_type": "code",
   "execution_count": null,
   "metadata": {},
   "outputs": [],
   "source": [
    "seriesdata = pd.Series([1, 1, 1])\n",
    "seriesdata"
   ]
  },
  {
   "cell_type": "markdown",
   "metadata": {},
   "source": [
    "### 데이터 타입 변경: Series.astype(변경할 타입)"
   ]
  },
  {
   "cell_type": "code",
   "execution_count": null,
   "metadata": {},
   "outputs": [],
   "source": [
    "seriesdata.astype('float')"
   ]
  },
  {
   "cell_type": "code",
   "execution_count": null,
   "metadata": {},
   "outputs": [],
   "source": [
    "seriesdata = pd.Series(['dave', 1.1, 1.2])\n",
    "seriesdata"
   ]
  },
  {
   "cell_type": "code",
   "execution_count": null,
   "metadata": {},
   "outputs": [],
   "source": [
    "seriesdata = pd.Series([True, True, False])\n",
    "seriesdata"
   ]
  },
  {
   "cell_type": "markdown",
   "metadata": {},
   "source": [
    "### 3. 데이터프레임(Dataframe) 이해하기\n",
    "- 데이터프레임은 테이블형(2차원) 데이터이며, 데이터 분석/머신 러닝에서 데이터 처리를 위해 주로 사용됨\n",
    "- 2차원이기 때문에 엑셀/csv와 같이 데이터가 row, column로 구성되며, 인덱스도 두 개, row/column 각각 존재함\n",
    "  - 행의 레이블은 인덱스로, 열의 레이블은 컬럼으로 부름"
   ]
  },
  {
   "cell_type": "code",
   "execution_count": null,
   "metadata": {},
   "outputs": [],
   "source": [
    "import pandas as pd # 라이브러리 임포트 (보통 이와 같이 사용함, 이후에는 pd.팬더스함수 형태로 팬더스 라이브러리 함수를 호출함)"
   ]
  },
  {
   "cell_type": "markdown",
   "metadata": {},
   "source": [
    "### Dataframe 생성 (CRUD - Create)"
   ]
  },
  {
   "cell_type": "code",
   "execution_count": null,
   "metadata": {
    "scrolled": true
   },
   "outputs": [],
   "source": [
    "df = pd.DataFrame({\n",
    "    \"미국\": [2.1, 2.2, 2.3],\n",
    "    \"한국\": [0.4, 0.5, 0.45],\n",
    "    \"중국\": [10, 13, 15]    \n",
    "})\n",
    "df"
   ]
  },
  {
   "cell_type": "markdown",
   "metadata": {},
   "source": [
    "### 인덱스와 함께 생성하기 (CRUD - Create)"
   ]
  },
  {
   "cell_type": "code",
   "execution_count": null,
   "metadata": {},
   "outputs": [],
   "source": [
    "df = pd.DataFrame({\n",
    "    \"미국\": [2.1, 2.2, 2.3],\n",
    "    \"한국\": [0.4, 0.5, 0.45],\n",
    "    \"중국\": [10, 13, 15]},\n",
    "    index=[2000, 2010, 2020]\n",
    ")\n",
    "df"
   ]
  },
  {
   "cell_type": "markdown",
   "metadata": {},
   "source": [
    "### 데이터프레임은 index, columns, values (CRUD - Read & Update)\n",
    "- Series 는 index 와 values"
   ]
  },
  {
   "cell_type": "code",
   "execution_count": null,
   "metadata": {},
   "outputs": [],
   "source": [
    "# 행(row) 방향 index\n",
    "df.index"
   ]
  },
  {
   "cell_type": "code",
   "execution_count": null,
   "metadata": {},
   "outputs": [],
   "source": [
    "df.index = [2001, 2002, 2003]"
   ]
  },
  {
   "cell_type": "code",
   "execution_count": null,
   "metadata": {},
   "outputs": [],
   "source": [
    "df"
   ]
  },
  {
   "cell_type": "code",
   "execution_count": null,
   "metadata": {},
   "outputs": [],
   "source": [
    "# 열(column) 방향 index\n",
    "df.columns"
   ]
  },
  {
   "cell_type": "code",
   "execution_count": null,
   "metadata": {},
   "outputs": [],
   "source": [
    "df.columns = ['일본', '필리핀', '러시아']"
   ]
  },
  {
   "cell_type": "code",
   "execution_count": null,
   "metadata": {},
   "outputs": [],
   "source": [
    "df.values"
   ]
  },
  {
   "cell_type": "markdown",
   "metadata": {},
   "source": [
    "### 인덱스로 특정 컬럼 선택하기"
   ]
  },
  {
   "cell_type": "code",
   "execution_count": null,
   "metadata": {
    "scrolled": true
   },
   "outputs": [],
   "source": [
    "df = pd.DataFrame({\n",
    "    \"년도\": [2000, 2010, 2020],    \n",
    "    \"미국\": [2.1, 2.2, 2.3],\n",
    "    \"한국\": [0.4, 0.5, 0.45],\n",
    "    \"중국\": [10, 13, 15]    \n",
    "})\n",
    "df"
   ]
  },
  {
   "cell_type": "code",
   "execution_count": null,
   "metadata": {
    "scrolled": true
   },
   "outputs": [],
   "source": [
    "df = df.set_index('년도')\n",
    "df"
   ]
  },
  {
   "cell_type": "markdown",
   "metadata": {},
   "source": [
    "### 참고:\n",
    "- 인덱스 이름\n",
    "  - 데이터프레임.index.name 으로 확인 가능\n",
    "  - 데이터프레임.index.name = 변경할인덱스이름 으로 수정 가능"
   ]
  },
  {
   "cell_type": "code",
   "execution_count": null,
   "metadata": {},
   "outputs": [],
   "source": [
    "df.index.name"
   ]
  },
  {
   "cell_type": "code",
   "execution_count": null,
   "metadata": {},
   "outputs": [],
   "source": [
    "df.index.name = '연도'"
   ]
  },
  {
   "cell_type": "code",
   "execution_count": null,
   "metadata": {},
   "outputs": [],
   "source": [
    "df"
   ]
  },
  {
   "cell_type": "markdown",
   "metadata": {},
   "source": [
    "### 인덱스 reset\n",
    "- 인덱스 데이터를 컬럼으로 변경하기"
   ]
  },
  {
   "cell_type": "code",
   "execution_count": null,
   "metadata": {},
   "outputs": [],
   "source": [
    "df = df.reset_index('연도')\n",
    "df"
   ]
  },
  {
   "cell_type": "code",
   "execution_count": null,
   "metadata": {},
   "outputs": [],
   "source": [
    "df = df.set_index('연도')"
   ]
  },
  {
   "cell_type": "code",
   "execution_count": null,
   "metadata": {},
   "outputs": [],
   "source": [
    "df"
   ]
  },
  {
   "cell_type": "markdown",
   "metadata": {},
   "source": [
    "### 데이터프레임 데이터 접근하기\n",
    "- 데이터프레임.loc : index 를 통해서 값을 찾음\n",
    "- 데이터프레임.iloc : 인덱스 번호를 통해서 값을 찾음 (0부터 시작)"
   ]
  },
  {
   "cell_type": "markdown",
   "metadata": {},
   "source": [
    "### 특정 행 가져오기"
   ]
  },
  {
   "cell_type": "code",
   "execution_count": null,
   "metadata": {},
   "outputs": [],
   "source": [
    "df.loc[2000]"
   ]
  },
  {
   "cell_type": "code",
   "execution_count": null,
   "metadata": {},
   "outputs": [],
   "source": [
    "df.iloc[0]"
   ]
  },
  {
   "cell_type": "markdown",
   "metadata": {},
   "source": [
    "### 특정 열(컬럼) 가져오기 \n",
    "- 특정 열(컬럼)은 Series"
   ]
  },
  {
   "cell_type": "code",
   "execution_count": null,
   "metadata": {},
   "outputs": [],
   "source": [
    "type(df['미국'])"
   ]
  },
  {
   "cell_type": "code",
   "execution_count": null,
   "metadata": {},
   "outputs": [],
   "source": [
    "df['미국']"
   ]
  },
  {
   "cell_type": "code",
   "execution_count": null,
   "metadata": {},
   "outputs": [],
   "source": [
    "df"
   ]
  },
  {
   "cell_type": "code",
   "execution_count": null,
   "metadata": {},
   "outputs": [],
   "source": [
    "print (df['미국'][2000])\n",
    "print (df.loc[2000]['미국'])"
   ]
  },
  {
   "cell_type": "markdown",
   "metadata": {},
   "source": [
    "- 인덱스가 숫자로 입력됬는지, 문자로 입력됬는지에 따라, loc[] 에서 지정하는 방식도 동일하게 해야함"
   ]
  },
  {
   "cell_type": "code",
   "execution_count": null,
   "metadata": {},
   "outputs": [],
   "source": [
    "import pandas as pd\n",
    "\n",
    "df = pd.DataFrame({\n",
    "    \"년도\": ['2000', '2010', '2020'],    \n",
    "    \"미국\": [2.1, 2.2, 2.3],\n",
    "    \"한국\": [0.4, 0.5, 0.45],\n",
    "    \"중국\": [10, 13, 15]    \n",
    "})\n",
    "df = df.set_index('년도')\n",
    "df"
   ]
  },
  {
   "cell_type": "code",
   "execution_count": null,
   "metadata": {},
   "outputs": [],
   "source": [
    "df.index"
   ]
  },
  {
   "cell_type": "code",
   "execution_count": null,
   "metadata": {},
   "outputs": [],
   "source": [
    "df.loc['2000']"
   ]
  },
  {
   "cell_type": "markdown",
   "metadata": {},
   "source": [
    "### dataframe 컬럼 추가 (CRUD - Update)"
   ]
  },
  {
   "cell_type": "code",
   "execution_count": null,
   "metadata": {},
   "outputs": [],
   "source": [
    "df['일본'] = [1, 2, 3]"
   ]
  },
  {
   "cell_type": "code",
   "execution_count": null,
   "metadata": {},
   "outputs": [],
   "source": [
    "df"
   ]
  },
  {
   "cell_type": "markdown",
   "metadata": {},
   "source": [
    "### dataframe 컬럼 삭제 (CRUD - Delete)\n",
    "- del 컬럼"
   ]
  },
  {
   "cell_type": "code",
   "execution_count": null,
   "metadata": {},
   "outputs": [],
   "source": [
    "del df['일본']\n",
    "df"
   ]
  },
  {
   "cell_type": "markdown",
   "metadata": {},
   "source": [
    "#### 참고: dataframe 행 추가 (CRUD - Update)\n",
    "- 데이터프레임.loc[새로운인덱스] = 리스트"
   ]
  },
  {
   "cell_type": "code",
   "execution_count": null,
   "metadata": {},
   "outputs": [],
   "source": [
    "df = pd.DataFrame({\n",
    "    \"년도\": ['2000', '2010', '2020'],    \n",
    "    \"미국\": [2.1, 2.2, 2.3],\n",
    "    \"한국\": [0.4, 0.5, 0.45],\n",
    "    \"중국\": [10, 13, 15]    \n",
    "})\n",
    "df = df.set_index('년도')\n",
    "df"
   ]
  },
  {
   "cell_type": "code",
   "execution_count": null,
   "metadata": {},
   "outputs": [],
   "source": [
    "df.loc[2021] = [1, 2, 3]"
   ]
  },
  {
   "cell_type": "code",
   "execution_count": null,
   "metadata": {},
   "outputs": [],
   "source": [
    "df"
   ]
  },
  {
   "cell_type": "markdown",
   "metadata": {},
   "source": [
    "#### 참고: dataframe 행 삭제 (CRUD - Delete)\n",
    "- 데이터프레임.drop([인덱스이름]) "
   ]
  },
  {
   "cell_type": "code",
   "execution_count": null,
   "metadata": {},
   "outputs": [],
   "source": [
    "df = pd.DataFrame({\n",
    "    \"년도\": ['2000', '2010', '2020'],    \n",
    "    \"미국\": [2.1, 2.2, 2.3],\n",
    "    \"한국\": [0.4, 0.5, 0.45],\n",
    "    \"중국\": [10, 13, 15]    \n",
    "})\n",
    "df = df.set_index('년도')\n",
    "df"
   ]
  },
  {
   "cell_type": "code",
   "execution_count": null,
   "metadata": {},
   "outputs": [],
   "source": [
    "df.drop(['2020'])"
   ]
  },
  {
   "cell_type": "markdown",
   "metadata": {},
   "source": [
    "### dataframe 컬럼 선택(복사)\n",
    "- 새로운 데이터 저장소가 만들어짐"
   ]
  },
  {
   "cell_type": "markdown",
   "metadata": {},
   "source": [
    "### copy()\n",
    "> 원본 데이터는 놔두고, 복사해서 데이터 처리를 하는 경우가 많음, 컬럼 리스트를 넣는다고 생각 <br>\n",
    "> 보통 원본 데이터는 온전히 보전하고, 필요한 데이터 분석시마다 필요한 컬럼만 가져올 때 많이 사용 (그 외의 경우는 안써도 됨)"
   ]
  },
  {
   "cell_type": "code",
   "execution_count": null,
   "metadata": {},
   "outputs": [],
   "source": [
    "df = pd.DataFrame({\n",
    "    \"년도\": ['2000', '2010', '2020'],    \n",
    "    \"미국\": [2.1, 2.2, 2.3],\n",
    "    \"한국\": [0.4, 0.5, 0.45],\n",
    "    \"중국\": [10, 13, 15]    \n",
    "})\n",
    "df = df.set_index('년도')\n",
    "df"
   ]
  },
  {
   "cell_type": "code",
   "execution_count": null,
   "metadata": {},
   "outputs": [],
   "source": [
    "df2 = df[['중국', '한국']].copy()"
   ]
  },
  {
   "cell_type": "code",
   "execution_count": null,
   "metadata": {},
   "outputs": [],
   "source": [
    "df2"
   ]
  },
  {
   "cell_type": "code",
   "execution_count": null,
   "metadata": {},
   "outputs": [],
   "source": [
    "df2.columns = ['브라질', '아르헨티나']"
   ]
  },
  {
   "cell_type": "code",
   "execution_count": null,
   "metadata": {},
   "outputs": [],
   "source": [
    "df2"
   ]
  },
  {
   "cell_type": "code",
   "execution_count": null,
   "metadata": {},
   "outputs": [],
   "source": [
    "df"
   ]
  },
  {
   "cell_type": "markdown",
   "metadata": {},
   "source": [
    "<div class=\"alert alert-block\" style=\"border: 2px solid #1976D2;background-color:#E3F2FD;padding:5px;font-size:0.9em;\">\n",
    "본 자료는 저작권법 제25조 2항에 의해 보호를 받습니다. 본 자료를 외부에 공개하지 말아주세요.<br>\n",
    "본 강의만 잘 정리하면, 데이터 분석과 데이터 과학(머신러닝, 인공지능) 모두 가능합니다!<br>\n",
    "<b><a href=\"https://school.fun-coding.org/\">잔재미코딩</a> 에서 본 강의 기반 최적화된 로드맵도 확인하실 수 있습니다</b></div>"
   ]
  }
 ],
 "metadata": {
  "kernelspec": {
   "display_name": "Python 3 (ipykernel)",
   "language": "python",
   "name": "python3"
  },
  "language_info": {
   "codemirror_mode": {
    "name": "ipython",
    "version": 3
   },
   "file_extension": ".py",
   "mimetype": "text/x-python",
   "name": "python",
   "nbconvert_exporter": "python",
   "pygments_lexer": "ipython3",
   "version": "3.12.7"
  }
 },
 "nbformat": 4,
 "nbformat_minor": 4
}
