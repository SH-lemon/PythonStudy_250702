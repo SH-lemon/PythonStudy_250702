{
 "cells": [
  {
   "cell_type": "markdown",
   "metadata": {},
   "source": [
    "<div class=\"alert alert-block\" style=\"border: 2px solid #1976D2;background-color:#E3F2FD;padding:5px;font-size:0.9em;\">\n",
    "본 자료는 저작권법 제25조 2항에 의해 보호를 받습니다. 본 자료를 외부에 공개하지 말아주세요.<br>\n",
    "본 강의만 잘 정리하면, 데이터 분석과 데이터 과학(머신러닝, 인공지능) 모두 가능합니다!<br>\n",
    "<b><a href=\"https://school.fun-coding.org/\">잔재미코딩</a> 에서 본 강의 기반 최적화된 로드맵도 확인하실 수 있습니다</b></div>"
   ]
  },
  {
   "cell_type": "markdown",
   "metadata": {},
   "source": [
    "## pandas 라이브러리로 데이터 처리하기"
   ]
  },
  {
   "cell_type": "markdown",
   "metadata": {},
   "source": [
    "### 1. Series 로 feature를 보다 상세하게 탐색하기\n",
    "#### 코로나 바이러스 데이터와 함께 pandas 라이브러리 익히기\n",
    "- COVID-19-master 폴더 확인"
   ]
  },
  {
   "cell_type": "code",
   "execution_count": null,
   "metadata": {},
   "outputs": [],
   "source": [
    "import pandas as pd\n",
    "PATH = \"COVID-19-master/csse_covid_19_data/csse_covid_19_daily_reports/\"\n",
    "doc = pd.read_csv(PATH + \"04-01-2020.csv\", encoding='utf-8-sig')"
   ]
  },
  {
   "cell_type": "code",
   "execution_count": null,
   "metadata": {
    "scrolled": true
   },
   "outputs": [],
   "source": [
    "doc.head()"
   ]
  },
  {
   "cell_type": "markdown",
   "metadata": {},
   "source": [
    "#### 데이터프레임에서 Series 추출하기\n",
    "- 하나의 feature(column)만 선택하면 됨"
   ]
  },
  {
   "cell_type": "code",
   "execution_count": null,
   "metadata": {},
   "outputs": [],
   "source": [
    "countries = doc['Country_Region']\n",
    "countries.head()"
   ]
  },
  {
   "cell_type": "markdown",
   "metadata": {},
   "source": [
    "#### Series 로 feature를 보다 상세하게 탐색하기\n",
    "- size : 사이즈 반환\n",
    "- count() : 데이터가 없는 경우를 뺀 사이즈 반환\n",
    "- unique(): 유일한 값만 반환\n",
    "- value_counts(): 데이터가 없는 경우를 제외하고, 각 값의 갯수를 반환"
   ]
  },
  {
   "cell_type": "code",
   "execution_count": null,
   "metadata": {},
   "outputs": [],
   "source": [
    "print (countries.size, countries.count())"
   ]
  },
  {
   "cell_type": "code",
   "execution_count": null,
   "metadata": {},
   "outputs": [],
   "source": [
    "print (countries.unique(), len(countries.unique()))"
   ]
  },
  {
   "cell_type": "code",
   "execution_count": null,
   "metadata": {},
   "outputs": [],
   "source": [
    "countries.value_counts()"
   ]
  },
  {
   "cell_type": "markdown",
   "metadata": {},
   "source": [
    "### 2. 필요한 컬럼만 선택하기\n",
    "- 여러 컬럼을 선택하면, 별도의 데이터프레임이 됨"
   ]
  },
  {
   "cell_type": "code",
   "execution_count": null,
   "metadata": {},
   "outputs": [],
   "source": [
    "covid_stat = doc[['Confirmed', 'Deaths', 'Recovered']]\n",
    "covid_stat.head()"
   ]
  },
  {
   "cell_type": "markdown",
   "metadata": {},
   "source": [
    "### 3. 특정 조건에 맞는 row 검색하기"
   ]
  },
  {
   "cell_type": "code",
   "execution_count": null,
   "metadata": {},
   "outputs": [],
   "source": [
    "doc = pd.read_csv(PATH + \"04-01-2020.csv\", encoding='utf-8-sig')"
   ]
  },
  {
   "cell_type": "code",
   "execution_count": null,
   "metadata": {},
   "outputs": [],
   "source": [
    "doc_us = doc[doc['Country_Region'] == 'US']\n",
    "doc_us"
   ]
  },
  {
   "cell_type": "markdown",
   "metadata": {},
   "source": [
    "### 4. 없는 데이터(NaN) 처리하기"
   ]
  },
  {
   "cell_type": "markdown",
   "metadata": {},
   "source": [
    "- 없는 데이터(결측치) 가 있는지 확인하기\n",
    "  - isnull() : 없는 데이터가 있는지 확인 (True or False)\n",
    "  - sum() : 없는 데이터가 있는 행의 갯수 확인 \n",
    "  - 통상 isnull().sum() 으로 사용"
   ]
  },
  {
   "cell_type": "code",
   "execution_count": null,
   "metadata": {},
   "outputs": [],
   "source": [
    "doc = pd.read_csv(PATH + \"01-22-2020.csv\", encoding='utf-8-sig')\n",
    "doc.isnull().sum()"
   ]
  },
  {
   "cell_type": "markdown",
   "metadata": {},
   "source": [
    "#### 없는 데이터 삭제하기\n",
    "- dropna() : 결측치를 가진 행을 모두 삭제"
   ]
  },
  {
   "cell_type": "code",
   "execution_count": null,
   "metadata": {},
   "outputs": [],
   "source": [
    "doc = pd.read_csv(PATH + \"01-22-2020.csv\", encoding='utf-8-sig')\n",
    "doc = doc.dropna()\n",
    "doc.head()"
   ]
  },
  {
   "cell_type": "markdown",
   "metadata": {},
   "source": [
    "#### 특정 컬럼값이 없는 데이터만 삭제하기\n",
    "  - subset으로 해당 컬럼을 지정해줌"
   ]
  },
  {
   "cell_type": "code",
   "execution_count": null,
   "metadata": {},
   "outputs": [],
   "source": [
    "doc = pd.read_csv(PATH + \"01-22-2020.csv\", encoding='utf-8-sig')\n",
    "doc = doc.dropna(subset=['Confirmed'])\n",
    "doc.head()"
   ]
  },
  {
   "cell_type": "markdown",
   "metadata": {},
   "source": [
    "#### 없는 데이터(NaN)을 특정값으로 일괄 변경하기\n",
    "- fillna(특정값) : 특정값으로 결측치를 대체"
   ]
  },
  {
   "cell_type": "code",
   "execution_count": null,
   "metadata": {},
   "outputs": [],
   "source": [
    "doc = pd.read_csv(PATH + \"01-22-2020.csv\", encoding='utf-8-sig')\n",
    "doc = doc.fillna(0)\n",
    "doc.head()"
   ]
  },
  {
   "cell_type": "markdown",
   "metadata": {},
   "source": [
    "#### 없는 데이터(NaN)중 특정 컬럼에 대해 특정 값으로 일괄 변경하기\n",
    "- 별도 사전 데이터를 생성, 없는 데이터를 변경할 컬럼명만 키로 만들고, 변경할 특정 값을 키값으로 넣고, fillna() 함수에 적용해주면 됨"
   ]
  },
  {
   "cell_type": "code",
   "execution_count": null,
   "metadata": {},
   "outputs": [],
   "source": [
    "doc = pd.read_csv(PATH + \"01-22-2020.csv\", encoding='utf-8-sig')\n",
    "nan_data = {'Deaths': 0, 'Recovered':0}\n",
    "doc = doc.fillna(nan_data)\n",
    "doc.head()"
   ]
  },
  {
   "cell_type": "markdown",
   "metadata": {},
   "source": [
    "### 5. 특정 키값을 기준으로 데이터 합치기\n",
    "  - groupby() : SQL 구문의 group by 와 동일, 특정 컬럼을 기준으로 그룹\n",
    "  - sum() : 그룹으로 되어 있는 데이터를 합치기"
   ]
  },
  {
   "cell_type": "code",
   "execution_count": null,
   "metadata": {
    "scrolled": true
   },
   "outputs": [],
   "source": [
    "doc = pd.read_csv(PATH + \"04-01-2020.csv\", encoding='utf-8-sig')\n",
    "doc.head()"
   ]
  },
  {
   "cell_type": "code",
   "execution_count": null,
   "metadata": {
    "scrolled": true
   },
   "outputs": [],
   "source": [
    "doc = doc.groupby('Country_Region').sum()\n",
    "doc.head()"
   ]
  },
  {
   "cell_type": "markdown",
   "metadata": {},
   "source": [
    "- groupby 에 의해서, index가 Country_Region 의 각 국가로 변경됨"
   ]
  },
  {
   "cell_type": "code",
   "execution_count": null,
   "metadata": {},
   "outputs": [],
   "source": [
    "doc.columns"
   ]
  },
  {
   "cell_type": "code",
   "execution_count": null,
   "metadata": {},
   "outputs": [],
   "source": [
    "doc.index"
   ]
  },
  {
   "cell_type": "markdown",
   "metadata": {},
   "source": [
    "- index로 검색해서 US 의 합계 검색 가능"
   ]
  },
  {
   "cell_type": "code",
   "execution_count": null,
   "metadata": {},
   "outputs": [],
   "source": [
    "doc[doc.index == 'US']"
   ]
  },
  {
   "cell_type": "markdown",
   "metadata": {},
   "source": [
    "### 6. 컬럼 타입 변경하기\n",
    "- pandas에서 데이터 타입은 dtype 으로 불리우며, 주요 데이터 타입은 다음과 같음\n",
    "  - object 는 파이썬의 str 또는 혼용 데이터 타입 (문자열)\n",
    "  - int64 는 파이썬의 int (정수)\n",
    "  - float64 는 파이썬의 float (부동소숫점)\n",
    "  - bool 는 파이썬의 bool (True 또는 False 값을 가지는 boolean)"
   ]
  },
  {
   "cell_type": "code",
   "execution_count": null,
   "metadata": {},
   "outputs": [],
   "source": [
    "doc = pd.read_csv(PATH + \"01-22-2020.csv\", encoding='utf-8-sig')\n",
    "doc = doc[['Country/Region', 'Confirmed']]\n",
    "doc.info()"
   ]
  },
  {
   "cell_type": "markdown",
   "metadata": {},
   "source": [
    "- astype({컬럼명: 변경할타입}) : 특정 컬럼의 타입을 변경\n",
    "  - 변경할 데이터에 없는 데이터(NaN)이 있을 경우, 에러가 날 수 있음"
   ]
  },
  {
   "cell_type": "code",
   "execution_count": null,
   "metadata": {},
   "outputs": [],
   "source": [
    "doc = pd.read_csv(PATH + \"01-22-2020.csv\", encoding='utf-8-sig')\n",
    "doc = doc[['Country/Region', 'Confirmed']] # 필요한 컬럼만 선택하기\n",
    "doc = doc.dropna(subset=['Confirmed'])     # 특정 컬럼에 없는 데이터 삭제하기\n",
    "doc = doc.astype({'Confirmed': 'int64'})   # 특정 컬럼의 데이터 타입 변경하기\n",
    "doc.info()"
   ]
  },
  {
   "cell_type": "code",
   "execution_count": null,
   "metadata": {},
   "outputs": [],
   "source": [
    "doc.head()"
   ]
  },
  {
   "cell_type": "markdown",
   "metadata": {},
   "source": [
    "### 7. 데이터프레임 컬럼명 변경하기\n",
    "- columns 로 컬럼명을 변경할 수 있음"
   ]
  },
  {
   "cell_type": "code",
   "execution_count": null,
   "metadata": {},
   "outputs": [],
   "source": [
    "doc = pd.read_csv(PATH + \"01-22-2020.csv\", encoding='utf-8-sig')\n",
    "doc = doc[['Country/Region', 'Confirmed']] # 필요한 컬럼만 선택하기"
   ]
  },
  {
   "cell_type": "code",
   "execution_count": null,
   "metadata": {},
   "outputs": [],
   "source": [
    "doc.columns"
   ]
  },
  {
   "cell_type": "code",
   "execution_count": null,
   "metadata": {},
   "outputs": [],
   "source": [
    "doc.columns = ['Country_Region', 'Confirmed']"
   ]
  },
  {
   "cell_type": "code",
   "execution_count": null,
   "metadata": {},
   "outputs": [],
   "source": [
    "doc.columns"
   ]
  },
  {
   "cell_type": "markdown",
   "metadata": {},
   "source": [
    "### 8. 데이터프레임에서 중복 행 확인/제거하기\n",
    "- duplicated() : 중복 행 확인하기"
   ]
  },
  {
   "cell_type": "code",
   "execution_count": null,
   "metadata": {},
   "outputs": [],
   "source": [
    "doc = pd.read_csv(\"COVID-19-master/csse_covid_19_data/UID_ISO_FIPS_LookUp_Table.csv\", encoding='utf-8-sig')\n",
    "doc = doc[['iso2', 'Country_Region']]\n",
    "doc"
   ]
  },
  {
   "cell_type": "code",
   "execution_count": null,
   "metadata": {},
   "outputs": [],
   "source": [
    "doc.duplicated()"
   ]
  },
  {
   "cell_type": "markdown",
   "metadata": {},
   "source": [
    "- 중복된 행만 확인하기"
   ]
  },
  {
   "cell_type": "code",
   "execution_count": null,
   "metadata": {},
   "outputs": [],
   "source": [
    "doc[doc.duplicated()]"
   ]
  },
  {
   "cell_type": "markdown",
   "metadata": {},
   "source": [
    "- drop_ducplicates() : 중복 행 삭제중복값\n",
    "  - 특정 컬럼을 기준으로 중복 행 제거하기\n",
    "    - subset=특정컬럼\n",
    "  - 중복된 경우, 처음과 마지막 행 중 어느 행을 남길 것인지 결정하기 \n",
    "    - 처음: keep='first' (디폴트)\n",
    "    - 처음: keep='last'"
   ]
  },
  {
   "cell_type": "code",
   "execution_count": null,
   "metadata": {},
   "outputs": [],
   "source": [
    "doc = doc.drop_duplicates(subset='Country_Region', keep='last')\n",
    "doc"
   ]
  },
  {
   "cell_type": "markdown",
   "metadata": {},
   "source": [
    "<div class=\"alert alert-block\" style=\"border: 2px solid #1976D2;background-color:#E3F2FD;padding:5px;font-size:0.9em;\">\n",
    "본 자료는 저작권법 제25조 2항에 의해 보호를 받습니다. 본 자료를 외부에 공개하지 말아주세요.<br>\n",
    "본 강의만 잘 정리하면, 데이터 분석과 데이터 과학(머신러닝, 인공지능) 모두 가능합니다!<br>\n",
    "<b><a href=\"https://school.fun-coding.org/\">잔재미코딩</a> 에서 본 강의 기반 최적화된 로드맵도 확인하실 수 있습니다</b></div>"
   ]
  }
 ],
 "metadata": {
  "kernelspec": {
   "display_name": "Python 3 (ipykernel)",
   "language": "python",
   "name": "python3"
  },
  "language_info": {
   "codemirror_mode": {
    "name": "ipython",
    "version": 3
   },
   "file_extension": ".py",
   "mimetype": "text/x-python",
   "name": "python",
   "nbconvert_exporter": "python",
   "pygments_lexer": "ipython3",
   "version": "3.12.7"
  }
 },
 "nbformat": 4,
 "nbformat_minor": 4
}
