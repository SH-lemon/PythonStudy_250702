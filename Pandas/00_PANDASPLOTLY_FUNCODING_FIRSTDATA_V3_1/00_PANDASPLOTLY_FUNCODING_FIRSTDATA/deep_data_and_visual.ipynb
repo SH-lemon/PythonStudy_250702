{
 "cells": [
  {
   "cell_type": "markdown",
   "metadata": {},
   "source": [
    "<div class=\"alert alert-block\" style=\"border: 2px solid #1976D2;background-color:#E3F2FD;padding:5px;font-size:0.9em;\">\n",
    "본 자료는 저작권법 제25조 2항에 의해 보호를 받습니다. 본 자료를 외부에 공개하지 말아주세요.<br>\n",
    "본 강의만 잘 정리하면, 데이터 분석과 데이터 과학(머신러닝, 인공지능) 모두 가능합니다!<br>\n",
    "<b><a href=\"https://school.fun-coding.org/\">잔재미코딩</a> 에서 본 강의 기반 최적화된 로드맵도 확인하실 수 있습니다</b></div>"
   ]
  },
  {
   "cell_type": "markdown",
   "metadata": {},
   "source": [
    "<div class=\"alert alert-block\" style=\"border: 2px solid #1976D2;background-color:#E3F2FD;padding:5px;font-size:0.9em;\">\n",
    "제 유투브 채널로 본 강의를 포함한 데이터 전과정 로드맵과 관련 커리어를 이해할 수 있는 영상도 참고로 확인해보시면<br> \n",
    "학습하시는데 큰 그림을 이해하실 수 있으실꺼예요. (괜찮으시면 구독과 좋아요도 부탁드립니다. ㅎ)<br>\n",
    "<b>- 데이터, AI 커리어와 데이터 전과정 학습 방법 완벽 가이드: <a href=\"https://youtu.be/vsoAyh4D-zw\">https://youtu.be/vsoAyh4D-zw</a>\n",
    "</div>"
   ]
  },
  {
   "cell_type": "markdown",
   "metadata": {},
   "source": [
    "### 시각화 라이브러리와 함께 한단계 더 깊이 알아보는 데이터 분석 이론과 탐색적 데이터 분석\n",
    "> 강의 앞단에 이론 부분을 전반적으로 다 설명하면, 너무 지루하기 때문에 기존에는 전처리 실습에 집중하고, <br>\n",
    "> 다음 실습 전에 추가적인 이론 부분을 정리하겠습니다."
   ]
  },
  {
   "cell_type": "markdown",
   "metadata": {},
   "source": [
    "<div class=\"alert alert-block\" style=\"border: 1px solid #FFB300;background-color:#F9FBE7;\">\n",
    "<font size=\"3em\" style=\"font-weight:bold;color:#3f8dbf;\">탐색적 데이터 분석 (데이터 이해와 시각화 기법 추가)</font><br>\n",
    "1. 데이터의 출처와 주제에 대해 이해 <br>\n",
    "2. 데이터의 크기 확인 <br>\n",
    "    3. <b>데이터 구성 요소(feature)의 속성(특징) 확인</b> <br>\n",
    "\n",
    "> feature 의 데이터를 어떻게 더 깊게 이해할 수 있을까?\n",
    "</div>    "
   ]
  },
  {
   "cell_type": "markdown",
   "metadata": {},
   "source": [
    "### 1. 데이터 분석을 위한 위치 추정과 범위 추정\n",
    "- 탐색적 데이터 분석의 세 번째, feature 분석을 위한 기본 탐색\n",
    "  - 위치 추정: 방대한 데이터의 대푯값을 구해서, 해당 feature의 일종의 요약 정보 도출\n",
    "    - 보통은 평균을 쓰면 되며(물론 평균이 가장 좋은 대푯값이 아닌 경우도 많음), 특정 튀는 수치가 있을 때만 조정해도 충분합니다!\n",
    "  - 변이 추정: 방대한 데이터의 분포 (밀집해 있는지, 퍼져 있는지)를 알아내어, 역시 해당 feature의 일종의 요약 정보 도출\n",
    "    - 수학에서 익힌 표준편차, 분산가 대표적인 분포 확인 값\n",
    "\n",
    "> 가볍게 꼭 들어봤어야 할 만한 사항들을 정리하기<br>\n",
    "> **복잡한 수치를 쓸 경우, 오히려 현업에서는 관련된 모든 사람들이 이해할 수 없게 되어, 커뮤니케이션에 문제가 됨** <br>\n",
    "> 분석된 데이터의 결과는 개발자/데이터과학자들끼리 커뮤니케이션하는 경우보다, 마케팅/영업등 타직군과 커뮤니케이션하는 경우가 더 많기 때문임"
   ]
  },
  {
   "cell_type": "markdown",
   "metadata": {},
   "source": [
    "### 1.1. 위치 추정\n",
    "- feature를 대표할 수 있는 대푯값을 찾는 것"
   ]
  },
  {
   "cell_type": "markdown",
   "metadata": {},
   "source": [
    "#### 평균 (mean)\n",
    "- 모든 값을 갯수로 나눈 값\n",
    "\n",
    "#### 가중 평균 (weighted mean)\n",
    "- 데이터값($x_i$) X 가중치($w_i$) 의 총 합을 다시 가중치($w_i$)의 총합으로 나눈 것\n",
    "- 예: 여러 기기로부터 가져온 데이터 중, 특정 기기는 신뢰도가 떨어질 경우, 해당 기기로부터 나온 데이터에는 가중치를 낮게 줌\n",
    "\n",
    "#### 중간값 (median) (가중 중간값도 가능)\n",
    "- 데이터를 정렬한 후 중간에 위치한 값을 취함\n",
    "- 평균은 특잇값(outlier)에 큰 영향을 받으므로, 특잇값에 큰 영향을 받지 않도록 중간값을 활용할 수 있음\n",
    "\n",
    "#### 절사평균 (trimmed mean)\n",
    "- 데이터를 정렬한 후, 양끝에서 일정 개수의 값들을 빼고, 남은 데이터를 기반으로 평균을 계산\n",
    "- 즉, 특잇값을 평균을 구할 때 제외하는 것임\n",
    "\n",
    "\n",
    "> EDA 에서는 중간값(또는 중앙값이라고도 불리움)을 평균보다 중요하게 사용 (중간값은 특잇값의 영향을 받지 않기 때문임)"
   ]
  },
  {
   "cell_type": "markdown",
   "metadata": {},
   "source": [
    "### 1.2. 변이 추정"
   ]
  },
  {
   "cell_type": "markdown",
   "metadata": {},
   "source": [
    "### 분산(variance)\n",
    "- 평균과 각 데이터간의 차를 제곱한 값들의 합을 데이터 갯수로 나눈 값\n",
    "$$ \\begin{align}\n",
    "\\sigma^2 = \\dfrac{\\sum_{i = 1}^{N} (x_i - \\mu)^2}{N}\n",
    "\\end{align} $$\n",
    "\n",
    "- $ \\sigma^2 $ : 모분산 (깊게 들어가면 샘플분산은 n - 1 로 나누지만, 분산의 형태만 간략히 참고로 알아두기로 함)\n",
    "- $ \\mu $ : 평균\n",
    "- $ N $ : 데이터 갯수\n",
    "- $ x_i $ : i 번째 데이터\n",
    "\n",
    "### 표준편차(standard deviation)\n",
    "- 분산은 수치가 너무 커서, 분산의 제곱근 (루트를 씌운 값)\n",
    "- $ \\sigma $ : 모표준편차 (깊게 들어가면 샘플표준편차는 샘플분산이 n 이 아닌, n - 1 로 나눈 값이므로 이를 제곱근한 값)"
   ]
  },
  {
   "cell_type": "code",
   "execution_count": null,
   "metadata": {},
   "outputs": [],
   "source": [
    "import pandas as pd\n",
    "\n",
    "df = pd.DataFrame({\n",
    "    'A': [1, 2, 3, 4, 5, 6],    \n",
    "    'C': [1, 2, 3, 4, 5, 100]\n",
    "})\n",
    "df"
   ]
  },
  {
   "cell_type": "code",
   "execution_count": null,
   "metadata": {},
   "outputs": [],
   "source": [
    "df.describe()"
   ]
  },
  {
   "cell_type": "markdown",
   "metadata": {},
   "source": [
    "### 2. 보다 빠른 분석을 위한 데이터 분류 이해\n",
    "- 데이터를 분석, 시각화, 예측하는 전반적인 과정에서 데이터에 대한 큰 그림을 이해하는 것이 도움이 됨"
   ]
  },
  {
   "cell_type": "markdown",
   "metadata": {},
   "source": [
    "### 데이터는 크게 (1) 수치형, (2) 범주형 데이터로 나눌 수 있음\n",
    "\n",
    "> 참고로 시계열 데이터는 데이터의 값의 유형과는 별개로 시간적 순서를 갖는다는 특징 때문에 따로 분류하기도 함\n",
    "\n",
    "1. 수치형 데이터\n",
    "   - 연속형(continuous) 데이터: 특정한 범위 안에 어떤 값(정수와 **부동소숫점**)이든 가질 수 있는 데이터\n",
    "   - 이산(discrete) 데이터: 횟수와 같은 **정수**만 가질 수 있는 데이터"
   ]
  },
  {
   "cell_type": "markdown",
   "metadata": {},
   "source": [
    "2. 범주형 데이터\n",
    "  - 명목형(nominal) 데이터: 카테고리, 타입, 항목등 데이터 분류를 위해 이미 정해진 값이 있는 데이터, 데이터가 가질 수 있는 값을 수준(levels) 라고 부름\n",
    "    - 이진(binary) 데이터: True or False, 0 or 1 과 같이 이미 정해진 두 값만 있는 데이터\n",
    "  - 순서형(ordinal) 데이터: 이미 정해진 값 사이의 순서 관계가 있는 데이터\n",
    "    - 매우불만(1) ~ 매우만족(5)와 같이 분류된 값 사이에 순서가 있는 경우\n",
    "      <img src='https://www.fun-coding.org/00_Images/ordinal.jpg'>\n",
    "    - 1반(1), 2반(2), 3반(3)을 나타내는 데이터가 있다면? 순서형 데이터일까요?\n",
    "      - 1보다 2가 더 좋거나, 더 큰 의미를 가지는 것이 아니므로, 명목형 데이터라고 봐야 함"
   ]
  },
  {
   "cell_type": "markdown",
   "metadata": {},
   "source": [
    "### 3. 수치형 데이터의 요약(탐색)\n",
    "1. 다섯 수치 요약 (5 number summary) 확인하기\n",
    "   - 최소값(minimum), 제1사분위수, 중간값(mediam)=제2사분위수, 제3사분위수, 최대값(maximum) 확인하기\n",
    "   - 분위수(quartile)\n",
    "     - 자료 크기 순서에 따른 위치값(경계값)\n",
    "   - EDA 에서는 사분위수를 사용\n",
    "     - Q1: 제1사분위수 (25%에 해당하는 값)\n",
    "     - Q2: 제2사분위수 (50%에 해당하는 값, 중간값)\n",
    "     - Q3: 제3사분위수 (75%에 해당하는 값)\n",
    "     - Q4: 제4사분위수 (100%에 해당하는 값, 최대값)"
   ]
  },
  {
   "cell_type": "code",
   "execution_count": null,
   "metadata": {},
   "outputs": [],
   "source": [
    "import numpy as np\n",
    "import pandas as pd\n",
    "\n",
    "df = pd.DataFrame({\n",
    "    'A': [1, 2, 3, 4, 5, 6],    \n",
    "    'C': [1, 2, 3, 4, 5, 100]\n",
    "})\n",
    "df.head()"
   ]
  },
  {
   "cell_type": "markdown",
   "metadata": {},
   "source": [
    "### 평균과 중간값\n",
    "- 평균은 이상치 특잇값(outlier)에 큰 영향을 받음\n",
    "- EDA 에서는 특잇값에 큰 영향을 받지 않는 중간값을 선호\n",
    "\n",
    "> 그래서 다섯 수치 요약 (5 number summary) 에 평균값이 없음"
   ]
  },
  {
   "cell_type": "markdown",
   "metadata": {},
   "source": [
    "### 이상치 특잇값(극단값, outlier)\n",
    "- 대부분의 값과 매우 다른 값\n",
    "- 다양한 특잇값 검출 기법이 있긴 하지만, 주관적인 측면이 강하므로 데이터 탐색을 통해, 확인하는 것이 가장 좋음"
   ]
  },
  {
   "cell_type": "markdown",
   "metadata": {},
   "source": [
    "### 중간값 계산 방법\n",
    "- 데이터가 홀수개 있다면, 중간에 위치한 값을 채택\n",
    "- 데이터가 짝수개 있다면, 중간에 위치한 두 값의 평균을 선택\n",
    "  - 예: 위 예에서 3과 4의 평균이 3.5"
   ]
  },
  {
   "cell_type": "code",
   "execution_count": null,
   "metadata": {},
   "outputs": [],
   "source": [
    "df.describe()"
   ]
  },
  {
   "cell_type": "markdown",
   "metadata": {},
   "source": [
    "### 4. 분석 타입에 따른 그래프 종류 이해: 다섯 수치 요약 (5 number summary)과 특잇값 확인\n",
    "- 상자 그래프 (boxplot)\n",
    "<center>\n",
    "<img src=\"https://www.fun-coding.org/00_Images/boxplot.jpg\" width=350>\n",
    "</center>"
   ]
  },
  {
   "cell_type": "markdown",
   "metadata": {},
   "source": [
    "#### Plotly Express를 사용한 그래프\n",
    "- https://plotly.com/python/box-plots/"
   ]
  },
  {
   "cell_type": "code",
   "execution_count": null,
   "metadata": {},
   "outputs": [],
   "source": [
    "import plotly.express as px\n",
    "# Box Plot 생성: y축에 'A'와 'C' 두 열의 데이터를 함께 표시\n",
    "fig = px.box(df, y=['A', 'C'], title='Plotly Express: Box Plot')\n",
    "fig.show()"
   ]
  },
  {
   "cell_type": "markdown",
   "metadata": {},
   "source": [
    "#### Plotly Graph Objects를 사용한 그래프"
   ]
  },
  {
   "cell_type": "code",
   "execution_count": null,
   "metadata": {},
   "outputs": [],
   "source": [
    "import plotly.graph_objects as go\n",
    "\n",
    "# Figure 생성 후 각각의 Box trace 추가\n",
    "fig = go.Figure()\n",
    "fig.add_trace(go.Box(y=df['A'], name='A'))\n",
    "fig.add_trace(go.Box(y=df['C'], name='C'))\n",
    "fig.show()"
   ]
  },
  {
   "cell_type": "markdown",
   "metadata": {},
   "source": [
    "### 5.  분석 타입에 따른 그래프 종류 이해: 수치형 데이터 분포를 확인하기 위한 시각화\n",
    "- 도수분포표 (frequency table): 수치형 데이터를 구간으로 나눠서 각 구간에 속하는 데아터의 갯수를 나타내는 표\n",
    "- 히스토그램 (histogram) 그래프: 도수 분포표를 시각적으로 표현한 그래프"
   ]
  },
  {
   "cell_type": "code",
   "execution_count": null,
   "metadata": {},
   "outputs": [],
   "source": [
    "import numpy as np\n",
    "import pandas as pd\n",
    "\n",
    "# np.random.rand(100000, 1):\n",
    "# - 0과 1 사이의 균일 분포를 따르는 난수를 생성합니다.\n",
    "# - (100000, 1) 크기의 배열을 만듭니다.\n",
    "df = pd.DataFrame(np.random.rand(100000, 1), columns=['A'])\n",
    "df.head()"
   ]
  },
  {
   "cell_type": "markdown",
   "metadata": {},
   "source": [
    "### Plotly Express를 사용한 그래프"
   ]
  },
  {
   "cell_type": "code",
   "execution_count": null,
   "metadata": {},
   "outputs": [],
   "source": [
    "import plotly.express as px\n",
    "\n",
    "# 히스토그램 생성\n",
    "fig = px.histogram(\n",
    "    df, \n",
    "    x='A',             # x축에 'A' 열 값 사용\n",
    "    nbins=50,          # 구간(bin)의 수 설정 (필요에 따라 조정 가능)\n",
    "    title=\"Plotly Express: Histogram of A\"\n",
    ")\n",
    "\n",
    "fig.show()"
   ]
  },
  {
   "cell_type": "markdown",
   "metadata": {},
   "source": [
    "#### Plotly Graph Objects를 사용한 그래프\n",
    "- https://plotly.com/python/box-plots/"
   ]
  },
  {
   "cell_type": "code",
   "execution_count": null,
   "metadata": {},
   "outputs": [],
   "source": [
    "import plotly.graph_objects as go\n",
    "\n",
    "# Figure 객체 생성 후 Histogram Trace 추가\n",
    "fig = go.Figure()\n",
    "\n",
    "fig.add_trace(\n",
    "    go.Histogram(\n",
    "        x=df['A'],      # x축에 'A' 열 값 사용\n",
    "        nbinsx=50,      # x축의 구간(bin) 수 설정\n",
    "        name=\"Histogram of A\"\n",
    "    )\n",
    ")\n",
    "fig.show()"
   ]
  },
  {
   "cell_type": "markdown",
   "metadata": {},
   "source": [
    "### 6. 범주형 데이터의 요약(탐색)\n",
    "1. 수준별로 데이터 분류하기\n",
    "2. 수준별로 데이터 갯수 세기 (count)\n",
    "   - 절대빈도: 절대 갯수, 상대빈도: 각 수준의 비율(%)\n",
    "3. 시각화하기 (빈도표, frequency table)"
   ]
  },
  {
   "cell_type": "markdown",
   "metadata": {},
   "source": [
    "### 6.1. 수준별로 데이터 분류하기"
   ]
  },
  {
   "cell_type": "code",
   "execution_count": null,
   "metadata": {},
   "outputs": [],
   "source": [
    "import pandas as pd\n",
    "data = {\n",
    "    'year': ['2017', '2017', '2019', '2020', '2026', '2026'],\n",
    "    'grade': ['C', 'C', 'B', 'A', 'B', 'E'],     \n",
    "}\n",
    "\n",
    "df = pd.DataFrame(data)"
   ]
  },
  {
   "cell_type": "code",
   "execution_count": null,
   "metadata": {},
   "outputs": [],
   "source": [
    "df1 = df.groupby(\"grade\").count()\n",
    "df2 = df.groupby(\"year\").count() "
   ]
  },
  {
   "cell_type": "code",
   "execution_count": null,
   "metadata": {},
   "outputs": [],
   "source": [
    "df1"
   ]
  },
  {
   "cell_type": "code",
   "execution_count": null,
   "metadata": {},
   "outputs": [],
   "source": [
    "df2"
   ]
  },
  {
   "cell_type": "markdown",
   "metadata": {},
   "source": [
    "### 6.2. 수준별로 데이터 갯수 세기 (count)\n",
    "- size : 사이즈 반환\n",
    "- count() : 데이터가 없는 경우를 뺀 사이즈 반환\n",
    "- unique(): 유일한 값만 반환\n",
    "- value_counts(): 데이터가 없는 경우를 제외하고, 각 값의 갯수를 반환"
   ]
  },
  {
   "cell_type": "code",
   "execution_count": null,
   "metadata": {},
   "outputs": [],
   "source": [
    "df['year'].value_counts()"
   ]
  },
  {
   "cell_type": "code",
   "execution_count": null,
   "metadata": {},
   "outputs": [],
   "source": [
    "df['year'].size"
   ]
  },
  {
   "cell_type": "code",
   "execution_count": null,
   "metadata": {},
   "outputs": [],
   "source": [
    "df['year'].count()"
   ]
  },
  {
   "cell_type": "code",
   "execution_count": null,
   "metadata": {},
   "outputs": [],
   "source": [
    "df['year'].unique()"
   ]
  },
  {
   "cell_type": "markdown",
   "metadata": {},
   "source": [
    "### 7.  분석 타입에 따른 그래프 종류 이해: 범주형 데이터 분석을 위해 주로 사용되는 그래프 종류\n",
    "1. 막대 그래프 (절대 빈도)\n",
    "2. 원 그래프 (상대 빈도)"
   ]
  },
  {
   "cell_type": "markdown",
   "metadata": {},
   "source": [
    "### 데이터 준비"
   ]
  },
  {
   "cell_type": "code",
   "execution_count": null,
   "metadata": {},
   "outputs": [],
   "source": [
    "import pandas as pd\n",
    "# 다시 사전 작업\n",
    "data = {\n",
    "    'year': ['2017', '2017', '2019', '2020', '2026', '2026'],\n",
    "    'grade': ['C', 'C', 'B', 'A', 'B', 'E'],     \n",
    "}\n",
    "\n",
    "df = pd.DataFrame(data)\n",
    "df1 = df.groupby(\"grade\").count()\n",
    "df2 = df.groupby(\"year\").count() "
   ]
  },
  {
   "cell_type": "markdown",
   "metadata": {},
   "source": [
    "### 7.1. 막대그래프\n",
    "- https://plotly.com/python/bar-charts/"
   ]
  },
  {
   "cell_type": "markdown",
   "metadata": {},
   "source": [
    "#### Plotly Express를 사용한 그래프"
   ]
  },
  {
   "cell_type": "code",
   "execution_count": null,
   "metadata": {},
   "outputs": [],
   "source": [
    "df1"
   ]
  },
  {
   "cell_type": "code",
   "execution_count": null,
   "metadata": {},
   "outputs": [],
   "source": [
    "df2"
   ]
  },
  {
   "cell_type": "markdown",
   "metadata": {},
   "source": [
    "#### grade 별 개수를 나타내는 막대 그래프"
   ]
  },
  {
   "cell_type": "code",
   "execution_count": null,
   "metadata": {
    "scrolled": true
   },
   "outputs": [],
   "source": [
    "fig1 = px.bar(\n",
    "    x=df1.index,           # x축에 그룹화된 'grade' (인덱스 사용)\n",
    "    y=df1[\"year\"],         # y축에 해당 그룹의 개수 (여기서는 'year' 컬럼)\n",
    "    title=\"Grade Count\",  # 그래프 제목\n",
    "    labels={\"x\": \"Grade\", \"y\": \"Count\"},      # x, y축 레이블 지정\n",
    "    text=df1[\"year\"]        # 각 막대 위에 count 값 표시\n",
    ")\n",
    "\n",
    "fig1.show()"
   ]
  },
  {
   "cell_type": "markdown",
   "metadata": {},
   "source": [
    "#### year 별 개수를 나타내는 막대 그래프"
   ]
  },
  {
   "cell_type": "code",
   "execution_count": null,
   "metadata": {},
   "outputs": [],
   "source": [
    "fig2 = px.bar(\n",
    "    x=df2.index,           # x축에 그룹화된 'year' (인덱스 사용)\n",
    "    y=df2[\"grade\"],        # y축에 해당 그룹의 개수 (여기서는 'grade' 컬럼)\n",
    "    title=\"Year Count\",   # 그래프 제목\n",
    "    labels={\"x\": \"Year\", \"y\": \"Count\"},       # x, y축 레이블 지정\n",
    "    text=df2[\"grade\"]        # 각 막대 위에 count 값 표시\n",
    ")\n",
    "\n",
    "fig2.show()"
   ]
  },
  {
   "cell_type": "markdown",
   "metadata": {},
   "source": [
    "#### Plotly Graph Objects 로 그려보기"
   ]
  },
  {
   "cell_type": "code",
   "execution_count": null,
   "metadata": {},
   "outputs": [],
   "source": [
    "df1"
   ]
  },
  {
   "cell_type": "code",
   "execution_count": null,
   "metadata": {},
   "outputs": [],
   "source": [
    "df2"
   ]
  },
  {
   "cell_type": "code",
   "execution_count": null,
   "metadata": {},
   "outputs": [],
   "source": [
    "import plotly.graph_objects as go\n",
    "fig = go.Figure()\n",
    "fig.add_trace(\n",
    "    go.Bar(    \n",
    "        x=df1.index, y=df1['year'], name='A', showlegend=True\n",
    "    )\n",
    ")\n",
    "\n",
    "fig.show()"
   ]
  },
  {
   "cell_type": "markdown",
   "metadata": {},
   "source": [
    "### 7.2. 원 그래프\n",
    "- https://plotly.com/python/pie-charts/"
   ]
  },
  {
   "cell_type": "code",
   "execution_count": null,
   "metadata": {},
   "outputs": [],
   "source": [
    "import pandas as pd\n",
    "# 다시 사전 작업\n",
    "data = {\n",
    "    'year': ['2017', '2017', '2019', '2020', '2026', '2026'],\n",
    "    'grade': ['C', 'C', 'B', 'A', 'B', 'E'],     \n",
    "}\n",
    "\n",
    "df = pd.DataFrame(data)\n",
    "df1 = df.groupby(\"grade\").count()\n",
    "df2 = df.groupby(\"year\").count() "
   ]
  },
  {
   "cell_type": "markdown",
   "metadata": {},
   "source": [
    "#### Plotly Express를 사용한 그래프"
   ]
  },
  {
   "cell_type": "code",
   "execution_count": null,
   "metadata": {},
   "outputs": [],
   "source": [
    "fig = px.pie(\n",
    "    values=df1['year'],      # 각 grade의 개수\n",
    "    names=df1.index,         # 각 파이 조각의 라벨 (grade)\n",
    "    title='Grade Distribution'\n",
    ")\n",
    "\n",
    "fig.show()"
   ]
  },
  {
   "cell_type": "markdown",
   "metadata": {},
   "source": [
    "#### Plotly Graph Objects 로 그려보기\n",
    "\n",
    "- textinfo 옵션\n",
    "  - `textinfo` 옵션은 파이 차트 내부에 표시할 텍스트 정보를 결정합니다. 여러 항목을 `+` 기호로 결합할 수 있습니다.\n",
    "  - **\"label\"**  \n",
    "    - 각 파이 조각의 라벨(이름, 범주 등)을 표시합니다.\n",
    "  - **\"value\"**  \n",
    "    - 각 파이 조각의 실제 값(수치)을 표시합니다.\n",
    "  - **\"percent\"**  \n",
    "    - 각 파이 조각이 전체에서 차지하는 백분율을 표시합니다.\n",
    "*예시:* `\"label+percent\"`는 라벨과 백분율을 동시에 표시합니다.\n",
    "\n",
    "- insidetextorientation 옵션\n",
    "  - `insidetextorientation` 옵션은 파이 차트 내부에 표시되는 텍스트의 회전 및 정렬 방식을 결정합니다.\n",
    "  - **\"horizontal\"**  \n",
    "    - 텍스트를 수평(고정된 각도)으로 표시합니다.\n",
    "  - **\"radial\"**  \n",
    "    - 텍스트를 원의 중심을 기준으로 방사형으로 배치합니다. 즉, 파이의 중심에서 바깥쪽으로 향하도록 회전합니다.\n",
    "  - **\"tangential\"**  \n",
    "    - 텍스트를 파이 슬라이스의 호의 접선 방향으로 회전하여 표시합니다."
   ]
  },
  {
   "cell_type": "code",
   "execution_count": null,
   "metadata": {},
   "outputs": [],
   "source": [
    "import plotly.graph_objects as go\n",
    "# Plotly Graph Objects를 사용한 원 그래프(파이 차트) 생성\n",
    "fig = go.Figure()\n",
    "\n",
    "fig.add_trace(\n",
    "    go.Pie(\n",
    "    labels=df1.index,          # 각 파이 조각의 라벨로 grade 사용\n",
    "    values=df1['year'],        # 각 grade의 개수를 값으로 사용\n",
    "    textinfo='label+percent',  # 파이 차트 내부에 라벨과 백분율 표시\n",
    "    insidetextorientation='radial'  # 텍스트 방향을 방사형으로 설정\n",
    "))\n",
    "\n",
    "# 레이아웃 업데이트: 그래프 제목 설정\n",
    "fig.update_layout(title_text='Grade Distribution')\n",
    "\n",
    "fig.show()"
   ]
  },
  {
   "cell_type": "markdown",
   "metadata": {},
   "source": [
    "### 8. 테이블 데이터와 시계열 데이터\n",
    "- 테이블 데이터: 엑셀과 같이 행과 열로 나타낸 데이터\n",
    "  - feature: 테이블의 각 열을 의미\n",
    "  - record: 테이블의 각 행을 의미\n",
    "  - index: 각 데이터 위치를 식별하기 위한 값\n",
    "\n",
    "- 시계열 데이터: 일정 시간 간격으로 배치된 데이터 (시간에 종속된 데이터)\n",
    "\n",
    "> 이외에도 다양한 형태의 데이터가 있을 수 있으나, 대부분 테이블 데이터 형태로 처리 가능"
   ]
  },
  {
   "cell_type": "markdown",
   "metadata": {},
   "source": [
    "### 9. 시계열 데이터 시각화를 위한 사전 준비"
   ]
  },
  {
   "cell_type": "markdown",
   "metadata": {},
   "source": [
    "- pd.date_range(start='2020-01-01', end='2020-12-31')\n",
    "  - freq='3ME': 3개월\n",
    "  - freq='D': 1일\n",
    "  - periods=10: start와 end 사이 균등 시간 분할\n",
    "  - 참고: https://pandas.pydata.org/pandas-docs/stable/reference/api/pandas.date_range.html"
   ]
  },
  {
   "cell_type": "markdown",
   "metadata": {},
   "source": [
    "#### 참고: freq\n",
    "\n",
    "| Alias | Description              |\n",
    "|-------|--------------------------|\n",
    "| **ME**  | Month end frequency      |\n",
    "| **QE**  | Quarter end frequency    |\n",
    "| **YE**  | Year end frequency       |\n",
    "| **D**   | Calendar day frequency   |\n",
    "| **h**   | Hourly frequency         |\n",
    "| **min** | Minutely frequency       |\n",
    "| **s**   | Secondly frequency       |\n"
   ]
  },
  {
   "cell_type": "code",
   "execution_count": null,
   "metadata": {},
   "outputs": [],
   "source": [
    "pd.date_range(start='2020-01-01', end='2020-12-31')"
   ]
  },
  {
   "cell_type": "code",
   "execution_count": null,
   "metadata": {},
   "outputs": [],
   "source": [
    "pd.date_range(start='2020-01-01', end='2020-12-31', periods=3)"
   ]
  },
  {
   "cell_type": "code",
   "execution_count": null,
   "metadata": {},
   "outputs": [],
   "source": [
    "pd.date_range(start='2020-01-01', end='2020-12-31', freq='2ME')"
   ]
  },
  {
   "cell_type": "markdown",
   "metadata": {},
   "source": [
    "### pandas Dataframe 작성 방법 정리\n",
    "- pd.DataFrame(data={컬럼이름:컬럼데이터리스트})\n",
    "  - {컬럼이름:컬럼데이터리스트} 는 사전 데이터 형식\n",
    "- pd.DataFrame(data=리스트, columns=컬럼이름, index=인덱스데이터)"
   ]
  },
  {
   "cell_type": "code",
   "execution_count": null,
   "metadata": {},
   "outputs": [],
   "source": [
    "import numpy as np\n",
    "import pandas as pd\n",
    "\n",
    "date_index = pd.date_range(start='2026-01-01', end='2026-01-31', freq='2D')\n",
    "df = pd.DataFrame(data=range(len(date_index)), columns=['count'], index=date_index)\n",
    "df"
   ]
  },
  {
   "cell_type": "markdown",
   "metadata": {},
   "source": [
    "### 10. 시계열 데이터를 위해 주로 사용되는 그래프 타입\n",
    "1. 라인 그래프\n",
    "2. 막대 그래프\n",
    "\n",
    "> 두 그래프는 이미 기존에 작성 방법을 설명드렸으므로, 가볍게 그래프 모양만 확인"
   ]
  },
  {
   "cell_type": "markdown",
   "metadata": {},
   "source": [
    "#### Plotly Express를 사용한 라인 그래프"
   ]
  },
  {
   "cell_type": "code",
   "execution_count": null,
   "metadata": {},
   "outputs": [],
   "source": [
    "import plotly.express as px\n",
    "\n",
    "# Plotly Express의 px.line() 함수를 사용하여 선 그래프 생성\n",
    "fig_line = px.line(\n",
    "    df,                   # 데이터 프레임\n",
    "    x=df.index,          # x축에 날짜 인덱스 사용\n",
    "    y='count',           # y축에 'count' 열 사용\n",
    "    title='Time Series Line Plot (Plotly Express)'\n",
    ")\n",
    "\n",
    "# x, y축 제목 업데이트\n",
    "fig_line.update_xaxes(title='Date')\n",
    "fig_line.update_yaxes(title='Count')\n",
    "\n",
    "# 그래프 출력\n",
    "fig_line.show()\n"
   ]
  },
  {
   "cell_type": "markdown",
   "metadata": {},
   "source": [
    "#### 참고: x축에 모든 날짜가 표시되도록 하는 옵션 관련\n",
    "\n",
    "- **tickmode**  \n",
    "  - **설명:** x축의 tick(눈금) 위치를 어떻게 결정할지 지정합니다.\n",
    "  - **옵션 값:**\n",
    "    - **\"auto\"**: Plotly가 자동으로 tick 위치를 결정합니다 (기본값).\n",
    "    - **\"linear\"**: `dtick` 옵션에 따라 일정한 간격으로 tick을 생성합니다.\n",
    "    - **\"array\"**: 직접 지정한 값(`tickvals`)을 기반으로 tick을 생성하며, 대응하는 라벨(`ticktext`)을 함께 제공합니다.\n",
    "\n",
    "- **dtick**  \n",
    "  - **설명:** `tickmode`가 `\"linear\"`인 경우, tick 간의 간격을 설정합니다.\n",
    "  - **옵션 값 및 사용 예:**\n",
    "    - **숫자 값:** 일반 수치형 데이터에서는 두 tick 사이의 간격(예: 5, 10 등)을 지정합니다.\n",
    "    - **날짜 데이터:** 날짜 축에서는 밀리초 단위로 간격을 지정합니다.  \n",
    "      - 예: 하루 간격으로 표시하려면 `dtick=86400000` (하루 = 86,400,000 밀리초)로 설정합니다.\n",
    "    - **문자열 값 (일부 경우):** `\"M1\"`처럼 월 단위, `\"D1\"`처럼 일 단위를 지정할 수도 있으나, 이는 Plotly 버전 및 상황에 따라 지원 여부가 달라질 수 있습니다.\n",
    "\n",
    "- **tickangle**  \n",
    "  - **설명:** tick 라벨의 회전 각도를 지정합니다.\n",
    "  - **옵션 값:**\n",
    "    - **숫자 값:** 각도를 도(degree) 단위로 지정합니다.  \n",
    "      - 예: `tickangle=45`는 tick 라벨을 45도 기울여 표시합니다.\n",
    "    - **용도:** 많은 날짜가 겹쳐서 표시될 때 라벨 간의 겹침을 방지하기 위해 사용합니다.\n",
    "\n",
    "- **tickvals**  \n",
    "  - **설명:** `tickmode`가 `\"array\"`인 경우, x축에 tick을 표시할 위치(값)를 직접 지정합니다.\n",
    "  - **옵션 값:**\n",
    "    - **리스트 또는 배열:** 예를 들어, `tickvals=df.index`처럼 모든 날짜를 tick 위치로 지정할 수 있습니다.\n",
    "\n",
    "- **ticktext**  \n",
    "  - **설명:** `tickmode`가 `\"array\"`인 경우, 각 tick 위치에 대응하는 사용자 정의 라벨을 지정합니다.\n",
    "  - **옵션 값:**\n",
    "    - **리스트 또는 배열:** `tickvals`와 동일한 길이의 문자열 리스트를 제공해야 합니다.  \n",
    "      - 예: `[date.strftime('%Y-%m-%d') for date in df.index]`처럼 날짜 형식의 문자열을 지정할 수 있습니다.\n",
    "\n",
    "이 옵션들을 조합하면, x축에 원하는 방식과 간격으로 날짜를 모두 표시할 수 있습니다. 예를 들어, 매일 tick을 표시하고 라벨이 겹치지 않도록 하려면:\n",
    "\n",
    "```python\n",
    "fig_line.update_xaxes(\n",
    "    tickmode='linear',    # 일정 간격 tick 모드\n",
    "    dtick=86400000,       # 하루 간격 (밀리초 단위)\n",
    "    tickangle=45          # 라벨을 45도 기울여 표시\n",
    ")\n",
    "```\n",
    "\n",
    "또는 모든 날짜를 직접 지정하려면:\n",
    "\n",
    "```python\n",
    "fig_line.update_xaxes(\n",
    "    tickmode='array',\n",
    "    tickvals=df.index,  # 모든 날짜를 tick 위치로 지정\n",
    "    ticktext=[date.strftime('%Y-%m-%d') for date in df.index]  # 사용자 정의 라벨 지정\n",
    ")\n",
    "```"
   ]
  },
  {
   "cell_type": "code",
   "execution_count": null,
   "metadata": {},
   "outputs": [],
   "source": [
    "import plotly.express as px\n",
    "\n",
    "# Plotly Express의 px.line() 함수를 사용하여 선 그래프 생성\n",
    "fig_line = px.line(\n",
    "    df,                   # 데이터 프레임\n",
    "    x=df.index,          # x축에 날짜 인덱스 사용\n",
    "    y='count',           # y축에 'count' 열 사용\n",
    "    title='Time Series Line Plot (Plotly Express)'\n",
    ")\n",
    "\n",
    "# x, y축 제목 업데이트\n",
    "fig_line.update_xaxes(title='Date')\n",
    "fig_line.update_yaxes(title='Count')\n",
    "\n",
    "fig_line.update_xaxes(\n",
    "    tickmode='linear',    # 일정 간격으로 tick을 표시하도록 설정\n",
    "    dtick=\"D1\",           # 하루에 해당하는 값 (또는 밀리초로도 지정가능 dtick=86400000 (하루 = 86,400,000 밀리초))\n",
    "    tickangle=45          # 레이블이 겹치지 않도록 각도 조정 (옵션)\n",
    ")\n",
    "# 그래프 출력\n",
    "fig_line.show()"
   ]
  },
  {
   "cell_type": "code",
   "execution_count": null,
   "metadata": {},
   "outputs": [],
   "source": [
    "import plotly.express as px\n",
    "\n",
    "# Plotly Express의 px.line() 함수를 사용하여 선 그래프 생성\n",
    "fig_line = px.line(\n",
    "    df,                   # 데이터 프레임\n",
    "    x=df.index,          # x축에 날짜 인덱스 사용\n",
    "    y='count',           # y축에 'count' 열 사용\n",
    "    title='Time Series Line Plot (Plotly Express)'\n",
    ")\n",
    "\n",
    "# x, y축 제목 업데이트\n",
    "fig_line.update_xaxes(title='Date')\n",
    "fig_line.update_yaxes(title='Count')\n",
    "\n",
    "fig_line.update_xaxes(\n",
    "    tickmode='array',\n",
    "    tickvals=df.index,  # 모든 날짜를 tick 위치로 지정\n",
    "    ticktext=[date.strftime('%Y-%m-%d') for date in df.index]  # 표시할 텍스트 포맷 지정\n",
    ")\n",
    "# 그래프 출력\n",
    "fig_line.show()\n",
    "\n"
   ]
  },
  {
   "cell_type": "markdown",
   "metadata": {},
   "source": [
    "#### 참고: `date.strftime('%Y-%m-%d')` 사용법\n",
    "\n",
    "\n",
    "##### `strftime()` 함수란?\n",
    "- **설명:**  \n",
    "  `strftime()` 함수는 Python의 `datetime` 객체를 원하는 형식의 문자열로 변환하는 메서드입니다.\n",
    "- **용도:**  \n",
    "  날짜와 시간을 특정한 포맷(예: \"년-월-일\", \"월/일/연도\", \"시간:분:초\" 등)으로 표현하고자 할 때 사용됩니다.\n",
    "\n",
    "##### 기본 사용법\n",
    "```python\n",
    "from datetime import datetime\n",
    "\n",
    "# 현재 날짜와 시간 가져오기\n",
    "now = datetime.now()\n",
    "\n",
    "# 날짜를 \"년-월-일\" 형식의 문자열로 변환하기\n",
    "formatted_date = now.strftime('%Y-%m-%d')\n",
    "print(formatted_date)  # 예시 출력: 2025-02-16\n",
    "```\n",
    "\n",
    "##### 주요 포맷 옵션\n",
    "| Format Code | Description                                   |\n",
    "|-------------|-----------------------------------------------|\n",
    "| `%Y`        | 4자리 연도 (예: 2025)                         |\n",
    "| `%m`        | 2자리 월 (01부터 12까지)                       |\n",
    "| `%d`        | 2자리 일 (01부터 31까지)                       |\n",
    "| `%H`        | 24시간 형식의 시간 (00부터 23까지)              |\n",
    "| `%I`        | 12시간 형식의 시간 (01부터 12까지)              |\n",
    "| `%M`        | 분 (00부터 59까지)                             |\n",
    "| `%S`        | 초 (00부터 59까지)                             |\n",
    "| `%p`        | AM 또는 PM 표시                               |\n",
    "| `%a`        | 축약된 요일 이름 (예: Mon, Tue, Wed)           |\n",
    "| `%A`        | 전체 요일 이름 (예: Monday, Tuesday, Wednesday) |\n",
    "| `%b`        | 축약된 월 이름 (예: Jan, Feb, Mar)             |\n",
    "| `%B`        | 전체 월 이름 (예: January, February, March)    |\n"
   ]
  },
  {
   "cell_type": "markdown",
   "metadata": {},
   "source": [
    "#### 참고: 파이썬 리스트 컴프리헨션\n",
    "- 파이썬 컴프리헨션은 리스트, 딕셔너리, 세트 등 반복 가능한(iterable) 객체로부터 새로운 시퀀스를 간결하게 생성할 수 있는 문법입니다.\n",
    "    \n",
    "**기본 문법:**\n",
    "```python\n",
    "new_list = [expression for item in iterable if condition]\n",
    "```\n",
    "- **expression:** 각 요소에 대해 수행할 연산 또는 변환.\n",
    "- **item:** iterable의 각 요소.\n",
    "- **iterable:** 순회 가능한 객체 (예: 리스트, 튜플, range 등).\n",
    "- **if condition (선택적):** 조건을 만족하는 경우에만 expression을 실행.\n",
    "\n",
    "**예제:**\n",
    "```python\n",
    "# 1부터 10까지의 숫자 중 짝수의 제곱을 리스트로 생성\n",
    "squares = [x**2 for x in range(1, 11) if x % 2 == 0]\n",
    "print(squares)  # 출력: [4, 16, 36, 64, 100]\n",
    "```\n"
   ]
  },
  {
   "cell_type": "markdown",
   "metadata": {},
   "source": [
    "#### Plotly Graph Objects 를 사용한 라인 그래프"
   ]
  },
  {
   "cell_type": "code",
   "execution_count": null,
   "metadata": {},
   "outputs": [],
   "source": [
    "import plotly.graph_objects as go\n",
    "\n",
    "# Figure 객체 생성\n",
    "fig_go_line = go.Figure()\n",
    "\n",
    "# go.Scatter()를 사용하여 라인 그래프 Trace 추가\n",
    "fig_go_line.add_trace(\n",
    "    go.Scatter(\n",
    "        x=df.index,           # x축: 날짜 인덱스\n",
    "        y=df['count'],        # y축: 'count' 값\n",
    "        mode='lines+markers', # 선과 마커를 함께 표시\n",
    "        name='Count'\n",
    "    )\n",
    ")\n",
    "\n",
    "# x축에 모든 날짜를 표시하도록 업데이트\n",
    "fig_go_line.update_xaxes(\n",
    "    tickmode='array',  # tick 위치를 배열로 직접 지정\n",
    "    tickvals=df.index, # 모든 날짜(인덱스)를 tick 위치로 사용\n",
    "    ticktext=[date.strftime('%Y-%m-%d') for date in df.index],  # 각 tick의 라벨을 날짜 형식으로 지정\n",
    "    tickangle=45       # tick 라벨을 45도 기울여 표시 (옵션)\n",
    ")\n",
    "\n",
    "# 레이아웃 업데이트: 제목 및 축 제목 설정\n",
    "fig_go_line.update_layout(\n",
    "    title='Time Series Line Plot (Plotly Graph Objects)',\n",
    "    xaxis_title='Date',\n",
    "    yaxis_title='Count'\n",
    ")\n",
    "\n",
    "# 그래프 출력\n",
    "fig_go_line.show()"
   ]
  },
  {
   "cell_type": "markdown",
   "metadata": {},
   "source": [
    "#### Plotly Express를 사용한 막대 그래프"
   ]
  },
  {
   "cell_type": "code",
   "execution_count": null,
   "metadata": {
    "scrolled": true
   },
   "outputs": [],
   "source": [
    "import plotly.express as px\n",
    "\n",
    "# Plotly Express의 px.bar() 함수를 사용하여 막대 그래프 생성\n",
    "fig_bar = px.bar(\n",
    "    df,                  # 데이터 프레임\n",
    "    x=df.index,         # x축에 날짜 인덱스 사용\n",
    "    y='count',          # y축에 'count' 열 사용\n",
    "    title='Time Series Bar Chart (Plotly Express)'\n",
    ")\n",
    "\n",
    "# x축에 모든 날짜 tick을 표시하도록 설정\n",
    "fig_bar.update_xaxes(\n",
    "    tickmode='array',  # tick 위치를 배열로 직접 지정\n",
    "    tickvals=df.index, # 모든 날짜 인덱스를 tick 위치로 사용\n",
    "    ticktext=[date.strftime('%Y-%m-%d') for date in df.index],  # 각 tick에 표시할 날짜 형식의 텍스트\n",
    "    tickangle=45       # tick 라벨을 45도 기울여 표시 (옵션)\n",
    ")\n",
    "\n",
    "# x, y축 제목 업데이트\n",
    "fig_bar.update_xaxes(title='Date')\n",
    "fig_bar.update_yaxes(title='Count')\n",
    "\n",
    "# 그래프 출력\n",
    "fig_bar.show()\n"
   ]
  },
  {
   "cell_type": "markdown",
   "metadata": {},
   "source": [
    "#### Plotly Graph Objects 를 사용한 막대 그래프"
   ]
  },
  {
   "cell_type": "code",
   "execution_count": null,
   "metadata": {},
   "outputs": [],
   "source": [
    "import plotly.graph_objects as go\n",
    "\n",
    "# Figure 객체 생성\n",
    "fig_go_bar = go.Figure()\n",
    "\n",
    "# go.Bar()를 사용하여 막대 그래프 Trace 추가\n",
    "fig_go_bar.add_trace(\n",
    "    go.Bar(\n",
    "        x=df.index,        # x축: 날짜 인덱스\n",
    "        y=df['count'],     # y축: 'count' 값\n",
    "        name='Count'\n",
    "    )\n",
    ")\n",
    "\n",
    "# x축 업데이트: tickmode를 'linear'로 설정, dtick를 통해 하루 단위 tick 지정\n",
    "fig_go_bar.update_xaxes(\n",
    "    tickmode='linear',    # 선형 tick 모드로 설정\n",
    "    dtick=86400000,       # 하루 단위 tick (86,400,000 밀리초)\n",
    "    tickangle=45          # tick 라벨을 45도 기울여 표시 (옵션)\n",
    ")\n",
    "\n",
    "# 레이아웃 업데이트: 제목 및 축 제목 설정\n",
    "fig_go_bar.update_layout(\n",
    "    title='Time Series Bar Chart (Plotly Graph Objects)',\n",
    "    xaxis_title='Date',\n",
    "    yaxis_title='Count'\n",
    ")\n",
    "\n",
    "# 그래프 출력\n",
    "fig_go_bar.show()\n"
   ]
  },
  {
   "cell_type": "markdown",
   "metadata": {
    "jp-MarkdownHeadingCollapsed": true
   },
   "source": [
    "### 11. 상관관계를 확인하기 위해 주로 사용되는 그래프 타입\n",
    "- feature 간의 연관 관계 분석\n",
    "- 주요 그래프 타입\n",
    "  - heatmap 그래프\n",
    "  - 산점도(scatter) 그래프"
   ]
  },
  {
   "cell_type": "markdown",
   "metadata": {},
   "source": [
    "### 11.1. Heatmap 그래프\n",
    "- https://plotly.com/python/heatmaps/"
   ]
  },
  {
   "cell_type": "code",
   "execution_count": null,
   "metadata": {},
   "outputs": [],
   "source": [
    "import pandas as pd\n",
    "doc = pd.read_csv(\"COVID-19-master/csse_covid_19_data/csse_covid_19_daily_reports/04-01-2020.csv\", encoding='utf-8-sig')"
   ]
  },
  {
   "cell_type": "code",
   "execution_count": null,
   "metadata": {},
   "outputs": [],
   "source": [
    "doc.corr(numeric_only=True)"
   ]
  },
  {
   "cell_type": "markdown",
   "metadata": {},
   "source": [
    "#### 참고: 속성간 상관관계 이해하기\n",
    "- corr(method=상관계수): 각 속성간 상관 관계 확인하기 (피어슨 상관계수가 디폴트임)\n",
    "- 피어슨 상관계수는 선형 상관 관계를 조사하며, 일반적으로\n",
    "  - +1에 가까우면, 양의 선형 상관 관계 (1에 가까울 수록 선에 가까운 데이터가 많고, 한 변수값이 증가하면, 다른 변수값도 증가)\n",
    "  - 0에 가까우면 상관관계가 없고\n",
    "  - -1에 가까우면 음의 선형 상관 관계를 가진다 (-1에 가까울 수록 선에 가까운 데이터가 많고, 한 변수값이 증가하면, 다른 변수값은 감소) 라고\n",
    "  해석됨\n",
    "  \n",
    "  \n",
    "> 참고: 피어슨 상관계수 관계   <img src=\"https://upload.wikimedia.org/wikipedia/commons/thumb/3/34/Correlation_coefficient.png/600px-Correlation_coefficient.png\">\n",
    "> 출처: [위키피디아]( https://ko.wikipedia.org/wiki/%ED%94%BC%EC%96%B4%EC%8A%A8_%EC%83%81%EA%B4%80_%EA%B3%84%EC%88%98)\n",
    "\n",
    "#### 참고: 피어슨 상관계수\n",
    "- 두 변수 X 와 Y 간의 선형 상관 관계를 계량화한 수치로, 수치 자체를 이해하기 위해서는 공분산등 고등수학 범위를 넘어서므로, 다음과 같이 간략한 식을 참고로만 이해하기로 함\n",
    "- X와 Y가 각각 n 개의 샘플을 가지고 있을 때,\n",
    "\n",
    "$$\n",
    "\\text{r}_{XY} = \\frac{\n",
    "\\sum_{i}^{n} (X_{i} -  \\bar{X}) \\cdot (Y_{i} -  \\bar{Y})}\n",
    "{\\sqrt{\\sum_{i}^{n} (X_{i} -  \\bar{X})^2} \\cdot\n",
    "\\sqrt{\\sum_{i}^{n} (Y_{i} -  \\bar{Y})^2}\n",
    "}\n",
    "$$\n",
    "\n",
    "$$ \\bar{X}: X 샘플의 평균, \\bar{Y}: Y 샘플의 평균 $$"
   ]
  },
  {
   "cell_type": "markdown",
   "metadata": {},
   "source": [
    "#### Plotly Express를 사용한 히트맵 그래프"
   ]
  },
  {
   "cell_type": "code",
   "execution_count": null,
   "metadata": {},
   "outputs": [],
   "source": [
    "doc2 = doc.corr(numeric_only=True)"
   ]
  },
  {
   "cell_type": "code",
   "execution_count": null,
   "metadata": {},
   "outputs": [],
   "source": [
    "import plotly.express as px\n",
    "fig_px = px.imshow(\n",
    "    doc2,\n",
    "    text_auto=True,                # 각 셀에 값 자동 표시\n",
    "    aspect=\"auto\",                 # 가로세로 비율 자동 조정\n",
    "    title=\"Heatmap (Plotly Express)\"\n",
    ")\n",
    "fig_px.show()"
   ]
  },
  {
   "cell_type": "markdown",
   "metadata": {},
   "source": [
    "#### 참고: 히트맵 그래프 옵션\n",
    "\n",
    "- **text_auto**\n",
    "  - **설명:**  \n",
    "    각 셀 안에 해당하는 값을 자동으로 텍스트로 표시합니다.\n",
    "  - **가능한 옵션 값:**  \n",
    "    - `True`: 모든 셀에 값이 자동으로 표시됩니다.  \n",
    "    - `False`: 셀에 값을 표시하지 않습니다.  \n",
    "    - **형식 문자열** (예: `'.2f'`): 숫자 데이터를 지정된 포맷(여기서는 소수점 두 자리)으로 표시합니다.\n",
    "\n",
    "- **aspect**\n",
    "  - **설명:**  \n",
    "    히트맵의 가로세로 비율(aspect ratio)을 조정합니다.\n",
    "  - **가능한 옵션 값:**  \n",
    "    - `\"auto\"`: 데이터의 실제 비율에 따라 자동으로 조정됩니다.  \n",
    "    - **숫자 값** (예: `1`, `1.5` 등): 고정된 비율을 직접 지정할 수 있습니다.\n",
    "\n",
    "- **title**\n",
    "  - **설명:**  \n",
    "    그래프의 제목을 설정합니다.\n",
    "  - **가능한 옵션 값:**  \n",
    "    - **문자열:** 원하는 제목을 입력하면 해당 제목이 그래프 상단에 표시됩니다.\n"
   ]
  },
  {
   "cell_type": "markdown",
   "metadata": {},
   "source": [
    "#### Plotly Graph Objects 를 사용한 히트맵 그래프"
   ]
  },
  {
   "cell_type": "code",
   "execution_count": null,
   "metadata": {},
   "outputs": [],
   "source": [
    "doc2"
   ]
  },
  {
   "cell_type": "code",
   "execution_count": null,
   "metadata": {},
   "outputs": [],
   "source": [
    "import plotly.graph_objects as go\n",
    "\n",
    "# Plotly Graph Objects를 사용한 히트맵 생성\n",
    "fig = go.Figure()\n",
    "\n",
    "# add_trace()를 사용하여 Heatmap trace 추가\n",
    "fig.add_trace(\n",
    "    go.Heatmap(\n",
    "        z=doc2.values,             # 히트맵에 사용될 데이터 (2D 배열)\n",
    "        x=doc2.columns,            # x축: 컬럼 레이블\n",
    "        y=doc2.index,              # y축: 인덱스 레이블\n",
    "        colorscale='Viridis',      # 컬러 스케일 설정 (원하는 다른 스케일로 변경 가능)\n",
    "        colorbar=dict(\n",
    "            title=\"Value\"          # 컬러바 제목\n",
    "        ),\n",
    "        text=doc2.values,          # 각 셀에 실제 데이터 값을 텍스트로 추가\n",
    "        texttemplate='%{z:.2f}',    # 셀 내부에 소수점 둘째 자리까지 포맷팅하여 표시\n",
    "        hovertemplate='X: %{x}<br>Y: %{y}<br>Value: %{z:.2f}<extra></extra>'  # hover 시 표시 형식\n",
    "    )\n",
    ")\n",
    "\n",
    "# 레이아웃 업데이트: 제목 설정\n",
    "fig.update_layout(title=\"Heatmap (Plotly Graph Objects)\")\n",
    "fig.show()\n"
   ]
  },
  {
   "cell_type": "markdown",
   "metadata": {},
   "source": [
    "#### 참고: Plotly Graph Objects Heatmap 옵션\n",
    "\n",
    "- **z**\n",
    "  - **설명:**  \n",
    "    히트맵의 각 셀에 실제로 들어갈 데이터를 나타냅니다.  \n",
    "    이 값들은 `colorscale`에 의해 특정 색상으로 매핑되어 시각적으로 표현됩니다.\n",
    "  - **예시:**  \n",
    "    만약 데이터가 -1에서 1 사이의 상관계수를 나타낸다면, 각 셀에는 -1에서 1 사이의 값이 표시됩니다.\n",
    "\n",
    "- **x**\n",
    "  - **설명:**  \n",
    "    히트맵의 x축에 표시될 값 또는 레이블입니다.  \n",
    "    일반적으로 데이터의 컬럼 이름이나 범주형 값이 사용됩니다.\n",
    "  - **예시:**  \n",
    "    `doc2.columns`를 사용하여 각 열의 이름이 x축 레이블로 나타납니다.\n",
    "\n",
    "- **y**\n",
    "  - **설명:**  \n",
    "    히트맵의 y축에 표시될 값 또는 레이블입니다.  \n",
    "    일반적으로 데이터의 인덱스나 범주형 값이 사용됩니다.\n",
    "  - **예시:**  \n",
    "    `doc2.index`를 사용하여 각 행의 인덱스가 y축 레이블로 표시됩니다.\n",
    "\n",
    "- **colorscale**\n",
    "  - **설명:**  \n",
    "    히트맵에 적용할 색상 맵(컬러 스케일)을 설정합니다.  \n",
    "    데이터 값(z)에 따라 셀에 적용될 색상이 결정됩니다.\n",
    "  - **가능한 옵션 값:**  \n",
    "    - **문자열:**  \n",
    "      Plotly에서 제공하는 내장 색상 스케일을 사용할 수 있습니다.  \n",
    "      **예시:** `'Viridis'`, `'Cividis'`, `'Bluered'`, `'Electric'`, `'YlGnBu'` 등.\n",
    "    - **사용자 정의 목록:**  \n",
    "      정규화된 값과 색상 쌍의 리스트를 직접 지정할 수도 있습니다.  \n",
    "      **예시:**  \n",
    "      ```python\n",
    "      colorscale = [(0, 'blue'), (0.5, 'green'), (1, 'red')]\n",
    "      ```\n",
    "\n",
    "- **colorbar**\n",
    "  - **설명:**  \n",
    "    히트맵 옆에 표시되는 컬러바의 스타일과 정보를 설정합니다.  \n",
    "    컬러바는 데이터 값과 색상 매핑을 시각적으로 전달하여, 사용자가 색상의 의미를 쉽게 이해할 수 있도록 도와줍니다.\n",
    "  - **가능한 옵션 값:**  \n",
    "    - **딕셔너리:**  \n",
    "      - `title`: 컬러바에 표시할 제목을 설정합니다.  \n",
    "        **예시:** `\"Value\"`, `\"Intensity\"`, `\"Count\"` 등 문자열 값.\n",
    "      - `thickness`: 컬러바의 두께를 픽셀 단위로 지정합니다.  \n",
    "        **예시:** `20`, `30` 등 정수 값을 사용할 수 있습니다.  \n",
    "        **주의:** 두께가 너무 작으면 tick 레이블이 제대로 표시되지 않을 수 있으므로 적당한 값을 선택합니다.\n",
    "      - `tickvals`: 컬러바에 표시할 tick 값들을 리스트 형태로 지정합니다.  \n",
    "        **예시:**  \n",
    "        ```python\n",
    "        tickvals=[-1, 0, 1]\n",
    "        ```\n",
    "        본 예시에서는 -1, 0, 1의 값이 사용됩니다.\n",
    "      - `ticktext`: `tickvals`에 대응하는 라벨을 리스트 형태로 지정합니다.  \n",
    "        **예시:**  \n",
    "        ```python\n",
    "        ticktext=[\"음의상관관계\", \"상관관계없음\", \"양의상관관계\"]\n",
    "        ```\n",
    "        여기서는 각 tick 값에 대해 한글 레이블을 지정합니다.\n",
    "      - `len`: 컬러바의 길이를 설정합니다.  \n",
    "        **예시:**  \n",
    "        `1` 또는 `0.8`과 같이 전체 플롯 높이 또는 너비의 비율로 지정할 수 있습니다.\n",
    "    - **기본 사용 예:**  \n",
    "      ```python\n",
    "      colorbar=dict(\n",
    "          title=\"Value\",\n",
    "          thickness=25,\n",
    "          tickvals=[-1, 0, 1],\n",
    "          ticktext=[\"음의상관관계\", \"상관관계없음\", \"양의상관관계\"],\n",
    "          len=1\n",
    "      )\n",
    "      ```\n",
    "    - **주의:**  \n",
    "      - `tickvals`와 `ticktext`의 리스트 길이는 반드시 같아야 하며, 데이터 범위와 일치하도록 설정해야 합니다.\n",
    "      - `thickness` 값이 너무 작으면 tick 레이블이 보이지 않을 수 있으므로 적절한 값을 선택합니다.\n",
    "\n",
    "- **hovertemplate**\n",
    "  - **설명:**  \n",
    "    마우스를 올렸을 때 나타나는 hover 정보의 표시 형식을 커스터마이징합니다.\n",
    "  - **가능한 옵션 값:**  \n",
    "    - **문자열:**  \n",
    "      변수 플레이스홀더를 사용하여 데이터 값을 동적으로 삽입할 수 있습니다.  \n",
    "      **예시:**  \n",
    "      ```python\n",
    "      'X: %{x}<br>Y: %{y}<br>Value: %{z:.2f}'\n",
    "      ```\n",
    "      여기서 `%{x}`, `%{y}`, `%{z:.2f}`는 각각 x, y, z 값을 나타내며, z는 소수점 둘째 자리까지 포맷됩니다.\n",
    "  - **`<extra></extra>` 태그**  \n",
    "    - **설명:**  \n",
    "      이 태그 사이에 들어있는 내용은 hover 상자에서 추가 정보로 표시됩니다.\n",
    "    - **용도:**  \n",
    "      - 내용이 비어 있으면 (`<extra></extra>`) 기본적으로 표시되는 trace 이름 등 추가 정보를 숨깁니다.\n",
    "      - 내용을 넣으면, 해당 내용이 hover 상자 하단에 추가 정보로 표시됩니다.\n",
    "      - **예시 1:**  \n",
    "        ```python\n",
    "        'Value: %{z:.2f}<extra></extra>'\n",
    "        ```\n",
    "        셀의 값(z)을 표시하고, 추가 정보는 숨깁니다.\n",
    "      - **예시 2:**  \n",
    "        ```python\n",
    "        'X: %{x}<br>Y: %{y}<br>Value: %{z:.2f}<extra>Custom Info</extra>'\n",
    "        ```\n",
    "        데이터 값과 함께 \"Custom Info\"라는 추가 정보를 hover 상자 하단에 표시합니다.\n",
    "\n",
    "- **text**\n",
    "  - **설명:**  \n",
    "    각 셀에 표시될 텍스트 값을 지정합니다.  \n",
    "    이 옵션을 사용하면, 사용자가 직접 각 셀에 텍스트를 넣어 항상 보이게 할 수 있습니다.\n",
    "  - **가능한 옵션 값:**  \n",
    "    - **리스트 또는 배열:**  \n",
    "      각 셀별로 표시할 텍스트 값을 제공하는 리스트나 배열.  \n",
    "      **예시:**  \n",
    "      ```python\n",
    "      text=doc2.values\n",
    "      ```\n",
    "      위와 같이 셀의 실제 데이터 값을 그대로 표시할 수 있습니다.\n",
    "\n",
    "- **texttemplate**\n",
    "  - **설명:**  \n",
    "    각 셀에 표시되는 텍스트의 포맷을 지정합니다.  \n",
    "    이 옵션을 사용하면 텍스트에 포함된 데이터 값을 원하는 형식(예: 소수점 자릿수)을 적용할 수 있습니다.\n",
    "  - **가능한 옵션 값:**  \n",
    "    - **문자열:**  \n",
    "      포맷 문자열을 사용하여 텍스트 값을 커스터마이징합니다.\n",
    "      - **예:**  \n",
    "        ```python\n",
    "        texttemplate='%{z:.2f}'\n",
    "        ```\n",
    "        이는 z 값을 소수점 둘째 자리까지 포맷하여 표시합니다.\n",
    "- **zmin**\n",
    "  - **설명:**  \n",
    "    히트맵의 색상 매핑에 사용할 최소 데이터 값을 강제 설정합니다.  \n",
    "    기본적으로 Plotly는 데이터의 최소값을 자동으로 감지하지만, 이 옵션을 사용하면 원하는 값(예: -1)으로 고정할 수 있습니다.\n",
    "  - **가능한 옵션 값:**  \n",
    "    - **숫자:** 데이터 범위에 맞게 지정할 수 있으며, 데이터의 최소값보다 낮거나 같아야 합니다.\n",
    "  - **예시:**  \n",
    "    `zmin=-1`은 색상 스케일의 최소값을 -1로 강제 설정합니다.\n",
    "\n",
    "- **zmax**\n",
    "  - **설명:**  \n",
    "    히트맵의 색상 매핑에 사용할 최대 데이터 값을 강제 설정합니다.  \n",
    "    기본적으로 Plotly는 데이터의 최대값을 자동으로 감지하지만, 이 옵션을 사용하면 원하는 값(예: 1)으로 고정할 수 있습니다.\n",
    "  - **가능한 옵션 값:**  \n",
    "    - **숫자:** 데이터 범위에 맞게 지정할 수 있으며, 데이터의 최대값보다 높거나 같아야 합니다.\n",
    "  - **예시:**  \n",
    "    `zmax=1`은 색상 스케일의 최대값을 1로 강제 설정합니다.\n"
   ]
  },
  {
   "cell_type": "code",
   "execution_count": null,
   "metadata": {},
   "outputs": [],
   "source": [
    "import plotly.graph_objects as go\n",
    "\n",
    "# 빈 Figure 객체 생성: 새로운 Figure를 생성하여 추후 trace들을 추가할 준비를 합니다.\n",
    "fig_go = go.Figure()\n",
    "\n",
    "# add_trace() 메서드를 사용하여 Heatmap trace를 추가합니다.\n",
    "fig_go.add_trace(\n",
    "    go.Heatmap(\n",
    "        z=doc2.values,             # 히트맵에 사용할 데이터 (2D 배열). 각 셀의 색상은 이 값에 따라 매핑됩니다.\n",
    "        x=doc2.columns,            # x축 레이블로 사용될 값. 일반적으로 DataFrame의 컬럼 이름들이 사용됩니다.\n",
    "        y=doc2.index,              # y축 레이블로 사용될 값. 일반적으로 DataFrame의 인덱스 값들이 사용됩니다.\n",
    "        colorscale='Viridis',      # 히트맵에 적용할 색상 스케일을 지정합니다. 'Viridis' 스케일은 데이터의 값 범위를 효과적으로 표현합니다.\n",
    "        zmin=-1,                   # 색상 매핑의 최소값을 -1로 강제 설정합니다. 데이터의 최소값과 상관없이 색상 매핑의 시작점을 -1로 고정합니다.\n",
    "        zmax=1,                    # 색상 매핑의 최대값을 1로 강제 설정합니다. 데이터의 최대값과 상관없이 색상 매핑의 끝점을 1로 고정합니다.\n",
    "        colorbar=dict(\n",
    "            thickness=40,          # 컬러바의 두께를 픽셀 단위로 지정합니다. (예: 40픽셀)\n",
    "            tickvals=[-1, 0, 1],     # 컬러바에 표시할 tick(눈금) 값들을 리스트 형태로 지정합니다.\n",
    "            ticktext=[\"음의상관관계\", \"상관관계없음\", \"양의상관관계\"],\n",
    "                                    # 각 tick 값에 대응하는 레이블을 지정합니다.\n",
    "                                    # 예: -1은 '음의상관관계', 0은 '상관관계없음', 1은 '양의상관관계'\n",
    "            len=1                   # 컬러바의 길이를 전체 플롯 길이에 대한 비율로 설정합니다. 1은 100% 길이를 의미합니다.\n",
    "        ),\n",
    "        text=doc2.values,          # 각 셀 내부에 표시할 텍스트 값으로, 실제 데이터 값을 사용합니다.\n",
    "        texttemplate='%{z:.2f}',    # 셀 내부 텍스트 포맷을 지정합니다. 여기서는 z 값이 소수점 둘째 자리까지 표시됩니다.\n",
    "        hovertemplate='X: %{x}<br>Y: %{y}<br>Value: %{z:.2f}<extra>Custom Info</extra>'\n",
    "                                    # 마우스 hover 시 표시될 텍스트 형식을 지정합니다.\n",
    "                                    # %{x}, %{y}는 x, y 값, %{z:.2f}는 소수점 둘째 자리까지 포맷된 z 값을 표시합니다.\n",
    "                                    # <extra>Custom Info</extra>는 추가 정보 영역에 'Custom Info'를 표시합니다.\n",
    "    )\n",
    ")\n",
    "\n",
    "# 레이아웃 업데이트: 전체 그래프의 제목을 설정합니다.\n",
    "fig_go.update_layout(title=\"Heatmap (Plotly Graph Objects)\")\n",
    "\n",
    "# 최종적으로 생성된 Figure를 렌더링하여 화면에 출력합니다.\n",
    "fig_go.show()\n"
   ]
  },
  {
   "cell_type": "markdown",
   "metadata": {},
   "source": [
    "### 11.2. 산점도 그래프\n",
    "- https://plotly.com/python/line-and-scatter/"
   ]
  },
  {
   "cell_type": "code",
   "execution_count": null,
   "metadata": {},
   "outputs": [],
   "source": [
    "import pandas as pd\n",
    "doc = pd.read_csv(\"COVID-19-master/csse_covid_19_data/csse_covid_19_daily_reports/04-01-2020.csv\", encoding='utf-8-sig')"
   ]
  },
  {
   "cell_type": "code",
   "execution_count": null,
   "metadata": {},
   "outputs": [],
   "source": [
    "doc.head()"
   ]
  },
  {
   "cell_type": "markdown",
   "metadata": {},
   "source": [
    "#### Plotly Express를 사용한 산점도 그래프\n",
    "- 그래프가 우상향한다면, 두 feature 간 관계가 있다고 볼 수 있음"
   ]
  },
  {
   "cell_type": "code",
   "execution_count": null,
   "metadata": {},
   "outputs": [],
   "source": [
    "# Plotly 그래프 템플릿 종류\n",
    "import plotly.io as pio\n",
    "pio.templates"
   ]
  },
  {
   "cell_type": "code",
   "execution_count": null,
   "metadata": {
    "scrolled": true
   },
   "outputs": [],
   "source": [
    "import plotly.express as px\n",
    "\n",
    "# 1. Plotly Express를 사용하여 산점도 생성\n",
    "fig_px = px.scatter(\n",
    "    doc,                 # doc: 미리 정의된 DataFrame\n",
    "    x=\"Confirmed\",       # x축에 'Confirmed'(확진자 수) 열 사용\n",
    "    y=\"Active\",          # y축에 'Active'(격리/치료 중 환자 수) 열 사용\n",
    "    title=\"Scatter Plot (Plotly Express)\"  # 그래프 제목\n",
    ")\n",
    "\n",
    "# 2. 레이아웃 템플릿을 'seaborn'으로 적용 (배경색, 격자 스타일 등)\n",
    "# https://plotly.com/python/templates/\n",
    "fig_px.update_layout(template=\"seaborn\")\n",
    "\n",
    "# 3. 그래프 표시\n",
    "fig_px.show()"
   ]
  },
  {
   "cell_type": "markdown",
   "metadata": {},
   "source": [
    "#### Plotly Graph Objects 를 사용한 산점도 그래프\n",
    "- `mode` 옵션\n",
    "  1. **\"lines\"**  \n",
    "   - 선(Line)만 표시합니다.  \n",
    "  2. **\"markers\"**  \n",
    "   - 마커(점)만 표시합니다.  \n",
    "  3. **\"text\"**  \n",
    "   - 텍스트만 표시합니다.  \n",
    "  4. **\"lines+markers\"**  \n",
    "   - 선과 마커를 함께 표시합니다.  \n",
    "  5. **\"lines+text\"**  \n",
    "   - 선과 텍스트를 함께 표시합니다.  \n",
    "  6. **\"markers+text\"**  \n",
    "   - 마커와 텍스트를 함께 표시합니다.  \n",
    "  7. **\"lines+markers+text\"**  \n",
    "   - 선, 마커, 텍스트를 모두 표시합니다."
   ]
  },
  {
   "cell_type": "code",
   "execution_count": null,
   "metadata": {},
   "outputs": [],
   "source": [
    "import plotly.graph_objects as go\n",
    "\n",
    "# 1. Figure 객체 생성\n",
    "fig = go.Figure()\n",
    "\n",
    "# 2. 산점도 Trace 추가 (점으로 표시)\n",
    "fig.add_trace(\n",
    "    go.Scatter(    \n",
    "        x=doc['Confirmed'],  # x축: 'Confirmed' 열\n",
    "        y=doc['Active'],     # y축: 'Active' 열\n",
    "        mode='markers'       # 마커(점)로만 구성된 산점도\n",
    "    )\n",
    ")\n",
    "\n",
    "# 3. 그래프 표시\n",
    "fig.show()\n"
   ]
  },
  {
   "cell_type": "markdown",
   "metadata": {},
   "source": [
    "### 12. 정리"
   ]
  },
  {
   "cell_type": "markdown",
   "metadata": {},
   "source": [
    "<div class=\"alert alert-block\" style=\"border: 1px solid #FFB300;background-color:#F9FBE7;\">\n",
    "<font size=\"3em\" style=\"font-weight:bold;color:#3f8dbf;\">탐색적 데이터 분석 (데이터 이해와 시각화 기법 추가)</font><br>\n",
    "1. 데이터의 출처와 주제에 대해 이해 <br>\n",
    "2. 데이터의 크기 확인 <br>\n",
    "3. 데이터 구성 요소(feature)의 속성(특징) 확인 <br>\n",
    "    \n",
    "    \n",
    "   - **수치형 데이터일 경우**에는 다음과 같이 5 number summary 와 + 평균(mean) 확인  <br>\n",
    "    - 최소값(minimum), 제1사분위수, 중간값(mediam)=제2사분위수, 제3사분위수, 최대값(maximum) + 평균(mean) 확인 <br>\n",
    "    - 특잇값(outlier) 확인\n",
    "    - 필요하면 boxplot 과 histogram 그려보기 \n",
    "\n",
    "    \n",
    "   - **범주형 데이터일 경우**에는 각 수준별 갯수 세기<br>\n",
    "    - 필요하면 절대 빈도(bar 그래프), 상대 빈도(원 그래프) 그려보기\n",
    "    \n",
    "   \n",
    "   - **시계열 데이터일 경우**에는 필요하면 line 또는 bar 그래프 그리기\n",
    "    \n",
    "   - **Feature 간 상관관계 분석이 필요할 경우**에는 heatmap 또는 scatter 그래프 그리기\n",
    "</div>    \n"
   ]
  },
  {
   "cell_type": "markdown",
   "metadata": {},
   "source": [
    "<div class=\"alert alert-block\" style=\"border: 2px solid #1976D2;background-color:#E3F2FD;padding:5px;font-size:0.9em;\">\n",
    "본 자료는 저작권법 제25조 2항에 의해 보호를 받습니다. 본 자료를 외부에 공개하지 말아주세요.<br>\n",
    "본 강의만 잘 정리하면, 데이터 분석과 데이터 과학(머신러닝, 인공지능) 모두 가능합니다!<br>\n",
    "<b><a href=\"https://school.fun-coding.org/\">잔재미코딩</a> 에서 본 강의 기반 최적화된 로드맵도 확인하실 수 있습니다</b></div>"
   ]
  }
 ],
 "metadata": {
  "kernelspec": {
   "display_name": "Python 3 (ipykernel)",
   "language": "python",
   "name": "python3"
  },
  "language_info": {
   "codemirror_mode": {
    "name": "ipython",
    "version": 3
   },
   "file_extension": ".py",
   "mimetype": "text/x-python",
   "name": "python",
   "nbconvert_exporter": "python",
   "pygments_lexer": "ipython3",
   "version": "3.12.7"
  }
 },
 "nbformat": 4,
 "nbformat_minor": 4
}
