{
 "cells": [
  {
   "cell_type": "markdown",
   "metadata": {},
   "source": [
    "<div class=\"alert alert-block\" style=\"border: 2px solid #1976D2;background-color:#E3F2FD;padding:5px;font-size:0.9em;\">\n",
    "본 자료는 저작권법 제25조 2항에 의해 보호를 받습니다. 본 자료를 외부에 공개하지 말아주세요.<br>\n",
    "본 강의만 잘 정리하면, 데이터 분석과 데이터 과학(머신러닝, 인공지능) 모두 가능합니다!<br>\n",
    "<b><a href=\"https://school.fun-coding.org/\">잔재미코딩</a> 에서 본 강의 기반 최적화된 로드맵도 확인하실 수 있습니다</b></div>"
   ]
  },
  {
   "cell_type": "markdown",
   "metadata": {},
   "source": [
    "### pandas 라이브러리와 탐색적 데이터 분석 과정 익히기"
   ]
  },
  {
   "cell_type": "markdown",
   "metadata": {},
   "source": [
    "<div class=\"alert alert-block\" style=\"border: 1px solid #FFB300;background-color:#F9FBE7;\">\n",
    "<font size=\"3em\" style=\"font-weight:bold;color:#3f8dbf;\">데이터 분석시, 가볍게 데이터 확인시는 Plotly Express, 디테일하게 시각화할 시에는 Plotly Graph Objects 를 사용하는 것이 좋음</font></div>"
   ]
  },
  {
   "cell_type": "markdown",
   "metadata": {},
   "source": [
    "### 1. 관련 라이브러리 설치\n",
    "- 아나콘다에 이미 관련 라이브러리가 설치되어 있음\n",
    "- 필요시 !pip install plotly 로 plotly 가 설치되어 있으면 됨"
   ]
  },
  {
   "cell_type": "markdown",
   "metadata": {},
   "source": [
    "#### 1.1. 라이브러리 임포트"
   ]
  },
  {
   "cell_type": "code",
   "execution_count": null,
   "metadata": {},
   "outputs": [],
   "source": [
    "import plotly.graph_objects as go"
   ]
  },
  {
   "cell_type": "markdown",
   "metadata": {},
   "source": [
    "####  테스트\n",
    "- go.Figure() 로 figure(그래프) 객체를 만들어주고, 이를 화면에 보여주는 방식으로 실행하면 됨"
   ]
  },
  {
   "cell_type": "code",
   "execution_count": null,
   "metadata": {
    "scrolled": true
   },
   "outputs": [],
   "source": [
    "fig = go.Figure()\n",
    "fig.add_trace(\n",
    "    go.Scatter(    \n",
    "        x=[1, 2, 3], y=[1, 2, 3]\n",
    "    )\n",
    ")\n",
    "fig.show()"
   ]
  },
  {
   "cell_type": "markdown",
   "metadata": {},
   "source": [
    "### 2. 그래프 기본 작성 패턴"
   ]
  },
  {
   "cell_type": "markdown",
   "metadata": {},
   "source": [
    "#### 2.1. Plotly Graph Objects 기본 코드 패턴\n",
    "\n",
    "```python\n",
    "import plotly.graph_objects as go\n",
    "\n",
    "# 1. Figure 객체 생성\n",
    "fig = go.Figure()\n",
    "\n",
    "# 2. 그래프(Trace) 추가\n",
    "fig.add_trace(\n",
    "    go.그래프타입(\n",
    "        x=데이터_x,\n",
    "        y=데이터_y,\n",
    "        ...\n",
    "    )\n",
    ")\n",
    "\n",
    "# 3. 레이아웃(Layout) 설정 (제목, 축, 범례 등)\n",
    "fig.update_layout(\n",
    "    title=\"그래프 제목\",\n",
    "    ...\n",
    ")\n",
    "\n",
    "# 4. 그래프 표시\n",
    "fig.show()\n",
    "```\n",
    "\n",
    "- `go.그래프타입(...)` 에는 `go.Scatter()`, `go.Bar()`, `go.Histogram()`, `go.Box()` 등의 Trace 객체를 지정합니다.\n",
    "- Trace를 여러 개 `add_trace`로 추가해 복합 그래프나 여러 시리즈(series)를 동시에 표현할 수 있습니다.\n",
    "- `fig.update_layout(...)` 또는 `fig.update_xaxes()`, `fig.update_yaxes()` 등을 통해 레이아웃, 축 등을 커스터마이징할 수 있습니다."
   ]
  },
  {
   "cell_type": "markdown",
   "metadata": {},
   "source": [
    "### 3. 쉽게 익혀보는 Plotly Graph Objects 기반 그래프 작성법\n",
    "Plotly Graph Objects에서도 대표적으로 다음과 같은 그래프 유형을 포함한 다양한 그래프를 지원함\n",
    "\n",
    "1. **산점도(Scatter)**\n",
    "2. **선 그래프(Line)**\n",
    "3. **막대 그래프(Bar)**\n",
    "4. **히스토그램(Histogram)**\n",
    "5. **상자 그림(Box)**\n"
   ]
  },
  {
   "cell_type": "markdown",
   "metadata": {},
   "source": [
    "#### 3.1. 산점도 (Scatter)\n",
    "- 두 변수의 관계를 점으로 표시합니다. 색상, 마커 형태, 크기, 투명도 등을 세부 설정할 수 있습니다."
   ]
  },
  {
   "cell_type": "code",
   "execution_count": null,
   "metadata": {},
   "outputs": [],
   "source": [
    "import plotly.graph_objects as go\n",
    "import numpy as np\n",
    "\n",
    "# 예제 데이터 생성\n",
    "x_data = np.random.rand(100)\n",
    "y_data = np.random.rand(100)\n",
    "\n",
    "# Figure 생성\n",
    "fig = go.Figure()\n",
    "\n",
    "# 산점도 Trace 추가\n",
    "fig.add_trace(\n",
    "    go.Scatter(\n",
    "        x=x_data,\n",
    "        y=y_data,\n",
    "        mode='markers',    # 점(marker)으로 표시\n",
    "        marker=dict(\n",
    "            size=8,        # 마커 크기\n",
    "            color='blue',  # 마커 색상\n",
    "            opacity=0.7    # 투명도\n",
    "        ),\n",
    "        name='산점도 데이터',  # 범례에 표시될 이름\n",
    "        showlegend=True       # 범례를 항상 표시\n",
    "    )\n",
    ")\n",
    "\n",
    "# 레이아웃 설정 (범례 표시 추가)\n",
    "fig.update_layout(\n",
    "    title=\"산점도 예제\",\n",
    "    xaxis_title=\"x축\",\n",
    "    yaxis_title=\"y축\"\n",
    ")\n",
    "\n",
    "fig.show()\n"
   ]
  },
  {
   "cell_type": "markdown",
   "metadata": {},
   "source": [
    "#### 참고: 데이터프레임 기반 그래프 작성"
   ]
  },
  {
   "cell_type": "code",
   "execution_count": null,
   "metadata": {},
   "outputs": [],
   "source": [
    "import plotly.graph_objects as go\n",
    "import pandas as pd\n",
    "import numpy as np\n",
    "\n",
    "# 예제 데이터 생성: DataFrame 기반\n",
    "df = pd.DataFrame({\n",
    "    'x축': np.random.rand(100),\n",
    "    'y축': np.random.rand(100)\n",
    "})\n",
    "\n",
    "# Figure 생성\n",
    "fig = go.Figure()\n",
    "\n",
    "# 산점도 Trace 추가\n",
    "fig.add_trace(\n",
    "    go.Scatter(\n",
    "        x=df['x축'],\n",
    "        y=df['y축'],\n",
    "        mode='markers',    # 데이터 포인트를 점(marker)으로 표시\n",
    "        marker=dict(\n",
    "            size=8,        # 마커의 크기\n",
    "            color='blue',  # 마커의 색상\n",
    "            opacity=0.7    # 마커의 투명도 (0: 완전 투명, 1: 불투명)\n",
    "        ),\n",
    "        name='산점도 데이터',  # 범례에 표시될 이름\n",
    "        showlegend=True       # 범례를 항상 표시\n",
    "    )\n",
    ")\n",
    "\n",
    "# 레이아웃 설정\n",
    "fig.update_layout(\n",
    "    title=\"산점도 예제\",\n",
    "    xaxis_title=\"x축\",\n",
    "    yaxis_title=\"y축\"\n",
    ")\n",
    "\n",
    "fig.show()"
   ]
  },
  {
   "cell_type": "markdown",
   "metadata": {},
   "source": [
    "#### 주요 옵션 \n",
    "- **mode**  \n",
    "  - **정의:** 데이터 포인트를 어떤 형태로 표시할지 결정합니다.\n",
    "  - **옵션:**  \n",
    "    - `'markers'`: 점(marker)만 표시합니다.\n",
    "    - `'lines'`: 데이터 포인트들을 선(line)으로 연결합니다.\n",
    "    - `'lines+markers'`: 점과 선을 함께 표시합니다.\n",
    "- **marker**  \n",
    "  - **정의:** 산점도에서 사용되는 개별 데이터 포인트(마커)의 스타일을 지정합니다.\n",
    "  - **옵션:**  \n",
    "    - `size`: 마커의 크기를 지정합니다.\n",
    "    - `color`: 마커의 색상을 지정합니다.\n",
    "    - `opacity`: 마커의 투명도를 지정합니다. (0은 완전 투명, 1은 불투명)\n",
    "- **name**  \n",
    "  - **정의:** 해당 트레이스(데이터 시리즈)의 이름을 지정하여 범례에 표시합니다.\n",
    "- **showlegend=True**: 범례 표시"
   ]
  },
  {
   "cell_type": "markdown",
   "metadata": {},
   "source": [
    "#### 3.2. 선 그래프 (Line)\n",
    "- 순서에 따른 값의 변화를 선으로 연결하여 보여줍니다."
   ]
  },
  {
   "cell_type": "code",
   "execution_count": null,
   "metadata": {},
   "outputs": [],
   "source": [
    "import plotly.graph_objects as go\n",
    "import numpy as np\n",
    "\n",
    "# 예제 데이터 생성\n",
    "x_data = np.arange(50)\n",
    "y_data = np.random.rand(50)\n",
    "\n",
    "fig = go.Figure()\n",
    "\n",
    "fig.add_trace(\n",
    "    go.Scatter(\n",
    "        x=x_data,\n",
    "        y=y_data,\n",
    "        mode='lines',       # 선으로 표시 (mode='lines+markers'로 설정하면 점과 선이 함께 표시)\n",
    "        line=dict(color='red', width=2),\n",
    "        name='선 그래프 데이터',\n",
    "        showlegend=True\n",
    "    )\n",
    ")\n",
    "\n",
    "fig.update_layout(\n",
    "    title=\"선 그래프 예제\",\n",
    "    xaxis_title=\"시간\",\n",
    "    yaxis_title=\"값\"\n",
    ")\n",
    "\n",
    "fig.show()"
   ]
  },
  {
   "cell_type": "markdown",
   "metadata": {},
   "source": [
    "#### 3.3. 막대 그래프 (Bar)\n",
    "- 범주형 데이터를 막대 높이로 표시합니다."
   ]
  },
  {
   "cell_type": "code",
   "execution_count": null,
   "metadata": {},
   "outputs": [],
   "source": [
    "import plotly.graph_objects as go\n",
    "\n",
    "# 예제 데이터 생성\n",
    "categories = ['A', 'B', 'C', 'D']\n",
    "values = [23, 17, 35, 29]\n",
    "\n",
    "fig = go.Figure()\n",
    "\n",
    "fig.add_trace(\n",
    "    go.Bar(\n",
    "        x=categories,\n",
    "        y=values,\n",
    "        name='막대 그래프 데이터',\n",
    "        showlegend=True\n",
    "    )\n",
    ")\n",
    "\n",
    "fig.update_layout(\n",
    "    title=\"막대 그래프 예제\",\n",
    "    xaxis_title=\"범주\",\n",
    "    yaxis_title=\"값\"\n",
    ")\n",
    "\n",
    "fig.show()\n"
   ]
  },
  {
   "cell_type": "markdown",
   "metadata": {},
   "source": [
    "#### 3.4. 히스토그램 (Histogram)\n",
    "- 연속형 데이터의 분포를 구간별 막대로 나타냅니다."
   ]
  },
  {
   "cell_type": "code",
   "execution_count": null,
   "metadata": {},
   "outputs": [],
   "source": [
    "import plotly.graph_objects as go\n",
    "import numpy as np\n",
    "\n",
    "# 예제 데이터 생성: 0과 1 사이의 균등분포 난수 500개 생성\n",
    "data = np.random.rand(500)\n",
    "\n",
    "fig = go.Figure()\n",
    "\n",
    "fig.add_trace(\n",
    "    go.Histogram(\n",
    "        x=data,\n",
    "        nbinsx=30,          # 구간 수(빈(bin)의 개수)\n",
    "        name='히스토그램 데이터',\n",
    "        showlegend=True\n",
    "    )\n",
    ")\n",
    "\n",
    "fig.update_layout(\n",
    "    title=\"히스토그램 예제\",\n",
    "    xaxis_title=\"데이터\",\n",
    "    yaxis_title=\"빈도\"\n",
    ")\n",
    "\n",
    "fig.show()"
   ]
  },
  {
   "cell_type": "markdown",
   "metadata": {},
   "source": [
    "#### 3.5. 상자 그림 (Box)\n",
    "- 다양한 열의 분포, 중앙값, 사분위수, 이상치를 한눈에 비교할 수 있습니다.\n",
    "\n",
    "<center>\n",
    "<img src=\"https://www.fun-coding.org/00_Images/boxplot.jpg\" width=350>\n",
    "</center>"
   ]
  },
  {
   "cell_type": "code",
   "execution_count": null,
   "metadata": {},
   "outputs": [],
   "source": [
    "import plotly.graph_objects as go\n",
    "import numpy as np\n",
    "\n",
    "# 예제 데이터 생성 (두 열에 대한 랜덤값)\n",
    "data1 = np.random.rand(100)\n",
    "data2 = np.random.rand(100)\n",
    "\n",
    "fig = go.Figure()\n",
    "\n",
    "# Box Trace 1\n",
    "fig.add_trace(\n",
    "    go.Box(\n",
    "        y=data1,\n",
    "        name='비교할열1' # 'name' 옵션은 범례 항목으로 표시되며, x축 그룹 이름으로도 사용됩니다.\n",
    "    )\n",
    ")\n",
    "\n",
    "# Box Trace 2\n",
    "fig.add_trace(\n",
    "    go.Box(\n",
    "        y=data2,\n",
    "        name='비교할열2' # 'name' 옵션은 범례 항목으로 표시되며, x축 그룹 이름으로도 사용됩니다.\n",
    "    )\n",
    ")\n",
    "\n",
    "fig.update_layout(\n",
    "    title=\"상자 그림 예제\",\n",
    "    yaxis_title=\"값\",\n",
    "    xaxis_title=\"값\",\n",
    ")\n",
    "\n",
    "fig.show()\n"
   ]
  },
  {
   "cell_type": "markdown",
   "metadata": {},
   "source": [
    "### 4. 그래프 세부 요소 변경\n",
    "\n",
    "- Plotly Graph Objects로 만든 그래프는 `update_layout()`, `update_xaxes()`, `update_yaxes()` 등을 통해 세부 설정을 변경할 수 있습니다.  \n",
    "(Plotly Express와 동일한 이름이지만, Graph Objects에서도 동일하게 동작)\n"
   ]
  },
  {
   "cell_type": "markdown",
   "metadata": {},
   "source": [
    "#### 4.1. 그래프 제목 (Title) 변경"
   ]
  },
  {
   "cell_type": "code",
   "execution_count": null,
   "metadata": {},
   "outputs": [],
   "source": [
    "import plotly.graph_objects as go\n",
    "import numpy as np\n",
    "\n",
    "x_data = np.random.rand(100)\n",
    "y_data = np.random.rand(100)\n",
    "\n",
    "fig = go.Figure()\n",
    "\n",
    "fig.add_trace(\n",
    "    go.Scatter(\n",
    "        x=x_data,\n",
    "        y=y_data,\n",
    "        mode='markers',\n",
    "        name='산점도',\n",
    "        showlegend=True\n",
    "    )\n",
    ")\n",
    "\n",
    "# 레이아웃 업데이트 - 그래프 제목\n",
    "fig.update_layout(\n",
    "    title={\n",
    "        'text': \"새로운 그래프 제목\",\n",
    "        'font': {'size': 24, 'color': 'darkblue'},\n",
    "        'x': 0.5  # 중앙 정렬\n",
    "    }\n",
    ")\n",
    "\n",
    "fig.show()\n"
   ]
  },
  {
   "cell_type": "markdown",
   "metadata": {},
   "source": [
    "#### 주요 옵션 설명\n",
    "\n",
    "- **x**: x축 데이터 값을 지정합니다.  \n",
    "  - 예: `np.random.rand(100)`로 생성된 랜덤 값 배열\n",
    "\n",
    "- **y**: y축 데이터 값을 지정합니다.  \n",
    "  - 예: `np.random.rand(100)`로 생성된 랜덤 값 배열\n",
    "\n",
    "- **mode**: 데이터 포인트의 표시 방식을 설정합니다.  \n",
    "  - 주요 옵션값:  \n",
    "    - `'markers'`: 점으로만 표시  \n",
    "    - `'lines'`: 선으로만 표시  \n",
    "    - `'lines+markers'`: 선과 점 모두 표시\n",
    "\n",
    "- **name**: 데이터 시리즈의 이름을 지정하며, 범례 및 그룹 레이블로 사용됩니다.  \n",
    "  - 예: `'산점도'`\n",
    "\n",
    "- **title.text**: 그래프의 제목 텍스트를 설정합니다.  \n",
    "  - 예: `\"새로운 그래프 제목\"`\n",
    "\n",
    "- **title.font**: 제목 텍스트의 폰트 스타일을 지정합니다.  \n",
    "  - 주요 옵션값:  \n",
    "    - `size`: 글자 크기 (예: `24`)  \n",
    "    - `color`: 글자 색상 (예: `'darkblue'`)\n",
    "\n",
    "- **title.x**: 제목의 x축 위치를 설정하여 제목의 정렬을 결정합니다.  \n",
    "  - 예: `0.5`는 제목을 중앙 정렬함"
   ]
  },
  {
   "cell_type": "markdown",
   "metadata": {},
   "source": [
    "#### 4.2. 범례 (Legend) 변경\n",
    "- 범례의 위치, 테두리, 스타일 등을 조정할 수 있습니다."
   ]
  },
  {
   "cell_type": "code",
   "execution_count": null,
   "metadata": {},
   "outputs": [],
   "source": [
    "import plotly.graph_objects as go\n",
    "import numpy as np\n",
    "\n",
    "x_data = np.random.rand(100)\n",
    "y_data = np.random.rand(100)\n",
    "categories = np.random.choice(['A', 'B', 'C'], 100)\n",
    "\n",
    "fig = go.Figure()\n",
    "\n",
    "# 예시로 카테고리 별로 다른 Trace를 만들어봅니다.\n",
    "for cat in ['A', 'B', 'C']:\n",
    "    fig.add_trace(\n",
    "        go.Scatter(\n",
    "            x=x_data[categories == cat],\n",
    "            y=y_data[categories == cat],\n",
    "            mode='markers',\n",
    "            name=f'범주 {cat}'\n",
    "        )\n",
    "    )\n",
    "\n",
    "fig.update_layout(\n",
    "    title=\"범례 위치 예제\",\n",
    "    legend=dict(\n",
    "        title=\"범례 제목\",\n",
    "        x=1.02,       \n",
    "        y=1,          \n",
    "        xanchor=\"left\",\n",
    "        yanchor=\"top\",\n",
    "        bordercolor=\"black\",\n",
    "        borderwidth=1\n",
    "    )\n",
    ")\n",
    "\n",
    "fig.show()\n"
   ]
  },
  {
   "cell_type": "markdown",
   "metadata": {},
   "source": [
    "#### 주요 옵션 설명\n",
    "- **x**: 산점도의 x축 데이터 (주요 옵션값: x_data 배열; 실수형 값들의 배열로 각 데이터 포인트의 x 위치를 지정)\n",
    "- **y**: 산점도의 y축 데이터 (주요 옵션값: y_data 배열; 실수형 값들의 배열로 각 데이터 포인트의 y 위치를 지정)\n",
    "- **mode**: 데이터 포인트의 표시 방식 (주요 옵션값: `'markers'` - 점만 표시, `'lines'` - 선만 표시, `'lines+markers'` - 선과 점을 함께 표시)\n",
    "- **name**: 해당 Trace의 이름 (주요 옵션값: 예, `f'범주 {cat}'`; 범례에 표시되며 각 Trace를 구분하는 데 사용)\n",
    "\n",
    "- **title**: 그래프의 제목 설정 (주요 옵션값: `\"범례 위치 예제\"`; 텍스트를 지정하며, 폰트 및 위치 옵션과 함께 사용 가능)\n",
    "  - **title.text**: 제목 텍스트 (예: `\"범례 위치 예제\"`)\n",
    "  - **title.font**: 제목 폰트 스타일 (예: `{'size': 24, 'color': 'darkblue'}`; 글자 크기와 색상 지정)\n",
    "  - **title.x**: 제목의 x축 위치 (주요 옵션값: `0.5`; 중앙 정렬)\n",
    "\n",
    "- **legend**: 범례의 위치 및 스타일 설정 (주요 옵션값: 딕셔너리 형태로 설정)\n",
    "  - **legend.title**: 범례 제목 (주요 옵션값: `\"범례 제목\"`)\n",
    "  - **legend.x**: 범례의 x좌표 (주요 옵션값: `1.02`; 그래프 오른쪽 외부 위치)\n",
    "  - **legend.y**: 범례의 y좌표 (주요 옵션값: `1`; 그래프 상단 위치)\n",
    "  - **legend.xanchor**: 범례의 x축 정렬 기준 (주요 옵션값: `\"left\"`; x 좌표 기준 왼쪽 정렬)\n",
    "  - **legend.yanchor**: 범례의 y축 정렬 기준 (주요 옵션값: `\"top\"`; y 좌표 기준 상단 정렬)\n",
    "  - **legend.bordercolor**: 범례 테두리 색상 (주요 옵션값: `\"black\"`)\n",
    "  - **legend.borderwidth**: 범례 테두리 두께 (주요 옵션값: `1`)"
   ]
  },
  {
   "cell_type": "markdown",
   "metadata": {},
   "source": [
    "#### 4.3. x축 (X-Axis) 설정 변경\n",
    "- `fig.update_xaxes()` 메서드를 통해 x축 타이틀, 글꼴, 눈금 간격, 각도 등을 설정합니다."
   ]
  },
  {
   "cell_type": "code",
   "execution_count": null,
   "metadata": {},
   "outputs": [],
   "source": [
    "import plotly.graph_objects as go\n",
    "import numpy as np\n",
    "\n",
    "x_data = np.arange(50)\n",
    "y_data = np.random.rand(50)\n",
    "\n",
    "fig = go.Figure()\n",
    "\n",
    "fig.add_trace(\n",
    "    go.Scatter(\n",
    "        x=x_data,\n",
    "        y=y_data,\n",
    "        mode='lines',\n",
    "        name='선 그래프',\n",
    "        showlegend=True\n",
    "    )\n",
    ")\n",
    "\n",
    "fig.update_layout(title=\"x축 설정 예제\")\n",
    "\n",
    "# x축 설정\n",
    "fig.update_xaxes(\n",
    "    title_text=\"시간 (초)\",\n",
    "    title_font=dict(size=18, color='purple'),\n",
    "    tickangle=45,\n",
    "    dtick=5      # 5단위 간격\n",
    ")\n",
    "\n",
    "fig.show()\n"
   ]
  },
  {
   "cell_type": "markdown",
   "metadata": {},
   "source": [
    "#### 4.4. y축 (Y-Axis) 설정 변경\n",
    "- `fig.update_yaxes()` 메서드를 통해 y축 타이틀, 글꼴, 눈금 라벨, 간격 등을 설정합니다.\n"
   ]
  },
  {
   "cell_type": "code",
   "execution_count": null,
   "metadata": {},
   "outputs": [],
   "source": [
    "import plotly.graph_objects as go\n",
    "import numpy as np\n",
    "\n",
    "x_data = np.arange(50)\n",
    "y_data = np.random.rand(50)\n",
    "\n",
    "fig = go.Figure()\n",
    "\n",
    "fig.add_trace(\n",
    "    go.Scatter(\n",
    "        x=x_data,\n",
    "        y=y_data,\n",
    "        mode='lines',\n",
    "        name='선 그래프',\n",
    "        showlegend=True\n",
    "    )\n",
    ")\n",
    "\n",
    "fig.update_layout(title=\"y축 설정 예제\")\n",
    "\n",
    "# y축 설정\n",
    "fig.update_yaxes(\n",
    "    title_text=\"값\",\n",
    "    title_font=dict(size=18, color='green'),\n",
    "    tickfont=dict(size=12),\n",
    "    dtick=0.1     # 0.1 단위 간격\n",
    ")\n",
    "\n",
    "fig.show()\n"
   ]
  },
  {
   "cell_type": "markdown",
   "metadata": {},
   "source": [
    "### 5. 다양한 그래프 예"
   ]
  },
  {
   "cell_type": "markdown",
   "metadata": {},
   "source": [
    "#### 5.1. 라인 그래프 예"
   ]
  },
  {
   "cell_type": "code",
   "execution_count": null,
   "metadata": {},
   "outputs": [],
   "source": [
    "import pandas as pd\n",
    "import numpy as np\n",
    "import plotly.graph_objects as go\n",
    "\n",
    "# DataFrame 생성: 'A' 열에 50개의 랜덤 데이터를 생성 (0과 1 사이)\n",
    "df = pd.DataFrame({\n",
    "    'A': np.random.rand(50)\n",
    "})\n",
    "\n",
    "fig = go.Figure()\n",
    "\n",
    "# Scatter Trace 추가: x축은 DataFrame의 인덱스, y축은 'A' 열 값\n",
    "fig.add_trace(\n",
    "    go.Scatter(\n",
    "        x=df.index, \n",
    "        y=df['A'],\n",
    "        mode='lines+markers',  # 선과 마커(점)를 함께 표시합니다.\n",
    "        name='A 데이터',         # 범례에 표시될 이름입니다.\n",
    "        showlegend=True\n",
    "    )\n",
    ")\n",
    "\n",
    "# 레이아웃 업데이트: 그래프 제목 및 축 제목 설정\n",
    "fig.update_layout(\n",
    "    title={\n",
    "        \"text\": \"Graph with go.Scatter\",  # 그래프 제목\n",
    "        \"font\": {\"size\": 15}              # 제목 폰트 크기\n",
    "    },\n",
    "    xaxis={\"title\": \"Index\"},             # x축 제목\n",
    "    yaxis={\"title\": \"A\"},                 # y축 제목\n",
    "    showlegend=True                       # 범례를 표시합니다.\n",
    ")\n",
    "\n",
    "fig.show()"
   ]
  },
  {
   "cell_type": "markdown",
   "metadata": {},
   "source": [
    "#### 5.2. 복합 라인(line) 그래프 예"
   ]
  },
  {
   "cell_type": "code",
   "execution_count": null,
   "metadata": {},
   "outputs": [],
   "source": [
    "import pandas as pd\n",
    "import numpy as np\n",
    "import plotly.graph_objects as go\n",
    "\n",
    "# 1. DataFrame 생성\n",
    "# - 인덱스는 기본적으로 0부터 49까지 생성됩니다.\n",
    "# - 'A'와 'B' 열에 각각 0과 1 사이의 균등분포 난수를 할당합니다.\n",
    "df = pd.DataFrame({\n",
    "    'A': np.random.rand(50),\n",
    "    'B': np.random.rand(50)\n",
    "})\n",
    "\n",
    "fig = go.Figure()\n",
    "\n",
    "# 첫 번째 Scatter Trace: B열 데이터를 선(line)으로 표시합니다.\n",
    "fig.add_trace(\n",
    "    go.Scatter(\n",
    "        x=df.index, \n",
    "        y=df['B'], \n",
    "        mode='lines',      # 데이터 포인트를 선으로만 연결하여 표시합니다.\n",
    "        name='B',          # 범례 및 그룹 이름으로 사용됩니다.\n",
    "        showlegend=True \n",
    "    )\n",
    ")\n",
    "\n",
    "# 두 번째 Scatter Trace: A열 데이터를 선, 마커, 텍스트로 표시합니다.\n",
    "fig.add_trace(\n",
    "    go.Scatter(\n",
    "        x=df.index, \n",
    "        y=df['A'], \n",
    "        mode='lines+markers+text',  # 선과 마커, 그리고 텍스트(여기서는 인덱스)를 함께 표시합니다.\n",
    "        name='A',                   # 범례 및 그룹 이름으로 사용됩니다.\n",
    "        showlegend=True, \n",
    "        text=df.index,              # 각 데이터 포인트 위에 인덱스 값을 텍스트로 표시합니다.\n",
    "        textposition='top center'   # 텍스트 위치를 마커 위쪽 중앙으로 설정합니다.\n",
    "    )\n",
    ")\n",
    "\n",
    "fig.show()"
   ]
  },
  {
   "cell_type": "markdown",
   "metadata": {},
   "source": [
    "#### 주요 옵션 설명\n",
    "- **x**: x축 데이터를 지정하는 옵션 (예: `df.index`와 같이 x축에 사용할 값들의 배열이나 리스트)\n",
    "- **y**: y축 데이터를 지정하는 옵션 (예: `df['A']` 또는 `df['B']`와 같이 y축에 사용할 값들의 배열이나 리스트)\n",
    "- **mode**: 데이터 포인트의 표시 방식을 결정 (예:  \n",
    "  - `'lines'`: 선으로만 연결하여 표시  \n",
    "  - `'markers'`: 점(marker)으로만 표시  \n",
    "  - `'text'`: 텍스트만 표시  \n",
    "  - `'lines+markers+text'`: 선, 점, 텍스트를 모두 표시)\n",
    "- **name**: 해당 트레이스의 이름을 지정하는 옵션 (범례와 x축 그룹 이름으로 사용됨; 문자열 값)\n",
    "- **text**: 각 데이터 포인트 위에 추가로 표시할 텍스트를 지정 (예: `df.index`와 같이 각 포인트에 표시할 문자열 배열)\n",
    "- **textposition**: 텍스트의 위치를 지정하는 옵션 (예: `'top center'`로 설정하면, 텍스트가 데이터 포인트 위쪽 중앙에 표시됨)\n",
    "  - **top left**: 데이터 포인트의 상단 왼쪽에 텍스트를 표시  \n",
    "  - **top center**: 데이터 포인트의 상단 중앙에 텍스트를 표시  \n",
    "  - **top right**: 데이터 포인트의 상단 오른쪽에 텍스트를 표시  \n",
    "  - **middle left**: 데이터 포인트의 중간 왼쪽에 텍스트를 표시  \n",
    "  - **middle center**: 데이터 포인트의 중앙에 텍스트를 표시  \n",
    "  - **middle right**: 데이터 포인트의 중간 오른쪽에 텍스트를 표시  \n",
    "  - **bottom left**: 데이터 포인트의 하단 왼쪽에 텍스트를 표시  \n",
    "  - **bottom center**: 데이터 포인트의 하단 중앙에 텍스트를 표시  \n",
    "  - **bottom right**: 데이터 포인트의 하단 오른쪽에 텍스트를 표시"
   ]
  },
  {
   "cell_type": "markdown",
   "metadata": {},
   "source": [
    "#### 5.3. 바(Bar) 그래프 예"
   ]
  },
  {
   "cell_type": "code",
   "execution_count": null,
   "metadata": {},
   "outputs": [],
   "source": [
    "import numpy as np\n",
    "import pandas as pd\n",
    "\n",
    "df = pd.DataFrame(np.random.rand(10, 2), columns=['A', 'B'])\n",
    "\n",
    "fig = go.Figure()\n",
    "fig.add_trace(\n",
    "    go.Bar(\n",
    "        x=df.index, y=df['A'], name='A', text=df['A'], textposition='auto'\n",
    "    )\n",
    ")\n",
    "\n",
    "fig.add_trace(\n",
    "    go.Bar(\n",
    "        x=df.index, y=df['B'], name='B', text=df['B'], textposition='auto'\n",
    "    )\n",
    ")\n",
    "\n",
    "fig.show()"
   ]
  },
  {
   "cell_type": "markdown",
   "metadata": {},
   "source": [
    "#### 주요 옵션 설명\n",
    "- **x**: x축 데이터를 지정하는 옵션  \n",
    "  - **주요 옵션값**: `df.index`  \n",
    "  - **설명**: 막대그래프의 x축에 표시할 데이터 배열이나 리스트를 지정합니다. 여기서는 DataFrame의 인덱스(0부터 9까지)를 사용합니다.\n",
    "\n",
    "- **y**: y축 데이터를 지정하는 옵션  \n",
    "  - **주요 옵션값**: `df['A']`, `df['B']`  \n",
    "  - **설명**: 각 막대의 높이를 결정하는 값들을 지정합니다. DataFrame의 'A' 또는 'B' 열의 데이터를 사용합니다.\n",
    "\n",
    "- **name**: 해당 트레이스(데이터 시리즈)의 이름을 지정하는 옵션  \n",
    "  - **주요 옵션값**: `'A'`, `'B'`  \n",
    "  - **설명**: 범례 및 x축 그룹 이름으로 사용됩니다. 각 데이터 시리즈를 식별하고 구분하는 데 도움을 줍니다.\n",
    "\n",
    "- **text**: 각 막대 위에 추가로 표시할 텍스트를 지정하는 옵션  \n",
    "  - **주요 옵션값**: `df['A']`, `df['B']`  \n",
    "  - **설명**: 각 막대에 해당하는 y값을 텍스트로 표시합니다.\n",
    "\n",
    "- **textposition**: 텍스트의 위치를 지정하는 옵션  \n",
    "  - **주요 옵션값 및 설명**:\n",
    "    - **'auto'**: Plotly가 최적의 위치를 자동으로 선택하여 텍스트를 표시합니다.\n",
    "    - **'inside'**: 텍스트가 막대 내부에 표시됩니다.\n",
    "    - **'outside'**: 텍스트가 막대 외부에 표시됩니다.\n",
    "  - **설명**: 텍스트가 막대에 어떻게 배치될지를 결정하며, 선택한 옵션에 따라 시각적으로 다른 효과를 줍니다."
   ]
  },
  {
   "cell_type": "markdown",
   "metadata": {},
   "source": [
    "### 5.4. 그래프 세부 조정 예"
   ]
  },
  {
   "cell_type": "code",
   "execution_count": null,
   "metadata": {
    "scrolled": true
   },
   "outputs": [],
   "source": [
    "import pandas as pd\n",
    "import numpy as np\n",
    "import plotly.graph_objects as go\n",
    "\n",
    "# 1. DataFrame 생성\n",
    "# - 10행의 데이터 생성 (인덱스: 0~9)\n",
    "# - 'A'와 'B' 열에 각각 10부터 50 사이의 정수 난수를 생성\n",
    "df = pd.DataFrame({\n",
    "    'A': np.random.randint(10, 50, size=10),\n",
    "    'B': np.random.randint(10, 50, size=10)\n",
    "})\n",
    "\n",
    "\n",
    "fig = go.Figure()\n",
    "fig.add_trace(\n",
    "    go.Bar(\n",
    "        x=df.index, y=df['B'], name='B', text=df['B'], textposition='auto', texttemplate='%{y:.2f}'\n",
    "    )\n",
    ")\n",
    "\n",
    "fig.add_trace(\n",
    "    go.Bar(\n",
    "        x=df.index, y=df['A'], name='A', text=df['A'], textposition='auto', texttemplate='%{y:.2f}'\n",
    "    )\n",
    ")\n",
    "\n",
    "fig.update_layout(\n",
    "    {\n",
    "        \"title\": {\n",
    "            \"text\": \"Graph with <b>go.Bar</b>\",\n",
    "            \"x\": 0.5,\n",
    "            \"y\": 0.9,\n",
    "            \"font\": {\n",
    "                \"size\": 20\n",
    "            }\n",
    "        },\n",
    "        \"showlegend\": True,\n",
    "        \"xaxis\": {\n",
    "            \"title\": \"random number\",\n",
    "            \"showticklabels\":True,\n",
    "            \"dtick\": 1\n",
    "            \n",
    "        },\n",
    "        \"yaxis\": {\n",
    "            \"title\": \"A\"\n",
    "        },\n",
    "        \"autosize\":False,\n",
    "        \"width\":800,\n",
    "        \"height\":340\n",
    "        \n",
    "    }\n",
    ")\n",
    "\n",
    "fig.show()"
   ]
  },
  {
   "cell_type": "markdown",
   "metadata": {},
   "source": [
    "#### 참고: np.random.randint(10, 50, size=10) 사용법\n",
    "- 주어진 범위 내에서 랜덤한 정수를 생성합니다.\n",
    "- **최솟값 (10):**  \n",
    "  - 생성할 정수의 시작 값(포함). 여기서는 10 이상이어야 합니다.\n",
    "- **최댓값 (50):**  \n",
    "  - 생성할 정수의 끝 값(미포함). 여기서는 50보다 작은 정수가 생성됩니다.\n",
    "- **size (10):**  \n",
    "  - 생성할 랜덤 정수의 개수를 지정합니다. (예: 10개의 정수를 반환)\n",
    "- **출력:**  \n",
    "  - 길이가 10인 배열이 반환되며, 각 요소는 10 이상 50 미만의 정수입니다."
   ]
  },
  {
   "cell_type": "markdown",
   "metadata": {},
   "source": [
    "#### 주요 옵션 설명\n",
    "- **x**: x축 데이터 (예: `df.index`를 사용하여 DataFrame의 인덱스 값을 x축 위치로 지정)\n",
    "- **y**: y축 데이터 (예: 첫 번째 trace는 `df['B']`, 두 번째 trace는 `df['A']` 값을 사용)\n",
    "- **name**: 데이터 시리즈의 이름 (범례 항목 및 x축 그룹 이름으로 사용; 예: 첫 번째 trace `'A'`, 두 번째 trace `'B'`)\n",
    "- **text**: 각 바 위에 표시할 텍스트 (여기서는 해당 y축 데이터 값이 그대로 표시됨)\n",
    "- **textposition**: 텍스트의 위치 지정 (예: `'auto'`는 자동으로 적절한 위치를 결정)\n",
    "- **texttemplate**: 텍스트 서식 지정 (예: `'%{y:.2f}'`는 y값을 소수점 두 자리까지 포맷하여 표시)\n",
    "  - 이 옵션은 `text`로 표시되는 값의 형식을 세밀하게 조정합니다.  \n",
    "  - **`%{y}`**: 템플릿 변수로, 각 데이터 포인트의 y축 값을 동적으로 삽입합니다.  \n",
    "    - **예시**: `%{x}` (x축 값), `%{text}` (추가 텍스트 값), `%{customdata}` (사용자 지정 데이터)\n",
    "  - **`:.2f`**: 포맷 지정자로, 숫자를 소수점 아래 두 자리까지 표시하도록 변환합니다.  \n",
    "  - **예시**:  \n",
    "    - `d`: 정수를 표시할 때 사용 (예: `%{y:d}`)  \n",
    "    - `.1f`: 소수점 한 자리까지 표시  \n",
    "    - `.3f`: 소수점 세 자리까지 표시\n",
    "  - **`%` 기호**: 템플릿 문자열 내에서 변수 치환을 시작하는 표시자로, Plotly가 해당 위치에 변수 값을 삽입하도록 지시합니다.  \n",
    "    - 파이썬의 포맷 문자열(예: f-string)과 유사한 역할을 합니다.  \n",
    "    - 문자열에서 `%{y}`와 같이 사용하면, 각 데이터 포인트의 y값이 해당 위치에 동적으로 대체됩니다.\n",
    "    - **예시**:  \n",
    "      - `'%{y:.2f}'`는 각 데이터 포인트의 y축 숫자 값을 소수점 두 자리까지 포맷하여 표시합니다.  \n",
    "      - 만약 y값이 12.3456이라면, `12.35`로 표시됩니다.\n",
    "\n",
    "- **title.text**: 그래프 제목 텍스트 (예: `\"Graph with <b>go.Bar</b>\"`)\n",
    "- **title.x**: 제목의 x축 위치 (0에서 1 사이의 값; 0.5는 중앙 정렬)\n",
    "- **title.y**: 제목의 y축 위치 (0에서 1 사이의 값; 0.9는 상단 근처 배치)\n",
    "- **title.font**: 제목의 폰트 스타일 (예: `{\"size\": 20}`은 글자 크기를 20으로 설정)\n",
    "- **showlegend**: 범례 표시 여부 (True이면 범례가 나타남)\n",
    "- **xaxis.title**: x축 제목 (예: `\"random number\"`)\n",
    "- **xaxis.showticklabels**: x축 눈금 라벨 표시 여부 (True이면 눈금에 레이블이 표시됨)\n",
    "- **xaxis.dtick**: x축 눈금 간격 (예: `1`은 눈금 간격을 1씩 설정)\n",
    "- **yaxis.title**: y축 제목 (예: `\"A\"`)\n",
    "- **autosize**: 그래프 자동 크기 조정 여부 (False이면 수동으로 크기를 지정)\n",
    "- **width**: 그래프의 너비 (픽셀 단위; 예: `800`)\n",
    "- **height**: 그래프의 높이 (픽셀 단위; 예: `340`)"
   ]
  },
  {
   "cell_type": "markdown",
   "metadata": {},
   "source": [
    "### 다른 시각화 그래프는 한단계 더 깊게 익히는 데이터 탐색 이론과 함께 보여드립니다.\n",
    "\n",
    "> 모든 그래프를 단지 그리는 방법만 소개해서는 지루해짐"
   ]
  },
  {
   "cell_type": "markdown",
   "metadata": {},
   "source": [
    "<div class=\"alert alert-block\" style=\"border: 2px solid #1976D2;background-color:#E3F2FD;padding:5px;font-size:0.9em;\">\n",
    "본 자료는 저작권법 제25조 2항에 의해 보호를 받습니다. 본 자료를 외부에 공개하지 말아주세요.<br>\n",
    "본 강의만 잘 정리하면, 데이터 분석과 데이터 과학(머신러닝, 인공지능) 모두 가능합니다!<br>\n",
    "<b><a href=\"https://school.fun-coding.org/\">잔재미코딩</a> 에서 본 강의 기반 최적화된 로드맵도 확인하실 수 있습니다</b></div>"
   ]
  }
 ],
 "metadata": {
  "kernelspec": {
   "display_name": "Python 3 (ipykernel)",
   "language": "python",
   "name": "python3"
  },
  "language_info": {
   "codemirror_mode": {
    "name": "ipython",
    "version": 3
   },
   "file_extension": ".py",
   "mimetype": "text/x-python",
   "name": "python",
   "nbconvert_exporter": "python",
   "pygments_lexer": "ipython3",
   "version": "3.12.7"
  }
 },
 "nbformat": 4,
 "nbformat_minor": 4
}
