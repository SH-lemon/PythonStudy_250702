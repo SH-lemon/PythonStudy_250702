{
 "cells": [
  {
   "cell_type": "code",
   "execution_count": 3,
   "id": "8b5887bd-ee2b-4e0e-a051-881d620d7d76",
   "metadata": {},
   "outputs": [],
   "source": [
    "import csv\n",
    "\n",
    "with open(\"00_data/tmp_csv.csv\", \"w\", encoding=\"utf-8-sig\", newline=\"\") as writer_csv:\n",
    "    field_name_list = [\"First Name\", \"Last Name\"]\n",
    "    writer = csv.DictWriter(writer_csv, fieldnames=field_name_list)\n",
    "    writer.writeheader()  # 위 문장에서 선언한 필드명을 실제 csv 파일에 적용하는 함수\n",
    "    \n",
    "    writer.writerow({\"First Name\": \"Dave\", \"Last Name\": \"Lee\"})\n",
    "    writer.writerow({\"First Name\": \"Davie\", \"Last Name\": \"Park\"})\n",
    "    writer.writerow({\"First Name\": \"Robin\", \"Last Name\": \"Kim\"})"
   ]
  },
  {
   "cell_type": "code",
   "execution_count": 4,
   "id": "ca9731c9-33b9-4abd-b661-4370e0bb6848",
   "metadata": {},
   "outputs": [
    {
     "name": "stdout",
     "output_type": "stream",
     "text": [
      "Dave Lee\n",
      "Davie Park\n",
      "Robin Kim\n"
     ]
    }
   ],
   "source": [
    "import csv\n",
    "\n",
    "with open(\"00_data/tmp_csv.csv\", \"r\", encoding=\"utf-8-sig\", newline=\"\") as reader_csv:\n",
    "    reader = csv.DictReader(reader_csv)\n",
    "    for row in reader :\n",
    "        print(row[\"First Name\"], row[\"Last Name\"])"
   ]
  },
  {
   "cell_type": "code",
   "execution_count": 6,
   "id": "c4de950f-afb1-43a7-bf17-5842cb8cfb3f",
   "metadata": {},
   "outputs": [
    {
     "name": "stdout",
     "output_type": "stream",
     "text": [
      "이름: 잔재미코딩\n",
      "이름: Dave Lee\n",
      "<user rank=\"1\">\n",
      "<name>잔재미코딩</name>\n",
      "<age>30</age>\n",
      "</user>\n"
     ]
    }
   ],
   "source": [
    "from bs4 import BeautifulSoup\n",
    "\n",
    "data_file = open(\"00_data/users.xml\", \"r\", encoding=\"utf-8-sig\")\n",
    "soup = BeautifulSoup(data_file, \"xml\")\n",
    "\n",
    "users = soup.select(\"user\")\n",
    "# 해당 문서 안의 동일한 태그를 모두 찾아와서 리스트 형태의 타입\n",
    "# users = soup.select_one(\"user\") ==> 해당 문서 안에서 가장 첫번째로 검색된 태그만 찾아서 리스트 형태의 타입\n",
    "person = soup.select_one(\"user\")\n",
    "for user in users :\n",
    "    print(f\"이름: {user.select_one(\"name\").text}\")\n",
    "print(person)"
   ]
  },
  {
   "cell_type": "code",
   "execution_count": 9,
   "id": "11eabf7a-e0d4-430e-8199-2c7d99feb2b4",
   "metadata": {},
   "outputs": [
    {
     "name": "stdout",
     "output_type": "stream",
     "text": [
      "ai\n",
      "airbnb\n",
      "ai studio\n",
      "ai 검사기\n",
      "ai스튜디오\n",
      "ai 얼굴평가\n",
      "ai디지털교과서\n",
      "ai 이미지 생성\n",
      "ai모드\n",
      "ai 채팅\n"
     ]
    }
   ],
   "source": [
    "import requests\n",
    "from bs4 import BeautifulSoup\n",
    "\n",
    "keyword = \"ai\"\n",
    "google_related_keyword_api = f\"https://suggestqueries.google.com/complete/search?output=toolbar&q={keyword}\"\n",
    "\n",
    "response = requests.get(google_related_keyword_api)\n",
    "soup = BeautifulSoup(response.content, \"xml\")\n",
    "\n",
    "dataxml = soup.select(\"suggestion\")\n",
    "for d in dataxml:\n",
    "    print(d.get(\"data\"))"
   ]
  },
  {
   "cell_type": "code",
   "execution_count": 14,
   "id": "9aaca08f-6e09-45d2-97d6-f905d7165b06",
   "metadata": {},
   "outputs": [
    {
     "name": "stdout",
     "output_type": "stream",
     "text": [
      "{'id': '01', 'language': 'python', 'edition': 'third', 'author': 'David'}\n",
      "python\n"
     ]
    }
   ],
   "source": [
    "import json\n",
    "\n",
    "data = '{\"id\": \"01\", \"language\": \"python\", \"edition\": \"third\", \"author\": \"David\"}'\n",
    "\n",
    "jsondata = json.loads(data)\n",
    "print(jsondata)\n",
    "print(jsondata[\"language\"])"
   ]
  },
  {
   "cell_type": "code",
   "execution_count": 24,
   "id": "f0dfc8dc-db96-4325-afe4-5993f25e7f80",
   "metadata": {},
   "outputs": [
    {
     "name": "stdout",
     "output_type": "stream",
     "text": [
      "{'id': '01', 'language': 'python', 'edition': 'third', 'author': 'David'} <class 'dict'>\n",
      "{\n",
      "  \"id\": \"01\",\n",
      "  \"language\": \"python\",\n",
      "  \"edition\": \"third\",\n",
      "  \"author\": \"David\"\n",
      "} <class 'str'>\n"
     ]
    }
   ],
   "source": [
    "import json\n",
    "\n",
    "data = '{\"id\": \"01\", \"language\": \"python\", \"edition\": \"third\", \"author\": \"David\"}'\n",
    "\n",
    "# 문자열을 파이썬 객체로 변환\n",
    "jsondata01 = json.loads(data)\n",
    "print(jsondata01, type(jsondata01))\n",
    "# {'id': '01', 'language': 'python', 'edition': 'third', 'author': 'David'} <class 'dict'>\n",
    "\n",
    "# 파이썬 객체를 다시 JSON 문자열로 변환 (pretty print)\n",
    "# dumps는 loads와 달리 문자열 처리를 따로 해주지 않아도 됨\n",
    "jsondata02 = json.dumps(jsondata01, indent=2)\n",
    "print(jsondata02, type(jsondata02))"
   ]
  },
  {
   "cell_type": "code",
   "execution_count": 29,
   "id": "b0e32eda-963e-44a8-be19-fe423607988b",
   "metadata": {},
   "outputs": [],
   "source": [
    "import json\n",
    "\n",
    "data = {\"id\": \"01\", \"language\": \"python\", \"edition\": \"third\", \"author\": \"Dave\"}\n",
    "data[\"language\"] = [\"python\", \"Java\"]\n",
    "\n",
    "with open (\"00_data/test.json\", \"w\", encoding=\"utf-8-sig\") as json_file :\n",
    "    json_string = json.dump(data, json_file, indent=2)"
   ]
  },
  {
   "cell_type": "code",
   "execution_count": 35,
   "id": "1912552a-dd8f-422f-a12a-3e1019b33075",
   "metadata": {},
   "outputs": [
    {
     "name": "stdout",
     "output_type": "stream",
     "text": [
      "dict_keys(['kind', 'etag', 'items'])\n",
      "youtube#videoCategory Film & Animation\n",
      "youtube#videoCategory Autos & Vehicles\n",
      "youtube#videoCategory Music\n",
      "youtube#videoCategory Pets & Animals\n",
      "youtube#videoCategory Sports\n",
      "youtube#videoCategory Short Movies\n",
      "youtube#videoCategory Travel & Events\n",
      "youtube#videoCategory Gaming\n",
      "youtube#videoCategory Videoblogging\n",
      "youtube#videoCategory People & Blogs\n",
      "youtube#videoCategory Comedy\n",
      "youtube#videoCategory Entertainment\n",
      "youtube#videoCategory News & Politics\n",
      "youtube#videoCategory Howto & Style\n",
      "youtube#videoCategory Education\n",
      "youtube#videoCategory Science & Technology\n",
      "youtube#videoCategory Nonprofits & Activism\n",
      "youtube#videoCategory Movies\n",
      "youtube#videoCategory Anime/Animation\n",
      "youtube#videoCategory Action/Adventure\n",
      "youtube#videoCategory Classics\n",
      "youtube#videoCategory Comedy\n",
      "youtube#videoCategory Documentary\n",
      "youtube#videoCategory Drama\n",
      "youtube#videoCategory Family\n",
      "youtube#videoCategory Foreign\n",
      "youtube#videoCategory Horror\n",
      "youtube#videoCategory Sci-Fi/Fantasy\n",
      "youtube#videoCategory Thriller\n",
      "youtube#videoCategory Shorts\n",
      "youtube#videoCategory Shows\n",
      "youtube#videoCategory Trailers\n"
     ]
    }
   ],
   "source": [
    "import json\n",
    "\n",
    "with open(\"00_data/US_category_id.json\", \"r\", encoding=\"utf-8-sig\") as json_file:\n",
    "    json_data = json.load(json_file)\n",
    "    # 로컬 컴퓨터의 json 파일을 열 때 load\n",
    "    print(json_data.keys())\n",
    "    for item in json_data[\"items\"] :\n",
    "        print(item[\"kind\"], item[\"snippet\"][\"title\"])\n",
    "    # 온점 표기법 말고 대괄호 사용할 것"
   ]
  }
 ],
 "metadata": {
  "kernelspec": {
   "display_name": "Python [conda env:base] *",
   "language": "python",
   "name": "conda-base-py"
  },
  "language_info": {
   "codemirror_mode": {
    "name": "ipython",
    "version": 3
   },
   "file_extension": ".py",
   "mimetype": "text/x-python",
   "name": "python",
   "nbconvert_exporter": "python",
   "pygments_lexer": "ipython3",
   "version": "3.13.5"
  }
 },
 "nbformat": 4,
 "nbformat_minor": 5
}
