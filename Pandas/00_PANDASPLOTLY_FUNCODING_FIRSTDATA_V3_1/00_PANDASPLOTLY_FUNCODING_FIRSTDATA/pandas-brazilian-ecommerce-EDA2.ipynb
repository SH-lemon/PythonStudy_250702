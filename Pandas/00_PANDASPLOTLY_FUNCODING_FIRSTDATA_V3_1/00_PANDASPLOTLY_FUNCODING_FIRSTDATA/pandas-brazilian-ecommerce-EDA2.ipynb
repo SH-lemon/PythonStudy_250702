{
 "cells": [
  {
   "cell_type": "markdown",
   "metadata": {},
   "source": [
    "<div class=\"alert alert-block\" style=\"border: 2px solid #1976D2;background-color:#E3F2FD;padding:5px;font-size:0.9em;\">\n",
    "본 자료는 저작권법 제25조 2항에 의해 보호를 받습니다. 본 자료를 외부에 공개하지 말아주세요.<br>\n",
    "본 강의만 잘 정리하면, 데이터 분석과 데이터 과학(머신러닝, 인공지능) 모두 가능합니다!<br>\n",
    "<b><a href=\"https://school.fun-coding.org/\">잔재미코딩</a> 에서 본 강의 기반 최적화된 로드맵도 확인하실 수 있습니다</b></div>"
   ]
  },
  {
   "cell_type": "markdown",
   "metadata": {},
   "source": [
    "### pandas 라이브러리와 탐색적 데이터 분석 과정 익히기\n",
    "\n",
    "> 다양한 데이터 분석 케이스를 통해 데이터 분석과 pandas 라이브러리 활용에 대해 익히보기로 합니다."
   ]
  },
  {
   "cell_type": "markdown",
   "metadata": {},
   "source": [
    "<div class=\"alert alert-block\" style=\"border: 1px solid #FFB300;background-color:#F9FBE7;\">\n",
    "<font size=\"3em\" style=\"font-weight:bold;color:#3f8dbf;\">탐색적 데이터 분석: 1. 데이터의 출처와 주제에 대해 이해</font><br>\n",
    "\n",
    "### 전체 판매 프로세스\n",
    "1. 해당 쇼핑몰에 중소업체가 계약을 맺고\n",
    "2. 중소업체가 해당 쇼핑몰에 직접 상품을 올리고\n",
    "2. 고객이 구매하면, 중소업체가 Olist가 제공하는 물류 파트너를 활용해서 배송을 하고,\n",
    "3. 고객이 상품을 받으면, 고객에게 이메일 survey 가 전송되고,\n",
    "4. 고객이 이메일 survey 에 별점과 커멘트를 남겨서 제출하게 됨\n",
    "    \n",
    "### 데이터 출처\n",
    "- 브라질에서 가장 큰 백화점의 이커머스 쇼핑몰 (https://olist.com/)\n",
    "  - 2016년도부터 2018년도 9월까지의 100k 개의 구매 데이터 정보\n",
    "  - 구매 상태, 가격, 지불수단, 물류 관련, 리뷰관련, 상품 정보, 구매자 지역 관련 정보\n",
    "\n",
    "### 주요 질문(탐색하고자 하는 질문 리스트)\n",
    "- **얼마나 많은 고객이 있는가?** \n",
    "- **고객은 어디에 주로 사는가?** \n",
    "- **고객은 주로 어떤 지불방법을 사용하는가?**\n",
    "- 평균 거래액은 얼마일까?\n",
    "- 일별, 주별, 월별 판매 트렌드는?\n",
    "- 어떤 카테고리가 가장 많은 상품이 팔렸을까?\n",
    "</div>"
   ]
  },
  {
   "cell_type": "markdown",
   "metadata": {},
   "source": [
    "### 1. 얼마나 많은 고객이 있는가?"
   ]
  },
  {
   "cell_type": "code",
   "execution_count": null,
   "metadata": {},
   "outputs": [],
   "source": [
    "import pandas as pd\n",
    "PATH = \"00_data/\""
   ]
  },
  {
   "cell_type": "code",
   "execution_count": null,
   "metadata": {},
   "outputs": [],
   "source": [
    "products = pd.read_csv(PATH + \"olist_products_dataset.csv\", encoding='utf-8-sig')\n",
    "customers = pd.read_csv(PATH + \"olist_customers_dataset.csv\", encoding='utf-8-sig')\n",
    "geolocation = pd.read_csv(PATH + \"olist_geolocation_dataset.csv\", encoding='utf-8-sig')\n",
    "order_items = pd.read_csv(PATH + \"olist_order_items_dataset.csv\", encoding='utf-8-sig')\n",
    "payments = pd.read_csv(PATH + \"olist_order_payments_dataset.csv\", encoding='utf-8-sig')\n",
    "reviews = pd.read_csv(PATH + \"olist_order_reviews_dataset.csv\", encoding='utf-8-sig')\n",
    "orders = pd.read_csv(PATH + \"olist_orders_dataset.csv\", encoding='utf-8-sig')\n",
    "sellers = pd.read_csv(PATH + \"olist_sellers_dataset.csv\", encoding='utf-8-sig')\n",
    "category_name = pd.read_csv(PATH + \"product_category_name_translation.csv\", encoding='utf-8-sig')"
   ]
  },
  {
   "cell_type": "code",
   "execution_count": null,
   "metadata": {},
   "outputs": [],
   "source": [
    "customers.head()"
   ]
  },
  {
   "cell_type": "code",
   "execution_count": null,
   "metadata": {},
   "outputs": [],
   "source": [
    "customers.info()"
   ]
  },
  {
   "cell_type": "markdown",
   "metadata": {},
   "source": [
    "- value_counts(): 각각의 값이 전체 Series 에서 각각 몇 개가 있는지를 알려줌"
   ]
  },
  {
   "cell_type": "code",
   "execution_count": null,
   "metadata": {},
   "outputs": [],
   "source": [
    "customers['customer_unique_id'].value_counts().max()"
   ]
  },
  {
   "cell_type": "code",
   "execution_count": null,
   "metadata": {},
   "outputs": [],
   "source": [
    "customers['customer_id'].value_counts().max()"
   ]
  },
  {
   "cell_type": "markdown",
   "metadata": {},
   "source": [
    "- nunique(): unique 한 값의 갯수를 알려줌"
   ]
  },
  {
   "cell_type": "code",
   "execution_count": null,
   "metadata": {},
   "outputs": [],
   "source": [
    "customers['customer_id'].nunique()"
   ]
  },
  {
   "cell_type": "code",
   "execution_count": null,
   "metadata": {},
   "outputs": [],
   "source": [
    "customers['customer_unique_id'].nunique()"
   ]
  },
  {
   "cell_type": "markdown",
   "metadata": {},
   "source": [
    "- **customer_unique_id**  \n",
    "  - **의미**: 실제 한 명의 고객을 고유하게 식별하기 위한 값입니다.  \n",
    "  - **특징**: 고객이 여러 번 주문하거나 다른 주소(예: 배송지, 청구지)로 주문할 때도 동일한 고객임을 나타내기 위해 같은 customer_unique_id를 갖습니다.\n",
    "\n",
    "- **customer_id**  \n",
    "  - **의미**: 고객 정보가 기록될 때 부여되는 개별 식별자입니다.  \n",
    "  - **특징**: 한 사람이 여러 번 주문하거나 주소 정보가 달라질 경우, 여러 개의 customer_id가 생성될 수 있습니다. 즉, 동일한 고객이더라도 주문마다 또는 주소마다 다른 customer_id를 가질 수 있습니다."
   ]
  },
  {
   "cell_type": "markdown",
   "metadata": {},
   "source": [
    "<div class=\"alert alert-block\" style=\"border: 1px solid #FFB300;background-color:#F9FBE7;\">\n",
    "<font size=\"3em\" style=\"font-weight:bold;color:#3f8dbf;\">고객 분석1:</font><br>\n",
    "customer_unique_id 를 기준으로 하면, 실제 고객 수는 96096 으로 볼 수 있음\n",
    "</div>"
   ]
  },
  {
   "cell_type": "markdown",
   "metadata": {},
   "source": [
    "### 2. 고객은 어디에 주로 사는가?"
   ]
  },
  {
   "cell_type": "code",
   "execution_count": null,
   "metadata": {},
   "outputs": [],
   "source": [
    "customers.head()"
   ]
  },
  {
   "cell_type": "code",
   "execution_count": null,
   "metadata": {},
   "outputs": [],
   "source": [
    "# 각 도시(customer_city)별로 그룹화하고,\n",
    "# 각 그룹 내에서 고유한 고객(customer_unique_id)의 개수를 계산한 후,\n",
    "# 계산된 고유 고객 수를 내림차순(가장 많은 도시 순)으로 정렬합니다.\n",
    "customers_location = (\n",
    "    customers.groupby('customer_city')['customer_unique_id']  # 'customer_city'를 기준으로 그룹을 만들고, \n",
    "                                                              # 각 그룹에서 'customer_unique_id' 열만 선택합니다.\n",
    "    .nunique()                                               # 각 그룹에서 고유한 customer_unique_id의 개수를 계산합니다.\n",
    "    .sort_values(ascending=False)                            # 계산된 고유 고객 수를 내림차순으로 정렬합니다.\n",
    ")\n",
    "# 상위 20개 도시의 결과를 출력합니다.\n",
    "customers_location.head(20)"
   ]
  },
  {
   "cell_type": "markdown",
   "metadata": {},
   "source": [
    "#### 참고: 메서드 체이닝(Method Chaining)\n",
    "메서드 체이닝은 하나의 객체에 대해 여러 메서드를 연속해서 호출하는 기법입니다.  \n",
    "각 메서드는 자신의 결과를 반환하여 다음 메서드의 입력으로 사용되므로, 중간 변수 없이 여러 작업을 한 줄에 연결할 수 있습니다.\n",
    "예를 들어, 아래 코드는 고객 데이터를 도시별로 그룹화하고, 각 도시에서 고유 고객 수를 계산한 후 내림차순으로 정렬하는 과정을 메서드 체이닝을 사용해 한 줄로 작성한 것입니다:\n",
    "\n",
    "```python\n",
    "customers_location = customers.groupby('customer_city')['customer_unique_id'].nunique().sort_values(ascending=False)\n",
    "```\n",
    "\n",
    "코드가 길어지거나 가독성을 위해 여러 줄로 작성하고 싶을 때는 두 가지 방법을 사용할 수 있습니다.\n",
    "\n",
    "1. **백슬래시(`\\`) 사용:**  \n",
    "   각 줄 끝에 백슬래시를 붙여 \"다음 줄도 이어진다\"는 것을 명시합니다.\n",
    "   ```python\n",
    "   customers_location = customers.groupby('customer_city')['customer_unique_id']\\\n",
    "                                   .nunique()\\\n",
    "                                   .sort_values(ascending=False)\n",
    "   ```\n",
    "\n",
    "2. **괄호 사용:**  \n",
    "   전체 표현식을 소괄호 `()`로 감싸면, 백슬래시 없이도 여러 줄에 걸쳐 코드를 작성할 수 있습니다.\n",
    "   ```python\n",
    "   customers_location = (\n",
    "       customers.groupby('customer_city')['customer_unique_id']\n",
    "       .nunique()\n",
    "       .sort_values(ascending=False)\n",
    "   )\n",
    "   ```\n",
    "\n",
    "두 방법 모두 동일한 결과를 산출하지만, 괄호를 사용하는 방식은 가독성이 좋고 실수(예: 백슬래시 누락)를 줄일 수 있어 권장됩니다."
   ]
  },
  {
   "cell_type": "code",
   "execution_count": null,
   "metadata": {},
   "outputs": [],
   "source": [
    "import plotly.express as px\n",
    "\n",
    "# customers_location: 인덱스에 도시 이름, 값에 고객 수를 가진 Series\n",
    "fig = px.bar(\n",
    "    x=customers_location.index,    # x축에 도시 이름 (Series의 인덱스)\n",
    "    y=customers_location.values,   # y축에 고객 수 (Series의 값)\n",
    "    title=\"Number of Customers by City\",  # 그래프 제목\n",
    "    labels={'x': 'City', 'y': 'Number of Customers'}  # 축 레이블 지정\n",
    ")\n",
    "\n",
    "# 긴 도시 이름이 겹치지 않도록 x축 라벨 각도 조정\n",
    "fig.update_layout(xaxis_tickangle=-45)\n",
    "\n",
    "# 그래프 출력\n",
    "fig.show()"
   ]
  },
  {
   "cell_type": "markdown",
   "metadata": {},
   "source": [
    "<div class=\"alert alert-block\" style=\"border: 1px solid #FFB300;background-color:#F9FBE7;\">\n",
    "<font size=\"3em\" style=\"font-weight:bold;color:#3f8dbf;\">고객 분석2: 고객이 주로 사는 지역 TOP 20</font><br>\n",
    "</div>"
   ]
  },
  {
   "cell_type": "code",
   "execution_count": null,
   "metadata": {},
   "outputs": [],
   "source": [
    "customers_location_top20 = customers_location.head(20)"
   ]
  },
  {
   "cell_type": "code",
   "execution_count": null,
   "metadata": {},
   "outputs": [],
   "source": [
    "import plotly.express as px\n",
    "\n",
    "# customers_location: 인덱스에 도시 이름, 값에 고객 수를 가진 Series\n",
    "fig = px.bar(\n",
    "    x=customers_location_top20.index,    # x축에 도시 이름 (Series의 인덱스)\n",
    "    y=customers_location_top20.values,   # y축에 고객 수 (Series의 값)\n",
    "    title=\"Number of Customers by City\",  # 그래프 제목\n",
    "    labels={'x': 'City', 'y': 'Number of Customers'}  # 축 레이블 지정\n",
    ")\n",
    "\n",
    "# 긴 도시 이름이 겹치지 않도록 x축 라벨 각도 조정\n",
    "fig.update_layout(xaxis_tickangle=-45)\n",
    "\n",
    "# 그래프 출력\n",
    "fig.show()"
   ]
  },
  {
   "cell_type": "code",
   "execution_count": null,
   "metadata": {},
   "outputs": [],
   "source": [
    "customers_location_top20"
   ]
  },
  {
   "cell_type": "code",
   "execution_count": null,
   "metadata": {},
   "outputs": [],
   "source": [
    "top20_customer_locations = customers_location_top20.index\n",
    "top20_customer_locations"
   ]
  },
  {
   "cell_type": "code",
   "execution_count": null,
   "metadata": {},
   "outputs": [],
   "source": [
    "# top20_customer_locations를 리스트로 변환한 후, enumerate() 함수를 사용하여\n",
    "# 각 요소와 해당 요소의 인덱스를 동시에 가져옵니다.\n",
    "for index, location in enumerate(list(top20_customer_locations)):\n",
    "    # index: 현재 요소의 인덱스 (0부터 시작)\n",
    "    # location: 리스트의 현재 요소 (예: 도시 이름)\n",
    "    # print() 함수는 문자열을 출력하며, index + 1을 통해 순위를 1부터 표시합니다.\n",
    "    print(\"TOP\", index + 1, \":\", location)"
   ]
  },
  {
   "cell_type": "markdown",
   "metadata": {},
   "source": [
    "<div class=\"alert alert-block\" style=\"border: 1px solid #FFB300;background-color:#F9FBE7;\">\n",
    "<font size=\"3em\" style=\"font-weight:bold;color:#3f8dbf;\">고객 분석3: 고객은 주로 어떤 지불방법을 사용할까?</font><br>\n",
    "</div>"
   ]
  },
  {
   "cell_type": "code",
   "execution_count": null,
   "metadata": {},
   "outputs": [],
   "source": [
    "payments.head()"
   ]
  },
  {
   "cell_type": "markdown",
   "metadata": {},
   "source": [
    "#### 없는 데이터 확인하기\n",
    "- isnull().sum() 사용"
   ]
  },
  {
   "cell_type": "code",
   "execution_count": null,
   "metadata": {},
   "outputs": [],
   "source": [
    "payments.isnull().sum()"
   ]
  },
  {
   "cell_type": "markdown",
   "metadata": {},
   "source": [
    "#### unique 한 값 확인하기\n",
    "- unique() 사용"
   ]
  },
  {
   "cell_type": "code",
   "execution_count": null,
   "metadata": {},
   "outputs": [],
   "source": [
    "payments['payment_type'].unique()"
   ]
  },
  {
   "cell_type": "markdown",
   "metadata": {},
   "source": [
    "#### 특정 값을 가진 행 삭제하기"
   ]
  },
  {
   "cell_type": "code",
   "execution_count": null,
   "metadata": {},
   "outputs": [],
   "source": [
    "payments = payments[payments['payment_type'] != 'not_defined']"
   ]
  },
  {
   "cell_type": "code",
   "execution_count": null,
   "metadata": {},
   "outputs": [],
   "source": [
    "payments['payment_type'].unique()"
   ]
  },
  {
   "cell_type": "code",
   "execution_count": null,
   "metadata": {},
   "outputs": [],
   "source": [
    "# payments DataFrame에서 'payment_type' 열을 기준으로 데이터를 그룹화합니다.\n",
    "# 각 그룹에서 'order_id' 열의 고유한 값(nunique)을 계산합니다.\n",
    "# 계산된 결과를 내림차순으로 정렬합니다.\n",
    "payment_type_count = payments.groupby('payment_type')['order_id'].nunique().sort_values(ascending=False)"
   ]
  },
  {
   "cell_type": "code",
   "execution_count": null,
   "metadata": {},
   "outputs": [],
   "source": [
    "payment_type_count"
   ]
  },
  {
   "cell_type": "code",
   "execution_count": null,
   "metadata": {},
   "outputs": [],
   "source": [
    "import plotly.express as px\n",
    "\n",
    "fig = px.bar(\n",
    "    x=payment_type_count.index,       # x축에 결제 유형 (Series의 인덱스)\n",
    "    y=payment_type_count.values,      # y축에 주문 수 (Series의 값)\n",
    "    title=\"Payment Type Count\",       # 그래프 제목\n",
    "    labels={'x': 'Payment Type', 'y': 'Order Count'}  # 축 레이블 지정\n",
    ")\n",
    "\n",
    "# 그래프 출력\n",
    "fig.show()"
   ]
  },
  {
   "cell_type": "code",
   "execution_count": null,
   "metadata": {},
   "outputs": [],
   "source": [
    "payment_type_count"
   ]
  },
  {
   "cell_type": "code",
   "execution_count": null,
   "metadata": {},
   "outputs": [],
   "source": [
    "import plotly.graph_objects as go\n",
    "\n",
    "fig = go.Figure()\n",
    "fig.add_trace(\n",
    "    go.Pie(    \n",
    "        labels=payment_type_count.index, values=payment_type_count.values\n",
    "    )\n",
    ")\n",
    "\n",
    "fig.update_layout(\n",
    "    {\n",
    "        \"title\": {\n",
    "            \"text\": \"Payment Type Analysis\",\n",
    "            \"font\": {\n",
    "                \"size\": 15\n",
    "            }\n",
    "        },\n",
    "        \"showlegend\": True\n",
    "    }\n",
    ")\n",
    "\n",
    "fig.show()"
   ]
  },
  {
   "cell_type": "markdown",
   "metadata": {},
   "source": [
    "### 그래프 세부 조정\n",
    "- 각 필드 확인: https://plotly.com/python/reference/"
   ]
  },
  {
   "cell_type": "code",
   "execution_count": null,
   "metadata": {},
   "outputs": [],
   "source": [
    "import plotly.graph_objects as go\n",
    "\n",
    "fig = go.Figure()\n",
    "fig.add_trace(\n",
    "    go.Pie(    \n",
    "        labels=payment_type_count.index, values=payment_type_count.values,\n",
    "        textinfo='label+percent', insidetextorientation='horizontal'\n",
    "    )\n",
    ")\n",
    "\n",
    "fig.update_layout(\n",
    "    {\n",
    "        \"title\": {\n",
    "            \"text\": \"Payment Type Analysis\",\n",
    "            \"x\": 0.5,\n",
    "            \"y\": 0.9,\n",
    "            \"font\": {\n",
    "                \"size\": 15\n",
    "            }\n",
    "        },\n",
    "        \"showlegend\": True\n",
    "    }\n",
    ")\n",
    "\n",
    "fig.show()"
   ]
  },
  {
   "cell_type": "markdown",
   "metadata": {},
   "source": [
    "<div class=\"alert alert-block\" style=\"border: 2px solid #1976D2;background-color:#E3F2FD;padding:5px;font-size:0.9em;\">\n",
    "본 자료는 저작권법 제25조 2항에 의해 보호를 받습니다. 본 자료를 외부에 공개하지 말아주세요.<br>\n",
    "본 강의만 잘 정리하면, 데이터 분석과 데이터 과학(머신러닝, 인공지능) 모두 가능합니다!<br>\n",
    "<b><a href=\"https://school.fun-coding.org/\">잔재미코딩</a> 에서 본 강의 기반 최적화된 로드맵도 확인하실 수 있습니다</b></div>"
   ]
  }
 ],
 "metadata": {
  "kernelspec": {
   "display_name": "Python 3 (ipykernel)",
   "language": "python",
   "name": "python3"
  },
  "language_info": {
   "codemirror_mode": {
    "name": "ipython",
    "version": 3
   },
   "file_extension": ".py",
   "mimetype": "text/x-python",
   "name": "python",
   "nbconvert_exporter": "python",
   "pygments_lexer": "ipython3",
   "version": "3.12.7"
  }
 },
 "nbformat": 4,
 "nbformat_minor": 4
}
