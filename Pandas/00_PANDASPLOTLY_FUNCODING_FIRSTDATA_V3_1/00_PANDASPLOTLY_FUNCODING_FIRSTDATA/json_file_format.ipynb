{
 "cells": [
  {
   "cell_type": "markdown",
   "metadata": {},
   "source": [
    "<div class=\"alert alert-block\" style=\"border: 2px solid #1976D2;background-color:#E3F2FD;padding:5px;font-size:0.9em;\">\n",
    "본 자료는 저작권법 제25조 2항에 의해 보호를 받습니다. 본 자료를 외부에 공개하지 말아주세요.<br>\n",
    "본 강의만 잘 정리하면, 데이터 분석과 데이터 과학(머신러닝, 인공지능) 모두 가능합니다!<br>\n",
    "<b><a href=\"https://school.fun-coding.org/\">잔재미코딩</a> 에서 본 강의 기반 최적화된 로드맵도 확인하실 수 있습니다</b></div>"
   ]
  },
  {
   "cell_type": "markdown",
   "metadata": {},
   "source": [
    "<div class=\"alert alert-block\" style=\"border: 2px solid #1976D2;background-color:#E3F2FD;padding:5px;font-size:0.9em;\">\n",
    "제 유투브 채널로 본 강의를 포함한 데이터 전과정 로드맵과 관련 커리어를 이해할 수 있는 영상도 참고로 확인해보시면<br> \n",
    "학습하시는데 큰 그림을 이해하실 수 있으실꺼예요. (괜찮으시면 구독과 좋아요도 부탁드립니다. ㅎ)<br>\n",
    "<b>- 데이터, AI 커리어와 데이터 전과정 학습 방법 완벽 가이드: <a href=\"https://youtu.be/vsoAyh4D-zw\">https://youtu.be/vsoAyh4D-zw</a>\n",
    "</div>"
   ]
  },
  {
   "cell_type": "markdown",
   "metadata": {},
   "source": [
    "## 4. 다양한 데이터 포멧 이해하기: JSON"
   ]
  },
  {
   "cell_type": "markdown",
   "metadata": {},
   "source": [
    "### 4.1. JSON 데이터 포멧 이해하기\n",
    " - **J**avaScript **Ob**ject **N**otation 줄임말\n",
    " - JSON은 서버와 클라이언트 또는 컴퓨터/프로그램 사이에 데이터를 주고 받을 때 사용하는 데이터 포멧\n",
    " - 키와 값을 괄호와 세미콜론과 같이 간단한 기호로 구성하여 표현할 수 있고, 언어나 운영체제에 구애받지 않기 때문에 많이 사용됨\n",
    " - 특히 웹/앱 환경에서 Rest API를 사용하여, 서버와 클라이언트 사이에 데이터를 주고 받을때 많이 사용\n",
    " - JSON 포멧 예 <br>\n",
    " { \"id\":\"01\", \"language\": \"Java\", \"edition\": \"third\", \"author\": \"Herbert Schildt\" }"
   ]
  },
  {
   "cell_type": "markdown",
   "metadata": {
    "collapsed": true,
    "jupyter": {
     "outputs_hidden": true
    }
   },
   "source": [
    "### 4.2. JSON 데이터 포멧 읽기\n",
    "- json 라이브러리 제공\n",
    "\n",
    "#### json.loads() 함수로 문자열로된 json 데이터를 사전처럼 다룰 수 있음"
   ]
  },
  {
   "cell_type": "code",
   "execution_count": null,
   "metadata": {},
   "outputs": [],
   "source": [
    "import json # pip install json"
   ]
  },
  {
   "cell_type": "code",
   "execution_count": null,
   "metadata": {},
   "outputs": [],
   "source": [
    "import json\n",
    "\n",
    "# 변수에 문자열로 된 JSON 포멧의 데이터가 있을 경우\n",
    "data = '{ \"id\":\"01\", \"language\": \"Java\", \"edition\": \"third\", \"author\": \"Herbert Schildt\" }' \n",
    "\n",
    "jsondata = json.loads(data)\n",
    "print (jsondata['id'], jsondata['language'], jsondata['edition'], jsondata['author'], type(jsondata))"
   ]
  },
  {
   "cell_type": "markdown",
   "metadata": {},
   "source": [
    "#### json.dumps() 함수로 파이썬 사전 데이터를 JSON 문자열 데이터로 변환할 수 있음"
   ]
  },
  {
   "cell_type": "code",
   "execution_count": null,
   "metadata": {},
   "outputs": [],
   "source": [
    "import json\n",
    "\n",
    "# 변수에 문자열로 된 JSON 포멧의 데이터가 있을 경우\n",
    "data = { \"id\":\"01\", \"language\": {\"Java\":\"basic\", \"Java\":\"advance\"}, \"edition\": \"third\", \"author\": \"Herbert Schildt\" }\n",
    "\n",
    "jsondata = json.dumps(data)\n",
    "print (jsondata, type(jsondata))\n",
    "jsondata = json.dumps(data, indent=2) # 들여쓰기\n",
    "print (jsondata, type(jsondata))"
   ]
  },
  {
   "cell_type": "markdown",
   "metadata": {},
   "source": [
    "#### json.dump() 함수로 파이썬 사전 데이터를 파일로 쓰기"
   ]
  },
  {
   "cell_type": "code",
   "execution_count": null,
   "metadata": {},
   "outputs": [],
   "source": [
    "import json\n",
    "\n",
    "# 변수에 문자열로 된 JSON 포멧의 데이터가 있을 경우\n",
    "data = { \"id\":\"01\", \"language\": \"Java\", \"edition\": \"third\", \"author\": \"Herbert Schildt\" }\n",
    "data['language'] = ['Java', 'C']\n",
    "\n",
    "with open('00_data/test.json', 'w', encoding='utf-8-sig') as json_file:\n",
    "    json_string = json.dump(data, json_file, indent=2)"
   ]
  },
  {
   "cell_type": "markdown",
   "metadata": {},
   "source": [
    "#### json.load() 함수로 파일로된 json 데이터를 사전처럼 다룰 수 있음\n",
    "- JSON 파일 예: 유투브 카테고리 (미국)\n",
    "```\n",
    "{\n",
    "    \"kind\": \"youtube#videoCategoryListResponse\",\n",
    "    \"etag\": \"\\\"m2yskBQFythfE4irbTIeOgYYfBU/S730Ilt-Fi-emsQJvJAAShlR6hM\\\"\",\n",
    "    \"items\": [\n",
    "        {\n",
    "            \"kind\": \"youtube#videoCategory\",\n",
    "            \"etag\": \"\\\"m2yskBQFythfE4irbTIeOgYYfBU/Xy1mB4_yLrHy_BmKmPBggty2mZQ\\\"\",\n",
    "            \"id\": \"1\",\n",
    "            \"snippet\": {\n",
    "                \"channelId\": \"UCBR8-60-B28hp2BmDPdntcQ\",\n",
    "                \"title\": \"Film & Animation\",\n",
    "                \"assignable\": true\n",
    "            }\n",
    "        },\n",
    "        {\n",
    "            \"kind\": \"youtube#videoCategory\",\n",
    "            \"etag\": \"\\\"m2yskBQFythfE4irbTIeOgYYfBU/UZ1oLIIz2dxIhO45ZTFR3a3NyTA\\\"\",\n",
    "            \"id\": \"2\",\n",
    "            \"snippet\": {\n",
    "                \"channelId\": \"UCBR8-60-B28hp2BmDPdntcQ\",\n",
    "                \"title\": \"Autos & Vehicles\",\n",
    "                \"assignable\": true\n",
    "            }\n",
    "        }\n",
    "    ]\n",
    "}\n",
    "```"
   ]
  },
  {
   "cell_type": "code",
   "execution_count": null,
   "metadata": {},
   "outputs": [],
   "source": [
    "import json\n",
    "\n",
    "with open('00_data/US_category_id.json', 'r', encoding='utf-8-sig') as json_file:\n",
    "    json_data = json.load(json_file)\n",
    "    print (json_data.keys())"
   ]
  },
  {
   "cell_type": "markdown",
   "metadata": {},
   "source": [
    "- items 데이터만 뽑기\n",
    "  - JSON 데이터에 리스트도 포함될 수 있음 (사전 데이터에 키값이 리스트인 경우와 동일)"
   ]
  },
  {
   "cell_type": "code",
   "execution_count": null,
   "metadata": {},
   "outputs": [],
   "source": [
    "import json\n",
    "\n",
    "with open('00_data/US_category_id.json', 'r', encoding='utf-8-sig') as json_file:\n",
    "    json_data = json.load(json_file)\n",
    "    for item in json_data['items']:\n",
    "        print (item['kind'], item['snippet']['title'])"
   ]
  },
  {
   "cell_type": "markdown",
   "metadata": {},
   "source": [
    "<div class=\"alert alert-block\" style=\"border: 2px solid #1976D2;background-color:#E3F2FD;padding:5px;font-size:0.9em;\">\n",
    "본 자료는 저작권법 제25조 2항에 의해 보호를 받습니다. 본 자료를 외부에 공개하지 말아주세요.<br>\n",
    "본 강의만 잘 정리하면, 데이터 분석과 데이터 과학(머신러닝, 인공지능) 모두 가능합니다!<br>\n",
    "<b><a href=\"https://school.fun-coding.org/\">잔재미코딩</a> 에서 본 강의 기반 최적화된 로드맵도 확인하실 수 있습니다</b></div>"
   ]
  }
 ],
 "metadata": {
  "kernelspec": {
   "display_name": "Python 3 (ipykernel)",
   "language": "python",
   "name": "python3"
  },
  "language_info": {
   "codemirror_mode": {
    "name": "ipython",
    "version": 3
   },
   "file_extension": ".py",
   "mimetype": "text/x-python",
   "name": "python",
   "nbconvert_exporter": "python",
   "pygments_lexer": "ipython3",
   "version": "3.12.7"
  },
  "nbTranslate": {
   "displayLangs": [
    "*"
   ],
   "hotkey": "alt-t",
   "langInMainMenu": true,
   "sourceLang": "en",
   "targetLang": "fr",
   "useGoogleTranslate": true
  }
 },
 "nbformat": 4,
 "nbformat_minor": 4
}
