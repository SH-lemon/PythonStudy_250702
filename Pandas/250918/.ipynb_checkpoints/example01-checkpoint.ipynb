{
 "cells": [
  {
   "cell_type": "code",
   "execution_count": 3,
   "id": "02f64662-3344-43cb-be6a-d9acc6baa8b8",
   "metadata": {},
   "outputs": [
    {
     "name": "stdout",
     "output_type": "stream",
     "text": [
      "3\n",
      "9\n",
      "12\n"
     ]
    }
   ],
   "source": [
    "# 함수 선언\"문\" 시작!!!\n",
    "def add(a, b) :\n",
    "    return a + b\n",
    "\n",
    "# 함수 호출!!!\n",
    "print(add(1, 2))\n",
    "\n",
    "print(add(4, 5))\n",
    "\n",
    "print(add(9, 3))"
   ]
  },
  {
   "cell_type": "code",
   "execution_count": 4,
   "id": "b23a1219-3a18-442e-bdf8-0d7509ac0e64",
   "metadata": {},
   "outputs": [
    {
     "name": "stdout",
     "output_type": "stream",
     "text": [
      "3\n"
     ]
    }
   ],
   "source": [
    "# 함수 => 람다\"식\" => 익명함수\n",
    "# 함수의 이름을 없애는 대신, 해당 함수를 여튼 어떠한 변수 안에는 넣어줘야함\n",
    "\n",
    "add = lambda a, b : a + b\n",
    "\n",
    "print(add(1, 2))"
   ]
  },
  {
   "cell_type": "code",
   "execution_count": 3,
   "id": "c808b811-2506-46a7-8fbd-dcb50fe4cc83",
   "metadata": {},
   "outputs": [
    {
     "name": "stdout",
     "output_type": "stream",
     "text": [
      "https://public.flourish.studio/country-flags/svg/af.svg\n"
     ]
    }
   ],
   "source": [
    "iso2 = \"AF\"\n",
    "flag_link = f\"https://public.flourish.studio/country-flags/svg/{iso2.lower()}.svg\"\n",
    "print(flag_link)"
   ]
  },
  {
   "cell_type": "code",
   "execution_count": 4,
   "id": "0ac5073b-7f3a-4041-8cb5-122a0ddd8f94",
   "metadata": {},
   "outputs": [],
   "source": [
    "def create_flag_link(column) :\n",
    "    flag_link = f\"https://public.flourish.studio/country-flags/svg/{column.lower()}.svg\"\n",
    "    print(flag_link)\n",
    "    return flag_link"
   ]
  },
  {
   "cell_type": "code",
   "execution_count": 6,
   "id": "a1567b06-fba2-49ab-aa50-bc4ac8fa5150",
   "metadata": {},
   "outputs": [
    {
     "name": "stdout",
     "output_type": "stream",
     "text": [
      "https://public.flourish.studio/country-flags/svg/kr.svg\n"
     ]
    },
    {
     "data": {
      "text/plain": [
       "'https://public.flourish.studio/country-flags/svg/kr.svg'"
      ]
     },
     "execution_count": 6,
     "metadata": {},
     "output_type": "execute_result"
    }
   ],
   "source": [
    "create_flag_link(\"KR\")"
   ]
  }
 ],
 "metadata": {
  "kernelspec": {
   "display_name": "Python [conda env:base] *",
   "language": "python",
   "name": "conda-base-py"
  },
  "language_info": {
   "codemirror_mode": {
    "name": "ipython",
    "version": 3
   },
   "file_extension": ".py",
   "mimetype": "text/x-python",
   "name": "python",
   "nbconvert_exporter": "python",
   "pygments_lexer": "ipython3",
   "version": "3.13.5"
  }
 },
 "nbformat": 4,
 "nbformat_minor": 5
}
