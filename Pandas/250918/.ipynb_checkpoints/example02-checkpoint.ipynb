{
 "cells": [
  {
   "cell_type": "markdown",
   "id": "039763d3-d348-4270-a584-03d44b1bfd98",
   "metadata": {},
   "source": [
    "#### pandas 활용 데이터 전처리 & 시각화\n",
    "- 외부프로그램 활용 : flourish\n",
    "- 내부시각화 라이브러리 | 모듈\n",
    "  - matplotlib : 코드 학습이 꽤 난이도가 있는 편 // 오래됨\n",
    "  - seaborn : matplotlib를 활용해서 만든 그래프에 색상 및 레이아웃, 프레임 등을 조작\n",
    "  - matplotlib + seaborn\n",
    "  - plotly : 현존하는 파이썬 데이터 시각화의 가장 최신 트렌드\n",
    "  - EDA + pandas + plotly : 해당 조합이 가장 최신 데이터 시각화 조합"
   ]
  },
  {
   "cell_type": "markdown",
   "id": "9414c53b-0232-4bf3-9c44-ca32a81765f6",
   "metadata": {},
   "source": [
    "#### plotly\n",
    "1) Plotly Express : px (*빠르고 간단한 시각화)\n",
    "   - 정말 짧은 코드로 괜찮은 시각적 그래프 출력\n",
    "   - 학습속도 / EDA\n",
    "   - 범례 / 2차원 다양한 종류 그래프 / 편집 가공\n",
    "   - 디테일한 레이아웃 수정, 변경, 커스터마이징 x\n",
    "2) Graph Objects : go\n",
    "   - 코드의 길이가 길어짐 / 초심자에게는 어려움\n",
    "   - 애니메이션, 인터렉티브한 레이블 설정"
   ]
  },
  {
   "cell_type": "code",
   "execution_count": 2,
   "id": "f98d1046-0c18-4a33-9cd3-874511f41875",
   "metadata": {},
   "outputs": [
    {
     "name": "stdout",
     "output_type": "stream",
     "text": [
      "Defaulting to user installation because normal site-packages is not writeable\n",
      "Requirement already satisfied: plotly in c:\\programdata\\anaconda3\\lib\\site-packages (5.24.1)\n",
      "Requirement already satisfied: tenacity>=6.2.0 in c:\\programdata\\anaconda3\\lib\\site-packages (from plotly) (9.0.0)\n",
      "Requirement already satisfied: packaging in c:\\programdata\\anaconda3\\lib\\site-packages (from plotly) (24.2)\n",
      "Note: you may need to restart the kernel to use updated packages.\n"
     ]
    }
   ],
   "source": [
    "pip install plotly"
   ]
  },
  {
   "cell_type": "code",
   "execution_count": null,
   "id": "38cfaf99-f15d-4d5a-8ec1-fb414e8d9815",
   "metadata": {},
   "outputs": [],
   "source": [
    "from plotly import express as px\n",
    "\n",
    "\"\"\"\n",
    "# 그래프 생성\n",
    "fig = px.scatter(\n",
    "    df,                # 데이터프레임\n",
    "    x=\"sepal_width\",   # x축 컬럼명\n",
    "    y=\"sepal_length\",  # y축 컬럼명\n",
    "    color=\"species\",   # 색깔을 나눌 기준\n",
    "    size=\"petal_length\", # 마커 크기를 나눌 기준 (선택사항)\n",
    "    title=\"Iris Dataset Scatter Plot\" # 그래프 제목\n",
    ")\n",
    "\n",
    "fig.show() # 그래프를 화면에 출력하는 명령어\n",
    "\n",
    "1) scatter (*산점도)\n",
    "\n",
    "2) line (*선)\n",
    "\n",
    "3) bar (*막대)\n",
    "\n",
    "4) histogram (*히스토그램)\n",
    "\n",
    "5) box\n",
    "\"\"\""
   ]
  },
  {
   "cell_type": "code",
   "execution_count": 31,
   "id": "719bb22d-6b3e-45c6-91ca-a2bd5013e93a",
   "metadata": {},
   "outputs": [
    {
     "data": {
      "application/vnd.plotly.v1+json": {
       "config": {
        "plotlyServerURL": "https://plot.ly"
       },
       "data": [
        {
         "hovertemplate": "색상기준열=C<br>x열=%{x}<br>y열=%{y}<extra></extra>",
         "legendgroup": "C",
         "marker": {
          "color": "#636efa",
          "symbol": "circle"
         },
         "mode": "markers",
         "name": "C",
         "orientation": "v",
         "showlegend": true,
         "type": "scatter",
         "x": [
          0.742931522328625,
          0.07789050461991143,
          0.8758582419429664,
          0.9868999015152079,
          0.7243558564918521,
          0.5904526538394014,
          0.10701872954297265,
          0.27839551517304073,
          0.9848573578845962,
          0.19517573971446556,
          0.6743987761657533,
          0.09509927207574909,
          0.5751570880265231,
          0.44249208503360826,
          0.9847861509797762,
          0.21530565428790593,
          0.2472644400997085,
          0.8758577544143612,
          0.38743467034357226,
          0.793118776031297,
          0.3645285397583681,
          0.7831344544532186,
          0.16285154199705443,
          0.5376263554857762,
          0.6997327890747812,
          0.674607669197555,
          0.23611929152367317,
          0.7335141767850987,
          0.7888339618638368,
          0.054619059029280326,
          0.824499262547927,
          0.562359846775273,
          0.3399098194509369,
          0.06410594752360466,
          0.4179097510178046
         ],
         "xaxis": "x",
         "y": [
          0.45296584003303686,
          0.6581840239304012,
          0.503651202146806,
          0.3632029121816608,
          0.6469713589090184,
          0.8574356163457151,
          0.929508764900777,
          0.03718816421274451,
          0.08919465753202094,
          0.5435184977238978,
          0.3047325543299778,
          0.7123521207108485,
          0.08968301947786306,
          0.09876097629479696,
          0.4223527472042381,
          0.011098804522059358,
          0.6819269908946742,
          0.03040059190298461,
          0.14999894771992528,
          0.4946908067098724,
          0.8680250703435363,
          0.5517072728941891,
          0.6081670402484417,
          0.5955086330483427,
          0.565983170690296,
          0.3939173574008523,
          0.9138362556473546,
          0.7952227845269153,
          0.14625012811224358,
          0.18563651183761265,
          0.5681252201621868,
          0.9876583552107818,
          0.6884616411295477,
          0.9530434218548137,
          0.11924591057703693
         ],
         "yaxis": "y"
        },
        {
         "hovertemplate": "색상기준열=A<br>x열=%{x}<br>y열=%{y}<extra></extra>",
         "legendgroup": "A",
         "marker": {
          "color": "#EF553B",
          "symbol": "circle"
         },
         "mode": "markers",
         "name": "A",
         "orientation": "v",
         "showlegend": true,
         "type": "scatter",
         "x": [
          0.8214680887238659,
          0.11785350814048368,
          0.007512072324240671,
          0.42492239019019895,
          0.6952296001922215,
          0.031712604846789505,
          0.3090861391552626,
          0.6717471213656832,
          0.13176261971650682,
          0.11321205881500107,
          0.9897282628793532,
          0.15284056668412072,
          0.3488639856506186,
          0.9185770575971468,
          0.1632122216965156,
          0.3733275835662173,
          0.2870990479402533,
          0.7522761899878984,
          0.7559577613145972,
          0.5577965597559533,
          0.4167213428326353,
          0.9153603350047927,
          0.6719044641467031,
          0.68098373680648,
          0.6190906713378959,
          0.7205553723004967,
          0.23462154834934157,
          0.29142476682521723,
          0.37051571374976233,
          0.8827391646026439,
          0.8883357590130315,
          0.6847746710992655
         ],
         "xaxis": "x",
         "y": [
          0.27952959727562354,
          0.18399957302682624,
          0.7658803818505653,
          0.3357784985930319,
          0.14969517745684513,
          0.5611526181418579,
          0.6917900756004387,
          0.2643705509865829,
          0.8240172954876916,
          0.2485980140314037,
          0.7958724376901757,
          0.17111211835713847,
          0.5221507401934922,
          0.4795544853391126,
          0.15595167132645527,
          0.32740283063832976,
          0.057814696793105025,
          0.5084848005243282,
          0.8813927149186079,
          0.013324407740037514,
          0.35745939964794526,
          0.22751873665443512,
          0.7747778643189572,
          0.545320565934602,
          0.29454418244027436,
          0.5774903985341888,
          0.6000646023076809,
          0.5220991100787353,
          0.4188312667521942,
          0.3045400414854238,
          0.16710942200238676,
          0.2143150560244581
         ],
         "yaxis": "y"
        },
        {
         "hovertemplate": "색상기준열=B<br>x열=%{x}<br>y열=%{y}<extra></extra>",
         "legendgroup": "B",
         "marker": {
          "color": "#00cc96",
          "symbol": "circle"
         },
         "mode": "markers",
         "name": "B",
         "orientation": "v",
         "showlegend": true,
         "type": "scatter",
         "x": [
          0.6825069657478141,
          0.8766673652009067,
          0.13402201210950304,
          0.08697929651486369,
          0.5188926935294044,
          0.5761606607800555,
          0.6935072382138685,
          0.6344427580733948,
          0.49077454320902325,
          0.6165065370039299,
          0.4007548142959293,
          0.5203384872872822,
          0.7939462423644765,
          0.13231779052034476,
          0.8308288499436929,
          0.3542601889431952,
          0.13335088943798767,
          0.8791196999563483,
          0.9784999845095604,
          0.46759309399817295,
          0.9530675542325535,
          0.3162855391196452,
          0.5702012207095507,
          0.36234157140063117,
          0.08260340807863908,
          0.6136589611965799,
          0.477700156020054,
          0.6448260310088769,
          0.8798584187303503,
          0.20931787328406237,
          0.7776856580971584,
          0.9585025607078473,
          0.7222534907961787
         ],
         "xaxis": "x",
         "y": [
          0.4249619494783693,
          0.17781506888478338,
          0.6338301301241689,
          0.02048618677268843,
          0.03502523106956379,
          0.5703249034966907,
          0.5418603250349806,
          0.6847850916978507,
          0.3505050244649214,
          0.38181052364952095,
          0.022842783907257358,
          0.6744029676421491,
          0.8306494665596312,
          0.5970971589265582,
          0.6457585418227884,
          0.3255898585690231,
          0.0693257278898286,
          0.45661484872986813,
          0.7559884604403487,
          0.022209536895435922,
          0.5697630418444719,
          0.44841054400118796,
          0.027640709133481822,
          0.39065610113774674,
          0.6400964701700153,
          0.51135998546538,
          0.3141075915971743,
          0.035892641879456844,
          0.5030129375940176,
          0.9803450950543229,
          0.6387065658471816,
          0.3969292147643858,
          0.0957789011730582
         ],
         "yaxis": "y"
        }
       ],
       "layout": {
        "legend": {
         "bordercolor": "black",
         "borderwidth": 1,
         "title": {
          "text": "제목"
         },
         "tracegroupgap": 0,
         "x": 1,
         "y": 0.3
        },
        "template": {
         "data": {
          "bar": [
           {
            "error_x": {
             "color": "#2a3f5f"
            },
            "error_y": {
             "color": "#2a3f5f"
            },
            "marker": {
             "line": {
              "color": "#E5ECF6",
              "width": 0.5
             },
             "pattern": {
              "fillmode": "overlay",
              "size": 10,
              "solidity": 0.2
             }
            },
            "type": "bar"
           }
          ],
          "barpolar": [
           {
            "marker": {
             "line": {
              "color": "#E5ECF6",
              "width": 0.5
             },
             "pattern": {
              "fillmode": "overlay",
              "size": 10,
              "solidity": 0.2
             }
            },
            "type": "barpolar"
           }
          ],
          "carpet": [
           {
            "aaxis": {
             "endlinecolor": "#2a3f5f",
             "gridcolor": "white",
             "linecolor": "white",
             "minorgridcolor": "white",
             "startlinecolor": "#2a3f5f"
            },
            "baxis": {
             "endlinecolor": "#2a3f5f",
             "gridcolor": "white",
             "linecolor": "white",
             "minorgridcolor": "white",
             "startlinecolor": "#2a3f5f"
            },
            "type": "carpet"
           }
          ],
          "choropleth": [
           {
            "colorbar": {
             "outlinewidth": 0,
             "ticks": ""
            },
            "type": "choropleth"
           }
          ],
          "contour": [
           {
            "colorbar": {
             "outlinewidth": 0,
             "ticks": ""
            },
            "colorscale": [
             [
              0,
              "#0d0887"
             ],
             [
              0.1111111111111111,
              "#46039f"
             ],
             [
              0.2222222222222222,
              "#7201a8"
             ],
             [
              0.3333333333333333,
              "#9c179e"
             ],
             [
              0.4444444444444444,
              "#bd3786"
             ],
             [
              0.5555555555555556,
              "#d8576b"
             ],
             [
              0.6666666666666666,
              "#ed7953"
             ],
             [
              0.7777777777777778,
              "#fb9f3a"
             ],
             [
              0.8888888888888888,
              "#fdca26"
             ],
             [
              1,
              "#f0f921"
             ]
            ],
            "type": "contour"
           }
          ],
          "contourcarpet": [
           {
            "colorbar": {
             "outlinewidth": 0,
             "ticks": ""
            },
            "type": "contourcarpet"
           }
          ],
          "heatmap": [
           {
            "colorbar": {
             "outlinewidth": 0,
             "ticks": ""
            },
            "colorscale": [
             [
              0,
              "#0d0887"
             ],
             [
              0.1111111111111111,
              "#46039f"
             ],
             [
              0.2222222222222222,
              "#7201a8"
             ],
             [
              0.3333333333333333,
              "#9c179e"
             ],
             [
              0.4444444444444444,
              "#bd3786"
             ],
             [
              0.5555555555555556,
              "#d8576b"
             ],
             [
              0.6666666666666666,
              "#ed7953"
             ],
             [
              0.7777777777777778,
              "#fb9f3a"
             ],
             [
              0.8888888888888888,
              "#fdca26"
             ],
             [
              1,
              "#f0f921"
             ]
            ],
            "type": "heatmap"
           }
          ],
          "heatmapgl": [
           {
            "colorbar": {
             "outlinewidth": 0,
             "ticks": ""
            },
            "colorscale": [
             [
              0,
              "#0d0887"
             ],
             [
              0.1111111111111111,
              "#46039f"
             ],
             [
              0.2222222222222222,
              "#7201a8"
             ],
             [
              0.3333333333333333,
              "#9c179e"
             ],
             [
              0.4444444444444444,
              "#bd3786"
             ],
             [
              0.5555555555555556,
              "#d8576b"
             ],
             [
              0.6666666666666666,
              "#ed7953"
             ],
             [
              0.7777777777777778,
              "#fb9f3a"
             ],
             [
              0.8888888888888888,
              "#fdca26"
             ],
             [
              1,
              "#f0f921"
             ]
            ],
            "type": "heatmapgl"
           }
          ],
          "histogram": [
           {
            "marker": {
             "pattern": {
              "fillmode": "overlay",
              "size": 10,
              "solidity": 0.2
             }
            },
            "type": "histogram"
           }
          ],
          "histogram2d": [
           {
            "colorbar": {
             "outlinewidth": 0,
             "ticks": ""
            },
            "colorscale": [
             [
              0,
              "#0d0887"
             ],
             [
              0.1111111111111111,
              "#46039f"
             ],
             [
              0.2222222222222222,
              "#7201a8"
             ],
             [
              0.3333333333333333,
              "#9c179e"
             ],
             [
              0.4444444444444444,
              "#bd3786"
             ],
             [
              0.5555555555555556,
              "#d8576b"
             ],
             [
              0.6666666666666666,
              "#ed7953"
             ],
             [
              0.7777777777777778,
              "#fb9f3a"
             ],
             [
              0.8888888888888888,
              "#fdca26"
             ],
             [
              1,
              "#f0f921"
             ]
            ],
            "type": "histogram2d"
           }
          ],
          "histogram2dcontour": [
           {
            "colorbar": {
             "outlinewidth": 0,
             "ticks": ""
            },
            "colorscale": [
             [
              0,
              "#0d0887"
             ],
             [
              0.1111111111111111,
              "#46039f"
             ],
             [
              0.2222222222222222,
              "#7201a8"
             ],
             [
              0.3333333333333333,
              "#9c179e"
             ],
             [
              0.4444444444444444,
              "#bd3786"
             ],
             [
              0.5555555555555556,
              "#d8576b"
             ],
             [
              0.6666666666666666,
              "#ed7953"
             ],
             [
              0.7777777777777778,
              "#fb9f3a"
             ],
             [
              0.8888888888888888,
              "#fdca26"
             ],
             [
              1,
              "#f0f921"
             ]
            ],
            "type": "histogram2dcontour"
           }
          ],
          "mesh3d": [
           {
            "colorbar": {
             "outlinewidth": 0,
             "ticks": ""
            },
            "type": "mesh3d"
           }
          ],
          "parcoords": [
           {
            "line": {
             "colorbar": {
              "outlinewidth": 0,
              "ticks": ""
             }
            },
            "type": "parcoords"
           }
          ],
          "pie": [
           {
            "automargin": true,
            "type": "pie"
           }
          ],
          "scatter": [
           {
            "fillpattern": {
             "fillmode": "overlay",
             "size": 10,
             "solidity": 0.2
            },
            "type": "scatter"
           }
          ],
          "scatter3d": [
           {
            "line": {
             "colorbar": {
              "outlinewidth": 0,
              "ticks": ""
             }
            },
            "marker": {
             "colorbar": {
              "outlinewidth": 0,
              "ticks": ""
             }
            },
            "type": "scatter3d"
           }
          ],
          "scattercarpet": [
           {
            "marker": {
             "colorbar": {
              "outlinewidth": 0,
              "ticks": ""
             }
            },
            "type": "scattercarpet"
           }
          ],
          "scattergeo": [
           {
            "marker": {
             "colorbar": {
              "outlinewidth": 0,
              "ticks": ""
             }
            },
            "type": "scattergeo"
           }
          ],
          "scattergl": [
           {
            "marker": {
             "colorbar": {
              "outlinewidth": 0,
              "ticks": ""
             }
            },
            "type": "scattergl"
           }
          ],
          "scattermapbox": [
           {
            "marker": {
             "colorbar": {
              "outlinewidth": 0,
              "ticks": ""
             }
            },
            "type": "scattermapbox"
           }
          ],
          "scatterpolar": [
           {
            "marker": {
             "colorbar": {
              "outlinewidth": 0,
              "ticks": ""
             }
            },
            "type": "scatterpolar"
           }
          ],
          "scatterpolargl": [
           {
            "marker": {
             "colorbar": {
              "outlinewidth": 0,
              "ticks": ""
             }
            },
            "type": "scatterpolargl"
           }
          ],
          "scatterternary": [
           {
            "marker": {
             "colorbar": {
              "outlinewidth": 0,
              "ticks": ""
             }
            },
            "type": "scatterternary"
           }
          ],
          "surface": [
           {
            "colorbar": {
             "outlinewidth": 0,
             "ticks": ""
            },
            "colorscale": [
             [
              0,
              "#0d0887"
             ],
             [
              0.1111111111111111,
              "#46039f"
             ],
             [
              0.2222222222222222,
              "#7201a8"
             ],
             [
              0.3333333333333333,
              "#9c179e"
             ],
             [
              0.4444444444444444,
              "#bd3786"
             ],
             [
              0.5555555555555556,
              "#d8576b"
             ],
             [
              0.6666666666666666,
              "#ed7953"
             ],
             [
              0.7777777777777778,
              "#fb9f3a"
             ],
             [
              0.8888888888888888,
              "#fdca26"
             ],
             [
              1,
              "#f0f921"
             ]
            ],
            "type": "surface"
           }
          ],
          "table": [
           {
            "cells": {
             "fill": {
              "color": "#EBF0F8"
             },
             "line": {
              "color": "white"
             }
            },
            "header": {
             "fill": {
              "color": "#C8D4E3"
             },
             "line": {
              "color": "white"
             }
            },
            "type": "table"
           }
          ]
         },
         "layout": {
          "annotationdefaults": {
           "arrowcolor": "#2a3f5f",
           "arrowhead": 0,
           "arrowwidth": 1
          },
          "autotypenumbers": "strict",
          "coloraxis": {
           "colorbar": {
            "outlinewidth": 0,
            "ticks": ""
           }
          },
          "colorscale": {
           "diverging": [
            [
             0,
             "#8e0152"
            ],
            [
             0.1,
             "#c51b7d"
            ],
            [
             0.2,
             "#de77ae"
            ],
            [
             0.3,
             "#f1b6da"
            ],
            [
             0.4,
             "#fde0ef"
            ],
            [
             0.5,
             "#f7f7f7"
            ],
            [
             0.6,
             "#e6f5d0"
            ],
            [
             0.7,
             "#b8e186"
            ],
            [
             0.8,
             "#7fbc41"
            ],
            [
             0.9,
             "#4d9221"
            ],
            [
             1,
             "#276419"
            ]
           ],
           "sequential": [
            [
             0,
             "#0d0887"
            ],
            [
             0.1111111111111111,
             "#46039f"
            ],
            [
             0.2222222222222222,
             "#7201a8"
            ],
            [
             0.3333333333333333,
             "#9c179e"
            ],
            [
             0.4444444444444444,
             "#bd3786"
            ],
            [
             0.5555555555555556,
             "#d8576b"
            ],
            [
             0.6666666666666666,
             "#ed7953"
            ],
            [
             0.7777777777777778,
             "#fb9f3a"
            ],
            [
             0.8888888888888888,
             "#fdca26"
            ],
            [
             1,
             "#f0f921"
            ]
           ],
           "sequentialminus": [
            [
             0,
             "#0d0887"
            ],
            [
             0.1111111111111111,
             "#46039f"
            ],
            [
             0.2222222222222222,
             "#7201a8"
            ],
            [
             0.3333333333333333,
             "#9c179e"
            ],
            [
             0.4444444444444444,
             "#bd3786"
            ],
            [
             0.5555555555555556,
             "#d8576b"
            ],
            [
             0.6666666666666666,
             "#ed7953"
            ],
            [
             0.7777777777777778,
             "#fb9f3a"
            ],
            [
             0.8888888888888888,
             "#fdca26"
            ],
            [
             1,
             "#f0f921"
            ]
           ]
          },
          "colorway": [
           "#636efa",
           "#EF553B",
           "#00cc96",
           "#ab63fa",
           "#FFA15A",
           "#19d3f3",
           "#FF6692",
           "#B6E880",
           "#FF97FF",
           "#FECB52"
          ],
          "font": {
           "color": "#2a3f5f"
          },
          "geo": {
           "bgcolor": "white",
           "lakecolor": "white",
           "landcolor": "#E5ECF6",
           "showlakes": true,
           "showland": true,
           "subunitcolor": "white"
          },
          "hoverlabel": {
           "align": "left"
          },
          "hovermode": "closest",
          "mapbox": {
           "style": "light"
          },
          "paper_bgcolor": "white",
          "plot_bgcolor": "#E5ECF6",
          "polar": {
           "angularaxis": {
            "gridcolor": "white",
            "linecolor": "white",
            "ticks": ""
           },
           "bgcolor": "#E5ECF6",
           "radialaxis": {
            "gridcolor": "white",
            "linecolor": "white",
            "ticks": ""
           }
          },
          "scene": {
           "xaxis": {
            "backgroundcolor": "#E5ECF6",
            "gridcolor": "white",
            "gridwidth": 2,
            "linecolor": "white",
            "showbackground": true,
            "ticks": "",
            "zerolinecolor": "white"
           },
           "yaxis": {
            "backgroundcolor": "#E5ECF6",
            "gridcolor": "white",
            "gridwidth": 2,
            "linecolor": "white",
            "showbackground": true,
            "ticks": "",
            "zerolinecolor": "white"
           },
           "zaxis": {
            "backgroundcolor": "#E5ECF6",
            "gridcolor": "white",
            "gridwidth": 2,
            "linecolor": "white",
            "showbackground": true,
            "ticks": "",
            "zerolinecolor": "white"
           }
          },
          "shapedefaults": {
           "line": {
            "color": "#2a3f5f"
           }
          },
          "ternary": {
           "aaxis": {
            "gridcolor": "white",
            "linecolor": "white",
            "ticks": ""
           },
           "baxis": {
            "gridcolor": "white",
            "linecolor": "white",
            "ticks": ""
           },
           "bgcolor": "#E5ECF6",
           "caxis": {
            "gridcolor": "white",
            "linecolor": "white",
            "ticks": ""
           }
          },
          "title": {
           "x": 0.05
          },
          "xaxis": {
           "automargin": true,
           "gridcolor": "white",
           "linecolor": "white",
           "ticks": "",
           "title": {
            "standoff": 15
           },
           "zerolinecolor": "white",
           "zerolinewidth": 2
          },
          "yaxis": {
           "automargin": true,
           "gridcolor": "white",
           "linecolor": "white",
           "ticks": "",
           "title": {
            "standoff": 15
           },
           "zerolinecolor": "white",
           "zerolinewidth": 2
          }
         }
        },
        "title": {
         "font": {
          "color": "#a18cd1",
          "size": 24
         },
         "text": "새로운 그래프 제목",
         "x": 0.5
        },
        "xaxis": {
         "anchor": "y",
         "domain": [
          0,
          1
         ],
         "title": {
          "text": "x열"
         }
        },
        "yaxis": {
         "anchor": "x",
         "domain": [
          0,
          1
         ],
         "title": {
          "text": "y열"
         }
        }
       }
      },
      "image/png": "[encoded data removed]",
      "text/html": [
       "<div>                            <div id=\"848fbfdb-1589-4c53-81f3-74f9d9d0ecba\" class=\"plotly-graph-div\" style=\"height:525px; width:100%;\"></div>            <script type=\"text/javascript\">                require([\"plotly\"], function(Plotly) {                    window.PLOTLYENV=window.PLOTLYENV || {};                                    if (document.getElementById(\"848fbfdb-1589-4c53-81f3-74f9d9d0ecba\")) {                    Plotly.newPlot(                        \"848fbfdb-1589-4c53-81f3-74f9d9d0ecba\",                        [{\"hovertemplate\":\"\\uc0c9\\uc0c1\\uae30\\uc900\\uc5f4=C\\u003cbr\\u003ex\\uc5f4=%{x}\\u003cbr\\u003ey\\uc5f4=%{y}\\u003cextra\\u003e\\u003c\\u002fextra\\u003e\",\"legendgroup\":\"C\",\"marker\":{\"color\":\"#636efa\",\"symbol\":\"circle\"},\"mode\":\"markers\",\"name\":\"C\",\"orientation\":\"v\",\"showlegend\":true,\"x\":[0.742931522328625,0.07789050461991143,0.8758582419429664,0.9868999015152079,0.7243558564918521,0.5904526538394014,0.10701872954297265,0.27839551517304073,0.9848573578845962,0.19517573971446556,0.6743987761657533,0.09509927207574909,0.5751570880265231,0.44249208503360826,0.9847861509797762,0.21530565428790593,0.2472644400997085,0.8758577544143612,0.38743467034357226,0.793118776031297,0.3645285397583681,0.7831344544532186,0.16285154199705443,0.5376263554857762,0.6997327890747812,0.674607669197555,0.23611929152367317,0.7335141767850987,0.7888339618638368,0.054619059029280326,0.824499262547927,0.562359846775273,0.3399098194509369,0.06410594752360466,0.4179097510178046],\"xaxis\":\"x\",\"y\":[0.45296584003303686,0.6581840239304012,0.503651202146806,0.3632029121816608,0.6469713589090184,0.8574356163457151,0.929508764900777,0.03718816421274451,0.08919465753202094,0.5435184977238978,0.3047325543299778,0.7123521207108485,0.08968301947786306,0.09876097629479696,0.4223527472042381,0.011098804522059358,0.6819269908946742,0.03040059190298461,0.14999894771992528,0.4946908067098724,0.8680250703435363,0.5517072728941891,0.6081670402484417,0.5955086330483427,0.565983170690296,0.3939173574008523,0.9138362556473546,0.7952227845269153,0.14625012811224358,0.18563651183761265,0.5681252201621868,0.9876583552107818,0.6884616411295477,0.9530434218548137,0.11924591057703693],\"yaxis\":\"y\",\"type\":\"scatter\"},{\"hovertemplate\":\"\\uc0c9\\uc0c1\\uae30\\uc900\\uc5f4=A\\u003cbr\\u003ex\\uc5f4=%{x}\\u003cbr\\u003ey\\uc5f4=%{y}\\u003cextra\\u003e\\u003c\\u002fextra\\u003e\",\"legendgroup\":\"A\",\"marker\":{\"color\":\"#EF553B\",\"symbol\":\"circle\"},\"mode\":\"markers\",\"name\":\"A\",\"orientation\":\"v\",\"showlegend\":true,\"x\":[0.8214680887238659,0.11785350814048368,0.007512072324240671,0.42492239019019895,0.6952296001922215,0.031712604846789505,0.3090861391552626,0.6717471213656832,0.13176261971650682,0.11321205881500107,0.9897282628793532,0.15284056668412072,0.3488639856506186,0.9185770575971468,0.1632122216965156,0.3733275835662173,0.2870990479402533,0.7522761899878984,0.7559577613145972,0.5577965597559533,0.4167213428326353,0.9153603350047927,0.6719044641467031,0.68098373680648,0.6190906713378959,0.7205553723004967,0.23462154834934157,0.29142476682521723,0.37051571374976233,0.8827391646026439,0.8883357590130315,0.6847746710992655],\"xaxis\":\"x\",\"y\":[0.27952959727562354,0.18399957302682624,0.7658803818505653,0.3357784985930319,0.14969517745684513,0.5611526181418579,0.6917900756004387,0.2643705509865829,0.8240172954876916,0.2485980140314037,0.7958724376901757,0.17111211835713847,0.5221507401934922,0.4795544853391126,0.15595167132645527,0.32740283063832976,0.057814696793105025,0.5084848005243282,0.8813927149186079,0.013324407740037514,0.35745939964794526,0.22751873665443512,0.7747778643189572,0.545320565934602,0.29454418244027436,0.5774903985341888,0.6000646023076809,0.5220991100787353,0.4188312667521942,0.3045400414854238,0.16710942200238676,0.2143150560244581],\"yaxis\":\"y\",\"type\":\"scatter\"},{\"hovertemplate\":\"\\uc0c9\\uc0c1\\uae30\\uc900\\uc5f4=B\\u003cbr\\u003ex\\uc5f4=%{x}\\u003cbr\\u003ey\\uc5f4=%{y}\\u003cextra\\u003e\\u003c\\u002fextra\\u003e\",\"legendgroup\":\"B\",\"marker\":{\"color\":\"#00cc96\",\"symbol\":\"circle\"},\"mode\":\"markers\",\"name\":\"B\",\"orientation\":\"v\",\"showlegend\":true,\"x\":[0.6825069657478141,0.8766673652009067,0.13402201210950304,0.08697929651486369,0.5188926935294044,0.5761606607800555,0.6935072382138685,0.6344427580733948,0.49077454320902325,0.6165065370039299,0.4007548142959293,0.5203384872872822,0.7939462423644765,0.13231779052034476,0.8308288499436929,0.3542601889431952,0.13335088943798767,0.8791196999563483,0.9784999845095604,0.46759309399817295,0.9530675542325535,0.3162855391196452,0.5702012207095507,0.36234157140063117,0.08260340807863908,0.6136589611965799,0.477700156020054,0.6448260310088769,0.8798584187303503,0.20931787328406237,0.7776856580971584,0.9585025607078473,0.7222534907961787],\"xaxis\":\"x\",\"y\":[0.4249619494783693,0.17781506888478338,0.6338301301241689,0.02048618677268843,0.03502523106956379,0.5703249034966907,0.5418603250349806,0.6847850916978507,0.3505050244649214,0.38181052364952095,0.022842783907257358,0.6744029676421491,0.8306494665596312,0.5970971589265582,0.6457585418227884,0.3255898585690231,0.0693257278898286,0.45661484872986813,0.7559884604403487,0.022209536895435922,0.5697630418444719,0.44841054400118796,0.027640709133481822,0.39065610113774674,0.6400964701700153,0.51135998546538,0.3141075915971743,0.035892641879456844,0.5030129375940176,0.9803450950543229,0.6387065658471816,0.3969292147643858,0.0957789011730582],\"yaxis\":\"y\",\"type\":\"scatter\"}],                        {\"template\":{\"data\":{\"histogram2dcontour\":[{\"type\":\"histogram2dcontour\",\"colorbar\":{\"outlinewidth\":0,\"ticks\":\"\"},\"colorscale\":[[0.0,\"#0d0887\"],[0.1111111111111111,\"#46039f\"],[0.2222222222222222,\"#7201a8\"],[0.3333333333333333,\"#9c179e\"],[0.4444444444444444,\"#bd3786\"],[0.5555555555555556,\"#d8576b\"],[0.6666666666666666,\"#ed7953\"],[0.7777777777777778,\"#fb9f3a\"],[0.8888888888888888,\"#fdca26\"],[1.0,\"#f0f921\"]]}],\"choropleth\":[{\"type\":\"choropleth\",\"colorbar\":{\"outlinewidth\":0,\"ticks\":\"\"}}],\"histogram2d\":[{\"type\":\"histogram2d\",\"colorbar\":{\"outlinewidth\":0,\"ticks\":\"\"},\"colorscale\":[[0.0,\"#0d0887\"],[0.1111111111111111,\"#46039f\"],[0.2222222222222222,\"#7201a8\"],[0.3333333333333333,\"#9c179e\"],[0.4444444444444444,\"#bd3786\"],[0.5555555555555556,\"#d8576b\"],[0.6666666666666666,\"#ed7953\"],[0.7777777777777778,\"#fb9f3a\"],[0.8888888888888888,\"#fdca26\"],[1.0,\"#f0f921\"]]}],\"heatmap\":[{\"type\":\"heatmap\",\"colorbar\":{\"outlinewidth\":0,\"ticks\":\"\"},\"colorscale\":[[0.0,\"#0d0887\"],[0.1111111111111111,\"#46039f\"],[0.2222222222222222,\"#7201a8\"],[0.3333333333333333,\"#9c179e\"],[0.4444444444444444,\"#bd3786\"],[0.5555555555555556,\"#d8576b\"],[0.6666666666666666,\"#ed7953\"],[0.7777777777777778,\"#fb9f3a\"],[0.8888888888888888,\"#fdca26\"],[1.0,\"#f0f921\"]]}],\"heatmapgl\":[{\"type\":\"heatmapgl\",\"colorbar\":{\"outlinewidth\":0,\"ticks\":\"\"},\"colorscale\":[[0.0,\"#0d0887\"],[0.1111111111111111,\"#46039f\"],[0.2222222222222222,\"#7201a8\"],[0.3333333333333333,\"#9c179e\"],[0.4444444444444444,\"#bd3786\"],[0.5555555555555556,\"#d8576b\"],[0.6666666666666666,\"#ed7953\"],[0.7777777777777778,\"#fb9f3a\"],[0.8888888888888888,\"#fdca26\"],[1.0,\"#f0f921\"]]}],\"contourcarpet\":[{\"type\":\"contourcarpet\",\"colorbar\":{\"outlinewidth\":0,\"ticks\":\"\"}}],\"contour\":[{\"type\":\"contour\",\"colorbar\":{\"outlinewidth\":0,\"ticks\":\"\"},\"colorscale\":[[0.0,\"#0d0887\"],[0.1111111111111111,\"#46039f\"],[0.2222222222222222,\"#7201a8\"],[0.3333333333333333,\"#9c179e\"],[0.4444444444444444,\"#bd3786\"],[0.5555555555555556,\"#d8576b\"],[0.6666666666666666,\"#ed7953\"],[0.7777777777777778,\"#fb9f3a\"],[0.8888888888888888,\"#fdca26\"],[1.0,\"#f0f921\"]]}],\"surface\":[{\"type\":\"surface\",\"colorbar\":{\"outlinewidth\":0,\"ticks\":\"\"},\"colorscale\":[[0.0,\"#0d0887\"],[0.1111111111111111,\"#46039f\"],[0.2222222222222222,\"#7201a8\"],[0.3333333333333333,\"#9c179e\"],[0.4444444444444444,\"#bd3786\"],[0.5555555555555556,\"#d8576b\"],[0.6666666666666666,\"#ed7953\"],[0.7777777777777778,\"#fb9f3a\"],[0.8888888888888888,\"#fdca26\"],[1.0,\"#f0f921\"]]}],\"mesh3d\":[{\"type\":\"mesh3d\",\"colorbar\":{\"outlinewidth\":0,\"ticks\":\"\"}}],\"scatter\":[{\"fillpattern\":{\"fillmode\":\"overlay\",\"size\":10,\"solidity\":0.2},\"type\":\"scatter\"}],\"parcoords\":[{\"type\":\"parcoords\",\"line\":{\"colorbar\":{\"outlinewidth\":0,\"ticks\":\"\"}}}],\"scatterpolargl\":[{\"type\":\"scatterpolargl\",\"marker\":{\"colorbar\":{\"outlinewidth\":0,\"ticks\":\"\"}}}],\"bar\":[{\"error_x\":{\"color\":\"#2a3f5f\"},\"error_y\":{\"color\":\"#2a3f5f\"},\"marker\":{\"line\":{\"color\":\"#E5ECF6\",\"width\":0.5},\"pattern\":{\"fillmode\":\"overlay\",\"size\":10,\"solidity\":0.2}},\"type\":\"bar\"}],\"scattergeo\":[{\"type\":\"scattergeo\",\"marker\":{\"colorbar\":{\"outlinewidth\":0,\"ticks\":\"\"}}}],\"scatterpolar\":[{\"type\":\"scatterpolar\",\"marker\":{\"colorbar\":{\"outlinewidth\":0,\"ticks\":\"\"}}}],\"histogram\":[{\"marker\":{\"pattern\":{\"fillmode\":\"overlay\",\"size\":10,\"solidity\":0.2}},\"type\":\"histogram\"}],\"scattergl\":[{\"type\":\"scattergl\",\"marker\":{\"colorbar\":{\"outlinewidth\":0,\"ticks\":\"\"}}}],\"scatter3d\":[{\"type\":\"scatter3d\",\"line\":{\"colorbar\":{\"outlinewidth\":0,\"ticks\":\"\"}},\"marker\":{\"colorbar\":{\"outlinewidth\":0,\"ticks\":\"\"}}}],\"scattermapbox\":[{\"type\":\"scattermapbox\",\"marker\":{\"colorbar\":{\"outlinewidth\":0,\"ticks\":\"\"}}}],\"scatterternary\":[{\"type\":\"scatterternary\",\"marker\":{\"colorbar\":{\"outlinewidth\":0,\"ticks\":\"\"}}}],\"scattercarpet\":[{\"type\":\"scattercarpet\",\"marker\":{\"colorbar\":{\"outlinewidth\":0,\"ticks\":\"\"}}}],\"carpet\":[{\"aaxis\":{\"endlinecolor\":\"#2a3f5f\",\"gridcolor\":\"white\",\"linecolor\":\"white\",\"minorgridcolor\":\"white\",\"startlinecolor\":\"#2a3f5f\"},\"baxis\":{\"endlinecolor\":\"#2a3f5f\",\"gridcolor\":\"white\",\"linecolor\":\"white\",\"minorgridcolor\":\"white\",\"startlinecolor\":\"#2a3f5f\"},\"type\":\"carpet\"}],\"table\":[{\"cells\":{\"fill\":{\"color\":\"#EBF0F8\"},\"line\":{\"color\":\"white\"}},\"header\":{\"fill\":{\"color\":\"#C8D4E3\"},\"line\":{\"color\":\"white\"}},\"type\":\"table\"}],\"barpolar\":[{\"marker\":{\"line\":{\"color\":\"#E5ECF6\",\"width\":0.5},\"pattern\":{\"fillmode\":\"overlay\",\"size\":10,\"solidity\":0.2}},\"type\":\"barpolar\"}],\"pie\":[{\"automargin\":true,\"type\":\"pie\"}]},\"layout\":{\"autotypenumbers\":\"strict\",\"colorway\":[\"#636efa\",\"#EF553B\",\"#00cc96\",\"#ab63fa\",\"#FFA15A\",\"#19d3f3\",\"#FF6692\",\"#B6E880\",\"#FF97FF\",\"#FECB52\"],\"font\":{\"color\":\"#2a3f5f\"},\"hovermode\":\"closest\",\"hoverlabel\":{\"align\":\"left\"},\"paper_bgcolor\":\"white\",\"plot_bgcolor\":\"#E5ECF6\",\"polar\":{\"bgcolor\":\"#E5ECF6\",\"angularaxis\":{\"gridcolor\":\"white\",\"linecolor\":\"white\",\"ticks\":\"\"},\"radialaxis\":{\"gridcolor\":\"white\",\"linecolor\":\"white\",\"ticks\":\"\"}},\"ternary\":{\"bgcolor\":\"#E5ECF6\",\"aaxis\":{\"gridcolor\":\"white\",\"linecolor\":\"white\",\"ticks\":\"\"},\"baxis\":{\"gridcolor\":\"white\",\"linecolor\":\"white\",\"ticks\":\"\"},\"caxis\":{\"gridcolor\":\"white\",\"linecolor\":\"white\",\"ticks\":\"\"}},\"coloraxis\":{\"colorbar\":{\"outlinewidth\":0,\"ticks\":\"\"}},\"colorscale\":{\"sequential\":[[0.0,\"#0d0887\"],[0.1111111111111111,\"#46039f\"],[0.2222222222222222,\"#7201a8\"],[0.3333333333333333,\"#9c179e\"],[0.4444444444444444,\"#bd3786\"],[0.5555555555555556,\"#d8576b\"],[0.6666666666666666,\"#ed7953\"],[0.7777777777777778,\"#fb9f3a\"],[0.8888888888888888,\"#fdca26\"],[1.0,\"#f0f921\"]],\"sequentialminus\":[[0.0,\"#0d0887\"],[0.1111111111111111,\"#46039f\"],[0.2222222222222222,\"#7201a8\"],[0.3333333333333333,\"#9c179e\"],[0.4444444444444444,\"#bd3786\"],[0.5555555555555556,\"#d8576b\"],[0.6666666666666666,\"#ed7953\"],[0.7777777777777778,\"#fb9f3a\"],[0.8888888888888888,\"#fdca26\"],[1.0,\"#f0f921\"]],\"diverging\":[[0,\"#8e0152\"],[0.1,\"#c51b7d\"],[0.2,\"#de77ae\"],[0.3,\"#f1b6da\"],[0.4,\"#fde0ef\"],[0.5,\"#f7f7f7\"],[0.6,\"#e6f5d0\"],[0.7,\"#b8e186\"],[0.8,\"#7fbc41\"],[0.9,\"#4d9221\"],[1,\"#276419\"]]},\"xaxis\":{\"gridcolor\":\"white\",\"linecolor\":\"white\",\"ticks\":\"\",\"title\":{\"standoff\":15},\"zerolinecolor\":\"white\",\"automargin\":true,\"zerolinewidth\":2},\"yaxis\":{\"gridcolor\":\"white\",\"linecolor\":\"white\",\"ticks\":\"\",\"title\":{\"standoff\":15},\"zerolinecolor\":\"white\",\"automargin\":true,\"zerolinewidth\":2},\"scene\":{\"xaxis\":{\"backgroundcolor\":\"#E5ECF6\",\"gridcolor\":\"white\",\"linecolor\":\"white\",\"showbackground\":true,\"ticks\":\"\",\"zerolinecolor\":\"white\",\"gridwidth\":2},\"yaxis\":{\"backgroundcolor\":\"#E5ECF6\",\"gridcolor\":\"white\",\"linecolor\":\"white\",\"showbackground\":true,\"ticks\":\"\",\"zerolinecolor\":\"white\",\"gridwidth\":2},\"zaxis\":{\"backgroundcolor\":\"#E5ECF6\",\"gridcolor\":\"white\",\"linecolor\":\"white\",\"showbackground\":true,\"ticks\":\"\",\"zerolinecolor\":\"white\",\"gridwidth\":2}},\"shapedefaults\":{\"line\":{\"color\":\"#2a3f5f\"}},\"annotationdefaults\":{\"arrowcolor\":\"#2a3f5f\",\"arrowhead\":0,\"arrowwidth\":1},\"geo\":{\"bgcolor\":\"white\",\"landcolor\":\"#E5ECF6\",\"subunitcolor\":\"white\",\"showland\":true,\"showlakes\":true,\"lakecolor\":\"white\"},\"title\":{\"x\":0.05},\"mapbox\":{\"style\":\"light\"}}},\"xaxis\":{\"anchor\":\"y\",\"domain\":[0.0,1.0],\"title\":{\"text\":\"x\\uc5f4\"}},\"yaxis\":{\"anchor\":\"x\",\"domain\":[0.0,1.0],\"title\":{\"text\":\"y\\uc5f4\"}},\"legend\":{\"title\":{\"text\":\"\\uc81c\\ubaa9\"},\"tracegroupgap\":0,\"x\":1,\"y\":0.3,\"bordercolor\":\"black\",\"borderwidth\":1},\"title\":{\"text\":\"\\uc0c8\\ub85c\\uc6b4 \\uadf8\\ub798\\ud504 \\uc81c\\ubaa9\",\"font\":{\"size\":24,\"color\":\"#a18cd1\"},\"x\":0.5}},                        {\"responsive\": true}                    ).then(function(){\n",
       "                            \n",
       "var gd = document.getElementById('848fbfdb-1589-4c53-81f3-74f9d9d0ecba');\n",
       "var x = new MutationObserver(function (mutations, observer) {{\n",
       "        var display = window.getComputedStyle(gd).display;\n",
       "        if (!display || display === 'none') {{\n",
       "            console.log([gd, 'removed!']);\n",
       "            Plotly.purge(gd);\n",
       "            observer.disconnect();\n",
       "        }}\n",
       "}});\n",
       "\n",
       "// Listen for the removal of the full notebook cells\n",
       "var notebookContainer = gd.closest('#notebook-container');\n",
       "if (notebookContainer) {{\n",
       "    x.observe(notebookContainer, {childList: true});\n",
       "}}\n",
       "\n",
       "// Listen for the clearing of the current output cell\n",
       "var outputEl = gd.closest('.output');\n",
       "if (outputEl) {{\n",
       "    x.observe(outputEl, {childList: true});\n",
       "}}\n",
       "\n",
       "                        })                };                });            </script>        </div>"
      ]
     },
     "metadata": {},
     "output_type": "display_data"
    }
   ],
   "source": [
    "import plotly.express as px\n",
    "import pandas as pd\n",
    "import numpy as np\n",
    "\n",
    "df = pd.DataFrame({\n",
    "    \"x열\": np.random.rand(100), # 0부터 1미만의 실수자료형의 난수형태 값을 랜덤으로 생성\n",
    "    \"y열\": np.random.rand(100), # 0부터 1미만의 실수자료형의 난수형태 값을 랜덤으로 생성\n",
    "    \"색상기준열\" : np.random.choice([\"A\", \"B\", \"C\"],100) # 0부터 1미만의 실수자료형의 난수형태 값을 랜덤으로 생성\n",
    "})\n",
    "\n",
    "fig = px.scatter(\n",
    "    df,\n",
    "    x=\"x열\",\n",
    "    y=\"y열\",\n",
    "    color = \"색상기준열\",\n",
    "    title = \"산점도 예제\"\n",
    ")\n",
    "\n",
    "fig.update_layout(\n",
    "    title = {\n",
    "        \"text\": \"새로운 그래프 제목\",\n",
    "        \"font\": {\"size\": 24, \"color\": \"#a18cd1\"},\n",
    "        \"x\": 0.5\n",
    "    },\n",
    "    # legend=dict(title=\"제목\")\n",
    "    \n",
    "    # legend={\n",
    "    #     \"title\": \"제목\"\n",
    "    # }\n",
    "\n",
    "    legend={\n",
    "        \"title\": \"제목\",\n",
    "        \"x\": 1,\n",
    "        \"y\": 0.3,\n",
    "        \"bordercolor\": \"black\",\n",
    "        \"borderwidth\": 1\n",
    "    }\n",
    ")\n",
    "\n",
    "fig.show()"
   ]
  },
  {
   "cell_type": "markdown",
   "id": "9c276f6d-e2db-41d0-be32-98590f461332",
   "metadata": {},
   "source": [
    "#### 산점도 그래프 활용\n",
    "1) 관계분석 : 서로 다른 변수 사이에 상관관계가 존재하는지 파악하고 싶을 때\n",
    "2) 패턴 및 경향성 파악 : 특정 데이터들이 어떤 패턴이나 경향성을 보이는지 확인하고자 할 때\n",
    "3) 이상치 감지 : 전체 데이터에서 특정 데이터가 다른 값들과 동떨어진 좌표값 = 이상치를 가지고 있을 때 식별\n",
    "4) 탐색적 데이터 분석 초반 단계 : 전체 총 데이터 안에 있는 feature들 간 상관관계 = 상호작용 여부를 판단하고자 할 때"
   ]
  },
  {
   "cell_type": "code",
   "execution_count": null,
   "id": "bd6fbdb0-08e5-4334-8b5d-148678947e7f",
   "metadata": {},
   "outputs": [],
   "source": [
    "# 선그래프 : 순차적인 순서에 따른 값의 변화를 선으로 연결해서 보고 싶을 때"
   ]
  },
  {
   "cell_type": "code",
   "execution_count": 50,
   "id": "744d0b17-99e0-4e85-a0c8-82d87414d575",
   "metadata": {},
   "outputs": [
    {
     "data": {
      "application/vnd.plotly.v1+json": {
       "config": {
        "plotlyServerURL": "https://plot.ly"
       },
       "data": [
        {
         "hovertemplate": "x열=%{x}<br>y열=%{y}<extra></extra>",
         "legendgroup": "",
         "line": {
          "color": "#636efa",
          "dash": "solid"
         },
         "marker": {
          "symbol": "circle"
         },
         "mode": "lines",
         "name": "",
         "orientation": "v",
         "showlegend": false,
         "type": "scatter",
         "x": [
          0,
          0.5050505050505051,
          1.0101010101010102,
          1.5151515151515151,
          2.0202020202020203,
          2.5252525252525255,
          3.0303030303030303,
          3.5353535353535355,
          4.040404040404041,
          4.545454545454546,
          5.050505050505051,
          5.555555555555556,
          6.0606060606060606,
          6.565656565656566,
          7.070707070707071,
          7.575757575757576,
          8.080808080808081,
          8.585858585858587,
          9.090909090909092,
          9.595959595959597,
          10.101010101010102,
          10.606060606060607,
          11.111111111111112,
          11.616161616161618,
          12.121212121212121,
          12.626262626262626,
          13.131313131313131,
          13.636363636363637,
          14.141414141414142,
          14.646464646464647,
          15.151515151515152,
          15.656565656565657,
          16.161616161616163,
          16.666666666666668,
          17.171717171717173,
          17.67676767676768,
          18.181818181818183,
          18.68686868686869,
          19.191919191919194,
          19.6969696969697,
          20.202020202020204,
          20.70707070707071,
          21.212121212121215,
          21.71717171717172,
          22.222222222222225,
          22.72727272727273,
          23.232323232323235,
          23.73737373737374,
          24.242424242424242,
          24.747474747474747,
          25.252525252525253,
          25.757575757575758,
          26.262626262626263,
          26.767676767676768,
          27.272727272727273,
          27.77777777777778,
          28.282828282828284,
          28.78787878787879,
          29.292929292929294,
          29.7979797979798,
          30.303030303030305,
          30.80808080808081,
          31.313131313131315,
          31.81818181818182,
          32.323232323232325,
          32.82828282828283,
          33.333333333333336,
          33.83838383838384,
          34.343434343434346,
          34.84848484848485,
          35.35353535353536,
          35.85858585858586,
          36.36363636363637,
          36.86868686868687,
          37.37373737373738,
          37.87878787878788,
          38.38383838383839,
          38.88888888888889,
          39.3939393939394,
          39.8989898989899,
          40.40404040404041,
          40.909090909090914,
          41.41414141414142,
          41.919191919191924,
          42.42424242424243,
          42.929292929292934,
          43.43434343434344,
          43.939393939393945,
          44.44444444444445,
          44.949494949494955,
          45.45454545454546,
          45.959595959595966,
          46.46464646464647,
          46.969696969696976,
          47.47474747474748,
          47.979797979797986,
          48.484848484848484,
          48.98989898989899,
          49.494949494949495,
          50
         ],
         "xaxis": "x",
         "y": [
          0.04084015606189739,
          0.3320169625264068,
          0.3950679582805393,
          0.2037404937886096,
          0.5841087428535332,
          0.9089647750773329,
          0.5892219143911289,
          0.07904609849042932,
          0.6091821155692777,
          0.9056744049018417,
          0.09439141284151287,
          0.6576806228055502,
          0.48232273103772283,
          0.9884035536545978,
          0.4997031563381136,
          0.9703596320718038,
          0.046767986683981744,
          0.04547184231708079,
          0.7751446701542236,
          0.08861346823864547,
          0.7827098544330464,
          0.8477117597117163,
          0.7753900459320906,
          0.7634084886781799,
          0.820272842901076,
          0.5173527963334648,
          0.6648589852591666,
          0.6843411403719625,
          0.6648478554075263,
          0.09228971278313924,
          0.17164060858518992,
          0.5366204878526751,
          0.35790865874973676,
          0.015419692510581284,
          0.8909635276004502,
          0.24502224477089662,
          0.6615673322735103,
          0.9156963720121383,
          0.4220921942804031,
          0.07719393136230446,
          0.48432731768248505,
          0.47629954207675673,
          0.23808351208393885,
          0.31756129926672827,
          0.9029764051051522,
          0.02807775057977635,
          0.2111943326497615,
          0.11175031764327759,
          0.44303680287402236,
          0.6939792158211671,
          0.9055140201347268,
          0.9249298797944662,
          0.8045667744666339,
          0.42687655019793447,
          0.23772719610234394,
          0.22715478888542917,
          0.8961315799648722,
          0.9829111194112657,
          0.945368427424389,
          0.09436641195285,
          0.5005446137554697,
          0.6587742924748813,
          0.4375027396042903,
          0.4371471019166603,
          0.16324472807378343,
          0.9542616742530418,
          0.021578049765987872,
          0.9186810187544985,
          0.833160945277577,
          0.21027028252563496,
          0.7785559948590233,
          0.9577167535614166,
          0.1266773803884903,
          0.8255815281429387,
          0.6873632577903777,
          0.6162008316028706,
          0.168834186523948,
          0.3008880892430257,
          0.7159621006977226,
          0.23402913162144112,
          0.9390176949796091,
          0.42653693372488777,
          0.2744787542034671,
          0.010507636381421492,
          0.11855187592990479,
          0.20222814791030663,
          0.9209040824169055,
          0.5195765152747635,
          0.6628755783159347,
          0.6093131186717498,
          0.2778464263942041,
          0.07733426933626653,
          0.6969568687022898,
          0.6116505034877046,
          0.5975332455096429,
          0.9101824414086475,
          0.029214915464800262,
          0.6564441112201053,
          0.9740779753206188,
          0.18281398461282905
         ],
         "yaxis": "y"
        }
       ],
       "layout": {
        "legend": {
         "tracegroupgap": 0
        },
        "template": {
         "data": {
          "bar": [
           {
            "error_x": {
             "color": "#2a3f5f"
            },
            "error_y": {
             "color": "#2a3f5f"
            },
            "marker": {
             "line": {
              "color": "#E5ECF6",
              "width": 0.5
             },
             "pattern": {
              "fillmode": "overlay",
              "size": 10,
              "solidity": 0.2
             }
            },
            "type": "bar"
           }
          ],
          "barpolar": [
           {
            "marker": {
             "line": {
              "color": "#E5ECF6",
              "width": 0.5
             },
             "pattern": {
              "fillmode": "overlay",
              "size": 10,
              "solidity": 0.2
             }
            },
            "type": "barpolar"
           }
          ],
          "carpet": [
           {
            "aaxis": {
             "endlinecolor": "#2a3f5f",
             "gridcolor": "white",
             "linecolor": "white",
             "minorgridcolor": "white",
             "startlinecolor": "#2a3f5f"
            },
            "baxis": {
             "endlinecolor": "#2a3f5f",
             "gridcolor": "white",
             "linecolor": "white",
             "minorgridcolor": "white",
             "startlinecolor": "#2a3f5f"
            },
            "type": "carpet"
           }
          ],
          "choropleth": [
           {
            "colorbar": {
             "outlinewidth": 0,
             "ticks": ""
            },
            "type": "choropleth"
           }
          ],
          "contour": [
           {
            "colorbar": {
             "outlinewidth": 0,
             "ticks": ""
            },
            "colorscale": [
             [
              0,
              "#0d0887"
             ],
             [
              0.1111111111111111,
              "#46039f"
             ],
             [
              0.2222222222222222,
              "#7201a8"
             ],
             [
              0.3333333333333333,
              "#9c179e"
             ],
             [
              0.4444444444444444,
              "#bd3786"
             ],
             [
              0.5555555555555556,
              "#d8576b"
             ],
             [
              0.6666666666666666,
              "#ed7953"
             ],
             [
              0.7777777777777778,
              "#fb9f3a"
             ],
             [
              0.8888888888888888,
              "#fdca26"
             ],
             [
              1,
              "#f0f921"
             ]
            ],
            "type": "contour"
           }
          ],
          "contourcarpet": [
           {
            "colorbar": {
             "outlinewidth": 0,
             "ticks": ""
            },
            "type": "contourcarpet"
           }
          ],
          "heatmap": [
           {
            "colorbar": {
             "outlinewidth": 0,
             "ticks": ""
            },
            "colorscale": [
             [
              0,
              "#0d0887"
             ],
             [
              0.1111111111111111,
              "#46039f"
             ],
             [
              0.2222222222222222,
              "#7201a8"
             ],
             [
              0.3333333333333333,
              "#9c179e"
             ],
             [
              0.4444444444444444,
              "#bd3786"
             ],
             [
              0.5555555555555556,
              "#d8576b"
             ],
             [
              0.6666666666666666,
              "#ed7953"
             ],
             [
              0.7777777777777778,
              "#fb9f3a"
             ],
             [
              0.8888888888888888,
              "#fdca26"
             ],
             [
              1,
              "#f0f921"
             ]
            ],
            "type": "heatmap"
           }
          ],
          "heatmapgl": [
           {
            "colorbar": {
             "outlinewidth": 0,
             "ticks": ""
            },
            "colorscale": [
             [
              0,
              "#0d0887"
             ],
             [
              0.1111111111111111,
              "#46039f"
             ],
             [
              0.2222222222222222,
              "#7201a8"
             ],
             [
              0.3333333333333333,
              "#9c179e"
             ],
             [
              0.4444444444444444,
              "#bd3786"
             ],
             [
              0.5555555555555556,
              "#d8576b"
             ],
             [
              0.6666666666666666,
              "#ed7953"
             ],
             [
              0.7777777777777778,
              "#fb9f3a"
             ],
             [
              0.8888888888888888,
              "#fdca26"
             ],
             [
              1,
              "#f0f921"
             ]
            ],
            "type": "heatmapgl"
           }
          ],
          "histogram": [
           {
            "marker": {
             "pattern": {
              "fillmode": "overlay",
              "size": 10,
              "solidity": 0.2
             }
            },
            "type": "histogram"
           }
          ],
          "histogram2d": [
           {
            "colorbar": {
             "outlinewidth": 0,
             "ticks": ""
            },
            "colorscale": [
             [
              0,
              "#0d0887"
             ],
             [
              0.1111111111111111,
              "#46039f"
             ],
             [
              0.2222222222222222,
              "#7201a8"
             ],
             [
              0.3333333333333333,
              "#9c179e"
             ],
             [
              0.4444444444444444,
              "#bd3786"
             ],
             [
              0.5555555555555556,
              "#d8576b"
             ],
             [
              0.6666666666666666,
              "#ed7953"
             ],
             [
              0.7777777777777778,
              "#fb9f3a"
             ],
             [
              0.8888888888888888,
              "#fdca26"
             ],
             [
              1,
              "#f0f921"
             ]
            ],
            "type": "histogram2d"
           }
          ],
          "histogram2dcontour": [
           {
            "colorbar": {
             "outlinewidth": 0,
             "ticks": ""
            },
            "colorscale": [
             [
              0,
              "#0d0887"
             ],
             [
              0.1111111111111111,
              "#46039f"
             ],
             [
              0.2222222222222222,
              "#7201a8"
             ],
             [
              0.3333333333333333,
              "#9c179e"
             ],
             [
              0.4444444444444444,
              "#bd3786"
             ],
             [
              0.5555555555555556,
              "#d8576b"
             ],
             [
              0.6666666666666666,
              "#ed7953"
             ],
             [
              0.7777777777777778,
              "#fb9f3a"
             ],
             [
              0.8888888888888888,
              "#fdca26"
             ],
             [
              1,
              "#f0f921"
             ]
            ],
            "type": "histogram2dcontour"
           }
          ],
          "mesh3d": [
           {
            "colorbar": {
             "outlinewidth": 0,
             "ticks": ""
            },
            "type": "mesh3d"
           }
          ],
          "parcoords": [
           {
            "line": {
             "colorbar": {
              "outlinewidth": 0,
              "ticks": ""
             }
            },
            "type": "parcoords"
           }
          ],
          "pie": [
           {
            "automargin": true,
            "type": "pie"
           }
          ],
          "scatter": [
           {
            "fillpattern": {
             "fillmode": "overlay",
             "size": 10,
             "solidity": 0.2
            },
            "type": "scatter"
           }
          ],
          "scatter3d": [
           {
            "line": {
             "colorbar": {
              "outlinewidth": 0,
              "ticks": ""
             }
            },
            "marker": {
             "colorbar": {
              "outlinewidth": 0,
              "ticks": ""
             }
            },
            "type": "scatter3d"
           }
          ],
          "scattercarpet": [
           {
            "marker": {
             "colorbar": {
              "outlinewidth": 0,
              "ticks": ""
             }
            },
            "type": "scattercarpet"
           }
          ],
          "scattergeo": [
           {
            "marker": {
             "colorbar": {
              "outlinewidth": 0,
              "ticks": ""
             }
            },
            "type": "scattergeo"
           }
          ],
          "scattergl": [
           {
            "marker": {
             "colorbar": {
              "outlinewidth": 0,
              "ticks": ""
             }
            },
            "type": "scattergl"
           }
          ],
          "scattermapbox": [
           {
            "marker": {
             "colorbar": {
              "outlinewidth": 0,
              "ticks": ""
             }
            },
            "type": "scattermapbox"
           }
          ],
          "scatterpolar": [
           {
            "marker": {
             "colorbar": {
              "outlinewidth": 0,
              "ticks": ""
             }
            },
            "type": "scatterpolar"
           }
          ],
          "scatterpolargl": [
           {
            "marker": {
             "colorbar": {
              "outlinewidth": 0,
              "ticks": ""
             }
            },
            "type": "scatterpolargl"
           }
          ],
          "scatterternary": [
           {
            "marker": {
             "colorbar": {
              "outlinewidth": 0,
              "ticks": ""
             }
            },
            "type": "scatterternary"
           }
          ],
          "surface": [
           {
            "colorbar": {
             "outlinewidth": 0,
             "ticks": ""
            },
            "colorscale": [
             [
              0,
              "#0d0887"
             ],
             [
              0.1111111111111111,
              "#46039f"
             ],
             [
              0.2222222222222222,
              "#7201a8"
             ],
             [
              0.3333333333333333,
              "#9c179e"
             ],
             [
              0.4444444444444444,
              "#bd3786"
             ],
             [
              0.5555555555555556,
              "#d8576b"
             ],
             [
              0.6666666666666666,
              "#ed7953"
             ],
             [
              0.7777777777777778,
              "#fb9f3a"
             ],
             [
              0.8888888888888888,
              "#fdca26"
             ],
             [
              1,
              "#f0f921"
             ]
            ],
            "type": "surface"
           }
          ],
          "table": [
           {
            "cells": {
             "fill": {
              "color": "#EBF0F8"
             },
             "line": {
              "color": "white"
             }
            },
            "header": {
             "fill": {
              "color": "#C8D4E3"
             },
             "line": {
              "color": "white"
             }
            },
            "type": "table"
           }
          ]
         },
         "layout": {
          "annotationdefaults": {
           "arrowcolor": "#2a3f5f",
           "arrowhead": 0,
           "arrowwidth": 1
          },
          "autotypenumbers": "strict",
          "coloraxis": {
           "colorbar": {
            "outlinewidth": 0,
            "ticks": ""
           }
          },
          "colorscale": {
           "diverging": [
            [
             0,
             "#8e0152"
            ],
            [
             0.1,
             "#c51b7d"
            ],
            [
             0.2,
             "#de77ae"
            ],
            [
             0.3,
             "#f1b6da"
            ],
            [
             0.4,
             "#fde0ef"
            ],
            [
             0.5,
             "#f7f7f7"
            ],
            [
             0.6,
             "#e6f5d0"
            ],
            [
             0.7,
             "#b8e186"
            ],
            [
             0.8,
             "#7fbc41"
            ],
            [
             0.9,
             "#4d9221"
            ],
            [
             1,
             "#276419"
            ]
           ],
           "sequential": [
            [
             0,
             "#0d0887"
            ],
            [
             0.1111111111111111,
             "#46039f"
            ],
            [
             0.2222222222222222,
             "#7201a8"
            ],
            [
             0.3333333333333333,
             "#9c179e"
            ],
            [
             0.4444444444444444,
             "#bd3786"
            ],
            [
             0.5555555555555556,
             "#d8576b"
            ],
            [
             0.6666666666666666,
             "#ed7953"
            ],
            [
             0.7777777777777778,
             "#fb9f3a"
            ],
            [
             0.8888888888888888,
             "#fdca26"
            ],
            [
             1,
             "#f0f921"
            ]
           ],
           "sequentialminus": [
            [
             0,
             "#0d0887"
            ],
            [
             0.1111111111111111,
             "#46039f"
            ],
            [
             0.2222222222222222,
             "#7201a8"
            ],
            [
             0.3333333333333333,
             "#9c179e"
            ],
            [
             0.4444444444444444,
             "#bd3786"
            ],
            [
             0.5555555555555556,
             "#d8576b"
            ],
            [
             0.6666666666666666,
             "#ed7953"
            ],
            [
             0.7777777777777778,
             "#fb9f3a"
            ],
            [
             0.8888888888888888,
             "#fdca26"
            ],
            [
             1,
             "#f0f921"
            ]
           ]
          },
          "colorway": [
           "#636efa",
           "#EF553B",
           "#00cc96",
           "#ab63fa",
           "#FFA15A",
           "#19d3f3",
           "#FF6692",
           "#B6E880",
           "#FF97FF",
           "#FECB52"
          ],
          "font": {
           "color": "#2a3f5f"
          },
          "geo": {
           "bgcolor": "white",
           "lakecolor": "white",
           "landcolor": "#E5ECF6",
           "showlakes": true,
           "showland": true,
           "subunitcolor": "white"
          },
          "hoverlabel": {
           "align": "left"
          },
          "hovermode": "closest",
          "mapbox": {
           "style": "light"
          },
          "paper_bgcolor": "white",
          "plot_bgcolor": "#E5ECF6",
          "polar": {
           "angularaxis": {
            "gridcolor": "white",
            "linecolor": "white",
            "ticks": ""
           },
           "bgcolor": "#E5ECF6",
           "radialaxis": {
            "gridcolor": "white",
            "linecolor": "white",
            "ticks": ""
           }
          },
          "scene": {
           "xaxis": {
            "backgroundcolor": "#E5ECF6",
            "gridcolor": "white",
            "gridwidth": 2,
            "linecolor": "white",
            "showbackground": true,
            "ticks": "",
            "zerolinecolor": "white"
           },
           "yaxis": {
            "backgroundcolor": "#E5ECF6",
            "gridcolor": "white",
            "gridwidth": 2,
            "linecolor": "white",
            "showbackground": true,
            "ticks": "",
            "zerolinecolor": "white"
           },
           "zaxis": {
            "backgroundcolor": "#E5ECF6",
            "gridcolor": "white",
            "gridwidth": 2,
            "linecolor": "white",
            "showbackground": true,
            "ticks": "",
            "zerolinecolor": "white"
           }
          },
          "shapedefaults": {
           "line": {
            "color": "#2a3f5f"
           }
          },
          "ternary": {
           "aaxis": {
            "gridcolor": "white",
            "linecolor": "white",
            "ticks": ""
           },
           "baxis": {
            "gridcolor": "white",
            "linecolor": "white",
            "ticks": ""
           },
           "bgcolor": "#E5ECF6",
           "caxis": {
            "gridcolor": "white",
            "linecolor": "white",
            "ticks": ""
           }
          },
          "title": {
           "x": 0.05
          },
          "xaxis": {
           "automargin": true,
           "gridcolor": "white",
           "linecolor": "white",
           "ticks": "",
           "title": {
            "standoff": 15
           },
           "zerolinecolor": "white",
           "zerolinewidth": 2
          },
          "yaxis": {
           "automargin": true,
           "gridcolor": "white",
           "linecolor": "white",
           "ticks": "",
           "title": {
            "standoff": 15
           },
           "zerolinecolor": "white",
           "zerolinewidth": 2
          }
         }
        },
        "title": {
         "text": "선 그래프 예제"
        },
        "xaxis": {
         "anchor": "y",
         "domain": [
          0,
          1
         ],
         "dtick": 5,
         "tickangle": 45,
         "tickfont": {
          "size": 12
         },
         "title": {
          "font": {
           "color": "purple",
           "size": 18
          },
          "text": "시간(초)"
         }
        },
        "yaxis": {
         "anchor": "x",
         "domain": [
          0,
          1
         ],
         "title": {
          "text": "y열"
         }
        }
       }
      },
      "image/png": "[encoded data removed]",
      "text/html": [
       "<div>                            <div id=\"4622c15b-1e21-472b-9407-52821f423def\" class=\"plotly-graph-div\" style=\"height:525px; width:100%;\"></div>            <script type=\"text/javascript\">                require([\"plotly\"], function(Plotly) {                    window.PLOTLYENV=window.PLOTLYENV || {};                                    if (document.getElementById(\"4622c15b-1e21-472b-9407-52821f423def\")) {                    Plotly.newPlot(                        \"4622c15b-1e21-472b-9407-52821f423def\",                        [{\"hovertemplate\":\"x\\uc5f4=%{x}\\u003cbr\\u003ey\\uc5f4=%{y}\\u003cextra\\u003e\\u003c\\u002fextra\\u003e\",\"legendgroup\":\"\",\"line\":{\"color\":\"#636efa\",\"dash\":\"solid\"},\"marker\":{\"symbol\":\"circle\"},\"mode\":\"lines\",\"name\":\"\",\"orientation\":\"v\",\"showlegend\":false,\"x\":[0.0,0.5050505050505051,1.0101010101010102,1.5151515151515151,2.0202020202020203,2.5252525252525255,3.0303030303030303,3.5353535353535355,4.040404040404041,4.545454545454546,5.050505050505051,5.555555555555556,6.0606060606060606,6.565656565656566,7.070707070707071,7.575757575757576,8.080808080808081,8.585858585858587,9.090909090909092,9.595959595959597,10.101010101010102,10.606060606060607,11.111111111111112,11.616161616161618,12.121212121212121,12.626262626262626,13.131313131313131,13.636363636363637,14.141414141414142,14.646464646464647,15.151515151515152,15.656565656565657,16.161616161616163,16.666666666666668,17.171717171717173,17.67676767676768,18.181818181818183,18.68686868686869,19.191919191919194,19.6969696969697,20.202020202020204,20.70707070707071,21.212121212121215,21.71717171717172,22.222222222222225,22.72727272727273,23.232323232323235,23.73737373737374,24.242424242424242,24.747474747474747,25.252525252525253,25.757575757575758,26.262626262626263,26.767676767676768,27.272727272727273,27.77777777777778,28.282828282828284,28.78787878787879,29.292929292929294,29.7979797979798,30.303030303030305,30.80808080808081,31.313131313131315,31.81818181818182,32.323232323232325,32.82828282828283,33.333333333333336,33.83838383838384,34.343434343434346,34.84848484848485,35.35353535353536,35.85858585858586,36.36363636363637,36.86868686868687,37.37373737373738,37.87878787878788,38.38383838383839,38.88888888888889,39.3939393939394,39.8989898989899,40.40404040404041,40.909090909090914,41.41414141414142,41.919191919191924,42.42424242424243,42.929292929292934,43.43434343434344,43.939393939393945,44.44444444444445,44.949494949494955,45.45454545454546,45.959595959595966,46.46464646464647,46.969696969696976,47.47474747474748,47.979797979797986,48.484848484848484,48.98989898989899,49.494949494949495,50.0],\"xaxis\":\"x\",\"y\":[0.04084015606189739,0.3320169625264068,0.3950679582805393,0.2037404937886096,0.5841087428535332,0.9089647750773329,0.5892219143911289,0.07904609849042932,0.6091821155692777,0.9056744049018417,0.09439141284151287,0.6576806228055502,0.48232273103772283,0.9884035536545978,0.4997031563381136,0.9703596320718038,0.046767986683981744,0.04547184231708079,0.7751446701542236,0.08861346823864547,0.7827098544330464,0.8477117597117163,0.7753900459320906,0.7634084886781799,0.820272842901076,0.5173527963334648,0.6648589852591666,0.6843411403719625,0.6648478554075263,0.09228971278313924,0.17164060858518992,0.5366204878526751,0.35790865874973676,0.015419692510581284,0.8909635276004502,0.24502224477089662,0.6615673322735103,0.9156963720121383,0.4220921942804031,0.07719393136230446,0.48432731768248505,0.47629954207675673,0.23808351208393885,0.31756129926672827,0.9029764051051522,0.02807775057977635,0.2111943326497615,0.11175031764327759,0.44303680287402236,0.6939792158211671,0.9055140201347268,0.9249298797944662,0.8045667744666339,0.42687655019793447,0.23772719610234394,0.22715478888542917,0.8961315799648722,0.9829111194112657,0.945368427424389,0.09436641195285,0.5005446137554697,0.6587742924748813,0.4375027396042903,0.4371471019166603,0.16324472807378343,0.9542616742530418,0.021578049765987872,0.9186810187544985,0.833160945277577,0.21027028252563496,0.7785559948590233,0.9577167535614166,0.1266773803884903,0.8255815281429387,0.6873632577903777,0.6162008316028706,0.168834186523948,0.3008880892430257,0.7159621006977226,0.23402913162144112,0.9390176949796091,0.42653693372488777,0.2744787542034671,0.010507636381421492,0.11855187592990479,0.20222814791030663,0.9209040824169055,0.5195765152747635,0.6628755783159347,0.6093131186717498,0.2778464263942041,0.07733426933626653,0.6969568687022898,0.6116505034877046,0.5975332455096429,0.9101824414086475,0.029214915464800262,0.6564441112201053,0.9740779753206188,0.18281398461282905],\"yaxis\":\"y\",\"type\":\"scatter\"}],                        {\"template\":{\"data\":{\"histogram2dcontour\":[{\"type\":\"histogram2dcontour\",\"colorbar\":{\"outlinewidth\":0,\"ticks\":\"\"},\"colorscale\":[[0.0,\"#0d0887\"],[0.1111111111111111,\"#46039f\"],[0.2222222222222222,\"#7201a8\"],[0.3333333333333333,\"#9c179e\"],[0.4444444444444444,\"#bd3786\"],[0.5555555555555556,\"#d8576b\"],[0.6666666666666666,\"#ed7953\"],[0.7777777777777778,\"#fb9f3a\"],[0.8888888888888888,\"#fdca26\"],[1.0,\"#f0f921\"]]}],\"choropleth\":[{\"type\":\"choropleth\",\"colorbar\":{\"outlinewidth\":0,\"ticks\":\"\"}}],\"histogram2d\":[{\"type\":\"histogram2d\",\"colorbar\":{\"outlinewidth\":0,\"ticks\":\"\"},\"colorscale\":[[0.0,\"#0d0887\"],[0.1111111111111111,\"#46039f\"],[0.2222222222222222,\"#7201a8\"],[0.3333333333333333,\"#9c179e\"],[0.4444444444444444,\"#bd3786\"],[0.5555555555555556,\"#d8576b\"],[0.6666666666666666,\"#ed7953\"],[0.7777777777777778,\"#fb9f3a\"],[0.8888888888888888,\"#fdca26\"],[1.0,\"#f0f921\"]]}],\"heatmap\":[{\"type\":\"heatmap\",\"colorbar\":{\"outlinewidth\":0,\"ticks\":\"\"},\"colorscale\":[[0.0,\"#0d0887\"],[0.1111111111111111,\"#46039f\"],[0.2222222222222222,\"#7201a8\"],[0.3333333333333333,\"#9c179e\"],[0.4444444444444444,\"#bd3786\"],[0.5555555555555556,\"#d8576b\"],[0.6666666666666666,\"#ed7953\"],[0.7777777777777778,\"#fb9f3a\"],[0.8888888888888888,\"#fdca26\"],[1.0,\"#f0f921\"]]}],\"heatmapgl\":[{\"type\":\"heatmapgl\",\"colorbar\":{\"outlinewidth\":0,\"ticks\":\"\"},\"colorscale\":[[0.0,\"#0d0887\"],[0.1111111111111111,\"#46039f\"],[0.2222222222222222,\"#7201a8\"],[0.3333333333333333,\"#9c179e\"],[0.4444444444444444,\"#bd3786\"],[0.5555555555555556,\"#d8576b\"],[0.6666666666666666,\"#ed7953\"],[0.7777777777777778,\"#fb9f3a\"],[0.8888888888888888,\"#fdca26\"],[1.0,\"#f0f921\"]]}],\"contourcarpet\":[{\"type\":\"contourcarpet\",\"colorbar\":{\"outlinewidth\":0,\"ticks\":\"\"}}],\"contour\":[{\"type\":\"contour\",\"colorbar\":{\"outlinewidth\":0,\"ticks\":\"\"},\"colorscale\":[[0.0,\"#0d0887\"],[0.1111111111111111,\"#46039f\"],[0.2222222222222222,\"#7201a8\"],[0.3333333333333333,\"#9c179e\"],[0.4444444444444444,\"#bd3786\"],[0.5555555555555556,\"#d8576b\"],[0.6666666666666666,\"#ed7953\"],[0.7777777777777778,\"#fb9f3a\"],[0.8888888888888888,\"#fdca26\"],[1.0,\"#f0f921\"]]}],\"surface\":[{\"type\":\"surface\",\"colorbar\":{\"outlinewidth\":0,\"ticks\":\"\"},\"colorscale\":[[0.0,\"#0d0887\"],[0.1111111111111111,\"#46039f\"],[0.2222222222222222,\"#7201a8\"],[0.3333333333333333,\"#9c179e\"],[0.4444444444444444,\"#bd3786\"],[0.5555555555555556,\"#d8576b\"],[0.6666666666666666,\"#ed7953\"],[0.7777777777777778,\"#fb9f3a\"],[0.8888888888888888,\"#fdca26\"],[1.0,\"#f0f921\"]]}],\"mesh3d\":[{\"type\":\"mesh3d\",\"colorbar\":{\"outlinewidth\":0,\"ticks\":\"\"}}],\"scatter\":[{\"fillpattern\":{\"fillmode\":\"overlay\",\"size\":10,\"solidity\":0.2},\"type\":\"scatter\"}],\"parcoords\":[{\"type\":\"parcoords\",\"line\":{\"colorbar\":{\"outlinewidth\":0,\"ticks\":\"\"}}}],\"scatterpolargl\":[{\"type\":\"scatterpolargl\",\"marker\":{\"colorbar\":{\"outlinewidth\":0,\"ticks\":\"\"}}}],\"bar\":[{\"error_x\":{\"color\":\"#2a3f5f\"},\"error_y\":{\"color\":\"#2a3f5f\"},\"marker\":{\"line\":{\"color\":\"#E5ECF6\",\"width\":0.5},\"pattern\":{\"fillmode\":\"overlay\",\"size\":10,\"solidity\":0.2}},\"type\":\"bar\"}],\"scattergeo\":[{\"type\":\"scattergeo\",\"marker\":{\"colorbar\":{\"outlinewidth\":0,\"ticks\":\"\"}}}],\"scatterpolar\":[{\"type\":\"scatterpolar\",\"marker\":{\"colorbar\":{\"outlinewidth\":0,\"ticks\":\"\"}}}],\"histogram\":[{\"marker\":{\"pattern\":{\"fillmode\":\"overlay\",\"size\":10,\"solidity\":0.2}},\"type\":\"histogram\"}],\"scattergl\":[{\"type\":\"scattergl\",\"marker\":{\"colorbar\":{\"outlinewidth\":0,\"ticks\":\"\"}}}],\"scatter3d\":[{\"type\":\"scatter3d\",\"line\":{\"colorbar\":{\"outlinewidth\":0,\"ticks\":\"\"}},\"marker\":{\"colorbar\":{\"outlinewidth\":0,\"ticks\":\"\"}}}],\"scattermapbox\":[{\"type\":\"scattermapbox\",\"marker\":{\"colorbar\":{\"outlinewidth\":0,\"ticks\":\"\"}}}],\"scatterternary\":[{\"type\":\"scatterternary\",\"marker\":{\"colorbar\":{\"outlinewidth\":0,\"ticks\":\"\"}}}],\"scattercarpet\":[{\"type\":\"scattercarpet\",\"marker\":{\"colorbar\":{\"outlinewidth\":0,\"ticks\":\"\"}}}],\"carpet\":[{\"aaxis\":{\"endlinecolor\":\"#2a3f5f\",\"gridcolor\":\"white\",\"linecolor\":\"white\",\"minorgridcolor\":\"white\",\"startlinecolor\":\"#2a3f5f\"},\"baxis\":{\"endlinecolor\":\"#2a3f5f\",\"gridcolor\":\"white\",\"linecolor\":\"white\",\"minorgridcolor\":\"white\",\"startlinecolor\":\"#2a3f5f\"},\"type\":\"carpet\"}],\"table\":[{\"cells\":{\"fill\":{\"color\":\"#EBF0F8\"},\"line\":{\"color\":\"white\"}},\"header\":{\"fill\":{\"color\":\"#C8D4E3\"},\"line\":{\"color\":\"white\"}},\"type\":\"table\"}],\"barpolar\":[{\"marker\":{\"line\":{\"color\":\"#E5ECF6\",\"width\":0.5},\"pattern\":{\"fillmode\":\"overlay\",\"size\":10,\"solidity\":0.2}},\"type\":\"barpolar\"}],\"pie\":[{\"automargin\":true,\"type\":\"pie\"}]},\"layout\":{\"autotypenumbers\":\"strict\",\"colorway\":[\"#636efa\",\"#EF553B\",\"#00cc96\",\"#ab63fa\",\"#FFA15A\",\"#19d3f3\",\"#FF6692\",\"#B6E880\",\"#FF97FF\",\"#FECB52\"],\"font\":{\"color\":\"#2a3f5f\"},\"hovermode\":\"closest\",\"hoverlabel\":{\"align\":\"left\"},\"paper_bgcolor\":\"white\",\"plot_bgcolor\":\"#E5ECF6\",\"polar\":{\"bgcolor\":\"#E5ECF6\",\"angularaxis\":{\"gridcolor\":\"white\",\"linecolor\":\"white\",\"ticks\":\"\"},\"radialaxis\":{\"gridcolor\":\"white\",\"linecolor\":\"white\",\"ticks\":\"\"}},\"ternary\":{\"bgcolor\":\"#E5ECF6\",\"aaxis\":{\"gridcolor\":\"white\",\"linecolor\":\"white\",\"ticks\":\"\"},\"baxis\":{\"gridcolor\":\"white\",\"linecolor\":\"white\",\"ticks\":\"\"},\"caxis\":{\"gridcolor\":\"white\",\"linecolor\":\"white\",\"ticks\":\"\"}},\"coloraxis\":{\"colorbar\":{\"outlinewidth\":0,\"ticks\":\"\"}},\"colorscale\":{\"sequential\":[[0.0,\"#0d0887\"],[0.1111111111111111,\"#46039f\"],[0.2222222222222222,\"#7201a8\"],[0.3333333333333333,\"#9c179e\"],[0.4444444444444444,\"#bd3786\"],[0.5555555555555556,\"#d8576b\"],[0.6666666666666666,\"#ed7953\"],[0.7777777777777778,\"#fb9f3a\"],[0.8888888888888888,\"#fdca26\"],[1.0,\"#f0f921\"]],\"sequentialminus\":[[0.0,\"#0d0887\"],[0.1111111111111111,\"#46039f\"],[0.2222222222222222,\"#7201a8\"],[0.3333333333333333,\"#9c179e\"],[0.4444444444444444,\"#bd3786\"],[0.5555555555555556,\"#d8576b\"],[0.6666666666666666,\"#ed7953\"],[0.7777777777777778,\"#fb9f3a\"],[0.8888888888888888,\"#fdca26\"],[1.0,\"#f0f921\"]],\"diverging\":[[0,\"#8e0152\"],[0.1,\"#c51b7d\"],[0.2,\"#de77ae\"],[0.3,\"#f1b6da\"],[0.4,\"#fde0ef\"],[0.5,\"#f7f7f7\"],[0.6,\"#e6f5d0\"],[0.7,\"#b8e186\"],[0.8,\"#7fbc41\"],[0.9,\"#4d9221\"],[1,\"#276419\"]]},\"xaxis\":{\"gridcolor\":\"white\",\"linecolor\":\"white\",\"ticks\":\"\",\"title\":{\"standoff\":15},\"zerolinecolor\":\"white\",\"automargin\":true,\"zerolinewidth\":2},\"yaxis\":{\"gridcolor\":\"white\",\"linecolor\":\"white\",\"ticks\":\"\",\"title\":{\"standoff\":15},\"zerolinecolor\":\"white\",\"automargin\":true,\"zerolinewidth\":2},\"scene\":{\"xaxis\":{\"backgroundcolor\":\"#E5ECF6\",\"gridcolor\":\"white\",\"linecolor\":\"white\",\"showbackground\":true,\"ticks\":\"\",\"zerolinecolor\":\"white\",\"gridwidth\":2},\"yaxis\":{\"backgroundcolor\":\"#E5ECF6\",\"gridcolor\":\"white\",\"linecolor\":\"white\",\"showbackground\":true,\"ticks\":\"\",\"zerolinecolor\":\"white\",\"gridwidth\":2},\"zaxis\":{\"backgroundcolor\":\"#E5ECF6\",\"gridcolor\":\"white\",\"linecolor\":\"white\",\"showbackground\":true,\"ticks\":\"\",\"zerolinecolor\":\"white\",\"gridwidth\":2}},\"shapedefaults\":{\"line\":{\"color\":\"#2a3f5f\"}},\"annotationdefaults\":{\"arrowcolor\":\"#2a3f5f\",\"arrowhead\":0,\"arrowwidth\":1},\"geo\":{\"bgcolor\":\"white\",\"landcolor\":\"#E5ECF6\",\"subunitcolor\":\"white\",\"showland\":true,\"showlakes\":true,\"lakecolor\":\"white\"},\"title\":{\"x\":0.05},\"mapbox\":{\"style\":\"light\"}}},\"xaxis\":{\"anchor\":\"y\",\"domain\":[0.0,1.0],\"title\":{\"text\":\"\\uc2dc\\uac04(\\ucd08)\",\"font\":{\"size\":18,\"color\":\"purple\"}},\"tickfont\":{\"size\":12},\"tickangle\":45,\"dtick\":5},\"yaxis\":{\"anchor\":\"x\",\"domain\":[0.0,1.0],\"title\":{\"text\":\"y\\uc5f4\"}},\"legend\":{\"tracegroupgap\":0},\"title\":{\"text\":\"\\uc120 \\uadf8\\ub798\\ud504 \\uc608\\uc81c\"}},                        {\"responsive\": true}                    ).then(function(){\n",
       "                            \n",
       "var gd = document.getElementById('4622c15b-1e21-472b-9407-52821f423def');\n",
       "var x = new MutationObserver(function (mutations, observer) {{\n",
       "        var display = window.getComputedStyle(gd).display;\n",
       "        if (!display || display === 'none') {{\n",
       "            console.log([gd, 'removed!']);\n",
       "            Plotly.purge(gd);\n",
       "            observer.disconnect();\n",
       "        }}\n",
       "}});\n",
       "\n",
       "// Listen for the removal of the full notebook cells\n",
       "var notebookContainer = gd.closest('#notebook-container');\n",
       "if (notebookContainer) {{\n",
       "    x.observe(notebookContainer, {childList: true});\n",
       "}}\n",
       "\n",
       "// Listen for the clearing of the current output cell\n",
       "var outputEl = gd.closest('.output');\n",
       "if (outputEl) {{\n",
       "    x.observe(outputEl, {childList: true});\n",
       "}}\n",
       "\n",
       "                        })                };                });            </script>        </div>"
      ]
     },
     "metadata": {},
     "output_type": "display_data"
    }
   ],
   "source": [
    "#\n",
    "\n",
    "import plotly.express as px\n",
    "import pandas as pd\n",
    "import numpy as np\n",
    "\n",
    "df = pd.DataFrame({\n",
    "    \"x열\": np.linspace(0, 50,100), \n",
    "    \"y열\": np.random.rand(100)\n",
    "})\n",
    "\n",
    "df_sorted = df.sort_values(\"x열\")\n",
    "\n",
    "fig = px.line(\n",
    "    df_sorted,\n",
    "    x=\"x열\",\n",
    "    y=\"y열\",\n",
    "    title = \"선 그래프 예제\"\n",
    ")\n",
    "\n",
    "fig.update_xaxes(\n",
    "    title = \"시간(초)\",\n",
    "    title_font={\n",
    "        \"size\": 18,\n",
    "        \"color\": \"purple\"\n",
    "    },\n",
    "    tickangle = 45,\n",
    "    tickfont={\n",
    "        \"size\":12\n",
    "    },\n",
    "    dtick=5\n",
    "    \n",
    ")\n",
    "fig.show()"
   ]
  },
  {
   "cell_type": "code",
   "execution_count": null,
   "id": "b6ecba51-1ac3-4976-861d-f74aa4f22efd",
   "metadata": {},
   "outputs": [],
   "source": [
    "# 막대그래프 : 범주별 = 범위별 막대의 높이로 비교해서 데이터를 분석 (m/s, 기간별 비교)"
   ]
  },
  {
   "cell_type": "code",
   "execution_count": 24,
   "id": "6bf0f0eb-b607-4044-abf3-a8d97b4bd7a7",
   "metadata": {},
   "outputs": [
    {
     "data": {
      "application/vnd.plotly.v1+json": {
       "config": {
        "plotlyServerURL": "https://plot.ly"
       },
       "data": [
        {
         "alignmentgroup": "True",
         "hovertemplate": "범주열=%{x}<br>값열=%{y}<extra></extra>",
         "legendgroup": "",
         "marker": {
          "color": "#636efa",
          "pattern": {
           "shape": ""
          }
         },
         "name": "",
         "offsetgroup": "",
         "orientation": "v",
         "showlegend": false,
         "textposition": "auto",
         "type": "bar",
         "x": [
          "A",
          "B",
          "C",
          "D"
         ],
         "xaxis": "x",
         "y": [
          23,
          7,
          35,
          29
         ],
         "yaxis": "y"
        }
       ],
       "layout": {
        "barmode": "relative",
        "legend": {
         "tracegroupgap": 0
        },
        "template": {
         "data": {
          "bar": [
           {
            "error_x": {
             "color": "#2a3f5f"
            },
            "error_y": {
             "color": "#2a3f5f"
            },
            "marker": {
             "line": {
              "color": "#E5ECF6",
              "width": 0.5
             },
             "pattern": {
              "fillmode": "overlay",
              "size": 10,
              "solidity": 0.2
             }
            },
            "type": "bar"
           }
          ],
          "barpolar": [
           {
            "marker": {
             "line": {
              "color": "#E5ECF6",
              "width": 0.5
             },
             "pattern": {
              "fillmode": "overlay",
              "size": 10,
              "solidity": 0.2
             }
            },
            "type": "barpolar"
           }
          ],
          "carpet": [
           {
            "aaxis": {
             "endlinecolor": "#2a3f5f",
             "gridcolor": "white",
             "linecolor": "white",
             "minorgridcolor": "white",
             "startlinecolor": "#2a3f5f"
            },
            "baxis": {
             "endlinecolor": "#2a3f5f",
             "gridcolor": "white",
             "linecolor": "white",
             "minorgridcolor": "white",
             "startlinecolor": "#2a3f5f"
            },
            "type": "carpet"
           }
          ],
          "choropleth": [
           {
            "colorbar": {
             "outlinewidth": 0,
             "ticks": ""
            },
            "type": "choropleth"
           }
          ],
          "contour": [
           {
            "colorbar": {
             "outlinewidth": 0,
             "ticks": ""
            },
            "colorscale": [
             [
              0,
              "#0d0887"
             ],
             [
              0.1111111111111111,
              "#46039f"
             ],
             [
              0.2222222222222222,
              "#7201a8"
             ],
             [
              0.3333333333333333,
              "#9c179e"
             ],
             [
              0.4444444444444444,
              "#bd3786"
             ],
             [
              0.5555555555555556,
              "#d8576b"
             ],
             [
              0.6666666666666666,
              "#ed7953"
             ],
             [
              0.7777777777777778,
              "#fb9f3a"
             ],
             [
              0.8888888888888888,
              "#fdca26"
             ],
             [
              1,
              "#f0f921"
             ]
            ],
            "type": "contour"
           }
          ],
          "contourcarpet": [
           {
            "colorbar": {
             "outlinewidth": 0,
             "ticks": ""
            },
            "type": "contourcarpet"
           }
          ],
          "heatmap": [
           {
            "colorbar": {
             "outlinewidth": 0,
             "ticks": ""
            },
            "colorscale": [
             [
              0,
              "#0d0887"
             ],
             [
              0.1111111111111111,
              "#46039f"
             ],
             [
              0.2222222222222222,
              "#7201a8"
             ],
             [
              0.3333333333333333,
              "#9c179e"
             ],
             [
              0.4444444444444444,
              "#bd3786"
             ],
             [
              0.5555555555555556,
              "#d8576b"
             ],
             [
              0.6666666666666666,
              "#ed7953"
             ],
             [
              0.7777777777777778,
              "#fb9f3a"
             ],
             [
              0.8888888888888888,
              "#fdca26"
             ],
             [
              1,
              "#f0f921"
             ]
            ],
            "type": "heatmap"
           }
          ],
          "heatmapgl": [
           {
            "colorbar": {
             "outlinewidth": 0,
             "ticks": ""
            },
            "colorscale": [
             [
              0,
              "#0d0887"
             ],
             [
              0.1111111111111111,
              "#46039f"
             ],
             [
              0.2222222222222222,
              "#7201a8"
             ],
             [
              0.3333333333333333,
              "#9c179e"
             ],
             [
              0.4444444444444444,
              "#bd3786"
             ],
             [
              0.5555555555555556,
              "#d8576b"
             ],
             [
              0.6666666666666666,
              "#ed7953"
             ],
             [
              0.7777777777777778,
              "#fb9f3a"
             ],
             [
              0.8888888888888888,
              "#fdca26"
             ],
             [
              1,
              "#f0f921"
             ]
            ],
            "type": "heatmapgl"
           }
          ],
          "histogram": [
           {
            "marker": {
             "pattern": {
              "fillmode": "overlay",
              "size": 10,
              "solidity": 0.2
             }
            },
            "type": "histogram"
           }
          ],
          "histogram2d": [
           {
            "colorbar": {
             "outlinewidth": 0,
             "ticks": ""
            },
            "colorscale": [
             [
              0,
              "#0d0887"
             ],
             [
              0.1111111111111111,
              "#46039f"
             ],
             [
              0.2222222222222222,
              "#7201a8"
             ],
             [
              0.3333333333333333,
              "#9c179e"
             ],
             [
              0.4444444444444444,
              "#bd3786"
             ],
             [
              0.5555555555555556,
              "#d8576b"
             ],
             [
              0.6666666666666666,
              "#ed7953"
             ],
             [
              0.7777777777777778,
              "#fb9f3a"
             ],
             [
              0.8888888888888888,
              "#fdca26"
             ],
             [
              1,
              "#f0f921"
             ]
            ],
            "type": "histogram2d"
           }
          ],
          "histogram2dcontour": [
           {
            "colorbar": {
             "outlinewidth": 0,
             "ticks": ""
            },
            "colorscale": [
             [
              0,
              "#0d0887"
             ],
             [
              0.1111111111111111,
              "#46039f"
             ],
             [
              0.2222222222222222,
              "#7201a8"
             ],
             [
              0.3333333333333333,
              "#9c179e"
             ],
             [
              0.4444444444444444,
              "#bd3786"
             ],
             [
              0.5555555555555556,
              "#d8576b"
             ],
             [
              0.6666666666666666,
              "#ed7953"
             ],
             [
              0.7777777777777778,
              "#fb9f3a"
             ],
             [
              0.8888888888888888,
              "#fdca26"
             ],
             [
              1,
              "#f0f921"
             ]
            ],
            "type": "histogram2dcontour"
           }
          ],
          "mesh3d": [
           {
            "colorbar": {
             "outlinewidth": 0,
             "ticks": ""
            },
            "type": "mesh3d"
           }
          ],
          "parcoords": [
           {
            "line": {
             "colorbar": {
              "outlinewidth": 0,
              "ticks": ""
             }
            },
            "type": "parcoords"
           }
          ],
          "pie": [
           {
            "automargin": true,
            "type": "pie"
           }
          ],
          "scatter": [
           {
            "fillpattern": {
             "fillmode": "overlay",
             "size": 10,
             "solidity": 0.2
            },
            "type": "scatter"
           }
          ],
          "scatter3d": [
           {
            "line": {
             "colorbar": {
              "outlinewidth": 0,
              "ticks": ""
             }
            },
            "marker": {
             "colorbar": {
              "outlinewidth": 0,
              "ticks": ""
             }
            },
            "type": "scatter3d"
           }
          ],
          "scattercarpet": [
           {
            "marker": {
             "colorbar": {
              "outlinewidth": 0,
              "ticks": ""
             }
            },
            "type": "scattercarpet"
           }
          ],
          "scattergeo": [
           {
            "marker": {
             "colorbar": {
              "outlinewidth": 0,
              "ticks": ""
             }
            },
            "type": "scattergeo"
           }
          ],
          "scattergl": [
           {
            "marker": {
             "colorbar": {
              "outlinewidth": 0,
              "ticks": ""
             }
            },
            "type": "scattergl"
           }
          ],
          "scattermapbox": [
           {
            "marker": {
             "colorbar": {
              "outlinewidth": 0,
              "ticks": ""
             }
            },
            "type": "scattermapbox"
           }
          ],
          "scatterpolar": [
           {
            "marker": {
             "colorbar": {
              "outlinewidth": 0,
              "ticks": ""
             }
            },
            "type": "scatterpolar"
           }
          ],
          "scatterpolargl": [
           {
            "marker": {
             "colorbar": {
              "outlinewidth": 0,
              "ticks": ""
             }
            },
            "type": "scatterpolargl"
           }
          ],
          "scatterternary": [
           {
            "marker": {
             "colorbar": {
              "outlinewidth": 0,
              "ticks": ""
             }
            },
            "type": "scatterternary"
           }
          ],
          "surface": [
           {
            "colorbar": {
             "outlinewidth": 0,
             "ticks": ""
            },
            "colorscale": [
             [
              0,
              "#0d0887"
             ],
             [
              0.1111111111111111,
              "#46039f"
             ],
             [
              0.2222222222222222,
              "#7201a8"
             ],
             [
              0.3333333333333333,
              "#9c179e"
             ],
             [
              0.4444444444444444,
              "#bd3786"
             ],
             [
              0.5555555555555556,
              "#d8576b"
             ],
             [
              0.6666666666666666,
              "#ed7953"
             ],
             [
              0.7777777777777778,
              "#fb9f3a"
             ],
             [
              0.8888888888888888,
              "#fdca26"
             ],
             [
              1,
              "#f0f921"
             ]
            ],
            "type": "surface"
           }
          ],
          "table": [
           {
            "cells": {
             "fill": {
              "color": "#EBF0F8"
             },
             "line": {
              "color": "white"
             }
            },
            "header": {
             "fill": {
              "color": "#C8D4E3"
             },
             "line": {
              "color": "white"
             }
            },
            "type": "table"
           }
          ]
         },
         "layout": {
          "annotationdefaults": {
           "arrowcolor": "#2a3f5f",
           "arrowhead": 0,
           "arrowwidth": 1
          },
          "autotypenumbers": "strict",
          "coloraxis": {
           "colorbar": {
            "outlinewidth": 0,
            "ticks": ""
           }
          },
          "colorscale": {
           "diverging": [
            [
             0,
             "#8e0152"
            ],
            [
             0.1,
             "#c51b7d"
            ],
            [
             0.2,
             "#de77ae"
            ],
            [
             0.3,
             "#f1b6da"
            ],
            [
             0.4,
             "#fde0ef"
            ],
            [
             0.5,
             "#f7f7f7"
            ],
            [
             0.6,
             "#e6f5d0"
            ],
            [
             0.7,
             "#b8e186"
            ],
            [
             0.8,
             "#7fbc41"
            ],
            [
             0.9,
             "#4d9221"
            ],
            [
             1,
             "#276419"
            ]
           ],
           "sequential": [
            [
             0,
             "#0d0887"
            ],
            [
             0.1111111111111111,
             "#46039f"
            ],
            [
             0.2222222222222222,
             "#7201a8"
            ],
            [
             0.3333333333333333,
             "#9c179e"
            ],
            [
             0.4444444444444444,
             "#bd3786"
            ],
            [
             0.5555555555555556,
             "#d8576b"
            ],
            [
             0.6666666666666666,
             "#ed7953"
            ],
            [
             0.7777777777777778,
             "#fb9f3a"
            ],
            [
             0.8888888888888888,
             "#fdca26"
            ],
            [
             1,
             "#f0f921"
            ]
           ],
           "sequentialminus": [
            [
             0,
             "#0d0887"
            ],
            [
             0.1111111111111111,
             "#46039f"
            ],
            [
             0.2222222222222222,
             "#7201a8"
            ],
            [
             0.3333333333333333,
             "#9c179e"
            ],
            [
             0.4444444444444444,
             "#bd3786"
            ],
            [
             0.5555555555555556,
             "#d8576b"
            ],
            [
             0.6666666666666666,
             "#ed7953"
            ],
            [
             0.7777777777777778,
             "#fb9f3a"
            ],
            [
             0.8888888888888888,
             "#fdca26"
            ],
            [
             1,
             "#f0f921"
            ]
           ]
          },
          "colorway": [
           "#636efa",
           "#EF553B",
           "#00cc96",
           "#ab63fa",
           "#FFA15A",
           "#19d3f3",
           "#FF6692",
           "#B6E880",
           "#FF97FF",
           "#FECB52"
          ],
          "font": {
           "color": "#2a3f5f"
          },
          "geo": {
           "bgcolor": "white",
           "lakecolor": "white",
           "landcolor": "#E5ECF6",
           "showlakes": true,
           "showland": true,
           "subunitcolor": "white"
          },
          "hoverlabel": {
           "align": "left"
          },
          "hovermode": "closest",
          "mapbox": {
           "style": "light"
          },
          "paper_bgcolor": "white",
          "plot_bgcolor": "#E5ECF6",
          "polar": {
           "angularaxis": {
            "gridcolor": "white",
            "linecolor": "white",
            "ticks": ""
           },
           "bgcolor": "#E5ECF6",
           "radialaxis": {
            "gridcolor": "white",
            "linecolor": "white",
            "ticks": ""
           }
          },
          "scene": {
           "xaxis": {
            "backgroundcolor": "#E5ECF6",
            "gridcolor": "white",
            "gridwidth": 2,
            "linecolor": "white",
            "showbackground": true,
            "ticks": "",
            "zerolinecolor": "white"
           },
           "yaxis": {
            "backgroundcolor": "#E5ECF6",
            "gridcolor": "white",
            "gridwidth": 2,
            "linecolor": "white",
            "showbackground": true,
            "ticks": "",
            "zerolinecolor": "white"
           },
           "zaxis": {
            "backgroundcolor": "#E5ECF6",
            "gridcolor": "white",
            "gridwidth": 2,
            "linecolor": "white",
            "showbackground": true,
            "ticks": "",
            "zerolinecolor": "white"
           }
          },
          "shapedefaults": {
           "line": {
            "color": "#2a3f5f"
           }
          },
          "ternary": {
           "aaxis": {
            "gridcolor": "white",
            "linecolor": "white",
            "ticks": ""
           },
           "baxis": {
            "gridcolor": "white",
            "linecolor": "white",
            "ticks": ""
           },
           "bgcolor": "#E5ECF6",
           "caxis": {
            "gridcolor": "white",
            "linecolor": "white",
            "ticks": ""
           }
          },
          "title": {
           "x": 0.05
          },
          "xaxis": {
           "automargin": true,
           "gridcolor": "white",
           "linecolor": "white",
           "ticks": "",
           "title": {
            "standoff": 15
           },
           "zerolinecolor": "white",
           "zerolinewidth": 2
          },
          "yaxis": {
           "automargin": true,
           "gridcolor": "white",
           "linecolor": "white",
           "ticks": "",
           "title": {
            "standoff": 15
           },
           "zerolinecolor": "white",
           "zerolinewidth": 2
          }
         }
        },
        "title": {
         "font": {
          "color": "#a18cd1",
          "size": 24
         },
         "text": "새로운 그래프 제목",
         "x": 0.5
        },
        "xaxis": {
         "anchor": "y",
         "domain": [
          0,
          1
         ],
         "title": {
          "text": "범주열"
         }
        },
        "yaxis": {
         "anchor": "x",
         "domain": [
          0,
          1
         ],
         "title": {
          "text": "값열"
         }
        }
       }
      },
      "image/png": "[encoded data removed]",
      "text/html": [
       "<div>                            <div id=\"c4f129d2-4b3d-495e-890c-0247ab242f33\" class=\"plotly-graph-div\" style=\"height:525px; width:100%;\"></div>            <script type=\"text/javascript\">                require([\"plotly\"], function(Plotly) {                    window.PLOTLYENV=window.PLOTLYENV || {};                                    if (document.getElementById(\"c4f129d2-4b3d-495e-890c-0247ab242f33\")) {                    Plotly.newPlot(                        \"c4f129d2-4b3d-495e-890c-0247ab242f33\",                        [{\"alignmentgroup\":\"True\",\"hovertemplate\":\"\\ubc94\\uc8fc\\uc5f4=%{x}\\u003cbr\\u003e\\uac12\\uc5f4=%{y}\\u003cextra\\u003e\\u003c\\u002fextra\\u003e\",\"legendgroup\":\"\",\"marker\":{\"color\":\"#636efa\",\"pattern\":{\"shape\":\"\"}},\"name\":\"\",\"offsetgroup\":\"\",\"orientation\":\"v\",\"showlegend\":false,\"textposition\":\"auto\",\"x\":[\"A\",\"B\",\"C\",\"D\"],\"xaxis\":\"x\",\"y\":[23,7,35,29],\"yaxis\":\"y\",\"type\":\"bar\"}],                        {\"template\":{\"data\":{\"histogram2dcontour\":[{\"type\":\"histogram2dcontour\",\"colorbar\":{\"outlinewidth\":0,\"ticks\":\"\"},\"colorscale\":[[0.0,\"#0d0887\"],[0.1111111111111111,\"#46039f\"],[0.2222222222222222,\"#7201a8\"],[0.3333333333333333,\"#9c179e\"],[0.4444444444444444,\"#bd3786\"],[0.5555555555555556,\"#d8576b\"],[0.6666666666666666,\"#ed7953\"],[0.7777777777777778,\"#fb9f3a\"],[0.8888888888888888,\"#fdca26\"],[1.0,\"#f0f921\"]]}],\"choropleth\":[{\"type\":\"choropleth\",\"colorbar\":{\"outlinewidth\":0,\"ticks\":\"\"}}],\"histogram2d\":[{\"type\":\"histogram2d\",\"colorbar\":{\"outlinewidth\":0,\"ticks\":\"\"},\"colorscale\":[[0.0,\"#0d0887\"],[0.1111111111111111,\"#46039f\"],[0.2222222222222222,\"#7201a8\"],[0.3333333333333333,\"#9c179e\"],[0.4444444444444444,\"#bd3786\"],[0.5555555555555556,\"#d8576b\"],[0.6666666666666666,\"#ed7953\"],[0.7777777777777778,\"#fb9f3a\"],[0.8888888888888888,\"#fdca26\"],[1.0,\"#f0f921\"]]}],\"heatmap\":[{\"type\":\"heatmap\",\"colorbar\":{\"outlinewidth\":0,\"ticks\":\"\"},\"colorscale\":[[0.0,\"#0d0887\"],[0.1111111111111111,\"#46039f\"],[0.2222222222222222,\"#7201a8\"],[0.3333333333333333,\"#9c179e\"],[0.4444444444444444,\"#bd3786\"],[0.5555555555555556,\"#d8576b\"],[0.6666666666666666,\"#ed7953\"],[0.7777777777777778,\"#fb9f3a\"],[0.8888888888888888,\"#fdca26\"],[1.0,\"#f0f921\"]]}],\"heatmapgl\":[{\"type\":\"heatmapgl\",\"colorbar\":{\"outlinewidth\":0,\"ticks\":\"\"},\"colorscale\":[[0.0,\"#0d0887\"],[0.1111111111111111,\"#46039f\"],[0.2222222222222222,\"#7201a8\"],[0.3333333333333333,\"#9c179e\"],[0.4444444444444444,\"#bd3786\"],[0.5555555555555556,\"#d8576b\"],[0.6666666666666666,\"#ed7953\"],[0.7777777777777778,\"#fb9f3a\"],[0.8888888888888888,\"#fdca26\"],[1.0,\"#f0f921\"]]}],\"contourcarpet\":[{\"type\":\"contourcarpet\",\"colorbar\":{\"outlinewidth\":0,\"ticks\":\"\"}}],\"contour\":[{\"type\":\"contour\",\"colorbar\":{\"outlinewidth\":0,\"ticks\":\"\"},\"colorscale\":[[0.0,\"#0d0887\"],[0.1111111111111111,\"#46039f\"],[0.2222222222222222,\"#7201a8\"],[0.3333333333333333,\"#9c179e\"],[0.4444444444444444,\"#bd3786\"],[0.5555555555555556,\"#d8576b\"],[0.6666666666666666,\"#ed7953\"],[0.7777777777777778,\"#fb9f3a\"],[0.8888888888888888,\"#fdca26\"],[1.0,\"#f0f921\"]]}],\"surface\":[{\"type\":\"surface\",\"colorbar\":{\"outlinewidth\":0,\"ticks\":\"\"},\"colorscale\":[[0.0,\"#0d0887\"],[0.1111111111111111,\"#46039f\"],[0.2222222222222222,\"#7201a8\"],[0.3333333333333333,\"#9c179e\"],[0.4444444444444444,\"#bd3786\"],[0.5555555555555556,\"#d8576b\"],[0.6666666666666666,\"#ed7953\"],[0.7777777777777778,\"#fb9f3a\"],[0.8888888888888888,\"#fdca26\"],[1.0,\"#f0f921\"]]}],\"mesh3d\":[{\"type\":\"mesh3d\",\"colorbar\":{\"outlinewidth\":0,\"ticks\":\"\"}}],\"scatter\":[{\"fillpattern\":{\"fillmode\":\"overlay\",\"size\":10,\"solidity\":0.2},\"type\":\"scatter\"}],\"parcoords\":[{\"type\":\"parcoords\",\"line\":{\"colorbar\":{\"outlinewidth\":0,\"ticks\":\"\"}}}],\"scatterpolargl\":[{\"type\":\"scatterpolargl\",\"marker\":{\"colorbar\":{\"outlinewidth\":0,\"ticks\":\"\"}}}],\"bar\":[{\"error_x\":{\"color\":\"#2a3f5f\"},\"error_y\":{\"color\":\"#2a3f5f\"},\"marker\":{\"line\":{\"color\":\"#E5ECF6\",\"width\":0.5},\"pattern\":{\"fillmode\":\"overlay\",\"size\":10,\"solidity\":0.2}},\"type\":\"bar\"}],\"scattergeo\":[{\"type\":\"scattergeo\",\"marker\":{\"colorbar\":{\"outlinewidth\":0,\"ticks\":\"\"}}}],\"scatterpolar\":[{\"type\":\"scatterpolar\",\"marker\":{\"colorbar\":{\"outlinewidth\":0,\"ticks\":\"\"}}}],\"histogram\":[{\"marker\":{\"pattern\":{\"fillmode\":\"overlay\",\"size\":10,\"solidity\":0.2}},\"type\":\"histogram\"}],\"scattergl\":[{\"type\":\"scattergl\",\"marker\":{\"colorbar\":{\"outlinewidth\":0,\"ticks\":\"\"}}}],\"scatter3d\":[{\"type\":\"scatter3d\",\"line\":{\"colorbar\":{\"outlinewidth\":0,\"ticks\":\"\"}},\"marker\":{\"colorbar\":{\"outlinewidth\":0,\"ticks\":\"\"}}}],\"scattermapbox\":[{\"type\":\"scattermapbox\",\"marker\":{\"colorbar\":{\"outlinewidth\":0,\"ticks\":\"\"}}}],\"scatterternary\":[{\"type\":\"scatterternary\",\"marker\":{\"colorbar\":{\"outlinewidth\":0,\"ticks\":\"\"}}}],\"scattercarpet\":[{\"type\":\"scattercarpet\",\"marker\":{\"colorbar\":{\"outlinewidth\":0,\"ticks\":\"\"}}}],\"carpet\":[{\"aaxis\":{\"endlinecolor\":\"#2a3f5f\",\"gridcolor\":\"white\",\"linecolor\":\"white\",\"minorgridcolor\":\"white\",\"startlinecolor\":\"#2a3f5f\"},\"baxis\":{\"endlinecolor\":\"#2a3f5f\",\"gridcolor\":\"white\",\"linecolor\":\"white\",\"minorgridcolor\":\"white\",\"startlinecolor\":\"#2a3f5f\"},\"type\":\"carpet\"}],\"table\":[{\"cells\":{\"fill\":{\"color\":\"#EBF0F8\"},\"line\":{\"color\":\"white\"}},\"header\":{\"fill\":{\"color\":\"#C8D4E3\"},\"line\":{\"color\":\"white\"}},\"type\":\"table\"}],\"barpolar\":[{\"marker\":{\"line\":{\"color\":\"#E5ECF6\",\"width\":0.5},\"pattern\":{\"fillmode\":\"overlay\",\"size\":10,\"solidity\":0.2}},\"type\":\"barpolar\"}],\"pie\":[{\"automargin\":true,\"type\":\"pie\"}]},\"layout\":{\"autotypenumbers\":\"strict\",\"colorway\":[\"#636efa\",\"#EF553B\",\"#00cc96\",\"#ab63fa\",\"#FFA15A\",\"#19d3f3\",\"#FF6692\",\"#B6E880\",\"#FF97FF\",\"#FECB52\"],\"font\":{\"color\":\"#2a3f5f\"},\"hovermode\":\"closest\",\"hoverlabel\":{\"align\":\"left\"},\"paper_bgcolor\":\"white\",\"plot_bgcolor\":\"#E5ECF6\",\"polar\":{\"bgcolor\":\"#E5ECF6\",\"angularaxis\":{\"gridcolor\":\"white\",\"linecolor\":\"white\",\"ticks\":\"\"},\"radialaxis\":{\"gridcolor\":\"white\",\"linecolor\":\"white\",\"ticks\":\"\"}},\"ternary\":{\"bgcolor\":\"#E5ECF6\",\"aaxis\":{\"gridcolor\":\"white\",\"linecolor\":\"white\",\"ticks\":\"\"},\"baxis\":{\"gridcolor\":\"white\",\"linecolor\":\"white\",\"ticks\":\"\"},\"caxis\":{\"gridcolor\":\"white\",\"linecolor\":\"white\",\"ticks\":\"\"}},\"coloraxis\":{\"colorbar\":{\"outlinewidth\":0,\"ticks\":\"\"}},\"colorscale\":{\"sequential\":[[0.0,\"#0d0887\"],[0.1111111111111111,\"#46039f\"],[0.2222222222222222,\"#7201a8\"],[0.3333333333333333,\"#9c179e\"],[0.4444444444444444,\"#bd3786\"],[0.5555555555555556,\"#d8576b\"],[0.6666666666666666,\"#ed7953\"],[0.7777777777777778,\"#fb9f3a\"],[0.8888888888888888,\"#fdca26\"],[1.0,\"#f0f921\"]],\"sequentialminus\":[[0.0,\"#0d0887\"],[0.1111111111111111,\"#46039f\"],[0.2222222222222222,\"#7201a8\"],[0.3333333333333333,\"#9c179e\"],[0.4444444444444444,\"#bd3786\"],[0.5555555555555556,\"#d8576b\"],[0.6666666666666666,\"#ed7953\"],[0.7777777777777778,\"#fb9f3a\"],[0.8888888888888888,\"#fdca26\"],[1.0,\"#f0f921\"]],\"diverging\":[[0,\"#8e0152\"],[0.1,\"#c51b7d\"],[0.2,\"#de77ae\"],[0.3,\"#f1b6da\"],[0.4,\"#fde0ef\"],[0.5,\"#f7f7f7\"],[0.6,\"#e6f5d0\"],[0.7,\"#b8e186\"],[0.8,\"#7fbc41\"],[0.9,\"#4d9221\"],[1,\"#276419\"]]},\"xaxis\":{\"gridcolor\":\"white\",\"linecolor\":\"white\",\"ticks\":\"\",\"title\":{\"standoff\":15},\"zerolinecolor\":\"white\",\"automargin\":true,\"zerolinewidth\":2},\"yaxis\":{\"gridcolor\":\"white\",\"linecolor\":\"white\",\"ticks\":\"\",\"title\":{\"standoff\":15},\"zerolinecolor\":\"white\",\"automargin\":true,\"zerolinewidth\":2},\"scene\":{\"xaxis\":{\"backgroundcolor\":\"#E5ECF6\",\"gridcolor\":\"white\",\"linecolor\":\"white\",\"showbackground\":true,\"ticks\":\"\",\"zerolinecolor\":\"white\",\"gridwidth\":2},\"yaxis\":{\"backgroundcolor\":\"#E5ECF6\",\"gridcolor\":\"white\",\"linecolor\":\"white\",\"showbackground\":true,\"ticks\":\"\",\"zerolinecolor\":\"white\",\"gridwidth\":2},\"zaxis\":{\"backgroundcolor\":\"#E5ECF6\",\"gridcolor\":\"white\",\"linecolor\":\"white\",\"showbackground\":true,\"ticks\":\"\",\"zerolinecolor\":\"white\",\"gridwidth\":2}},\"shapedefaults\":{\"line\":{\"color\":\"#2a3f5f\"}},\"annotationdefaults\":{\"arrowcolor\":\"#2a3f5f\",\"arrowhead\":0,\"arrowwidth\":1},\"geo\":{\"bgcolor\":\"white\",\"landcolor\":\"#E5ECF6\",\"subunitcolor\":\"white\",\"showland\":true,\"showlakes\":true,\"lakecolor\":\"white\"},\"title\":{\"x\":0.05},\"mapbox\":{\"style\":\"light\"}}},\"xaxis\":{\"anchor\":\"y\",\"domain\":[0.0,1.0],\"title\":{\"text\":\"\\ubc94\\uc8fc\\uc5f4\"}},\"yaxis\":{\"anchor\":\"x\",\"domain\":[0.0,1.0],\"title\":{\"text\":\"\\uac12\\uc5f4\"}},\"legend\":{\"tracegroupgap\":0},\"title\":{\"text\":\"\\uc0c8\\ub85c\\uc6b4 \\uadf8\\ub798\\ud504 \\uc81c\\ubaa9\",\"font\":{\"size\":24,\"color\":\"#a18cd1\"},\"x\":0.5},\"barmode\":\"relative\"},                        {\"responsive\": true}                    ).then(function(){\n",
       "                            \n",
       "var gd = document.getElementById('c4f129d2-4b3d-495e-890c-0247ab242f33');\n",
       "var x = new MutationObserver(function (mutations, observer) {{\n",
       "        var display = window.getComputedStyle(gd).display;\n",
       "        if (!display || display === 'none') {{\n",
       "            console.log([gd, 'removed!']);\n",
       "            Plotly.purge(gd);\n",
       "            observer.disconnect();\n",
       "        }}\n",
       "}});\n",
       "\n",
       "// Listen for the removal of the full notebook cells\n",
       "var notebookContainer = gd.closest('#notebook-container');\n",
       "if (notebookContainer) {{\n",
       "    x.observe(notebookContainer, {childList: true});\n",
       "}}\n",
       "\n",
       "// Listen for the clearing of the current output cell\n",
       "var outputEl = gd.closest('.output');\n",
       "if (outputEl) {{\n",
       "    x.observe(outputEl, {childList: true});\n",
       "}}\n",
       "\n",
       "                        })                };                });            </script>        </div>"
      ]
     },
     "metadata": {},
     "output_type": "display_data"
    }
   ],
   "source": [
    "import plotly.express as px\n",
    "import pandas as pd\n",
    "\n",
    "df = pd.DataFrame({\n",
    "    \"범주열\" : [\"A\", \"B\", \"C\",\"D\"],\n",
    "    \"값열\" : [23,7, 35, 29]\n",
    "})\n",
    "\n",
    "fig = px.bar(\n",
    "    df,\n",
    "    x=\"범주열\",\n",
    "    y=\"값열\",\n",
    "    title = \"막대그래프 예제\"\n",
    ")\n",
    "\n",
    "\n",
    "\n",
    "fig.show()"
   ]
  },
  {
   "cell_type": "code",
   "execution_count": null,
   "id": "d3c7dd1e-7347-4f89-bef3-42b297c95090",
   "metadata": {},
   "outputs": [],
   "source": [
    "# 히스토그램 : 연속형 데이터의 분포를 구간별 막대로 나타내고자 할 때"
   ]
  },
  {
   "cell_type": "code",
   "execution_count": 15,
   "id": "aae372e6-11dc-459e-9c0c-464ec42ed80c",
   "metadata": {},
   "outputs": [
    {
     "data": {
      "application/vnd.plotly.v1+json": {
       "config": {
        "plotlyServerURL": "https://plot.ly"
       },
       "data": [
        {
         "alignmentgroup": "True",
         "bingroup": "x",
         "hovertemplate": "Data=%{x}<br>count=%{y}<extra></extra>",
         "legendgroup": "",
         "marker": {
          "color": "#636efa",
          "pattern": {
           "shape": ""
          }
         },
         "name": "",
         "nbinsx": 30,
         "offsetgroup": "",
         "orientation": "v",
         "showlegend": false,
         "type": "histogram",
         "x": [
          0.08380191274674431,
          0.20944404223142754,
          0.9912645545822222,
          0.8200736988081627,
          0.04571656682504799,
          0.43685522386551023,
          0.5730152176151926,
          0.9230566357272671,
          0.8463370971404475,
          0.7453151650595169,
          0.6009197471604578,
          0.48795615356352695,
          0.6978278203150554,
          0.3037530635616459,
          0.2262235799199056,
          0.014423416137815392,
          0.5389787534861958,
          0.2768856284184378,
          0.2504412650829285,
          0.5083535411140414,
          0.8266065738156727,
          0.5570189248985238,
          0.3810736497179633,
          0.26739798079915245,
          0.11763375515952879,
          0.22780969246836902,
          0.7649922112448044,
          0.7802937405920585,
          0.17217655482787741,
          0.3450062951996309,
          0.8494550208051813,
          0.09242490457360752,
          0.9817242392978038,
          0.35379840296985476,
          0.07732176004092206,
          0.3594635446886637,
          0.6652056119199001,
          0.30631873629477124,
          0.569307753994353,
          0.9915990808303585,
          0.6442110360312655,
          0.43699692726358186,
          0.9997390147917378,
          0.9339654923096894,
          0.9215625451806667,
          0.9740245760755978,
          0.6493453996419012,
          0.5232481129874943,
          0.13238115317929433,
          0.5992989227496758,
          0.7887192318556118,
          0.8320532853991865,
          0.26285915685642136,
          0.7689150540235108,
          0.7400566664681224,
          0.6988870713888676,
          0.38722576541164566,
          0.2352521869094748,
          0.9336225492843441,
          0.09103362268601256,
          0.44444190337383926,
          0.7506858164179294,
          0.4123343333916645,
          0.20493221792755256,
          0.08203953391310681,
          0.38639015724058,
          0.1813849439482954,
          0.7252508551549957,
          0.7590268156325823,
          0.7341411998981602,
          0.9239661488534544,
          0.7964332118789428,
          0.24999667673695802,
          0.11287077843443172,
          0.9063592450389554,
          0.33220748048123294,
          0.173327865867258,
          0.195984142477863,
          0.902835591426501,
          0.8359698286644605,
          0.3088458526207548,
          0.8084683288901685,
          0.7772586441538883,
          0.2238688770160916,
          0.48225009513756567,
          0.3541207197047175,
          0.25444465867132404,
          0.3074984099424234,
          0.9907585677487017,
          0.33519517281422595,
          0.1115653778504232,
          0.877362958715868,
          0.7524053739934059,
          0.6462178880429961,
          0.7143272211751727,
          0.18829214515293236,
          0.5464619780745782,
          0.05555208420256397,
          0.04816345053008597,
          0.8214035910151547,
          0.9652044727182535,
          0.8839497520137364,
          0.334925219357463,
          0.5985434626841761,
          0.6784670521315013,
          0.36580352687035145,
          0.809151348705704,
          0.7909661131903161,
          0.5520153495412348,
          0.2875262913427218,
          0.46133188522988333,
          0.8421609608181968,
          0.038872885290093584,
          0.6794656718606868,
          0.25028306950330803,
          0.4233049517740801,
          0.8378527681475145,
          0.6374397374250684,
          0.8322353557935389,
          0.2646717566754463,
          0.7045776727546686,
          0.008446683291064794,
          0.8217531814931799,
          0.9597344432020865,
          0.9160758167854686,
          0.18944165325969353,
          0.3503162608928819,
          0.7550240813409598,
          0.47242957670695895,
          0.7402575902990649,
          0.3378283939116885,
          0.11949466817682708,
          0.7665427649444002,
          0.7423056746197393,
          0.9438309096410538,
          0.34724250406495316,
          0.14909903825909254,
          0.24821491731914624,
          0.6804151269459952,
          0.13159662150746876,
          0.8177465515306931,
          0.16376692401830217,
          0.453554775357764,
          0.1809330413411987,
          0.33626622369274595,
          0.03543397718396668,
          0.47163085091683143,
          0.610694967863413,
          0.4396081232549034,
          0.15481453711545412,
          0.10741090746150517,
          0.4204407609542996,
          0.06914306426584182,
          0.6109434021052476,
          0.4541122329306344,
          0.6248066836839685,
          0.5685350455881804,
          0.5260967350038348,
          0.5589067136066248,
          0.7282294979595786,
          0.558217110559534,
          0.35684866484397926,
          0.7946902149283925,
          0.8553218422000308,
          0.8170120737200333,
          0.6354020879736371,
          0.04278737080235506,
          0.3270120476529872,
          0.8020695935213406,
          0.957551815911261,
          0.4391003864259737,
          0.7080551709605449,
          0.3404959950074199,
          0.2775892044969932,
          0.3907131644280656,
          0.7914414450223947,
          0.9072399392656519,
          0.6029486633324576,
          0.17104525252162817,
          0.6577291997582809,
          0.6959315746343623,
          0.3309061647434931,
          0.6208039429734141,
          0.30417141733652175,
          0.8143274125658069,
          0.34503020137739693,
          0.11285173630968026,
          0.7616038768306266,
          0.57268198724952,
          0.3627142619271151,
          0.33792847538463866,
          0.17360087853224093,
          0.9480087317306415,
          0.798996651377461,
          0.9266184457132175,
          0.22147159580165587,
          0.26433546603851166,
          0.8368122199105203,
          0.23886947673701275,
          0.9333519660181665,
          0.49734885745951674,
          0.05432560576252532,
          0.14088916619440672,
          0.5181232080659972,
          0.5540847056795315,
          0.6103427437081492,
          0.08295953901709296,
          0.8297192496595617,
          0.7213622921212934,
          0.20783343499817508,
          0.37641409887599275,
          0.7587022515391992,
          0.522366603150447,
          0.7611379383033746,
          0.7747463712194693,
          0.33662634788290724,
          0.6037588431641894,
          0.4260647923147738,
          0.3003043365045732,
          0.655634658468734,
          0.37717972945851663,
          0.9264401801963267,
          0.4830016844290793,
          0.5745487548304742,
          0.7548006034850588,
          0.30480208481992055,
          0.7761987622752744,
          0.09778758433477819,
          0.3658197500290623,
          0.20196593625068238,
          0.47295016323244654,
          0.6073829965841515,
          0.16037866054366334,
          0.4198693487595665,
          0.5751950849525197,
          0.004407882044037192,
          0.34865562417134,
          0.10866950041448742,
          0.12263236925795495,
          0.9090382527404336,
          0.3415218818306668,
          0.493203887102471,
          0.026262719055010098,
          0.9033019355833805,
          0.8965096168895235,
          0.7310994544667349,
          0.2514012847476722,
          0.16837199877206077,
          0.39773413179987627,
          0.978313326605953,
          0.24011353567643812,
          0.30435410838037313,
          0.5962214551889243,
          0.8675055711981149,
          0.23720543593804544,
          0.1594183903798102,
          0.3753219707388916,
          0.4565472874946026,
          0.11126287082388908,
          0.5307364105017423,
          0.13108575176080717,
          0.3215410539296051,
          0.5214113988114006,
          0.40911162549907154,
          0.8685219781406873,
          0.8128067102020429,
          0.4888658832759505,
          0.5909895727888029,
          0.8204381992000135,
          0.3480127738329246,
          0.1460089960651525,
          0.0922757793382295,
          0.6401003121943588,
          0.9657822298196318,
          0.8786692396818157,
          0.09872616683188407,
          0.9011971958733195,
          0.5604947862914085,
          0.4288881071764916,
          0.7859379996527777,
          0.5015552187733635,
          0.9248612354183817,
          0.32787267087397576,
          0.9855105960854638,
          0.41104837813460327,
          0.8861358970491305,
          0.7381484534184385,
          0.5204062855753144,
          0.5262666219533028,
          0.5827138914645403,
          0.792124381148317,
          0.4300888279790025,
          0.8225863423480987,
          0.058771398000541986,
          0.6775046934172326,
          0.888279995511841,
          0.8865003504468365,
          0.8880117649397771,
          0.30162118758390455,
          0.9753440951666028,
          0.9350543020083061,
          0.5897218211538375,
          0.0543409868626652,
          0.7261069113425778,
          0.6042661902457493,
          0.30460957486299267,
          0.6192554653911964,
          0.12547202487966225,
          0.06857912519159803,
          0.13210546500648712,
          0.6912615853083696,
          0.3575546617721346,
          0.6045048060716702,
          0.4320828320116561,
          0.3199951865432149,
          0.6272227945090958,
          0.4381273285649777,
          0.7499694065669366,
          0.15674524302179127,
          0.14670897664085325,
          0.7325857295925221,
          0.7385736029587976,
          0.05113608430290706,
          0.576539018812445,
          0.8738830244423613,
          0.6559550805403301,
          0.5344622048528751,
          0.12423884714981925,
          0.4894888945828144,
          0.8431762103763091,
          0.6922542170269212,
          0.03700569857901015,
          0.602987952049975,
          0.6977020127345698,
          0.7261581698812689,
          0.16001686757214384,
          0.9981272794724121,
          0.7564801718079088,
          0.013995617879950073,
          0.5574009143259693,
          0.5759965187440718,
          0.8118513875584396,
          0.8435610763611899,
          0.011220120640105469,
          0.8164994426011617,
          0.791998660344381,
          0.7728192825584629,
          0.6389499076563389,
          0.5913717759822866,
          0.9222600253814575,
          0.2188044634631816,
          0.4623835740202876,
          0.4919994104587906,
          0.7473790963861563,
          0.7420149708952016,
          0.49142055551434616,
          0.14679864662482478,
          0.19162203025348767,
          0.27525169686250517,
          0.8303934010712357,
          0.7630651300458785,
          0.9913218838258685,
          0.9245359666904214,
          0.4964004849960436,
          0.013454357730676048,
          0.5188790685855025,
          0.37717696625118335,
          0.9729589789064624,
          0.2903608964955364,
          0.7363087080326647,
          0.34404314918195444,
          0.3276972742984712,
          0.5633373089940766,
          0.935647893127616,
          0.04930689103466823,
          0.31278113083318326,
          0.3708563718897502,
          0.052327640917875784,
          0.8927728740460461,
          0.4717978335594061,
          0.4134797440538973,
          0.2427051441317617,
          0.28539556095507257,
          0.21464181129257687,
          0.7392283213466477,
          0.7782896536362138,
          0.4279683874531053,
          0.14401397917687653,
          0.8197312981321566,
          0.8351940465337219,
          0.7218690296511869,
          0.25365476144894583,
          0.2974929989614814,
          0.5445581613217162,
          0.5385907601017889,
          0.06754815815780713,
          0.4231041505767126,
          0.18699613993623176,
          0.07121931668861758,
          0.9582368395334746,
          0.7962485159274564,
          0.6592163101018852,
          0.6807412894912989,
          0.0232483351770566,
          0.5958059958023538,
          0.856635990141012,
          0.6096792428950026,
          0.4196830254511086,
          0.9373177342178143,
          0.1940985757973962,
          0.9327804991969245,
          0.041434657112422446,
          0.43118583769580776,
          0.8885499559130218,
          0.49582360470400844,
          0.7289969402969239,
          0.12114717476152859,
          0.31760217195857277,
          0.5774314747687712,
          0.08671714990957546,
          0.1174851260700005,
          0.39902615838902245,
          0.10252950242647751,
          0.03839901438406279,
          0.7986422094291498,
          0.0021223471912857894,
          0.5382836662743526,
          0.0018691331685810608,
          0.6531843173556804,
          0.3730627068725668,
          0.7660705592499338,
          0.9075069484286047,
          0.4539550335433641,
          0.4983903723170129,
          0.4348929983261607,
          0.8734286615128872,
          0.4201011929056895,
          0.623975393511428,
          0.8710047305800153,
          0.5228011417324979,
          0.13183209155907305,
          0.16144654400725145,
          0.15055111694811008,
          0.45933975114172854,
          0.12105912863202428,
          0.778615173693822,
          0.6866828194257794,
          0.7031514826198576,
          0.11145751062755738,
          0.37410806813517317,
          0.7505060234784111,
          0.3986525947534748,
          0.7259413388493327,
          0.03724685086322321,
          0.557866129146964,
          0.16463718237873526,
          0.9858238851400037,
          0.590832833777152,
          0.9573065363899947,
          0.4573722424419542,
          0.9911516963764574,
          0.9630020130603241,
          0.7477184577724909,
          0.24342980112337553,
          0.12585253272314556,
          0.4450690589859707,
          0.38137696450292047,
          0.66576579660172,
          0.7414335160219806,
          0.07904943283796817,
          0.7155310745564795,
          0.14360757082416442,
          0.18819654388970175,
          0.27280609940238865,
          0.27600160523559747,
          0.5136187991763113,
          0.02561004451443527,
          0.9030021177327983,
          0.5307117473965142,
          0.3863485627472566,
          0.7700036981529121,
          0.25924269671187916,
          0.8719856625144266,
          0.22797265188171312,
          0.9535754830292861,
          0.4913052688674522,
          0.7542128679139386,
          0.09724400600757332,
          0.7800569682911233,
          0.21407628542669443,
          0.3900602757572539,
          0.46326951631711677,
          0.356370734939806,
          0.6605311244053084,
          0.8705330592675827,
          0.33509943480700244,
          0.689126829244975,
          0.5424045125867144,
          0.549189257402423,
          0.6153616569903756
         ],
         "xaxis": "x",
         "yaxis": "y"
        }
       ],
       "layout": {
        "barmode": "relative",
        "legend": {
         "tracegroupgap": 0
        },
        "template": {
         "data": {
          "bar": [
           {
            "error_x": {
             "color": "#2a3f5f"
            },
            "error_y": {
             "color": "#2a3f5f"
            },
            "marker": {
             "line": {
              "color": "#E5ECF6",
              "width": 0.5
             },
             "pattern": {
              "fillmode": "overlay",
              "size": 10,
              "solidity": 0.2
             }
            },
            "type": "bar"
           }
          ],
          "barpolar": [
           {
            "marker": {
             "line": {
              "color": "#E5ECF6",
              "width": 0.5
             },
             "pattern": {
              "fillmode": "overlay",
              "size": 10,
              "solidity": 0.2
             }
            },
            "type": "barpolar"
           }
          ],
          "carpet": [
           {
            "aaxis": {
             "endlinecolor": "#2a3f5f",
             "gridcolor": "white",
             "linecolor": "white",
             "minorgridcolor": "white",
             "startlinecolor": "#2a3f5f"
            },
            "baxis": {
             "endlinecolor": "#2a3f5f",
             "gridcolor": "white",
             "linecolor": "white",
             "minorgridcolor": "white",
             "startlinecolor": "#2a3f5f"
            },
            "type": "carpet"
           }
          ],
          "choropleth": [
           {
            "colorbar": {
             "outlinewidth": 0,
             "ticks": ""
            },
            "type": "choropleth"
           }
          ],
          "contour": [
           {
            "colorbar": {
             "outlinewidth": 0,
             "ticks": ""
            },
            "colorscale": [
             [
              0,
              "#0d0887"
             ],
             [
              0.1111111111111111,
              "#46039f"
             ],
             [
              0.2222222222222222,
              "#7201a8"
             ],
             [
              0.3333333333333333,
              "#9c179e"
             ],
             [
              0.4444444444444444,
              "#bd3786"
             ],
             [
              0.5555555555555556,
              "#d8576b"
             ],
             [
              0.6666666666666666,
              "#ed7953"
             ],
             [
              0.7777777777777778,
              "#fb9f3a"
             ],
             [
              0.8888888888888888,
              "#fdca26"
             ],
             [
              1,
              "#f0f921"
             ]
            ],
            "type": "contour"
           }
          ],
          "contourcarpet": [
           {
            "colorbar": {
             "outlinewidth": 0,
             "ticks": ""
            },
            "type": "contourcarpet"
           }
          ],
          "heatmap": [
           {
            "colorbar": {
             "outlinewidth": 0,
             "ticks": ""
            },
            "colorscale": [
             [
              0,
              "#0d0887"
             ],
             [
              0.1111111111111111,
              "#46039f"
             ],
             [
              0.2222222222222222,
              "#7201a8"
             ],
             [
              0.3333333333333333,
              "#9c179e"
             ],
             [
              0.4444444444444444,
              "#bd3786"
             ],
             [
              0.5555555555555556,
              "#d8576b"
             ],
             [
              0.6666666666666666,
              "#ed7953"
             ],
             [
              0.7777777777777778,
              "#fb9f3a"
             ],
             [
              0.8888888888888888,
              "#fdca26"
             ],
             [
              1,
              "#f0f921"
             ]
            ],
            "type": "heatmap"
           }
          ],
          "heatmapgl": [
           {
            "colorbar": {
             "outlinewidth": 0,
             "ticks": ""
            },
            "colorscale": [
             [
              0,
              "#0d0887"
             ],
             [
              0.1111111111111111,
              "#46039f"
             ],
             [
              0.2222222222222222,
              "#7201a8"
             ],
             [
              0.3333333333333333,
              "#9c179e"
             ],
             [
              0.4444444444444444,
              "#bd3786"
             ],
             [
              0.5555555555555556,
              "#d8576b"
             ],
             [
              0.6666666666666666,
              "#ed7953"
             ],
             [
              0.7777777777777778,
              "#fb9f3a"
             ],
             [
              0.8888888888888888,
              "#fdca26"
             ],
             [
              1,
              "#f0f921"
             ]
            ],
            "type": "heatmapgl"
           }
          ],
          "histogram": [
           {
            "marker": {
             "pattern": {
              "fillmode": "overlay",
              "size": 10,
              "solidity": 0.2
             }
            },
            "type": "histogram"
           }
          ],
          "histogram2d": [
           {
            "colorbar": {
             "outlinewidth": 0,
             "ticks": ""
            },
            "colorscale": [
             [
              0,
              "#0d0887"
             ],
             [
              0.1111111111111111,
              "#46039f"
             ],
             [
              0.2222222222222222,
              "#7201a8"
             ],
             [
              0.3333333333333333,
              "#9c179e"
             ],
             [
              0.4444444444444444,
              "#bd3786"
             ],
             [
              0.5555555555555556,
              "#d8576b"
             ],
             [
              0.6666666666666666,
              "#ed7953"
             ],
             [
              0.7777777777777778,
              "#fb9f3a"
             ],
             [
              0.8888888888888888,
              "#fdca26"
             ],
             [
              1,
              "#f0f921"
             ]
            ],
            "type": "histogram2d"
           }
          ],
          "histogram2dcontour": [
           {
            "colorbar": {
             "outlinewidth": 0,
             "ticks": ""
            },
            "colorscale": [
             [
              0,
              "#0d0887"
             ],
             [
              0.1111111111111111,
              "#46039f"
             ],
             [
              0.2222222222222222,
              "#7201a8"
             ],
             [
              0.3333333333333333,
              "#9c179e"
             ],
             [
              0.4444444444444444,
              "#bd3786"
             ],
             [
              0.5555555555555556,
              "#d8576b"
             ],
             [
              0.6666666666666666,
              "#ed7953"
             ],
             [
              0.7777777777777778,
              "#fb9f3a"
             ],
             [
              0.8888888888888888,
              "#fdca26"
             ],
             [
              1,
              "#f0f921"
             ]
            ],
            "type": "histogram2dcontour"
           }
          ],
          "mesh3d": [
           {
            "colorbar": {
             "outlinewidth": 0,
             "ticks": ""
            },
            "type": "mesh3d"
           }
          ],
          "parcoords": [
           {
            "line": {
             "colorbar": {
              "outlinewidth": 0,
              "ticks": ""
             }
            },
            "type": "parcoords"
           }
          ],
          "pie": [
           {
            "automargin": true,
            "type": "pie"
           }
          ],
          "scatter": [
           {
            "fillpattern": {
             "fillmode": "overlay",
             "size": 10,
             "solidity": 0.2
            },
            "type": "scatter"
           }
          ],
          "scatter3d": [
           {
            "line": {
             "colorbar": {
              "outlinewidth": 0,
              "ticks": ""
             }
            },
            "marker": {
             "colorbar": {
              "outlinewidth": 0,
              "ticks": ""
             }
            },
            "type": "scatter3d"
           }
          ],
          "scattercarpet": [
           {
            "marker": {
             "colorbar": {
              "outlinewidth": 0,
              "ticks": ""
             }
            },
            "type": "scattercarpet"
           }
          ],
          "scattergeo": [
           {
            "marker": {
             "colorbar": {
              "outlinewidth": 0,
              "ticks": ""
             }
            },
            "type": "scattergeo"
           }
          ],
          "scattergl": [
           {
            "marker": {
             "colorbar": {
              "outlinewidth": 0,
              "ticks": ""
             }
            },
            "type": "scattergl"
           }
          ],
          "scattermapbox": [
           {
            "marker": {
             "colorbar": {
              "outlinewidth": 0,
              "ticks": ""
             }
            },
            "type": "scattermapbox"
           }
          ],
          "scatterpolar": [
           {
            "marker": {
             "colorbar": {
              "outlinewidth": 0,
              "ticks": ""
             }
            },
            "type": "scatterpolar"
           }
          ],
          "scatterpolargl": [
           {
            "marker": {
             "colorbar": {
              "outlinewidth": 0,
              "ticks": ""
             }
            },
            "type": "scatterpolargl"
           }
          ],
          "scatterternary": [
           {
            "marker": {
             "colorbar": {
              "outlinewidth": 0,
              "ticks": ""
             }
            },
            "type": "scatterternary"
           }
          ],
          "surface": [
           {
            "colorbar": {
             "outlinewidth": 0,
             "ticks": ""
            },
            "colorscale": [
             [
              0,
              "#0d0887"
             ],
             [
              0.1111111111111111,
              "#46039f"
             ],
             [
              0.2222222222222222,
              "#7201a8"
             ],
             [
              0.3333333333333333,
              "#9c179e"
             ],
             [
              0.4444444444444444,
              "#bd3786"
             ],
             [
              0.5555555555555556,
              "#d8576b"
             ],
             [
              0.6666666666666666,
              "#ed7953"
             ],
             [
              0.7777777777777778,
              "#fb9f3a"
             ],
             [
              0.8888888888888888,
              "#fdca26"
             ],
             [
              1,
              "#f0f921"
             ]
            ],
            "type": "surface"
           }
          ],
          "table": [
           {
            "cells": {
             "fill": {
              "color": "#EBF0F8"
             },
             "line": {
              "color": "white"
             }
            },
            "header": {
             "fill": {
              "color": "#C8D4E3"
             },
             "line": {
              "color": "white"
             }
            },
            "type": "table"
           }
          ]
         },
         "layout": {
          "annotationdefaults": {
           "arrowcolor": "#2a3f5f",
           "arrowhead": 0,
           "arrowwidth": 1
          },
          "autotypenumbers": "strict",
          "coloraxis": {
           "colorbar": {
            "outlinewidth": 0,
            "ticks": ""
           }
          },
          "colorscale": {
           "diverging": [
            [
             0,
             "#8e0152"
            ],
            [
             0.1,
             "#c51b7d"
            ],
            [
             0.2,
             "#de77ae"
            ],
            [
             0.3,
             "#f1b6da"
            ],
            [
             0.4,
             "#fde0ef"
            ],
            [
             0.5,
             "#f7f7f7"
            ],
            [
             0.6,
             "#e6f5d0"
            ],
            [
             0.7,
             "#b8e186"
            ],
            [
             0.8,
             "#7fbc41"
            ],
            [
             0.9,
             "#4d9221"
            ],
            [
             1,
             "#276419"
            ]
           ],
           "sequential": [
            [
             0,
             "#0d0887"
            ],
            [
             0.1111111111111111,
             "#46039f"
            ],
            [
             0.2222222222222222,
             "#7201a8"
            ],
            [
             0.3333333333333333,
             "#9c179e"
            ],
            [
             0.4444444444444444,
             "#bd3786"
            ],
            [
             0.5555555555555556,
             "#d8576b"
            ],
            [
             0.6666666666666666,
             "#ed7953"
            ],
            [
             0.7777777777777778,
             "#fb9f3a"
            ],
            [
             0.8888888888888888,
             "#fdca26"
            ],
            [
             1,
             "#f0f921"
            ]
           ],
           "sequentialminus": [
            [
             0,
             "#0d0887"
            ],
            [
             0.1111111111111111,
             "#46039f"
            ],
            [
             0.2222222222222222,
             "#7201a8"
            ],
            [
             0.3333333333333333,
             "#9c179e"
            ],
            [
             0.4444444444444444,
             "#bd3786"
            ],
            [
             0.5555555555555556,
             "#d8576b"
            ],
            [
             0.6666666666666666,
             "#ed7953"
            ],
            [
             0.7777777777777778,
             "#fb9f3a"
            ],
            [
             0.8888888888888888,
             "#fdca26"
            ],
            [
             1,
             "#f0f921"
            ]
           ]
          },
          "colorway": [
           "#636efa",
           "#EF553B",
           "#00cc96",
           "#ab63fa",
           "#FFA15A",
           "#19d3f3",
           "#FF6692",
           "#B6E880",
           "#FF97FF",
           "#FECB52"
          ],
          "font": {
           "color": "#2a3f5f"
          },
          "geo": {
           "bgcolor": "white",
           "lakecolor": "white",
           "landcolor": "#E5ECF6",
           "showlakes": true,
           "showland": true,
           "subunitcolor": "white"
          },
          "hoverlabel": {
           "align": "left"
          },
          "hovermode": "closest",
          "mapbox": {
           "style": "light"
          },
          "paper_bgcolor": "white",
          "plot_bgcolor": "#E5ECF6",
          "polar": {
           "angularaxis": {
            "gridcolor": "white",
            "linecolor": "white",
            "ticks": ""
           },
           "bgcolor": "#E5ECF6",
           "radialaxis": {
            "gridcolor": "white",
            "linecolor": "white",
            "ticks": ""
           }
          },
          "scene": {
           "xaxis": {
            "backgroundcolor": "#E5ECF6",
            "gridcolor": "white",
            "gridwidth": 2,
            "linecolor": "white",
            "showbackground": true,
            "ticks": "",
            "zerolinecolor": "white"
           },
           "yaxis": {
            "backgroundcolor": "#E5ECF6",
            "gridcolor": "white",
            "gridwidth": 2,
            "linecolor": "white",
            "showbackground": true,
            "ticks": "",
            "zerolinecolor": "white"
           },
           "zaxis": {
            "backgroundcolor": "#E5ECF6",
            "gridcolor": "white",
            "gridwidth": 2,
            "linecolor": "white",
            "showbackground": true,
            "ticks": "",
            "zerolinecolor": "white"
           }
          },
          "shapedefaults": {
           "line": {
            "color": "#2a3f5f"
           }
          },
          "ternary": {
           "aaxis": {
            "gridcolor": "white",
            "linecolor": "white",
            "ticks": ""
           },
           "baxis": {
            "gridcolor": "white",
            "linecolor": "white",
            "ticks": ""
           },
           "bgcolor": "#E5ECF6",
           "caxis": {
            "gridcolor": "white",
            "linecolor": "white",
            "ticks": ""
           }
          },
          "title": {
           "x": 0.05
          },
          "xaxis": {
           "automargin": true,
           "gridcolor": "white",
           "linecolor": "white",
           "ticks": "",
           "title": {
            "standoff": 15
           },
           "zerolinecolor": "white",
           "zerolinewidth": 2
          },
          "yaxis": {
           "automargin": true,
           "gridcolor": "white",
           "linecolor": "white",
           "ticks": "",
           "title": {
            "standoff": 15
           },
           "zerolinecolor": "white",
           "zerolinewidth": 2
          }
         }
        },
        "title": {
         "text": "Simple Histogram Example"
        },
        "xaxis": {
         "anchor": "y",
         "domain": [
          0,
          1
         ],
         "title": {
          "text": "Data"
         }
        },
        "yaxis": {
         "anchor": "x",
         "domain": [
          0,
          1
         ],
         "title": {
          "text": "count"
         }
        }
       }
      },
      "image/png": "[encoded data removed]",
      "text/html": [
       "<div>                            <div id=\"f4e4de4a-fa79-4b18-967e-86017153d107\" class=\"plotly-graph-div\" style=\"height:525px; width:100%;\"></div>            <script type=\"text/javascript\">                require([\"plotly\"], function(Plotly) {                    window.PLOTLYENV=window.PLOTLYENV || {};                                    if (document.getElementById(\"f4e4de4a-fa79-4b18-967e-86017153d107\")) {                    Plotly.newPlot(                        \"f4e4de4a-fa79-4b18-967e-86017153d107\",                        [{\"alignmentgroup\":\"True\",\"bingroup\":\"x\",\"hovertemplate\":\"Data=%{x}\\u003cbr\\u003ecount=%{y}\\u003cextra\\u003e\\u003c\\u002fextra\\u003e\",\"legendgroup\":\"\",\"marker\":{\"color\":\"#636efa\",\"pattern\":{\"shape\":\"\"}},\"name\":\"\",\"nbinsx\":30,\"offsetgroup\":\"\",\"orientation\":\"v\",\"showlegend\":false,\"x\":[0.08380191274674431,0.20944404223142754,0.9912645545822222,0.8200736988081627,0.04571656682504799,0.43685522386551023,0.5730152176151926,0.9230566357272671,0.8463370971404475,0.7453151650595169,0.6009197471604578,0.48795615356352695,0.6978278203150554,0.3037530635616459,0.2262235799199056,0.014423416137815392,0.5389787534861958,0.2768856284184378,0.2504412650829285,0.5083535411140414,0.8266065738156727,0.5570189248985238,0.3810736497179633,0.26739798079915245,0.11763375515952879,0.22780969246836902,0.7649922112448044,0.7802937405920585,0.17217655482787741,0.3450062951996309,0.8494550208051813,0.09242490457360752,0.9817242392978038,0.35379840296985476,0.07732176004092206,0.3594635446886637,0.6652056119199001,0.30631873629477124,0.569307753994353,0.9915990808303585,0.6442110360312655,0.43699692726358186,0.9997390147917378,0.9339654923096894,0.9215625451806667,0.9740245760755978,0.6493453996419012,0.5232481129874943,0.13238115317929433,0.5992989227496758,0.7887192318556118,0.8320532853991865,0.26285915685642136,0.7689150540235108,0.7400566664681224,0.6988870713888676,0.38722576541164566,0.2352521869094748,0.9336225492843441,0.09103362268601256,0.44444190337383926,0.7506858164179294,0.4123343333916645,0.20493221792755256,0.08203953391310681,0.38639015724058,0.1813849439482954,0.7252508551549957,0.7590268156325823,0.7341411998981602,0.9239661488534544,0.7964332118789428,0.24999667673695802,0.11287077843443172,0.9063592450389554,0.33220748048123294,0.173327865867258,0.195984142477863,0.902835591426501,0.8359698286644605,0.3088458526207548,0.8084683288901685,0.7772586441538883,0.2238688770160916,0.48225009513756567,0.3541207197047175,0.25444465867132404,0.3074984099424234,0.9907585677487017,0.33519517281422595,0.1115653778504232,0.877362958715868,0.7524053739934059,0.6462178880429961,0.7143272211751727,0.18829214515293236,0.5464619780745782,0.05555208420256397,0.04816345053008597,0.8214035910151547,0.9652044727182535,0.8839497520137364,0.334925219357463,0.5985434626841761,0.6784670521315013,0.36580352687035145,0.809151348705704,0.7909661131903161,0.5520153495412348,0.2875262913427218,0.46133188522988333,0.8421609608181968,0.038872885290093584,0.6794656718606868,0.25028306950330803,0.4233049517740801,0.8378527681475145,0.6374397374250684,0.8322353557935389,0.2646717566754463,0.7045776727546686,0.008446683291064794,0.8217531814931799,0.9597344432020865,0.9160758167854686,0.18944165325969353,0.3503162608928819,0.7550240813409598,0.47242957670695895,0.7402575902990649,0.3378283939116885,0.11949466817682708,0.7665427649444002,0.7423056746197393,0.9438309096410538,0.34724250406495316,0.14909903825909254,0.24821491731914624,0.6804151269459952,0.13159662150746876,0.8177465515306931,0.16376692401830217,0.453554775357764,0.1809330413411987,0.33626622369274595,0.03543397718396668,0.47163085091683143,0.610694967863413,0.4396081232549034,0.15481453711545412,0.10741090746150517,0.4204407609542996,0.06914306426584182,0.6109434021052476,0.4541122329306344,0.6248066836839685,0.5685350455881804,0.5260967350038348,0.5589067136066248,0.7282294979595786,0.558217110559534,0.35684866484397926,0.7946902149283925,0.8553218422000308,0.8170120737200333,0.6354020879736371,0.04278737080235506,0.3270120476529872,0.8020695935213406,0.957551815911261,0.4391003864259737,0.7080551709605449,0.3404959950074199,0.2775892044969932,0.3907131644280656,0.7914414450223947,0.9072399392656519,0.6029486633324576,0.17104525252162817,0.6577291997582809,0.6959315746343623,0.3309061647434931,0.6208039429734141,0.30417141733652175,0.8143274125658069,0.34503020137739693,0.11285173630968026,0.7616038768306266,0.57268198724952,0.3627142619271151,0.33792847538463866,0.17360087853224093,0.9480087317306415,0.798996651377461,0.9266184457132175,0.22147159580165587,0.26433546603851166,0.8368122199105203,0.23886947673701275,0.9333519660181665,0.49734885745951674,0.05432560576252532,0.14088916619440672,0.5181232080659972,0.5540847056795315,0.6103427437081492,0.08295953901709296,0.8297192496595617,0.7213622921212934,0.20783343499817508,0.37641409887599275,0.7587022515391992,0.522366603150447,0.7611379383033746,0.7747463712194693,0.33662634788290724,0.6037588431641894,0.4260647923147738,0.3003043365045732,0.655634658468734,0.37717972945851663,0.9264401801963267,0.4830016844290793,0.5745487548304742,0.7548006034850588,0.30480208481992055,0.7761987622752744,0.09778758433477819,0.3658197500290623,0.20196593625068238,0.47295016323244654,0.6073829965841515,0.16037866054366334,0.4198693487595665,0.5751950849525197,0.004407882044037192,0.34865562417134,0.10866950041448742,0.12263236925795495,0.9090382527404336,0.3415218818306668,0.493203887102471,0.026262719055010098,0.9033019355833805,0.8965096168895235,0.7310994544667349,0.2514012847476722,0.16837199877206077,0.39773413179987627,0.978313326605953,0.24011353567643812,0.30435410838037313,0.5962214551889243,0.8675055711981149,0.23720543593804544,0.1594183903798102,0.3753219707388916,0.4565472874946026,0.11126287082388908,0.5307364105017423,0.13108575176080717,0.3215410539296051,0.5214113988114006,0.40911162549907154,0.8685219781406873,0.8128067102020429,0.4888658832759505,0.5909895727888029,0.8204381992000135,0.3480127738329246,0.1460089960651525,0.0922757793382295,0.6401003121943588,0.9657822298196318,0.8786692396818157,0.09872616683188407,0.9011971958733195,0.5604947862914085,0.4288881071764916,0.7859379996527777,0.5015552187733635,0.9248612354183817,0.32787267087397576,0.9855105960854638,0.41104837813460327,0.8861358970491305,0.7381484534184385,0.5204062855753144,0.5262666219533028,0.5827138914645403,0.792124381148317,0.4300888279790025,0.8225863423480987,0.058771398000541986,0.6775046934172326,0.888279995511841,0.8865003504468365,0.8880117649397771,0.30162118758390455,0.9753440951666028,0.9350543020083061,0.5897218211538375,0.0543409868626652,0.7261069113425778,0.6042661902457493,0.30460957486299267,0.6192554653911964,0.12547202487966225,0.06857912519159803,0.13210546500648712,0.6912615853083696,0.3575546617721346,0.6045048060716702,0.4320828320116561,0.3199951865432149,0.6272227945090958,0.4381273285649777,0.7499694065669366,0.15674524302179127,0.14670897664085325,0.7325857295925221,0.7385736029587976,0.05113608430290706,0.576539018812445,0.8738830244423613,0.6559550805403301,0.5344622048528751,0.12423884714981925,0.4894888945828144,0.8431762103763091,0.6922542170269212,0.03700569857901015,0.602987952049975,0.6977020127345698,0.7261581698812689,0.16001686757214384,0.9981272794724121,0.7564801718079088,0.013995617879950073,0.5574009143259693,0.5759965187440718,0.8118513875584396,0.8435610763611899,0.011220120640105469,0.8164994426011617,0.791998660344381,0.7728192825584629,0.6389499076563389,0.5913717759822866,0.9222600253814575,0.2188044634631816,0.4623835740202876,0.4919994104587906,0.7473790963861563,0.7420149708952016,0.49142055551434616,0.14679864662482478,0.19162203025348767,0.27525169686250517,0.8303934010712357,0.7630651300458785,0.9913218838258685,0.9245359666904214,0.4964004849960436,0.013454357730676048,0.5188790685855025,0.37717696625118335,0.9729589789064624,0.2903608964955364,0.7363087080326647,0.34404314918195444,0.3276972742984712,0.5633373089940766,0.935647893127616,0.04930689103466823,0.31278113083318326,0.3708563718897502,0.052327640917875784,0.8927728740460461,0.4717978335594061,0.4134797440538973,0.2427051441317617,0.28539556095507257,0.21464181129257687,0.7392283213466477,0.7782896536362138,0.4279683874531053,0.14401397917687653,0.8197312981321566,0.8351940465337219,0.7218690296511869,0.25365476144894583,0.2974929989614814,0.5445581613217162,0.5385907601017889,0.06754815815780713,0.4231041505767126,0.18699613993623176,0.07121931668861758,0.9582368395334746,0.7962485159274564,0.6592163101018852,0.6807412894912989,0.0232483351770566,0.5958059958023538,0.856635990141012,0.6096792428950026,0.4196830254511086,0.9373177342178143,0.1940985757973962,0.9327804991969245,0.041434657112422446,0.43118583769580776,0.8885499559130218,0.49582360470400844,0.7289969402969239,0.12114717476152859,0.31760217195857277,0.5774314747687712,0.08671714990957546,0.1174851260700005,0.39902615838902245,0.10252950242647751,0.03839901438406279,0.7986422094291498,0.0021223471912857894,0.5382836662743526,0.0018691331685810608,0.6531843173556804,0.3730627068725668,0.7660705592499338,0.9075069484286047,0.4539550335433641,0.4983903723170129,0.4348929983261607,0.8734286615128872,0.4201011929056895,0.623975393511428,0.8710047305800153,0.5228011417324979,0.13183209155907305,0.16144654400725145,0.15055111694811008,0.45933975114172854,0.12105912863202428,0.778615173693822,0.6866828194257794,0.7031514826198576,0.11145751062755738,0.37410806813517317,0.7505060234784111,0.3986525947534748,0.7259413388493327,0.03724685086322321,0.557866129146964,0.16463718237873526,0.9858238851400037,0.590832833777152,0.9573065363899947,0.4573722424419542,0.9911516963764574,0.9630020130603241,0.7477184577724909,0.24342980112337553,0.12585253272314556,0.4450690589859707,0.38137696450292047,0.66576579660172,0.7414335160219806,0.07904943283796817,0.7155310745564795,0.14360757082416442,0.18819654388970175,0.27280609940238865,0.27600160523559747,0.5136187991763113,0.02561004451443527,0.9030021177327983,0.5307117473965142,0.3863485627472566,0.7700036981529121,0.25924269671187916,0.8719856625144266,0.22797265188171312,0.9535754830292861,0.4913052688674522,0.7542128679139386,0.09724400600757332,0.7800569682911233,0.21407628542669443,0.3900602757572539,0.46326951631711677,0.356370734939806,0.6605311244053084,0.8705330592675827,0.33509943480700244,0.689126829244975,0.5424045125867144,0.549189257402423,0.6153616569903756],\"xaxis\":\"x\",\"yaxis\":\"y\",\"type\":\"histogram\"}],                        {\"template\":{\"data\":{\"histogram2dcontour\":[{\"type\":\"histogram2dcontour\",\"colorbar\":{\"outlinewidth\":0,\"ticks\":\"\"},\"colorscale\":[[0.0,\"#0d0887\"],[0.1111111111111111,\"#46039f\"],[0.2222222222222222,\"#7201a8\"],[0.3333333333333333,\"#9c179e\"],[0.4444444444444444,\"#bd3786\"],[0.5555555555555556,\"#d8576b\"],[0.6666666666666666,\"#ed7953\"],[0.7777777777777778,\"#fb9f3a\"],[0.8888888888888888,\"#fdca26\"],[1.0,\"#f0f921\"]]}],\"choropleth\":[{\"type\":\"choropleth\",\"colorbar\":{\"outlinewidth\":0,\"ticks\":\"\"}}],\"histogram2d\":[{\"type\":\"histogram2d\",\"colorbar\":{\"outlinewidth\":0,\"ticks\":\"\"},\"colorscale\":[[0.0,\"#0d0887\"],[0.1111111111111111,\"#46039f\"],[0.2222222222222222,\"#7201a8\"],[0.3333333333333333,\"#9c179e\"],[0.4444444444444444,\"#bd3786\"],[0.5555555555555556,\"#d8576b\"],[0.6666666666666666,\"#ed7953\"],[0.7777777777777778,\"#fb9f3a\"],[0.8888888888888888,\"#fdca26\"],[1.0,\"#f0f921\"]]}],\"heatmap\":[{\"type\":\"heatmap\",\"colorbar\":{\"outlinewidth\":0,\"ticks\":\"\"},\"colorscale\":[[0.0,\"#0d0887\"],[0.1111111111111111,\"#46039f\"],[0.2222222222222222,\"#7201a8\"],[0.3333333333333333,\"#9c179e\"],[0.4444444444444444,\"#bd3786\"],[0.5555555555555556,\"#d8576b\"],[0.6666666666666666,\"#ed7953\"],[0.7777777777777778,\"#fb9f3a\"],[0.8888888888888888,\"#fdca26\"],[1.0,\"#f0f921\"]]}],\"heatmapgl\":[{\"type\":\"heatmapgl\",\"colorbar\":{\"outlinewidth\":0,\"ticks\":\"\"},\"colorscale\":[[0.0,\"#0d0887\"],[0.1111111111111111,\"#46039f\"],[0.2222222222222222,\"#7201a8\"],[0.3333333333333333,\"#9c179e\"],[0.4444444444444444,\"#bd3786\"],[0.5555555555555556,\"#d8576b\"],[0.6666666666666666,\"#ed7953\"],[0.7777777777777778,\"#fb9f3a\"],[0.8888888888888888,\"#fdca26\"],[1.0,\"#f0f921\"]]}],\"contourcarpet\":[{\"type\":\"contourcarpet\",\"colorbar\":{\"outlinewidth\":0,\"ticks\":\"\"}}],\"contour\":[{\"type\":\"contour\",\"colorbar\":{\"outlinewidth\":0,\"ticks\":\"\"},\"colorscale\":[[0.0,\"#0d0887\"],[0.1111111111111111,\"#46039f\"],[0.2222222222222222,\"#7201a8\"],[0.3333333333333333,\"#9c179e\"],[0.4444444444444444,\"#bd3786\"],[0.5555555555555556,\"#d8576b\"],[0.6666666666666666,\"#ed7953\"],[0.7777777777777778,\"#fb9f3a\"],[0.8888888888888888,\"#fdca26\"],[1.0,\"#f0f921\"]]}],\"surface\":[{\"type\":\"surface\",\"colorbar\":{\"outlinewidth\":0,\"ticks\":\"\"},\"colorscale\":[[0.0,\"#0d0887\"],[0.1111111111111111,\"#46039f\"],[0.2222222222222222,\"#7201a8\"],[0.3333333333333333,\"#9c179e\"],[0.4444444444444444,\"#bd3786\"],[0.5555555555555556,\"#d8576b\"],[0.6666666666666666,\"#ed7953\"],[0.7777777777777778,\"#fb9f3a\"],[0.8888888888888888,\"#fdca26\"],[1.0,\"#f0f921\"]]}],\"mesh3d\":[{\"type\":\"mesh3d\",\"colorbar\":{\"outlinewidth\":0,\"ticks\":\"\"}}],\"scatter\":[{\"fillpattern\":{\"fillmode\":\"overlay\",\"size\":10,\"solidity\":0.2},\"type\":\"scatter\"}],\"parcoords\":[{\"type\":\"parcoords\",\"line\":{\"colorbar\":{\"outlinewidth\":0,\"ticks\":\"\"}}}],\"scatterpolargl\":[{\"type\":\"scatterpolargl\",\"marker\":{\"colorbar\":{\"outlinewidth\":0,\"ticks\":\"\"}}}],\"bar\":[{\"error_x\":{\"color\":\"#2a3f5f\"},\"error_y\":{\"color\":\"#2a3f5f\"},\"marker\":{\"line\":{\"color\":\"#E5ECF6\",\"width\":0.5},\"pattern\":{\"fillmode\":\"overlay\",\"size\":10,\"solidity\":0.2}},\"type\":\"bar\"}],\"scattergeo\":[{\"type\":\"scattergeo\",\"marker\":{\"colorbar\":{\"outlinewidth\":0,\"ticks\":\"\"}}}],\"scatterpolar\":[{\"type\":\"scatterpolar\",\"marker\":{\"colorbar\":{\"outlinewidth\":0,\"ticks\":\"\"}}}],\"histogram\":[{\"marker\":{\"pattern\":{\"fillmode\":\"overlay\",\"size\":10,\"solidity\":0.2}},\"type\":\"histogram\"}],\"scattergl\":[{\"type\":\"scattergl\",\"marker\":{\"colorbar\":{\"outlinewidth\":0,\"ticks\":\"\"}}}],\"scatter3d\":[{\"type\":\"scatter3d\",\"line\":{\"colorbar\":{\"outlinewidth\":0,\"ticks\":\"\"}},\"marker\":{\"colorbar\":{\"outlinewidth\":0,\"ticks\":\"\"}}}],\"scattermapbox\":[{\"type\":\"scattermapbox\",\"marker\":{\"colorbar\":{\"outlinewidth\":0,\"ticks\":\"\"}}}],\"scatterternary\":[{\"type\":\"scatterternary\",\"marker\":{\"colorbar\":{\"outlinewidth\":0,\"ticks\":\"\"}}}],\"scattercarpet\":[{\"type\":\"scattercarpet\",\"marker\":{\"colorbar\":{\"outlinewidth\":0,\"ticks\":\"\"}}}],\"carpet\":[{\"aaxis\":{\"endlinecolor\":\"#2a3f5f\",\"gridcolor\":\"white\",\"linecolor\":\"white\",\"minorgridcolor\":\"white\",\"startlinecolor\":\"#2a3f5f\"},\"baxis\":{\"endlinecolor\":\"#2a3f5f\",\"gridcolor\":\"white\",\"linecolor\":\"white\",\"minorgridcolor\":\"white\",\"startlinecolor\":\"#2a3f5f\"},\"type\":\"carpet\"}],\"table\":[{\"cells\":{\"fill\":{\"color\":\"#EBF0F8\"},\"line\":{\"color\":\"white\"}},\"header\":{\"fill\":{\"color\":\"#C8D4E3\"},\"line\":{\"color\":\"white\"}},\"type\":\"table\"}],\"barpolar\":[{\"marker\":{\"line\":{\"color\":\"#E5ECF6\",\"width\":0.5},\"pattern\":{\"fillmode\":\"overlay\",\"size\":10,\"solidity\":0.2}},\"type\":\"barpolar\"}],\"pie\":[{\"automargin\":true,\"type\":\"pie\"}]},\"layout\":{\"autotypenumbers\":\"strict\",\"colorway\":[\"#636efa\",\"#EF553B\",\"#00cc96\",\"#ab63fa\",\"#FFA15A\",\"#19d3f3\",\"#FF6692\",\"#B6E880\",\"#FF97FF\",\"#FECB52\"],\"font\":{\"color\":\"#2a3f5f\"},\"hovermode\":\"closest\",\"hoverlabel\":{\"align\":\"left\"},\"paper_bgcolor\":\"white\",\"plot_bgcolor\":\"#E5ECF6\",\"polar\":{\"bgcolor\":\"#E5ECF6\",\"angularaxis\":{\"gridcolor\":\"white\",\"linecolor\":\"white\",\"ticks\":\"\"},\"radialaxis\":{\"gridcolor\":\"white\",\"linecolor\":\"white\",\"ticks\":\"\"}},\"ternary\":{\"bgcolor\":\"#E5ECF6\",\"aaxis\":{\"gridcolor\":\"white\",\"linecolor\":\"white\",\"ticks\":\"\"},\"baxis\":{\"gridcolor\":\"white\",\"linecolor\":\"white\",\"ticks\":\"\"},\"caxis\":{\"gridcolor\":\"white\",\"linecolor\":\"white\",\"ticks\":\"\"}},\"coloraxis\":{\"colorbar\":{\"outlinewidth\":0,\"ticks\":\"\"}},\"colorscale\":{\"sequential\":[[0.0,\"#0d0887\"],[0.1111111111111111,\"#46039f\"],[0.2222222222222222,\"#7201a8\"],[0.3333333333333333,\"#9c179e\"],[0.4444444444444444,\"#bd3786\"],[0.5555555555555556,\"#d8576b\"],[0.6666666666666666,\"#ed7953\"],[0.7777777777777778,\"#fb9f3a\"],[0.8888888888888888,\"#fdca26\"],[1.0,\"#f0f921\"]],\"sequentialminus\":[[0.0,\"#0d0887\"],[0.1111111111111111,\"#46039f\"],[0.2222222222222222,\"#7201a8\"],[0.3333333333333333,\"#9c179e\"],[0.4444444444444444,\"#bd3786\"],[0.5555555555555556,\"#d8576b\"],[0.6666666666666666,\"#ed7953\"],[0.7777777777777778,\"#fb9f3a\"],[0.8888888888888888,\"#fdca26\"],[1.0,\"#f0f921\"]],\"diverging\":[[0,\"#8e0152\"],[0.1,\"#c51b7d\"],[0.2,\"#de77ae\"],[0.3,\"#f1b6da\"],[0.4,\"#fde0ef\"],[0.5,\"#f7f7f7\"],[0.6,\"#e6f5d0\"],[0.7,\"#b8e186\"],[0.8,\"#7fbc41\"],[0.9,\"#4d9221\"],[1,\"#276419\"]]},\"xaxis\":{\"gridcolor\":\"white\",\"linecolor\":\"white\",\"ticks\":\"\",\"title\":{\"standoff\":15},\"zerolinecolor\":\"white\",\"automargin\":true,\"zerolinewidth\":2},\"yaxis\":{\"gridcolor\":\"white\",\"linecolor\":\"white\",\"ticks\":\"\",\"title\":{\"standoff\":15},\"zerolinecolor\":\"white\",\"automargin\":true,\"zerolinewidth\":2},\"scene\":{\"xaxis\":{\"backgroundcolor\":\"#E5ECF6\",\"gridcolor\":\"white\",\"linecolor\":\"white\",\"showbackground\":true,\"ticks\":\"\",\"zerolinecolor\":\"white\",\"gridwidth\":2},\"yaxis\":{\"backgroundcolor\":\"#E5ECF6\",\"gridcolor\":\"white\",\"linecolor\":\"white\",\"showbackground\":true,\"ticks\":\"\",\"zerolinecolor\":\"white\",\"gridwidth\":2},\"zaxis\":{\"backgroundcolor\":\"#E5ECF6\",\"gridcolor\":\"white\",\"linecolor\":\"white\",\"showbackground\":true,\"ticks\":\"\",\"zerolinecolor\":\"white\",\"gridwidth\":2}},\"shapedefaults\":{\"line\":{\"color\":\"#2a3f5f\"}},\"annotationdefaults\":{\"arrowcolor\":\"#2a3f5f\",\"arrowhead\":0,\"arrowwidth\":1},\"geo\":{\"bgcolor\":\"white\",\"landcolor\":\"#E5ECF6\",\"subunitcolor\":\"white\",\"showland\":true,\"showlakes\":true,\"lakecolor\":\"white\"},\"title\":{\"x\":0.05},\"mapbox\":{\"style\":\"light\"}}},\"xaxis\":{\"anchor\":\"y\",\"domain\":[0.0,1.0],\"title\":{\"text\":\"Data\"}},\"yaxis\":{\"anchor\":\"x\",\"domain\":[0.0,1.0],\"title\":{\"text\":\"count\"}},\"legend\":{\"tracegroupgap\":0},\"title\":{\"text\":\"Simple Histogram Example\"},\"barmode\":\"relative\"},                        {\"responsive\": true}                    ).then(function(){\n",
       "                            \n",
       "var gd = document.getElementById('f4e4de4a-fa79-4b18-967e-86017153d107');\n",
       "var x = new MutationObserver(function (mutations, observer) {{\n",
       "        var display = window.getComputedStyle(gd).display;\n",
       "        if (!display || display === 'none') {{\n",
       "            console.log([gd, 'removed!']);\n",
       "            Plotly.purge(gd);\n",
       "            observer.disconnect();\n",
       "        }}\n",
       "}});\n",
       "\n",
       "// Listen for the removal of the full notebook cells\n",
       "var notebookContainer = gd.closest('#notebook-container');\n",
       "if (notebookContainer) {{\n",
       "    x.observe(notebookContainer, {childList: true});\n",
       "}}\n",
       "\n",
       "// Listen for the clearing of the current output cell\n",
       "var outputEl = gd.closest('.output');\n",
       "if (outputEl) {{\n",
       "    x.observe(outputEl, {childList: true});\n",
       "}}\n",
       "\n",
       "                        })                };                });            </script>        </div>"
      ]
     },
     "metadata": {},
     "output_type": "display_data"
    }
   ],
   "source": [
    "import plotly.express as px\n",
    "import pandas as pd\n",
    "import numpy as np\n",
    "\n",
    "df = pd.DataFrame({\n",
    "    \"Data\": np.random.rand(500)\n",
    "})\n",
    "\n",
    "fig = px.histogram(\n",
    "    df,\n",
    "    x=\"Data\",\n",
    "    nbins=30, # number of bins => bin = 구간\n",
    "    title = \"Simple Histogram Example\"\n",
    ")\n",
    "fig.show()"
   ]
  },
  {
   "cell_type": "code",
   "execution_count": 17,
   "id": "dbc71dc9-275e-46cf-8778-094121b56869",
   "metadata": {},
   "outputs": [
    {
     "data": {
      "application/vnd.plotly.v1+json": {
       "config": {
        "plotlyServerURL": "https://plot.ly"
       },
       "data": [
        {
         "alignmentgroup": "True",
         "hovertemplate": "variable=%{x}<br>value=%{y}<extra></extra>",
         "legendgroup": "",
         "marker": {
          "color": "#636efa"
         },
         "name": "",
         "notched": false,
         "offsetgroup": "",
         "orientation": "v",
         "showlegend": false,
         "type": "box",
         "x": [
          "비교열1",
          "비교열1",
          "비교열1",
          "비교열1",
          "비교열1",
          "비교열1",
          "비교열1",
          "비교열1",
          "비교열1",
          "비교열1",
          "비교열1",
          "비교열1",
          "비교열1",
          "비교열1",
          "비교열1",
          "비교열1",
          "비교열1",
          "비교열1",
          "비교열1",
          "비교열1",
          "비교열1",
          "비교열1",
          "비교열1",
          "비교열1",
          "비교열1",
          "비교열1",
          "비교열1",
          "비교열1",
          "비교열1",
          "비교열1",
          "비교열1",
          "비교열1",
          "비교열1",
          "비교열1",
          "비교열1",
          "비교열1",
          "비교열1",
          "비교열1",
          "비교열1",
          "비교열1",
          "비교열1",
          "비교열1",
          "비교열1",
          "비교열1",
          "비교열1",
          "비교열1",
          "비교열1",
          "비교열1",
          "비교열1",
          "비교열1",
          "비교열1",
          "비교열1",
          "비교열1",
          "비교열1",
          "비교열1",
          "비교열1",
          "비교열1",
          "비교열1",
          "비교열1",
          "비교열1",
          "비교열1",
          "비교열1",
          "비교열1",
          "비교열1",
          "비교열1",
          "비교열1",
          "비교열1",
          "비교열1",
          "비교열1",
          "비교열1",
          "비교열1",
          "비교열1",
          "비교열1",
          "비교열1",
          "비교열1",
          "비교열1",
          "비교열1",
          "비교열1",
          "비교열1",
          "비교열1",
          "비교열1",
          "비교열1",
          "비교열1",
          "비교열1",
          "비교열1",
          "비교열1",
          "비교열1",
          "비교열1",
          "비교열1",
          "비교열1",
          "비교열1",
          "비교열1",
          "비교열1",
          "비교열1",
          "비교열1",
          "비교열1",
          "비교열1",
          "비교열1",
          "비교열1",
          "비교열1",
          "비교열2",
          "비교열2",
          "비교열2",
          "비교열2",
          "비교열2",
          "비교열2",
          "비교열2",
          "비교열2",
          "비교열2",
          "비교열2",
          "비교열2",
          "비교열2",
          "비교열2",
          "비교열2",
          "비교열2",
          "비교열2",
          "비교열2",
          "비교열2",
          "비교열2",
          "비교열2",
          "비교열2",
          "비교열2",
          "비교열2",
          "비교열2",
          "비교열2",
          "비교열2",
          "비교열2",
          "비교열2",
          "비교열2",
          "비교열2",
          "비교열2",
          "비교열2",
          "비교열2",
          "비교열2",
          "비교열2",
          "비교열2",
          "비교열2",
          "비교열2",
          "비교열2",
          "비교열2",
          "비교열2",
          "비교열2",
          "비교열2",
          "비교열2",
          "비교열2",
          "비교열2",
          "비교열2",
          "비교열2",
          "비교열2",
          "비교열2",
          "비교열2",
          "비교열2",
          "비교열2",
          "비교열2",
          "비교열2",
          "비교열2",
          "비교열2",
          "비교열2",
          "비교열2",
          "비교열2",
          "비교열2",
          "비교열2",
          "비교열2",
          "비교열2",
          "비교열2",
          "비교열2",
          "비교열2",
          "비교열2",
          "비교열2",
          "비교열2",
          "비교열2",
          "비교열2",
          "비교열2",
          "비교열2",
          "비교열2",
          "비교열2",
          "비교열2",
          "비교열2",
          "비교열2",
          "비교열2",
          "비교열2",
          "비교열2",
          "비교열2",
          "비교열2",
          "비교열2",
          "비교열2",
          "비교열2",
          "비교열2",
          "비교열2",
          "비교열2",
          "비교열2",
          "비교열2",
          "비교열2",
          "비교열2",
          "비교열2",
          "비교열2",
          "비교열2",
          "비교열2",
          "비교열2",
          "비교열2"
         ],
         "x0": " ",
         "xaxis": "x",
         "y": [
          0.44376813521960623,
          0.42862331168682977,
          0.48647202462246475,
          0.5477639659018538,
          0.12437404578565492,
          0.103884929475488,
          0.9263303566408507,
          0.2725596778133391,
          0.7466060890414259,
          0.15324893580797705,
          0.14437540956374972,
          0.1706944774892234,
          0.26819612702609186,
          0.21373800431756818,
          0.484513080301071,
          0.41843750980076044,
          0.8080243079430836,
          0.24411624919403696,
          0.19779356156987504,
          0.2955716207638399,
          0.33366575713720437,
          0.33612531489214637,
          0.14371171358414514,
          0.8938662275449426,
          0.23239390771888913,
          0.7121841436532051,
          0.9551048553302979,
          0.78352312837714,
          0.5454168619441839,
          0.21889884149896166,
          0.1441385791025649,
          0.01526700376469936,
          0.6071572764315686,
          0.04845987199949775,
          0.7714506416969311,
          0.9442996818674951,
          0.39785951313716217,
          0.6506174412568184,
          0.7620384139872723,
          0.3748532403105205,
          0.9856819922512485,
          0.3351777074780118,
          0.9771262760403813,
          0.044023332830993245,
          0.1500257610914586,
          0.07508950276402504,
          0.596570421993678,
          0.3219725948599045,
          0.9498719519345116,
          0.4442785594036751,
          0.561127892179087,
          0.06353458602354334,
          0.19966014553691036,
          0.9681923950862393,
          0.4600327987709406,
          0.44143089415441905,
          0.3039860016117959,
          0.6292139176756418,
          0.45072840723581187,
          0.9130276838060003,
          0.710867285963033,
          0.6270396845522911,
          0.165380203041533,
          0.4439655255656799,
          0.8532224750307436,
          0.8648740685730918,
          0.3207636613267336,
          0.4380879753803666,
          0.9078025593582606,
          0.2960375925484784,
          0.8968788977222325,
          0.6595729178985542,
          0.6523831419118085,
          0.45345484679210635,
          0.5374375971069083,
          0.9830767454623747,
          0.6266329425752534,
          0.34269280126438095,
          0.5376280161438516,
          0.6109060236694781,
          0.24495774925544178,
          0.4522964430175822,
          0.0709976975967227,
          0.8156976831037056,
          0.6481440741703852,
          0.34386006773732203,
          0.13889383845440295,
          0.6570700097635236,
          0.13294654427835306,
          0.45922522265979737,
          0.23948942697542996,
          0.9959746839402364,
          0.40439696836423944,
          0.1132525751784973,
          0.5497688624380103,
          0.2772462826954888,
          0.22232128702922582,
          0.045970149168359065,
          0.6124288096891758,
          0.4041329825708838,
          0.43456145470245977,
          0.608986993261035,
          0.6061463654979898,
          0.8638995270701628,
          0.43431794614612107,
          0.5204411014812227,
          0.5120490798679204,
          0.7586074073657421,
          0.6649842743847576,
          0.0627073796430403,
          0.8721898352663288,
          0.24380265604413243,
          0.24355761739660764,
          0.26776721955604976,
          0.7716979283288152,
          0.41400982688253907,
          0.3474765505171249,
          0.971325999263931,
          0.12547202987216488,
          0.33471948888724246,
          0.436452619809663,
          0.290162353996692,
          0.6676975851328879,
          0.39616158590684825,
          0.13945265926052042,
          0.5905222814113907,
          0.5104883971031997,
          0.35447046240614355,
          0.37762821020622095,
          0.833317962545983,
          0.42993227415995383,
          0.9431881730607025,
          0.2599697866619063,
          0.20715580357337182,
          0.33427047002144195,
          0.8117100027831945,
          0.406967573630417,
          0.04049632958937166,
          0.7619172402324534,
          0.707469538612128,
          0.357601968210694,
          0.6994791852681289,
          0.633358092847679,
          0.7728827362288485,
          0.9833259271805797,
          0.7865115524531895,
          0.8673809697895849,
          0.4314314088109994,
          0.25767509652648957,
          0.9213067031698948,
          0.5555749125681044,
          0.41416723885760975,
          0.9518116340371477,
          0.35596284839684855,
          0.5062116287156637,
          0.22143747360172172,
          0.4057574861933526,
          0.9658126520109979,
          0.22440663956332318,
          0.9424358792809167,
          0.8165411051310718,
          0.21504064018457436,
          0.16213194387906804,
          0.45236676593488756,
          0.9947972115541466,
          0.10909091473246413,
          0.8253827307461519,
          0.47055490988866944,
          0.7428946936880235,
          0.749063367486388,
          0.024694679295367505,
          0.2900698150494664,
          0.4123282554867832,
          0.25969175267645017,
          0.5512005602264595,
          0.930816255466841,
          0.7975481088014418,
          0.488385888101206,
          0.9387848223098783,
          0.049444937221041374,
          0.47004340853682625,
          0.4495175056117704,
          0.8443716468924103,
          0.934143321792918,
          0.4521881766840876,
          0.3070502125868422,
          0.985152347500238,
          0.45322600340440933,
          0.5657250745509664,
          0.2519808634476306,
          0.1307357870649284,
          0.048904249926629784,
          0.21591516603100913,
          0.8467982057737108,
          0.03246112619440766,
          0.12896127776572253,
          0.19423382601050254,
          0.7316337066122229,
          0.9892158455292159,
          0.43829171840663006
         ],
         "y0": " ",
         "yaxis": "y"
        }
       ],
       "layout": {
        "boxmode": "group",
        "legend": {
         "tracegroupgap": 0
        },
        "template": {
         "data": {
          "bar": [
           {
            "error_x": {
             "color": "#2a3f5f"
            },
            "error_y": {
             "color": "#2a3f5f"
            },
            "marker": {
             "line": {
              "color": "#E5ECF6",
              "width": 0.5
             },
             "pattern": {
              "fillmode": "overlay",
              "size": 10,
              "solidity": 0.2
             }
            },
            "type": "bar"
           }
          ],
          "barpolar": [
           {
            "marker": {
             "line": {
              "color": "#E5ECF6",
              "width": 0.5
             },
             "pattern": {
              "fillmode": "overlay",
              "size": 10,
              "solidity": 0.2
             }
            },
            "type": "barpolar"
           }
          ],
          "carpet": [
           {
            "aaxis": {
             "endlinecolor": "#2a3f5f",
             "gridcolor": "white",
             "linecolor": "white",
             "minorgridcolor": "white",
             "startlinecolor": "#2a3f5f"
            },
            "baxis": {
             "endlinecolor": "#2a3f5f",
             "gridcolor": "white",
             "linecolor": "white",
             "minorgridcolor": "white",
             "startlinecolor": "#2a3f5f"
            },
            "type": "carpet"
           }
          ],
          "choropleth": [
           {
            "colorbar": {
             "outlinewidth": 0,
             "ticks": ""
            },
            "type": "choropleth"
           }
          ],
          "contour": [
           {
            "colorbar": {
             "outlinewidth": 0,
             "ticks": ""
            },
            "colorscale": [
             [
              0,
              "#0d0887"
             ],
             [
              0.1111111111111111,
              "#46039f"
             ],
             [
              0.2222222222222222,
              "#7201a8"
             ],
             [
              0.3333333333333333,
              "#9c179e"
             ],
             [
              0.4444444444444444,
              "#bd3786"
             ],
             [
              0.5555555555555556,
              "#d8576b"
             ],
             [
              0.6666666666666666,
              "#ed7953"
             ],
             [
              0.7777777777777778,
              "#fb9f3a"
             ],
             [
              0.8888888888888888,
              "#fdca26"
             ],
             [
              1,
              "#f0f921"
             ]
            ],
            "type": "contour"
           }
          ],
          "contourcarpet": [
           {
            "colorbar": {
             "outlinewidth": 0,
             "ticks": ""
            },
            "type": "contourcarpet"
           }
          ],
          "heatmap": [
           {
            "colorbar": {
             "outlinewidth": 0,
             "ticks": ""
            },
            "colorscale": [
             [
              0,
              "#0d0887"
             ],
             [
              0.1111111111111111,
              "#46039f"
             ],
             [
              0.2222222222222222,
              "#7201a8"
             ],
             [
              0.3333333333333333,
              "#9c179e"
             ],
             [
              0.4444444444444444,
              "#bd3786"
             ],
             [
              0.5555555555555556,
              "#d8576b"
             ],
             [
              0.6666666666666666,
              "#ed7953"
             ],
             [
              0.7777777777777778,
              "#fb9f3a"
             ],
             [
              0.8888888888888888,
              "#fdca26"
             ],
             [
              1,
              "#f0f921"
             ]
            ],
            "type": "heatmap"
           }
          ],
          "heatmapgl": [
           {
            "colorbar": {
             "outlinewidth": 0,
             "ticks": ""
            },
            "colorscale": [
             [
              0,
              "#0d0887"
             ],
             [
              0.1111111111111111,
              "#46039f"
             ],
             [
              0.2222222222222222,
              "#7201a8"
             ],
             [
              0.3333333333333333,
              "#9c179e"
             ],
             [
              0.4444444444444444,
              "#bd3786"
             ],
             [
              0.5555555555555556,
              "#d8576b"
             ],
             [
              0.6666666666666666,
              "#ed7953"
             ],
             [
              0.7777777777777778,
              "#fb9f3a"
             ],
             [
              0.8888888888888888,
              "#fdca26"
             ],
             [
              1,
              "#f0f921"
             ]
            ],
            "type": "heatmapgl"
           }
          ],
          "histogram": [
           {
            "marker": {
             "pattern": {
              "fillmode": "overlay",
              "size": 10,
              "solidity": 0.2
             }
            },
            "type": "histogram"
           }
          ],
          "histogram2d": [
           {
            "colorbar": {
             "outlinewidth": 0,
             "ticks": ""
            },
            "colorscale": [
             [
              0,
              "#0d0887"
             ],
             [
              0.1111111111111111,
              "#46039f"
             ],
             [
              0.2222222222222222,
              "#7201a8"
             ],
             [
              0.3333333333333333,
              "#9c179e"
             ],
             [
              0.4444444444444444,
              "#bd3786"
             ],
             [
              0.5555555555555556,
              "#d8576b"
             ],
             [
              0.6666666666666666,
              "#ed7953"
             ],
             [
              0.7777777777777778,
              "#fb9f3a"
             ],
             [
              0.8888888888888888,
              "#fdca26"
             ],
             [
              1,
              "#f0f921"
             ]
            ],
            "type": "histogram2d"
           }
          ],
          "histogram2dcontour": [
           {
            "colorbar": {
             "outlinewidth": 0,
             "ticks": ""
            },
            "colorscale": [
             [
              0,
              "#0d0887"
             ],
             [
              0.1111111111111111,
              "#46039f"
             ],
             [
              0.2222222222222222,
              "#7201a8"
             ],
             [
              0.3333333333333333,
              "#9c179e"
             ],
             [
              0.4444444444444444,
              "#bd3786"
             ],
             [
              0.5555555555555556,
              "#d8576b"
             ],
             [
              0.6666666666666666,
              "#ed7953"
             ],
             [
              0.7777777777777778,
              "#fb9f3a"
             ],
             [
              0.8888888888888888,
              "#fdca26"
             ],
             [
              1,
              "#f0f921"
             ]
            ],
            "type": "histogram2dcontour"
           }
          ],
          "mesh3d": [
           {
            "colorbar": {
             "outlinewidth": 0,
             "ticks": ""
            },
            "type": "mesh3d"
           }
          ],
          "parcoords": [
           {
            "line": {
             "colorbar": {
              "outlinewidth": 0,
              "ticks": ""
             }
            },
            "type": "parcoords"
           }
          ],
          "pie": [
           {
            "automargin": true,
            "type": "pie"
           }
          ],
          "scatter": [
           {
            "fillpattern": {
             "fillmode": "overlay",
             "size": 10,
             "solidity": 0.2
            },
            "type": "scatter"
           }
          ],
          "scatter3d": [
           {
            "line": {
             "colorbar": {
              "outlinewidth": 0,
              "ticks": ""
             }
            },
            "marker": {
             "colorbar": {
              "outlinewidth": 0,
              "ticks": ""
             }
            },
            "type": "scatter3d"
           }
          ],
          "scattercarpet": [
           {
            "marker": {
             "colorbar": {
              "outlinewidth": 0,
              "ticks": ""
             }
            },
            "type": "scattercarpet"
           }
          ],
          "scattergeo": [
           {
            "marker": {
             "colorbar": {
              "outlinewidth": 0,
              "ticks": ""
             }
            },
            "type": "scattergeo"
           }
          ],
          "scattergl": [
           {
            "marker": {
             "colorbar": {
              "outlinewidth": 0,
              "ticks": ""
             }
            },
            "type": "scattergl"
           }
          ],
          "scattermapbox": [
           {
            "marker": {
             "colorbar": {
              "outlinewidth": 0,
              "ticks": ""
             }
            },
            "type": "scattermapbox"
           }
          ],
          "scatterpolar": [
           {
            "marker": {
             "colorbar": {
              "outlinewidth": 0,
              "ticks": ""
             }
            },
            "type": "scatterpolar"
           }
          ],
          "scatterpolargl": [
           {
            "marker": {
             "colorbar": {
              "outlinewidth": 0,
              "ticks": ""
             }
            },
            "type": "scatterpolargl"
           }
          ],
          "scatterternary": [
           {
            "marker": {
             "colorbar": {
              "outlinewidth": 0,
              "ticks": ""
             }
            },
            "type": "scatterternary"
           }
          ],
          "surface": [
           {
            "colorbar": {
             "outlinewidth": 0,
             "ticks": ""
            },
            "colorscale": [
             [
              0,
              "#0d0887"
             ],
             [
              0.1111111111111111,
              "#46039f"
             ],
             [
              0.2222222222222222,
              "#7201a8"
             ],
             [
              0.3333333333333333,
              "#9c179e"
             ],
             [
              0.4444444444444444,
              "#bd3786"
             ],
             [
              0.5555555555555556,
              "#d8576b"
             ],
             [
              0.6666666666666666,
              "#ed7953"
             ],
             [
              0.7777777777777778,
              "#fb9f3a"
             ],
             [
              0.8888888888888888,
              "#fdca26"
             ],
             [
              1,
              "#f0f921"
             ]
            ],
            "type": "surface"
           }
          ],
          "table": [
           {
            "cells": {
             "fill": {
              "color": "#EBF0F8"
             },
             "line": {
              "color": "white"
             }
            },
            "header": {
             "fill": {
              "color": "#C8D4E3"
             },
             "line": {
              "color": "white"
             }
            },
            "type": "table"
           }
          ]
         },
         "layout": {
          "annotationdefaults": {
           "arrowcolor": "#2a3f5f",
           "arrowhead": 0,
           "arrowwidth": 1
          },
          "autotypenumbers": "strict",
          "coloraxis": {
           "colorbar": {
            "outlinewidth": 0,
            "ticks": ""
           }
          },
          "colorscale": {
           "diverging": [
            [
             0,
             "#8e0152"
            ],
            [
             0.1,
             "#c51b7d"
            ],
            [
             0.2,
             "#de77ae"
            ],
            [
             0.3,
             "#f1b6da"
            ],
            [
             0.4,
             "#fde0ef"
            ],
            [
             0.5,
             "#f7f7f7"
            ],
            [
             0.6,
             "#e6f5d0"
            ],
            [
             0.7,
             "#b8e186"
            ],
            [
             0.8,
             "#7fbc41"
            ],
            [
             0.9,
             "#4d9221"
            ],
            [
             1,
             "#276419"
            ]
           ],
           "sequential": [
            [
             0,
             "#0d0887"
            ],
            [
             0.1111111111111111,
             "#46039f"
            ],
            [
             0.2222222222222222,
             "#7201a8"
            ],
            [
             0.3333333333333333,
             "#9c179e"
            ],
            [
             0.4444444444444444,
             "#bd3786"
            ],
            [
             0.5555555555555556,
             "#d8576b"
            ],
            [
             0.6666666666666666,
             "#ed7953"
            ],
            [
             0.7777777777777778,
             "#fb9f3a"
            ],
            [
             0.8888888888888888,
             "#fdca26"
            ],
            [
             1,
             "#f0f921"
            ]
           ],
           "sequentialminus": [
            [
             0,
             "#0d0887"
            ],
            [
             0.1111111111111111,
             "#46039f"
            ],
            [
             0.2222222222222222,
             "#7201a8"
            ],
            [
             0.3333333333333333,
             "#9c179e"
            ],
            [
             0.4444444444444444,
             "#bd3786"
            ],
            [
             0.5555555555555556,
             "#d8576b"
            ],
            [
             0.6666666666666666,
             "#ed7953"
            ],
            [
             0.7777777777777778,
             "#fb9f3a"
            ],
            [
             0.8888888888888888,
             "#fdca26"
            ],
            [
             1,
             "#f0f921"
            ]
           ]
          },
          "colorway": [
           "#636efa",
           "#EF553B",
           "#00cc96",
           "#ab63fa",
           "#FFA15A",
           "#19d3f3",
           "#FF6692",
           "#B6E880",
           "#FF97FF",
           "#FECB52"
          ],
          "font": {
           "color": "#2a3f5f"
          },
          "geo": {
           "bgcolor": "white",
           "lakecolor": "white",
           "landcolor": "#E5ECF6",
           "showlakes": true,
           "showland": true,
           "subunitcolor": "white"
          },
          "hoverlabel": {
           "align": "left"
          },
          "hovermode": "closest",
          "mapbox": {
           "style": "light"
          },
          "paper_bgcolor": "white",
          "plot_bgcolor": "#E5ECF6",
          "polar": {
           "angularaxis": {
            "gridcolor": "white",
            "linecolor": "white",
            "ticks": ""
           },
           "bgcolor": "#E5ECF6",
           "radialaxis": {
            "gridcolor": "white",
            "linecolor": "white",
            "ticks": ""
           }
          },
          "scene": {
           "xaxis": {
            "backgroundcolor": "#E5ECF6",
            "gridcolor": "white",
            "gridwidth": 2,
            "linecolor": "white",
            "showbackground": true,
            "ticks": "",
            "zerolinecolor": "white"
           },
           "yaxis": {
            "backgroundcolor": "#E5ECF6",
            "gridcolor": "white",
            "gridwidth": 2,
            "linecolor": "white",
            "showbackground": true,
            "ticks": "",
            "zerolinecolor": "white"
           },
           "zaxis": {
            "backgroundcolor": "#E5ECF6",
            "gridcolor": "white",
            "gridwidth": 2,
            "linecolor": "white",
            "showbackground": true,
            "ticks": "",
            "zerolinecolor": "white"
           }
          },
          "shapedefaults": {
           "line": {
            "color": "#2a3f5f"
           }
          },
          "ternary": {
           "aaxis": {
            "gridcolor": "white",
            "linecolor": "white",
            "ticks": ""
           },
           "baxis": {
            "gridcolor": "white",
            "linecolor": "white",
            "ticks": ""
           },
           "bgcolor": "#E5ECF6",
           "caxis": {
            "gridcolor": "white",
            "linecolor": "white",
            "ticks": ""
           }
          },
          "title": {
           "x": 0.05
          },
          "xaxis": {
           "automargin": true,
           "gridcolor": "white",
           "linecolor": "white",
           "ticks": "",
           "title": {
            "standoff": 15
           },
           "zerolinecolor": "white",
           "zerolinewidth": 2
          },
          "yaxis": {
           "automargin": true,
           "gridcolor": "white",
           "linecolor": "white",
           "ticks": "",
           "title": {
            "standoff": 15
           },
           "zerolinecolor": "white",
           "zerolinewidth": 2
          }
         }
        },
        "title": {
         "text": "상자그림예제"
        },
        "xaxis": {
         "anchor": "y",
         "domain": [
          0,
          1
         ],
         "title": {
          "text": "variable"
         }
        },
        "yaxis": {
         "anchor": "x",
         "domain": [
          0,
          1
         ],
         "title": {
          "text": "value"
         }
        }
       }
      },
      "image/png": "[encoded data removed]",
      "text/html": [
       "<div>                            <div id=\"91e98b7e-06a0-4a46-8750-8b8d8dc719e2\" class=\"plotly-graph-div\" style=\"height:525px; width:100%;\"></div>            <script type=\"text/javascript\">                require([\"plotly\"], function(Plotly) {                    window.PLOTLYENV=window.PLOTLYENV || {};                                    if (document.getElementById(\"91e98b7e-06a0-4a46-8750-8b8d8dc719e2\")) {                    Plotly.newPlot(                        \"91e98b7e-06a0-4a46-8750-8b8d8dc719e2\",                        [{\"alignmentgroup\":\"True\",\"hovertemplate\":\"variable=%{x}\\u003cbr\\u003evalue=%{y}\\u003cextra\\u003e\\u003c\\u002fextra\\u003e\",\"legendgroup\":\"\",\"marker\":{\"color\":\"#636efa\"},\"name\":\"\",\"notched\":false,\"offsetgroup\":\"\",\"orientation\":\"v\",\"showlegend\":false,\"x\":[\"\\ube44\\uad50\\uc5f41\",\"\\ube44\\uad50\\uc5f41\",\"\\ube44\\uad50\\uc5f41\",\"\\ube44\\uad50\\uc5f41\",\"\\ube44\\uad50\\uc5f41\",\"\\ube44\\uad50\\uc5f41\",\"\\ube44\\uad50\\uc5f41\",\"\\ube44\\uad50\\uc5f41\",\"\\ube44\\uad50\\uc5f41\",\"\\ube44\\uad50\\uc5f41\",\"\\ube44\\uad50\\uc5f41\",\"\\ube44\\uad50\\uc5f41\",\"\\ube44\\uad50\\uc5f41\",\"\\ube44\\uad50\\uc5f41\",\"\\ube44\\uad50\\uc5f41\",\"\\ube44\\uad50\\uc5f41\",\"\\ube44\\uad50\\uc5f41\",\"\\ube44\\uad50\\uc5f41\",\"\\ube44\\uad50\\uc5f41\",\"\\ube44\\uad50\\uc5f41\",\"\\ube44\\uad50\\uc5f41\",\"\\ube44\\uad50\\uc5f41\",\"\\ube44\\uad50\\uc5f41\",\"\\ube44\\uad50\\uc5f41\",\"\\ube44\\uad50\\uc5f41\",\"\\ube44\\uad50\\uc5f41\",\"\\ube44\\uad50\\uc5f41\",\"\\ube44\\uad50\\uc5f41\",\"\\ube44\\uad50\\uc5f41\",\"\\ube44\\uad50\\uc5f41\",\"\\ube44\\uad50\\uc5f41\",\"\\ube44\\uad50\\uc5f41\",\"\\ube44\\uad50\\uc5f41\",\"\\ube44\\uad50\\uc5f41\",\"\\ube44\\uad50\\uc5f41\",\"\\ube44\\uad50\\uc5f41\",\"\\ube44\\uad50\\uc5f41\",\"\\ube44\\uad50\\uc5f41\",\"\\ube44\\uad50\\uc5f41\",\"\\ube44\\uad50\\uc5f41\",\"\\ube44\\uad50\\uc5f41\",\"\\ube44\\uad50\\uc5f41\",\"\\ube44\\uad50\\uc5f41\",\"\\ube44\\uad50\\uc5f41\",\"\\ube44\\uad50\\uc5f41\",\"\\ube44\\uad50\\uc5f41\",\"\\ube44\\uad50\\uc5f41\",\"\\ube44\\uad50\\uc5f41\",\"\\ube44\\uad50\\uc5f41\",\"\\ube44\\uad50\\uc5f41\",\"\\ube44\\uad50\\uc5f41\",\"\\ube44\\uad50\\uc5f41\",\"\\ube44\\uad50\\uc5f41\",\"\\ube44\\uad50\\uc5f41\",\"\\ube44\\uad50\\uc5f41\",\"\\ube44\\uad50\\uc5f41\",\"\\ube44\\uad50\\uc5f41\",\"\\ube44\\uad50\\uc5f41\",\"\\ube44\\uad50\\uc5f41\",\"\\ube44\\uad50\\uc5f41\",\"\\ube44\\uad50\\uc5f41\",\"\\ube44\\uad50\\uc5f41\",\"\\ube44\\uad50\\uc5f41\",\"\\ube44\\uad50\\uc5f41\",\"\\ube44\\uad50\\uc5f41\",\"\\ube44\\uad50\\uc5f41\",\"\\ube44\\uad50\\uc5f41\",\"\\ube44\\uad50\\uc5f41\",\"\\ube44\\uad50\\uc5f41\",\"\\ube44\\uad50\\uc5f41\",\"\\ube44\\uad50\\uc5f41\",\"\\ube44\\uad50\\uc5f41\",\"\\ube44\\uad50\\uc5f41\",\"\\ube44\\uad50\\uc5f41\",\"\\ube44\\uad50\\uc5f41\",\"\\ube44\\uad50\\uc5f41\",\"\\ube44\\uad50\\uc5f41\",\"\\ube44\\uad50\\uc5f41\",\"\\ube44\\uad50\\uc5f41\",\"\\ube44\\uad50\\uc5f41\",\"\\ube44\\uad50\\uc5f41\",\"\\ube44\\uad50\\uc5f41\",\"\\ube44\\uad50\\uc5f41\",\"\\ube44\\uad50\\uc5f41\",\"\\ube44\\uad50\\uc5f41\",\"\\ube44\\uad50\\uc5f41\",\"\\ube44\\uad50\\uc5f41\",\"\\ube44\\uad50\\uc5f41\",\"\\ube44\\uad50\\uc5f41\",\"\\ube44\\uad50\\uc5f41\",\"\\ube44\\uad50\\uc5f41\",\"\\ube44\\uad50\\uc5f41\",\"\\ube44\\uad50\\uc5f41\",\"\\ube44\\uad50\\uc5f41\",\"\\ube44\\uad50\\uc5f41\",\"\\ube44\\uad50\\uc5f41\",\"\\ube44\\uad50\\uc5f41\",\"\\ube44\\uad50\\uc5f41\",\"\\ube44\\uad50\\uc5f41\",\"\\ube44\\uad50\\uc5f41\",\"\\ube44\\uad50\\uc5f42\",\"\\ube44\\uad50\\uc5f42\",\"\\ube44\\uad50\\uc5f42\",\"\\ube44\\uad50\\uc5f42\",\"\\ube44\\uad50\\uc5f42\",\"\\ube44\\uad50\\uc5f42\",\"\\ube44\\uad50\\uc5f42\",\"\\ube44\\uad50\\uc5f42\",\"\\ube44\\uad50\\uc5f42\",\"\\ube44\\uad50\\uc5f42\",\"\\ube44\\uad50\\uc5f42\",\"\\ube44\\uad50\\uc5f42\",\"\\ube44\\uad50\\uc5f42\",\"\\ube44\\uad50\\uc5f42\",\"\\ube44\\uad50\\uc5f42\",\"\\ube44\\uad50\\uc5f42\",\"\\ube44\\uad50\\uc5f42\",\"\\ube44\\uad50\\uc5f42\",\"\\ube44\\uad50\\uc5f42\",\"\\ube44\\uad50\\uc5f42\",\"\\ube44\\uad50\\uc5f42\",\"\\ube44\\uad50\\uc5f42\",\"\\ube44\\uad50\\uc5f42\",\"\\ube44\\uad50\\uc5f42\",\"\\ube44\\uad50\\uc5f42\",\"\\ube44\\uad50\\uc5f42\",\"\\ube44\\uad50\\uc5f42\",\"\\ube44\\uad50\\uc5f42\",\"\\ube44\\uad50\\uc5f42\",\"\\ube44\\uad50\\uc5f42\",\"\\ube44\\uad50\\uc5f42\",\"\\ube44\\uad50\\uc5f42\",\"\\ube44\\uad50\\uc5f42\",\"\\ube44\\uad50\\uc5f42\",\"\\ube44\\uad50\\uc5f42\",\"\\ube44\\uad50\\uc5f42\",\"\\ube44\\uad50\\uc5f42\",\"\\ube44\\uad50\\uc5f42\",\"\\ube44\\uad50\\uc5f42\",\"\\ube44\\uad50\\uc5f42\",\"\\ube44\\uad50\\uc5f42\",\"\\ube44\\uad50\\uc5f42\",\"\\ube44\\uad50\\uc5f42\",\"\\ube44\\uad50\\uc5f42\",\"\\ube44\\uad50\\uc5f42\",\"\\ube44\\uad50\\uc5f42\",\"\\ube44\\uad50\\uc5f42\",\"\\ube44\\uad50\\uc5f42\",\"\\ube44\\uad50\\uc5f42\",\"\\ube44\\uad50\\uc5f42\",\"\\ube44\\uad50\\uc5f42\",\"\\ube44\\uad50\\uc5f42\",\"\\ube44\\uad50\\uc5f42\",\"\\ube44\\uad50\\uc5f42\",\"\\ube44\\uad50\\uc5f42\",\"\\ube44\\uad50\\uc5f42\",\"\\ube44\\uad50\\uc5f42\",\"\\ube44\\uad50\\uc5f42\",\"\\ube44\\uad50\\uc5f42\",\"\\ube44\\uad50\\uc5f42\",\"\\ube44\\uad50\\uc5f42\",\"\\ube44\\uad50\\uc5f42\",\"\\ube44\\uad50\\uc5f42\",\"\\ube44\\uad50\\uc5f42\",\"\\ube44\\uad50\\uc5f42\",\"\\ube44\\uad50\\uc5f42\",\"\\ube44\\uad50\\uc5f42\",\"\\ube44\\uad50\\uc5f42\",\"\\ube44\\uad50\\uc5f42\",\"\\ube44\\uad50\\uc5f42\",\"\\ube44\\uad50\\uc5f42\",\"\\ube44\\uad50\\uc5f42\",\"\\ube44\\uad50\\uc5f42\",\"\\ube44\\uad50\\uc5f42\",\"\\ube44\\uad50\\uc5f42\",\"\\ube44\\uad50\\uc5f42\",\"\\ube44\\uad50\\uc5f42\",\"\\ube44\\uad50\\uc5f42\",\"\\ube44\\uad50\\uc5f42\",\"\\ube44\\uad50\\uc5f42\",\"\\ube44\\uad50\\uc5f42\",\"\\ube44\\uad50\\uc5f42\",\"\\ube44\\uad50\\uc5f42\",\"\\ube44\\uad50\\uc5f42\",\"\\ube44\\uad50\\uc5f42\",\"\\ube44\\uad50\\uc5f42\",\"\\ube44\\uad50\\uc5f42\",\"\\ube44\\uad50\\uc5f42\",\"\\ube44\\uad50\\uc5f42\",\"\\ube44\\uad50\\uc5f42\",\"\\ube44\\uad50\\uc5f42\",\"\\ube44\\uad50\\uc5f42\",\"\\ube44\\uad50\\uc5f42\",\"\\ube44\\uad50\\uc5f42\",\"\\ube44\\uad50\\uc5f42\",\"\\ube44\\uad50\\uc5f42\",\"\\ube44\\uad50\\uc5f42\",\"\\ube44\\uad50\\uc5f42\",\"\\ube44\\uad50\\uc5f42\",\"\\ube44\\uad50\\uc5f42\"],\"x0\":\" \",\"xaxis\":\"x\",\"y\":[0.44376813521960623,0.42862331168682977,0.48647202462246475,0.5477639659018538,0.12437404578565492,0.103884929475488,0.9263303566408507,0.2725596778133391,0.7466060890414259,0.15324893580797705,0.14437540956374972,0.1706944774892234,0.26819612702609186,0.21373800431756818,0.484513080301071,0.41843750980076044,0.8080243079430836,0.24411624919403696,0.19779356156987504,0.2955716207638399,0.33366575713720437,0.33612531489214637,0.14371171358414514,0.8938662275449426,0.23239390771888913,0.7121841436532051,0.9551048553302979,0.78352312837714,0.5454168619441839,0.21889884149896166,0.1441385791025649,0.01526700376469936,0.6071572764315686,0.04845987199949775,0.7714506416969311,0.9442996818674951,0.39785951313716217,0.6506174412568184,0.7620384139872723,0.3748532403105205,0.9856819922512485,0.3351777074780118,0.9771262760403813,0.044023332830993245,0.1500257610914586,0.07508950276402504,0.596570421993678,0.3219725948599045,0.9498719519345116,0.4442785594036751,0.561127892179087,0.06353458602354334,0.19966014553691036,0.9681923950862393,0.4600327987709406,0.44143089415441905,0.3039860016117959,0.6292139176756418,0.45072840723581187,0.9130276838060003,0.710867285963033,0.6270396845522911,0.165380203041533,0.4439655255656799,0.8532224750307436,0.8648740685730918,0.3207636613267336,0.4380879753803666,0.9078025593582606,0.2960375925484784,0.8968788977222325,0.6595729178985542,0.6523831419118085,0.45345484679210635,0.5374375971069083,0.9830767454623747,0.6266329425752534,0.34269280126438095,0.5376280161438516,0.6109060236694781,0.24495774925544178,0.4522964430175822,0.0709976975967227,0.8156976831037056,0.6481440741703852,0.34386006773732203,0.13889383845440295,0.6570700097635236,0.13294654427835306,0.45922522265979737,0.23948942697542996,0.9959746839402364,0.40439696836423944,0.1132525751784973,0.5497688624380103,0.2772462826954888,0.22232128702922582,0.045970149168359065,0.6124288096891758,0.4041329825708838,0.43456145470245977,0.608986993261035,0.6061463654979898,0.8638995270701628,0.43431794614612107,0.5204411014812227,0.5120490798679204,0.7586074073657421,0.6649842743847576,0.0627073796430403,0.8721898352663288,0.24380265604413243,0.24355761739660764,0.26776721955604976,0.7716979283288152,0.41400982688253907,0.3474765505171249,0.971325999263931,0.12547202987216488,0.33471948888724246,0.436452619809663,0.290162353996692,0.6676975851328879,0.39616158590684825,0.13945265926052042,0.5905222814113907,0.5104883971031997,0.35447046240614355,0.37762821020622095,0.833317962545983,0.42993227415995383,0.9431881730607025,0.2599697866619063,0.20715580357337182,0.33427047002144195,0.8117100027831945,0.406967573630417,0.04049632958937166,0.7619172402324534,0.707469538612128,0.357601968210694,0.6994791852681289,0.633358092847679,0.7728827362288485,0.9833259271805797,0.7865115524531895,0.8673809697895849,0.4314314088109994,0.25767509652648957,0.9213067031698948,0.5555749125681044,0.41416723885760975,0.9518116340371477,0.35596284839684855,0.5062116287156637,0.22143747360172172,0.4057574861933526,0.9658126520109979,0.22440663956332318,0.9424358792809167,0.8165411051310718,0.21504064018457436,0.16213194387906804,0.45236676593488756,0.9947972115541466,0.10909091473246413,0.8253827307461519,0.47055490988866944,0.7428946936880235,0.749063367486388,0.024694679295367505,0.2900698150494664,0.4123282554867832,0.25969175267645017,0.5512005602264595,0.930816255466841,0.7975481088014418,0.488385888101206,0.9387848223098783,0.049444937221041374,0.47004340853682625,0.4495175056117704,0.8443716468924103,0.934143321792918,0.4521881766840876,0.3070502125868422,0.985152347500238,0.45322600340440933,0.5657250745509664,0.2519808634476306,0.1307357870649284,0.048904249926629784,0.21591516603100913,0.8467982057737108,0.03246112619440766,0.12896127776572253,0.19423382601050254,0.7316337066122229,0.9892158455292159,0.43829171840663006],\"y0\":\" \",\"yaxis\":\"y\",\"type\":\"box\"}],                        {\"template\":{\"data\":{\"histogram2dcontour\":[{\"type\":\"histogram2dcontour\",\"colorbar\":{\"outlinewidth\":0,\"ticks\":\"\"},\"colorscale\":[[0.0,\"#0d0887\"],[0.1111111111111111,\"#46039f\"],[0.2222222222222222,\"#7201a8\"],[0.3333333333333333,\"#9c179e\"],[0.4444444444444444,\"#bd3786\"],[0.5555555555555556,\"#d8576b\"],[0.6666666666666666,\"#ed7953\"],[0.7777777777777778,\"#fb9f3a\"],[0.8888888888888888,\"#fdca26\"],[1.0,\"#f0f921\"]]}],\"choropleth\":[{\"type\":\"choropleth\",\"colorbar\":{\"outlinewidth\":0,\"ticks\":\"\"}}],\"histogram2d\":[{\"type\":\"histogram2d\",\"colorbar\":{\"outlinewidth\":0,\"ticks\":\"\"},\"colorscale\":[[0.0,\"#0d0887\"],[0.1111111111111111,\"#46039f\"],[0.2222222222222222,\"#7201a8\"],[0.3333333333333333,\"#9c179e\"],[0.4444444444444444,\"#bd3786\"],[0.5555555555555556,\"#d8576b\"],[0.6666666666666666,\"#ed7953\"],[0.7777777777777778,\"#fb9f3a\"],[0.8888888888888888,\"#fdca26\"],[1.0,\"#f0f921\"]]}],\"heatmap\":[{\"type\":\"heatmap\",\"colorbar\":{\"outlinewidth\":0,\"ticks\":\"\"},\"colorscale\":[[0.0,\"#0d0887\"],[0.1111111111111111,\"#46039f\"],[0.2222222222222222,\"#7201a8\"],[0.3333333333333333,\"#9c179e\"],[0.4444444444444444,\"#bd3786\"],[0.5555555555555556,\"#d8576b\"],[0.6666666666666666,\"#ed7953\"],[0.7777777777777778,\"#fb9f3a\"],[0.8888888888888888,\"#fdca26\"],[1.0,\"#f0f921\"]]}],\"heatmapgl\":[{\"type\":\"heatmapgl\",\"colorbar\":{\"outlinewidth\":0,\"ticks\":\"\"},\"colorscale\":[[0.0,\"#0d0887\"],[0.1111111111111111,\"#46039f\"],[0.2222222222222222,\"#7201a8\"],[0.3333333333333333,\"#9c179e\"],[0.4444444444444444,\"#bd3786\"],[0.5555555555555556,\"#d8576b\"],[0.6666666666666666,\"#ed7953\"],[0.7777777777777778,\"#fb9f3a\"],[0.8888888888888888,\"#fdca26\"],[1.0,\"#f0f921\"]]}],\"contourcarpet\":[{\"type\":\"contourcarpet\",\"colorbar\":{\"outlinewidth\":0,\"ticks\":\"\"}}],\"contour\":[{\"type\":\"contour\",\"colorbar\":{\"outlinewidth\":0,\"ticks\":\"\"},\"colorscale\":[[0.0,\"#0d0887\"],[0.1111111111111111,\"#46039f\"],[0.2222222222222222,\"#7201a8\"],[0.3333333333333333,\"#9c179e\"],[0.4444444444444444,\"#bd3786\"],[0.5555555555555556,\"#d8576b\"],[0.6666666666666666,\"#ed7953\"],[0.7777777777777778,\"#fb9f3a\"],[0.8888888888888888,\"#fdca26\"],[1.0,\"#f0f921\"]]}],\"surface\":[{\"type\":\"surface\",\"colorbar\":{\"outlinewidth\":0,\"ticks\":\"\"},\"colorscale\":[[0.0,\"#0d0887\"],[0.1111111111111111,\"#46039f\"],[0.2222222222222222,\"#7201a8\"],[0.3333333333333333,\"#9c179e\"],[0.4444444444444444,\"#bd3786\"],[0.5555555555555556,\"#d8576b\"],[0.6666666666666666,\"#ed7953\"],[0.7777777777777778,\"#fb9f3a\"],[0.8888888888888888,\"#fdca26\"],[1.0,\"#f0f921\"]]}],\"mesh3d\":[{\"type\":\"mesh3d\",\"colorbar\":{\"outlinewidth\":0,\"ticks\":\"\"}}],\"scatter\":[{\"fillpattern\":{\"fillmode\":\"overlay\",\"size\":10,\"solidity\":0.2},\"type\":\"scatter\"}],\"parcoords\":[{\"type\":\"parcoords\",\"line\":{\"colorbar\":{\"outlinewidth\":0,\"ticks\":\"\"}}}],\"scatterpolargl\":[{\"type\":\"scatterpolargl\",\"marker\":{\"colorbar\":{\"outlinewidth\":0,\"ticks\":\"\"}}}],\"bar\":[{\"error_x\":{\"color\":\"#2a3f5f\"},\"error_y\":{\"color\":\"#2a3f5f\"},\"marker\":{\"line\":{\"color\":\"#E5ECF6\",\"width\":0.5},\"pattern\":{\"fillmode\":\"overlay\",\"size\":10,\"solidity\":0.2}},\"type\":\"bar\"}],\"scattergeo\":[{\"type\":\"scattergeo\",\"marker\":{\"colorbar\":{\"outlinewidth\":0,\"ticks\":\"\"}}}],\"scatterpolar\":[{\"type\":\"scatterpolar\",\"marker\":{\"colorbar\":{\"outlinewidth\":0,\"ticks\":\"\"}}}],\"histogram\":[{\"marker\":{\"pattern\":{\"fillmode\":\"overlay\",\"size\":10,\"solidity\":0.2}},\"type\":\"histogram\"}],\"scattergl\":[{\"type\":\"scattergl\",\"marker\":{\"colorbar\":{\"outlinewidth\":0,\"ticks\":\"\"}}}],\"scatter3d\":[{\"type\":\"scatter3d\",\"line\":{\"colorbar\":{\"outlinewidth\":0,\"ticks\":\"\"}},\"marker\":{\"colorbar\":{\"outlinewidth\":0,\"ticks\":\"\"}}}],\"scattermapbox\":[{\"type\":\"scattermapbox\",\"marker\":{\"colorbar\":{\"outlinewidth\":0,\"ticks\":\"\"}}}],\"scatterternary\":[{\"type\":\"scatterternary\",\"marker\":{\"colorbar\":{\"outlinewidth\":0,\"ticks\":\"\"}}}],\"scattercarpet\":[{\"type\":\"scattercarpet\",\"marker\":{\"colorbar\":{\"outlinewidth\":0,\"ticks\":\"\"}}}],\"carpet\":[{\"aaxis\":{\"endlinecolor\":\"#2a3f5f\",\"gridcolor\":\"white\",\"linecolor\":\"white\",\"minorgridcolor\":\"white\",\"startlinecolor\":\"#2a3f5f\"},\"baxis\":{\"endlinecolor\":\"#2a3f5f\",\"gridcolor\":\"white\",\"linecolor\":\"white\",\"minorgridcolor\":\"white\",\"startlinecolor\":\"#2a3f5f\"},\"type\":\"carpet\"}],\"table\":[{\"cells\":{\"fill\":{\"color\":\"#EBF0F8\"},\"line\":{\"color\":\"white\"}},\"header\":{\"fill\":{\"color\":\"#C8D4E3\"},\"line\":{\"color\":\"white\"}},\"type\":\"table\"}],\"barpolar\":[{\"marker\":{\"line\":{\"color\":\"#E5ECF6\",\"width\":0.5},\"pattern\":{\"fillmode\":\"overlay\",\"size\":10,\"solidity\":0.2}},\"type\":\"barpolar\"}],\"pie\":[{\"automargin\":true,\"type\":\"pie\"}]},\"layout\":{\"autotypenumbers\":\"strict\",\"colorway\":[\"#636efa\",\"#EF553B\",\"#00cc96\",\"#ab63fa\",\"#FFA15A\",\"#19d3f3\",\"#FF6692\",\"#B6E880\",\"#FF97FF\",\"#FECB52\"],\"font\":{\"color\":\"#2a3f5f\"},\"hovermode\":\"closest\",\"hoverlabel\":{\"align\":\"left\"},\"paper_bgcolor\":\"white\",\"plot_bgcolor\":\"#E5ECF6\",\"polar\":{\"bgcolor\":\"#E5ECF6\",\"angularaxis\":{\"gridcolor\":\"white\",\"linecolor\":\"white\",\"ticks\":\"\"},\"radialaxis\":{\"gridcolor\":\"white\",\"linecolor\":\"white\",\"ticks\":\"\"}},\"ternary\":{\"bgcolor\":\"#E5ECF6\",\"aaxis\":{\"gridcolor\":\"white\",\"linecolor\":\"white\",\"ticks\":\"\"},\"baxis\":{\"gridcolor\":\"white\",\"linecolor\":\"white\",\"ticks\":\"\"},\"caxis\":{\"gridcolor\":\"white\",\"linecolor\":\"white\",\"ticks\":\"\"}},\"coloraxis\":{\"colorbar\":{\"outlinewidth\":0,\"ticks\":\"\"}},\"colorscale\":{\"sequential\":[[0.0,\"#0d0887\"],[0.1111111111111111,\"#46039f\"],[0.2222222222222222,\"#7201a8\"],[0.3333333333333333,\"#9c179e\"],[0.4444444444444444,\"#bd3786\"],[0.5555555555555556,\"#d8576b\"],[0.6666666666666666,\"#ed7953\"],[0.7777777777777778,\"#fb9f3a\"],[0.8888888888888888,\"#fdca26\"],[1.0,\"#f0f921\"]],\"sequentialminus\":[[0.0,\"#0d0887\"],[0.1111111111111111,\"#46039f\"],[0.2222222222222222,\"#7201a8\"],[0.3333333333333333,\"#9c179e\"],[0.4444444444444444,\"#bd3786\"],[0.5555555555555556,\"#d8576b\"],[0.6666666666666666,\"#ed7953\"],[0.7777777777777778,\"#fb9f3a\"],[0.8888888888888888,\"#fdca26\"],[1.0,\"#f0f921\"]],\"diverging\":[[0,\"#8e0152\"],[0.1,\"#c51b7d\"],[0.2,\"#de77ae\"],[0.3,\"#f1b6da\"],[0.4,\"#fde0ef\"],[0.5,\"#f7f7f7\"],[0.6,\"#e6f5d0\"],[0.7,\"#b8e186\"],[0.8,\"#7fbc41\"],[0.9,\"#4d9221\"],[1,\"#276419\"]]},\"xaxis\":{\"gridcolor\":\"white\",\"linecolor\":\"white\",\"ticks\":\"\",\"title\":{\"standoff\":15},\"zerolinecolor\":\"white\",\"automargin\":true,\"zerolinewidth\":2},\"yaxis\":{\"gridcolor\":\"white\",\"linecolor\":\"white\",\"ticks\":\"\",\"title\":{\"standoff\":15},\"zerolinecolor\":\"white\",\"automargin\":true,\"zerolinewidth\":2},\"scene\":{\"xaxis\":{\"backgroundcolor\":\"#E5ECF6\",\"gridcolor\":\"white\",\"linecolor\":\"white\",\"showbackground\":true,\"ticks\":\"\",\"zerolinecolor\":\"white\",\"gridwidth\":2},\"yaxis\":{\"backgroundcolor\":\"#E5ECF6\",\"gridcolor\":\"white\",\"linecolor\":\"white\",\"showbackground\":true,\"ticks\":\"\",\"zerolinecolor\":\"white\",\"gridwidth\":2},\"zaxis\":{\"backgroundcolor\":\"#E5ECF6\",\"gridcolor\":\"white\",\"linecolor\":\"white\",\"showbackground\":true,\"ticks\":\"\",\"zerolinecolor\":\"white\",\"gridwidth\":2}},\"shapedefaults\":{\"line\":{\"color\":\"#2a3f5f\"}},\"annotationdefaults\":{\"arrowcolor\":\"#2a3f5f\",\"arrowhead\":0,\"arrowwidth\":1},\"geo\":{\"bgcolor\":\"white\",\"landcolor\":\"#E5ECF6\",\"subunitcolor\":\"white\",\"showland\":true,\"showlakes\":true,\"lakecolor\":\"white\"},\"title\":{\"x\":0.05},\"mapbox\":{\"style\":\"light\"}}},\"xaxis\":{\"anchor\":\"y\",\"domain\":[0.0,1.0],\"title\":{\"text\":\"variable\"}},\"yaxis\":{\"anchor\":\"x\",\"domain\":[0.0,1.0],\"title\":{\"text\":\"value\"}},\"legend\":{\"tracegroupgap\":0},\"title\":{\"text\":\"\\uc0c1\\uc790\\uadf8\\ub9bc\\uc608\\uc81c\"},\"boxmode\":\"group\"},                        {\"responsive\": true}                    ).then(function(){\n",
       "                            \n",
       "var gd = document.getElementById('91e98b7e-06a0-4a46-8750-8b8d8dc719e2');\n",
       "var x = new MutationObserver(function (mutations, observer) {{\n",
       "        var display = window.getComputedStyle(gd).display;\n",
       "        if (!display || display === 'none') {{\n",
       "            console.log([gd, 'removed!']);\n",
       "            Plotly.purge(gd);\n",
       "            observer.disconnect();\n",
       "        }}\n",
       "}});\n",
       "\n",
       "// Listen for the removal of the full notebook cells\n",
       "var notebookContainer = gd.closest('#notebook-container');\n",
       "if (notebookContainer) {{\n",
       "    x.observe(notebookContainer, {childList: true});\n",
       "}}\n",
       "\n",
       "// Listen for the clearing of the current output cell\n",
       "var outputEl = gd.closest('.output');\n",
       "if (outputEl) {{\n",
       "    x.observe(outputEl, {childList: true});\n",
       "}}\n",
       "\n",
       "                        })                };                });            </script>        </div>"
      ]
     },
     "metadata": {},
     "output_type": "display_data"
    }
   ],
   "source": [
    "import plotly.express as px\n",
    "import pandas as pd\n",
    "import numpy as np\n",
    "\n",
    "df = pd.DataFrame({\n",
    "    \"비교열1\": np.random.rand(100),\n",
    "    \"비교열2\": np.random.rand(100)\n",
    "})\n",
    "\n",
    "fig = px.box(\n",
    "    df,\n",
    "    y=[\"비교열1\", \"비교열2\"],\n",
    "    title = \"상자그림예제\"\n",
    ")\n",
    "\n",
    "fig.show()"
   ]
  },
  {
   "cell_type": "markdown",
   "id": "94b72d8b-099f-4022-b150-a53a75501e0b",
   "metadata": {},
   "source": [
    "#### 상자그림 그래프 (Box Plot)\n",
    "```\n",
    "- 여러 열의 데이터 분포, 중앙값, 사분위수 및 이상치를 한 눈에 확인 및 비교하고자 할 때 그래프\n",
    "- 사분위값 : 1사분위(25%~50%), 3사분위(50%~75%)\n",
    "  - Q1 : 데이터의 하위 25%\n",
    "  - Q3 : 데이터의 상위 25%\n",
    "  - 이상치 : 최저값(0%) 미만 또는 최고값(100%)을 초과\n",
    "    => 이상치 값을 계산하기 위한 공식\n",
    "    => Q3 - Q1 = IQR = Interquartile Range = 평균 사분위의 범위\n",
    "    => 하한 이상치 = Q1 - IQR x 1.5\n",
    "    => 상한 이상치 = Q3 + IQR x 1.5\n",
    "    => 하한보다 작은 값이나 상한보다 작은 값 => 특이점 발생\n",
    "    => 해당 특이점으로부터 발견해야하는 인사이트, 도출해야하는 문제점\n",
    "```"
   ]
  },
  {
   "cell_type": "code",
   "execution_count": null,
   "id": "3a688a11-5a63-4784-b7e1-5fab034e64e2",
   "metadata": {},
   "outputs": [],
   "source": [
    "# 각 개별 그래프의 세부요소 변경!!\n",
    "# 옵션 => 정말 다양 / 업데이트 빈번\n",
    "# 1) update_layout() : 해당 그래프에 대한 전체 레이아웃 수정 => 제목, 범례, 여백\n",
    "# 2) update_xaxes() : x축에 해당하는 속성 요소 수정 => 제목, 글꼴, 눈금 등\n",
    "# 3) update_yaxes() : y축에 해당하는 속성 요소 수정"
   ]
  },
  {
   "cell_type": "code",
   "execution_count": null,
   "id": "e378acbe-5ae7-468b-ac01-03d6221dad05",
   "metadata": {},
   "outputs": [],
   "source": []
  }
 ],
 "metadata": {
  "kernelspec": {
   "display_name": "Python [conda env:base] *",
   "language": "python",
   "name": "conda-base-py"
  },
  "language_info": {
   "codemirror_mode": {
    "name": "ipython",
    "version": 3
   },
   "file_extension": ".py",
   "mimetype": "text/x-python",
   "name": "python",
   "nbconvert_exporter": "python",
   "pygments_lexer": "ipython3",
   "version": "3.13.5"
  }
 },
 "nbformat": 4,
 "nbformat_minor": 5
}
