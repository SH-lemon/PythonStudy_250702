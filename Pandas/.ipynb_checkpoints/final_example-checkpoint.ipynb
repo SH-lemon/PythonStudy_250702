{
 "cells": [
  {
   "cell_type": "code",
   "execution_count": null,
   "id": "051ca0cb-0758-4c9c-b1f8-09df472a965f",
   "metadata": {},
   "outputs": [],
   "source": [
    "# 1. 항상 본격적인 데이터 분석을 하기 전에 해당 데이터가 의미하는 것을 학습\n",
    "# 해당 데이터의 탄생 스토리 (*산업 히스토리)\n",
    "# 브라질에서 이커머스 솔루션 개발, 납품 IT 업체 -> 본인들이 솔류션을 납품\n",
    "# 솔루션 어떤 기능 : 우리나라 사방넷 플랫폼 형태 -> 스타트업, 소규모 회사 -> 자금 -> 인력 채용 -> 영업, 상품판매 (MD) -> 채용 x\n",
    "# 회사 1명의 MD : 8개 // 3-4개\n",
    "# MD -> 사방넷에 상품을 업로드 (썸네일, 상세페이지, 문안, 가격) -> 20개 쇼핑몰로 상품정보 뿌려짐\n",
    "# 전일 + 오전 주문 취합 vs 3시 : 주문마감 : 1사람 : 계산서 처리\n",
    "# 수수료 별도\n",
    "# SSG, Coupang"
   ]
  },
  {
   "cell_type": "code",
   "execution_count": 1,
   "id": "d6b5b650-a98d-45e5-bad5-4e1ad841ee03",
   "metadata": {},
   "outputs": [],
   "source": [
    "# 2. 탐색적 데이터 분석 (EDA)을 위한 리스트\n",
    "# 얼마나 많은 고객이 존재하는가?\n",
    "# 고객의 인구통계학적 정보는 어떻게 되는가?\n",
    "\n",
    "# 고객의 메인 결제 방법은 어떻게 되는가? (*업종)\n",
    "# 평균 일, 주, 월 거래액은 얼만큼 되는가?\n",
    "\n",
    "# 시즌별 상품 판매 트렌드는 어떻게 되는가?\n",
    "# 어떤 카테고리가 가장 많은 상품이 판매되고 있는가? = 인기카테고리가 무엇인가? (*업종)\n",
    "\n",
    "# > chatGPT"
   ]
  },
  {
   "cell_type": "code",
   "execution_count": 2,
   "id": "90d3d7bc-1c56-423d-998f-7531e9b8758e",
   "metadata": {},
   "outputs": [],
   "source": [
    "# 데이터 셋(세트) => Data Set 분류\n",
    "\n",
    "# olist_customers_dataset.csv\n",
    "# olist_geolocation_dataset.csv\n",
    "# olist_order_items_dataset.csv\n",
    "# olist_order_payments_dataset.csv\n",
    "# olist_order_reviews_dataset.csv\n",
    "# olist_orders_dataset.csv\n",
    "# olist_products_dataset.csv\n",
    "# olist_sellers_dataset.csv"
   ]
  },
  {
   "cell_type": "code",
   "execution_count": 3,
   "id": "e76146a5-4149-493e-953c-f94bfe51250d",
   "metadata": {},
   "outputs": [],
   "source": [
    "# 4. 데이터 타입 & 구성요소 분석\n",
    "\n",
    "# 데이터 타입 : 수치형 데이터, 범주형 데이터, 시계열 데이터\n",
    "# 수치형 데이터 : 숫자형태\n",
    "# > 5 number summary : 최소, 최대, 1사분위, 3사분위, 종앙, 평균, 이상치\n",
    "# > boxplot, histogram\n",
    "\n",
    "# 범주형 데이터: 대부분이 문자 (*남, 여 // 10, 20, 30, 40 // 성인, 미성년 // 직장인, 가정주부)\n",
    "# > bar, pie, donut\n",
    "\n",
    "# 시계열 데이터 : 시간 경과에 따라서 데이터의 수치가 변화할 수 있는 것\n",
    "# > line, bar\n",
    "# > 서로 다른 두 집단간의 분포가 궁금한 경우 : scatter, heatmap"
   ]
  },
  {
   "cell_type": "code",
   "execution_count": null,
   "id": "f508614f-4120-42a6-ae11-7fc68a9bd684",
   "metadata": {},
   "outputs": [],
   "source": []
  }
 ],
 "metadata": {
  "kernelspec": {
   "display_name": "Python [conda env:base] *",
   "language": "python",
   "name": "conda-base-py"
  },
  "language_info": {
   "codemirror_mode": {
    "name": "ipython",
    "version": 3
   },
   "file_extension": ".py",
   "mimetype": "text/x-python",
   "name": "python",
   "nbconvert_exporter": "python",
   "pygments_lexer": "ipython3",
   "version": "3.13.5"
  }
 },
 "nbformat": 4,
 "nbformat_minor": 5
}
