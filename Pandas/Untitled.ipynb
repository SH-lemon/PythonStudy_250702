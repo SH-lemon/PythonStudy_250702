{
 "cells": [
  {
   "cell_type": "code",
   "execution_count": null,
   "id": "658f0efd-c39f-481d-a48d-db06027dda48",
   "metadata": {},
   "outputs": [],
   "source": []
  }
 ],
 "metadata": {
  "kernelspec": {
   "display_name": "",
   "name": ""
  },
  "language_info": {
   "name": ""
  }
 },
 "nbformat": 4,
 "nbformat_minor": 5
}
