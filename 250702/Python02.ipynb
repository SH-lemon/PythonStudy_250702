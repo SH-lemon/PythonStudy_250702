{
 "cells": [
  {
   "cell_type": "markdown",
   "id": "3676a1ba-f5b6-4a6f-ac44-4eac5830195f",
   "metadata": {},
   "source": [
    "#### 파이썬 입출력 예시\n",
    "\n",
    "- 사용자로부터 두 개의 숫자를 입력받은 후 해당 두 개의 숫자를 더한 값을 출력하는 프로그램을 작성해 보세요."
   ]
  },
  {
   "cell_type": "code",
   "execution_count": 3,
   "id": "d8410f7b-5ea7-47a7-b658-fd675cefed38",
   "metadata": {},
   "outputs": [
    {
     "name": "stdin",
     "output_type": "stream",
     "text": [
      "First number? 3\n",
      "Second number? 5\n"
     ]
    },
    {
     "name": "stdout",
     "output_type": "stream",
     "text": [
      "합계:  8\n"
     ]
    }
   ],
   "source": [
    "num01 = int(input(\"First number?\"))\n",
    "num02 = int(input(\"Second number?\"))\n",
    "print(\"합계: \",num01+num02)"
   ]
  },
  {
   "cell_type": "markdown",
   "id": "f9e17357-a3f0-4373-88b2-83f51315f6ac",
   "metadata": {},
   "source": [
    "- 사용자로부터 두 개의 숫자를 입력받은 후 곱한 값, 나눈 몫, 나머지 값을 각각 출력하는 프로그램을 작성해보세요."
   ]
  },
  {
   "cell_type": "code",
   "execution_count": 7,
   "id": "14cd3561-b832-4fc2-87cf-40387b8247ed",
   "metadata": {},
   "outputs": [
    {
     "name": "stdin",
     "output_type": "stream",
     "text": [
      "First number? 5\n",
      "Second number? 2\n"
     ]
    },
    {
     "name": "stdout",
     "output_type": "stream",
     "text": [
      "곱: 10\n",
      "몫:  2\n",
      "나머지:  1\n"
     ]
    }
   ],
   "source": [
    "num1 = int(input(\"First number?\"))\n",
    "num2 = int(input(\"Second number?\"))\n",
    "print(f\"곱: {num1*num2}\")\n",
    "print(\"몫: \",num1//num2)\n",
    "print(\"나머지: \",num1%num2)"
   ]
  },
  {
   "cell_type": "markdown",
   "id": "97183227-0456-4eb0-afb0-250da64edcd8",
   "metadata": {},
   "source": [
    "### 데이터 자료구조 - 리스트 (list)\n",
    "- 파이썬의 리스트 ==> 다른 프로그래밍 언어에서는 배열(array)이라는 이름으로 주로 불림\n",
    "- 프로그래밍 언어 => 인간의 작업보다 효율적이다 => 패턴을 가지고 있는 반복적인 작업을 매우 빠르게 잘하기 때문\n",
    "- 어떤 연산처리 작업을 반복해서 할 수 있는 형태의 자료구조여야만 위의 작업을 할 수 있음\n",
    "- 이터러블(iterable) = 반복적인 // class\n",
    "- 문자열 역시 이터러블한 속성을 가지고 있음\n",
    "- 대괄호 사용\n",
    "- 리스트 자료구조는 내부에 입력된 값에 고유하고 개별적인 인덱스(index)값을 부여한다."
   ]
  },
  {
   "cell_type": "markdown",
   "id": "1a7c7d0e-7a3f-4333-8fef-bdbd28fddb57",
   "metadata": {},
   "source": [
    "- 리스트는 각각 고유한 인덱스값을 가지고 있음 (0부터 시작함)\n",
    "- 리스트에서 특정 인덱스값을 찾아오고자 할 때 => 변수명.[인덱스값]. & 만약 오른쪽부터 값을 찾아오고 싶다면 -1 음수값부터 시작\n",
    "- 문자열과 동일하게 슬라이싱 기능 있음 => 변수명[시작인덱스 : 마지막인덱스+1]\n",
    "- append() : list 자료구조에서 오른쪽부터 신규로 값을 추가할 수 있도록 해주는 함수 => 한번에 여러 개의 값을 추가할 수 없음\n",
    "- remove() : 함수의 인자값을 리스트 자료구조의 왼쪽부터 서칭하다가 발견 시 삭제해주는 함수\n",
    "- del : del 변수명[인덱스값] => 해당 인덱스값을 삭제해주는 함수\n",
    "- extend(): 리스트 자료구조에서 왼쪽부터 신규로 값을 추가하는데 있어서 복수의 값을 한 번에 추가할 수 있음\n",
    "- insert() : 리스트 자료구조 안에 값을 추가하는 함수 => 첫번째 인덱스는 추가하고자 하는 위치, 두번째 인덱스는 추가하고자 하는 값을 의미한다.\n",
    "- sort(): 리스트 안에 있는 값을 오름차순으로 정렬할 때 사용하는 함수\n",
    "- reverse(): 리스트 안에 있는 값을 내림차순으로 정렬할 때 사용하는 함수\n",
    "- split(): 문자열의 자료형태를 인자값을 기준으로 나눠서 리스트 자료형태로 변환시켜주는 함수"
   ]
  },
  {
   "cell_type": "markdown",
   "id": "ed3541b3-b270-4b85-91ca-2c0f18d2bc23",
   "metadata": {},
   "source": [
    "### 리스트 자료구조 생성하는 방법\n",
    "\n",
    "- 변수 선언과 함께 직접 대괄호 입력 후 내부에 요소들을 입력하는 방법\n",
    "- 아무런 값도 존재하지 않는 빈 리스트를 만들어놓고 값을 하나씩 채워가는 방법\n",
    "- 파이썬 내 클래스 문법을 통해서 이미 생성된 리스트 프로토타입을 활용해서 인스턴스 객체를 생성하는 방법"
   ]
  },
  {
   "cell_type": "code",
   "execution_count": 12,
   "id": "b069316c-f633-493c-bdbd-cf8d23451cd3",
   "metadata": {},
   "outputs": [
    {
     "name": "stdout",
     "output_type": "stream",
     "text": [
      "오마이뉴스\n",
      "한국일보\n",
      "시사인\n",
      "뉴시스\n",
      "KBSNEWS\n",
      "스포츠조선\n"
     ]
    }
   ],
   "source": [
    "mydata = [\"hello\",1,2,\"world\"]\n",
    "news = [\"오마이뉴스\",\"한국일보\",\"시사인\",\"뉴시스\",\"KBSNEWS\",\"스포츠조선\"]\n",
    "\n",
    "for media in news : \n",
    "    print(media)"
   ]
  },
  {
   "cell_type": "code",
   "execution_count": 15,
   "id": "a9d6d8d0-031a-434c-912e-c87010f09837",
   "metadata": {},
   "outputs": [
    {
     "name": "stdout",
     "output_type": "stream",
     "text": [
      "서울시\n",
      "경기도\n",
      "인천시\n",
      "['서울시', '경기도', '인천시']\n",
      "<class 'list'>\n"
     ]
    }
   ],
   "source": [
    "location = [\"서울시\", \"경기도\", \"인천시\"]\n",
    "\n",
    "print(location[0])\n",
    "print(location[1])\n",
    "print(location[2])\n",
    "print(location)\n",
    "print(type(location))"
   ]
  },
  {
   "cell_type": "code",
   "execution_count": 20,
   "id": "69a8ec8e-0b9d-4efa-b592-84b03861f921",
   "metadata": {},
   "outputs": [
    {
     "data": {
      "text/plain": [
       "['서울시', '경기도', '인천시', '부산시', '부산시', '부산시', '부산시', '부산시']"
      ]
     },
     "execution_count": 20,
     "metadata": {},
     "output_type": "execute_result"
    }
   ],
   "source": [
    "location.append(\"부산시\")\n",
    "\n",
    "# print(location)\n",
    "location"
   ]
  },
  {
   "cell_type": "code",
   "execution_count": 22,
   "id": "007ff7b7-2c19-474e-99ad-1af6efc19943",
   "metadata": {},
   "outputs": [],
   "source": [
    "location.append(\"완도군\")"
   ]
  },
  {
   "cell_type": "code",
   "execution_count": 23,
   "id": "8a968d09-d450-48fd-b166-d035ae9f030a",
   "metadata": {},
   "outputs": [
    {
     "data": {
      "text/plain": [
       "['서울시', '경기도', '인천시', '부산시', '부산시', '부산시', '부산시', '부산시', '완도군']"
      ]
     },
     "execution_count": 23,
     "metadata": {},
     "output_type": "execute_result"
    }
   ],
   "source": [
    "location"
   ]
  },
  {
   "cell_type": "code",
   "execution_count": 24,
   "id": "6658d38f-4e34-4532-b264-1d614bda3edc",
   "metadata": {},
   "outputs": [
    {
     "data": {
      "text/plain": [
       "'완도군'"
      ]
     },
     "execution_count": 24,
     "metadata": {},
     "output_type": "execute_result"
    }
   ],
   "source": [
    "location[-1]"
   ]
  },
  {
   "cell_type": "code",
   "execution_count": 25,
   "id": "d1535b86-7af1-44d4-b602-ad44b2665c8a",
   "metadata": {},
   "outputs": [
    {
     "data": {
      "text/plain": [
       "['경기도', '인천시']"
      ]
     },
     "execution_count": 25,
     "metadata": {},
     "output_type": "execute_result"
    }
   ],
   "source": [
    "location[1:3]"
   ]
  },
  {
   "cell_type": "code",
   "execution_count": 26,
   "id": "8113e02a-4592-4570-adb1-174deb6d2f89",
   "metadata": {},
   "outputs": [
    {
     "data": {
      "text/plain": [
       "['서울시', '경기도', '인천시', '부산시', '부산시', '부산시', '부산시', '완도군']"
      ]
     },
     "execution_count": 26,
     "metadata": {},
     "output_type": "execute_result"
    }
   ],
   "source": [
    "location.remove(\"부산시\")\n",
    "location"
   ]
  },
  {
   "cell_type": "code",
   "execution_count": 27,
   "id": "0bc1baff-9598-4b6c-9663-46c39f14451f",
   "metadata": {},
   "outputs": [
    {
     "data": {
      "text/plain": [
       "['서울시', '경기도', '인천시', '부산시', '부산시', '부산시', '부산시']"
      ]
     },
     "execution_count": 27,
     "metadata": {},
     "output_type": "execute_result"
    }
   ],
   "source": [
    "location.remove(\"완도군\")\n",
    "location"
   ]
  },
  {
   "cell_type": "code",
   "execution_count": 29,
   "id": "9d1295ca-c880-4162-920c-572540d3b6a3",
   "metadata": {},
   "outputs": [
    {
     "data": {
      "text/plain": [
       "['서울시', '경기도', '인천시', '부산시', '부산시']"
      ]
     },
     "execution_count": 29,
     "metadata": {},
     "output_type": "execute_result"
    }
   ],
   "source": [
    "del location[3]\n",
    "location"
   ]
  },
  {
   "cell_type": "code",
   "execution_count": 31,
   "id": "5bcf3e49-aa0d-4339-b3fe-d366b996314d",
   "metadata": {},
   "outputs": [
    {
     "data": {
      "text/plain": [
       "['서울시', '경기도', '인천시', '부산시', '부산시', '마', '산', '마산']"
      ]
     },
     "execution_count": 31,
     "metadata": {},
     "output_type": "execute_result"
    }
   ],
   "source": [
    "location.extend([\"마산\"])\n",
    "location"
   ]
  },
  {
   "cell_type": "code",
   "execution_count": 34,
   "id": "80f8ee74-8c8c-4889-9327-538da5af0a68",
   "metadata": {},
   "outputs": [
    {
     "data": {
      "text/plain": [
       "['제주도', '제주도', '서울시', '경기도', '인천시', '부산시', '부산시', '마', '산', '마산']"
      ]
     },
     "execution_count": 34,
     "metadata": {},
     "output_type": "execute_result"
    }
   ],
   "source": [
    "location.insert(0,\"제주도\")\n",
    "location"
   ]
  },
  {
   "cell_type": "code",
   "execution_count": 35,
   "id": "2b3e30b6-539c-40df-a630-aabeda945c60",
   "metadata": {},
   "outputs": [
    {
     "data": {
      "text/plain": [
       "list"
      ]
     },
     "execution_count": 35,
     "metadata": {},
     "output_type": "execute_result"
    }
   ],
   "source": [
    "location01 = []\n",
    "type(location01)"
   ]
  },
  {
   "cell_type": "code",
   "execution_count": 36,
   "id": "881eaeb7-4fc6-43c2-9526-0cceb30b90d0",
   "metadata": {},
   "outputs": [
    {
     "data": {
      "text/plain": [
       "['강원도']"
      ]
     },
     "execution_count": 36,
     "metadata": {},
     "output_type": "execute_result"
    }
   ],
   "source": [
    "location01.append(\"강원도\")\n",
    "location01"
   ]
  },
  {
   "cell_type": "code",
   "execution_count": 37,
   "id": "297c97cf-6e14-4f42-85ac-4da4b243aee0",
   "metadata": {},
   "outputs": [
    {
     "name": "stdout",
     "output_type": "stream",
     "text": [
      "<class 'list'>\n"
     ]
    }
   ],
   "source": [
    "location02 = list()\n",
    "print(type(location02))"
   ]
  },
  {
   "cell_type": "code",
   "execution_count": 39,
   "id": "30c9f20f-d210-46b3-844d-e644b1f09ce7",
   "metadata": {},
   "outputs": [
    {
     "name": "stdout",
     "output_type": "stream",
     "text": [
      "[2, 1, 4, 3]\n",
      "[1, 2, 3, 4]\n",
      "[4, 3, 2, 1]\n"
     ]
    }
   ],
   "source": [
    "numbers = [2, 1, 4, 3]\n",
    "print(numbers)\n",
    "\n",
    "numbers.sort()\n",
    "print(numbers)\n",
    "\n",
    "numbers.reverse()\n",
    "print(numbers)"
   ]
  },
  {
   "cell_type": "code",
   "execution_count": 44,
   "id": "9687607e-0605-4018-a1e2-e25515bf9d3e",
   "metadata": {},
   "outputs": [
    {
     "data": {
      "text/plain": [
       "'python'"
      ]
     },
     "execution_count": 44,
     "metadata": {},
     "output_type": "execute_result"
    }
   ],
   "source": [
    "pythonBasic = \"python is easy\"\n",
    "pylist = pythonBasic.split()\n",
    "pylist[0]"
   ]
  }
 ],
 "metadata": {
  "kernelspec": {
   "display_name": "Python [conda env:base] *",
   "language": "python",
   "name": "conda-base-py"
  },
  "language_info": {
   "codemirror_mode": {
    "name": "ipython",
    "version": 3
   },
   "file_extension": ".py",
   "mimetype": "text/x-python",
   "name": "python",
   "nbconvert_exporter": "python",
   "pygments_lexer": "ipython3",
   "version": "3.13.5"
  }
 },
 "nbformat": 4,
 "nbformat_minor": 5
}
