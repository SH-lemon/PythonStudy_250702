{
 "cells": [
  {
   "cell_type": "markdown",
   "id": "f7072376-152a-4d95-8f9d-d3608cd0ff22",
   "metadata": {},
   "source": [
    "#### 조건문\n",
    "if 조건:\n",
    "    실행문\n",
    "\n",
    "if 조건1 and 조건2:\n",
    "    실행문\n",
    "\n",
    "if not 조건:\n",
    "    실행문\n",
    "\n",
    "if 조건:\n",
    "    실행문"
   ]
  },
  {
   "cell_type": "code",
   "execution_count": 1,
   "id": "fa26c864-9b27-4f26-848c-b665f25efc37",
   "metadata": {},
   "outputs": [
    {
     "name": "stdin",
     "output_type": "stream",
     "text": [
      "당신의 나이는? 20\n"
     ]
    },
    {
     "name": "stdout",
     "output_type": "stream",
     "text": [
      "당신은 성인입니다!\n",
      "축하드립니다!\n",
      "이제부터 인생은 시작입니다!\n",
      "무엇이든 할 수 있습니다!\n",
      "응원합니다!\n"
     ]
    }
   ],
   "source": [
    "age = int(input(\"당신의 나이는?\"))\n",
    "\n",
    "if age >= 19:\n",
    "    print(\"당신은 성인입니다!\")\n",
    "    print(\"축하드립니다!\")\n",
    "    print(\"이제부터 인생은 시작입니다!\")\n",
    "    print(\"무엇이든 할 수 있습니다!\")\n",
    "    print(\"응원합니다!\")"
   ]
  },
  {
   "cell_type": "code",
   "execution_count": 3,
   "id": "a733f147-c29f-463c-9f88-2c5776eefe35",
   "metadata": {},
   "outputs": [
    {
     "name": "stdin",
     "output_type": "stream",
     "text": [
      "인성이의 나이는? 15\n",
      "지섭이의 나이는? 23\n"
     ]
    },
    {
     "name": "stdout",
     "output_type": "stream",
     "text": [
      "영화관 입장 가능!\n"
     ]
    }
   ],
   "source": [
    "age1 = int(input(\"인성이의 나이는?\"))\n",
    "age2 = int(input(\"지섭이의 나이는?\"))\n",
    "\n",
    "if age1 >=19 or age2 >=19:\n",
    "    print(\"영화관 입장 가능!\")"
   ]
  },
  {
   "cell_type": "code",
   "execution_count": 5,
   "id": "ea92060e-1882-4e76-92cc-8580ec313445",
   "metadata": {},
   "outputs": [
    {
     "name": "stdin",
     "output_type": "stream",
     "text": [
      "승원이의 나이는? 15\n"
     ]
    },
    {
     "name": "stdout",
     "output_type": "stream",
     "text": [
      "영화관에 입장하실 수 없습니다.\n"
     ]
    }
   ],
   "source": [
    "age3 = int(input(\"승원이의 나이는?\"))\n",
    "\n",
    "if not age3 <= 19:\n",
    "    print(\"영화관 입장 가능!\")\n",
    "else:\n",
    "    print(\"영화관에 입장하실 수 없습니다.\")"
   ]
  },
  {
   "cell_type": "code",
   "execution_count": 6,
   "id": "d6cc4ae0-86ce-42a7-9458-cd837f8d73c4",
   "metadata": {},
   "outputs": [
    {
     "name": "stdin",
     "output_type": "stream",
     "text": [
      "현재 가지고 있는 현금은 얼마인가요? 300\n"
     ]
    },
    {
     "name": "stdout",
     "output_type": "stream",
     "text": [
      "오늘 저녁은 집에서 먹자.\n"
     ]
    }
   ],
   "source": [
    "cash = int(input(\"현재 가지고 있는 현금은 얼마인가요?\"))\n",
    "\n",
    "if cash > 100000:\n",
    "    print(\"오늘 저녁은 VIPS!\")\n",
    "else:\n",
    "    print(\"오늘 저녁은 집에서 먹자.\")"
   ]
  },
  {
   "cell_type": "markdown",
   "id": "40ef6fdf-7718-4704-b556-ac3a2e6e78f7",
   "metadata": {},
   "source": [
    "- 사용자로부터 나이를 입력받아서, 나이가 19세 이상이면 \"당신은 성인입니다\" 출력, 19세 미만이라면 \"당신은 청소년입니다\" 출력해주세요."
   ]
  },
  {
   "cell_type": "code",
   "execution_count": 8,
   "id": "037c4d56-536a-4bdb-b97c-10ac85e849aa",
   "metadata": {},
   "outputs": [
    {
     "name": "stdin",
     "output_type": "stream",
     "text": [
      "당신의 나이는? 11\n"
     ]
    },
    {
     "name": "stdout",
     "output_type": "stream",
     "text": [
      "당신은 청소년입니다\n"
     ]
    }
   ],
   "source": [
    "age00 = int(input(\"당신의 나이는?\"))\n",
    "\n",
    "if age00 >= 19:\n",
    "    print(\"당신은 성인입니다\")\n",
    "else:\n",
    "    print(\"당신은 청소년입니다\")"
   ]
  },
  {
   "cell_type": "markdown",
   "id": "297da6c0-f382-41c6-b9d0-7cdae7a7c0cb",
   "metadata": {},
   "source": [
    "- 사용자로부터 나이를 입력받아서, 나이가 19세 이상이면 \"당신은 성인입니다\" 출력, 13세 이상 19세 미만이라면 \"당신은 청소년입니다\", 13세 미만 5세 이상이면 \"당신은 아동입니다\" 출력해주세요."
   ]
  },
  {
   "cell_type": "markdown",
   "id": "ae5119ed-e4d1-47aa-b070-85c65376f4ca",
   "metadata": {},
   "source": [
    "#### else문 유의사항\n",
    "- 어떤 조건문 안에서도 2회 이상 사용 불가!!!!\n",
    "- else문은 조건문 사이(중간)에 절대 입력할 수 없음\n",
    "- else문은 독립적으로 조건식을 받을 수 없음\n",
    "- 조건문 내 반드시 작성해야하는 필수값은 아님"
   ]
  },
  {
   "cell_type": "code",
   "execution_count": 24,
   "id": "2e41ae71-1203-432d-94f6-fa7ef63c5b1b",
   "metadata": {},
   "outputs": [
    {
     "name": "stdin",
     "output_type": "stream",
     "text": [
      "당신의 나이는? 6\n"
     ]
    },
    {
     "name": "stdout",
     "output_type": "stream",
     "text": [
      "당신은 아동입니다\n"
     ]
    }
   ],
   "source": [
    "userAge = int(input(\"당신의 나이는?\"))\n",
    "if userAge >= 19:\n",
    "    print(\"당신은 성인입니다\")\n",
    "elif userAge < 19 and userAge >=13:\n",
    "    print(\"당신은 청소년입니다\")\n",
    "elif userAge <13 and userAge >= 5:\n",
    "    print(\"당신은 아동입니다\")"
   ]
  },
  {
   "cell_type": "markdown",
   "id": "fd3e48df-47d9-4c38-ad23-d0d70ce50880",
   "metadata": {},
   "source": [
    "- 사용자로부터 현재 현금이 얼마 있는지 확인 후 10만원 이상이라면 레스토랑으로 갑시다! 출력, 그렇지 않은 경우, 만약 5만원 이상이라면 뷔페로 갑시다! 출력, 5만원 미만이라면 집으로 가세요. 출력해주세요"
   ]
  },
  {
   "cell_type": "code",
   "execution_count": 30,
   "id": "86536430-cb44-4790-9da2-9623f23146b0",
   "metadata": {},
   "outputs": [
    {
     "name": "stdin",
     "output_type": "stream",
     "text": [
      "지금 현금이 얼마 있나요? 100\n"
     ]
    },
    {
     "name": "stdout",
     "output_type": "stream",
     "text": [
      "집으로 가세요!\n"
     ]
    }
   ],
   "source": [
    "userCash = int(input(\"지금 현금이 얼마 있나요?\"))\n",
    "\n",
    "if userCash >= 100000:\n",
    "    print(\"레스토랑으로 갑시다!\")\n",
    "else:\n",
    "    if userCash >= 50000:\n",
    "        print(\"뷔페로 갑시다!\")\n",
    "    else:\n",
    "        print(\"집으로 가세요!\")"
   ]
  },
  {
   "cell_type": "markdown",
   "id": "54ea7105-b603-4863-a55b-0bdf7a386c7d",
   "metadata": {},
   "source": [
    "- 사용자로부터 얼마의 현금이 있는지 확인 후 10만원 초과인 경우, 레스토랑 출력, 그렇지 않은 경우 만약 5만원 미만이라면 집 출력, 7만원 초과인 경우 패밀리 레스토랑 출력, 6만원 초과인 경우 한식집 출력, 그렇지 않으면 분식집 출력"
   ]
  },
  {
   "cell_type": "code",
   "execution_count": 44,
   "id": "4562727b-fe39-433a-9f2a-3b13046e2b31",
   "metadata": {},
   "outputs": [
    {
     "name": "stdin",
     "output_type": "stream",
     "text": [
      "현금이 얼마 있나요? 65000\n"
     ]
    },
    {
     "name": "stdout",
     "output_type": "stream",
     "text": [
      "한식집\n"
     ]
    }
   ],
   "source": [
    "money = int(input(\"현금이 얼마 있나요?\"))\n",
    "\n",
    "if money >100000:\n",
    "    print(\"레스토랑\")\n",
    "else:\n",
    "    if money >50000:\n",
    "        if money >70000:\n",
    "            print(\"패밀리 레스토랑\")\n",
    "        elif money >60000:\n",
    "            print(\"한식집\")\n",
    "        else:\n",
    "            print(\"분식집\")\n",
    "    else:\n",
    "        print(\"집\")"
   ]
  },
  {
   "cell_type": "markdown",
   "id": "ed0cac9c-0547-452c-9154-b46b215150e7",
   "metadata": {},
   "source": [
    "- 사용자로부터 특정 숫자를 입력받은 후 해당 숫자가 홀수인지, 짝수인지 분별해서 출력해주세요"
   ]
  },
  {
   "cell_type": "code",
   "execution_count": 52,
   "id": "820e5b3e-8612-487e-af5b-f29e5ec86333",
   "metadata": {},
   "outputs": [
    {
     "name": "stdin",
     "output_type": "stream",
     "text": [
      "Number? 5\n"
     ]
    },
    {
     "name": "stdout",
     "output_type": "stream",
     "text": [
      "홀수\n"
     ]
    }
   ],
   "source": [
    "num00 = int(input(\"Number?\"))\n",
    "num02 = num00 % 2\n",
    "\n",
    "if not num00 == 0:\n",
    "    if num02 == 1:\n",
    "        print(\"홀수\")\n",
    "    else: \n",
    "        print(\"짝수\")"
   ]
  },
  {
   "cell_type": "markdown",
   "id": "00c755c0-cce2-4697-a3b3-db0e694da17c",
   "metadata": {},
   "source": [
    "- 사용자로부터 3개의 숫자를 입력받고 그중 가장 작은 숫자를 출력해주세요"
   ]
  },
  {
   "cell_type": "code",
   "execution_count": 54,
   "id": "99c8ffac-e6e3-40b4-8fb6-e962fca25dcd",
   "metadata": {},
   "outputs": [
    {
     "name": "stdin",
     "output_type": "stream",
     "text": [
      "First Number? 2\n",
      "Second Number? 5\n",
      "Third Number? 3\n"
     ]
    },
    {
     "name": "stdout",
     "output_type": "stream",
     "text": [
      "2\n"
     ]
    }
   ],
   "source": [
    "num1 = int(input(\"First Number?\"))\n",
    "num2 = int(input(\"Second Number?\"))\n",
    "num3 = int(input(\"Third Number?\"))\n",
    "\n",
    "numList = [num1, num2, num3]\n",
    "numList1 = numList.sort()\n",
    "print(numList[0])"
   ]
  },
  {
   "cell_type": "code",
   "execution_count": 55,
   "id": "e2003e0a-dd73-4a4d-9000-cd0adc041bbb",
   "metadata": {},
   "outputs": [
    {
     "name": "stdin",
     "output_type": "stream",
     "text": [
      "First Number? 4\n",
      "Second Number? 6\n",
      "Third Number? 43\n"
     ]
    },
    {
     "data": {
      "text/plain": [
       "4"
      ]
     },
     "execution_count": 55,
     "metadata": {},
     "output_type": "execute_result"
    }
   ],
   "source": [
    "num1 = int(input(\"First Number?\"))\n",
    "num2 = int(input(\"Second Number?\"))\n",
    "num3 = int(input(\"Third Number?\"))\n",
    "\n",
    "min(num1, num2, num3)"
   ]
  },
  {
   "cell_type": "code",
   "execution_count": 56,
   "id": "21a7a9a6-1673-4e76-a642-7a3ea31e8430",
   "metadata": {},
   "outputs": [
    {
     "name": "stdin",
     "output_type": "stream",
     "text": [
      " 10\n",
      " 42\n",
      " 1\n"
     ]
    },
    {
     "data": {
      "text/plain": [
       "1"
      ]
     },
     "execution_count": 56,
     "metadata": {},
     "output_type": "execute_result"
    }
   ],
   "source": [
    "nums = [int(input()) for _ in range(3)]\n",
    "min(nums)"
   ]
  }
 ],
 "metadata": {
  "kernelspec": {
   "display_name": "Python [conda env:base] *",
   "language": "python",
   "name": "conda-base-py"
  },
  "language_info": {
   "codemirror_mode": {
    "name": "ipython",
    "version": 3
   },
   "file_extension": ".py",
   "mimetype": "text/x-python",
   "name": "python",
   "nbconvert_exporter": "python",
   "pygments_lexer": "ipython3",
   "version": "3.13.5"
  }
 },
 "nbformat": 4,
 "nbformat_minor": 5
}
