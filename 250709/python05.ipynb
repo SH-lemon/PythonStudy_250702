{
 "cells": [
  {
   "cell_type": "code",
   "execution_count": 3,
   "id": "5e7eba12-8ca8-4f96-afb3-aa98cd25e07f",
   "metadata": {},
   "outputs": [
    {
     "name": "stdout",
     "output_type": "stream",
     "text": [
      "잔금대출에도 DTI 규제 적용 검토\n"
     ]
    }
   ],
   "source": [
    "import requests\n",
    "from bs4 import BeautifulSoup\n",
    "\n",
    "res = requests.get(\"https://v.daum.net/v/20170615203441266\")\n",
    "soup = BeautifulSoup(res.content, \"html.parser\")\n",
    "\n",
    "data = soup.find(\"h3\",attrs={\"class\":\"tit_view\"})\n",
    "print(data.string)"
   ]
  },
  {
   "cell_type": "code",
   "execution_count": 9,
   "id": "dc058d4f-9a27-4192-9906-8917a88d9d10",
   "metadata": {},
   "outputs": [
    {
     "name": "stdout",
     "output_type": "stream",
     "text": [
      "2017. 6. 15. 20:34\n"
     ]
    }
   ],
   "source": [
    "# <span class=\"num_date\">2017. 6. 15. 20:34</span>\n",
    "\n",
    "# mydata = soup.find(\"span\", {\"class\":\"num_date\"})\n",
    "# mydata = soup.find(\"span\", \"num_date\")\n",
    "mydata = soup.find_all(\"span\", class_=\"txt_info\")\n",
    "print(mydata[1].get_text())"
   ]
  },
  {
   "cell_type": "code",
   "execution_count": 19,
   "id": "b1d38986-bdd9-49ab-93ea-21d63dd7b130",
   "metadata": {},
   "outputs": [
    {
     "name": "stdout",
     "output_type": "stream",
     "text": [
      "<h3 class=\"tit_view\" data-translation=\"true\">잔금대출에도 DTI 규제 적용 검토</h3>\n",
      "<h3 class=\"tit_box\">이 시각 추천뉴스</h3>\n",
      "<h3 class=\"tit_box\">서비스 바로가기</h3>\n"
     ]
    }
   ],
   "source": [
    "import requests\n",
    "from bs4 import BeautifulSoup\n",
    "\n",
    "res1= requests.get(\"https://crawlingtest.netlify.app/\")\n",
    "soup1= BeautifulSoup(res1.content, \"html.parser\")\n",
    "\n",
    "data1=soup.find_all(\"h3\")\n",
    "for item in data1 :\n",
    "    print(item)"
   ]
  }
 ],
 "metadata": {
  "kernelspec": {
   "display_name": "Python [conda env:base] *",
   "language": "python",
   "name": "conda-base-py"
  },
  "language_info": {
   "codemirror_mode": {
    "name": "ipython",
    "version": 3
   },
   "file_extension": ".py",
   "mimetype": "text/x-python",
   "name": "python",
   "nbconvert_exporter": "python",
   "pygments_lexer": "ipython3",
   "version": "3.13.5"
  }
 },
 "nbformat": 4,
 "nbformat_minor": 5
}
