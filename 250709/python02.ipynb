{
 "cells": [
  {
   "cell_type": "markdown",
   "id": "0fd92d17-2731-4b6e-9af7-2a1568478c63",
   "metadata": {},
   "source": [
    "#### 파이썬 크롤링\n",
    "1. 크롤링을 하는 수많은 프로그래밍 언어와 툴이 존재하는데 왜 파이썬?\n",
    "   - 파이썬은 라이브러리의 천국이다\n",
    "   - 라이브러리 => 도서관 => 특정 분야에 대한 전문지식을 습득하기 위해서 해당 책을 빌려보거나 서재에서 가져다가 참고!\n",
    "   - 크롤링을 하려고 하는데, AtoZ 직접 크롤링을 위한 코드를 작성한다면 시간과 효율이 매우 안 좋을 것\n",
    "   - 파이썬은 미리 크롤링할 수 있도록 해주는 일종의 참고 서적을 미리 만들어 놓음 (*참고서적 => 라이브러리)\n",
    "   - 특정 라이브러리를 가져와서 사용하려면 import 예약어 (*명령어)를 사용!\n",
    "   - 만약 해당 라이브러리가 파이썬에 내장되어있는 라이브러리가 아니라고 한다면 반드시 사전에 설치가 필요!\n",
    "\n",
    "     - !pip = python install package\n",
    "         - !pip install 설치하고싶은 라이브러리명 = pandas"
   ]
  },
  {
   "cell_type": "code",
   "execution_count": 2,
   "id": "4aa52d6a-61b5-44a6-ae95-d3d45a10aec6",
   "metadata": {},
   "outputs": [
    {
     "name": "stdout",
     "output_type": "stream",
     "text": [
      "Defaulting to user installation because normal site-packages is not writeable\n",
      "Requirement already satisfied: pandas in c:\\programdata\\anaconda3\\lib\\site-packages (2.2.3)\n",
      "Requirement already satisfied: numpy>=1.26.0 in c:\\programdata\\anaconda3\\lib\\site-packages (from pandas) (2.1.3)\n",
      "Requirement already satisfied: python-dateutil>=2.8.2 in c:\\programdata\\anaconda3\\lib\\site-packages (from pandas) (2.9.0.post0)\n",
      "Requirement already satisfied: pytz>=2020.1 in c:\\programdata\\anaconda3\\lib\\site-packages (from pandas) (2024.1)\n",
      "Requirement already satisfied: tzdata>=2022.7 in c:\\programdata\\anaconda3\\lib\\site-packages (from pandas) (2025.2)\n",
      "Requirement already satisfied: six>=1.5 in c:\\programdata\\anaconda3\\lib\\site-packages (from python-dateutil>=2.8.2->pandas) (1.17.0)\n",
      "Note: you may need to restart the kernel to use updated packages.\n"
     ]
    }
   ],
   "source": [
    "pip install pandas"
   ]
  },
  {
   "cell_type": "code",
   "execution_count": 3,
   "id": "21cc1603-4990-41f6-adc4-ddae6ef01ef9",
   "metadata": {},
   "outputs": [],
   "source": [
    "import pandas"
   ]
  },
  {
   "cell_type": "code",
   "execution_count": 17,
   "id": "14a6905c-b16c-4fad-82b4-bae7944e34f4",
   "metadata": {},
   "outputs": [
    {
     "data": {
      "text/plain": [
       "2.5"
      ]
     },
     "execution_count": 17,
     "metadata": {},
     "output_type": "execute_result"
    }
   ],
   "source": [
    "# import statistics\n",
    "# from statistics import mean, stdev\n",
    "# from statistics import *\n",
    "# import statistics as s\n",
    "from statistics import mean as m\n",
    "\n",
    "data = [1,2,3,4]\n",
    "\n",
    "m(data)\n",
    "\n",
    "# print(s.mean(data))\n",
    "# print(s.stdev(data))"
   ]
  }
 ],
 "metadata": {
  "kernelspec": {
   "display_name": "Python [conda env:base] *",
   "language": "python",
   "name": "conda-base-py"
  },
  "language_info": {
   "codemirror_mode": {
    "name": "ipython",
    "version": 3
   },
   "file_extension": ".py",
   "mimetype": "text/x-python",
   "name": "python",
   "nbconvert_exporter": "python",
   "pygments_lexer": "ipython3",
   "version": "3.13.5"
  }
 },
 "nbformat": 4,
 "nbformat_minor": 5
}
