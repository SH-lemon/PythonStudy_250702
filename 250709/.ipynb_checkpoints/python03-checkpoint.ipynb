{
 "cells": [
  {
   "cell_type": "markdown",
   "id": "0cef22c8-858f-4fe0-b069-533fef813de7",
   "metadata": {},
   "source": [
    "#### 파이썬 Basic 크롤링 문법\n",
    "1. requests\n",
    "2. bs4"
   ]
  },
  {
   "cell_type": "code",
   "execution_count": 4,
   "id": "dbb2f788-04b8-4a7f-8a92-96d2a7375543",
   "metadata": {},
   "outputs": [
    {
     "name": "stdout",
     "output_type": "stream",
     "text": [
      "잔금대출에도 DTI 규제 적용 검토\n"
     ]
    }
   ],
   "source": [
    "import requests\n",
    "from bs4 import BeautifulSoup\n",
    "\n",
    "res = requests.get(\"https://v.daum.net/v/20170615203441266\")\n",
    "soup = BeautifulSoup(res.content, \"html.parser\")\n",
    "\n",
    "mydata = soup.find(\"title\")\n",
    "print(mydata.get_text())"
   ]
  }
 ],
 "metadata": {
  "kernelspec": {
   "display_name": "Python [conda env:base] *",
   "language": "python",
   "name": "conda-base-py"
  },
  "language_info": {
   "codemirror_mode": {
    "name": "ipython",
    "version": 3
   },
   "file_extension": ".py",
   "mimetype": "text/x-python",
   "name": "python",
   "nbconvert_exporter": "python",
   "pygments_lexer": "ipython3",
   "version": "3.13.5"
  }
 },
 "nbformat": 4,
 "nbformat_minor": 5
}
