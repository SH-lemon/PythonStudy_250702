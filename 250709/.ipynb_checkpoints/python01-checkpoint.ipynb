{
 "cells": [
  {
   "cell_type": "markdown",
   "id": "d621d413-512e-4f44-b97e-d26d7e56fcd5",
   "metadata": {},
   "source": [
    "#### 객체지향 언어가 문제를 해결해가는 과정\n",
    "- 예: 냉장고에 코끼리를 넣는다.\n",
    "- 1. 코끼리라는 동물의 정보를 수집해서 해당 동물에 대한 설계도를 만든다. (*코끼리는 냉장고의 문을 열 수 있고, 안으로 들어갈 수 있다고 사전에 정의)\n",
    "  2. 이전 단계에서 만든 코끼리 설계도를 기반으로 코끼리1이라는 객체를 하나 만든다.\n",
    "  3. 냉장고라는 사물의 정보를 수집해서 해당 사물에 대한 설계도를 만든다. (*만약 코끼리가 냉장고 안에 들어온다면 문이 자동으로 닫히도록 하는 기능을 사전에 정의)\n",
    "  4. 이전 단계에서 만든 냉장고 설계도를 기반으로 냉장고1이라는 객체를 하나 만든다.\n",
    "  5. 코끼리1이라는 객체 안에 \"내장\"되어있는 기능을 호출해서 냉장고1이라는 객체의 문을 열게 한다.\n",
    "  6. 코끼리1이라는 객체 안에 이미 \"내장\"되어있는 기능을 호출해서 냉장고1이라는 객체 안으로 들어가게 한다.\n",
    "  7. 코끼리1이라는 객체 안에 이미 \"내장\"되어있는 기능을 호출해서 냉장고1이라는 객체의 문을 닫게 한다.\n",
    "\n",
    "#### 절차지향 언어가 문제를 해결해가는 과정\n",
    "1. 냉장고 문을 연다 // open 냉장고\n",
    "2. 코끼리를 냉장고에 넣는다 // insert 코끼리 into 냉장고\n",
    "3. 냉장고 문을 닫는다 // close 냉장고"
   ]
  },
  {
   "cell_type": "markdown",
   "id": "84590856-7173-4407-92b0-c612a77ca407",
   "metadata": {},
   "source": [
    "#### 객체지향 프로그래밍 언어 핵심 요소\n",
    "1. 어떤 사물 혹은 동물을 나타낼 수 있는 설계도를 객체지향언어에서 Class라고 부름.\n",
    "   - atribute(속성): 코끼리의 다리는 4개 / 코끼리의 코는 1개 = 코는 손으 ㅣ역할을 함\n",
    "   - method (기능) = 객체만의 기능을 구현할 수 있는 함수 / 코끼리가 냉장고를 보면 자신의 코로 문을 연다. 코로 문을 연다면 그 안으로 들어간다.\n",
    "   - 만약 해당 객체가 사전에 설계도면에 정의가 되어있는 속성값과 기능을 구현하고 싶다면 이렇게 작성해라. -> 객체.속성명//객체.매서드함수()\n",
    "3. 어떤 사물 혹은 동물의 정보를 가지고 있는 설계도를 가지고 만들어진 객체 = Object = 객체\n",
    "   - 객체명.속성 : 객체가 가지고 있는 어떤 정보들을 찾아올 수 있음\n",
    "   - 객체명.메서드함수() : 객체가 가지고 있는 고유한 매서드함수를 실행하겠다는 의미"
   ]
  },
  {
   "cell_type": "markdown",
   "id": "b83a719c-05fe-4c7d-b780-6e0e1e711451",
   "metadata": {},
   "source": [
    "#### 4. class를 활용한 객체생성 문법:\n",
    "\n",
    "1. 클래스 정의 : class Student -> Student라는 클래스를 정의하겠다는 의미.\n",
    "2. 클래스 안에 속성과 매서드함수를 정의하려면, \"생성자 함수 = 초기화 함수\"를 만들어야 함!\n",
    "3. __init__ : 클래스를 통해서 객체가 생성될 때 자동으로 호출되는 특별한 함수\n",
    "4. self : __init__ 특별한 함수를 선언할 때, 반드시 첫번째 매개 변수로 작성해야 함. => 자기자신 =>클래스를 통해서 생성될 객체 그 자체\n",
    "   - 예: __init__(self, name, grade) => 클래스를 활용해서 최초로 객체를 생성할 때, name이라는 속성값과 grade라는 속성값을 받아서 객체 본인의 속성으로 정의\n",
    "   - 클래스 안에서 생성자 함수를 사용하는 예.\n",
    "   - def __init__(self, name, grade) :\n",
    "         self.name = name\n",
    "         self.grade = grade\n",
    "   - self.name => 클래스 안에 있는 하나의 변수로서 인식\n",
    "   - 생성자 함수를 선언한 이후에 매서드함수를 선언! => 개발자가 원하는 직관적인 이름으로 매서드함수명을 선언\n",
    "   - def study(self) :\n",
    "         print(f\"{self.name}가 공부를 열심히 합니다.\")\n",
    "   - 클래스를 통해서 새롭게 탄생한 객체.study(공유) => 공유가 공부를 열심히 합니다. 라는 구문이 출력"
   ]
  },
  {
   "cell_type": "code",
   "execution_count": 2,
   "id": "b37312db-93e1-44f7-827c-38cf919b0e29",
   "metadata": {
    "scrolled": true
   },
   "outputs": [
    {
     "name": "stdout",
     "output_type": "stream",
     "text": [
      "Fun Coding\n"
     ]
    }
   ],
   "source": [
    "def print_string(data) :\n",
    "    print(data)\n",
    "\n",
    "#함수호출\n",
    "print_string(\"Fun Coding\")"
   ]
  },
  {
   "cell_type": "code",
   "execution_count": 6,
   "id": "09ea8d2b-8eeb-44cb-8084-b44d46a82b24",
   "metadata": {},
   "outputs": [
    {
     "name": "stdout",
     "output_type": "stream",
     "text": [
      "<class 'list'>\n"
     ]
    }
   ],
   "source": [
    "string = \"Fun Coding\"\n",
    "print(type(string.split()))"
   ]
  },
  {
   "cell_type": "code",
   "execution_count": 7,
   "id": "484f6dd5-4006-4c48-b92c-d5ac459b148b",
   "metadata": {},
   "outputs": [],
   "source": [
    "class Student :\n",
    "    def __init__(self, name, grade) :\n",
    "        self.name = name\n",
    "        self.grade = grade\n",
    "\n",
    "    def study(self) :\n",
    "        print(f\"{self.name}(이)가 공부를 열심히 합니다.\")\n",
    "\n",
    "    def take_exam(self) :\n",
    "        print(f\"{self.name}(이)가 시험을 봅니다.\")"
   ]
  },
  {
   "cell_type": "code",
   "execution_count": 15,
   "id": "fb6a3231-3823-4b0e-be42-0e8bf1a34e37",
   "metadata": {},
   "outputs": [
    {
     "name": "stdout",
     "output_type": "stream",
     "text": [
      "David 3\n",
      "David(이)가 공부를 열심히 합니다.\n"
     ]
    }
   ],
   "source": [
    "student = Student(\"David\", 3)\n",
    "print(student.name, student.grade)\n",
    "student.study()"
   ]
  },
  {
   "cell_type": "code",
   "execution_count": null,
   "id": "6ca73093-9ace-436e-bbb0-ca12f5b70cdc",
   "metadata": {},
   "outputs": [],
   "source": []
  }
 ],
 "metadata": {
  "kernelspec": {
   "display_name": "Python [conda env:base] *",
   "language": "python",
   "name": "conda-base-py"
  },
  "language_info": {
   "codemirror_mode": {
    "name": "ipython",
    "version": 3
   },
   "file_extension": ".py",
   "mimetype": "text/x-python",
   "name": "python",
   "nbconvert_exporter": "python",
   "pygments_lexer": "ipython3",
   "version": "3.13.5"
  }
 },
 "nbformat": 4,
 "nbformat_minor": 5
}
