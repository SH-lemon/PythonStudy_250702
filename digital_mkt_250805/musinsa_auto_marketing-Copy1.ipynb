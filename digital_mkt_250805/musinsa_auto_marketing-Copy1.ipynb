{
 "cells": [
  {
   "cell_type": "code",
   "execution_count": 13,
   "id": "8d4dd07b-ccdd-461f-9245-bf3836bc3fa6",
   "metadata": {},
   "outputs": [
    {
     "name": "stdout",
     "output_type": "stream",
     "text": [
      "목표 키워드 : 반팔\n",
      "검색 완료. 현재 페이지 타이틀 : 반팔 | 무신사 추천 브랜드\n"
     ]
    },
    {
     "data": {
      "text/html": [
       "<div>\n",
       "<style scoped>\n",
       "    .dataframe tbody tr th:only-of-type {\n",
       "        vertical-align: middle;\n",
       "    }\n",
       "\n",
       "    .dataframe tbody tr th {\n",
       "        vertical-align: top;\n",
       "    }\n",
       "\n",
       "    .dataframe thead th {\n",
       "        text-align: right;\n",
       "    }\n",
       "</style>\n",
       "<table border=\"1\" class=\"dataframe\">\n",
       "  <thead>\n",
       "    <tr style=\"text-align: right;\">\n",
       "      <th></th>\n",
       "      <th>상품명</th>\n",
       "      <th>URL</th>\n",
       "      <th>리뷰수</th>\n",
       "    </tr>\n",
       "  </thead>\n",
       "  <tbody>\n",
       "    <tr>\n",
       "      <th>0</th>\n",
       "      <td>Rowdy Basketball League T-Shirt_Oatmeal</td>\n",
       "      <td>https://www.musinsa.com/products/4147228</td>\n",
       "      <td>724</td>\n",
       "    </tr>\n",
       "    <tr>\n",
       "      <th>1</th>\n",
       "      <td>UNIVERSITY PIGMENT TEE CHARCOAL(MG2CMMT531A)</td>\n",
       "      <td>https://www.musinsa.com/products/2404968</td>\n",
       "      <td>712</td>\n",
       "    </tr>\n",
       "    <tr>\n",
       "      <th>2</th>\n",
       "      <td>원캣 우먼 레귤러 베이직 티셔츠</td>\n",
       "      <td>https://www.musinsa.com/products/3401498</td>\n",
       "      <td>705</td>\n",
       "    </tr>\n",
       "    <tr>\n",
       "      <th>3</th>\n",
       "      <td>[2PACK]돌핀 아치로고 티셔츠 화이트 블랙 2팩</td>\n",
       "      <td>https://www.musinsa.com/products/3060324</td>\n",
       "      <td>585</td>\n",
       "    </tr>\n",
       "    <tr>\n",
       "      <th>4</th>\n",
       "      <td>[쿨탠다드] LV2 액티브 숏 슬리브 (3color)</td>\n",
       "      <td>https://www.musinsa.com/products/3535315</td>\n",
       "      <td>425</td>\n",
       "    </tr>\n",
       "  </tbody>\n",
       "</table>\n",
       "</div>"
      ],
      "text/plain": [
       "                                            상품명  \\\n",
       "0       Rowdy Basketball League T-Shirt_Oatmeal   \n",
       "1  UNIVERSITY PIGMENT TEE CHARCOAL(MG2CMMT531A)   \n",
       "2                             원캣 우먼 레귤러 베이직 티셔츠   \n",
       "3                  [2PACK]돌핀 아치로고 티셔츠 화이트 블랙 2팩   \n",
       "4                 [쿨탠다드] LV2 액티브 숏 슬리브 (3color)   \n",
       "\n",
       "                                        URL  리뷰수  \n",
       "0  https://www.musinsa.com/products/4147228  724  \n",
       "1  https://www.musinsa.com/products/2404968  712  \n",
       "2  https://www.musinsa.com/products/3401498  705  \n",
       "3  https://www.musinsa.com/products/3060324  585  \n",
       "4  https://www.musinsa.com/products/3535315  425  "
      ]
     },
     "execution_count": 13,
     "metadata": {},
     "output_type": "execute_result"
    }
   ],
   "source": [
    "from selenium import webdriver\n",
    "from selenium.webdriver.chrome.service import Service\n",
    "from selenium.webdriver.chrome.options import Options\n",
    "from selenium.webdriver.common.by import By\n",
    "from selenium.webdriver.common.keys import Keys\n",
    "from webdriver_manager.chrome import ChromeDriverManager\n",
    "import pandas as pd\n",
    "import time\n",
    "import re\n",
    "\n",
    "service = Service(ChromeDriverManager().install())\n",
    "options = Options()\n",
    "# options.add_argument('--headless')\n",
    "# options.add_argument('--disable-gpu')\n",
    "options.add_argument('--disable-dev-shm-usage')\n",
    "options.add_argument('--window-size=1920x1080')\n",
    "options.add_argument('--start-maximized')\n",
    "options.add_argument('--user-agent=Mozilla/5.0 (Windows NT 10.0; Win64; x64) AppleWebKit/537.36 (KHTML, like Gecko) Chrome/138.0.0.0 Safari/537.')\n",
    "options.add_argument('--lang=ko_KR')\n",
    "\n",
    "driver = webdriver.Chrome(service = service, options = options)\n",
    "\n",
    "driver.get(\"https://www.musinsa.com/main/musinsa/recommend?gf=A\")\n",
    "time.sleep(3)\n",
    "\n",
    "search_button = driver.find_element(By.CLASS_NAME, \"sc-dzagxs-2\")\n",
    "search_button.click()\n",
    "time.sleep(2)\n",
    "\n",
    "popular_keywords = driver.find_elements(By.CSS_SELECTOR, \".search-home-popular-wrap .sc-1xzm8bl-1\")\n",
    "target_keyword = popular_keywords[2].text\n",
    "print(\"목표 키워드 :\", target_keyword)\n",
    "\n",
    "search_input = driver.find_element(By.CLASS_NAME, \"search-home-search-bar-keyword\")\n",
    "search_input.clear()\n",
    "search_input.send_keys(target_keyword)\n",
    "time.sleep(1)\n",
    "\n",
    "search_input.send_keys(Keys.RETURN)\n",
    "time.sleep(5)\n",
    "\n",
    "print(\"검색 완료. 현재 페이지 타이틀 :\", driver.title)\n",
    "\n",
    "scroll_pause = 2\n",
    "\n",
    "for _ in range(10) :\n",
    "    driver.execute_script(\"window.scrollTo(0, document.body.scrollHeight);\")\n",
    "    time.sleep(scroll_pause)\n",
    "\n",
    "products = driver.find_elements(By.CSS_SELECTOR, \"div.sc-d36st-1.elXjMR\")[:100]\n",
    "products_data = []\n",
    "\n",
    "for product in products :\n",
    "    try:\n",
    "        name = product.find_element(By.CSS_SELECTOR, \"div.sc-cMuefe.jIlLeV a.gtm-select-item span\").text.strip()\n",
    "        url = product.find_element(By.CSS_SELECTOR, \"div.sc-cMuefe.jIlLeV a.gtm-select-item\").get_attribute(\"href\")\n",
    "        review_info = product.find_elements(By.CSS_SELECTOR, \"span.text-etc_11px_reg.text-yellow.font-pretendard\")[1].text\n",
    "        # print(name,url,review_info)\n",
    "        review_count = int(re.sub(r\"[^\\d]\",\"\", review_info)) if review_info else 0\n",
    "        products_data.append({\"상품명\":name,\"URL\":url,\"리뷰수\":review_count})\n",
    "    except:\n",
    "        continue\n",
    "\n",
    "df = pd.DataFrame(products_data)\n",
    "df_top30 = df.sort_values(by=\"리뷰수\", ascending=False).head(30).reset_index(drop=True)\n",
    "\n",
    "driver.quit()\n",
    "df_top30.head()"
   ]
  },
  {
   "cell_type": "code",
   "execution_count": 18,
   "id": "5b7c8d7e-c808-40f8-90f4-9d2ef004a020",
   "metadata": {},
   "outputs": [
    {
     "name": "stdout",
     "output_type": "stream",
     "text": [
      "저장 완료\n"
     ]
    }
   ],
   "source": [
    "from openpyxl import Workbook\n",
    "\n",
    "driver = webdriver.Chrome(service=service, options=options)\n",
    "all_reviews = []\n",
    "\n",
    "for idx, row in df_top30.iterrows() :\n",
    "    driver.get(row['URL'])\n",
    "    time.sleep(2)\n",
    "\n",
    "    try:\n",
    "        review_tab = driver.find_element(By.XPATH, \"//button[@data-button-id='prd_review_tab']\")\n",
    "        review_tab.click()\n",
    "        time.sleep(2)\n",
    "\n",
    "        for _ in range(3) :\n",
    "            driver.execute_script(\"window.scrollTo(0, document.body.scrollHeight);\")\n",
    "            time.sleep(1.5)\n",
    "\n",
    "        review_elements = driver.find_elements(By.CSS_SELECTOR, \".text-body_13px_reg.text-black.font-pretendard\")\n",
    "        for review in review_elements[:10] :\n",
    "            text = review.text.strip()\n",
    "            if text :\n",
    "                all_reviews.append({\n",
    "                    \"상품명\":row[\"상품명\"],\n",
    "                    \"리뷰\":text\n",
    "                })\n",
    "    \n",
    "    except Exception as e :\n",
    "        print(\"리뷰 수집 실패: \",e)\n",
    "        continue\n",
    "driver.quit()\n",
    "\n",
    "wb = Workbook()\n",
    "ws = wb.active\n",
    "ws.title = \"무신사 리뷰\"\n",
    "\n",
    "ws.append([\"상품명\", \"리뷰\"])\n",
    "\n",
    "for r in all_reviews :\n",
    "    ws.append([r[\"상품명\"],r[\"리뷰\"]])\n",
    "\n",
    "wb.save(\"musinsa_top30_reviews.xlsx\")\n",
    "print(\"저장 완료\")"
   ]
  },
  {
   "cell_type": "code",
   "execution_count": 20,
   "id": "ae8d3ac1-ef61-440e-bc3d-63ab138e22ca",
   "metadata": {},
   "outputs": [
    {
     "name": "stdout",
     "output_type": "stream",
     "text": [
      "Defaulting to user installation because normal site-packages is not writeable\n",
      "Collecting pymysql\n",
      "  Downloading PyMySQL-1.1.1-py3-none-any.whl.metadata (4.4 kB)\n",
      "Downloading PyMySQL-1.1.1-py3-none-any.whl (44 kB)\n",
      "Installing collected packages: pymysql\n",
      "Successfully installed pymysql-1.1.1\n",
      "Note: you may need to restart the kernel to use updated packages.\n"
     ]
    }
   ],
   "source": [
    "pip install pymysql"
   ]
  },
  {
   "cell_type": "code",
   "execution_count": 1,
   "id": "0a7b9238-88e3-4de2-909e-84f626816608",
   "metadata": {},
   "outputs": [
    {
     "name": "stdout",
     "output_type": "stream",
     "text": [
      "Defaulting to user installation because normal site-packages is not writeable\n",
      "Requirement already satisfied: sqlalchemy in c:\\programdata\\anaconda3\\lib\\site-packages (2.0.39)\n",
      "Requirement already satisfied: greenlet!=0.4.17 in c:\\programdata\\anaconda3\\lib\\site-packages (from sqlalchemy) (3.1.1)\n",
      "Requirement already satisfied: typing-extensions>=4.6.0 in c:\\users\\user\\appdata\\roaming\\python\\python313\\site-packages (from sqlalchemy) (4.14.1)\n",
      "Note: you may need to restart the kernel to use updated packages.\n"
     ]
    }
   ],
   "source": [
    "pip install sqlalchemy"
   ]
  },
  {
   "cell_type": "code",
   "execution_count": 16,
   "id": "ca0f418d-939f-476e-8616-b352da1befd1",
   "metadata": {},
   "outputs": [
    {
     "name": "stdout",
     "output_type": "stream",
     "text": [
      "데이터가 MySQL [musinsa_db]의 테이블 [reviews]에 성공적으로 저장되었습니다.\n"
     ]
    }
   ],
   "source": [
    "import pymysql\n",
    "import pandas as pd\n",
    "from sqlalchemy import create_engine\n",
    "from urllib.parse import quote_plus\n",
    "\n",
    "EXCEL_PATH = \"musinsa_top30_reviews.xlsx\"\n",
    "DB_NAME = \"musinsa_db\"\n",
    "TABLE_NAME = \"reviews\"\n",
    "USER = \"root\"\n",
    "PASSWORD = \"tlgus01937\"\n",
    "HOST = \"localhost\"\n",
    "PORT = 3306\n",
    "\n",
    "df = pd.read_excel(EXCEL_PATH)\n",
    "\n",
    "conn = pymysql.connect(host = HOST, user = USER, password = PASSWORD, port = PORT)\n",
    "cursor = conn.cursor()\n",
    "cursor.execute(\n",
    "    f\"CREATE DATABASE IF NOT EXISTS {DB_NAME} CHARACTER SET utf8mb4 COLLATE utf8mb4_unicode_ci;\"\n",
    ")\n",
    "conn.close()\n",
    "\n",
    "engine_str = f\"mysql+pymysql://{USER}:{PASSWORD}@{HOST}:{PORT}/{DB_NAME}?charset=utf8mb4\"\n",
    "engine = create_engine(engine_str)\n",
    "\n",
    "df.to_sql(name=TABLE_NAME, con=engine, if_exists=\"replace\", index=False)\n",
    "print(f\"데이터가 MySQL [{DB_NAME}]의 테이블 [{TABLE_NAME}]에 성공적으로 저장되었습니다.\")"
   ]
  },
  {
   "cell_type": "code",
   "execution_count": 9,
   "id": "f4fd7190-dd98-40f5-836d-032b593588b8",
   "metadata": {},
   "outputs": [
    {
     "name": "stdout",
     "output_type": "stream",
     "text": [
      "✅ MySQL 연결 성공\n",
      "mysql+pymysql://root:Whysolonely04@@127.0.0.1:3306/musinsa_db?charset=utf8mb4\n"
     ]
    }
   ],
   "source": [
    "import pymysql\n",
    "\n",
    "try:\n",
    "    conn = pymysql.connect(\n",
    "        host=\"127.0.0.1\",\n",
    "        user=\"root\",\n",
    "        password=\"Whysolonely04@\",\n",
    "        database=\"musinsa_db\",\n",
    "        port=3306\n",
    "    )\n",
    "    print(\"✅ MySQL 연결 성공\")\n",
    "    conn.close()\n",
    "except Exception as e:\n",
    "    print(\"❌ MySQL 연결 실패:\", e)\n",
    "print(engine_str)"
   ]
  }
 ],
 "metadata": {
  "kernelspec": {
   "display_name": "Python [conda env:base] *",
   "language": "python",
   "name": "conda-base-py"
  },
  "language_info": {
   "codemirror_mode": {
    "name": "ipython",
    "version": 3
   },
   "file_extension": ".py",
   "mimetype": "text/x-python",
   "name": "python",
   "nbconvert_exporter": "python",
   "pygments_lexer": "ipython3",
   "version": "3.13.5"
  }
 },
 "nbformat": 4,
 "nbformat_minor": 5
}
