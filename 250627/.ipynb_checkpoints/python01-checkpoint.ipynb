{
 "cells": [
  {
   "cell_type": "markdown",
   "id": "a8c6bc80-a1ab-49f8-ba83-ec6074c832a1",
   "metadata": {},
   "source": [
    "# 파이썬 기초문법\n",
    "### 1.변수\n",
    "\n",
    "### 2.내장함수 (*built-in Function)\n",
    "- print()\n",
    "- input()\n",
    "- type()\n",
    "\n",
    "### 3.연산자\n",
    "- 사칙연산\n",
    "- 비교연산\n",
    "  \n",
    "### 4.자료타입\n",
    "- string\n",
    "- int # 문자의 값을 정수 값으로 바꿀 때\n",
    "- flot\n",
    "- boolean\n",
    "  \n",
    "### 5.형변환\n",
    "- int()\n",
    "- float()\n",
    "- str() # 특정 값을 자동으로 반환\n",
    "\n",
    "### 6.F-string\n",
    "- F\"문자열 {변수}\"\n",
    "\n",
    "### 7.문자열\n",
    "- \"\"\" \"\"\"\n",
    "- \\n\n",
    "- len()\n",
    "- find()\n",
    "- strip() # 앞쪽과 뒤쪽의 특정한 문자열을 없애주는 역할. 잘라내기 기능\n",
    "- format() => 유의사항!!\n",
    "- [index]\n",
    "- [index:index]"
   ]
  },
  {
   "cell_type": "code",
   "execution_count": 27,
   "id": "4296060e-d9ae-41ff-879b-9250a3a63d68",
   "metadata": {},
   "outputs": [],
   "source": [
    "# 단축키\n",
    "# adove : 위쪽에 셀 추가\n",
    "# below : 아래쪽에 셀 추가\n",
    "# dd : 셀 삭제\n",
    "# ctrl + z : 되돌리기\n",
    "# enter : 행바꿈(*개행)\n",
    "# ctrl + enter : 셀 실행"
   ]
  },
  {
   "cell_type": "code",
   "execution_count": 34,
   "id": "e8532987-559d-441f-ba86-4add7d4110af",
   "metadata": {},
   "outputs": [
    {
     "name": "stdout",
     "output_type": "stream",
     "text": [
      "1\n"
     ]
    }
   ],
   "source": [
    "num = 1 \n",
    "# num, lion, apple... => 변수 (*어떤 값을 담을 수 있는 그릇, 직관 & 명시)\n",
    "# sneak 표기법 => hello_world\n",
    "# camel 표기법 => helloWorld (*추천)\n",
    "# hungarian 표기법 => HelloWorld\n",
    "# 변수의 이름이 숫자로 시작되서는 절대 안된다!! (*반드시)\n",
    "# num이라는 변수 안에 1이라는 값을 할당했다\n",
    "\n",
    "print(num)\n",
    "# print() => 함수 (*Function : 기능)\n",
    "# print라는 함수 안에 num이라는 변수를 인자=argument값으로 사용했다"
   ]
  },
  {
   "cell_type": "code",
   "execution_count": 5,
   "id": "384b6f7b-92e8-4e40-b746-53002f9f1467",
   "metadata": {},
   "outputs": [
    {
     "name": "stdout",
     "output_type": "stream",
     "text": [
      "hello world\n"
     ]
    }
   ],
   "source": [
    "print(\"hello world\")"
   ]
  },
  {
   "cell_type": "code",
   "execution_count": 35,
   "id": "6384bd10-eff1-4218-a0f5-2b8546c52e05",
   "metadata": {},
   "outputs": [
    {
     "name": "stdout",
     "output_type": "stream",
     "text": [
      "<class 'int'>\n",
      "<class 'str'>\n"
     ]
    }
   ],
   "source": [
    "# 자료타입이 왜 중요한가?\n",
    "print(type(1))\n",
    "print(type(\"1\"))"
   ]
  },
  {
   "cell_type": "code",
   "execution_count": 12,
   "id": "77c47703-2a5f-4f0c-a4f7-801ef7f2fcd2",
   "metadata": {},
   "outputs": [
    {
     "name": "stdout",
     "output_type": "stream",
     "text": [
      "10\n",
      "4\n",
      "21\n",
      "50\n",
      "2.3333333333333335\n"
     ]
    }
   ],
   "source": [
    "# 사칙연산 &우선연산 가능\n",
    "num01 = 3\n",
    "num02 = 7\n",
    "\n",
    "print(num01 + num02)\n",
    "print(num02 - num01)\n",
    "print(num01 * num02)\n",
    "print((7 + 3) * 5)\n",
    "print(num02 / num01)"
   ]
  },
  {
   "cell_type": "code",
   "execution_count": 16,
   "id": "980e54ac-e7a8-469f-871f-9bd36ec42c33",
   "metadata": {},
   "outputs": [
    {
     "name": "stdout",
     "output_type": "stream",
     "text": [
      "2.142857142857143\n",
      "2\n",
      "1\n",
      "9\n"
     ]
    }
   ],
   "source": [
    "print(15 / 7) # 나누기 연산자\n",
    "print(15 // 7) # 나누기 후 몫의 값을 정수로 찾아오는 연산자\n",
    "print(15 % 7) # 나머지 연산자\n",
    "print(3 ** 2)"
   ]
  },
  {
   "cell_type": "code",
   "execution_count": 19,
   "id": "9a41842c-45cb-4942-a2f6-6bdcbd8251e4",
   "metadata": {},
   "outputs": [
    {
     "name": "stdout",
     "output_type": "stream",
     "text": [
      "<class 'str'> <class 'int'> <class 'float'> <class 'bool'>\n"
     ]
    }
   ],
   "source": [
    "str_data = \"hello\" # 문자열\n",
    "int_data = 1 # 정수\n",
    "float_data = 1.1 # 부동소수\n",
    "bool_data = True # 논리형\n",
    "\n",
    "print(type(str_data), type(int_data), type(float_data), type(bool_data))"
   ]
  },
  {
   "cell_type": "code",
   "execution_count": 25,
   "id": "1f8fa25a-a11b-42e9-93ef-56c6a9ce9f02",
   "metadata": {},
   "outputs": [
    {
     "name": "stdout",
     "output_type": "stream",
     "text": [
      "30\n"
     ]
    }
   ],
   "source": [
    "digit1 = 10\n",
    "digit2 = 20\n",
    "name = \"David\"\n",
    "\n",
    "print(digit1 + digit2) # 동일한 자료 형태의 경우에는 연산처리 가능!"
   ]
  },
  {
   "cell_type": "code",
   "execution_count": 37,
   "id": "7f548ae2-d1cb-4ddb-9b8b-2d970080706d",
   "metadata": {},
   "outputs": [
    {
     "name": "stdout",
     "output_type": "stream",
     "text": [
      "True\n",
      "False\n",
      "False\n",
      "True\n",
      "False\n",
      "True\n"
     ]
    }
   ],
   "source": [
    "num1 = 2\n",
    "num2 = 4\n",
    "\n",
    "print(num1 < num2)\n",
    "print(num1 > num2)\n",
    "print(num1 >= num2)\n",
    "print(num1 <= num2)\n",
    "print(num1 == num2)\n",
    "print(num1 != num2)"
   ]
  },
  {
   "cell_type": "code",
   "execution_count": 38,
   "id": "8036022d-29de-4299-a837-05bc88dbec8d",
   "metadata": {},
   "outputs": [],
   "source": [
    "age = 25\n",
    "name = \"ella\"\n",
    "height = 155\n",
    "weight = 41\n",
    "footSize = 230\n",
    "glass = True\n",
    "marriage = False\n",
    "gender = \"female\"\n",
    "hobby = \"drawing\""
   ]
  },
  {
   "cell_type": "markdown",
   "id": "62c23dd1-7576-4ff6-ab02-d8899126c45c",
   "metadata": {},
   "source": [
    "### 반지름이 10인 변수를 선언하시고, 해당 반지름을 기준으로 하는 원의 지름, 둘레(2 * 파이 * 반지름), 넓이(파이 * 반지름 제곱) 값을 변수로 선언 및 할당 => 출력!"
   ]
  },
  {
   "cell_type": "code",
   "execution_count": 49,
   "id": "bb4456fb-62c8-4ba7-83b5-166b3667f616",
   "metadata": {},
   "outputs": [
    {
     "name": "stdout",
     "output_type": "stream",
     "text": [
      "1.반지름 : 10\n",
      "2.지름 : 20\n",
      "3.원의 둘레 : 62.830000000000005\n",
      "4.원의 넓이 : 314.15000000000003\n",
      "1.반지름 : 10 2.지름 : 20 3.원의 둘레 : 62.830000000000005 4.원의 넓이 : 314.15000000000003\n",
      "1.반지름 : 10\n"
     ]
    }
   ],
   "source": [
    "radius = 10\n",
    "pi = 3.1415\n",
    "radius2 = radius * 2\n",
    "radius3 = 2 * pi * radius\n",
    "radius4 = pi * radius ** 2\n",
    "\n",
    "print(\"1.반지름 :\", radius)\n",
    "print(\"2.지름 :\", radius2)\n",
    "print(\"3.원의 둘레 :\", radius3)\n",
    "print(\"4.원의 넓이 :\", radius4)\n",
    "\n",
    "print(\"1.반지름 :\", radius, \"2.지름 :\", radius2, \"3.원의 둘레 :\", radius3, \"4.원의 넓이 :\", radius4)\n",
    "print(f\"1.반지름 : {radius}\") # F-string = Formatted string"
   ]
  },
  {
   "cell_type": "code",
   "execution_count": 64,
   "id": "6a4973bb-388d-45ec-a2af-3dae1ac60b27",
   "metadata": {},
   "outputs": [
    {
     "name": "stdin",
     "output_type": "stream",
     "text": [
      "What is you name? ella\n",
      "Where are you from? cheonan\n",
      "man or woman? woman\n",
      "how old are you? 25\n"
     ]
    },
    {
     "name": "stdout",
     "output_type": "stream",
     "text": [
      "<class 'str'>\n",
      "Hi ella from cheonan\n"
     ]
    }
   ],
   "source": [
    "name = input(\"What is you name?\")\n",
    "address = input(\"Where are you from?\")\n",
    "gender = input(\"man or woman?\")\n",
    "age = input(\"how old are you?\")\n",
    "\n",
    "print(type(age))\n",
    "print(f\"Hi {name} from {address}\")"
   ]
  },
  {
   "cell_type": "code",
   "execution_count": 69,
   "id": "e21f31ca-ae9b-4aec-bbf2-7f99c838be9a",
   "metadata": {},
   "outputs": [
    {
     "name": "stdin",
     "output_type": "stream",
     "text": [
      " 10\n",
      " 10\n"
     ]
    },
    {
     "name": "stdout",
     "output_type": "stream",
     "text": [
      "100\n"
     ]
    }
   ],
   "source": [
    "num1 = int(input())\n",
    "num2 = int(input())\n",
    "\n",
    "print(num1 * num2)"
   ]
  },
  {
   "cell_type": "code",
   "execution_count": 79,
   "id": "ea734e0b-9c29-4dbc-aa1b-805065ebc947",
   "metadata": {},
   "outputs": [
    {
     "name": "stdout",
     "output_type": "stream",
     "text": [
      "<class 'float'>\n",
      "<class 'int'>\n",
      "<class 'int'>\n"
     ]
    }
   ],
   "source": [
    "num3 = 6.3\n",
    "num4 = 1\n",
    "\n",
    "print(type(num3))\n",
    "print(type(num4))\n",
    "\n",
    "num5 = int(num3)\n",
    "print(type(num5))"
   ]
  },
  {
   "cell_type": "code",
   "execution_count": 101,
   "id": "9435cac0-9edf-40fd-b262-95f127ed68b3",
   "metadata": {},
   "outputs": [
    {
     "name": "stdout",
     "output_type": "stream",
     "text": [
      "성인이 된 기훈은 이혼한 뒤 대리운전 기사 등을 전전하다 백발의 노모에게 얹혀살고 있었고, \n",
      "하나뿐인 어린 딸 가영의 생일 선물을 살 돈도 어머니에게서 받아내는 비루한 인생을 살고 있었다. \n",
      "이혼 후 가영은 재혼한 전처가 키우고 있었지만, 기훈은 가영의 생일도 챙겨주지 않고\n",
      "어머니의 돈을 몰래 빼내서 경마 도박에 올인하는데 딸의 생일(6월 8일) 날짜를 이용해 베팅하며\n",
      "우여곡절 끝에 456만 원이라는 거금을 얻게 된다.[4] \n",
      "밖으로 나와 가영이와 전화 통화를 하며 즐거워하던 것도 잠시,\n",
      "자신을 찾아온 사채업자 김정래 대표 때문에 황급히 도망치다 누군가와 부딪히고 주머니에 있는 455만 원을 전부 소매치기당하고 만다.\n",
      "기훈은 이를 눈치챌 틈도 없이 도망치다 결국 사채업자들에게 붙잡혀 화장실에서 신체포기각서를 쓰게 된다.[5]\n",
      "어떻게든 만 원이라도 만들어서[6] 인형뽑기로 권총 라이터를 선물했다가[7] 황급히 가져간 뒤에 떡볶이를 사주지만,\n",
      "아버지 노릇도 제대로 못해준 나머지 그저 자괴감만 든다. 결국 \"내년 생일에는 더 잘 챙겨줄게.\"라며 애써 가영을\n",
      "위로하지만 가영이는 아무런 대답을 못하고 머뭇거린다.\n"
     ]
    }
   ],
   "source": [
    "article1 = \"주인공 성기훈의 내레이션과 함께, 어릴 적 기훈이 동네 친구들과의 오징어 게임에서 이기는 장면을 보여준 후 타이틀이 등장하면서 시작한다.\"\n",
    "article2 = \"\"\"성인이 된 기훈은 이혼한 뒤 대리운전 기사 등을 전전하다 백발의 노모에게 얹혀살고 있었고, \n",
    "하나뿐인 어린 딸 가영의 생일 선물을 살 돈도 어머니에게서 받아내는 비루한 인생을 살고 있었다. \n",
    "이혼 후 가영은 재혼한 전처가 키우고 있었지만, 기훈은 가영의 생일도 챙겨주지 않고\n",
    "어머니의 돈을 몰래 빼내서 경마 도박에 올인하는데 딸의 생일(6월 8일) 날짜를 이용해 베팅하며\n",
    "우여곡절 끝에 456만 원이라는 거금을 얻게 된다.[4] \\n밖으로 나와 가영이와 전화 통화를 하며 즐거워하던 것도 잠시,\n",
    "자신을 찾아온 사채업자 김정래 대표 때문에 황급히 도망치다 누군가와 부딪히고 주머니에 있는 455만 원을 전부 소매치기당하고 만다.\n",
    "기훈은 이를 눈치챌 틈도 없이 도망치다 결국 사채업자들에게 붙잡혀 화장실에서 신체포기각서를 쓰게 된다.[5]\n",
    "어떻게든 만 원이라도 만들어서[6] 인형뽑기로 권총 라이터를 선물했다가[7] 황급히 가져간 뒤에 떡볶이를 사주지만,\n",
    "아버지 노릇도 제대로 못해준 나머지 그저 자괴감만 든다. 결국 \"내년 생일에는 더 잘 챙겨줄게.\"라며 애써 가영을\n",
    "위로하지만 가영이는 아무런 대답을 못하고 머뭇거린다.\"\"\"\n",
    "\n",
    "print(article2)"
   ]
  },
  {
   "cell_type": "code",
   "execution_count": 106,
   "id": "c64a2e0f-7a4c-4ba5-bfb8-f0bb7575f079",
   "metadata": {},
   "outputs": [
    {
     "name": "stdout",
     "output_type": "stream",
     "text": [
      "3\n",
      "569\n",
      "0\n",
      "29\n"
     ]
    }
   ],
   "source": [
    "# article2라는 변수를 선언했고, 해당 변수에 문자열 형태의 값을 할당\n",
    "# article2라는 변수에 문자열 형태의 값이 항당됨으로 인해서 이제 article2라는 변수는 문자열 객체라고 부를 수 있게 됨!\n",
    "# 객체는 어떤 타입의 객체이냐에 따라서 사용할 수 있는 메서드 함수(*문자열())가 결정!!\n",
    "\n",
    "print(article2.count(\"기훈\"))\n",
    "print(len(article2))\n",
    "print(article2.find(\"성\")) # \"성\"이라는 문자열은 0번째 인덱스 값을 가지고 있음\n",
    "print(article2.find(\"하\"))\n",
    "\n",
    "# 동의보감 => 동 : 0 // 감 : 3 => 문자열의 전체 총 갯수 - 1 = 마지막번째 문자열의 인덱스 값과 항상 동일"
   ]
  },
  {
   "cell_type": "code",
   "execution_count": 113,
   "id": "32815d50-960c-466a-a461-a547467bfffd",
   "metadata": {},
   "outputs": [
    {
     "name": "stdout",
     "output_type": "stream",
     "text": [
      "Actor Brad Pitt's home in Los Angeles has been ransacked by a trio of thieves.\n",
      "\n",
      "Three suspects broke into the home in Los Feliz late on Wednesday through a front window and \"ransacked the location,\" according to the Los Angeles Police Department.\n",
      "\n",
      "Police did not confirm the home belonged to the Oscar-winning actor, but the address matched that of a home Mr Pitt purchased in 2023.\n",
      "0\n",
      "8\n",
      "Actor ella home in Los Angeles has been ransacked by a trio of thieves.\n",
      "\n",
      "Three suspects broke into the home in Los Feliz late on Wednesday through a front window and \"ransacked the location,\" according to the Los Angeles Police Department.\n",
      "\n",
      "Police did not confirm the home belonged to the Oscar-winning actor, but the address matched that of a home Mr Pitt purchased in 2023.\n"
     ]
    }
   ],
   "source": [
    "article3 = \"\"\"Actor Brad Pitt's home in Los Angeles has been ransacked by a trio of thieves.\n",
    "\n",
    "Three suspects broke into the home in Los Feliz late on Wednesday through a front window and \"ransacked the location,\" according to the Los Angeles Police Department.\n",
    "\n",
    "Police did not confirm the home belonged to the Oscar-winning actor, but the address matched that of a home Mr Pitt purchased in 2023.\"\"\"\n",
    "\n",
    "print(article3)\n",
    "print(article3.find(\"A\"))\n",
    "print(article3.find(\"a\"))\n",
    "print(article3.replace(\"Brad Pitt's\", \"ella\"))"
   ]
  },
  {
   "cell_type": "code",
   "execution_count": 127,
   "id": "069ba77d-ab79-46d4-b44d-c5da2ffc0a42",
   "metadata": {},
   "outputs": [
    {
     "name": "stdout",
     "output_type": "stream",
     "text": [
      "python\n",
      "p\n",
      "y\n",
      "6\n",
      "n\n",
      "py\n",
      "th\n",
      "o\n",
      "yth\n"
     ]
    }
   ],
   "source": [
    "# 파이썬 > 문자열 > 슬라이스 기능\n",
    "\n",
    "text01 = \"python\"\n",
    "print(text01)\n",
    "print(text01[0])\n",
    "print(text01[1])\n",
    "print(len(text01))\n",
    "print(text01[len(text01) - 1])\n",
    "\n",
    "print(text01[0:2])\n",
    "print(text01[2:4])\n",
    "print(text01[-2])\n",
    "print(text01[-5:-2])"
   ]
  },
  {
   "cell_type": "code",
   "execution_count": 134,
   "id": "304f7f9e-676b-4ff6-b0ac-1b221f06c03b",
   "metadata": {},
   "outputs": [
    {
     "name": "stdout",
     "output_type": "stream",
     "text": [
      "14\n",
      "8\n",
      "ella\n"
     ]
    }
   ],
   "source": [
    "some_string = \"   computer   \"\n",
    "print(len(some_string))\n",
    "\n",
    "some_string2 = some_string.strip()\n",
    "print(len(some_string2))\n",
    "\n",
    "some_string3 = \",,,ella,,,\"\n",
    "print(some_string3.strip(\",\"))"
   ]
  },
  {
   "cell_type": "code",
   "execution_count": 140,
   "id": "5133f0be-eb05-4aaf-891e-05d02047d898",
   "metadata": {},
   "outputs": [
    {
     "name": "stdout",
     "output_type": "stream",
     "text": [
      "i have a pen i have a apple\n",
      "i have a pen. i have a apple\n",
      "i have a apple. i have a pen\n",
      "i have a pen. i have a pen\n"
     ]
    }
   ],
   "source": [
    "var01 = \"pen\"\n",
    "var02 = \"apple\"\n",
    "\n",
    "print(f\"i have a {var01} i have a {var02}\")\n",
    "\n",
    "print(\"i have a {}. i have a {}\".format(\"pen\",\"apple\"))\n",
    "print(\"i have a {1}. i have a {0}\".format(\"pen\",\"apple\"))\n",
    "print(\"i have a {0}. i have a {0}\".format(\"pen\",\"apple\"))"
   ]
  },
  {
   "cell_type": "code",
   "execution_count": 141,
   "id": "39446ff8-c25c-4576-9f04-f3a27a8c8d77",
   "metadata": {},
   "outputs": [
    {
     "name": "stdout",
     "output_type": "stream",
     "text": [
      "0.90\n"
     ]
    }
   ],
   "source": [
    "interest = 0.897\n",
    "print(format(interest, \".2f\"))"
   ]
  },
  {
   "cell_type": "code",
   "execution_count": 145,
   "id": "19a4690e-34fe-41be-b3a3-ac359670a46e",
   "metadata": {},
   "outputs": [
    {
     "name": "stdout",
     "output_type": "stream",
     "text": [
      "i have a 100.000000. i have a apple\n"
     ]
    }
   ],
   "source": [
    "print(\"i have a %f. i have a %s\" % (100, \"apple\"))\n",
    "\n",
    "# %s : 문자열 입력\n",
    "# %d : 정수 입력\n",
    "# %f : 부등소수값 입력"
   ]
  }
 ],
 "metadata": {
  "kernelspec": {
   "display_name": "Python 3 (ipykernel)",
   "language": "python",
   "name": "python3"
  },
  "language_info": {
   "codemirror_mode": {
    "name": "ipython",
    "version": 3
   },
   "file_extension": ".py",
   "mimetype": "text/x-python",
   "name": "python",
   "nbconvert_exporter": "python",
   "pygments_lexer": "ipython3",
   "version": "3.12.11"
  }
 },
 "nbformat": 4,
 "nbformat_minor": 5
}
