{
 "cells": [
  {
   "cell_type": "markdown",
   "id": "97e75dfb-70c2-4757-bec2-7e358bf090e9",
   "metadata": {},
   "source": [
    "#### 미션\n",
    "- 공공데이터포털 사이트 > 캠핑장 정보를 api로 찾아옵니다\n",
    "- 100개의 캠핑장 정보만 엑셀에 저장\n",
    "- No / 해당 캠핑장 아이디(contentId) / 캠핑장 이름(facltNm) / 위치(doNm) / 주소(addr1) / 홈페이지(homepage)"
   ]
  },
  {
   "cell_type": "code",
   "execution_count": null,
   "id": "2698770a-5028-4787-ab0b-374f5e0c47dd",
   "metadata": {},
   "outputs": [],
   "source": []
  }
 ],
 "metadata": {
  "kernelspec": {
   "display_name": "Python [conda env:base] *",
   "language": "python",
   "name": "conda-base-py"
  },
  "language_info": {
   "codemirror_mode": {
    "name": "ipython",
    "version": 3
   },
   "file_extension": ".py",
   "mimetype": "text/x-python",
   "name": "python",
   "nbconvert_exporter": "python",
   "pygments_lexer": "ipython3",
   "version": "3.13.5"
  }
 },
 "nbformat": 4,
 "nbformat_minor": 5
}
