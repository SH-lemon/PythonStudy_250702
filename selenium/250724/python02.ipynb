{
 "cells": [
  {
   "cell_type": "code",
   "execution_count": 2,
   "id": "8033e99d-6f9c-40a8-b97a-ac86241b2a84",
   "metadata": {},
   "outputs": [
    {
     "name": "stdout",
     "output_type": "stream",
     "text": [
      "['.ipynb_checkpoints', 'python01.ipynb', 'python02.ipynb']\n"
     ]
    }
   ],
   "source": [
    "import os\n",
    "\n",
    "folder_path = \".\"\n",
    "# file_list = \"250724\"\n",
    "file_list = os.listdir(folder_path)\n",
    "\n",
    "print(file_list)"
   ]
  },
  {
   "cell_type": "code",
   "execution_count": 4,
   "id": "6d16ad88-6197-4772-99b2-8d11371ce042",
   "metadata": {},
   "outputs": [
    {
     "name": "stdout",
     "output_type": "stream",
     "text": [
      "IMGtesting.jpg IMG/testingjpg\n"
     ]
    }
   ],
   "source": [
    "data = \"https://static.coupangcdn.com/image/retail/images/2018/09/18/11/8/6964dd11-7ff2-448d-8462-db07e3ca2a5f.jpg\"\n",
    "\n",
    "filename01 = \"IMG\" + \"testing\" + \".\" + data.split(\".\")[-1]\n",
    "filename02 = f\"IMG/testing{data.split(\".\")[-1]}\"\n",
    "\n",
    "print(filename01, filename02)"
   ]
  },
  {
   "cell_type": "code",
   "execution_count": 11,
   "id": "d6118ed1-4ee6-43a8-b791-98b278a7f2a3",
   "metadata": {},
   "outputs": [],
   "source": [
    "from selenium import webdriver\n",
    "from selenium.webdriver.chrome.service import Service\n",
    "from selenium.webdriver.common.by import By\n",
    "from selenium.webdriver.chrome.options import Options\n",
    "from webdriver_manager.chrome import ChromeDriverManager\n",
    "from selenium.webdriver.common.keys import Keys\n",
    "from urllib.request import urlretrieve\n",
    "import time\n",
    "import pyautogui\n",
    "# 크롬 드라이버 서비스 설정\n",
    "service = Service(\"C:\\\\Users\\\\user\\\\Downloads\\\\chromedriver\\\\chromedriver.exe\")\n",
    "\n",
    "options = Options()\n",
    "options.add_argument(\"--disable-gpu\")\n",
    "options.add_argument(\"--start-maximized\")\n",
    "options.add_argument(\"--user-agent=Mozilla/5.0 (Windows NT 10.0; Win64; x64) AppleWebKit/537.36 (KHTML, like Gecko) Chrome/138.0.0.0 Safari/537.36\")\n",
    "\n",
    "# 브라우저 실행\n",
    "driver = webdriver.Chrome(service=service, options=options)\n",
    "driver.get(\"https://davelee-fun.github.io/\")\n",
    "\n",
    "elements = driver.find_elements(By.CSS_SELECTOR, \"div.maxthumb img\")\n",
    "sources = list()\n",
    "for element in elements :\n",
    "    sources.append(element.get_attribute(\"src\"))\n",
    "\n",
    "for index, source in enumerate(sources) :\n",
    "    urlretrieve(source, f\"IMG\\{str(index)}.{source.split(\".\")[-1]}\")\n",
    "\n",
    "time.sleep(3)\n",
    "\n",
    "driver.quit()"
   ]
  },
  {
   "cell_type": "markdown",
   "id": "f06a8490-391c-44fa-a2ba-6ddfbbe11180",
   "metadata": {},
   "source": [
    "#### HTML 크롤링을 위한 XPATH 기본 포맷 (*형태)\n",
    "- //tagname[@Attribute=\"value\"]\n",
    "- / : 절대경로를 의미 (예: /html/body/div/a): 많이 안 씀\n",
    "- // : 상대경로를 의미, 문서 내에서 바로 검색\n",
    "- //a[@href=\"https://www.google.com\"] : 문서 내 a태그를 찾아오는데, href 속성값으로 구글 닷컴을 찾아와라\n",
    "- (//a)[3] : 문서 내 a태그를 찾아오는데, 세번째 a만 찾아와라 (1번부터 찾아옴)\n",
    "- (//table)[last()] : 문서 내 table 태그 중 마지막 것을 찾아와라\n",
    "- (//a)[position()<3] : 문서 내 a 태그를 찾아오는데, 앞에서부터 2개만 찾아라\n",
    "- //div[@*] 문서 내 div 태그를 찾아오는데, 어떤 속성이든 하나라도 가진 것을 찾아라"
   ]
  },
  {
   "cell_type": "code",
   "execution_count": 14,
   "id": "45c4745c-36c9-47bf-8a23-f9c2470d6266",
   "metadata": {},
   "outputs": [
    {
     "name": "stdout",
     "output_type": "stream",
     "text": [
      "Teddy의 선물 블로그\n"
     ]
    }
   ],
   "source": [
    "from selenium import webdriver\n",
    "from selenium.webdriver.chrome.service import Service\n",
    "from selenium.webdriver.common.by import By\n",
    "from selenium.webdriver.chrome.options import Options\n",
    "from webdriver_manager.chrome import ChromeDriverManager\n",
    "from selenium.webdriver.common.keys import Keys\n",
    "from urllib.request import urlretrieve\n",
    "import time\n",
    "import pyautogui\n",
    "# 크롬 드라이버 서비스 설정\n",
    "service = Service(\"C:\\\\Users\\\\user\\\\Downloads\\\\chromedriver\\\\chromedriver.exe\")\n",
    "\n",
    "options = Options()\n",
    "options.add_argument(\"--disable-gpu\")\n",
    "options.add_argument(\"--start-maximized\")\n",
    "options.add_argument(\"--user-agent=Mozilla/5.0 (Windows NT 10.0; Win64; x64) AppleWebKit/537.36 (KHTML, like Gecko) Chrome/138.0.0.0 Safari/537.36\")\n",
    "\n",
    "# 브라우저 실행\n",
    "driver = webdriver.Chrome(service=service, options=options)\n",
    "driver.get(\"https://davelee-fun.github.io/\")\n",
    "\n",
    "elements = driver.find_element(By.XPATH, \"/html/body/div/div/div/h1\")\n",
    "print(elements.text)\n",
    "\n",
    "time.sleep(3)\n",
    "\n",
    "driver.quit()"
   ]
  },
  {
   "cell_type": "code",
   "execution_count": 15,
   "id": "67525a3d-1234-4dd6-a186-963862f918d2",
   "metadata": {},
   "outputs": [
    {
     "name": "stdout",
     "output_type": "stream",
     "text": [
      "\n",
      "\n",
      "\n",
      "\n",
      "\n",
      "\n",
      "\n",
      "Blog\n",
      "About\n",
      "\n",
      "매트리스커버 관련 상품 추천\n",
      "Teddy\n",
      "\n",
      "\n",
      "여름이불세트 관련 상품 추천\n",
      "Teddy\n",
      "\n",
      "\n",
      "행거도어 관련 상품 추천\n",
      "Teddy\n",
      "\n",
      "\n",
      "매트리스커버 관련 상품 추천\n",
      "Teddy\n",
      "\n",
      "\n",
      "매트리스커버 관련 상품 추천\n",
      "Teddy\n",
      "\n",
      "\n",
      "매트리스커버 관련 상품 추천\n",
      "Teddy\n",
      "\n",
      "\n",
      "매트리스커버 관련 상품 추천\n",
      "Teddy\n",
      "\n",
      "\n",
      "매트리스커버 관련 상품 추천\n",
      "Teddy\n",
      "\n",
      "\n",
      "매트리스커버 관련 상품 추천\n",
      "Teddy\n",
      "\n",
      "\n",
      "매트리스커버 관련 상품 추천\n",
      "Teddy\n",
      "\n",
      "\n",
      "매트리스커버 관련 상품 추천\n",
      "Teddy\n",
      "\n",
      "\n",
      "매트리스커버 관련 상품 추천\n",
      "Teddy\n",
      "\n",
      "\n",
      "행거도어 관련 상품 추천\n",
      "Teddy\n",
      "\n",
      "\n",
      "매트리스커버 관련 상품 추천\n",
      "Teddy\n",
      "\n",
      "\n",
      "매트리스커버 관련 상품 추천\n",
      "Teddy\n",
      "\n",
      "\n",
      "매트리스커버 관련 상품 추천\n",
      "Teddy\n",
      "\n",
      "2\n",
      "3\n",
      "4\n",
      "5\n",
      "6\n",
      "7\n",
      "8\n",
      "Next »\n",
      "가구/인테리어 (90)\n",
      "Mediumish Jekyll Theme\n"
     ]
    }
   ],
   "source": [
    "from selenium import webdriver\n",
    "from selenium.webdriver.chrome.service import Service\n",
    "from selenium.webdriver.common.by import By\n",
    "from selenium.webdriver.chrome.options import Options\n",
    "from webdriver_manager.chrome import ChromeDriverManager\n",
    "from selenium.webdriver.common.keys import Keys\n",
    "from urllib.request import urlretrieve\n",
    "import time\n",
    "import pyautogui\n",
    "# 크롬 드라이버 서비스 설정\n",
    "service = Service(\"C:\\\\Users\\\\user\\\\Downloads\\\\chromedriver\\\\chromedriver.exe\")\n",
    "\n",
    "options = Options()\n",
    "options.add_argument(\"--disable-gpu\")\n",
    "options.add_argument(\"--start-maximized\")\n",
    "options.add_argument(\"--user-agent=Mozilla/5.0 (Windows NT 10.0; Win64; x64) AppleWebKit/537.36 (KHTML, like Gecko) Chrome/138.0.0.0 Safari/537.36\")\n",
    "\n",
    "# 브라우저 실행\n",
    "driver = webdriver.Chrome(service=service, options=options)\n",
    "driver.get(\"https://davelee-fun.github.io/\")\n",
    "\n",
    "elements = driver.find_elements(By.XPATH, \"//*[@href]\")\n",
    "for element in elements :\n",
    "    print(element.text)\n",
    "\n",
    "time.sleep(3)\n",
    "\n",
    "driver.quit()"
   ]
  },
  {
   "cell_type": "code",
   "execution_count": 17,
   "id": "588c7f86-342d-475e-ae91-fc93a6b925f5",
   "metadata": {},
   "outputs": [
    {
     "name": "stdout",
     "output_type": "stream",
     "text": [
      "(왕초보) - 클래스 소개\n",
      "(왕초보) - 블로그 개발 필요한 준비물 준비하기\n",
      "(왕초보) - Github pages 설정해서 블로그 첫 페이지 만들어보기\n",
      "(왕초보) - 초간단 페이지 만들어보기\n",
      "(왕초보) - 이쁘게 테마 적용해보기\n",
      "(왕초보) - 마크다운 기초 이해하고, 실제 나만의 블로그 페이지 만들기\n",
      "(왕초보) - 다양한 마크다운 기법 익혀보며, 나만의 블로그 페이지 꾸며보기\n",
      "(초급) - 강사가 실제 사용하는 자동 프로그램 소개 [2]\n",
      "(초급) - 필요한 프로그램 설치 시연 [5]\n",
      "(초급) - 데이터를 엑셀 파일로 만들기 [9]\n",
      "(초급) -     엑셀 파일 이쁘게! 이쁘게! [8]\n",
      "(초급) -     나대신 주기적으로 파이썬 프로그램 실행하기 [7]\n",
      "(초급) - 파이썬으로 슬랙(slack) 메신저에 글쓰기 [40]\n",
      "(초급) - 웹사이트 변경사항 주기적으로 체크해서, 메신저로 알람주기 [12]\n",
      "(초급) - 네이버 API 사용해서, 블로그에 글쓰기 [42]\n",
      "(중급) - 자동으로 쿠팡파트너스 API 로 가져온 상품 정보, 네이버 블로그/트위터에 홍보하기 [412]\n"
     ]
    }
   ],
   "source": [
    "from selenium import webdriver\n",
    "from selenium.webdriver.chrome.service import Service\n",
    "from selenium.webdriver.common.by import By\n",
    "from selenium.webdriver.chrome.options import Options\n",
    "from webdriver_manager.chrome import ChromeDriverManager\n",
    "from selenium.webdriver.common.keys import Keys\n",
    "from urllib.request import urlretrieve\n",
    "import time\n",
    "import pyautogui\n",
    "# 크롬 드라이버 서비스 설정\n",
    "service = Service(\"C:\\\\Users\\\\user\\\\Downloads\\\\chromedriver\\\\chromedriver.exe\")\n",
    "\n",
    "options = Options()\n",
    "options.add_argument(\"--disable-gpu\")\n",
    "options.add_argument(\"--start-maximized\")\n",
    "options.add_argument(\"--user-agent=Mozilla/5.0 (Windows NT 10.0; Win64; x64) AppleWebKit/537.36 (KHTML, like Gecko) Chrome/138.0.0.0 Safari/537.36\")\n",
    "\n",
    "# 브라우저 실행\n",
    "driver = webdriver.Chrome(service=service, options=options)\n",
    "driver.get(\"https://crawlingtest.netlify.app/\")\n",
    "\n",
    "elements = driver.find_elements(By.XPATH, \"//*[@href]\")\n",
    "for element in elements :\n",
    "    print(element.text)\n",
    "\n",
    "time.sleep(1)\n",
    "\n",
    "driver.quit()"
   ]
  },
  {
   "cell_type": "code",
   "execution_count": 21,
   "id": "d3007669-06b0-4afc-8551-e64fb8b42c47",
   "metadata": {},
   "outputs": [
    {
     "name": "stdout",
     "output_type": "stream",
     "text": [
      "AI\n"
     ]
    }
   ],
   "source": [
    "from selenium import webdriver\n",
    "from selenium.webdriver.chrome.service import Service\n",
    "from selenium.webdriver.common.by import By\n",
    "from selenium.webdriver.chrome.options import Options\n",
    "from webdriver_manager.chrome import ChromeDriverManager\n",
    "from selenium.webdriver.common.keys import Keys\n",
    "from urllib.request import urlretrieve\n",
    "import time\n",
    "import pyautogui\n",
    "# 크롬 드라이버 서비스 설정\n",
    "service = Service(\"C:\\\\Users\\\\user\\\\Downloads\\\\chromedriver\\\\chromedriver.exe\")\n",
    "\n",
    "options = Options()\n",
    "options.add_argument(\"--disable-gpu\")\n",
    "options.add_argument(\"--start-maximized\")\n",
    "options.add_argument(\"--user-agent=Mozilla/5.0 (Windows NT 10.0; Win64; x64) AppleWebKit/537.36 (KHTML, like Gecko) Chrome/138.0.0.0 Safari/537.36\")\n",
    "\n",
    "# 브라우저 실행\n",
    "driver = webdriver.Chrome(service=service, options=options)\n",
    "driver.get(\"https://divjason.github.io/sellenium-test/\")\n",
    "\n",
    "elements = driver.find_elements(By.XPATH, \"(//div[@class='skill-name'])[3]\")\n",
    "for element in elements :\n",
    "    print(element.text)\n",
    "\n",
    "time.sleep(1)\n",
    "\n",
    "driver.quit()"
   ]
  },
  {
   "cell_type": "code",
   "execution_count": 22,
   "id": "056f7bea-58be-4cc6-94e7-de13a01d67cb",
   "metadata": {},
   "outputs": [
    {
     "name": "stdout",
     "output_type": "stream",
     "text": [
      "6.16 ~ 7.31 파이썬과 데이터과학 첫걸음 (IT 기본기 익히기) 중급\n"
     ]
    }
   ],
   "source": [
    "from selenium import webdriver\n",
    "from selenium.webdriver.chrome.service import Service\n",
    "from selenium.webdriver.common.by import By\n",
    "from selenium.webdriver.chrome.options import Options\n",
    "from webdriver_manager.chrome import ChromeDriverManager\n",
    "from selenium.webdriver.common.keys import Keys\n",
    "from urllib.request import urlretrieve\n",
    "import time\n",
    "import pyautogui\n",
    "# 크롬 드라이버 서비스 설정\n",
    "service = Service(\"C:\\\\Users\\\\user\\\\Downloads\\\\chromedriver\\\\chromedriver.exe\")\n",
    "\n",
    "options = Options()\n",
    "options.add_argument(\"--disable-gpu\")\n",
    "options.add_argument(\"--start-maximized\")\n",
    "options.add_argument(\"--user-agent=Mozilla/5.0 (Windows NT 10.0; Win64; x64) AppleWebKit/537.36 (KHTML, like Gecko) Chrome/138.0.0.0 Safari/537.36\")\n",
    "\n",
    "# 브라우저 실행\n",
    "driver = webdriver.Chrome(service=service, options=options)\n",
    "driver.get(\"https://crawlingtest.netlify.app/\")\n",
    "\n",
    "element = driver.find_element(By.XPATH, \"(//tr[last()])\")\n",
    "print(element.text)\n",
    "\n",
    "time.sleep(1)\n",
    "\n",
    "driver.quit()"
   ]
  },
  {
   "cell_type": "code",
   "execution_count": 24,
   "id": "72d16ec1-b317-484f-a366-26658ed8c906",
   "metadata": {},
   "outputs": [
    {
     "name": "stdout",
     "output_type": "stream",
     "text": [
      "일정 커리큘럼 타이틀 난이도\n"
     ]
    }
   ],
   "source": [
    "from selenium import webdriver\n",
    "from selenium.webdriver.chrome.service import Service\n",
    "from selenium.webdriver.common.by import By\n",
    "from selenium.webdriver.chrome.options import Options\n",
    "from webdriver_manager.chrome import ChromeDriverManager\n",
    "from selenium.webdriver.common.keys import Keys\n",
    "from urllib.request import urlretrieve\n",
    "import time\n",
    "import pyautogui\n",
    "# 크롬 드라이버 서비스 설정\n",
    "service = Service(\"C:\\\\Users\\\\user\\\\Downloads\\\\chromedriver\\\\chromedriver.exe\")\n",
    "\n",
    "options = Options()\n",
    "options.add_argument(\"--disable-gpu\")\n",
    "options.add_argument(\"--start-maximized\")\n",
    "options.add_argument(\"--user-agent=Mozilla/5.0 (Windows NT 10.0; Win64; x64) AppleWebKit/537.36 (KHTML, like Gecko) Chrome/138.0.0.0 Safari/537.36\")\n",
    "\n",
    "# 브라우저 실행\n",
    "driver = webdriver.Chrome(service=service, options=options)\n",
    "driver.get(\"https://crawlingtest.netlify.app/\")\n",
    "\n",
    "element = driver.find_element(By.XPATH, \"(//tr)[position()<2]\")\n",
    "# element = driver.find_element(By.XPATH, \"(//tr)[1]\")\n",
    "print(element.text)\n",
    "\n",
    "time.sleep(1)\n",
    "\n",
    "driver.quit()"
   ]
  },
  {
   "cell_type": "code",
   "execution_count": 25,
   "id": "d7534fbc-e450-458d-aaaf-eabe95f11003",
   "metadata": {},
   "outputs": [
    {
     "name": "stdout",
     "output_type": "stream",
     "text": [
      "선물하기 좋은 선물을 고르고 골라서 소개하는 블로그입니다.\n"
     ]
    }
   ],
   "source": [
    "from selenium import webdriver\n",
    "from selenium.webdriver.chrome.service import Service\n",
    "from selenium.webdriver.common.by import By\n",
    "from selenium.webdriver.chrome.options import Options\n",
    "from webdriver_manager.chrome import ChromeDriverManager\n",
    "from selenium.webdriver.common.keys import Keys\n",
    "from urllib.request import urlretrieve\n",
    "import time\n",
    "import pyautogui\n",
    "# 크롬 드라이버 서비스 설정\n",
    "service = Service(\"C:\\\\Users\\\\user\\\\Downloads\\\\chromedriver\\\\chromedriver.exe\")\n",
    "\n",
    "options = Options()\n",
    "options.add_argument(\"--disable-gpu\")\n",
    "options.add_argument(\"--start-maximized\")\n",
    "options.add_argument(\"--user-agent=Mozilla/5.0 (Windows NT 10.0; Win64; x64) AppleWebKit/537.36 (KHTML, like Gecko) Chrome/138.0.0.0 Safari/537.36\")\n",
    "\n",
    "# 브라우저 실행\n",
    "driver = webdriver.Chrome(service=service, options=options)\n",
    "driver.get(\"https://davelee-fun.github.io/\")\n",
    "\n",
    "elements = driver.find_elements(By.XPATH, \"(//p)[@*]\")\n",
    "for element in elements :\n",
    "    print(element.text)\n",
    "time.sleep(1)\n",
    "\n",
    "driver.quit()"
   ]
  },
  {
   "cell_type": "code",
   "execution_count": 32,
   "id": "6b4ddd35-ba6c-4425-8154-17bfadc16cf5",
   "metadata": {},
   "outputs": [
    {
     "name": "stdout",
     "output_type": "stream",
     "text": [
      "(초급) - 강사가 실제 사용하는 자동 프로그램 소개 [2]\n",
      "(초급) - 필요한 프로그램 설치 시연 [5]\n",
      "(초급) - 데이터를 엑셀 파일로 만들기 [9]\n",
      "(초급) -     엑셀 파일 이쁘게! 이쁘게! [8]\n",
      "(초급) -     나대신 주기적으로 파이썬 프로그램 실행하기 [7]\n",
      "(초급) - 파이썬으로 슬랙(slack) 메신저에 글쓰기 [40]\n",
      "(초급) - 웹사이트 변경사항 주기적으로 체크해서, 메신저로 알람주기 [12]\n",
      "(초급) - 네이버 API 사용해서, 블로그에 글쓰기 [42]\n",
      "(중급) - 자동으로 쿠팡파트너스 API 로 가져온 상품 정보, 네이버 블로그/트위터에 홍보하기 [412]\n"
     ]
    }
   ],
   "source": [
    "from selenium import webdriver\n",
    "from selenium.webdriver.chrome.service import Service\n",
    "from selenium.webdriver.common.by import By\n",
    "from selenium.webdriver.chrome.options import Options\n",
    "from webdriver_manager.chrome import ChromeDriverManager\n",
    "from selenium.webdriver.common.keys import Keys\n",
    "from urllib.request import urlretrieve\n",
    "import time\n",
    "import pyautogui\n",
    "# 크롬 드라이버 서비스 설정\n",
    "service = Service(\"C:\\\\Users\\\\user\\\\Downloads\\\\chromedriver\\\\chromedriver.exe\")\n",
    "\n",
    "options = Options()\n",
    "options.add_argument(\"--disable-gpu\")\n",
    "options.add_argument(\"--start-maximized\")\n",
    "options.add_argument(\"--user-agent=Mozilla/5.0 (Windows NT 10.0; Win64; x64) AppleWebKit/537.36 (KHTML, like Gecko) Chrome/138.0.0.0 Safari/537.36\")\n",
    "\n",
    "# 브라우저 실행\n",
    "driver = webdriver.Chrome(service=service, options=options)\n",
    "driver.get(\"https://crawlingtest.netlify.app/\")\n",
    "\n",
    "# elements = driver.find_elements(By.XPATH, \"(//*)[@class='course']\")\n",
    "elements = driver.find_elements(By.XPATH, \"//ul[@id='dev_course_list']/*[contains(@class, 'course')]\")\n",
    "for element in elements :\n",
    "    print(element.text)\n",
    "\n",
    "time.sleep(1)\n",
    "\n",
    "driver.quit()"
   ]
  },
  {
   "cell_type": "code",
   "execution_count": 34,
   "id": "dce3690f-2829-41f7-990f-e39b732d324a",
   "metadata": {},
   "outputs": [
    {
     "name": "stdout",
     "output_type": "stream",
     "text": [
      "일정\n",
      "커리큘럼 타이틀\n",
      "난이도\n",
      "5.1 ~ 6.15\n",
      "나만의 엣지있는 블로그 사이트 만들기 (취미로 익히는 IT)\n",
      "초급\n",
      "6.16 ~ 7.31\n",
      "파이썬과 데이터과학 첫걸음 (IT 기본기 익히기)\n",
      "중급\n"
     ]
    }
   ],
   "source": [
    "from selenium import webdriver\n",
    "from selenium.webdriver.chrome.service import Service\n",
    "from selenium.webdriver.common.by import By\n",
    "from selenium.webdriver.chrome.options import Options\n",
    "from webdriver_manager.chrome import ChromeDriverManager\n",
    "from selenium.webdriver.common.keys import Keys\n",
    "from urllib.request import urlretrieve\n",
    "import time\n",
    "import pyautogui\n",
    "# 크롬 드라이버 서비스 설정\n",
    "service = Service(\"C:\\\\Users\\\\user\\\\Downloads\\\\chromedriver\\\\chromedriver.exe\")\n",
    "\n",
    "options = Options()\n",
    "options.add_argument(\"--disable-gpu\")\n",
    "options.add_argument(\"--start-maximized\")\n",
    "options.add_argument(\"--user-agent=Mozilla/5.0 (Windows NT 10.0; Win64; x64) AppleWebKit/537.36 (KHTML, like Gecko) Chrome/138.0.0.0 Safari/537.36\")\n",
    "\n",
    "# 브라우저 실행\n",
    "driver = webdriver.Chrome(service=service, options=options)\n",
    "driver.get(\"https://crawlingtest.netlify.app/\")\n",
    "\n",
    "# elements = driver.find_elements(By.XPATH, \"(//*)[@class='course']\")\n",
    "elements = driver.find_elements(By.XPATH, \"//td\")\n",
    "for element in elements :\n",
    "    print(element.text)\n",
    "\n",
    "time.sleep(1)\n",
    "\n",
    "driver.quit()"
   ]
  },
  {
   "cell_type": "code",
   "execution_count": 40,
   "id": "0db15136-f3cb-446b-8aad-4e6d7c746b54",
   "metadata": {},
   "outputs": [
    {
     "name": "stdout",
     "output_type": "stream",
     "text": [
      "(초급) - 강사가 실제 사용하는 자동 프로그램 소개 [2]\n",
      "(초급) - 필요한 프로그램 설치 시연 [5]\n"
     ]
    }
   ],
   "source": [
    "from selenium import webdriver\n",
    "from selenium.webdriver.chrome.service import Service\n",
    "from selenium.webdriver.common.by import By\n",
    "from selenium.webdriver.chrome.options import Options\n",
    "from webdriver_manager.chrome import ChromeDriverManager\n",
    "from selenium.webdriver.common.keys import Keys\n",
    "from urllib.request import urlretrieve\n",
    "import time\n",
    "import pyautogui\n",
    "# 크롬 드라이버 서비스 설정\n",
    "service = Service(\"C:\\\\Users\\\\user\\\\Downloads\\\\chromedriver\\\\chromedriver.exe\")\n",
    "\n",
    "options = Options()\n",
    "options.add_argument(\"--disable-gpu\")\n",
    "options.add_argument(\"--start-maximized\")\n",
    "options.add_argument(\"--user-agent=Mozilla/5.0 (Windows NT 10.0; Win64; x64) AppleWebKit/537.36 (KHTML, like Gecko) Chrome/138.0.0.0 Safari/537.36\")\n",
    "\n",
    "# 브라우저 실행\n",
    "driver = webdriver.Chrome(service=service, options=options)\n",
    "driver.get(\"https://crawlingtest.netlify.app/\")\n",
    "\n",
    "elements = driver.find_elements(By.XPATH, \"//*[contains(@class, 'course') and contains(@class, 'maintitle')]\")\n",
    "for element in elements :\n",
    "    print(element.text)\n",
    "\n",
    "time.sleep(1)\n",
    "\n",
    "driver.quit()"
   ]
  },
  {
   "cell_type": "code",
   "execution_count": 43,
   "id": "b2310ed5-b305-4542-9aa7-c9b4a7b1a5c7",
   "metadata": {},
   "outputs": [
    {
     "name": "stdout",
     "output_type": "stream",
     "text": [
      "뉴스: 머신러닝 강좌가 나왔어요~~~\n"
     ]
    }
   ],
   "source": [
    "from selenium import webdriver\n",
    "from selenium.webdriver.chrome.service import Service\n",
    "from selenium.webdriver.common.by import By\n",
    "from selenium.webdriver.chrome.options import Options\n",
    "from webdriver_manager.chrome import ChromeDriverManager\n",
    "from selenium.webdriver.common.keys import Keys\n",
    "from urllib.request import urlretrieve\n",
    "import time\n",
    "import pyautogui\n",
    "# 크롬 드라이버 서비스 설정\n",
    "service = Service(\"C:\\\\Users\\\\user\\\\Downloads\\\\chromedriver\\\\chromedriver.exe\")\n",
    "\n",
    "options = Options()\n",
    "options.add_argument(\"--disable-gpu\")\n",
    "options.add_argument(\"--start-maximized\")\n",
    "options.add_argument(\"--user-agent=Mozilla/5.0 (Windows NT 10.0; Win64; x64) AppleWebKit/537.36 (KHTML, like Gecko) Chrome/138.0.0.0 Safari/537.36\")\n",
    "\n",
    "# 브라우저 실행\n",
    "driver = webdriver.Chrome(service=service, options=options)\n",
    "driver.get(\"https://divjason.github.io/sellenium-test/\")\n",
    "\n",
    "# elements = driver.find_elements(By.XPATH, \"//*[@class = 'news']\")\n",
    "elements = driver.find_elements(By.XPATH, \"//*[contains(@class, 'news')]\")\n",
    "for element in elements :\n",
    "    print(element.text)\n",
    "\n",
    "time.sleep(1)\n",
    "\n",
    "driver.quit()"
   ]
  }
 ],
 "metadata": {
  "kernelspec": {
   "display_name": "Python [conda env:base] *",
   "language": "python",
   "name": "conda-base-py"
  },
  "language_info": {
   "codemirror_mode": {
    "name": "ipython",
    "version": 3
   },
   "file_extension": ".py",
   "mimetype": "text/x-python",
   "name": "python",
   "nbconvert_exporter": "python",
   "pygments_lexer": "ipython3",
   "version": "3.13.5"
  }
 },
 "nbformat": 4,
 "nbformat_minor": 5
}
