{
 "cells": [
  {
   "cell_type": "code",
   "execution_count": 5,
   "id": "1e4c4be2-75cc-4560-bfb0-e3969199236d",
   "metadata": {},
   "outputs": [
    {
     "name": "stdout",
     "output_type": "stream",
     "text": [
      "실제 사이트는 https://megaitlab.com/ 입니다\n",
      "본 페이지는 로그인된 페이지입니다!\n",
      "뉴스: 머신러닝 강좌가 나왔어요~~~\n"
     ]
    }
   ],
   "source": [
    "from selenium import webdriver\n",
    "from selenium.webdriver.chrome.service import Service\n",
    "from selenium.webdriver.common.by import By\n",
    "from selenium.webdriver.chrome.options import Options\n",
    "from webdriver_manager.chrome import ChromeDriverManager\n",
    "from selenium.webdriver.common.keys import Keys\n",
    "from urllib.request import urlretrieve\n",
    "import time\n",
    "import pyautogui\n",
    "# 크롬 드라이버 서비스 설정\n",
    "service = Service(\"C:\\\\Users\\\\user\\\\Downloads\\\\chromedriver\\\\chromedriver.exe\")\n",
    "\n",
    "options = Options()\n",
    "options.add_argument(\"--disable-gpu\")\n",
    "options.add_argument(\"--start-maximized\")\n",
    "options.add_argument(\"--user-agent=Mozilla/5.0 (Windows NT 10.0; Win64; x64) AppleWebKit/537.36 (KHTML, like Gecko) Chrome/138.0.0.0 Safari/537.36\")\n",
    "\n",
    "# 브라우저 실행\n",
    "driver = webdriver.Chrome(service=service, options=options)\n",
    "driver.get(\"https://divjason.github.io/sellenium-test/\")\n",
    "\n",
    "ID = driver.find_element(By.XPATH, \"//input[@id='username']\")\n",
    "ID.clear()\n",
    "ID.send_keys(\"error@error.com\")\n",
    "\n",
    "PW = driver.find_element(By.XPATH, \"//input[@id='password']\")\n",
    "PW.clear()\n",
    "PW.send_keys(\"1234\")\n",
    "\n",
    "LogIn = driver.find_element(By.XPATH, \"//input[@type='submit']\")\n",
    "LogIn.click()\n",
    "\n",
    "element = driver.find_element(By.XPATH, \"//div[@class='message']\")\n",
    "\n",
    "print(element.text)\n",
    "\n",
    "time.sleep(1)\n",
    "\n",
    "driver.quit()"
   ]
  },
  {
   "cell_type": "code",
   "execution_count": 14,
   "id": "6e701e6c-9239-4d6a-8e60-7d87c133e664",
   "metadata": {},
   "outputs": [
    {
     "name": "stdout",
     "output_type": "stream",
     "text": [
      "실제 사이트는 https://megaitlab.com/ 입니다\n",
      "뉴스: 머신러닝 강좌가 나왔어요~~~\n"
     ]
    }
   ],
   "source": [
    "from selenium import webdriver\n",
    "from selenium.webdriver.chrome.service import Service\n",
    "from selenium.webdriver.common.by import By\n",
    "from selenium.webdriver.chrome.options import Options\n",
    "from webdriver_manager.chrome import ChromeDriverManager\n",
    "from selenium.webdriver.common.keys import Keys\n",
    "from urllib.request import urlretrieve\n",
    "import time\n",
    "import pyautogui\n",
    "# 크롬 드라이버 서비스 설정\n",
    "service = Service(\"C:\\\\Users\\\\user\\\\Downloads\\\\chromedriver\\\\chromedriver.exe\")\n",
    "\n",
    "options = Options()\n",
    "options.add_argument(\"--disable-gpu\")\n",
    "options.add_argument(\"--start-maximized\")\n",
    "options.add_argument(\"--user-agent=Mozilla/5.0 (Windows NT 10.0; Win64; x64) AppleWebKit/537.36 (KHTML, like Gecko) Chrome/138.0.0.0 Safari/537.36\")\n",
    "\n",
    "# 브라우저 실행\n",
    "driver = webdriver.Chrome(service=service, options=options)\n",
    "driver.get(\"https://divjason.github.io/sellenium-test/index_login.html?username=234&password=234\")\n",
    "\n",
    "LogOut = driver.find_element(By.XPATH, \"//input[@type='submit']\")\n",
    "LogOut.click()\n",
    "time.sleep(5)\n",
    "element = driver.find_element(By.XPATH, \"//div[@class='message']\")\n",
    "print(element.text)\n",
    "\n",
    "driver.quit()"
   ]
  }
 ],
 "metadata": {
  "kernelspec": {
   "display_name": "Python [conda env:base] *",
   "language": "python",
   "name": "conda-base-py"
  },
  "language_info": {
   "codemirror_mode": {
    "name": "ipython",
    "version": 3
   },
   "file_extension": ".py",
   "mimetype": "text/x-python",
   "name": "python",
   "nbconvert_exporter": "python",
   "pygments_lexer": "ipython3",
   "version": "3.13.5"
  }
 },
 "nbformat": 4,
 "nbformat_minor": 5
}
