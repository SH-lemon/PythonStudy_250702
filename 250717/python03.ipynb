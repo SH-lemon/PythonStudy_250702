{
 "cells": [
  {
   "cell_type": "code",
   "execution_count": 15,
   "id": "6d55d64f-08de-4982-a107-bc1d9d872dcf",
   "metadata": {},
   "outputs": [
    {
     "name": "stdout",
     "output_type": "stream",
     "text": [
      "\n",
      "(초급) - 강사가 실제 사용하는 자동 프로그램 소개 \n",
      "\n",
      "\n",
      "(초급) - 필요한 프로그램 설치 시연 \n",
      "\n",
      "\n",
      "(초급) - 데이터를 엑셀 파일로 만들기 \n",
      "\n",
      "\n",
      "(초급) -     엑셀 파일 이쁘게! 이쁘게! \n",
      "\n",
      "\n",
      "(초급) -     나대신 주기적으로 파이썬 프로그램\n",
      "          실행하기 \n",
      "\n",
      "\n",
      "(초급) - 파이썬으로 슬랙(slack) 메신저에 글쓰기 \n",
      "\n",
      "\n",
      "(초급) - 웹사이트 변경사항 주기적으로 체크해서, 메신저로 알람주기\n",
      "          \n",
      "\n",
      "\n",
      "(초급) - 네이버 API 사용해서, 블로그에 글쓰기 \n",
      "\n",
      "\n",
      "(중급) - 자동으로 쿠팡파트너스 API 로 가져온 상품 정보, 네이버\n",
      "          블로그/트위터에 홍보하기 \n",
      "\n"
     ]
    }
   ],
   "source": [
    "from urllib.request import urlopen\n",
    "from bs4 import BeautifulSoup\n",
    "import re # 정규표현법\n",
    "\n",
    "res = urlopen(\"https://crawlingtest.netlify.app/\")\n",
    "soup = BeautifulSoup(res, \"html.parser\")\n",
    "\n",
    "datas = soup.select(\"ul#dev_course_list > li.course\")\n",
    "for data in datas :\n",
    "    print(re.sub(\"\\[[0-9]+\\]\", \"\", data.get_text())) # escape sequence => \\n \\t\n",
    "    # print(data.get_text().strip())"
   ]
  },
  {
   "cell_type": "code",
   "execution_count": 49,
   "id": "2be37129-1717-49a5-94c0-90c0a03d8690",
   "metadata": {},
   "outputs": [
    {
     "ename": "_IncompleteInputError",
     "evalue": "incomplete input (1560306028.py, line 11)",
     "output_type": "error",
     "traceback": [
      "\u001b[1;36m  Cell \u001b[1;32mIn[49], line 11\u001b[1;36m\u001b[0m\n\u001b[1;33m    # print(regex.findall(each_row[3].value))\u001b[0m\n\u001b[1;37m                                             ^\u001b[0m\n\u001b[1;31m_IncompleteInputError\u001b[0m\u001b[1;31m:\u001b[0m incomplete input\n"
     ]
    }
   ],
   "source": [
    "import openpyxl\n",
    "import re\n",
    "\n",
    "regex = re.compile(\" [A-Za-z]+\\.\")\n",
    "\n",
    "work_book = openpyxl.load_workbook(\"train.xlsx\")\n",
    "work_sheet = work_book.active\n",
    "\n",
    "for each_row in work_sheet.rows :\n",
    "    # print(each_row[3].value)\n",
    "    # print(regex.findall(each_row[3].value))"
   ]
  },
  {
   "cell_type": "markdown",
   "id": "2e476cce-37f9-44b5-a93e-130c12fa9d06",
   "metadata": {},
   "source": [
    "#### 정규표현식 문법 리스트\n",
    "- [0-9] = \\d : 숫자를 찾음\n",
    "- [^0-9] = \\D : 숫자가 아닌 형태의 값을 찾을 때 (*문자, 특수문자, 공백 등)\n",
    "- [\\t\\n] = \\s : 탭과 같은 여백, 줄바꿈 등의 문자를 찾을 때\n",
    "- [^\\t\\n] = \\S : 탭과 같은 여백, 줄바꿈 등의 문자 외의 값을 찾을 때\n",
    "- [A-Za-z0-9] = \\w : 문자 혹은 숫자를 찾음\n",
    "- [^A-Za-z0-9] = \\W : 문자 혹은 숫자 외의 값을 찾음"
   ]
  },
  {
   "cell_type": "markdown",
   "id": "dc4e46ce-855e-4c80-88cc-4f98ec14cafe",
   "metadata": {},
   "source": [
    "#### 정규표현식 문법 리스트 -2\n",
    "- Dot = . : 문자 1개를 의미\n",
    "- ? : 앞에 있는 문자가 0번 또는 1번 표시되는 패턴 = 없어도 되고, 있다면 한 번만 있어야 하는 패턴\n",
    "- `+ : 앞에 있는 문자가 1번 또는 그 이상 반복되는 패턴\n",
    "- `* : 앞에 있는 문자가 0번 또는 그 이상 반복되는 패턴"
   ]
  },
  {
   "cell_type": "markdown",
   "id": "064fe574-cdd8-4a7c-a8f8-0f430f6080f0",
   "metadata": {},
   "source": [
    "#### 정규표현식 문법 리스트 -3\n",
    "- {n} : 앞에 있는 문자가 n번 반복되는 패턴\n",
    "- {m, n} : 앞에 있는 문자가 m번 반복되는 패턴부터 n번 반복되는 패턴까지"
   ]
  },
  {
   "cell_type": "markdown",
   "id": "ac118bee-cfe8-4ca5-9d92-226998ee2291",
   "metadata": {},
   "source": [
    "#### 정규표현식 문법 리스트 -4\n",
    "- [] : 대괄호 내부에 입력한 값을 \"또는\"의 형태로 찾아올 수 있는 패턴\n",
    "- ex) [abc] : a 또는 b 또는 c 중 하나가 들어가 있는 패턴\n",
    "- ex) [abcdefg]\n",
    "- \"-\" : 패턴 내 모든 문자를 일일이 다 기입할 수 없기 때문에 사용\n",
    "- [a-zA-Z] : 소문자 알파벳 전체 또는 대문자 알파벳 전체"
   ]
  },
  {
   "cell_type": "markdown",
   "id": "b41ed2c4-b010-4758-a8e6-22ab194ec21e",
   "metadata": {},
   "source": [
    "#### 정규표현식 문법 리스트 -5\n",
    "- 한글만 정규표현식 패턴으로 정의하고 싶다 : [가-힣]"
   ]
  },
  {
   "cell_type": "markdown",
   "id": "84782aaf-9b16-44c8-9507-5886045a5baa",
   "metadata": {},
   "source": [
    "#### 정규표현식 문법 리스트 -6\n",
    "- match : 문자열의 처음부터 끝까지 정규표현식과 매칭되어지는 문자만을 찾아서 리턴/완전 일치해야 나옴\n",
    "- search : 문자열의 처음부터 끝까지 정규표현식과 매칭되어지는 문자가 있다면 찾아서 리턴\n",
    "- findall함수: 정규표현식 패턴과 매칭되는 모든 문자열을 리스트 자료형태로 리턴"
   ]
  },
  {
   "cell_type": "code",
   "execution_count": 24,
   "id": "bd392338-f9c7-4720-b565-a5b63a2f8f8a",
   "metadata": {},
   "outputs": [
    {
     "data": {
      "text/plain": [
       "'Dave'"
      ]
     },
     "execution_count": 24,
     "metadata": {},
     "output_type": "execute_result"
    }
   ],
   "source": [
    "import re\n",
    "\n",
    "string = \"(Dave)\"\n",
    "re.sub(\"[\\W]\",\"\",string)"
   ]
  },
  {
   "cell_type": "code",
   "execution_count": 33,
   "id": "85aad433-b5f1-4454-8c02-529b817aefef",
   "metadata": {},
   "outputs": [
    {
     "data": {
      "text/plain": [
       "<re.Match object; span=(4, 7), match='DIA'>"
      ]
     },
     "execution_count": 33,
     "metadata": {},
     "output_type": "execute_result"
    }
   ],
   "source": [
    "import re\n",
    "\n",
    "pattern = re.compile(\"D.A\")\n",
    "\n",
    "# pattern.search(\"DNA\")\n",
    "# pattern.search(\"DCCA\")\n",
    "# pattern.search(\"DA\")\n",
    "pattern.search(\"d0A DIA 0011\")"
   ]
  },
  {
   "cell_type": "code",
   "execution_count": 37,
   "id": "e316de8e-e1ff-4914-a5c4-8fda40c68302",
   "metadata": {},
   "outputs": [
    {
     "data": {
      "text/plain": [
       "<re.Match object; span=(12, 14), match='DA'>"
      ]
     },
     "execution_count": 37,
     "metadata": {},
     "output_type": "execute_result"
    }
   ],
   "source": [
    "import re\n",
    "\n",
    "pattern01 = re.compile(\"D?A\")\n",
    "\n",
    "pattern01.search(\"A\")\n",
    "pattern01.search(\"DA\")\n",
    "pattern01.search(\"DDA\")\n",
    "pattern01.search(\"DDDDDDDDDDDDDA\")"
   ]
  },
  {
   "cell_type": "code",
   "execution_count": 41,
   "id": "21c99027-75ba-4e2b-9111-7986ec620850",
   "metadata": {},
   "outputs": [
    {
     "data": {
      "text/plain": [
       "<re.Match object; span=(0, 1), match='A'>"
      ]
     },
     "execution_count": 41,
     "metadata": {},
     "output_type": "execute_result"
    }
   ],
   "source": [
    "import re\n",
    "\n",
    "pattern02 = re.compile(\"D*A\")\n",
    "pattern02.search(\"DDDDDA\")\n",
    "pattern02.search(\"A\")"
   ]
  },
  {
   "cell_type": "code",
   "execution_count": 44,
   "id": "8597fb90-746a-47b2-9edc-c011c7e2a5fe",
   "metadata": {},
   "outputs": [],
   "source": [
    "import re\n",
    "\n",
    "pattern03 = re.compile(\"D+A\")\n",
    "pattern03.search(\"DDDA\")\n",
    "pattern03.search(\"DA\")\n",
    "pattern03.search(\"A\")"
   ]
  },
  {
   "cell_type": "code",
   "execution_count": 47,
   "id": "8b05057c-f2bc-4016-a5e4-f3abe92c6929",
   "metadata": {},
   "outputs": [],
   "source": [
    "import re\n",
    "pattern05 = re.compile(\"AD{2,6}A\")\n",
    "pattern05.search(\"ADDA\")\n",
    "pattern05.search(\"ADDDDDDDDDDA\")"
   ]
  },
  {
   "cell_type": "code",
   "execution_count": 50,
   "id": "34807bd8-f454-4177-be42-923079577563",
   "metadata": {},
   "outputs": [],
   "source": [
    "import re\n",
    "\n",
    "pattern06 = re.compile(\"[abcdefgABCDEFG]\")\n",
    "\n",
    "pattern06.search(\"a1234\")\n",
    "pattern06.search(\"z1234\")"
   ]
  },
  {
   "cell_type": "code",
   "execution_count": 51,
   "id": "dc2ee0ad-10f3-4972-890e-5a3e903c9c6b",
   "metadata": {},
   "outputs": [
    {
     "data": {
      "text/plain": [
       "<re.Match object; span=(0, 1), match='1'>"
      ]
     },
     "execution_count": 51,
     "metadata": {},
     "output_type": "execute_result"
    }
   ],
   "source": [
    "import re\n",
    "\n",
    "pattern07 = re.compile(\"[a-zA-Z0-9]\")\n",
    "\n",
    "pattern07.search(\"1234~~~\")"
   ]
  },
  {
   "cell_type": "code",
   "execution_count": 52,
   "id": "1c9b0841-1359-4f95-aadb-686e8cbf0e12",
   "metadata": {},
   "outputs": [
    {
     "data": {
      "text/plain": [
       "<re.Match object; span=(0, 1), match='~'>"
      ]
     },
     "execution_count": 52,
     "metadata": {},
     "output_type": "execute_result"
    }
   ],
   "source": [
    "import re\n",
    "\n",
    "pattern08 = re.compile(\"[^a-zA-Z0-9]\")\n",
    "\n",
    "pattern08.search(\"~~~~~3243243~~~~~\")"
   ]
  },
  {
   "cell_type": "code",
   "execution_count": 53,
   "id": "31ea2b36-ee18-48d7-81bb-d09bb93a6b12",
   "metadata": {},
   "outputs": [
    {
     "data": {
      "text/plain": [
       "<re.Match object; span=(8, 9), match='귤'>"
      ]
     },
     "execution_count": 53,
     "metadata": {},
     "output_type": "execute_result"
    }
   ],
   "source": [
    "import re\n",
    "\n",
    "pattern09 = re.compile(\"[가-힣]\")\n",
    "\n",
    "pattern09.search(\"so many 귤 in this little shop\")"
   ]
  },
  {
   "cell_type": "code",
   "execution_count": 64,
   "id": "bd83a2c1-bc35-45d5-8917-850959a41ee5",
   "metadata": {},
   "outputs": [
    {
     "name": "stdout",
     "output_type": "stream",
     "text": [
      "<re.Match object; span=(1, 4), match='ave'>\n",
      "None\n"
     ]
    }
   ],
   "source": [
    "import re\n",
    "\n",
    "pattern10 = re.compile(\"[a-z]+\")\n",
    "\n",
    "matched = pattern10.match(\"Dave\")\n",
    "print(pattern10.search(\"Dave\"))\n",
    "print(matched)"
   ]
  },
  {
   "cell_type": "code",
   "execution_count": 66,
   "id": "1b789757-891d-4268-b8ad-73dff6a37cd1",
   "metadata": {},
   "outputs": [
    {
     "name": "stdout",
     "output_type": "stream",
     "text": [
      "['Game', 'of', 'Life', 'in', 'Python']\n"
     ]
    }
   ],
   "source": [
    "import re\n",
    "pattern11 = re.compile(\"[a-zA-Z]+\")\n",
    "findalled = pattern11.findall(\"Game of Life in Python\")\n",
    "print(findalled)"
   ]
  },
  {
   "cell_type": "code",
   "execution_count": 73,
   "id": "67e134c4-1d90-42a9-b07f-a105bab6a509",
   "metadata": {},
   "outputs": [
    {
     "name": "stdout",
     "output_type": "stream",
     "text": [
      "정규표현식에 맞는 문자열이 없음\n"
     ]
    }
   ],
   "source": [
    "import re\n",
    "\n",
    "pattern12 = re.compile(\"[a-z]+\")\n",
    "\n",
    "findalled01 = pattern12.findall(\"GAME\")\n",
    "\n",
    "if len(findalled01) > 0 :\n",
    "    print(\"정규표현식에 맞는 문자열이 존재함\")\n",
    "else: \n",
    "    print(\"정규표현식에 맞는 문자열이 없음\")"
   ]
  },
  {
   "cell_type": "code",
   "execution_count": 79,
   "id": "4622e383-662e-4cbc-888f-dbb4736b9937",
   "metadata": {},
   "outputs": [
    {
     "name": "stdout",
     "output_type": "stream",
     "text": [
      "['python', 'java']\n"
     ]
    }
   ],
   "source": [
    "import re\n",
    "\n",
    "pattern13 = re.compile(\":\")\n",
    "splited = pattern13.split(\"python:java\")\n",
    "print(splited)"
   ]
  },
  {
   "cell_type": "code",
   "execution_count": 81,
   "id": "af108486-69bd-4cd5-a509-7df7fc24ce3a",
   "metadata": {},
   "outputs": [
    {
     "name": "stdout",
     "output_type": "stream",
     "text": [
      "['python ', ' java']\n"
     ]
    }
   ],
   "source": [
    "import re\n",
    "\n",
    "pattern14 = re.compile(\"[A-Z]{2}\")\n",
    "\n",
    "splited01 = pattern14.split(\"python VS java\")\n",
    "print(splited01)"
   ]
  },
  {
   "cell_type": "markdown",
   "id": "96d0e3e3-aa42-4d6f-b467-87614df1a8ca",
   "metadata": {},
   "source": [
    "#### 정규표현식 미션\n",
    "- 801210 - 1011323이라는 주민번호를 확인 후 가운데 -를 *로 교체하여 출력해주세요."
   ]
  },
  {
   "cell_type": "code",
   "execution_count": 90,
   "id": "2a60e297-e37d-4773-b4b7-0a8cbd1dbbaf",
   "metadata": {},
   "outputs": [
    {
     "name": "stdout",
     "output_type": "stream",
     "text": [
      "801210*1011323\n"
     ]
    }
   ],
   "source": [
    "import re\n",
    "\n",
    "word = \"801210-1011323\"\n",
    "# print(re.sub(\"-\",\"*\",word))\n",
    "pattern15 = re.compile(\"-\")\n",
    "subed = pattern15.sub(\"*\",word)\n",
    "print(subed)"
   ]
  },
  {
   "cell_type": "markdown",
   "id": "028df04f-05c8-4e03-9e89-9f285f656636",
   "metadata": {},
   "source": [
    "#### 전달해드린 엑셀파일을 주피터 노트북으로 가져오시고, B열에 입력된 각각의 주민등록번호의 뒷자리 8자리를 모두 *표시해주세요. 그리고 주피터 노트북에 출력해주세요."
   ]
  },
  {
   "cell_type": "code",
   "execution_count": 108,
   "id": "43e1a835-e61c-450d-a36f-f34e7200f8af",
   "metadata": {},
   "outputs": [
    {
     "ename": "AttributeError",
     "evalue": "'re.Pattern' object has no attribute 'strip'",
     "output_type": "error",
     "traceback": [
      "\u001b[1;31m---------------------------------------------------------------------------\u001b[0m",
      "\u001b[1;31mAttributeError\u001b[0m                            Traceback (most recent call last)",
      "Cell \u001b[1;32mIn[108], line 12\u001b[0m\n\u001b[0;32m     10\u001b[0m \u001b[38;5;28;01mfor\u001b[39;00m each_row \u001b[38;5;129;01min\u001b[39;00m ws\u001b[38;5;241m.\u001b[39mrows :\n\u001b[0;32m     11\u001b[0m     num \u001b[38;5;241m=\u001b[39m each_row[\u001b[38;5;241m1\u001b[39m]\u001b[38;5;241m.\u001b[39mvalue\n\u001b[1;32m---> 12\u001b[0m     \u001b[38;5;28mprint\u001b[39m(pattern01\u001b[38;5;241m.\u001b[39mstrip(num))\n",
      "\u001b[1;31mAttributeError\u001b[0m: 're.Pattern' object has no attribute 'strip'"
     ]
    }
   ],
   "source": [
    "import re\n",
    "import openpyxl\n",
    "\n",
    "wb = openpyxl.load_workbook(\"data_kr.xlsx\")\n",
    "ws = wb.active\n",
    "\n",
    "pattern00 = re.compile(\"-\")\n",
    "pattern01 = re.compile(\"^[가-힣]\")\n",
    "\n",
    "for each_row in ws.rows :\n",
    "    num = each_row[1].value\n",
    "    print(sub."
   ]
  }
 ],
 "metadata": {
  "kernelspec": {
   "display_name": "Python [conda env:base] *",
   "language": "python",
   "name": "conda-base-py"
  },
  "language_info": {
   "codemirror_mode": {
    "name": "ipython",
    "version": 3
   },
   "file_extension": ".py",
   "mimetype": "text/x-python",
   "name": "python",
   "nbconvert_exporter": "python",
   "pygments_lexer": "ipython3",
   "version": "3.13.5"
  }
 },
 "nbformat": 4,
 "nbformat_minor": 5
}
