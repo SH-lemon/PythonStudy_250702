{
 "cells": [
  {
   "cell_type": "markdown",
   "id": "11e549e1-d111-4d1a-bb1f-e2f87f14e2c8",
   "metadata": {},
   "source": [
    "### 문자열 관련 함수 리스트\n",
    "- count: 문자열에 있는 특정 문자 개수 세기\n",
    "- index: 문자열에 있는 특정 문자의 인덱스 위치를 알려주기\n",
    "- find: 문자열에 있는 특정 문자의 인덱스를 찾아오긴 하나, 만약 존재하지 않는다면 에러를 발생시키지 않고 -1을 발생시킨다.\n",
    "- join: 문자열 사이에 다른 문자를 끼워 넣기\n",
    "- strip: 문자열 앞뒤의 공백을 지움\n",
    "- upper: 소문자를 대문자로 변경\n",
    "- lower: 대문자를 소문자로 변경\n",
    "- split: 문자열 내 특정 문자를 기준으로 나누기\n",
    "- replace: 문자열 중 일부를 다른 문자로 바꾸거나 삭제하기"
   ]
  },
  {
   "cell_type": "code",
   "execution_count": 1,
   "id": "d0e1bfb1-3d9d-4389-b37a-6113c49a4f1a",
   "metadata": {},
   "outputs": [
    {
     "data": {
      "text/plain": [
       "1"
      ]
     },
     "execution_count": 1,
     "metadata": {},
     "output_type": "execute_result"
    }
   ],
   "source": [
    "data = \"Dave David\"\n",
    "data.count(\"Dave\")"
   ]
  },
  {
   "cell_type": "code",
   "execution_count": 7,
   "id": "913ea28e-0b83-47fe-af6b-cd1f260fba04",
   "metadata": {},
   "outputs": [
    {
     "data": {
      "text/plain": [
       "11"
      ]
     },
     "execution_count": 7,
     "metadata": {},
     "output_type": "execute_result"
    }
   ],
   "source": [
    "string = \"Dave ID is dave\"\n",
    "string.index(\"d\")"
   ]
  },
  {
   "cell_type": "code",
   "execution_count": 10,
   "id": "98d5d71a-878b-4c54-ad85-3f1b78384f2c",
   "metadata": {},
   "outputs": [
    {
     "name": "stdout",
     "output_type": "stream",
     "text": [
      "x는 string01 문자열 객체 안에 없습니다.\n"
     ]
    }
   ],
   "source": [
    "string01 = \"Dave ID is dave\"\n",
    "string01.find(\"x\")\n",
    "string01.find(\"a\")\n",
    "\n",
    "if string01.find(\"x\") == -1 :\n",
    "    print(\"x는 string01 문자열 객체 안에 없습니다.\")"
   ]
  },
  {
   "cell_type": "code",
   "execution_count": 13,
   "id": "59970269-4588-4f4c-bf9e-3564c5bf4534",
   "metadata": {},
   "outputs": [
    {
     "data": {
      "text/plain": [
       "'1,2,3,4,5'"
      ]
     },
     "execution_count": 13,
     "metadata": {},
     "output_type": "execute_result"
    }
   ],
   "source": [
    "string02 = \"12345\"\n",
    "comma = \",\"\n",
    "\n",
    "comma.join(string02)"
   ]
  },
  {
   "cell_type": "code",
   "execution_count": 18,
   "id": "8c912299-4510-4c33-b7a9-aaf72dfa1b1a",
   "metadata": {},
   "outputs": [
    {
     "data": {
      "text/plain": [
       "'              Dave04'"
      ]
     },
     "execution_count": 18,
     "metadata": {},
     "output_type": "execute_result"
    }
   ],
   "source": [
    "data01 = \"                    Dave        \"\n",
    "data01.strip()\n",
    "\n",
    "data02 = \"      Dave02\"\n",
    "data02.lstrip()\n",
    "\n",
    "data03 = \"              Dave04  \"\n",
    "data03.rstrip()"
   ]
  },
  {
   "cell_type": "code",
   "execution_count": 27,
   "id": "6f52c767-d806-4028-8d21-a9af41564514",
   "metadata": {},
   "outputs": [
    {
     "data": {
      "text/plain": [
       "'Dave'"
      ]
     },
     "execution_count": 27,
     "metadata": {},
     "output_type": "execute_result"
    }
   ],
   "source": [
    "string03 = \"          9999999999999999999999999999999(Dave)8888888888888      \"\n",
    "string03.strip(\" 98()\")"
   ]
  },
  {
   "cell_type": "code",
   "execution_count": 30,
   "id": "993cfb78-24d4-463c-8cc9-5426ec135933",
   "metadata": {},
   "outputs": [
    {
     "data": {
      "text/plain": [
       "'DAVE ID IS DAVE'"
      ]
     },
     "execution_count": 30,
     "metadata": {},
     "output_type": "execute_result"
    }
   ],
   "source": [
    "string04 = \"Dave ID is dave\"\n",
    "string04.upper()"
   ]
  },
  {
   "cell_type": "code",
   "execution_count": 31,
   "id": "b62e1db2-22ce-48ab-a67a-b1433367fa0c",
   "metadata": {},
   "outputs": [
    {
     "data": {
      "text/plain": [
       "'dave id is dave'"
      ]
     },
     "execution_count": 31,
     "metadata": {},
     "output_type": "execute_result"
    }
   ],
   "source": [
    "string05 = \"Dave ID is dave\"\n",
    "string05.lower()"
   ]
  },
  {
   "cell_type": "code",
   "execution_count": 41,
   "id": "b01f8659-b3a0-45a9-b779-3a20c0aae398",
   "metadata": {},
   "outputs": [
    {
     "data": {
      "text/plain": [
       "['Dave', 'goes', 'to', 'Korea']"
      ]
     },
     "execution_count": 41,
     "metadata": {},
     "output_type": "execute_result"
    }
   ],
   "source": [
    "string06 = \"Dave goes to Korea\"\n",
    "string06.split(\" \")[3][0]\n",
    "string06.split()[3][0]\n",
    "\n",
    "string07 = \"Dave/goes/to/Korea\"\n",
    "string07.split(\"/\")"
   ]
  },
  {
   "cell_type": "markdown",
   "id": "5647edff-ec66-49ee-98f8-811aabb7f75c",
   "metadata": {},
   "source": [
    "#### 문자열 \"10, 11, 12, 13, 14\" 해당 값을 리스트 자료형태 [10, 11, 12, 13, 14]로 변환시켜보세요"
   ]
  },
  {
   "cell_type": "code",
   "execution_count": 46,
   "id": "b03629ea-2784-4c0b-b8d6-039cafc1833d",
   "metadata": {},
   "outputs": [],
   "source": [
    "strnum = \"10, 11, 12, 13, 14\"\n",
    "st1 = strnum.strip().split(\",\")"
   ]
  },
  {
   "cell_type": "code",
   "execution_count": 44,
   "id": "63d9599c-0aee-420e-a78c-e4067872835a",
   "metadata": {},
   "outputs": [
    {
     "name": "stdout",
     "output_type": "stream",
     "text": [
      "[10, 11, 12, 13, 14]\n"
     ]
    }
   ],
   "source": [
    "string = \"10,11,12,13,14\"\n",
    "split_string = string.split(\",\")\n",
    "\n",
    "for index, split_item in enumerate(split_string) :\n",
    "    split_string[index] = int(split_item)\n",
    "print(split_string)"
   ]
  },
  {
   "cell_type": "code",
   "execution_count": 50,
   "id": "934a166b-451c-46c9-8680-00d436662212",
   "metadata": {},
   "outputs": [
    {
     "data": {
      "text/plain": [
       "'David'"
      ]
     },
     "execution_count": 50,
     "metadata": {},
     "output_type": "execute_result"
    }
   ],
   "source": [
    "string08 = \"Dave goes to Korea\"\n",
    "string08.replace(\"Dave\",\"David\")\n",
    "\n",
    "string09 = \"(David)\"\n",
    "string09.replace(\"(\",\"\")\n",
    "\n",
    "string10 = \"(David)\"\n",
    "string10.replace(\"()\",\"\")\n",
    "\n",
    "string11 = \"(David)\"\n",
    "# string12 = string11.replace(\"(\",\"\")\n",
    "# string12.replace(\")\",\"\")\n",
    "\n",
    "#Method Chaining\n",
    "string13 = string11.replace(\"(\",\"\").replace(\")\",\"\")\n",
    "string13"
   ]
  }
 ],
 "metadata": {
  "kernelspec": {
   "display_name": "Python [conda env:base] *",
   "language": "python",
   "name": "conda-base-py"
  },
  "language_info": {
   "codemirror_mode": {
    "name": "ipython",
    "version": 3
   },
   "file_extension": ".py",
   "mimetype": "text/x-python",
   "name": "python",
   "nbconvert_exporter": "python",
   "pygments_lexer": "ipython3",
   "version": "3.13.5"
  }
 },
 "nbformat": 4,
 "nbformat_minor": 5
}
