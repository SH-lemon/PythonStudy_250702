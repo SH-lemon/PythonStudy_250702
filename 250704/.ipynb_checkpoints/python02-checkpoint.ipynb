{
 "cells": [
  {
   "cell_type": "markdown",
   "id": "76995344-94e0-413c-8d00-a7d5cd156173",
   "metadata": {},
   "source": [
    "#### 웹사이트 데이터를 크롤링해오자!!!\n",
    "- 크롤링: 마치 동물의 발톱 혹은 갈퀴로 어떤 정보를 잡아채오는 개념과 같음.\n",
    "- 크롤링은 파이썬에서만 할 수 있나요? 파이썬이 아닌 언어로도 충분히 예전부터 할 수 있는 기능.\n",
    "- 파이썬은 문법이 타 언어 대비 굉장히 심플하고 간소화됨 => 초심자가 학습하기에 매우 적절\n",
    "- 꼭 굳이 개발자가 아니더라도, 비개발자가 보다 쉽고 간편하고 빠르게 개발언어를 활용해서 크롤링을 할 수 있도록 도와주는 거의 유일한 언어\n",
    "- 왜 다른언어는 복잡할까? => 파이썬 언어는 내부 혹은 외부 라이브러리 소스를 가져다가 사용할 수 있는 기회 혹은 상황이 정말 많음!!!\n",
    "- beautifulsoup4 : 아래 requests를 통해서 찾아온 html 문서를 파싱(parsing)\n",
    "- requests : 크롤링해오고자 하는 웹사이트를 요청 => html 문서 안에 있는 코드를 가져오는 역할"
   ]
  },
  {
   "cell_type": "code",
   "execution_count": 1,
   "id": "23a64a90-3d17-4b65-b65f-4a82e0307323",
   "metadata": {},
   "outputs": [
    {
     "name": "stdout",
     "output_type": "stream",
     "text": [
      "Defaulting to user installation because normal site-packages is not writeableNote: you may need to restart the kernel to use updated packages.\n",
      "\n",
      "Requirement already satisfied: requests in c:\\programdata\\anaconda3\\lib\\site-packages (2.32.3)\n",
      "Requirement already satisfied: charset-normalizer<4,>=2 in c:\\programdata\\anaconda3\\lib\\site-packages (from requests) (3.3.2)\n",
      "Requirement already satisfied: idna<4,>=2.5 in c:\\programdata\\anaconda3\\lib\\site-packages (from requests) (3.7)\n",
      "Requirement already satisfied: urllib3<3,>=1.21.1 in c:\\programdata\\anaconda3\\lib\\site-packages (from requests) (2.3.0)\n",
      "Requirement already satisfied: certifi>=2017.4.17 in c:\\programdata\\anaconda3\\lib\\site-packages (from requests) (2025.6.15)\n"
     ]
    }
   ],
   "source": [
    "pip install requests"
   ]
  },
  {
   "cell_type": "code",
   "execution_count": 2,
   "id": "3cd039f4-28a9-4eeb-abfd-92080af2d805",
   "metadata": {},
   "outputs": [
    {
     "name": "stdout",
     "output_type": "stream",
     "text": [
      "Defaulting to user installation because normal site-packages is not writeable\n",
      "Requirement already satisfied: beautifulsoup4 in c:\\programdata\\anaconda3\\lib\\site-packages (4.12.3)\n",
      "Requirement already satisfied: soupsieve>1.2 in c:\\programdata\\anaconda3\\lib\\site-packages (from beautifulsoup4) (2.5)\n",
      "Note: you may need to restart the kernel to use updated packages.\n"
     ]
    }
   ],
   "source": [
    "pip install beautifulsoup4"
   ]
  },
  {
   "cell_type": "code",
   "execution_count": 3,
   "id": "2b48708f-4268-4e02-ae4d-ae26a2f9a5b2",
   "metadata": {},
   "outputs": [
    {
     "name": "stdout",
     "output_type": "stream",
     "text": [
      "Defaulting to user installation because normal site-packages is not writeable\n",
      "Requirement already satisfied: requests in c:\\programdata\\anaconda3\\lib\\site-packages (2.32.3)\n",
      "Requirement already satisfied: beautifulsoup4 in c:\\programdata\\anaconda3\\lib\\site-packages (4.12.3)\n",
      "Requirement already satisfied: charset-normalizer<4,>=2 in c:\\programdata\\anaconda3\\lib\\site-packages (from requests) (3.3.2)\n",
      "Requirement already satisfied: idna<4,>=2.5 in c:\\programdata\\anaconda3\\lib\\site-packages (from requests) (3.7)\n",
      "Requirement already satisfied: urllib3<3,>=1.21.1 in c:\\programdata\\anaconda3\\lib\\site-packages (from requests) (2.3.0)\n",
      "Requirement already satisfied: certifi>=2017.4.17 in c:\\programdata\\anaconda3\\lib\\site-packages (from requests) (2025.6.15)\n",
      "Requirement already satisfied: soupsieve>1.2 in c:\\programdata\\anaconda3\\lib\\site-packages (from beautifulsoup4) (2.5)\n",
      "Note: you may need to restart the kernel to use updated packages.\n"
     ]
    }
   ],
   "source": [
    "pip install requests beautifulsoup4"
   ]
  },
  {
   "cell_type": "code",
   "execution_count": 15,
   "id": "a36b7357-f38d-4b2d-9c69-940196cafccb",
   "metadata": {},
   "outputs": [
    {
     "name": "stdout",
     "output_type": "stream",
     "text": [
      "1번째 상품: 상품카테고리 => 매트리스커버 관련 상품 추천 / 상품이미지 => https://static.coupangcdn.com/image/retail/images/2017/10/11/16/6/bf3b2157-528d-4b24-9991-b601a24f4c6f.jpg\n",
      "2번째 상품: 상품카테고리 => 매트리스커버 관련 상품 추천 / 상품이미지 => https://static.coupangcdn.com/image/product/image/vendoritem/2018/11/28/3647689009/d72a996d-1e4e-42be-a23c-f9f6872214bb.jpg\n",
      "3번째 상품: 상품카테고리 => 매트리스커버 관련 상품 추천 / 상품이미지 => https://static.coupangcdn.com/image/product/image/vendoritem/2019/06/11/3361297461/699c49cc-5f9f-4927-ab26-b184f90c1571.jpg\n",
      "4번째 상품: 상품카테고리 => 매트리스커버 관련 상품 추천 / 상품이미지 => https://static.coupangcdn.com/image/retail/images/2018/10/26/16/9/c6dfa004-442c-4f48-9ff1-b76d81bae046.jpg\n",
      "5번째 상품: 상품카테고리 => 매트리스커버 관련 상품 추천 / 상품이미지 => https://static.coupangcdn.com/image/retail/images/2019/04/01/22/6/f9566f49-cf8c-48dd-bc73-b543a3f47f62.jpg\n",
      "6번째 상품: 상품카테고리 => 매트리스커버 관련 상품 추천 / 상품이미지 => https://static.coupangcdn.com/image/retail/images/12859794410743-0ab1b2fe-1cd4-4599-b38a-3fb22f3bf620.jpg\n",
      "7번째 상품: 상품카테고리 => 매트리스커버 관련 상품 추천 / 상품이미지 => https://static.coupangcdn.com/image/retail/images/2019/03/28/19/3/2d9f9b52-0cc9-424f-8639-8f298429d244.jpg\n",
      "8번째 상품: 상품카테고리 => 매트리스커버 관련 상품 추천 / 상품이미지 => https://static.coupangcdn.com/image/retail/images/2017/10/19/15/4/95b93d25-7014-458a-a2a5-9b93189cdcef.jpg\n",
      "9번째 상품: 상품카테고리 => 행거도어 관련 상품 추천 / 상품이미지 => https://static.coupangcdn.com/image/retail/images/2019/07/29/12/3/704931d7-4dbd-4af7-9247-856831bdc61e.jpg\n",
      "10번째 상품: 상품카테고리 => 매트리스커버 관련 상품 추천 / 상품이미지 => https://static.coupangcdn.com/image/retail/images/2017/10/13/10/3/8379ffd3-63be-4da4-98f9-895aaa0c9b52.jpg\n",
      "11번째 상품: 상품카테고리 => 매트리스커버 관련 상품 추천 / 상품이미지 => https://static.coupangcdn.com/image/retail/images/2018/09/17/19/4/329dbb2f-a0ad-44d4-af46-1eea0c548b67.jpg\n",
      "12번째 상품: 상품카테고리 => 매트리스커버 관련 상품 추천 / 상품이미지 => https://static.coupangcdn.com/image/retail/images/339338956730835-5cbe0521-2a03-4fe2-8eb7-7a7ae9ff187f.jpg\n"
     ]
    }
   ],
   "source": [
    "import requests\n",
    "from bs4 import BeautifulSoup\n",
    "\n",
    "url = \"https://davelee-fun.github.io\"\n",
    "response = requests.get(url)\n",
    "soup = BeautifulSoup(response.text, \"html.parser\")\n",
    "\n",
    "cards = soup.select(\"div.maxthumb img\")  #직계자식: div.maxthumb > img. 얘는 후손이다.\n",
    "card_data = []\n",
    "\n",
    "for idx, card in enumerate(cards, start = 1) :\n",
    "    title = card.get(\"alt\",\"제목 없음\").strip()\n",
    "    img_url = card.get(\"src\",\"\").strip()\n",
    "\n",
    "    card_info = (idx, title, img_url)\n",
    "    card_data.append(card_info)\n",
    "\n",
    "for item in card_data :\n",
    "    print(f\"{item[0]}번째 상품: 상품카테고리 => {item[1]} / 상품이미지 => {item[2]}\")"
   ]
  },
  {
   "cell_type": "code",
   "execution_count": null,
   "id": "4e8777e0-96ea-487f-a855-368b6e1bd092",
   "metadata": {},
   "outputs": [],
   "source": []
  }
 ],
 "metadata": {
  "kernelspec": {
   "display_name": "Python [conda env:base] *",
   "language": "python",
   "name": "conda-base-py"
  },
  "language_info": {
   "codemirror_mode": {
    "name": "ipython",
    "version": 3
   },
   "file_extension": ".py",
   "mimetype": "text/x-python",
   "name": "python",
   "nbconvert_exporter": "python",
   "pygments_lexer": "ipython3",
   "version": "3.13.5"
  }
 },
 "nbformat": 4,
 "nbformat_minor": 5
}
