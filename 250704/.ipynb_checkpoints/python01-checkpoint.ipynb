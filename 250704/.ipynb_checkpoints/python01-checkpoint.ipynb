{
 "cells": [
  {
   "cell_type": "markdown",
   "id": "65304627-3744-41c3-8566-c80dd1c143ac",
   "metadata": {},
   "source": [
    "#### 자료구조\n",
    "\n",
    "- list => 하나의 그룹 안에 순번을 매겨서 값을 저장해놓은 상태(단일 값을 수정, 삭제 등 변경 허용)\n",
    "- tuple => 하나의 그룹 안에 순번을 매겨서 값을 저장해놓은 상태(단일 값을 수정, 삭제 등 변경 불가)\n",
    "- dictionary => 사전(단어: 뜻, 형태, 예시 등등 세부정보) => key(단어) & value(해당단어에 대한 의미) => 속성(property)\n",
    "- CRUD => 웹사이트 구현정도 // 프로그램의 난이도 // 고급언어인지, 저급언어인지 등 구분\n",
    "- Create // Read // Update // Delete => 고급 언어로 난이도가 상단계 포지션\n",
    "- 프로그래밍언어는 절대 정답이 없음 => 예제 문제 => 제가 문제를 해결한 방법 // 수강생 분들이 문제를 해결한 방법 => x\n",
    "- 문자열 => 숫자 => 문법 해결\n",
    "- 문자열 => 문법 해결\n",
    "- 세상에 듣도보도 못한 어떤 문법체계를 가져와서 문제를 해결\n",
    "- 개발영역 => 결곽가 도출된다면 모두 답 => 어떤 답이 효과적 ㅣㅣ 효율이 있는가?\n",
    "- 만들고자 하는 프로그램이 지향하는 것이 무엇이냐? => 안정성 // 속도 // 메모리?\n",
    "- 시간 => 빠른시간 내 코드를 처리할 수 있는가\n",
    "- 어떤 코드가 실행되는데 있어서 얼만큼 빨리 처리하는가 => 빅오메가 // 빅세타 // 빅오 개념 => 하드웨어 => 컴퓨터의 성능차이\n",
    "- 빅오 시간 체크 => 가장 많은 시간을 차지하는 것 하나를 체크 => 반복문"
   ]
  },
  {
   "cell_type": "code",
   "execution_count": 24,
   "id": "f148bbc8-cf16-4231-9873-cb0db3ce0da0",
   "metadata": {},
   "outputs": [
    {
     "data": {
      "text/plain": [
       "{'name': 'David'}"
      ]
     },
     "execution_count": 24,
     "metadata": {},
     "output_type": "execute_result"
    }
   ],
   "source": [
    "dict1 = {\"name\": \"David\"}\n",
    "dict1"
   ]
  },
  {
   "cell_type": "code",
   "execution_count": 16,
   "id": "d89e5518-c910-411b-8984-3e504af1234a",
   "metadata": {},
   "outputs": [
    {
     "data": {
      "text/plain": [
       "{'korean': 95, 'math': 100, 'science': 80}"
      ]
     },
     "execution_count": 16,
     "metadata": {},
     "output_type": "execute_result"
    }
   ],
   "source": [
    "dict2 = {\"korean\":95,\"math\":100,\"science\":80}\n",
    "dict2"
   ]
  },
  {
   "cell_type": "code",
   "execution_count": 1,
   "id": "1014eeb1-aae9-4603-9647-64f6e6ca623c",
   "metadata": {},
   "outputs": [
    {
     "name": "stdout",
     "output_type": "stream",
     "text": [
      "<class 'dict'>\n"
     ]
    }
   ],
   "source": [
    "# list1 = [] ㅣ [1,2] ㅣ list()\n",
    "# tupl1 = () ㅣ (1,2) ㅣ tuple()\n",
    "\n",
    "dict1 = {} #{} => set 자료구조일수도있음\n",
    "dict2 = dict()\n",
    "\n",
    "print(type(dict2))"
   ]
  },
  {
   "cell_type": "code",
   "execution_count": 10,
   "id": "727f5261-a54e-4fe4-adb2-23f090a51717",
   "metadata": {},
   "outputs": [],
   "source": [
    "data_dict= {\"한국\":\"KR\",\"일본\":\"JP\",\"중국\":\"CN\"}"
   ]
  },
  {
   "cell_type": "code",
   "execution_count": 11,
   "id": "6a905814-c18b-4f93-857f-ffd12f13dd81",
   "metadata": {},
   "outputs": [
    {
     "data": {
      "text/plain": [
       "{'한국': 'KR', '일본': 'JP', '중국': 'CN'}"
      ]
     },
     "execution_count": 11,
     "metadata": {},
     "output_type": "execute_result"
    }
   ],
   "source": [
    "data_dict"
   ]
  },
  {
   "cell_type": "code",
   "execution_count": 21,
   "id": "9e77da39-9f54-442f-9d77-0f40b9fbf8d9",
   "metadata": {},
   "outputs": [
    {
     "data": {
      "text/plain": [
       "'KR'"
      ]
     },
     "execution_count": 21,
     "metadata": {},
     "output_type": "execute_result"
    }
   ],
   "source": [
    "data_dict[\"한국\"]"
   ]
  },
  {
   "cell_type": "code",
   "execution_count": 23,
   "id": "f7bb05bc-51bd-4d87-a286-d084b92ab676",
   "metadata": {},
   "outputs": [
    {
     "data": {
      "text/plain": [
       "{'한국': 'KR', '중국': 'CN'}"
      ]
     },
     "execution_count": 23,
     "metadata": {},
     "output_type": "execute_result"
    }
   ],
   "source": [
    "del data_dict[\"일본\"]\n",
    "\n",
    "data_dict"
   ]
  },
  {
   "cell_type": "code",
   "execution_count": 30,
   "id": "9f67fabf-5b9c-477f-8659-208dcde4cf19",
   "metadata": {},
   "outputs": [],
   "source": [
    "data_dict[\"미국\"] = \"US\""
   ]
  },
  {
   "cell_type": "code",
   "execution_count": 31,
   "id": "c8369c47-72e6-428c-8206-64d03aae3e5b",
   "metadata": {},
   "outputs": [
    {
     "data": {
      "text/plain": [
       "{'한국': 'KR', '중국': 'CN', '미국': 'US'}"
      ]
     },
     "execution_count": 31,
     "metadata": {},
     "output_type": "execute_result"
    }
   ],
   "source": [
    "data_dict"
   ]
  },
  {
   "cell_type": "code",
   "execution_count": 33,
   "id": "f73fba7f-6dd7-4558-80e7-46d4c55a6dfd",
   "metadata": {},
   "outputs": [
    {
     "data": {
      "text/plain": [
       "{'한국': 'KR', '중국': 'CN', '미국': 'USA'}"
      ]
     },
     "execution_count": 33,
     "metadata": {},
     "output_type": "execute_result"
    }
   ],
   "source": [
    "data_dict[\"미국\"] = \"USA\"\n",
    "\n",
    "data_dict"
   ]
  },
  {
   "cell_type": "code",
   "execution_count": 34,
   "id": "5253c83e-7b84-44c9-a616-8a4d54b971a4",
   "metadata": {},
   "outputs": [
    {
     "name": "stdout",
     "output_type": "stream",
     "text": [
      "dict_keys(['한국', '중국', '미국'])\n",
      "<class 'dict_keys'>\n",
      "dict_values(['KR', 'CN', 'USA'])\n",
      "<class 'dict_values'>\n",
      "dict_items([('한국', 'KR'), ('중국', 'CN'), ('미국', 'USA')])\n",
      "<class 'dict_items'>\n"
     ]
    }
   ],
   "source": [
    "keys = data_dict.keys()\n",
    "print(keys)\n",
    "print(type(keys))\n",
    "\n",
    "values = data_dict.values()\n",
    "print(values)\n",
    "print(type(values))\n",
    "\n",
    "items = data_dict.items()\n",
    "print(items) # 튜플 방식으로 나옴\n",
    "print(type(items))"
   ]
  },
  {
   "cell_type": "code",
   "execution_count": 29,
   "id": "902813b6-0617-4359-b8db-ac53b46c1f3c",
   "metadata": {},
   "outputs": [
    {
     "name": "stdout",
     "output_type": "stream",
     "text": [
      "한국\n",
      "중국\n"
     ]
    }
   ],
   "source": [
    "for key in keys :\n",
    "    print(key)"
   ]
  },
  {
   "cell_type": "code",
   "execution_count": 35,
   "id": "d0c46692-490b-4737-9e35-2b7d1940366a",
   "metadata": {},
   "outputs": [
    {
     "name": "stdout",
     "output_type": "stream",
     "text": [
      "('한국', 'KR')\n",
      "('중국', 'CN')\n",
      "('미국', 'USA')\n"
     ]
    }
   ],
   "source": [
    "for item in items :\n",
    "    print(item)"
   ]
  },
  {
   "cell_type": "markdown",
   "id": "a3c33a86-3731-4ccd-8e66-02e007222a0b",
   "metadata": {},
   "source": [
    "#### 리스트"
   ]
  },
  {
   "cell_type": "markdown",
   "id": "fe68f818-26e7-43c2-a267-bc60842da15a",
   "metadata": {},
   "source": [
    "- HTML 문서상에 제목이 여러개 있는 경우"
   ]
  },
  {
   "cell_type": "code",
   "execution_count": 36,
   "id": "90099257-703b-49ed-97e0-6e94fd6d2062",
   "metadata": {},
   "outputs": [
    {
     "name": "stdout",
     "output_type": "stream",
     "text": [
      "뉴스A\n",
      "뉴스B\n",
      "뉴스C\n"
     ]
    }
   ],
   "source": [
    "titles = [\"뉴스A\", \"뉴스B\", \"뉴스C\"]\n",
    "for title in titles:\n",
    "    print(title)"
   ]
  },
  {
   "cell_type": "markdown",
   "id": "43cfd67d-91e6-422b-b472-fb6cf4194290",
   "metadata": {},
   "source": [
    "#### 딕셔너리"
   ]
  },
  {
   "cell_type": "code",
   "execution_count": 39,
   "id": "d750d3e9-5c25-4009-a71e-e28537829385",
   "metadata": {},
   "outputs": [],
   "source": [
    "article01 = {\n",
    "    \"title\":\"뉴스A\",\n",
    "    \"link\":\"https://www.naver.com\"\n",
    "}\n",
    "article02 = {\n",
    "    \"title\":\"뉴스B\",\n",
    "    \"link\":\"https://www.naver.com\"\n",
    "}\n",
    "\n",
    "atricleList = [article01,article02]"
   ]
  }
 ],
 "metadata": {
  "kernelspec": {
   "display_name": "Python [conda env:base] *",
   "language": "python",
   "name": "conda-base-py"
  },
  "language_info": {
   "codemirror_mode": {
    "name": "ipython",
    "version": 3
   },
   "file_extension": ".py",
   "mimetype": "text/x-python",
   "name": "python",
   "nbconvert_exporter": "python",
   "pygments_lexer": "ipython3",
   "version": "3.13.5"
  }
 },
 "nbformat": 4,
 "nbformat_minor": 5
}
