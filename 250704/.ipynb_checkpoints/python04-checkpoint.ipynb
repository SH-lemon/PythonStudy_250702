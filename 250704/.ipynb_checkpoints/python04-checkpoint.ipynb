{
 "cells": [
  {
   "cell_type": "markdown",
   "id": "5bc703c6-c2c3-4eac-9cfc-4b62d4943ec2",
   "metadata": {},
   "source": [
    "- 사용자로부터 어떤 값을 받고, 해당 값을 한화(*한국돈)으로 출력되도록 해주세요.\n",
    "- ex) 100 ==> 환율 1112원 // 111200원으로 출력되도록 해주세요."
   ]
  },
  {
   "cell_type": "code",
   "execution_count": 22,
   "id": "74d5ea37-1827-49bd-9adb-04bb3fd0b668",
   "metadata": {},
   "outputs": [
    {
     "name": "stdin",
     "output_type": "stream",
     "text": [
      "환전하고싶은 달러액을 입력해주세요. \n",
      "ex)100달러\n",
      " 23달러\n"
     ]
    },
    {
     "name": "stdout",
     "output_type": "stream",
     "text": [
      "25,576원\n"
     ]
    }
   ],
   "source": [
    "# 수학 =/= Math\n",
    "# 수학능력평가시험 => 수학 => 논리성!!\n",
    "# 문제를 풀던 못풀던 간에 일단 내가 해결하고 싶은 것을 말로 표현!!!\n",
    "# 국어\n",
    "\n",
    "# 1. 사용자에게 값을 받는다.\n",
    "# input(), int()\n",
    "\n",
    "# 2. 사전에 환율을 정의해서 특정 변수에 할당해 놓는다.\n",
    "# 변수 정의만 하면 됨\n",
    "\n",
    "# 3. 사용자에게 받은 값을 사전에 정의해놓은 환율과 계산한다\n",
    "# 연산자만 알면 됨\n",
    "\n",
    "# 4. 사용자의 값과 환율을 계산한 그 결과값을 출력한다.\n",
    "# print()\n",
    "\n",
    "cash = (input(\"환전하고싶은 달러액을 입력해주세요. \\nex)100달러\\n\"))\n",
    "cash1 = int(cash.strip(\"달러\"))\n",
    "\n",
    "USD = cash1*1112\n",
    "\n",
    "print(f\"{USD:,}원\")"
   ]
  },
  {
   "cell_type": "markdown",
   "id": "969ad812-61d8-4f69-8aec-74ee42504be5",
   "metadata": {},
   "source": [
    "- 달러의 환율을 1112원으로 설정, 위안화의 환율을 171원으로 설정, 엔화의 환율을 1010원으로 설정하되, 화폐당 환율의 값을 딕셔너리라는 자료구조로 정의하고, 사용자가 달러 혹은 엔화 혹은 위안화 값을 입력했을 때, 해당 값을 원화로 바꿔서 출력"
   ]
  },
  {
   "cell_type": "code",
   "execution_count": 43,
   "id": "ccef525d-129a-41fe-961e-6be8c20a0e7c",
   "metadata": {},
   "outputs": [
    {
     "name": "stdin",
     "output_type": "stream",
     "text": [
      "환전할 돈을 입력해주세요\n",
      "ex)100 달러\n",
      "(*달러, 위안화, 엔화 가능) 323423 달러\n"
     ]
    },
    {
     "name": "stdout",
     "output_type": "stream",
     "text": [
      "359646376원\n"
     ]
    }
   ],
   "source": [
    "cash0 = input(\"환전할 돈을 입력해주세요\\nex)100 달러\\n(*달러, 위안화, 엔화 가능)\")\n",
    "cash00 = cash0.split(\" \")\n",
    "cash01 = int(cash00[0])\n",
    "exchange = {\"USD\":cash01*1112, \"CHN\":cash01*171, \"JPN\":cash01*1010}\n",
    "if cash00[1] == \"달러\" :\n",
    "    print(f\"{exchange['USD']}원\")\n",
    "if cash00[1] == \"위안\" or cash00[1] == \"위안화\":\n",
    "    print(f\"{exchange['CHN']}원\")\n",
    "if cash00[1] == \"엔\" or cash00[1] == \"엔화\":\n",
    "    print(f\"{exchange['JPN']}원\")"
   ]
  },
  {
   "cell_type": "code",
   "execution_count": 46,
   "id": "91944443-0f28-4a29-bb4b-747c6754842e",
   "metadata": {},
   "outputs": [
    {
     "name": "stdin",
     "output_type": "stream",
     "text": [
      "환전하고 싶은 금액 입력 234엔화\n"
     ]
    },
    {
     "name": "stdout",
     "output_type": "stream",
     "text": [
      "236,340원\n"
     ]
    }
   ],
   "source": [
    "exchange_list = {\"달러\":1112, \"위안\":171, \"엔화\":1010}\n",
    "user_money = input(\"환전하고 싶은 금액 입력\")\n",
    "\n",
    "if user_money[-2:] == \"달러\":\n",
    "    print(f\"{exchange_list['달러']*int(user_money[:-2]):,}원\")\n",
    "elif user_money[-2:] == \"위안\":\n",
    "    print(f\"{exchange_list['위안']*int(user_money[:-2]):,}원\")\n",
    "elif user_money[-2:] == \"엔화\":\n",
    "    print(f\"{exchange_list['엔화']*int(user_money[:-2]):,}원\")\n",
    "else:\n",
    "    print(\"달러,위안,엔화중하나를입력하세요\")\n"
   ]
  },
  {
   "cell_type": "code",
   "execution_count": 49,
   "id": "7d653f4d-e2e5-499b-b0e0-cf3faf8b0bfc",
   "metadata": {},
   "outputs": [
    {
     "name": "stdout",
     "output_type": "stream",
     "text": [
      "ㅡㅡㅡㅡㅡㅡㅡㅡㅡㅡㅡㅡㅡ\n",
      "- 구구단 2단 -\n",
      "ㅡㅡㅡㅡㅡㅡㅡㅡㅡㅡㅡㅡㅡ\n",
      "2 x 1 = 2\n",
      "2 x 2 = 4\n",
      "2 x 3 = 6\n",
      "2 x 4 = 8\n",
      "2 x 5 = 10\n",
      "2 x 6 = 12\n",
      "2 x 7 = 14\n",
      "2 x 8 = 16\n",
      "2 x 9 = 18\n",
      "\n",
      "\n",
      "ㅡㅡㅡㅡㅡㅡㅡㅡㅡㅡㅡㅡㅡ\n",
      "- 구구단 3단 -\n",
      "ㅡㅡㅡㅡㅡㅡㅡㅡㅡㅡㅡㅡㅡ\n",
      "3 x 1 = 3\n",
      "3 x 2 = 6\n",
      "3 x 3 = 9\n",
      "3 x 4 = 12\n",
      "3 x 5 = 15\n",
      "3 x 6 = 18\n",
      "3 x 7 = 21\n",
      "3 x 8 = 24\n",
      "3 x 9 = 27\n",
      "\n",
      "\n",
      "ㅡㅡㅡㅡㅡㅡㅡㅡㅡㅡㅡㅡㅡ\n",
      "- 구구단 4단 -\n",
      "ㅡㅡㅡㅡㅡㅡㅡㅡㅡㅡㅡㅡㅡ\n",
      "4 x 1 = 4\n",
      "4 x 2 = 8\n",
      "4 x 3 = 12\n",
      "4 x 4 = 16\n",
      "4 x 5 = 20\n",
      "4 x 6 = 24\n",
      "4 x 7 = 28\n",
      "4 x 8 = 32\n",
      "4 x 9 = 36\n",
      "\n",
      "\n",
      "ㅡㅡㅡㅡㅡㅡㅡㅡㅡㅡㅡㅡㅡ\n",
      "- 구구단 5단 -\n",
      "ㅡㅡㅡㅡㅡㅡㅡㅡㅡㅡㅡㅡㅡ\n",
      "5 x 1 = 5\n",
      "5 x 2 = 10\n",
      "5 x 3 = 15\n",
      "5 x 4 = 20\n",
      "5 x 5 = 25\n",
      "5 x 6 = 30\n",
      "5 x 7 = 35\n",
      "5 x 8 = 40\n",
      "5 x 9 = 45\n",
      "\n",
      "\n",
      "ㅡㅡㅡㅡㅡㅡㅡㅡㅡㅡㅡㅡㅡ\n",
      "- 구구단 6단 -\n",
      "ㅡㅡㅡㅡㅡㅡㅡㅡㅡㅡㅡㅡㅡ\n",
      "6 x 1 = 6\n",
      "6 x 2 = 12\n",
      "6 x 3 = 18\n",
      "6 x 4 = 24\n",
      "6 x 5 = 30\n",
      "6 x 6 = 36\n",
      "6 x 7 = 42\n",
      "6 x 8 = 48\n",
      "6 x 9 = 54\n",
      "\n",
      "\n",
      "ㅡㅡㅡㅡㅡㅡㅡㅡㅡㅡㅡㅡㅡ\n",
      "- 구구단 7단 -\n",
      "ㅡㅡㅡㅡㅡㅡㅡㅡㅡㅡㅡㅡㅡ\n",
      "7 x 1 = 7\n",
      "7 x 2 = 14\n",
      "7 x 3 = 21\n",
      "7 x 4 = 28\n",
      "7 x 5 = 35\n",
      "7 x 6 = 42\n",
      "7 x 7 = 49\n",
      "7 x 8 = 56\n",
      "7 x 9 = 63\n",
      "\n",
      "\n",
      "ㅡㅡㅡㅡㅡㅡㅡㅡㅡㅡㅡㅡㅡ\n",
      "- 구구단 8단 -\n",
      "ㅡㅡㅡㅡㅡㅡㅡㅡㅡㅡㅡㅡㅡ\n",
      "8 x 1 = 8\n",
      "8 x 2 = 16\n",
      "8 x 3 = 24\n",
      "8 x 4 = 32\n",
      "8 x 5 = 40\n",
      "8 x 6 = 48\n",
      "8 x 7 = 56\n",
      "8 x 8 = 64\n",
      "8 x 9 = 72\n",
      "\n",
      "\n",
      "ㅡㅡㅡㅡㅡㅡㅡㅡㅡㅡㅡㅡㅡ\n",
      "- 구구단 9단 -\n",
      "ㅡㅡㅡㅡㅡㅡㅡㅡㅡㅡㅡㅡㅡ\n",
      "9 x 1 = 9\n",
      "9 x 2 = 18\n",
      "9 x 3 = 27\n",
      "9 x 4 = 36\n",
      "9 x 5 = 45\n",
      "9 x 6 = 54\n",
      "9 x 7 = 63\n",
      "9 x 8 = 72\n",
      "9 x 9 = 81\n",
      "\n",
      "\n"
     ]
    }
   ],
   "source": [
    "# 2~9단까지 => 숫자 2부터 9까지 반복 순회! 2*1=2\n",
    "# 피연산자로 1부터 9까지 반복순회!\n",
    "for num01 in range(2,10):\n",
    "    print(\"ㅡㅡㅡㅡㅡㅡㅡㅡㅡㅡㅡㅡㅡ\")\n",
    "    print(f\"- 구구단 {num01}단 -\")\n",
    "    print(\"ㅡㅡㅡㅡㅡㅡㅡㅡㅡㅡㅡㅡㅡ\")\n",
    "    for num02 in range(1,10):\n",
    "        print(f\"{num01} x {num02} = {num01*num02}\")\n",
    "    print(\"\\n\")"
   ]
  },
  {
   "cell_type": "markdown",
   "id": "030ee626-38f7-470a-8897-7de503b8a4f8",
   "metadata": {},
   "source": [
    "- 위에서 작성한 코드를 활용해서 다음과 같은 결과를 출력해주세요. 구구단 2~9단까지 출력하되, 계산된 결과값이 짝수인 경우만 출력해주세요!"
   ]
  },
  {
   "cell_type": "code",
   "execution_count": 50,
   "id": "f4108e33-140e-42cf-a895-620d0d9f355b",
   "metadata": {},
   "outputs": [
    {
     "name": "stdout",
     "output_type": "stream",
     "text": [
      "ㅡㅡㅡㅡㅡㅡㅡㅡㅡㅡㅡㅡㅡ\n",
      "- 구구단 2단 -\n",
      "ㅡㅡㅡㅡㅡㅡㅡㅡㅡㅡㅡㅡㅡ\n",
      "2 x 1 = 2\n",
      "2 x 2 = 4\n",
      "2 x 3 = 6\n",
      "2 x 4 = 8\n",
      "2 x 5 = 10\n",
      "2 x 6 = 12\n",
      "2 x 7 = 14\n",
      "2 x 8 = 16\n",
      "2 x 9 = 18\n",
      "\n",
      "\n",
      "ㅡㅡㅡㅡㅡㅡㅡㅡㅡㅡㅡㅡㅡ\n",
      "- 구구단 3단 -\n",
      "ㅡㅡㅡㅡㅡㅡㅡㅡㅡㅡㅡㅡㅡ\n",
      "3 x 2 = 6\n",
      "3 x 4 = 12\n",
      "3 x 6 = 18\n",
      "3 x 8 = 24\n",
      "\n",
      "\n",
      "ㅡㅡㅡㅡㅡㅡㅡㅡㅡㅡㅡㅡㅡ\n",
      "- 구구단 4단 -\n",
      "ㅡㅡㅡㅡㅡㅡㅡㅡㅡㅡㅡㅡㅡ\n",
      "4 x 1 = 4\n",
      "4 x 2 = 8\n",
      "4 x 3 = 12\n",
      "4 x 4 = 16\n",
      "4 x 5 = 20\n",
      "4 x 6 = 24\n",
      "4 x 7 = 28\n",
      "4 x 8 = 32\n",
      "4 x 9 = 36\n",
      "\n",
      "\n",
      "ㅡㅡㅡㅡㅡㅡㅡㅡㅡㅡㅡㅡㅡ\n",
      "- 구구단 5단 -\n",
      "ㅡㅡㅡㅡㅡㅡㅡㅡㅡㅡㅡㅡㅡ\n",
      "5 x 2 = 10\n",
      "5 x 4 = 20\n",
      "5 x 6 = 30\n",
      "5 x 8 = 40\n",
      "\n",
      "\n",
      "ㅡㅡㅡㅡㅡㅡㅡㅡㅡㅡㅡㅡㅡ\n",
      "- 구구단 6단 -\n",
      "ㅡㅡㅡㅡㅡㅡㅡㅡㅡㅡㅡㅡㅡ\n",
      "6 x 1 = 6\n",
      "6 x 2 = 12\n",
      "6 x 3 = 18\n",
      "6 x 4 = 24\n",
      "6 x 5 = 30\n",
      "6 x 6 = 36\n",
      "6 x 7 = 42\n",
      "6 x 8 = 48\n",
      "6 x 9 = 54\n",
      "\n",
      "\n",
      "ㅡㅡㅡㅡㅡㅡㅡㅡㅡㅡㅡㅡㅡ\n",
      "- 구구단 7단 -\n",
      "ㅡㅡㅡㅡㅡㅡㅡㅡㅡㅡㅡㅡㅡ\n",
      "7 x 2 = 14\n",
      "7 x 4 = 28\n",
      "7 x 6 = 42\n",
      "7 x 8 = 56\n",
      "\n",
      "\n",
      "ㅡㅡㅡㅡㅡㅡㅡㅡㅡㅡㅡㅡㅡ\n",
      "- 구구단 8단 -\n",
      "ㅡㅡㅡㅡㅡㅡㅡㅡㅡㅡㅡㅡㅡ\n",
      "8 x 1 = 8\n",
      "8 x 2 = 16\n",
      "8 x 3 = 24\n",
      "8 x 4 = 32\n",
      "8 x 5 = 40\n",
      "8 x 6 = 48\n",
      "8 x 7 = 56\n",
      "8 x 8 = 64\n",
      "8 x 9 = 72\n",
      "\n",
      "\n",
      "ㅡㅡㅡㅡㅡㅡㅡㅡㅡㅡㅡㅡㅡ\n",
      "- 구구단 9단 -\n",
      "ㅡㅡㅡㅡㅡㅡㅡㅡㅡㅡㅡㅡㅡ\n",
      "9 x 2 = 18\n",
      "9 x 4 = 36\n",
      "9 x 6 = 54\n",
      "9 x 8 = 72\n",
      "\n",
      "\n"
     ]
    }
   ],
   "source": [
    "for num01 in range(2,10):\n",
    "    print(\"ㅡㅡㅡㅡㅡㅡㅡㅡㅡㅡㅡㅡㅡ\")\n",
    "    print(f\"- 구구단 {num01}단 -\")\n",
    "    print(\"ㅡㅡㅡㅡㅡㅡㅡㅡㅡㅡㅡㅡㅡ\")\n",
    "    for num02 in range(1,10):\n",
    "        if num01*num02%2 == 0:\n",
    "            print(f\"{num01} x {num02} = {num01*num02}\")\n",
    "    print(\"\\n\")"
   ]
  },
  {
   "cell_type": "code",
   "execution_count": 52,
   "id": "5f0c3304-543d-4a83-b993-aabcf178267d",
   "metadata": {},
   "outputs": [
    {
     "name": "stdout",
     "output_type": "stream",
     "text": [
      "6209동 101호\n",
      "6209동 102호\n",
      "6209동 103호\n",
      "6209동 104호\n",
      "\n",
      "\n",
      "6308동 101호\n",
      "6308동 102호\n",
      "6308동 103호\n",
      "6308동 104호\n",
      "\n",
      "\n",
      "6207동 101호\n",
      "6207동 102호\n",
      "6207동 103호\n",
      "6207동 104호\n",
      "\n",
      "\n"
     ]
    }
   ],
   "source": [
    "dongs = [\"6209동\", \"6308동\", \"6207동\"]\n",
    "hos = [\"101호\", \"102호\", \"103호\", \"104호\"]\n",
    "\n",
    "for dong in dongs :\n",
    "    for ho in hos:\n",
    "        print(f\"{dong} {ho}\")\n",
    "    print(\"\\n\")"
   ]
  },
  {
   "cell_type": "code",
   "execution_count": 55,
   "id": "f7752226-9a88-4e32-af81-6b1dadc2a521",
   "metadata": {},
   "outputs": [
    {
     "data": {
      "text/plain": [
       "('coding01', 'coding02', 'coding03', 'coding04')"
      ]
     },
     "execution_count": 55,
     "metadata": {},
     "output_type": "execute_result"
    }
   ],
   "source": [
    "tupledata = (\"coding01\", \"coding02\", \"coding03\")\n",
    "# temp_list = list(tupledata)\n",
    "# temp_list.append(\"coding04\")\n",
    "# result = tuple(temp_list)\n",
    "\n",
    "# result\n",
    "\n",
    "tuple(list(tupledata)+[\"coding04\"])"
   ]
  },
  {
   "cell_type": "markdown",
   "id": "5f17ff4e-3269-47bd-aeba-b7810e48bb5a",
   "metadata": {},
   "source": [
    "- 딕셔너리 형태의 자료구조를 하나 만들어서 아래와 같이 값을 출력\n",
    "  ```\n",
    "  environment : 환경 x\n",
    "  company : 회사 o\n",
    "  government : 정부 x\n",
    "  face : 얼굴 x"
   ]
  },
  {
   "cell_type": "code",
   "execution_count": 89,
   "id": "c5cc2b98-3669-40e1-b3e0-a30eb5439996",
   "metadata": {},
   "outputs": [
    {
     "name": "stdout",
     "output_type": "stream",
     "text": [
      "environment : ['환경', 'x']\n",
      "company : ['회사', 'o']\n",
      "government : ['정부', 'x']\n",
      "face : ['얼굴', 'x']\n"
     ]
    }
   ],
   "source": [
    "data = {\"environment\" : [\"환경\", \"x\"], \"company\" : [\"회사\", \"o\"] , \"government\" : [\"정부\", \"x\"], \"face\" : [\"얼굴\", \"x\"]}\n",
    "\n",
    "for item in data.keys() :\n",
    "    print(f\"{item} : {data[item]}\")"
   ]
  },
  {
   "cell_type": "markdown",
   "id": "ea4aad5d-e76a-4a26-8668-584731defca6",
   "metadata": {},
   "source": [
    "- 사용자로부터 사전에 등록되어있는 단어들 중 1개를 입력받으세요. 그러면 입력받은 단어의 경우, 외움표시 o 표시로 수정하고, 아직 외우지 못한 단어들만 출력하는 프로그램 코드를 작성해주세요!"
   ]
  },
  {
   "cell_type": "code",
   "execution_count": 103,
   "id": "56591f4e-2a58-49d4-a6b8-37f125a12c9a",
   "metadata": {},
   "outputs": [
    {
     "name": "stdin",
     "output_type": "stream",
     "text": [
      "word? company\n"
     ]
    },
    {
     "name": "stdout",
     "output_type": "stream",
     "text": [
      "environment\n",
      "government\n",
      "face\n"
     ]
    }
   ],
   "source": [
    "english = input(\"word?\")\n",
    "\n",
    "if english in data.keys() :\n",
    "    data[english][1] = \"o\"\n",
    "else: \n",
    "    print(\"존재하지 않는 단어입니다\")\n",
    "\n",
    "for item in data.keys() :\n",
    "    data_list = data[item]\n",
    "    if data_list[1] == \"x\":\n",
    "        print(item)"
   ]
  },
  {
   "cell_type": "markdown",
   "id": "1ffbd379-292f-4b69-af49-2a2318eb3677",
   "metadata": {},
   "source": [
    "- dict_all = {\"environment\":\"환경\",\"environment\":\"정부\"}\n",
    "- dict2 = {\"company\":\"회사\",\"face\":\"얼굴\"}\n",
    "- dict3 = {\"apple\":\"사과\"}\n",
    "- dict_all 안에 dict2와 dict3 값을 모두 넣어주세요 그리고 dict_all 값을 출력해주세요"
   ]
  },
  {
   "cell_type": "code",
   "execution_count": 116,
   "id": "038fe266-23fc-4b67-87d5-6875603f1b73",
   "metadata": {},
   "outputs": [
    {
     "data": {
      "text/plain": [
       "{'environment': '환경',\n",
       " 'government': '정부',\n",
       " 'company': '회사',\n",
       " 'face': '얼굴',\n",
       " 'apple': '사과'}"
      ]
     },
     "execution_count": 116,
     "metadata": {},
     "output_type": "execute_result"
    }
   ],
   "source": [
    "dict_all = {\"environment\":\"환경\",\"government\":\"정부\"}\n",
    "dict2 = {\"company\":\"회사\",\"face\":\"얼굴\"}\n",
    "dict3 = {\"apple\":\"사과\"}\n",
    "\n",
    "for item in dict2.keys() :\n",
    "    dict_all[item] = dict2[item]\n",
    "for item in dict3.keys() :\n",
    "    dict_all[item] = dict3[item]\n",
    "\n",
    "dict_all"
   ]
  },
  {
   "cell_type": "code",
   "execution_count": 120,
   "id": "a6b584e2-c854-42c1-a1e3-088f6ec2dd93",
   "metadata": {},
   "outputs": [
    {
     "data": {
      "text/plain": [
       "{1, 3, 4, 5, 6}"
      ]
     },
     "execution_count": 120,
     "metadata": {},
     "output_type": "execute_result"
    }
   ],
   "source": [
    "number_list = {1,2,3}\n",
    "number_list.add(4)\n",
    "# number_list.add(5,6)\n",
    "number_list.update({5,6})\n",
    "number_list.remove(2)\n",
    "\n",
    "number_list"
   ]
  },
  {
   "cell_type": "markdown",
   "id": "597b231c-32ba-4b74-9b5e-074df2d07778",
   "metadata": {},
   "source": [
    "- 임의의 숫자 2개를 사용자에게 받으면 해당 2개의 숫자를 곱한 값을 반환하는 함수를 만들고, 해당 함수의 결과값을 화면에 출력해주세요"
   ]
  },
  {
   "cell_type": "code",
   "execution_count": 128,
   "id": "907a597e-eb83-4080-aa1f-88128e5b1b49",
   "metadata": {},
   "outputs": [
    {
     "name": "stdin",
     "output_type": "stream",
     "text": [
      " 6\n",
      " 2\n"
     ]
    },
    {
     "data": {
      "text/plain": [
       "12"
      ]
     },
     "execution_count": 128,
     "metadata": {},
     "output_type": "execute_result"
    }
   ],
   "source": [
    "def funct1(a,b) :\n",
    "    response = a*b\n",
    "    return response\n",
    "\n",
    "A = int(input(\"\"))\n",
    "B = int(input(\"\"))\n",
    "\n",
    "funct1(A,B)"
   ]
  },
  {
   "cell_type": "code",
   "execution_count": 133,
   "id": "17996ce2-6cad-43d1-a4d4-82549b5ec7cd",
   "metadata": {},
   "outputs": [
    {
     "name": "stdin",
     "output_type": "stream",
     "text": [
      " 32\n",
      " 5\n"
     ]
    },
    {
     "data": {
      "text/plain": [
       "160"
      ]
     },
     "execution_count": 133,
     "metadata": {},
     "output_type": "execute_result"
    }
   ],
   "source": [
    "num_all = [int(input(\"\")) for _ in range(2)]\n",
    "\n",
    "funct1(num_all[0],num_all[1])"
   ]
  },
  {
   "cell_type": "markdown",
   "id": "2e70a140-caa1-4415-880f-780a9046882e",
   "metadata": {},
   "source": [
    "- 인자값 3개를 받을 수 있는 함수를 호출\n",
    "- func1(인자값1, 인자값2, 인자값3)\n",
    "- 해당 함수의 세번째 인자값이 + => 첫번째 인자값과 두번째 인자값을 더한 결과값 반환\n",
    "- 만약 세번째 인자값이 * => 첫번째 인자값과 두번째 인자값을 곱한 결과값 반환\n",
    "- 만약 세번째 인자값이 +* 둘 다 아님 => 무조건 0 반환"
   ]
  },
  {
   "cell_type": "code",
   "execution_count": 144,
   "id": "6dd9d528-ecfe-4ed0-a6ea-cfe78a771663",
   "metadata": {},
   "outputs": [
    {
     "name": "stdin",
     "output_type": "stream",
     "text": [
      " 3\n",
      " 45\n",
      " 5\n"
     ]
    },
    {
     "data": {
      "text/plain": [
       "0"
      ]
     },
     "execution_count": 144,
     "metadata": {},
     "output_type": "execute_result"
    }
   ],
   "source": [
    "num_all1 = [int(input(\"\")) for _ in range(2)]\n",
    "num3 = input(\"\")\n",
    "\n",
    "def f2(a,b,c) :\n",
    "    if c == \"+\":\n",
    "        response = a+b\n",
    "    elif c == \"*\":\n",
    "        response = a*b\n",
    "    else: \n",
    "        response = 0\n",
    "    return response\n",
    "\n",
    "f2(num_all1[0],num_all1[1],num3)"
   ]
  }
 ],
 "metadata": {
  "kernelspec": {
   "display_name": "Python [conda env:base] *",
   "language": "python",
   "name": "conda-base-py"
  },
  "language_info": {
   "codemirror_mode": {
    "name": "ipython",
    "version": 3
   },
   "file_extension": ".py",
   "mimetype": "text/x-python",
   "name": "python",
   "nbconvert_exporter": "python",
   "pygments_lexer": "ipython3",
   "version": "3.13.5"
  }
 },
 "nbformat": 4,
 "nbformat_minor": 5
}
