{
 "cells": [
  {
   "cell_type": "markdown",
   "id": "63d8998e-6871-44a5-8104-f5b0ce89c9f8",
   "metadata": {},
   "source": [
    "#### 자료구조: set = 집합\n",
    "- 서로 다른 그룹 간 연산 작업을 보다 쉽게 하기 위한 목적으로 탄생된 자료구조\n",
    "- set() // list() // tuple() // dict()\n",
    "- 리스트 (*각각의 세부값에 인덱스값을 부여, 이터러블한 객체, 반복문)\n",
    "- 튜블 (*각각의 세부값에 인덱스값을 부여, 이터러블한 객체, 반복문)\n",
    "- 딕셔너리 (*각각의 세부값에 인덱스 값x, 이터러블x, 반복문)\n",
    "- 세트 (*인덱스 값을 부여받지 않음, 이터러블한 객체, 반복문)\n",
    "- 크롤링 시, 찾아온 값이 거의 대부분 리스트형태로 들어옴!!! => 굳이 반복적으로 불필요한 값을 찾아오는 경우가 부지기수 => 중복된 값을 하나로 정리하는 기능을 가장 많이 사용함!!!"
   ]
  },
  {
   "cell_type": "code",
   "execution_count": 1,
   "id": "82ece84c-ed77-4aca-a06b-b2f9d9fa3d9f",
   "metadata": {},
   "outputs": [
    {
     "data": {
      "text/plain": [
       "set"
      ]
     },
     "execution_count": 1,
     "metadata": {},
     "output_type": "execute_result"
    }
   ],
   "source": [
    "data_set01 = set()\n",
    "type(data_set01)"
   ]
  },
  {
   "cell_type": "code",
   "execution_count": 2,
   "id": "d296aea8-eea2-4eb3-9427-c3b714748cac",
   "metadata": {},
   "outputs": [
    {
     "data": {
      "text/plain": [
       "{'LG', 'apple', 'dell', 'samsung'}"
      ]
     },
     "execution_count": 2,
     "metadata": {},
     "output_type": "execute_result"
    }
   ],
   "source": [
    "data_set02 = {\"apple\",\"dell\",\"samsung\",\"LG\"}\n",
    "data_set02"
   ]
  },
  {
   "cell_type": "code",
   "execution_count": 4,
   "id": "c8dde896-97b6-4202-9164-9e431d21ee2a",
   "metadata": {},
   "outputs": [
    {
     "data": {
      "text/plain": [
       "{'a', 'e', 'l', 'p'}"
      ]
     },
     "execution_count": 4,
     "metadata": {},
     "output_type": "execute_result"
    }
   ],
   "source": [
    "data_set03 = set(\"apple\")\n",
    "data_set03"
   ]
  },
  {
   "cell_type": "code",
   "execution_count": 6,
   "id": "30f7985f-80d2-48d7-9978-072bd3e7a30f",
   "metadata": {},
   "outputs": [
    {
     "data": {
      "text/plain": [
       "{'jyp', 'sm'}"
      ]
     },
     "execution_count": 6,
     "metadata": {},
     "output_type": "execute_result"
    }
   ],
   "source": [
    "data_set04 = {\"sm\",\"jyp\"}\n",
    "data_set04"
   ]
  },
  {
   "cell_type": "code",
   "execution_count": 11,
   "id": "55420112-afcd-405a-af1d-eb3621a87a3b",
   "metadata": {},
   "outputs": [
    {
     "name": "stdout",
     "output_type": "stream",
     "text": [
      "dell\n",
      "LG\n",
      "apple\n",
      "samsung\n"
     ]
    }
   ],
   "source": [
    "for data in data_set02 :\n",
    "    print(data)\n",
    "\n",
    "#data_set02[0]은 안 됨."
   ]
  },
  {
   "cell_type": "code",
   "execution_count": 12,
   "id": "fd9a6f23-0d84-4228-8270-cec913f9943e",
   "metadata": {},
   "outputs": [
    {
     "name": "stdout",
     "output_type": "stream",
     "text": [
      "False\n",
      "True\n"
     ]
    }
   ],
   "source": [
    "print(\"motorola\" in data_set02)\n",
    "print(\"apple\" in data_set02)"
   ]
  },
  {
   "cell_type": "code",
   "execution_count": 13,
   "id": "b6952ca7-8c27-4785-a721-d364649f4a08",
   "metadata": {},
   "outputs": [],
   "source": [
    "data04 = {\"피카츄\",\"라이츄\",\"꼬부기\"}"
   ]
  },
  {
   "cell_type": "code",
   "execution_count": 14,
   "id": "95d0536b-0570-44ad-8a4d-8cb269b1a7de",
   "metadata": {},
   "outputs": [],
   "source": [
    "data05 = {\"잠만보\",\"파이리\",\"피카츄\"}"
   ]
  },
  {
   "cell_type": "code",
   "execution_count": 16,
   "id": "be081db6-09b5-47b5-aec3-211106a70e38",
   "metadata": {},
   "outputs": [
    {
     "data": {
      "text/plain": [
       "{'꼬부기', '라이츄', '잠만보', '파이리', '피카츄'}"
      ]
     },
     "execution_count": 16,
     "metadata": {},
     "output_type": "execute_result"
    }
   ],
   "source": [
    "data04 & data05 #교집합\n",
    "data04 | data05 #합집합"
   ]
  },
  {
   "cell_type": "code",
   "execution_count": 17,
   "id": "64ca89f2-b320-4b52-bd3c-fa6ffa53d543",
   "metadata": {},
   "outputs": [
    {
     "data": {
      "text/plain": [
       "{'꼬부기', '라이츄'}"
      ]
     },
     "execution_count": 17,
     "metadata": {},
     "output_type": "execute_result"
    }
   ],
   "source": [
    "data04 - data05"
   ]
  },
  {
   "cell_type": "code",
   "execution_count": 18,
   "id": "423ad3b9-12f6-45e2-bce0-9bf1c41e099c",
   "metadata": {},
   "outputs": [
    {
     "data": {
      "text/plain": [
       "{'잠만보', '파이리'}"
      ]
     },
     "execution_count": 18,
     "metadata": {},
     "output_type": "execute_result"
    }
   ],
   "source": [
    "data05 - data04"
   ]
  },
  {
   "cell_type": "code",
   "execution_count": 19,
   "id": "49330004-a0ab-47ee-9592-7cb391a77033",
   "metadata": {},
   "outputs": [
    {
     "data": {
      "text/plain": [
       "{'꼬부기', '라이츄', '잠만보', '파이리'}"
      ]
     },
     "execution_count": 19,
     "metadata": {},
     "output_type": "execute_result"
    }
   ],
   "source": [
    "data04 ^ data05"
   ]
  }
 ],
 "metadata": {
  "kernelspec": {
   "display_name": "Python [conda env:base] *",
   "language": "python",
   "name": "conda-base-py"
  },
  "language_info": {
   "codemirror_mode": {
    "name": "ipython",
    "version": 3
   },
   "file_extension": ".py",
   "mimetype": "text/x-python",
   "name": "python",
   "nbconvert_exporter": "python",
   "pygments_lexer": "ipython3",
   "version": "3.13.5"
  }
 },
 "nbformat": 4,
 "nbformat_minor": 5
}
