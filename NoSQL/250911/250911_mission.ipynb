{
 "cells": [
  {
   "cell_type": "markdown",
   "id": "f6c41b42-9986-4202-9a2e-8d73d3fdb338",
   "metadata": {},
   "source": [
    "```\n",
    ":시험관: 미션: “여기어때 숙소 데이터 수집·적재·요약”\n",
    "목표 : 국내 숙소 플랫폼의 공개 웹페이지를 가볍게 탐색해 숙소 메타데이터를 수집하고, 이를 MongoDB에 저장한 뒤 간단한 통계 리포트를 산출\n",
    "범위\n",
    "사이트: https://www.yeogi.com/\n",
    "도시 1곳을 선정(예: 서울)하고, 리스트 페이지 상위 2–3페이지 목표로 수집.\n",
    "수집 항목 (가능한 한 확보 : 자유)\n",
    "url(고유), name(숙소명), location(구/동 등 텍스트),\n",
    "price_min(최저가, 숫자), rating(평점, 숫자), review_count(리뷰 수, 숫자)\n",
    "아래 데이터를 Aggregation으로 산출.\n",
    "평점 상위 10: rating 내림차순, 동률이면 review_count 많은 순\n",
    "```"
   ]
  },
  {
   "cell_type": "code",
   "execution_count": 5,
   "id": "16929b45-aa3b-4f30-8ad8-c9556cb2cb63",
   "metadata": {},
   "outputs": [
    {
     "ename": "InvalidSessionIdException",
     "evalue": "Message: invalid session id: session deleted as the browser has closed the connection\nfrom disconnected: not connected to DevTools\n  (Session info: chrome=139.0.7258.157); For documentation on this error, please visit: https://www.selenium.dev/documentation/webdriver/troubleshooting/errors#invalidsessionidexception\nStacktrace:\n\tGetHandleVerifier [0x0x66a8a3+63283]\n\tGetHandleVerifier [0x0x66a8e4+63348]\n\t(No symbol) [0x0x4a3e43]\n\t(No symbol) [0x0x493790]\n\t(No symbol) [0x0x4b1602]\n\t(No symbol) [0x0x517cdc]\n\t(No symbol) [0x0x531ff9]\n\t(No symbol) [0x0x511216]\n\t(No symbol) [0x0x4e0855]\n\t(No symbol) [0x0x4e16f4]\n\tGetHandleVerifier [0x0x8dbb43+2623955]\n\tGetHandleVerifier [0x0x8d6daa+2604090]\n\tGetHandleVerifier [0x0x69069a+218410]\n\tGetHandleVerifier [0x0x680ed8+154984]\n\tGetHandleVerifier [0x0x68742d+180925]\n\tGetHandleVerifier [0x0x6722b8+94536]\n\tGetHandleVerifier [0x0x672442+94930]\n\tGetHandleVerifier [0x0x65d5ea+9338]\n\tBaseThreadInitThunk [0x0x76dbfcc9+25]\n\tRtlGetAppContainerNamedObjectPath [0x0x773b82ae+286]\n\tRtlGetAppContainerNamedObjectPath [0x0x773b827e+238]\n",
     "output_type": "error",
     "traceback": [
      "\u001b[1;31m---------------------------------------------------------------------------\u001b[0m",
      "\u001b[1;31mInvalidSessionIdException\u001b[0m                 Traceback (most recent call last)",
      "Cell \u001b[1;32mIn[5], line 30\u001b[0m\n\u001b[0;32m     27\u001b[0m driver\u001b[38;5;241m.\u001b[39mget(url)\n\u001b[0;32m     28\u001b[0m time\u001b[38;5;241m.\u001b[39msleep(\u001b[38;5;241m3\u001b[39m)\n\u001b[1;32m---> 30\u001b[0m driver\u001b[38;5;241m.\u001b[39mexecute_script(\u001b[38;5;124m\"\u001b[39m\u001b[38;5;124mwindow.scrollTo(0, document.body.scrollHeight);\u001b[39m\u001b[38;5;124m\"\u001b[39m)\n\u001b[0;32m     31\u001b[0m time\u001b[38;5;241m.\u001b[39msleep(\u001b[38;5;241m2\u001b[39m)\n\u001b[0;32m     33\u001b[0m links \u001b[38;5;241m=\u001b[39m driver\u001b[38;5;241m.\u001b[39mfind_elements(By\u001b[38;5;241m.\u001b[39mCSS_SELECTOR, \u001b[38;5;124m\"\u001b[39m\u001b[38;5;124ma.gc-thumbnail-type-seller-card.css-vbesvf\u001b[39m\u001b[38;5;124m\"\u001b[39m)\n",
      "File \u001b[1;32m~\\AppData\\Roaming\\Python\\Python313\\site-packages\\selenium\\webdriver\\remote\\webdriver.py:551\u001b[0m, in \u001b[0;36mWebDriver.execute_script\u001b[1;34m(self, script, *args)\u001b[0m\n\u001b[0;32m    548\u001b[0m converted_args \u001b[38;5;241m=\u001b[39m \u001b[38;5;28mlist\u001b[39m(args)\n\u001b[0;32m    549\u001b[0m command \u001b[38;5;241m=\u001b[39m Command\u001b[38;5;241m.\u001b[39mW3C_EXECUTE_SCRIPT\n\u001b[1;32m--> 551\u001b[0m \u001b[38;5;28;01mreturn\u001b[39;00m \u001b[38;5;28mself\u001b[39m\u001b[38;5;241m.\u001b[39mexecute(command, {\u001b[38;5;124m\"\u001b[39m\u001b[38;5;124mscript\u001b[39m\u001b[38;5;124m\"\u001b[39m: script, \u001b[38;5;124m\"\u001b[39m\u001b[38;5;124margs\u001b[39m\u001b[38;5;124m\"\u001b[39m: converted_args})[\u001b[38;5;124m\"\u001b[39m\u001b[38;5;124mvalue\u001b[39m\u001b[38;5;124m\"\u001b[39m]\n",
      "File \u001b[1;32m~\\AppData\\Roaming\\Python\\Python313\\site-packages\\selenium\\webdriver\\remote\\webdriver.py:454\u001b[0m, in \u001b[0;36mWebDriver.execute\u001b[1;34m(self, driver_command, params)\u001b[0m\n\u001b[0;32m    451\u001b[0m response \u001b[38;5;241m=\u001b[39m cast(RemoteConnection, \u001b[38;5;28mself\u001b[39m\u001b[38;5;241m.\u001b[39mcommand_executor)\u001b[38;5;241m.\u001b[39mexecute(driver_command, params)\n\u001b[0;32m    453\u001b[0m \u001b[38;5;28;01mif\u001b[39;00m response:\n\u001b[1;32m--> 454\u001b[0m     \u001b[38;5;28mself\u001b[39m\u001b[38;5;241m.\u001b[39merror_handler\u001b[38;5;241m.\u001b[39mcheck_response(response)\n\u001b[0;32m    455\u001b[0m     response[\u001b[38;5;124m\"\u001b[39m\u001b[38;5;124mvalue\u001b[39m\u001b[38;5;124m\"\u001b[39m] \u001b[38;5;241m=\u001b[39m \u001b[38;5;28mself\u001b[39m\u001b[38;5;241m.\u001b[39m_unwrap_value(response\u001b[38;5;241m.\u001b[39mget(\u001b[38;5;124m\"\u001b[39m\u001b[38;5;124mvalue\u001b[39m\u001b[38;5;124m\"\u001b[39m, \u001b[38;5;28;01mNone\u001b[39;00m))\n\u001b[0;32m    456\u001b[0m     \u001b[38;5;28;01mreturn\u001b[39;00m response\n",
      "File \u001b[1;32m~\\AppData\\Roaming\\Python\\Python313\\site-packages\\selenium\\webdriver\\remote\\errorhandler.py:232\u001b[0m, in \u001b[0;36mErrorHandler.check_response\u001b[1;34m(self, response)\u001b[0m\n\u001b[0;32m    230\u001b[0m         alert_text \u001b[38;5;241m=\u001b[39m value[\u001b[38;5;124m\"\u001b[39m\u001b[38;5;124malert\u001b[39m\u001b[38;5;124m\"\u001b[39m]\u001b[38;5;241m.\u001b[39mget(\u001b[38;5;124m\"\u001b[39m\u001b[38;5;124mtext\u001b[39m\u001b[38;5;124m\"\u001b[39m)\n\u001b[0;32m    231\u001b[0m     \u001b[38;5;28;01mraise\u001b[39;00m exception_class(message, screen, stacktrace, alert_text)  \u001b[38;5;66;03m# type: ignore[call-arg]  # mypy is not smart enough here\u001b[39;00m\n\u001b[1;32m--> 232\u001b[0m \u001b[38;5;28;01mraise\u001b[39;00m exception_class(message, screen, stacktrace)\n",
      "\u001b[1;31mInvalidSessionIdException\u001b[0m: Message: invalid session id: session deleted as the browser has closed the connection\nfrom disconnected: not connected to DevTools\n  (Session info: chrome=139.0.7258.157); For documentation on this error, please visit: https://www.selenium.dev/documentation/webdriver/troubleshooting/errors#invalidsessionidexception\nStacktrace:\n\tGetHandleVerifier [0x0x66a8a3+63283]\n\tGetHandleVerifier [0x0x66a8e4+63348]\n\t(No symbol) [0x0x4a3e43]\n\t(No symbol) [0x0x493790]\n\t(No symbol) [0x0x4b1602]\n\t(No symbol) [0x0x517cdc]\n\t(No symbol) [0x0x531ff9]\n\t(No symbol) [0x0x511216]\n\t(No symbol) [0x0x4e0855]\n\t(No symbol) [0x0x4e16f4]\n\tGetHandleVerifier [0x0x8dbb43+2623955]\n\tGetHandleVerifier [0x0x8d6daa+2604090]\n\tGetHandleVerifier [0x0x69069a+218410]\n\tGetHandleVerifier [0x0x680ed8+154984]\n\tGetHandleVerifier [0x0x68742d+180925]\n\tGetHandleVerifier [0x0x6722b8+94536]\n\tGetHandleVerifier [0x0x672442+94930]\n\tGetHandleVerifier [0x0x65d5ea+9338]\n\tBaseThreadInitThunk [0x0x76dbfcc9+25]\n\tRtlGetAppContainerNamedObjectPath [0x0x773b82ae+286]\n\tRtlGetAppContainerNamedObjectPath [0x0x773b827e+238]\n"
     ]
    }
   ],
   "source": [
    "from selenium import webdriver\n",
    "from selenium.webdriver.chrome.service import Service\n",
    "from selenium.webdriver.chrome.options import Options\n",
    "from selenium.webdriver.common.by import By\n",
    "from webdriver_manager.chrome import ChromeDriverManager\n",
    "import time\n",
    "\n",
    "service = Service(ChromeDriverManager().install())\n",
    "options = Options()\n",
    "\n",
    "options.add_argument(\"--disable-dev-shm-usage\")\n",
    "options.add_argument(\"--start-maximaized\")\n",
    "options.add_argument(\"--window-size=1920x1080\")\n",
    "options.add_argument(\"--lang=ko_KR\")\n",
    "options.add_argument(\"--user-agent=Mozilla/5.0 (Windows NT 10.0; Win64; x64) AppleWebKit/537.36 (KHTML, like Gecko) Chrome/139.0.0.0 Safari/537.36\")\n",
    "\n",
    "driver = webdriver.Chrome(service = service, options = options)\n",
    "\n",
    "data = []\n",
    "\n",
    "for i in range(2) :\n",
    "    if i == 0 :\n",
    "        url = \"https://www.yeogi.com/domestic-accommodations?keyword=%EA%B2%BD%EC%A3%BC&checkIn=2025-09-11&checkOut=2025-09-12&personal=2&freeForm=false\"\n",
    "    else:\n",
    "        url = f\"https://www.yeogi.com/domestic-accommodations?keyword=%EA%B2%BD%EC%A3%BC&checkIn=2025-09-11&checkOut=2025-09-12&personal=2&freeForm=false&page={i+1}\"\n",
    "\n",
    "    driver.get(url)\n",
    "    time.sleep(3)\n",
    "    \n",
    "    driver.execute_script(\"window.scrollTo(0, document.body.scrollHeight);\")\n",
    "    time.sleep(2)\n",
    "\n",
    "    links = driver.find_elements(By.CSS_SELECTOR, \"a.gc-thumbnail-type-seller-card.css-vbesvf\")\n",
    "    for link in links :\n",
    "        l = link.get_attribute(\"href\")\n",
    "        driver.get(l)\n",
    "        time.sleep(3)\n",
    "\n",
    "        name = driver.find_element(By.XPATH, \"//section[@id='overview']//h1[@class='css-ey2zdd']\")\n",
    "        url = link\n",
    "        location = driver.find_element(By.CSS_SELECTOR, \"div.css-y3ur5y p.css-ix9gtu\").text\n",
    "        try: \n",
    "            price_min = driver.find_element(By.CSS_SELECTOR, \"div.stay-price-tag.css-93efn5 span.css-12yvfi0\").text\n",
    "        except:\n",
    "            price_min = \"None\"\n",
    "        try:\n",
    "            rating = driver.find_element(By.CSS_SELECTOR, \"div.css-y3ur5y span.css-gvatwm\").text\n",
    "        except:\n",
    "            rating = \"None\"\n",
    "        try:\n",
    "            review_count = driver.find_element(By.CSS_SELECTOR, \"div.css-y3ur5y span.css-1k0ukhp\").text\n",
    "        except:\n",
    "            review_count = \"None\"\n",
    "\n",
    "        data.append({\"name\": name, \"url\": url, \"location\": location, \"price_min\": price_min, \"rating\": rating, \"review_count\": review_count})\n",
    "\n",
    "print(data)"
   ]
  },
  {
   "cell_type": "code",
   "execution_count": null,
   "id": "b02cabb2-6efb-44c3-9df3-bd1f35c53034",
   "metadata": {},
   "outputs": [],
   "source": [
    "# MongoDB 삽입\n",
    "from pymongo import MongoClient\n",
    "\n",
    "client = MongoClient(\"mongodb://localhost:27017\")\n",
    "db = client[\"Mission\"]\n",
    "collection = db.yeogi\n",
    "\n",
    "result = collection.insert_many(data)\n"
   ]
  },
  {
   "cell_type": "markdown",
   "id": "1ea0e1c1-c4c4-4abf-a99a-c0a8ba7d8cd4",
   "metadata": {},
   "source": [
    "##### 여기어때 사이트에서 차단되어서 실행 결과는 확인하지 못했습니다😢"
   ]
  }
 ],
 "metadata": {
  "kernelspec": {
   "display_name": "Python [conda env:base] *",
   "language": "python",
   "name": "conda-base-py"
  },
  "language_info": {
   "codemirror_mode": {
    "name": "ipython",
    "version": 3
   },
   "file_extension": ".py",
   "mimetype": "text/x-python",
   "name": "python",
   "nbconvert_exporter": "python",
   "pygments_lexer": "ipython3",
   "version": "3.13.5"
  }
 },
 "nbformat": 4,
 "nbformat_minor": 5
}
