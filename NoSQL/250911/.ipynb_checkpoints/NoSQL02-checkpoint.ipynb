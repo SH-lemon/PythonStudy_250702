{
 "cells": [
  {
   "cell_type": "code",
   "execution_count": 1,
   "id": "d271c4cc-3403-4858-902d-246e80af2f02",
   "metadata": {},
   "outputs": [
    {
     "name": "stdout",
     "output_type": "stream",
     "text": [
      "Collection(Database(MongoClient(host=['localhost:27017'], document_class=dict, tz_aware=False, connect=True), 'sample_mflix'), 'movies')\n"
     ]
    }
   ],
   "source": [
    "from pymongo import MongoClient\n",
    "\n",
    "client = MongoClient(\"mongodb://localhost:27017\")\n",
    "\n",
    "db = client.sample_mflix\n",
    "movies = db.movies\n",
    "\n",
    "print(movies)"
   ]
  },
  {
   "cell_type": "code",
   "execution_count": 7,
   "id": "78159734-d762-4a1a-a4b4-c65d0cadb35b",
   "metadata": {},
   "outputs": [
    {
     "name": "stdout",
     "output_type": "stream",
     "text": [
      "{'title': 'A Star Is Born'}\n",
      "{'title': 'The Stars Look Down'}\n",
      "{'title': 'A Star Is Born'}\n",
      "{'title': 'The Tin Star'}\n",
      "{'title': 'It Started with a Kiss'}\n"
     ]
    }
   ],
   "source": [
    "# \"Star\"라는 단어가 포함된 영화 제목을 가져오세요.\n",
    "starMovie = movies.find(\n",
    "    {\"title\": {\"$regex\": \".*Star.*\"}}, {\"_id\": 0, \"title\": 1}\n",
    ").limit(5)\n",
    "\n",
    "for s in starMovie :\n",
    "    print(s)"
   ]
  },
  {
   "cell_type": "code",
   "execution_count": 12,
   "id": "fd514f45-d099-4108-a3d1-ae0bdc585bcf",
   "metadata": {},
   "outputs": [
    {
     "name": "stdout",
     "output_type": "stream",
     "text": [
      "{'_id': 'Woody Allen', 'count': 40}\n",
      "{'_id': 'John Ford', 'count': 35}\n",
      "{'_id': 'John Huston', 'count': 34}\n",
      "{'_id': 'Takashi Miike', 'count': 34}\n",
      "{'_id': 'Werner Herzog', 'count': 33}\n",
      "{'_id': 'Martin Scorsese', 'count': 32}\n",
      "{'_id': 'Alfred Hitchcock', 'count': 31}\n",
      "{'_id': 'Sidney Lumet', 'count': 30}\n",
      "{'_id': 'George Cukor', 'count': 29}\n",
      "{'_id': 'Steven Spielberg', 'count': 29}\n",
      "{'_id': 'Mario Monicelli', 'count': 29}\n",
      "{'_id': 'Michael Apted', 'count': 29}\n",
      "{'_id': 'Robert Altman', 'count': 28}\n",
      "{'_id': 'Spike Lee', 'count': 28}\n",
      "{'_id': 'Steven Soderbergh', 'count': 28}\n",
      "{'_id': 'Ken Loach', 'count': 27}\n",
      "{'_id': 'Jean-Luc Godard', 'count': 27}\n",
      "{'_id': 'Clint Eastwood', 'count': 27}\n",
      "{'_id': 'Wim Wenders', 'count': 27}\n",
      "{'_id': 'Johnnie To', 'count': 27}\n",
      "{'_id': 'William Wyler', 'count': 26}\n",
      "{'_id': 'Michael Winterbottom', 'count': 26}\n",
      "{'_id': 'Ingmar Bergman', 'count': 25}\n",
      "{'_id': 'Ridley Scott', 'count': 25}\n"
     ]
    }
   ],
   "source": [
    "# 제작한 영화의 수가 25개 이상인 감독을 출력해주세요.\n",
    "pipeline = [\n",
    "    {\"$unwind\": \"$directors\"},\n",
    "    {\"$group\": {\"_id\": \"$directors\", \"count\": {\"$sum\": 1}}},\n",
    "    {\"$match\": {\"count\": {\"$gte\": 25}}},\n",
    "    {\"$sort\": {\"count\": -1}}\n",
    "]\n",
    "\n",
    "for m in movies.aggregate(pipeline) :\n",
    "    print(m)"
   ]
  },
  {
   "cell_type": "code",
   "execution_count": 20,
   "id": "dce4bf1b-6b89-4d11-89f8-d904056fd8ed",
   "metadata": {},
   "outputs": [
    {
     "name": "stdout",
     "output_type": "stream",
     "text": [
      "{'title': 'Band of Brothers', 'imdb': {'rating': 9.6}}\n",
      "{'title': 'Planet Earth', 'imdb': {'rating': 9.5}}\n",
      "{'title': 'The Civil War', 'imdb': {'rating': 9.4}}\n",
      "{'title': 'The Civil War', 'imdb': {'rating': 9.4}}\n",
      "{'imdb': {'rating': 9.3}, 'title': 'The Shawshank Redemption'}\n"
     ]
    }
   ],
   "source": [
    "# 평점을 기준으로 상위 5개의 영화를 출력하세요. 단, 투표를 1,000표 이상 받은 영화에 한함\n",
    "pipeline = [\n",
    "    {\"$match\": {\"imdb.votes\": {\"$gte\": 1000}}},\n",
    "    {\"$project\": {\"_id\": 0, \"title\": 1, \"imdb.rating\": 1}},\n",
    "    {\"$sort\": {\"imdb.rating\": -1}},\n",
    "    {\"$limit\": 5}\n",
    "]\n",
    "\n",
    "for m in movies.aggregate(pipeline):\n",
    "    print(m)"
   ]
  },
  {
   "cell_type": "code",
   "execution_count": null,
   "id": "dd5de32d-1e2c-4ef5-9af9-4c191c08dbfb",
   "metadata": {},
   "outputs": [],
   "source": []
  }
 ],
 "metadata": {
  "kernelspec": {
   "display_name": "Python [conda env:base] *",
   "language": "python",
   "name": "conda-base-py"
  },
  "language_info": {
   "codemirror_mode": {
    "name": "ipython",
    "version": 3
   },
   "file_extension": ".py",
   "mimetype": "text/x-python",
   "name": "python",
   "nbconvert_exporter": "python",
   "pygments_lexer": "ipython3",
   "version": "3.13.5"
  }
 },
 "nbformat": 4,
 "nbformat_minor": 5
}
