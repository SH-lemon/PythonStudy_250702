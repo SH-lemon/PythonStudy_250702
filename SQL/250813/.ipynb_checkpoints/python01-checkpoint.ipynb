{
 "cells": [
  {
   "cell_type": "code",
   "execution_count": 24,
   "id": "8b509256-8427-4e86-8fbd-9f0e8233be49",
   "metadata": {},
   "outputs": [],
   "source": [
    "import pymysql\n",
    "\n",
    "db = pymysql.connect(\n",
    "    host = \"localhost\",\n",
    "    port = 3306,\n",
    "    user = \"root\",\n",
    "    password = \"tlgus01937\",\n",
    "    db = \"ecommerce_v1\",\n",
    "    charset = \"utf8\"\n",
    ")"
   ]
  },
  {
   "cell_type": "code",
   "execution_count": 5,
   "id": "0edcaf97-672a-49c9-9461-3794c528d78e",
   "metadata": {},
   "outputs": [
    {
     "data": {
      "text/plain": [
       "<pymysql.connections.Connection at 0x1f7cd07b620>"
      ]
     },
     "execution_count": 5,
     "metadata": {},
     "output_type": "execute_result"
    }
   ],
   "source": [
    "db"
   ]
  },
  {
   "cell_type": "code",
   "execution_count": 6,
   "id": "52d8b5a4-6c99-4ce8-82ac-296d3a729376",
   "metadata": {},
   "outputs": [],
   "source": [
    "ecommercev1 = db.cursor()"
   ]
  },
  {
   "cell_type": "code",
   "execution_count": 7,
   "id": "1727d778-dce0-4be3-982a-0d01292c839d",
   "metadata": {},
   "outputs": [
    {
     "data": {
      "text/plain": [
       "<pymysql.cursors.Cursor at 0x1f7cd07a660>"
      ]
     },
     "execution_count": 7,
     "metadata": {},
     "output_type": "execute_result"
    }
   ],
   "source": [
    "ecommercev1"
   ]
  },
  {
   "cell_type": "code",
   "execution_count": 8,
   "id": "1be8302f-4d31-4575-a07f-1ef1f611536d",
   "metadata": {},
   "outputs": [],
   "source": [
    "sql = \"\"\"\n",
    "    CREATE TABLE product(\n",
    "        PRODUCT_CODE VARCHAR(20) PRIMARY KEY NOT NULL,\n",
    "        TITLE VARCHAR(200) NOT NULL,\n",
    "        ORI_PRICE INT,\n",
    "        DISCOUNT_PRICE INT,\n",
    "        DISCOUNT_PERCENT INT,\n",
    "        DELIVERY VARCHAR(2)\n",
    "    );\n",
    "\"\"\""
   ]
  },
  {
   "cell_type": "code",
   "execution_count": 9,
   "id": "bcb6bf84-6552-49f5-955a-69c29585f90a",
   "metadata": {},
   "outputs": [
    {
     "data": {
      "text/plain": [
       "0"
      ]
     },
     "execution_count": 9,
     "metadata": {},
     "output_type": "execute_result"
    }
   ],
   "source": [
    "ecommercev1.execute(sql)"
   ]
  },
  {
   "cell_type": "code",
   "execution_count": 10,
   "id": "9716c954-5b2f-4dc1-b21f-5bdc9a7c3027",
   "metadata": {},
   "outputs": [],
   "source": [
    "db.commit()\n",
    "db.close()"
   ]
  },
  {
   "cell_type": "code",
   "execution_count": 25,
   "id": "63066065-19d0-47f8-8ccc-83e733ab5a47",
   "metadata": {},
   "outputs": [],
   "source": [
    "cursor = db.cursor()"
   ]
  },
  {
   "cell_type": "code",
   "execution_count": 21,
   "id": "2785f6a9-faf7-4c60-8b3c-940ff36ce0c4",
   "metadata": {},
   "outputs": [
    {
     "name": "stdout",
     "output_type": "stream",
     "text": [
      "\n",
      "        INSERT INTO product VALUES(\n",
      "            '215673141',\n",
      "            '스위트바니 여름신상 5900원 ~ 롱원피스/티셔츠/긴팔/반팔',\n",
      "            23000,\n",
      "            6900,\n",
      "            70,\n",
      "            'F'\n",
      "        )\n",
      "    \n",
      "\n",
      "        INSERT INTO product VALUES(\n",
      "            '215673142',\n",
      "            '스위트바니 여름신상 5900원 ~ 롱원피스/티셔츠/긴팔/반팔',\n",
      "            23000,\n",
      "            6900,\n",
      "            70,\n",
      "            'F'\n",
      "        )\n",
      "    \n",
      "\n",
      "        INSERT INTO product VALUES(\n",
      "            '215673143',\n",
      "            '스위트바니 여름신상 5900원 ~ 롱원피스/티셔츠/긴팔/반팔',\n",
      "            23000,\n",
      "            6900,\n",
      "            70,\n",
      "            'F'\n",
      "        )\n",
      "    \n",
      "\n",
      "        INSERT INTO product VALUES(\n",
      "            '215673144',\n",
      "            '스위트바니 여름신상 5900원 ~ 롱원피스/티셔츠/긴팔/반팔',\n",
      "            23000,\n",
      "            6900,\n",
      "            70,\n",
      "            'F'\n",
      "        )\n",
      "    \n",
      "\n",
      "        INSERT INTO product VALUES(\n",
      "            '215673145',\n",
      "            '스위트바니 여름신상 5900원 ~ 롱원피스/티셔츠/긴팔/반팔',\n",
      "            23000,\n",
      "            6900,\n",
      "            70,\n",
      "            'F'\n",
      "        )\n",
      "    \n",
      "\n",
      "        INSERT INTO product VALUES(\n",
      "            '215673146',\n",
      "            '스위트바니 여름신상 5900원 ~ 롱원피스/티셔츠/긴팔/반팔',\n",
      "            23000,\n",
      "            6900,\n",
      "            70,\n",
      "            'F'\n",
      "        )\n",
      "    \n",
      "\n",
      "        INSERT INTO product VALUES(\n",
      "            '215673147',\n",
      "            '스위트바니 여름신상 5900원 ~ 롱원피스/티셔츠/긴팔/반팔',\n",
      "            23000,\n",
      "            6900,\n",
      "            70,\n",
      "            'F'\n",
      "        )\n",
      "    \n",
      "\n",
      "        INSERT INTO product VALUES(\n",
      "            '215673148',\n",
      "            '스위트바니 여름신상 5900원 ~ 롱원피스/티셔츠/긴팔/반팔',\n",
      "            23000,\n",
      "            6900,\n",
      "            70,\n",
      "            'F'\n",
      "        )\n",
      "    \n",
      "\n",
      "        INSERT INTO product VALUES(\n",
      "            '215673149',\n",
      "            '스위트바니 여름신상 5900원 ~ 롱원피스/티셔츠/긴팔/반팔',\n",
      "            23000,\n",
      "            6900,\n",
      "            70,\n",
      "            'F'\n",
      "        )\n",
      "    \n",
      "\n",
      "        INSERT INTO product VALUES(\n",
      "            '215673150',\n",
      "            '스위트바니 여름신상 5900원 ~ 롱원피스/티셔츠/긴팔/반팔',\n",
      "            23000,\n",
      "            6900,\n",
      "            70,\n",
      "            'F'\n",
      "        )\n",
      "    \n"
     ]
    }
   ],
   "source": [
    "for index in range(10) :\n",
    "    product_code = 215673140 + index + 1\n",
    "    SQL = f\"\"\"\n",
    "        INSERT INTO product VALUES(\n",
    "            '{product_code}',\n",
    "            '스위트바니 여름신상 5900원 ~ 롱원피스/티셔츠/긴팔/반팔',\n",
    "            23000,\n",
    "            6900,\n",
    "            70,\n",
    "            'F'\n",
    "        )\n",
    "    \"\"\"\n",
    "    print(SQL)\n",
    "    cursor.execute(SQL)"
   ]
  },
  {
   "cell_type": "code",
   "execution_count": 23,
   "id": "a7323775-663d-4024-8ebc-7b76fcc476dd",
   "metadata": {},
   "outputs": [],
   "source": [
    "db.commit()\n",
    "db.close()"
   ]
  },
  {
   "cell_type": "code",
   "execution_count": null,
   "id": "ccf4fafd-bee5-42e7-af5e-45f8969dc4bc",
   "metadata": {},
   "outputs": [],
   "source": [
    "# fetchall() : 해당 테이블 내 모든 데이터를 가져옵니다.\n",
    "# fetchone() : 매칭되는 해당 값 중 첫번째 값을 가져옵니다.\n",
    "# > 이미 앞에서 먼저 찾아온 값이 존재한다면, 해당 값 이후부터 값을 찾아옵니다.\n",
    "# fetchmany() : 인자값으로 작성된 숫자만큼의 데이터를 가져옵니다."
   ]
  },
  {
   "cell_type": "code",
   "execution_count": 26,
   "id": "fdaf8fd0-7be9-48e2-a704-8265e575f1f8",
   "metadata": {},
   "outputs": [
    {
     "name": "stdout",
     "output_type": "stream",
     "text": [
      "('215673141', '스위트바니 여름신상 5900원 ~ 롱원피스/티셔츠/긴팔/반팔', 23000, 6900, 70, 'F')\n"
     ]
    }
   ],
   "source": [
    "SQL = \"SELECT * FROM product\"\n",
    "cursor.execute(SQL)\n",
    "row = cursor.fetchone()\n",
    "\n",
    "print(row)"
   ]
  },
  {
   "cell_type": "code",
   "execution_count": 28,
   "id": "6914ed53-67db-4929-b426-c5cadc47d4ae",
   "metadata": {},
   "outputs": [
    {
     "name": "stdout",
     "output_type": "stream",
     "text": [
      "(('215673143', '스위트바니 여름신상 5900원 ~ 롱원피스/티셔츠/긴팔/반팔', 23000, 6900, 70, 'F'), ('215673144', '스위트바니 여름신상 5900원 ~ 롱원피스/티셔츠/긴팔/반팔', 23000, 6900, 70, 'F'), ('215673145', '스위트바니 여름신상 5900원 ~ 롱원피스/티셔츠/긴팔/반팔', 23000, 6900, 70, 'F'), ('215673146', '스위트바니 여름신상 5900원 ~ 롱원피스/티셔츠/긴팔/반팔', 23000, 6900, 70, 'F'), ('215673147', '스위트바니 여름신상 5900원 ~ 롱원피스/티셔츠/긴팔/반팔', 23000, 6900, 70, 'F'), ('215673148', '스위트바니 여름신상 5900원 ~ 롱원피스/티셔츠/긴팔/반팔', 23000, 6900, 70, 'F'), ('215673149', '스위트바니 여름신상 5900원 ~ 롱원피스/티셔츠/긴팔/반팔', 23000, 6900, 70, 'F'), ('215673150', '스위트바니 여름신상 5900원 ~ 롱원피스/티셔츠/긴팔/반팔', 23000, 6900, 70, 'F'))\n"
     ]
    }
   ],
   "source": [
    "row = cursor.fetchall()\n",
    "\n",
    "print(row)"
   ]
  },
  {
   "cell_type": "code",
   "execution_count": 29,
   "id": "a96a45e0-9d2c-47e3-a093-20e843db4923",
   "metadata": {},
   "outputs": [],
   "source": [
    "SQL = \"\"\"\n",
    "    UPDATE product SET\n",
    "        TITLE = \"썸머 가디건 코디전\",\n",
    "        ORI_PRICE = 33000,\n",
    "        DISCOUNT_PRICE = 9900,\n",
    "        DISCOUNT_PERCENT = 70\n",
    "    WHERE PRODUCT_CODE = \"215673150\"\n",
    "\"\"\""
   ]
  },
  {
   "cell_type": "code",
   "execution_count": 30,
   "id": "c31bc4f9-e92a-4686-94f0-c0e6ffe6e891",
   "metadata": {},
   "outputs": [
    {
     "data": {
      "text/plain": [
       "1"
      ]
     },
     "execution_count": 30,
     "metadata": {},
     "output_type": "execute_result"
    }
   ],
   "source": [
    "cursor.execute(SQL)"
   ]
  },
  {
   "cell_type": "code",
   "execution_count": 31,
   "id": "c77476db-14f2-4987-90f6-2d9e4404a17a",
   "metadata": {},
   "outputs": [],
   "source": [
    "db.commit()"
   ]
  },
  {
   "cell_type": "code",
   "execution_count": 32,
   "id": "19ecc515-232b-48d0-8ef4-3587e3969e72",
   "metadata": {},
   "outputs": [
    {
     "name": "stdout",
     "output_type": "stream",
     "text": [
      "DELETE FROM product WHERE PRODUCT_CODE = '215673150';\n"
     ]
    }
   ],
   "source": [
    "SQL = \"\"\"DELETE FROM product WHERE PRODUCT_CODE = '215673150';\"\"\"\n",
    "print(SQL)"
   ]
  },
  {
   "cell_type": "code",
   "execution_count": 33,
   "id": "8f46e046-d6e9-4481-b288-8c8eba503b17",
   "metadata": {},
   "outputs": [],
   "source": [
    "cursor.execute(SQL)\n",
    "db.commit()"
   ]
  }
 ],
 "metadata": {
  "kernelspec": {
   "display_name": "Python [conda env:base] *",
   "language": "python",
   "name": "conda-base-py"
  },
  "language_info": {
   "codemirror_mode": {
    "name": "ipython",
    "version": 3
   },
   "file_extension": ".py",
   "mimetype": "text/x-python",
   "name": "python",
   "nbconvert_exporter": "python",
   "pygments_lexer": "ipython3",
   "version": "3.13.5"
  }
 },
 "nbformat": 4,
 "nbformat_minor": 5
}
