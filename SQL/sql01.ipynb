{
 "cells": [
  {
   "cell_type": "markdown",
   "id": "185c51d2-ae04-462e-88d3-4d3266bd392f",
   "metadata": {},
   "source": [
    "### SQL 학습 전 반드시 알고 가야 하는 개념 정의\n",
    "\n",
    "1. 데이터(Data)\n",
    "2. 데이터베이스(Database)\n",
    "3. 스키마(Schema)\n",
    "4. 테이블(Table)\n",
    "5. SQL"
   ]
  },
  {
   "cell_type": "markdown",
   "id": "1cdafada-25f6-4d86-9289-47e03c1d89d1",
   "metadata": {},
   "source": [
    "#### 1. 데이터(data)\n",
    "- 수집 가능한 값, 사실, 기록물 등의 '원초적인 정보'\n",
    "- 숫자: 123, 34, 5\n",
    "- 문자: \"David\", \"2025-07-31\"\n",
    "- 상태: True, False\n",
    "- 데이터 그 자체로는 의미가 부족함 -> 구조화되어야 가치를 가짐"
   ]
  },
  {
   "cell_type": "markdown",
   "id": "bfc3cee5-d9be-4d03-992b-6b5494cee2e5",
   "metadata": {},
   "source": [
    "#### 2. 데이터베이스 (Database = DB)\n",
    "- 여러가지 다양한 데이터를 구조적이고 체계적으로 저장 및 관리할 수 있도록 해주는 저장소\n",
    "- 크게 두 가지 종류로 나누어짐\n",
    "  \\\\\\\n",
    "    = 관계형 데이터베이스(RDBMS) -> Oracle // MySQL\n",
    "  \\\\\\\n",
    "    = 비관계형 데이터베이스(DBMS) -> MongoDB\n",
    " \\\\\\\n",
    "- 오프라인 가게를 운영하는데 일일 고객 주문 정보, 특정 기간동안 사용한 재고 수량 등"
   ]
  },
  {
   "cell_type": "markdown",
   "id": "8436c9d4-7add-40c9-a28e-51f6d7fdb4e9",
   "metadata": {},
   "source": [
    "#### 3. 스키마 (Schema)\n",
    "- 데이터베이스의 구조를 정의한 것\n",
    "- 데이터베이스를 어떻게 구조화할 것인지 정의해놓은 일종의 설계도\n",
    "- 스키마는 데이터베이스 내부에 존재하는 논리적 구조"
   ]
  },
  {
   "cell_type": "markdown",
   "id": "10055da5-6153-4716-b625-785e03046f53",
   "metadata": {},
   "source": [
    "#### 4. 테이블 (Table)\n",
    "- 관계형 데이터베이스 안에 저장된 실제 데이터의 저장 단위\n",
    "- 구성요소\n",
    "      \\\\\\\n",
    "      = 열(Column): 속성(ex. 고객의 나이, 성별, 이메일 등)\n",
    "      \\\\\\\n",
    "      = 행(Row): 레코드 (ex. 한 명의 고객)\n",
    "      \\\\\\"
   ]
  },
  {
   "cell_type": "markdown",
   "id": "c1d2bfcb-c1ac-4344-8ab9-406a4dfdcbb3",
   "metadata": {},
   "source": [
    "#### 5. SQL (Structured Query Language)\n",
    "- 관계형 데이터베이스를 정의, 조작, 제어할 수 있도록 도와주는 표준 언어\n",
    "- DDL (Data Definition Language): CREATE, DROP, ALTER\n",
    "- DML (Data Manipulation Language): SELECT, INSERT, UPDATE, DELETE\n",
    "- DCL (Data Control Lanuguage): GRANT, REVOKE"
   ]
  },
  {
   "cell_type": "markdown",
   "id": "cc953665-8c6a-4e92-b437-9b89da9d94fb",
   "metadata": {},
   "source": [
    "#### 지금까지 설명한 내용에 대한 정리 & 요약\n",
    "\n",
    "- 데이터: 가장 하위 개념. 원초적인 정보\n",
    "- 테이블: 해당 데이터를 담은 (*구조화) 틀\n",
    "- 스키마: 이러한 테이블 간 관계를 정의한 설계도면\n",
    "- 데이터베이스: 스키마의 개념 속에 존재하는 테이블이 포함된 상위 구조 및 개념\n",
    "- SQL: 이 모든 구조를 만들고, 조작하고, 제어할 수 있도록 해주는 언어"
   ]
  },
  {
   "cell_type": "markdown",
   "id": "a52d50d6-ad0f-437f-abfb-9431f14c6120",
   "metadata": {},
   "source": [
    "#### 지금까지 학습했던 데이터 수집 관련 프로그램 정의\n",
    "- 아나콘다(Anaconda) : 파이썬 통합 관리 플랫폼\n",
    "      - 역할: 파이썬 관련 다양한 라이브러리, 실행환경, 패키지 등을 종합적으로 제공해주는 플랫폼\n",
    "- 주피터 노트북 (Jupyter Notebook) : 파이썬 언어 코딩 프로그램\n",
    "- MySQL : 관계형 데이터 베이스 구조 공간을 설계하도록 지원해주는 관계형 데이터베이스 전문 프로그램\n",
    "- MySQL WorkBench : MySQL을 시각적으로 보면서 테이블을 설계하고 각각의 테이블간 관계를 설정할 수 있도록 도와주는 GUI 방식의 보조 프로그램"
   ]
  },
  {
   "cell_type": "markdown",
   "id": "c32c5898-8fac-4d43-806e-1d44d6699584",
   "metadata": {},
   "source": [
    "#### 프로그래밍 영역에서 꼭 알고 있어야 하는 상식\n",
    "모든 프로그램의 기본 기능\n",
    "- C : Create\n",
    "- R : Read\n",
    "- U : Update\n",
    "- D : Delete"
   ]
  },
  {
   "cell_type": "markdown",
   "id": "39e58dc8-eee7-45d8-864f-8c0af0dc0a3d",
   "metadata": {},
   "source": [
    "#### 테이블 생성\n",
    "\\\\\\\n",
    "CREATE TABLE 테이블이름 (\n",
    "\\\\\\\n",
    "    컬럼명 데이터형,\n",
    "    \\\\\\\n",
    "    컬럼명 데이터형,\n",
    "    \\\\\\\n",
    "    ...\n",
    "    \\\\\\\n",
    "    기본키 (*PRIMARY KEY)\n",
    "    \\\\\\\n",
    ");\n"
   ]
  },
  {
   "cell_type": "markdown",
   "id": "8e17f3ba-6308-4b7d-9fac-baf6435eb2c1",
   "metadata": {},
   "source": [
    "1. Dave라는 db 생성\n",
    "2. 해당 db 안에 다음과 같은 속성을 가지고 있는 테이블 생성\n",
    "3. id(양의정수-필수-자동증가), name(최대50자문자열-필수), modelnumber(최대15자문자열-필수), series(최대30자문자열-필수)\n",
    "4. 고유식별키는 id"
   ]
  },
  {
   "cell_type": "markdown",
   "id": "d739a123-c27e-4529-b6f4-aabcff18bb20",
   "metadata": {},
   "source": [
    "name의 최대 입력값을 20으로 변경하고 modelnumber 속성명을 model_number로 변경 & 최대 10자로\n",
    "series 속성명을 model_type으로 바꾸고 최대 10자로"
   ]
  },
  {
   "cell_type": "markdown",
   "id": "c9067777-8cba-4f66-b40d-89d3b22d1915",
   "metadata": {},
   "source": [
    "- 기존데이터베이스 테이블 삭제\n",
    "- model_info라는 신규 테이블 생성\n",
    "- id(고유키, 필수, 자동증가), name(20자, 필수), model_num(10자, 필수), model_type(10자, 필수) 속성값 설정"
   ]
  },
  {
   "cell_type": "markdown",
   "id": "3b1c8f82-d06f-4fbd-af1c-07a26c431b25",
   "metadata": {},
   "source": [
    "#### DDL\n",
    "- CREATE DATABASE dbname\n",
    "- CREATE DATABASE IF NOT EXSITS dbname\n",
    "- SHOW DATABASE\n",
    "- USE DATABASE\n",
    "- CREATE TABLE tablename\n",
    "- DROP TABLE tablename\n",
    "- DROP TABLE IF EXISTS tablename\n",
    "- ALTER TABLE tablename ADD COLUMN 속성명 속성값\n",
    "- ALTER TABLE tablename MODIFY COLUMN 속성명 속성값\n",
    "- ALTER TABLE tablename CHANGE COLUMN 속성명 신규속성명 속성값\n",
    "- ALTER TABLE tablename DROP COLUMN 속성명"
   ]
  },
  {
   "cell_type": "markdown",
   "id": "22d63b27-5249-49d3-9c9b-392b125e9029",
   "metadata": {},
   "source": [
    "#### DML"
   ]
  }
 ],
 "metadata": {
  "kernelspec": {
   "display_name": "Python [conda env:base] *",
   "language": "python",
   "name": "conda-base-py"
  },
  "language_info": {
   "codemirror_mode": {
    "name": "ipython",
    "version": 3
   },
   "file_extension": ".py",
   "mimetype": "text/x-python",
   "name": "python",
   "nbconvert_exporter": "python",
   "pygments_lexer": "ipython3",
   "version": "3.13.5"
  }
 },
 "nbformat": 4,
 "nbformat_minor": 5
}
