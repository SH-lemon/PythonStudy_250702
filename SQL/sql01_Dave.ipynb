{
 "cells": [
  {
   "cell_type": "markdown",
   "id": "dc35dade-2edd-453e-a2bd-742d669d3c5b",
   "metadata": {},
   "source": [
    "### SQL 학습 전, 반드시 알고가야하는 개념정의\n",
    "1. 데이터 (Data)\n",
    "2. 데이터베이스 (Database)\n",
    "3. 스키마 (Schema)\n",
    "4. 테이블 (Table)\n",
    "5. SQL"
   ]
  },
  {
   "cell_type": "markdown",
   "id": "c506151f-0b32-4200-8149-9dd7e6ed390a",
   "metadata": {},
   "source": [
    "#### 1. 데이터 (Data)\n",
    "- 수집 가능한 값, 사실, 기록물 등의 \"원초적인 정보\"\n",
    "- 숫자 : 23, 5.9\n",
    "- 문자 : \"David\", \"2025-07-31\"\n",
    "- 상태 : True, False\n",
    "- 데이터 그 자체로는 의미가 부족 -> 구조화가 되어야 데이터는 비로소 가치를 갖게 됨"
   ]
  },
  {
   "cell_type": "markdown",
   "id": "374c5331-1a8b-48a9-b5f8-e198166d1cb1",
   "metadata": {},
   "source": [
    "#### 2. 데이터베이스 (Database = DB)\n",
    "- 여러가지 다양한 데이터를 구조적이고 체계적으로 저장 및 관리할 수 있도록 해주는 저장소\n",
    "- 종류\n",
    "  - 관계형 데이터베이스 (RDBMS -> Oracle // MySQL)\n",
    "  - 비관계형 데이터베이스 (DMBS -> MongoDB)\n",
    "- 오프라인 가게를 운영하는데 일일 고객 주문정보, 특정 기간동안 사용한 재고 수량 등"
   ]
  },
  {
   "cell_type": "markdown",
   "id": "0ef20dbf-212b-4fee-a49f-429d7070d2a8",
   "metadata": {},
   "source": [
    "#### 3.스키마 (Schema)\n",
    "- 데이터베이스의 구조를 정의한 것\n",
    "- 데이터베이스를 어떻게 구조화할 것인지를 정의해놓은 일종의 설계도\n",
    "- 스키마는 데이터베이스 내부에 존재하는 논리적 구조"
   ]
  },
  {
   "cell_type": "markdown",
   "id": "8e6593e7-7e83-4145-863f-8a338ec43307",
   "metadata": {},
   "source": [
    "#### 4. 테이블 (Table)\n",
    "- 관계형 데이터베이스 안에 저장된 실제 데이터의 저장 단위\n",
    "- 구성요소\n",
    "  - 열 (Column) = 속성 (ex. 고객의 나이, 성별, 이메일 등)\n",
    "  - 행 (Row) = 레코드 (ex. 한 명의 고객)"
   ]
  },
  {
   "cell_type": "markdown",
   "id": "caabe497-8bf0-4cda-b2b9-b70d858ab2c0",
   "metadata": {},
   "source": [
    "#### 5. SQL (Structured Query Language)\n",
    "- 관계형 데이터베이스를 정의, 조작, 제어 할 수 있도록 도와주는 표준 언어\n",
    "- 종류\n",
    "  - DDL(Data Definition Language) : CREATE, DROP, ALTER\n",
    "  - DML(Data Manipulation Language) : SELECT, INSERT, UPDATE, DELETE\n",
    "  - DCL(Data Control Language) : GRANT, REVOKE"
   ]
  },
  {
   "cell_type": "markdown",
   "id": "ec8c61f5-70c2-452c-8a98-dedf437ead78",
   "metadata": {},
   "source": [
    "#### 지금까지 설명한 내용에 대한 정리 & 요약\n",
    "\n",
    "- 데이터 : 가장 하위 개념. 원초적인 정보 의미\n",
    "- 테이블 : 해당 데이터를 담은 (*구조화) 틀\n",
    "- 스키마 : 이러한 테이블 간 관계를 정의한 설계도면\n",
    "- 데이터베이스 : 스키마의 개념 속에 존재하는 테이블이 포함된 상위 구조 및 개념\n",
    "- SQL : 이 모든 구조를 만들고, 조작하고, 제어할 수 있도록 해주는 언어"
   ]
  },
  {
   "cell_type": "markdown",
   "id": "d4fcce39-cfe7-490a-8f36-c5d14fae51c0",
   "metadata": {},
   "source": [
    "#### 지금까지 학습했던 데이터 수집 관련 프로그램 정의\n",
    "- 아나콘다 (Anaconda) : 파이썬 통합 관리 플랫폼\n",
    "  - 역할 : 파이썬 관련 다양한 라이브러리, 실행환경, 패키지 등을 종합적으로 제공해주는 플랫폼\n",
    "- 쥬피터 노트북 (Jupyter Notebook) : 파이썬 언어 코딩 프로그램\n",
    "- MySQL : 관계형 데이터 베이스 구조 공간을 설계하도록 지원해주는 관계형데이터 베이스 전문 프로그램\n",
    "- MySQL WorkBench : MySQL을 시각적으로 보면서 테이블을 설계하고 각각의 테이블간 관계를 설정할 수 있도록 도와주는 GUI방식의 보조 프로그램"
   ]
  },
  {
   "cell_type": "markdown",
   "id": "f219ebfb-26d0-448d-af7a-90ce65a5d77e",
   "metadata": {},
   "source": [
    "#### 프로그래밍 영역에서 꼭 알고 있어야 하는 상식\n",
    "- C : Create\n",
    "- R : Read\n",
    "- U : Update\n",
    "- D : Delete"
   ]
  },
  {
   "cell_type": "markdown",
   "id": "c2650c86-27a0-4de4-ab7b-b20be82579e2",
   "metadata": {},
   "source": [
    "#### 테이블 생성\n",
    "\n",
    "```\n",
    "CREATE TABLE 테이블이름 (\n",
    "    컬럼명 데이터형,\n",
    "    컬럼명 데이터형\n",
    "    ...\n",
    "    기본키 (*PRIMARY KEY)\n",
    ")\n",
    "```"
   ]
  },
  {
   "cell_type": "markdown",
   "id": "b14121f4-ee57-4597-a639-77e5d97e08ef",
   "metadata": {},
   "source": [
    "1. Dave 라는 DB 생성\n",
    "2. 해당 DB안에 다음과 같은 속성을 가지고 있는 테이블을 생성하세요.\n",
    "3. id, name, modelnumber, series\n",
    "4. id는 양의 정수값 & 필수값 & 자동증가\n",
    "5. name은 최대 50자까지 가능한 문자열 & 필수값\n",
    "6. modelnumber는 최대 15자까지 가능한 문자열 & 필수값\n",
    "7. series는 최대 30자까지 가능한 문자열 & 필수값\n",
    "8. 고유식별키는 id"
   ]
  },
  {
   "cell_type": "markdown",
   "id": "5d987630-d92b-41e0-b321-24638f48ab61",
   "metadata": {},
   "source": [
    "1. name의 최대 문자입력 값을 20으로 변경\n",
    "2. modelnumber 속성명을 model_number로 변경 & 최대 10자까지로 변경\n",
    "3. series 속성명을 model_type으로 변경 & 최대 10자까지로 변경"
   ]
  },
  {
   "cell_type": "markdown",
   "id": "01290195-3665-4829-ac49-0e3b72bedb1c",
   "metadata": {},
   "source": [
    "1. 기존 데이터베이스 내 mytable을 삭제하세요.\n",
    "2. model_info 라는 새로운 테이블을 만들어주세요.\n",
    "3. 해당 테이블 안에는 id, name, model_num, model_type의 속성값을 설정해주세요.\n",
    "4. 고유키는 id여야 하며, 필수값, 자동증가 속성 부여해주세요.\n",
    "5. name은 최대 20자까지 허용가능, 필수\n",
    "6. model_num는 최대 10자까지 허용가능, 필수\n",
    "7. model_type은 최대 10자까지 허용가능, 필수"
   ]
  },
  {
   "cell_type": "markdown",
   "id": "60052a21-d363-464e-a375-60878c79e67a",
   "metadata": {},
   "source": [
    "### DDL\n",
    "- CREATE DATABASE dbname\n",
    "- CREATE DATABASE IF NOT EXISTS dbname\n",
    "- DROP DATABASE dbname\n",
    "- DROP DATABASE IF EXISTS dbname;\t\n",
    "- SHOW DATABASES\n",
    "- USE dbname\n",
    "- CREATE TABLE tablename\n",
    "- CREATE TABLE IF NOT EXISTS tablename\t\n",
    "- DROP TABLE tablename\n",
    "- DROP TABLE IF EXISTS tablename\n",
    "- ALTER TABLE tablename ADD COLUMN 속성명 속성값;\n",
    "- ALTER TABLE tablename MODIFY COLUMN 속성명 속성값;\n",
    "- ALTER TABLE tablename CHANGE COLUMN 속성명A 속성명B 속성값;\n",
    "- ALTER TABLE tablename DROP COLUMN 속성명;"
   ]
  },
  {
   "cell_type": "markdown",
   "id": "017a459a-3e3a-4ac4-ae4c-c58ce0b4d7e0",
   "metadata": {},
   "source": [
    "### DML\n",
    "- INSERT INTO tablename VALUES(Field Value, Field Value, Field Value, Field Value);\n",
    "- INSERT INTO tablename (Field, Field, Field) VALUES (Field Value, Field Value, Field Value);\n",
    "```\n",
    "- INSERT INTO tablename (Field, Field, Field) VALUES\n",
    "    (Field Value, Field Value, Field Value),\n",
    "    (Field Value, Field Value, Field Value);\n",
    "```\n",
    "- DESC tablename\n",
    "- SELECT * FROM tablename;\n",
    "- SELECT column FROM tablename;\n",
    "- SELECT column, column FROM tablename;\n",
    "- SELECT * FROM tablename WHERE column = value;\n",
    "- \"=\" / \">\" / \"!=\" / <>\n",
    "- SELECT * FROM tablename WHERE column >= value AND column = value;\n",
    "- SELECT * FROM tablename WHERE column >= value OR column = value;\n",
    "- SELECT * FROM tablename WHERE name LIKE \"%value%\";\n",
    "- SELECT * FROM tablename WHERE name LIKE \"_value_\";\n",
    "- UPDATE tablename SET column = value;\n",
    "- UPDATE tablename SET column = value, column = value WHERE primarykey = value; #Safe Mode\n",
    "- DELETE FROM tablename;\n",
    "- DELETE FROM tablename WHERE primarykey = value;"
   ]
  },
  {
   "cell_type": "markdown",
   "id": "93b7de58-791a-4516-8674-fc76e1386004",
   "metadata": {},
   "source": [
    "### DCL\n",
    "* USE mysql => 현재 존재하는 사용자 정보 확인\n",
    "* SELECT host, user FROM user; => 사용자별 세부 권한 확인\n",
    "\n",
    "CREATE USER \"사용자이름@사용자권한범위(*localhost)\"\n",
    "IDENTIFIED BY \"패스워드\"\n",
    "\n",
    "* 사용권한범위: localhost // %\n",
    "* SET PASSWORD FOR \"사용자이름\"@\"권한범위\" = \"변경하고 싶은 패스워드\" => 패스워드 변경 시\n",
    "* DROP USER \"사용자이름\"@\"권한범위\""
   ]
  },
  {
   "cell_type": "markdown",
   "id": "b3a4dbfa-1b65-4a46-828a-70ea7f89396b",
   "metadata": {},
   "source": [
    "## 회원 정보 관리 시스템을 구축하기 위한 멤버십 DB를 하나 만들어주세요.\n",
    "- DB 안에는 1개의 테이블이 존재합니다.\n",
    "- 해당 테이블 내 각각의 레코드 안에는 회원 번호, 이름, 이메일, 생년월일, 가입일시, 포인트, 성별 이 반드시 속성으로 포함되어있어야 합니다.\n",
    "- 최소 3명의 회원 정보가 삽입되어있도록 임의로 데이터를 적용해주세요.\n",
    "- 해당 DB 및 테이블이 모두 설계되었다면, 고객 포인트가 1000 이상인 회원만 조회할 수 있도록 코드를 작성해주세요.\n",
    "- 이메일 도메인이 @google.com인 사람만 조회할 수 있도록 코드를 작성해주세요."
   ]
  },
  {
   "cell_type": "markdown",
   "id": "3fd54ea9-54be-4dfa-bb7a-136f2b93a3e3",
   "metadata": {},
   "source": [
    "#### SELECT 문법:\n",
    "* LIMIT: 가져올 수 있는 데이터 중 일부만 가져오고 싶을 때\n",
    "* COUNT(*집계함수) : 데이터의 총 개수를 확인하고 싶을 때\n",
    "* DISTINCT : 특정 값을 가져올 때, 중복된 값을 출력하지 않고 싶을 때 -> 범주형 데이터\n",
    "* SUM : 해당 컬럼값의 합계 -> 수치형 데이터\n",
    "* AVG : 해당 컬럼값의 평균 -> 수치형 데이터\n",
    "* MAX : 해당 컬럼값의 최댓값 -> 수치형 데이터\n",
    "* MIN : 해당 컬럼값의 최소값 -> 수치형 데이터\n",
    "* GROUP BY : 특정 컬럼값을 기반으로 그룹핑하기\n",
    "      - SELECT rating FROM film GROUP BY rating -> film이라는 테이블에서 rating값을 찾아오되, 해당 값을 그룹화하여 찾아와라.\n",
    "      - SELECT COUNT(*) FROM film GROUP BY rating -> 각 rating 값의 종류별로 몇 개의 데이터가 있는지 확인하라.\n",
    "      - SELECT COUNT(*) FROM film WHERE 조건문 GROUP BY rating -> 특정 조건에 맞는 데이터 중 rating 값의 종류별로 몇 개의 데이터가 있는지 확인하라.\n",
    "* ORDER BY : 특정 컬럼값을 기준으로 데이터를 정렬 (*오름차순 ASC, 내림차순 DESC)\n",
    "* 만약 desc, asc 중 어느 값을 입력하지 않는다면 기본 디폴트 값은 asc정렬로 실행\n",
    "\n",
    "  ```\n",
    "  SELECT 컬럼명\n",
    "  FROM 테이블명\n",
    "  WHERE 조건절\n",
    "  GROUP BY 컬럼\n",
    "  ORDER BY 컬럼\n",
    "  LIMIT 출력개수\n",
    "  ```"
   ]
  },
  {
   "cell_type": "markdown",
   "id": "7c8539ed-7fc1-4dd3-b69a-7556f1b8ab01",
   "metadata": {},
   "source": [
    "## Data 대분류 리스트 :\n",
    "1) 수치형 데이터 : (1,2,1.1 등) -> 해당 수치값이 각각 고유한 의미\n",
    "2) 범주형 데이터 : (남/여, 미성년/성인 등) -> 중복값 제거해야 하는 경우가 많음"
   ]
  },
  {
   "cell_type": "markdown",
   "id": "772ed220-96c3-40a9-a149-ad11f6d3995e",
   "metadata": {},
   "source": [
    "#### SQL 중급 단계\n",
    "1. FOREIGN KEY (외래 키) <-> PRIMARY KEY (고유 키)\n",
    "2. HAVING\n",
    "   - HAVING절을 활용해서 조건 비교!!\n",
    "   - WHERE절을 활용해서도 조건 비교가 가능한데, 왜 굳이 HAVING절이 필요할까?\n",
    "   - 특정 테이블 내 데이터를 그룹핑하는 GROUP BY를 적용한 상태에서 집계함수가 포함된 조건식을 사용하려고 할 때, 반드시 HAVING절을 사용해야 함\n",
    "3. JOIN\n",
    "   - 1개의 테이블에 지나치게 방대한 데이터를 몰아넣는 경우는 없음\n",
    "   - 복수의 테이블을 관리하는 경우가 빈번 -> 각각의 테이블간 연결고리를 foreign key 만들어놓고, 해당 테이블간 연결하는 경우가 많음\n",
    "   - 서로 다른 테이블을 하나의 연결된 테이블로 활용 -> JOIN\n",
    "     \n",
    "   - INNER JOIN : 서로 다른 테일블간 매칭되는 데이터에 한해서 해당 데이터 기준으로 연결 (INNER 수식어 생략 가능)\n",
    "   - 서로 다른 테이블을 하나로 연결하기 위해서는 어떤 데이터를 기준으로 연결할지의 물음에 답해야 한다 -> ON\n",
    "   - OUTER JOIN : 서로 매칭되지 않는 데이터도 모두 찾아옴! (*상대적으로 많이 사용하지 않음)\n",
    "         - LEFT OUTER JOIN : 먼저 언급된 (*Left data = 부모데이터)를 기준으로 다른 테이블을 연결, 자식데이터에 부모데이터와 매칭되지 않는 데이터가 존재하더라도 해당 데이터를 누락시키지 않고 찾아옴\n",
    "         - RIGHT OUTER JOIN : 자식데이터를 기준으로 다른 테이블을 연결, 매칭되지 않는 데이터들을 누락시키지 않고 모두 찾아옴\n",
    "4. SubQuery\n",
    "   - SQL문 안에 포함되어 있는 SQL문 => 중첩 SQL문\n",
    "5. INDEX\n",
    "   - 파이썬 > 리스트 > 리스트 자료구조 내부에 있는 아이템들에게 각각 인덱스값 부여\n",
    "   - SQL 구문을 활용해서 컬럼 안에 입력되어있는 데이터들에게 개별적인 인덱스값을 부여 -> 값을 서칭해서 찾아오는 빈도 잦음 -> 효율적\n",
    "   - 인덱스 종류\n",
    "         - 클러스터형 인덱스 : 영어 사전과 같은 형태로 데이터를 정렬한다고 생각하면 됨 ex.Primary KEY // Foreign Key // Unique\n",
    "         - 보조 인덱스 : 데이터는 그대로 둔 상태에서 마치 책 끝부분에 있는 찾아보기 색인 페이지와 같은 형태\n",
    "         - ALTER TABLE userTbl ADD CONSTRAINT TESTDate UNIQUE(mDate);\n",
    "         - CREATE INDEX idx_birth ON userTbl(birthYear);\n",
    "         - ALTER TABLE userTbl ADD INDEX idx_addr(addr);\n",
    "         - ALTER TABLE userTbl DROP INDEX idx_addr; # 보조인덱스 삭제\n",
    "         - SHOW INDEX FROM customers; # 테이블에서 인덱스 확인"
   ]
  },
  {
   "cell_type": "markdown",
   "id": "1ceb0b0e-8661-4b09-a846-f53a25b4f94e",
   "metadata": {},
   "source": [
    "#### 무신사 브랜드에서 사용할 거 같은 느낌으로 Table 생성 -> 마케터의 관점에서 어떻게 사용하면 좋을까?\n",
    "- 고객 테이블 (*고객 정보를 가지고 있는 데이터 -> 나이, 성별, 주소, 이메일, 전화번호)\n",
    "- 상품 테이블 (*상품 정보를 가지고 있는 데이터 -> 재고, 메인카테고리, 서브카테고리, 상품가격, 할인가격할인률 등)\n",
    "- 주문 테이블 (*주문 정보를 가지고 있는 데이터 -> 주문수량, 주문한 날짜, 외래 키 -> 고객 & 상품)\n",
    "- 리뷰 테이블 (*리뷰 정보를 가지고 있는 데이터 -> 평점, 리뷰 내용, 리뷰 작성 날짜, 외래 키 -> 고객 & 상품)"
   ]
  },
  {
   "cell_type": "markdown",
   "id": "6b711306-984b-4c1f-879f-7a6a03be7889",
   "metadata": {},
   "source": [
    "## 데이터 분석 마케터\n",
    "- 자사 매출 증대를 목표 -> 마케팅\n",
    "- 회원들의 등급을 파악하고 해당 등급에 따른 차별화된 CRM 마케팅을 해야겠다는 생각\n",
    "- 회원등급별 인원수 -> 가장 많은 등급에 속해있는 사용자들을 분석해서 페르소나화 해야겠다\n",
    "- 결론 : 회원등급별 인원수 출력\n",
    "\n",
    "- 자사몰에서 상품을 판매중 -> 꾸준하게 잘 판매되고 있는 상품과 그렇지 않은 상품을 구분\n",
    "- 잘 판매되고 있는 상품은 지속적으로 신규고객 및 충성고객 확보를 목표로\n",
    "- 판매 실적이 좋지 않은 상품은 단종 || 리뉴얼 -> 재고 관리\n",
    "- 결론 : 상품별 평균평점 출력\n",
    "\n",
    "- OKR, KPI, NSM\n",
    "- NSM 지표에 의거하여 월별 주문건수가 00건 이하로 나오면 위기 // 000건 이상이 나오면 긍정\n",
    "- 현재 시점을 기준으로 최근 1개월 간 전체 주문 건수를 확인\n",
    "- 결론 : 최근 30일 이내에 주문된 전체 총 건수를 확인"
   ]
  },
  {
   "cell_type": "markdown",
   "id": "17e5a1a5-0be6-48db-835a-ff7d468b23e3",
   "metadata": {},
   "source": [
    "#### Python & MySQL (feat.SQL)"
   ]
  },
  {
   "cell_type": "markdown",
   "id": "3d76ef19-c551-4648-8f3a-bbc0aba0d908",
   "metadata": {},
   "source": [
    "- pip install pymysql\n",
    "- 패턴코드 (Pattern Code)\n",
    "  - Python에서 정해진 패턴을 활용해서 SQL 문법 실행"
   ]
  },
  {
   "cell_type": "markdown",
   "id": "1521448f-622b-4fe3-9adc-560d5b71a92e",
   "metadata": {},
   "source": [
    "### MySQL 중.고급 문법 및 단계"
   ]
  },
  {
   "cell_type": "markdown",
   "id": "ae246c77-5b0a-44a0-b09f-5a687812d9ce",
   "metadata": {},
   "source": [
    "- 다양한 SQL 함수\n",
    "  문자열 함수 :\n",
    "  1) LENGTH(string) : 문자의 길이를 반환하는 함수 \n",
    "  2) UPPER(string) : 특정 문자를 대문자로 반환시켜주는 함수\n",
    "  3) LOWER(string) : 특정 문자를 소문자로 반환시켜주는 함수\n",
    "  4) CONCAT(string1, string2...) : 복수의 문자열을 하나로 연결하는 함수\n",
    "  5) SUBSTRING(string, start, ) : 문자열에서 일부 문자열만 추출해주는 함수\n",
    " - 날짜/시간 함수 :\n",
    "  1) NOW() : 현재 날짜와 시간을 반환하는 함수\n",
    "  2) CURDATE() : 현재 날짜를 반환하는 함수\n",
    "  3) CURTIME() : 현재 시간을 반환하는 함수\n",
    "  4) DATE_ADD(date, INTERVAL 간격) : 특정 날짜에서 간격을 추가해주는 함수\n",
    "    - MONTH / DAY / HOUR / MINUTE / SECOND\n",
    "  6) DATE_SUB() : 특정 날짜에서 간격을 빼주는 함수\n",
    "     - unit type : MONTH / DAY / HOUR / MINUTE / SECOND\n",
    "  7) EXTRACT(추출해오고자 하는 값 = field FROM 추출하고자 하는 대상 = source)\n",
    "  8) YEAR(), MONTH(), DAY(), HOUR(), MINUTE(), SECOND()\n",
    "  9) DAYOFWEEK() : 특정 날짜의 요일을 반환 -> 1요일 = 일요일 // 7요일 = 토요일\n",
    "  10) DATE_FORMAT() : 형식지정자로 값을 받아서 요일을 출력할 수 있음 -> %W(Monday), %a(Mon)\n",
    "      - %Y : 4자리 연도 2025\n",
    "      - %y : 연도의 마지막 2자리 25\n",
    "      - %M : 영문 월 June\n",
    "      - %m : 영문 월 2자리 숫자 06\n",
    "      - %c : 월을 1자리 숫자로 1 2 3 4\n",
    "      - %D : 일을 숫자 + 영문 접미사로 1st, 4th\n",
    "      - %d : 일을 2자리 숫자로 23, 15\n",
    "      - %H : 시간을 24시간 형식의 두 자리로 표기\n",
    "      - %h : 시간을 12시간 형식의 두자리 숫자로 표기 12, 01\n",
    "      - %i : 분을 두자리 숫자로 표기\n",
    "      - %s : 초를 두자리 숫자로 표기\n",
    "  12) TIMESTAMPDIFF(unit, start_datetime, end_datetime) : 두 날짜 혹은 시간 값의 차이를 계산할 때 사용하는 함수\n",
    "      - unit type : MONTH / DAY / HOUR / MINUTE / SECOND\n",
    "  13) ABS(number) : Absolute : 절대적인 -> 절대값을 추출\n",
    "  14) CEIL(number) : 올림처리\n",
    "  15) FLOOR(number) : 내림처리\n",
    "  16) ROUND(number) : 반올림처리 -> ROUND(숫자 A, 숫자B) -> 숫자 B가 최종적인 반올림의 결과값이 되도록\n",
    "  17) SQRT(number) : 해당 숫자의 제곱근을 반환하는 함수\n",
    "      \n",
    "- SubQuery 고급활용 : SQL 쿼리문 안에 또다른 SQL 쿼리문을 넣는 것\n",
    "  - 기본적으로 서브쿼리는 최근 문법인 JOIN ON 이라는 문법으로 대체 가능\n",
    "  - 신문법에서는 JOIN ON -> JOIN USING\n",
    "  - 하지만, 서브쿼리를 여전히 메인 문법으로 사용하고 있는 조직 존재\n",
    "  - 과거 문법이어도 충분히 인지해야하는 경우가 빈번하게 발생하기 때문에 꼭 학습\n",
    "    1. 서브쿼리는 특정 테이블의 필드값을 어떤 조건 하에 다른 테이블과 연결하여 값을 찾아와야 하는 경우에 굉장히 많이 사용\n",
    "    2. 서브쿼리를 FROM절에서 사용할 때에는 반드시 AS 구문 사용\n",
    "    3. 상관 서브쿼리: 기존 서브쿼리와 달리, 데이터를 참조하고자 하는 테이블이 동일한 경우, 해당 테이블을 사용하는 위치에 따라 상위에 있는 테이블을 참조할 수도 있는데, 이 상황을 상관 서브쿼리라고 부름\n",
    "- 집합 연산자\n",
    "  - 합집합 : 서로 다른 집합을 하나로 합쳐서 사용할 때 -> 서로 다른 테이블을 하나로 합쳐서 사용할 때\n",
    "    - UNION : 서로 다른 테이블을 하나로 결합할 때, 중복된 행은 제거!\n",
    "    - UNION ALL : 서로 다른 테이블을 하나로 결합할 때, 중복된 행까지 모두 포함\n",
    "  - 교집합 : 서로 다른 집합의 공통 집합을 추출할 때\n",
    "    - INTERSECTION : 서로 다른 테이블의 공통 부분만 추출할 때\n",
    "  - 차집합 : 서로 다른 테이블을 놓고 결합할 때, 어느 한쪽 영역에만 속해있는 부분만 가져올 때\n",
    "    - EXCEPT : 서로 다른 테이블 결합 시, 어느 한쪽 데이터만 찾아오고 싶을 때\n",
    "\n",
    "- Transaction / COMMIT / ROLLBACK\n",
    "  - 이미 만들어져있는 DB > Table 존재 -> TABLE 안에 값을 수정하고 싶음 -> WHERE 조건을 기준으로 값을 수정 깜빡!\n",
    "  - START TRANSACTION; -> 해당 명령어가 존재한다면, 데이터 수정 후 돌아갈 수 있는 환경을 세팅\n",
    "  - ROLLBACK; -> START TRANSACTION; 이 존재한다는 전제 하에, 데이터 편집 전 단계로 돌려주는 명령어\n",
    "  - COMMIT; -> 해당 명령어를 입력 및 싫애하는 순간, 임시저장공간에 있던 데이터를 실제 데이터에 적용!\n",
    "    (*COMMIT 이후에는 롤백 불가능)\n",
    "- VIEW\n",
    "- WITH\n",
    "- CASE WHEN\n",
    "- GROUP_CONCAT()\n",
    "- 고급 윈도우 함수"
   ]
  }
 ],
 "metadata": {
  "kernelspec": {
   "display_name": "Python [conda env:base] *",
   "language": "python",
   "name": "conda-base-py"
  },
  "language_info": {
   "codemirror_mode": {
    "name": "ipython",
    "version": 3
   },
   "file_extension": ".py",
   "mimetype": "text/x-python",
   "name": "python",
   "nbconvert_exporter": "python",
   "pygments_lexer": "ipython3",
   "version": "3.13.5"
  }
 },
 "nbformat": 4,
 "nbformat_minor": 5
}
